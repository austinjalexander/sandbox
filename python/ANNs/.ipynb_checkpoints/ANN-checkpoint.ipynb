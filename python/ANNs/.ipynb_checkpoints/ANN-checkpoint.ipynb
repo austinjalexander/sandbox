{
 "cells": [
  {
   "cell_type": "code",
   "execution_count": 15,
   "metadata": {},
   "outputs": [
    {
     "name": "stdout",
     "output_type": "stream",
     "text": [
      "Random weight initializations:\n",
      "[[-0.16595599]\n",
      " [ 0.44064899]\n",
      " [-0.99977125]]\n",
      "Trained weights:\n",
      "[[ 9.67299303]\n",
      " [-0.2078435 ]\n",
      " [-4.62963669]]\n",
      "Prediction test:\n",
      "[0.99993704] --> 1\n"
     ]
    }
   ],
   "source": [
    "import numpy as np\n",
    "\n",
    "# Based on Siraj's NN.\n",
    "class NeuralNetwork():\n",
    "    def __init__(self):\n",
    "        np.random.seed(1)\n",
    "        \n",
    "        self.weights = 2 * np.random.random((3,1)) - 1\n",
    "        \n",
    "    def __sigmoid(self, x):\n",
    "        return 1/(1 + np.exp(-x))\n",
    "    \n",
    "    def __sigmoid_derivative(self, x):\n",
    "        return x * (1 - x)\n",
    "    \n",
    "    def train(self, training_set, training_labels, num_iterations):\n",
    "        for i in range(num_iterations):\n",
    "            predictions = self.predict(training_set)\n",
    "            \n",
    "            error = training_labels - predictions\n",
    "            \n",
    "            adjustments = np.dot(training_set.T, error * self.__sigmoid_derivative(predictions))\n",
    "            \n",
    "            self.weights += adjustments\n",
    "    \n",
    "    def predict(self, inputs):\n",
    "        return self.__sigmoid(np.dot(inputs, self.weights))\n",
    "        \n",
    "\n",
    "nn = NeuralNetwork()\n",
    "\n",
    "print('Random weight initializations:')\n",
    "print(nn.weights)\n",
    "\n",
    "training_set = np.array([\n",
    "    [0,0,1],\n",
    "    [1,1,1],\n",
    "    [1,0,1],\n",
    "    [0,1,1]\n",
    "])\n",
    "\n",
    "training_labels = np.array([\n",
    "    [\n",
    "        0,\n",
    "        1,\n",
    "        1,\n",
    "        0\n",
    "    ]\n",
    "]).T\n",
    "\n",
    "nn.train(training_set, training_labels, num_iterations=10000)\n",
    "\n",
    "print('Trained weights:')\n",
    "print(nn.weights)\n",
    "\n",
    "print('Prediction test:')\n",
    "prediction = nn.predict(np.array([1,0,0]))\n",
    "print(prediction, '-->', int(np.rint(prediction)[0]))"
   ]
  }
 ],
 "metadata": {
  "kernelspec": {
   "display_name": "Python 3",
   "language": "python",
   "name": "python3"
  },
  "language_info": {
   "codemirror_mode": {
    "name": "ipython",
    "version": 3
   },
   "file_extension": ".py",
   "mimetype": "text/x-python",
   "name": "python",
   "nbconvert_exporter": "python",
   "pygments_lexer": "ipython3",
   "version": "3.6.5"
  }
 },
 "nbformat": 4,
 "nbformat_minor": 2
}
