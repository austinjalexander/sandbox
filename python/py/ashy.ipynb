{
 "cells": [
  {
   "cell_type": "code",
   "execution_count": 259,
   "metadata": {
    "collapsed": false
   },
   "outputs": [],
   "source": [
    "import numpy as np\n",
    "import pandas as pd\n",
    "import matplotlib\n",
    "from matplotlib import pyplot as plt\n",
    "%matplotlib inline"
   ]
  },
  {
   "cell_type": "code",
   "execution_count": 260,
   "metadata": {
    "collapsed": false
   },
   "outputs": [],
   "source": [
    "df = pd.read_csv('ashy.csv')"
   ]
  },
  {
   "cell_type": "code",
   "execution_count": 261,
   "metadata": {
    "collapsed": false
   },
   "outputs": [
    {
     "data": {
      "text/html": [
       "<div style=\"max-height:1000px;max-width:1500px;overflow:auto;\">\n",
       "<table border=\"1\" class=\"dataframe\">\n",
       "  <thead>\n",
       "    <tr style=\"text-align: right;\">\n",
       "      <th></th>\n",
       "      <th>Date</th>\n",
       "      <th>Lab Test</th>\n",
       "      <th>Lab Results</th>\n",
       "      <th>Evaluation</th>\n",
       "      <th>Lab Range</th>\n",
       "      <th>Location</th>\n",
       "    </tr>\n",
       "  </thead>\n",
       "  <tbody>\n",
       "    <tr>\n",
       "      <th>0</th>\n",
       "      <td>05-09-15</td>\n",
       "      <td>Platelet Count (PLT)</td>\n",
       "      <td>220.000 10^3/µl</td>\n",
       "      <td>Normal</td>\n",
       "      <td>200.000 - 500.000 10^3/µl</td>\n",
       "      <td>Cambridge</td>\n",
       "    </tr>\n",
       "    <tr>\n",
       "      <th>1</th>\n",
       "      <td>05-09-15</td>\n",
       "      <td>Nucleated RBC</td>\n",
       "      <td>0.000</td>\n",
       "      <td>Negative</td>\n",
       "      <td>NaN</td>\n",
       "      <td>Cambridge</td>\n",
       "    </tr>\n",
       "    <tr>\n",
       "      <th>2</th>\n",
       "      <td>05-09-15</td>\n",
       "      <td>Rouleau  Formation - RBC</td>\n",
       "      <td>0.000</td>\n",
       "      <td>Negative</td>\n",
       "      <td>NaN</td>\n",
       "      <td>Cambridge</td>\n",
       "    </tr>\n",
       "    <tr>\n",
       "      <th>3</th>\n",
       "      <td>05-09-15</td>\n",
       "      <td>RBC Morphology</td>\n",
       "      <td>0.000</td>\n",
       "      <td>Normal</td>\n",
       "      <td>NaN</td>\n",
       "      <td>Cambridge</td>\n",
       "    </tr>\n",
       "    <tr>\n",
       "      <th>4</th>\n",
       "      <td>05-09-15</td>\n",
       "      <td>Platelet Count (PLT)</td>\n",
       "      <td>220.000 10^3/µl</td>\n",
       "      <td>Normal</td>\n",
       "      <td>200.000 - 500.000 10^3/µl</td>\n",
       "      <td>Cambridge</td>\n",
       "    </tr>\n",
       "  </tbody>\n",
       "</table>\n",
       "</div>"
      ],
      "text/plain": [
       "       Date                  Lab Test      Lab Results Evaluation  \\\n",
       "0  05-09-15      Platelet Count (PLT)  220.000 10^3/µl     Normal   \n",
       "1  05-09-15             Nucleated RBC            0.000   Negative   \n",
       "2  05-09-15  Rouleau  Formation - RBC            0.000   Negative   \n",
       "3  05-09-15            RBC Morphology            0.000     Normal   \n",
       "4  05-09-15      Platelet Count (PLT)  220.000 10^3/µl     Normal   \n",
       "\n",
       "                   Lab Range   Location  \n",
       "0  200.000 - 500.000 10^3/µl  Cambridge  \n",
       "1                        NaN  Cambridge  \n",
       "2                        NaN  Cambridge  \n",
       "3                        NaN  Cambridge  \n",
       "4  200.000 - 500.000 10^3/µl  Cambridge  "
      ]
     },
     "execution_count": 261,
     "metadata": {},
     "output_type": "execute_result"
    }
   ],
   "source": [
    "df.head()"
   ]
  },
  {
   "cell_type": "code",
   "execution_count": 262,
   "metadata": {
    "collapsed": false
   },
   "outputs": [
    {
     "data": {
      "text/plain": [
       "Date           object\n",
       "Lab Test       object\n",
       "Lab Results    object\n",
       "Evaluation     object\n",
       "Lab Range      object\n",
       "Location       object\n",
       "dtype: object"
      ]
     },
     "execution_count": 262,
     "metadata": {},
     "output_type": "execute_result"
    }
   ],
   "source": [
    "df.dtypes"
   ]
  },
  {
   "cell_type": "code",
   "execution_count": 263,
   "metadata": {
    "collapsed": true
   },
   "outputs": [],
   "source": [
    "ex_range_tests = ['BUN', 'Phosphorus (PHOS)', 'Creatinine (CREA)', 'Cholesterol (CHOL)', 'Calcium (CA)', 'Hematocrit (HCT)', 'MCV']"
   ]
  },
  {
   "cell_type": "code",
   "execution_count": 264,
   "metadata": {
    "collapsed": false
   },
   "outputs": [],
   "source": [
    "ex_range_df = df.loc[df['Lab Test'].isin(ex_range_tests)]"
   ]
  },
  {
   "cell_type": "code",
   "execution_count": 265,
   "metadata": {
    "collapsed": false
   },
   "outputs": [],
   "source": [
    "ex_range_df.loc[:,'Range Max'] = ex_range_df.loc[:,'Lab Range']"
   ]
  },
  {
   "cell_type": "code",
   "execution_count": 266,
   "metadata": {
    "collapsed": true
   },
   "outputs": [],
   "source": [
    "ex_range_df = ex_range_df.replace(to_replace={ 'Range Max' : {\"\\d*.\\d*\\s-\\s\" : ''} }, regex=True)"
   ]
  },
  {
   "cell_type": "code",
   "execution_count": 267,
   "metadata": {
    "collapsed": false
   },
   "outputs": [],
   "source": [
    "ex_range_df = ex_range_df.replace(to_replace={ 'Lab Results' : {\"\\s.*\" : ''}, 'Range Max' : {\"\\s.*\" : ''} }, regex=True)"
   ]
  },
  {
   "cell_type": "code",
   "execution_count": 268,
   "metadata": {
    "collapsed": false
   },
   "outputs": [],
   "source": [
    "ex_range_df['Lab Results'] = ex_range_df['Lab Results'].astype('float')"
   ]
  },
  {
   "cell_type": "markdown",
   "metadata": {},
   "source": [
    "Questions: hyperthyroidism? anaemia? high cholesterol"
   ]
  },
  {
   "cell_type": "code",
   "execution_count": 269,
   "metadata": {
    "collapsed": false
   },
   "outputs": [],
   "source": [
    "ex_range_df['Date'] = pd.to_datetime(ex_range_df['Date'])"
   ]
  },
  {
   "cell_type": "code",
   "execution_count": 270,
   "metadata": {
    "collapsed": false
   },
   "outputs": [],
   "source": [
    "ex_range_df = ex_range_df.sort('Date')"
   ]
  },
  {
   "cell_type": "code",
   "execution_count": 271,
   "metadata": {
    "collapsed": false
   },
   "outputs": [
    {
     "data": {
      "text/html": [
       "<div style=\"max-height:1000px;max-width:1500px;overflow:auto;\">\n",
       "<table border=\"1\" class=\"dataframe\">\n",
       "  <thead>\n",
       "    <tr style=\"text-align: right;\">\n",
       "      <th></th>\n",
       "      <th>Date</th>\n",
       "      <th>Lab Test</th>\n",
       "      <th>Lab Results</th>\n",
       "      <th>Evaluation</th>\n",
       "      <th>Lab Range</th>\n",
       "      <th>Location</th>\n",
       "      <th>Range Max</th>\n",
       "    </tr>\n",
       "  </thead>\n",
       "  <tbody>\n",
       "    <tr>\n",
       "      <th>572</th>\n",
       "      <td>2009-11-07</td>\n",
       "      <td>BUN</td>\n",
       "      <td>28.00</td>\n",
       "      <td>Normal</td>\n",
       "      <td>16.000 - 36.000 mg/dL</td>\n",
       "      <td>Cambridge</td>\n",
       "      <td>36.000</td>\n",
       "    </tr>\n",
       "    <tr>\n",
       "      <th>560</th>\n",
       "      <td>2009-11-07</td>\n",
       "      <td>MCV</td>\n",
       "      <td>49.00</td>\n",
       "      <td>Normal</td>\n",
       "      <td>39.000 - 50.000 fl</td>\n",
       "      <td>Cambridge</td>\n",
       "      <td>50.000</td>\n",
       "    </tr>\n",
       "    <tr>\n",
       "      <th>536</th>\n",
       "      <td>2010-05-04</td>\n",
       "      <td>Hematocrit (HCT)</td>\n",
       "      <td>44.76</td>\n",
       "      <td>Normal</td>\n",
       "      <td>25.000 - 45.000 %</td>\n",
       "      <td>Cambridge</td>\n",
       "      <td>45.000</td>\n",
       "    </tr>\n",
       "    <tr>\n",
       "      <th>527</th>\n",
       "      <td>2010-05-04</td>\n",
       "      <td>BUN</td>\n",
       "      <td>27.00</td>\n",
       "      <td>Normal</td>\n",
       "      <td>16.000 - 36.000 mg/dL</td>\n",
       "      <td>Cambridge</td>\n",
       "      <td>36.000</td>\n",
       "    </tr>\n",
       "    <tr>\n",
       "      <th>540</th>\n",
       "      <td>2010-05-04</td>\n",
       "      <td>MCV</td>\n",
       "      <td>51.00</td>\n",
       "      <td>Above Normal</td>\n",
       "      <td>39.000 - 50.000 fl</td>\n",
       "      <td>Cambridge</td>\n",
       "      <td>50.000</td>\n",
       "    </tr>\n",
       "  </tbody>\n",
       "</table>\n",
       "</div>"
      ],
      "text/plain": [
       "          Date          Lab Test  Lab Results    Evaluation  \\\n",
       "572 2009-11-07               BUN        28.00        Normal   \n",
       "560 2009-11-07               MCV        49.00        Normal   \n",
       "536 2010-05-04  Hematocrit (HCT)        44.76        Normal   \n",
       "527 2010-05-04               BUN        27.00        Normal   \n",
       "540 2010-05-04               MCV        51.00  Above Normal   \n",
       "\n",
       "                 Lab Range   Location Range Max  \n",
       "572  16.000 - 36.000 mg/dL  Cambridge    36.000  \n",
       "560     39.000 - 50.000 fl  Cambridge    50.000  \n",
       "536      25.000 - 45.000 %  Cambridge    45.000  \n",
       "527  16.000 - 36.000 mg/dL  Cambridge    36.000  \n",
       "540     39.000 - 50.000 fl  Cambridge    50.000  "
      ]
     },
     "execution_count": 271,
     "metadata": {},
     "output_type": "execute_result"
    }
   ],
   "source": [
    "ex_range_df.head()"
   ]
  },
  {
   "cell_type": "code",
   "execution_count": 272,
   "metadata": {
    "collapsed": false
   },
   "outputs": [
    {
     "data": {
      "image/png": "[encoded data removed]",
      "text/plain": [
       "<matplotlib.figure.Figure at 0x110c335d0>"
      ]
     },
     "metadata": {},
     "output_type": "display_data"
    },
    {
     "data": {
      "image/png": "[encoded data removed]",
      "text/plain": [
       "<matplotlib.figure.Figure at 0x110c33110>"
      ]
     },
     "metadata": {},
     "output_type": "display_data"
    },
    {
     "data": {
      "image/png": "[encoded data removed]",
      "text/plain": [
       "<matplotlib.figure.Figure at 0x110967d90>"
      ]
     },
     "metadata": {},
     "output_type": "display_data"
    },
    {
     "data": {
      "image/png": "[encoded data removed]",
      "text/plain": [
       "<matplotlib.figure.Figure at 0x110f41f50>"
      ]
     },
     "metadata": {},
     "output_type": "display_data"
    },
    {
     "data": {
      "image/png": "[encoded data removed]",
      "text/plain": [
       "<matplotlib.figure.Figure at 0x110c33490>"
      ]
     },
     "metadata": {},
     "output_type": "display_data"
    },
    {
     "data": {
      "image/png": "[encoded data removed]",
      "text/plain": [
       "<matplotlib.figure.Figure at 0x11132c690>"
      ]
     },
     "metadata": {},
     "output_type": "display_data"
    },
    {
     "data": {
      "image/png": "[encoded data removed]",
      "text/plain": [
       "<matplotlib.figure.Figure at 0x110ce8790>"
      ]
     },
     "metadata": {},
     "output_type": "display_data"
    }
   ],
   "source": [
    "for test in ex_range_tests:\n",
    "    test_df = ex_range_df[ex_range_df['Lab Test'] == test][['Date', 'Lab Results', 'Range Max']]\n",
    "    plt.axhline(y=max(test_df['Range Max']), color='r')\n",
    "    plt.plot(test_df['Date'], test_df['Lab Results'])\n",
    "    plt.title(test)\n",
    "    plt.show()"
   ]
  }
 ],
 "metadata": {
  "kernelspec": {
   "display_name": "Python 2",
   "language": "python",
   "name": "python2"
  },
  "language_info": {
   "codemirror_mode": {
    "name": "ipython",
    "version": 2
   },
   "file_extension": ".py",
   "mimetype": "text/x-python",
   "name": "python",
   "nbconvert_exporter": "python",
   "pygments_lexer": "ipython2",
   "version": "2.7.10"
  }
 },
 "nbformat": 4,
 "nbformat_minor": 0
}
