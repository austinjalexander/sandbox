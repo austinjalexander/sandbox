{
 "metadata": {
  "name": "",
  "signature": "sha256:d985b5456cc8c8af5f69d048e309d95a497943bf5583478533cd10d4a8c14fb9"
 },
 "nbformat": 3,
 "nbformat_minor": 0,
 "worksheets": [
  {
   "cells": [
    {
     "cell_type": "markdown",
     "metadata": {},
     "source": [
      "#Logistic Regression \n",
      "\n",
      "##predict admission of student (Ng ML Example 2, part 1)\n",
      "\n",
      "> Suppose that you are the administrator of a university department \n",
      "> and you want to determine each applicant's chance of admission based on\n",
      "> their results on two exams. You have historical data from previous \n",
      "> applicants that you use as a training set for logistic regression. \n",
      "> For each training example, you have the applicant's scores on two exams\n",
      "> and the admissions decision.\n",
      "\n",
      "> Your task is to build a classifcation model that estimates \n",
      "> an applicant's probability of admission based on the scores \n",
      "> from those two exams."
     ]
    },
    {
     "cell_type": "code",
     "collapsed": false,
     "input": [
      "import numpy as np\n",
      "import scipy as sp\n",
      "import pandas as pd\n",
      "import matplotlib.pyplot as plt\n",
      "%matplotlib inline\n",
      "\n",
      "# import data\n",
      "data = pd.read_csv('mlclass-ex2/ex2data1.txt', header=None)"
     ],
     "language": "python",
     "metadata": {},
     "outputs": [],
     "prompt_number": 1
    },
    {
     "cell_type": "markdown",
     "metadata": {},
     "source": [
      "##Visualize the Data"
     ]
    },
    {
     "cell_type": "code",
     "collapsed": false,
     "input": [
      "# separate classes\n",
      "negative = data[data[2] == 0]\n",
      "positive = data[data[2] == 1]\n",
      "\n",
      "# visualize the training data\n",
      "plt.xlabel('Exam 1 score')\n",
      "plt.ylabel('Exam 2 score')\n",
      "plt.scatter(positive[0],positive[1], \n",
      "            marker='+', color='b', label=\"admitted\")\n",
      "plt.scatter(negative[0],negative[1], \n",
      "            marker='o', color='y', label=\"rejected\")\n",
      "plt.legend(loc=1)\n",
      "plt.show()"
     ],
     "language": "python",
     "metadata": {},
     "outputs": [
      {
       "metadata": {},
       "output_type": "display_data",
       "png": "[encoded data removed]",
       "text": [
        "<matplotlib.figure.Figure at 0x1122bc510>"
       ]
      }
     ],
     "prompt_number": 2
    },
    {
     "cell_type": "markdown",
     "metadata": {},
     "source": [
      "##Implementation\n",
      "\n",
      "###logistic regression hypothesis\n",
      "$h_{\\theta}(x) = g(\\theta^{T}x)$\n",
      "\n",
      "where $g$ is the sigmoid function, defined as: $g(z) = \\frac{1}{1+e^{-z}}$"
     ]
    },
    {
     "cell_type": "code",
     "collapsed": false,
     "input": [
      "# hypothesis, sigmoid function\n",
      "def g(z):\n",
      "    #return np.true_divide((1.0),(1.0 + np.exp(-z)))\n",
      "    return sp.special.expit(z)"
     ],
     "language": "python",
     "metadata": {},
     "outputs": [],
     "prompt_number": 3
    },
    {
     "cell_type": "markdown",
     "metadata": {},
     "source": [
      "####interpretation\n",
      "$h_{\\theta}(x) = P(y = 1 \\mid x; \\theta)$\n",
      "\n",
      "$P(y = 0 \\mid x; \\theta) = 1 - P(y = 1 \\mid x; \\theta)$\n",
      "\n",
      "$h_{\\theta}(x) \\geq 0.5 \\rightarrow y = 1$, when $\\theta^{T}x \\geq 0$\n",
      "\n",
      "$h_{\\theta}(x) < 0.5 \\rightarrow y = 0$, when $\\theta^{T}x < 0$\n",
      "\n",
      "$g(z) \\geq 0.5$ when $z \\geq 0$"
     ]
    },
    {
     "cell_type": "markdown",
     "metadata": {},
     "source": [
      "###data and parameters"
     ]
    },
    {
     "cell_type": "code",
     "collapsed": false,
     "input": [
      "# initial data vectors\n",
      "x_1 = data[0].values\n",
      "x_2 = data[1].values\n",
      "y = data[2].values\n",
      "\n",
      "# training sample size\n",
      "m = data[0].count()\n",
      "\n",
      "# number of features\n",
      "n = 2\n",
      "\n",
      "# proper vector shapes\n",
      "x_1.shape = (m,1)\n",
      "x_2.shape = (m,1)\n",
      "y.shape = (m,1)\n",
      "\n",
      "# Feature Scaling\n",
      "# mean normalization (necessary for minimization not to return NaNs)\n",
      "xbar_1 = np.mean(x_1)\n",
      "xbar_2 = np.mean(x_2)\n",
      "\n",
      "s_1 = np.std(x_1)\n",
      "s_2 = np.std(x_2)\n",
      "\n",
      "x_1 = np.true_divide((np.subtract(x_1,xbar_1)),s_1)\n",
      "x_2 = np.true_divide((np.subtract(x_2,xbar_2)),s_2)\n",
      "\n",
      "# design matrix\n",
      "X = np.hstack((np.ones((m,1)),x_1,x_2))\n",
      "\n",
      "# theta parameters \n",
      "theta = np.zeros(((n+1),1))"
     ],
     "language": "python",
     "metadata": {},
     "outputs": [],
     "prompt_number": 15
    },
    {
     "cell_type": "markdown",
     "metadata": {},
     "source": [
      "###cost function for logistic regression\n",
      "$J(\\theta) = \\frac{1}{m}\\sum\\limits_{i=0}^{m-1}[-y^{(i)}\\log(h_{\\theta}(x^{(i)})) - (1 - y^{(i)})\\log(1 - h_{\\theta}(x^{(i)}))]$\n",
      "\n",
      "####vectorized implementation\n",
      "$J(\\theta) = -\\frac{1}{m}[\\log(g(X\\theta))^{T}y + \\log(1 - g(X\\theta))^{T}(1 - y)]$"
     ]
    },
    {
     "cell_type": "code",
     "collapsed": false,
     "input": [
      "# cost function\n",
      "def J(theta):\n",
      "    return (-1.0/m) * ( ((sp.log(g(X.dot(theta)))).T.dot(y)) + (sp.log(1.0 - g(X.dot(theta)))).T.dot(1.0 - y) )"
     ],
     "language": "python",
     "metadata": {},
     "outputs": [],
     "prompt_number": 5
    },
    {
     "cell_type": "markdown",
     "metadata": {},
     "source": [
      "###gradient of the cost  \n",
      "(a vector of the same length as $\\theta$ where the $j$-th element (for $j = 0, 1, ..., n$) is defined as:  \n",
      "$\\frac{\\partial J(\\theta)}{\\partial\\theta_{j}} = \\frac{1}{m}\\sum\\limits_{i=0}^{m-1}(h_{\\theta}(x^{(i)}) - y^{(i)}) \\cdot x_{j}^{(i)}$"
     ]
    },
    {
     "cell_type": "markdown",
     "metadata": {},
     "source": [
      "$\\frac{\\partial}{\\partial\\theta_{j}} J(\\theta) = \\frac{\\partial}{\\partial\\theta_{j}} \\big(-\\frac{1}{m}\\big[\\sum\\limits_{i=0}^{m-1}y^{(i)}\\log{h_{\\theta}(x^{(i)})} + (1 - y^{(i)})\\log{(1 - h_{\\theta}(x^{(i)}))}\\big]\\big)$"
     ]
    },
    {
     "cell_type": "markdown",
     "metadata": {},
     "source": [
      "####vectorized implementation\n",
      "Jacobian matrix:  \n",
      "$\\delta = \n",
      "\\begin{bmatrix}\n",
      "\\delta_{0} \\\\\n",
      "\\delta_{1} \\\\\n",
      "\\delta_{2} \\\\\n",
      "... \\\\\n",
      "\\delta_{n}\n",
      "\\end{bmatrix}$\n",
      "\n",
      "$\\delta_{j} = \\frac{1}{m}\\sum\\limits_{i=0}^{m-1}[g(\\theta^{T}X^{(i)}) - y^{(i)}] \\cdot X_{j}^{(i)}$"
     ]
    },
    {
     "cell_type": "code",
     "collapsed": false,
     "input": [
      "# delta-vector function for derivatives\n",
      "def deltas(theta):\n",
      "    delta = np.zeros(((n+1),1))\n",
      "    for j in xrange(0,(n+1)):\n",
      "        summation = 0\n",
      "        for i in xrange(0,m):\n",
      "            summation += ((g(theta.T.dot(X[i])) - y[i]) * X[i][j])\n",
      "        \n",
      "        delta[j] = (1.0/m) * summation\n",
      "        \n",
      "    return delta.flatten()"
     ],
     "language": "python",
     "metadata": {},
     "outputs": [],
     "prompt_number": 6
    },
    {
     "cell_type": "markdown",
     "metadata": {},
     "source": [
      "####Broyden-Fletcher-Goldfarb-Shanno algorithm"
     ]
    },
    {
     "cell_type": "code",
     "collapsed": false,
     "input": [
      "# BFGS\n",
      "import scipy.optimize as op\n",
      "\n",
      "# gradient estimated\n",
      "solution = op.minimize(J, theta)\n",
      "print \"\\nSOLUTION (gradient estimated)\"\n",
      "print solution\n",
      "\n",
      "theta = np.zeros(((n+1),1))\n",
      "\n",
      "# gradient provided\n",
      "solution = op.minimize(J, theta, jac=deltas)\n",
      "print \"\\nSOLUTION (gradient provided)\"\n",
      "print solution"
     ],
     "language": "python",
     "metadata": {},
     "outputs": [
      {
       "output_type": "stream",
       "stream": "stdout",
       "text": [
        "\n",
        "SOLUTION (gradient estimated)\n",
        "   status: 0\n",
        "  success: True\n",
        "     njev: 20\n",
        "     nfev: 100\n",
        " hess_inv: array([[ 29.40694069,  32.30972939,  30.69199453],\n",
        "       [ 32.30972939,  81.74339359,  68.18432055],\n",
        "       [ 30.69199453,  68.18432055,  71.86286667]])\n",
        "      fun: 0.2034977023502629\n",
        "        x: array([ 1.71835754,  3.99274776,  3.72493591])\n",
        "  message: 'Optimization terminated successfully.'\n",
        "      jac: array([ -1.70059502e-06,   7.15814531e-06,  -8.22544098e-06])\n",
        "\n",
        "SOLUTION (gradient provided)"
       ]
      },
      {
       "output_type": "stream",
       "stream": "stdout",
       "text": [
        "\n",
        "   status: 0\n",
        "  success: True\n",
        "     njev: 20\n",
        "     nfev: 20\n",
        " hess_inv: array([[ 29.40326034,  32.30420959,  30.68662265],\n",
        "       [ 32.30420959,  81.73684341,  68.17882459],\n",
        "       [ 30.68662265,  68.17882459,  71.85824921]])\n",
        "      fun: 0.2034977023511548\n",
        "        x: array([ 1.71835728,  3.99274735,  3.7249355 ])\n",
        "  message: 'Optimization terminated successfully.'\n",
        "      jac: array([ -1.70629953e-06,   7.15289452e-06,  -8.22913014e-06])\n"
       ]
      }
     ],
     "prompt_number": 7
    },
    {
     "cell_type": "code",
     "collapsed": false,
     "input": [
      "# final values\n",
      "theta = solution.x\n",
      "print \"\\nFinal theta parameters: \" + str(theta)\n",
      "J = solution.fun\n",
      "print \"\\nFinal J cost: \" + str(J)"
     ],
     "language": "python",
     "metadata": {},
     "outputs": [
      {
       "output_type": "stream",
       "stream": "stdout",
       "text": [
        "\n",
        "Final theta parameters: [ 1.71835728  3.99274735  3.7249355 ]\n",
        "\n",
        "Final J cost: 0.203497702351\n"
       ]
      }
     ],
     "prompt_number": 8
    },
    {
     "cell_type": "code",
     "collapsed": false,
     "input": [
      "# visualize the training data as a sigmoid function \n",
      "# with final theta parameters\n",
      "plt.scatter(X.dot(theta),g(X.dot(theta)))\n",
      "plt.show()"
     ],
     "language": "python",
     "metadata": {},
     "outputs": [
      {
       "metadata": {},
       "output_type": "display_data",
       "png": "[encoded data removed]",
       "text": [
        "<matplotlib.figure.Figure at 0x112383a90>"
       ]
      }
     ],
     "prompt_number": 9
    },
    {
     "cell_type": "markdown",
     "metadata": {},
     "source": [
      "###Plot the Decision Boundary\n",
      "\n",
      "$g(z) \\geq 0.5$ when $z \\geq 0$  \n",
      "thus: $g(\\theta^{T}x) \\geq 0.5$, whenever $\\theta^{T}x \\geq 0$\n",
      "\n",
      "####decision boundary equation\n",
      "$\\theta^{T}x = \\theta_{0}x_{0} + \\theta_{1}x_{1} + \\theta_{2}x_{2} = 0$ \n",
      "\n",
      "[$x_{0} = 1$ and, if using values for $x_{1}$, solve for $x_{2}$]  \n",
      "$\\theta_{0} + \\theta_{1}x_{1} + \\theta_{2}x_{2} = 0$  \n",
      "$\\theta_{1}x_{1} + \\theta_{2}x_{2} = -\\theta_{0}$  \n",
      "$\\theta_{2}x_{2} =  -\\theta_{1}x_{1} - \\theta_{0}$  \n",
      "$x_{2} = \\frac{1}{\\theta_{2}} (-\\theta_{1}x_{1} - \\theta_{0})$  \n",
      "$x_{2} = -\\frac{1}{\\theta_{2}} (\\theta_{1}x_{1} + \\theta_{0})$"
     ]
    },
    {
     "cell_type": "code",
     "collapsed": false,
     "input": [
      "# visualize the training data\n",
      "plt.xlabel('Exam 1 score')\n",
      "plt.ylabel('Exam 2 score')\n",
      "for i in xrange(0,m):\n",
      "    if (y[i] == 1):\n",
      "        plt.scatter(X[i,1],X[i,2], marker='+', color='b')\n",
      "    else:\n",
      "        plt.scatter(X[i,1],X[i,2], marker='o', color='y')\n",
      "        \n",
      "x1_dec_bound = np.array([[np.min(X[:,1])], [np.max(X[:,1])]])\n",
      "x2_dec_bound = (-1.0/theta[2])*(theta[1]*x1_dec_bound + theta[0])\n",
      "plt.plot(x1_dec_bound, x2_dec_bound, label=\"dec. bound.\", color='r')\n",
      "\n",
      "plt.legend(loc=1)\n",
      "plt.show()"
     ],
     "language": "python",
     "metadata": {},
     "outputs": [
      {
       "metadata": {},
       "output_type": "display_data",
       "png": "[encoded data removed]",
       "text": [
        "<matplotlib.figure.Figure at 0x113e40090>"
       ]
      }
     ],
     "prompt_number": 10
    },
    {
     "cell_type": "markdown",
     "metadata": {},
     "source": [
      "##Make a Single Prediction"
     ]
    },
    {
     "cell_type": "code",
     "collapsed": false,
     "input": [
      "# predict admission of student\n",
      "x = np.array([[1.0],\n",
      "              [45],\n",
      "              [85]])\n",
      "\n",
      "# mean normalize (unnecessary if using the normal equation method)\n",
      "x[1] = np.true_divide((np.subtract(x[1],xbar_1)),s_1)\n",
      "x[2] = np.true_divide((np.subtract(x[2],xbar_2)),s_2)\n",
      "\n",
      "# compute and display prediction\n",
      "y_hat = g(theta.T.dot(x))\n",
      "print \"\\nAdmission probability if exam1=45 and exam2=85: \" + str(y_hat) + \"\\n\""
     ],
     "language": "python",
     "metadata": {},
     "outputs": [
      {
       "output_type": "stream",
       "stream": "stdout",
       "text": [
        "\n",
        "Admission probability if exam1=45 and exam2=85: [ 0.77624668]\n",
        "\n"
       ]
      }
     ],
     "prompt_number": 11
    },
    {
     "cell_type": "markdown",
     "metadata": {},
     "source": [
      "##Test Model (Fitted Parameters) Using Training Set\n",
      "\n",
      "###Correct Predictions"
     ]
    },
    {
     "cell_type": "code",
     "collapsed": false,
     "input": [
      "# test/count correct predictions\n",
      "correct_predictions = 0\n",
      "for i in xrange(0,m):\n",
      "    if (np.round(g(theta.T.dot(X[i]))) == y[i]):\n",
      "        correct_predictions += 1\n",
      "\n",
      "print \"\\nTotal training examples: \" + str(m)\n",
      "print \"\\nTotal correct predictions: \" + str(correct_predictions) + \" (\" + str((correct_predictions * 1.0/m)*100) + \"% accurate)\""
     ],
     "language": "python",
     "metadata": {},
     "outputs": [
      {
       "output_type": "stream",
       "stream": "stdout",
       "text": [
        "\n",
        "Total training examples: 100\n",
        "\n",
        "Total correct predictions: 89 (89.0% accurate)\n"
       ]
      }
     ],
     "prompt_number": 12
    },
    {
     "cell_type": "markdown",
     "metadata": {},
     "source": [
      "###Show Incorrect Predictions"
     ]
    },
    {
     "cell_type": "code",
     "collapsed": false,
     "input": [
      "# get original exam scores\n",
      "exam1 = data[0].values\n",
      "exam2 = data[1].values\n",
      "\n",
      "# display incorrect predictions\n",
      "for i in xrange(0,m):\n",
      "    if (np.round(g(theta.T.dot(X[i]))) != y[i]):\n",
      "        print \"Exam1: \" + str(exam1[i]) + \", Exam2: \" + str(exam2[i])\n",
      "        plt.scatter(exam1[i],exam2[i], color='r')\n",
      "        \n",
      "# visualize\n",
      "plt.xlabel('Exam 1 score')\n",
      "plt.ylabel('Exam 2 score')\n",
      "plt.show()"
     ],
     "language": "python",
     "metadata": {},
     "outputs": [
      {
       "output_type": "stream",
       "stream": "stdout",
       "text": [
        "Exam1: 75.0247455674, Exam2: 46.5540135412\n",
        "Exam1: 95.8615550709, Exam2: 38.225278058"
       ]
      },
      {
       "output_type": "stream",
       "stream": "stdout",
       "text": [
        "\n",
        "Exam1: 69.0701440628, Exam2: 52.7404697302\n",
        "Exam1: 93.1143887974, Exam2: 38.8006703371\n",
        "Exam1: 52.0454047683, Exam2: 69.4328601205\n",
        "Exam1: 33.9155001091, Exam2: 98.8694357422\n",
        "Exam1: 82.3687537571, Exam2: 40.6182551597\n",
        "Exam1: 32.5772001681, Exam2: 95.5985476139\n",
        "Exam1: 82.2266615779, Exam2: 42.7198785372\n",
        "Exam1: 57.2387063157, Exam2: 59.5142819801\n",
        "Exam1: 55.34001756, Exam2: 64.9319380069\n"
       ]
      },
      {
       "metadata": {},
       "output_type": "display_data",
       "png": "[encoded data removed]",
       "text": [
        "<matplotlib.figure.Figure at 0x113e42110>"
       ]
      }
     ],
     "prompt_number": 13
    }
   ],
   "metadata": {}
  }
 ]
}