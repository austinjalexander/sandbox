{
 "metadata": {
  "name": "",
  "signature": "sha256:b9912427881d372ccb82d7c7fe1a9d526a63a44dad338f2648dbd479a153bcdc"
 },
 "nbformat": 3,
 "nbformat_minor": 0,
 "worksheets": [
  {
   "cells": [
    {
     "cell_type": "code",
     "collapsed": false,
     "input": [
      "from IPython.display import Math\n",
      "import matplotlib.pyplot as plt\n",
      "#from pylab import * #MATLAB-like API\n",
      "%matplotlib inline"
     ],
     "language": "python",
     "metadata": {},
     "outputs": [],
     "prompt_number": 14
    },
    {
     "cell_type": "markdown",
     "metadata": {},
     "source": [
      "##Linear Program (LP): A Type of Optimization Problem: \n",
      "\n",
      "decision variables: $$x_{1}, x_{2}, x_{3}, x_{4}$$\n",
      "\n",
      "goal: find values for decision variables\n",
      "\n",
      "another goal, maximize this objective function: $$2x_{1} + 3x_{2} + -x_{3} + x_{4}$$\n",
      "\n",
      "which is linear (i.e., no exponentials, trig functions, etc), so a linear program\n",
      "\n",
      "linear functions are built as summations of terms where each term is either a constant or a variable * a constant\n",
      "\n",
      "maximize subject to some constraints (linear equalities or inequalities; linear left-hand side, constant right-hand side):\n",
      "\n",
      "subject to:\n",
      "$$x_{1} - x_{2} \\leq 10$$\n",
      "$$2x_{1} + x_{2} - x_{3} \\geq -5$$\n",
      "$$-x_{2} + x_{4} = 4$$\n",
      "\n",
      "\n",
      "\n",
      "*m* = number of training examples\n",
      "\n",
      "*x*'s = \"input\" variable/features\n",
      "\n",
      "*y*'s = \"output\" variable/\"target\" variable\n",
      "\n",
      "(*x*, *y*) = a single training example\n",
      "\n",
      "(*x*<sup>(*i*)</sup>, *y*<sup>(*i*)</sup>) = *i*-th training example\n"
     ]
    },
    {
     "cell_type": "markdown",
     "metadata": {},
     "source": [
      "####Basics of how it works:\n",
      "\n",
      "first: Training set -> Learning Algorithm -> h (hypothesis: maps x's to y's)\n",
      "\n",
      "then: x -> h -> y (an estimated value for y)\n",
      "\n",
      "how to represent h: $$h_{\\theta}(x) = \\theta_{0} + \\theta_{1}$$\n",
      "\n",
      "shorthand: $$h(x)$$\n",
      "\n",
      "h is simply a linear function\n",
      "\n",
      "univariate linear regression / linear regression with one variable (x)\n",
      "\n"
     ]
    },
    {
     "cell_type": "code",
     "collapsed": false,
     "input": [
      "## MATPLOT-like API\n",
      "#x = linspace(0, 5, 10)\n",
      "#y = x ** 2\n",
      "#figure()\n",
      "#plot(x, y, 'r')\n",
      "#xlabel('x')\n",
      "#ylabel('y')\n",
      "#title('title')\n",
      "#show()\n",
      "\n",
      "## OO API\n",
      "fig = plt.figure()\n",
      "axes = fig.add_axes([0.1, 0.1, 0.8, 0.8]) # left, bottom, width, height (range 0 to 1)\n",
      "\n",
      "axes.plot(x, x*1.2, label=r\"$h(x) = \\theta_{0} + \\theta_{1}$\")\n",
      "x_coords = [1, 2, 3.5, 4, 5.2]\n",
      "y_coords = [1.5, 3, 3.5, 4.3, 5.9]\n",
      "axes.scatter(x_coords, y_coords, marker='x', color='r')\n",
      "axes.legend(loc=2)\n",
      "axes.set_xlabel('x')\n",
      "axes.set_ylabel('y')\n",
      "axes.set_title('title')\n",
      "       "
     ],
     "language": "python",
     "metadata": {},
     "outputs": [
      {
       "metadata": {},
       "output_type": "pyout",
       "prompt_number": 59,
       "text": [
        "<matplotlib.text.Text at 0x117d37d10>"
       ]
      },
      {
       "metadata": {},
       "output_type": "display_data",
       "png": "[encoded data removed]",
       "text": [
        "<matplotlib.figure.Figure at 0x11793ab50>"
       ]
      }
     ],
     "prompt_number": 59
    },
    {
     "cell_type": "code",
     "collapsed": false,
     "input": [
      "%%latex\n",
      "\\begin{align}\n",
      "\\end{align}"
     ],
     "language": "python",
     "metadata": {},
     "outputs": [
      {
       "latex": [
        "\\begin{align}\n",
        "\\end{align}"
       ],
       "metadata": {},
       "output_type": "display_data",
       "text": [
        "<IPython.core.display.Latex at 0x105b0d110>"
       ]
      }
     ],
     "prompt_number": 12
    },
    {
     "cell_type": "code",
     "collapsed": false,
     "input": [],
     "language": "python",
     "metadata": {},
     "outputs": [],
     "prompt_number": 4
    },
    {
     "cell_type": "code",
     "collapsed": false,
     "input": [],
     "language": "python",
     "metadata": {},
     "outputs": []
    }
   ],
   "metadata": {}
  }
 ]
}