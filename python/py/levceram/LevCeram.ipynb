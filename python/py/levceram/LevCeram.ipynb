{
 "cells": [
  {
   "cell_type": "code",
   "execution_count": 2020,
   "metadata": {
    "collapsed": false
   },
   "outputs": [],
   "source": [
    "import psycopg2 as pg\n",
    "import pandas as pd\n",
    "import numpy as np\n",
    "import matplotlib.pyplot as plt\n",
    "import seaborn as sns\n",
    "import nltk\n",
    "%matplotlib inline"
   ]
  },
  {
   "cell_type": "code",
   "execution_count": 2021,
   "metadata": {
    "collapsed": false
   },
   "outputs": [
    {
     "name": "stdout",
     "output_type": "stream",
     "text": [
      "psql is the PostgreSQL interactive terminal.\r\n",
      "\r\n",
      "Usage:\r\n",
      "  psql [OPTION]... [DBNAME [USERNAME]]\r\n",
      "\r\n",
      "General options:\r\n",
      "  -c, --command=COMMAND    run only single command (SQL or internal) and exit\r\n",
      "  -d, --dbname=DBNAME      database name to connect to (default: \"excalibur\")\r\n",
      "  -f, --file=FILENAME      execute commands from file, then exit\r\n",
      "  -l, --list               list available databases, then exit\r\n"
     ]
    }
   ],
   "source": [
    "# 30 May 2015 -> $ heroku pg:pull  HEROKU_POSTGRESQL_COBALT_URL lcp --app lux\n",
    "!psql lcp --help | head"
   ]
  },
  {
   "cell_type": "code",
   "execution_count": 2022,
   "metadata": {
    "collapsed": false
   },
   "outputs": [
    {
     "name": "stdout",
     "output_type": "stream",
     "text": [
      "                List of relations\r\n",
      " Schema |        Name         | Type  |   Owner   \r\n",
      "--------+---------------------+-------+-----------\r\n",
      " public | admins              | table | excalibur\r\n",
      " public | comments            | table | excalibur\r\n",
      " public | contributorlinks    | table | excalibur\r\n",
      " public | contributors        | table | excalibur\r\n",
      " public | documents           | table | excalibur\r\n",
      " public | elementals          | table | excalibur\r\n",
      " public | images              | table | excalibur\r\n",
      " public | inclusions          | table | excalibur\r\n",
      " public | items               | table | excalibur\r\n",
      " public | miscs               | table | excalibur\r\n",
      " public | periods             | table | excalibur\r\n",
      " public | petrofabrics        | table | excalibur\r\n",
      " public | petrofabrics_wares  | table | excalibur\r\n",
      " public | petrographics       | table | excalibur\r\n",
      " public | pg_search_documents | table | excalibur\r\n",
      " public | privacylists        | table | excalibur\r\n",
      " public | referencelinks      | table | excalibur\r\n",
      " public | references          | table | excalibur\r\n",
      " public | regionlinks         | table | excalibur\r\n",
      " public | regions             | table | excalibur\r\n",
      " public | schema_migrations   | table | excalibur\r\n",
      " public | shaperelates        | table | excalibur\r\n",
      " public | shapes              | table | excalibur\r\n",
      " public | sites               | table | excalibur\r\n",
      " public | tooltips            | table | excalibur\r\n",
      " public | users               | table | excalibur\r\n",
      " public | viewers             | table | excalibur\r\n",
      " public | voids               | table | excalibur\r\n",
      " public | wares               | table | excalibur\r\n",
      " public | workshoplinks       | table | excalibur\r\n",
      " public | workshops           | table | excalibur\r\n",
      "(31 rows)\r\n",
      "\r\n"
     ]
    }
   ],
   "source": [
    "!psql -c \"\\dt\" lcp"
   ]
  },
  {
   "cell_type": "code",
   "execution_count": 2023,
   "metadata": {
    "collapsed": false
   },
   "outputs": [
    {
     "name": "stdout",
     "output_type": "stream",
     "text": [
      "                                                           Table \"public.wares\"\r\n",
      "     Column     |            Type             |                     Modifiers                      | Storage  | Stats target | Description \r\n",
      "----------------+-----------------------------+----------------------------------------------------+----------+--------------+-------------\r\n",
      " id             | integer                     | not null default nextval('wares_id_seq'::regclass) | plain    |              | \r\n",
      " name           | character varying(255)      |                                                    | extended |              | \r\n",
      " origin         | character varying(255)      |                                                    | extended |              | \r\n",
      " chron_range    | character varying(255)      |                                                    | extended |              | \r\n",
      " desc           | text                        |                                                    | extended |              | \r\n",
      " created_at     | timestamp without time zone |                                                    | plain    |              | \r\n",
      " updated_at     | timestamp without time zone |                                                    | plain    |              | \r\n",
      " user_id        | integer                     |                                                    | plain    |              | \r\n",
      " old_region_id  | integer                     |                                                    | plain    |              | \r\n",
      " privacy_status | integer                     | default 1                                          | plain    |              | \r\n",
      " contributor_id | integer                     |                                                    | plain    |              | \r\n",
      " period         | character varying(255)      |                                                    | extended |              | \r\n",
      " start_year     | integer                     |                                                    | plain    |              | \r\n",
      " end_year       | integer                     |                                                    | plain    |              | \r\n",
      " definition     | text                        |                                                    | extended |              | \r\n",
      "Indexes:\r\n",
      "    \"wares_pkey\" PRIMARY KEY, btree (id)\r\n",
      "\r\n"
     ]
    }
   ],
   "source": [
    "!psql -c \"\\d+ wares\" lcp"
   ]
  },
  {
   "cell_type": "markdown",
   "metadata": {},
   "source": [
    "---"
   ]
  },
  {
   "cell_type": "code",
   "execution_count": 2024,
   "metadata": {
    "collapsed": false
   },
   "outputs": [],
   "source": [
    "psql_lcp_connection = pg.connect(\"dbname=lcp user=excalibur\")"
   ]
  },
  {
   "cell_type": "code",
   "execution_count": 2025,
   "metadata": {
    "collapsed": false
   },
   "outputs": [],
   "source": [
    "psql_cursor = psql_lcp_connection.cursor()"
   ]
  },
  {
   "cell_type": "code",
   "execution_count": 2026,
   "metadata": {
    "collapsed": false
   },
   "outputs": [],
   "source": [
    "psql_cursor.execute(\"select * from wares\")"
   ]
  },
  {
   "cell_type": "code",
   "execution_count": 2027,
   "metadata": {
    "collapsed": false
   },
   "outputs": [
    {
     "data": {
      "text/plain": [
       "(32,\n",
       " 'Red White and Blue ware',\n",
       " None,\n",
       " '1800 - 1500 BCE',\n",
       " 'The ware is characterized by the decoration of alternating wavy and straight lines painted in red, white and blue.',\n",
       " datetime.datetime(2012, 9, 17, 21, 28, 23, 515035),\n",
       " datetime.datetime(2014, 5, 13, 21, 7, 45, 547331),\n",
       " 5,\n",
       " 24,\n",
       " 1,\n",
       " None,\n",
       " 'Middle Bronze Age IIA-IIB',\n",
       " -1800,\n",
       " -1500,\n",
       " None)"
      ]
     },
     "execution_count": 2027,
     "metadata": {},
     "output_type": "execute_result"
    }
   ],
   "source": [
    "psql_cursor.fetchone()"
   ]
  },
  {
   "cell_type": "code",
   "execution_count": 2028,
   "metadata": {
    "collapsed": true
   },
   "outputs": [],
   "source": [
    "psql_cursor.close()"
   ]
  },
  {
   "cell_type": "markdown",
   "metadata": {},
   "source": [
    "---"
   ]
  },
  {
   "cell_type": "code",
   "execution_count": 2029,
   "metadata": {
    "collapsed": false
   },
   "outputs": [
    {
     "data": {
      "text/html": [
       "<div style=\"max-height:1000px;max-width:1500px;overflow:auto;\">\n",
       "<table border=\"1\" class=\"dataframe\">\n",
       "  <thead>\n",
       "    <tr style=\"text-align: right;\">\n",
       "      <th></th>\n",
       "      <th>id</th>\n",
       "      <th>name</th>\n",
       "      <th>origin</th>\n",
       "      <th>chron_range</th>\n",
       "      <th>desc</th>\n",
       "      <th>created_at</th>\n",
       "      <th>updated_at</th>\n",
       "      <th>user_id</th>\n",
       "      <th>old_region_id</th>\n",
       "      <th>privacy_status</th>\n",
       "      <th>contributor_id</th>\n",
       "      <th>period</th>\n",
       "      <th>start_year</th>\n",
       "      <th>end_year</th>\n",
       "      <th>definition</th>\n",
       "    </tr>\n",
       "  </thead>\n",
       "  <tbody>\n",
       "    <tr>\n",
       "      <th>0</th>\n",
       "      <td>32</td>\n",
       "      <td>Red White and Blue ware</td>\n",
       "      <td>None</td>\n",
       "      <td>1800 - 1500 BCE</td>\n",
       "      <td>The ware is characterized by the decoration of...</td>\n",
       "      <td>2012-09-17 21:28:23.515035</td>\n",
       "      <td>2014-05-13 21:07:45.547331</td>\n",
       "      <td>5</td>\n",
       "      <td>24</td>\n",
       "      <td>1</td>\n",
       "      <td>None</td>\n",
       "      <td>Middle Bronze Age IIA-IIB</td>\n",
       "      <td>-1800</td>\n",
       "      <td>-1500</td>\n",
       "      <td>None</td>\n",
       "    </tr>\n",
       "  </tbody>\n",
       "</table>\n",
       "</div>"
      ],
      "text/plain": [
       "   id                     name origin      chron_range  \\\n",
       "0  32  Red White and Blue ware   None  1800 - 1500 BCE   \n",
       "\n",
       "                                                desc  \\\n",
       "0  The ware is characterized by the decoration of...   \n",
       "\n",
       "                  created_at                 updated_at  user_id  \\\n",
       "0 2012-09-17 21:28:23.515035 2014-05-13 21:07:45.547331        5   \n",
       "\n",
       "   old_region_id  privacy_status contributor_id                     period  \\\n",
       "0             24               1           None  Middle Bronze Age IIA-IIB   \n",
       "\n",
       "   start_year  end_year definition  \n",
       "0       -1800     -1500       None  "
      ]
     },
     "execution_count": 2029,
     "metadata": {},
     "output_type": "execute_result"
    }
   ],
   "source": [
    "wares_df = pd.io.sql.read_sql(\"select * from wares\", psql_lcp_connection)\n",
    "wares_df.head(1)"
   ]
  },
  {
   "cell_type": "code",
   "execution_count": 2030,
   "metadata": {
    "collapsed": false
   },
   "outputs": [
    {
     "data": {
      "text/html": [
       "<div style=\"max-height:1000px;max-width:1500px;overflow:auto;\">\n",
       "<table border=\"1\" class=\"dataframe\">\n",
       "  <thead>\n",
       "    <tr style=\"text-align: right;\">\n",
       "      <th></th>\n",
       "      <th>id</th>\n",
       "      <th>user_id</th>\n",
       "      <th>old_region_id</th>\n",
       "      <th>privacy_status</th>\n",
       "      <th>start_year</th>\n",
       "      <th>end_year</th>\n",
       "    </tr>\n",
       "  </thead>\n",
       "  <tbody>\n",
       "    <tr>\n",
       "      <th>count</th>\n",
       "      <td>224.000000</td>\n",
       "      <td>222.000000</td>\n",
       "      <td>85.000000</td>\n",
       "      <td>224.000000</td>\n",
       "      <td>155.000000</td>\n",
       "      <td>155.000000</td>\n",
       "    </tr>\n",
       "    <tr>\n",
       "      <th>mean</th>\n",
       "      <td>148.602679</td>\n",
       "      <td>27.234234</td>\n",
       "      <td>12.729412</td>\n",
       "      <td>1.263393</td>\n",
       "      <td>-1253.290323</td>\n",
       "      <td>193.580645</td>\n",
       "    </tr>\n",
       "    <tr>\n",
       "      <th>std</th>\n",
       "      <td>69.727324</td>\n",
       "      <td>36.824263</td>\n",
       "      <td>7.698776</td>\n",
       "      <td>0.654271</td>\n",
       "      <td>10503.905823</td>\n",
       "      <td>848.788066</td>\n",
       "    </tr>\n",
       "    <tr>\n",
       "      <th>min</th>\n",
       "      <td>21.000000</td>\n",
       "      <td>1.000000</td>\n",
       "      <td>1.000000</td>\n",
       "      <td>1.000000</td>\n",
       "      <td>-92500.000000</td>\n",
       "      <td>-2500.000000</td>\n",
       "    </tr>\n",
       "    <tr>\n",
       "      <th>25%</th>\n",
       "      <td>88.750000</td>\n",
       "      <td>5.000000</td>\n",
       "      <td>8.000000</td>\n",
       "      <td>1.000000</td>\n",
       "      <td>-800.000000</td>\n",
       "      <td>-300.500000</td>\n",
       "    </tr>\n",
       "    <tr>\n",
       "      <th>50%</th>\n",
       "      <td>148.500000</td>\n",
       "      <td>13.000000</td>\n",
       "      <td>13.000000</td>\n",
       "      <td>1.000000</td>\n",
       "      <td>0.000000</td>\n",
       "      <td>99.000000</td>\n",
       "    </tr>\n",
       "    <tr>\n",
       "      <th>75%</th>\n",
       "      <td>205.250000</td>\n",
       "      <td>28.000000</td>\n",
       "      <td>19.000000</td>\n",
       "      <td>1.000000</td>\n",
       "      <td>435.000000</td>\n",
       "      <td>714.500000</td>\n",
       "    </tr>\n",
       "    <tr>\n",
       "      <th>max</th>\n",
       "      <td>271.000000</td>\n",
       "      <td>165.000000</td>\n",
       "      <td>24.000000</td>\n",
       "      <td>4.000000</td>\n",
       "      <td>2450.000000</td>\n",
       "      <td>2250.000000</td>\n",
       "    </tr>\n",
       "  </tbody>\n",
       "</table>\n",
       "</div>"
      ],
      "text/plain": [
       "               id     user_id  old_region_id  privacy_status    start_year  \\\n",
       "count  224.000000  222.000000      85.000000      224.000000    155.000000   \n",
       "mean   148.602679   27.234234      12.729412        1.263393  -1253.290323   \n",
       "std     69.727324   36.824263       7.698776        0.654271  10503.905823   \n",
       "min     21.000000    1.000000       1.000000        1.000000 -92500.000000   \n",
       "25%     88.750000    5.000000       8.000000        1.000000   -800.000000   \n",
       "50%    148.500000   13.000000      13.000000        1.000000      0.000000   \n",
       "75%    205.250000   28.000000      19.000000        1.000000    435.000000   \n",
       "max    271.000000  165.000000      24.000000        4.000000   2450.000000   \n",
       "\n",
       "          end_year  \n",
       "count   155.000000  \n",
       "mean    193.580645  \n",
       "std     848.788066  \n",
       "min   -2500.000000  \n",
       "25%    -300.500000  \n",
       "50%      99.000000  \n",
       "75%     714.500000  \n",
       "max    2250.000000  "
      ]
     },
     "execution_count": 2030,
     "metadata": {},
     "output_type": "execute_result"
    }
   ],
   "source": [
    "wares_df.describe()"
   ]
  },
  {
   "cell_type": "code",
   "execution_count": 2031,
   "metadata": {
    "collapsed": false
   },
   "outputs": [
    {
     "name": "stdout",
     "output_type": "stream",
     "text": [
      "<class 'pandas.core.frame.DataFrame'>\n",
      "Int64Index: 224 entries, 0 to 223\n",
      "Data columns (total 15 columns):\n",
      "id                224 non-null int64\n",
      "name              224 non-null object\n",
      "origin            0 non-null object\n",
      "chron_range       223 non-null object\n",
      "desc              223 non-null object\n",
      "created_at        224 non-null datetime64[ns]\n",
      "updated_at        224 non-null datetime64[ns]\n",
      "user_id           222 non-null float64\n",
      "old_region_id     85 non-null float64\n",
      "privacy_status    224 non-null int64\n",
      "contributor_id    0 non-null object\n",
      "period            67 non-null object\n",
      "start_year        155 non-null float64\n",
      "end_year          155 non-null float64\n",
      "definition        11 non-null object\n",
      "dtypes: datetime64[ns](2), float64(4), int64(2), object(7)\n",
      "memory usage: 28.0+ KB\n"
     ]
    }
   ],
   "source": [
    "wares_df.info()"
   ]
  },
  {
   "cell_type": "markdown",
   "metadata": {},
   "source": [
    "---"
   ]
  },
  {
   "cell_type": "code",
   "execution_count": 2032,
   "metadata": {
    "collapsed": false
   },
   "outputs": [
    {
     "name": "stdout",
     "output_type": "stream",
     "text": [
      "name          155\n",
      "start_year    155\n",
      "dtype: int64\n"
     ]
    },
    {
     "data": {
      "text/html": [
       "<div style=\"max-height:1000px;max-width:1500px;overflow:auto;\">\n",
       "<table border=\"1\" class=\"dataframe\">\n",
       "  <thead>\n",
       "    <tr style=\"text-align: right;\">\n",
       "      <th></th>\n",
       "      <th>name</th>\n",
       "      <th>start_year</th>\n",
       "    </tr>\n",
       "  </thead>\n",
       "  <tbody>\n",
       "    <tr>\n",
       "      <th>0</th>\n",
       "      <td>Red White and Blue ware</td>\n",
       "      <td>-1800</td>\n",
       "    </tr>\n",
       "  </tbody>\n",
       "</table>\n",
       "</div>"
      ],
      "text/plain": [
       "                      name  start_year\n",
       "0  Red White and Blue ware       -1800"
      ]
     },
     "execution_count": 2032,
     "metadata": {},
     "output_type": "execute_result"
    }
   ],
   "source": [
    "name_start_year_df = wares_df.loc[wares_df['start_year'].notnull(),['name','start_year']]\n",
    "print name_start_year_df.count()\n",
    "name_start_year_df.head(1)"
   ]
  },
  {
   "cell_type": "code",
   "execution_count": 2033,
   "metadata": {
    "collapsed": false
   },
   "outputs": [],
   "source": [
    "name_start_year_df = name_start_year_df.sort('start_year')"
   ]
  },
  {
   "cell_type": "code",
   "execution_count": 2034,
   "metadata": {
    "collapsed": false
   },
   "outputs": [],
   "source": [
    "unique_start_years = name_start_year_df['start_year'].unique()"
   ]
  },
  {
   "cell_type": "code",
   "execution_count": 2035,
   "metadata": {
    "collapsed": false
   },
   "outputs": [
    {
     "data": {
      "image/png": "[encoded data removed]",
      "text/plain": [
       "<matplotlib.figure.Figure at 0x114b41290>"
      ]
     },
     "metadata": {},
     "output_type": "display_data"
    }
   ],
   "source": [
    "sns.boxplot(unique_start_years, names=['start_years'], vert=False)\n",
    "plt.show()"
   ]
  },
  {
   "cell_type": "code",
   "execution_count": 2036,
   "metadata": {
    "collapsed": false
   },
   "outputs": [
    {
     "data": {
      "image/png": "[encoded data removed]",
      "text/plain": [
       "<matplotlib.figure.Figure at 0x115f36510>"
      ]
     },
     "metadata": {},
     "output_type": "display_data"
    }
   ],
   "source": [
    "sns.boxplot(unique_start_years[1:], names=['start_years'], vert=False)\n",
    "plt.show()"
   ]
  },
  {
   "cell_type": "markdown",
   "metadata": {},
   "source": [
    "---"
   ]
  },
  {
   "cell_type": "code",
   "execution_count": 2037,
   "metadata": {
    "collapsed": false
   },
   "outputs": [
    {
     "data": {
      "text/plain": [
       " 1100    13\n",
       "-200      9\n",
       " 100      8\n",
       " 0        7\n",
       " 800      7\n",
       "dtype: int64"
      ]
     },
     "execution_count": 2037,
     "metadata": {},
     "output_type": "execute_result"
    }
   ],
   "source": [
    "start_year_counts = wares_df['start_year'].value_counts()\n",
    "start_year_counts.head()"
   ]
  },
  {
   "cell_type": "code",
   "execution_count": 2038,
   "metadata": {
    "collapsed": false
   },
   "outputs": [
    {
     "data": {
      "image/png": "[encoded data removed]",
      "text/plain": [
       "<matplotlib.figure.Figure at 0x117e0d110>"
      ]
     },
     "metadata": {},
     "output_type": "display_data"
    }
   ],
   "source": [
    "plt.plot(wares_df['start_year'])\n",
    "plt.show()"
   ]
  },
  {
   "cell_type": "code",
   "execution_count": 2039,
   "metadata": {
    "collapsed": false
   },
   "outputs": [
    {
     "data": {
      "image/png": "[encoded data removed]",
      "text/plain": [
       "<matplotlib.figure.Figure at 0x114436610>"
      ]
     },
     "metadata": {},
     "output_type": "display_data"
    }
   ],
   "source": [
    "plt.plot(wares_df[wares_df['start_year'] != wares_df['start_year'].min()]['start_year'])\n",
    "plt.show()"
   ]
  },
  {
   "cell_type": "markdown",
   "metadata": {},
   "source": [
    "---"
   ]
  },
  {
   "cell_type": "code",
   "execution_count": 2040,
   "metadata": {
    "collapsed": false
   },
   "outputs": [
    {
     "data": {
      "text/plain": [
       "                             19\n",
       "Roman, Byzantine              5\n",
       "Hellenistic                   3\n",
       "Iron Age                      3\n",
       "Early Iron Age I              2\n",
       "Early Islamic                 2\n",
       "Mamluk period                 2\n",
       "Late Roman - Byzantine        1\n",
       "Middle Bronze Age IIA-IIB     1\n",
       "Hellenistic, Roman            1\n",
       "dtype: int64"
      ]
     },
     "execution_count": 2040,
     "metadata": {},
     "output_type": "execute_result"
    }
   ],
   "source": [
    "wares_df['period'].value_counts().head(10)"
   ]
  },
  {
   "cell_type": "markdown",
   "metadata": {},
   "source": [
    "---"
   ]
  },
  {
   "cell_type": "code",
   "execution_count": 2041,
   "metadata": {
    "collapsed": false
   },
   "outputs": [
    {
     "name": "stdout",
     "output_type": "stream",
     "text": [
      "(150, 15)\n"
     ]
    },
    {
     "data": {
      "text/html": [
       "<div style=\"max-height:1000px;max-width:1500px;overflow:auto;\">\n",
       "<table border=\"1\" class=\"dataframe\">\n",
       "  <thead>\n",
       "    <tr style=\"text-align: right;\">\n",
       "      <th></th>\n",
       "      <th>id</th>\n",
       "      <th>name</th>\n",
       "      <th>origin</th>\n",
       "      <th>chron_range</th>\n",
       "      <th>desc</th>\n",
       "      <th>created_at</th>\n",
       "      <th>updated_at</th>\n",
       "      <th>user_id</th>\n",
       "      <th>old_region_id</th>\n",
       "      <th>privacy_status</th>\n",
       "      <th>contributor_id</th>\n",
       "      <th>period</th>\n",
       "      <th>start_year</th>\n",
       "      <th>end_year</th>\n",
       "      <th>definition</th>\n",
       "    </tr>\n",
       "  </thead>\n",
       "  <tbody>\n",
       "    <tr>\n",
       "      <th>0</th>\n",
       "      <td>32</td>\n",
       "      <td>Red White and Blue ware</td>\n",
       "      <td>None</td>\n",
       "      <td>1800 - 1500 BCE</td>\n",
       "      <td>The ware is characterized by the decoration of...</td>\n",
       "      <td>2012-09-17 21:28:23.515035</td>\n",
       "      <td>2014-05-13 21:07:45.547331</td>\n",
       "      <td>5</td>\n",
       "      <td>24</td>\n",
       "      <td>1</td>\n",
       "      <td>None</td>\n",
       "      <td>Middle Bronze Age IIA-IIB</td>\n",
       "      <td>-1800</td>\n",
       "      <td>-1500</td>\n",
       "      <td>None</td>\n",
       "    </tr>\n",
       "  </tbody>\n",
       "</table>\n",
       "</div>"
      ],
      "text/plain": [
       "   id                     name origin      chron_range  \\\n",
       "0  32  Red White and Blue ware   None  1800 - 1500 BCE   \n",
       "\n",
       "                                                desc  \\\n",
       "0  The ware is characterized by the decoration of...   \n",
       "\n",
       "                  created_at                 updated_at  user_id  \\\n",
       "0 2012-09-17 21:28:23.515035 2014-05-13 21:07:45.547331        5   \n",
       "\n",
       "   old_region_id  privacy_status contributor_id                     period  \\\n",
       "0             24               1           None  Middle Bronze Age IIA-IIB   \n",
       "\n",
       "   start_year  end_year definition  \n",
       "0       -1800     -1500       None  "
      ]
     },
     "execution_count": 2041,
     "metadata": {},
     "output_type": "execute_result"
    }
   ],
   "source": [
    "desc_wares_df = wares_df[(wares_df['desc'] != \"\") & (wares_df['desc'].notnull())]\n",
    "print desc_wares_df.shape\n",
    "desc_wares_df.head(1)"
   ]
  },
  {
   "cell_type": "code",
   "execution_count": 2042,
   "metadata": {
    "collapsed": false
   },
   "outputs": [
    {
     "name": "stdout",
     "output_type": "stream",
     "text": [
      "num of words:  14188\n",
      "['[', \"'\", 'The', 'ware', 'is', 'characterized', 'by', 'the', 'decoration', 'of']\n"
     ]
    }
   ],
   "source": [
    "desc_words = nltk.wordpunct_tokenize(str(desc_wares_df['desc'].values))\n",
    "print \"num of words: \", len(desc_words)\n",
    "print desc_words[:10]"
   ]
  },
  {
   "cell_type": "code",
   "execution_count": 2043,
   "metadata": {
    "collapsed": false
   },
   "outputs": [
    {
     "name": "stdout",
     "output_type": "stream",
     "text": [
      "num of vocab:  1892\n"
     ]
    }
   ],
   "source": [
    "desc_vocab = set(desc_words)\n",
    "print \"num of vocab: \", len(desc_vocab)"
   ]
  },
  {
   "cell_type": "code",
   "execution_count": 2044,
   "metadata": {
    "collapsed": false
   },
   "outputs": [
    {
     "data": {
      "text/plain": [
       "FreqDist({',': 679, '.': 527, 'and': 435, 'the': 398, 'of': 296, '-': 290, '\\\\': 250, '/': 237, \"'\": 220, '(': 218, ...})"
      ]
     },
     "execution_count": 2044,
     "metadata": {},
     "output_type": "execute_result"
    }
   ],
   "source": [
    "freq_dist = nltk.FreqDist(desc_words)\n",
    "freq_dist"
   ]
  },
  {
   "cell_type": "code",
   "execution_count": 2045,
   "metadata": {
    "collapsed": false
   },
   "outputs": [
    {
     "name": "stdout",
     "output_type": "stream",
     "text": [
      "   ,    .  and  the   of    -    \\    /    '    (   is   to    a with   in \n",
      " 679  527  435  398  296  290  250  237  220  218  212  208  208  193  150 \n"
     ]
    }
   ],
   "source": [
    "freq_dist.tabulate(15)"
   ]
  },
  {
   "cell_type": "code",
   "execution_count": 2046,
   "metadata": {
    "collapsed": false
   },
   "outputs": [
    {
     "data": {
      "text/plain": [
       "398"
      ]
     },
     "execution_count": 2046,
     "metadata": {},
     "output_type": "execute_result"
    }
   ],
   "source": [
    "freq_dist['the']"
   ]
  },
  {
   "cell_type": "code",
   "execution_count": 2047,
   "metadata": {
    "collapsed": false
   },
   "outputs": [],
   "source": [
    "from nltk.corpus import stopwords"
   ]
  },
  {
   "cell_type": "code",
   "execution_count": 2048,
   "metadata": {
    "collapsed": false
   },
   "outputs": [
    {
     "data": {
      "text/plain": [
       "[u'i',\n",
       " u'me',\n",
       " u'my',\n",
       " u'myself',\n",
       " u'we',\n",
       " u'our',\n",
       " u'ours',\n",
       " u'ourselves',\n",
       " u'you',\n",
       " u'your']"
      ]
     },
     "execution_count": 2048,
     "metadata": {},
     "output_type": "execute_result"
    }
   ],
   "source": [
    "stopwords = stopwords.words('english')\n",
    "stopwords[:10]"
   ]
  },
  {
   "cell_type": "code",
   "execution_count": 2049,
   "metadata": {
    "collapsed": false
   },
   "outputs": [
    {
     "data": {
      "image/png": "[encoded data removed]",
      "text/plain": [
       "<matplotlib.figure.Figure at 0x1125d7d90>"
      ]
     },
     "metadata": {},
     "output_type": "display_data"
    }
   ],
   "source": [
    "freq_dist.plot(20)"
   ]
  },
  {
   "cell_type": "code",
   "execution_count": 2050,
   "metadata": {
    "collapsed": false
   },
   "outputs": [
    {
     "data": {
      "image/png": "[encoded data removed]",
      "text/plain": [
       "<matplotlib.figure.Figure at 0x115928310>"
      ]
     },
     "metadata": {},
     "output_type": "display_data"
    }
   ],
   "source": [
    "freq_dist.plot(20, cumulative=True)"
   ]
  },
  {
   "cell_type": "markdown",
   "metadata": {},
   "source": [
    "---"
   ]
  },
  {
   "cell_type": "code",
   "execution_count": 2051,
   "metadata": {
    "collapsed": false
   },
   "outputs": [
    {
     "name": "stdout",
     "output_type": "stream",
     "text": [
      "num of words:  10598\n",
      "['[', \"'\", 'ware', 'characterized', 'decoration', 'alternating', 'wavy', 'straight', 'lines', 'painted']\n"
     ]
    }
   ],
   "source": [
    "desc_no_stopwords = [x.lower() for x in desc_words if x.lower() not in stopwords]\n",
    "print \"num of words: \", len(desc_no_stopwords)\n",
    "print desc_no_stopwords[:10]"
   ]
  },
  {
   "cell_type": "code",
   "execution_count": 2052,
   "metadata": {
    "collapsed": false
   },
   "outputs": [
    {
     "name": "stdout",
     "output_type": "stream",
     "text": [
      "num of words:  7929\n",
      "['ware', 'characterized', 'decoration', 'alternating', 'wavy', 'straight', 'lines', 'painted', 'red', 'white']\n"
     ]
    }
   ],
   "source": [
    "import string\n",
    "desc_nopunc_words = [x for x in desc_no_stopwords if x not in list(string.punctuation)]\n",
    "print \"num of words: \", len(desc_nopunc_words)\n",
    "print desc_nopunc_words[:10]"
   ]
  },
  {
   "cell_type": "code",
   "execution_count": 2053,
   "metadata": {
    "collapsed": false
   },
   "outputs": [
    {
     "name": "stdout",
     "output_type": "stream",
     "text": [
      "num of vocab:  1626\n"
     ]
    }
   ],
   "source": [
    "desc_vocab = set(desc_nopunc_words)\n",
    "print \"num of vocab: \", len(desc_vocab)"
   ]
  },
  {
   "cell_type": "code",
   "execution_count": 2054,
   "metadata": {
    "collapsed": false
   },
   "outputs": [
    {
     "data": {
      "text/plain": [
       "FreqDist({'red': 157, '6': 138, 'inclusions': 129, 'brown': 120, '4': 120, '5yr': 102, 'r': 102, 'fabric': 99, '2': 91, 'white': 84, ...})"
      ]
     },
     "execution_count": 2054,
     "metadata": {},
     "output_type": "execute_result"
    }
   ],
   "source": [
    "freq_dist = nltk.FreqDist(desc_nopunc_words)\n",
    "freq_dist"
   ]
  },
  {
   "cell_type": "code",
   "execution_count": 2055,
   "metadata": {
    "collapsed": false
   },
   "outputs": [
    {
     "data": {
      "image/png": "[encoded data removed]",
      "text/plain": [
       "<matplotlib.figure.Figure at 0x1127253d0>"
      ]
     },
     "metadata": {},
     "output_type": "display_data"
    }
   ],
   "source": [
    "freq_dist.plot(20)"
   ]
  },
  {
   "cell_type": "code",
   "execution_count": 2056,
   "metadata": {
    "collapsed": false
   },
   "outputs": [
    {
     "data": {
      "image/png": "[encoded data removed]",
      "text/plain": [
       "<matplotlib.figure.Figure at 0x1187dd8d0>"
      ]
     },
     "metadata": {},
     "output_type": "display_data"
    }
   ],
   "source": [
    "freq_dist.plot(20, cumulative=True)"
   ]
  },
  {
   "cell_type": "markdown",
   "metadata": {},
   "source": [
    "---"
   ]
  },
  {
   "cell_type": "code",
   "execution_count": 2057,
   "metadata": {
    "collapsed": false
   },
   "outputs": [],
   "source": [
    "desc_bigrams = nltk.bigrams(desc_nopunc_words)"
   ]
  },
  {
   "cell_type": "code",
   "execution_count": 2058,
   "metadata": {
    "collapsed": false
   },
   "outputs": [
    {
     "data": {
      "text/plain": [
       "FreqDist({('2', '5yr'): 36, ('r', 'n'): 33, ('5yr', '6'): 30, ('6', '6'): 29, ('red', 'brown'): 27, (';\\\\', 'r'): 26, ('5', 'yr'): 24, ('5yr', '5'): 24, ('6', '8'): 24, ('4', '6'): 24, ...})"
      ]
     },
     "execution_count": 2058,
     "metadata": {},
     "output_type": "execute_result"
    }
   ],
   "source": [
    "freq_dist = nltk.FreqDist(desc_bigrams)\n",
    "freq_dist"
   ]
  },
  {
   "cell_type": "code",
   "execution_count": 2059,
   "metadata": {
    "collapsed": false
   },
   "outputs": [
    {
     "data": {
      "image/png": "[encoded data removed]",
      "text/plain": [
       "<matplotlib.figure.Figure at 0x1183768d0>"
      ]
     },
     "metadata": {},
     "output_type": "display_data"
    }
   ],
   "source": [
    "freq_dist.plot(20, cumulative=True)"
   ]
  },
  {
   "cell_type": "code",
   "execution_count": 2060,
   "metadata": {
    "collapsed": false
   },
   "outputs": [
    {
     "name": "stdout",
     "output_type": "stream",
     "text": [
      "num of words:  7209\n",
      "['ware', 'characterized', 'decoration', 'alternating', 'wavy', 'straight', 'lines', 'painted', 'red', 'white']\n"
     ]
    }
   ],
   "source": [
    "desc_words_no_nums = [x.lower() for x in desc_nopunc_words if not x.isdigit()]\n",
    "print \"num of words: \", len(desc_words_no_nums)\n",
    "print desc_words_no_nums[:10]"
   ]
  },
  {
   "cell_type": "code",
   "execution_count": 2061,
   "metadata": {
    "collapsed": false
   },
   "outputs": [
    {
     "name": "stdout",
     "output_type": "stream",
     "text": [
      "num of vocab:  1586\n"
     ]
    }
   ],
   "source": [
    "desc_vocab = set(desc_words_no_nums)\n",
    "print \"num of vocab: \", len(desc_vocab)"
   ]
  },
  {
   "cell_type": "code",
   "execution_count": 2062,
   "metadata": {
    "collapsed": true
   },
   "outputs": [],
   "source": [
    "desc_bigrams = nltk.bigrams(desc_words_no_nums)"
   ]
  },
  {
   "cell_type": "code",
   "execution_count": 2063,
   "metadata": {
    "collapsed": false
   },
   "outputs": [
    {
     "data": {
      "text/plain": [
       "FreqDist({('r', 'n'): 33, ('red', 'brown'): 27, (';\\\\', 'r'): 26, ('5yr', '5yr'): 24, ('xe2', 'x80'): 24, ('reddish', 'brown'): 22, ('.\\\\', 'r'): 19, ('iron', 'age'): 18, ('gray', 'core'): 16, ('n', 'r'): 15, ...})"
      ]
     },
     "execution_count": 2063,
     "metadata": {},
     "output_type": "execute_result"
    }
   ],
   "source": [
    "freq_dist = nltk.FreqDist(desc_bigrams)\n",
    "freq_dist"
   ]
  },
  {
   "cell_type": "code",
   "execution_count": 2064,
   "metadata": {
    "collapsed": false
   },
   "outputs": [
    {
     "data": {
      "image/png": "[encoded data removed]",
      "text/plain": [
       "<matplotlib.figure.Figure at 0x1188f2390>"
      ]
     },
     "metadata": {},
     "output_type": "display_data"
    }
   ],
   "source": [
    "plt.figure(figsize=(10,5))\n",
    "freq_dist.plot(40, cumulative=True)"
   ]
  },
  {
   "cell_type": "markdown",
   "metadata": {},
   "source": [
    "---"
   ]
  },
  {
   "cell_type": "code",
   "execution_count": 2065,
   "metadata": {
    "collapsed": true
   },
   "outputs": [],
   "source": [
    "descriptions = nltk.Text(desc_words)"
   ]
  },
  {
   "cell_type": "code",
   "execution_count": 2066,
   "metadata": {
    "collapsed": false
   },
   "outputs": [
    {
     "data": {
      "text/plain": [
       "57"
      ]
     },
     "execution_count": 2066,
     "metadata": {},
     "output_type": "execute_result"
    }
   ],
   "source": [
    "descriptions.count('ware')"
   ]
  },
  {
   "cell_type": "code",
   "execution_count": 2067,
   "metadata": {
    "collapsed": false
   },
   "outputs": [
    {
     "name": "stdout",
     "output_type": "stream",
     "text": [
      "Displaying 25 of 69 matches:\n",
      "                                     ware is characterized by the decoration o\n",
      "y core ( 2 . 5YR or 5YR 4 / 1 ). The ware gets its name from the thick , slopp\n",
      "many ( but not all ) vessels in this ware . This slip is matte and ranges in c\n",
      "thin , reddish - orange , hard fired ware , which is produced from a highly le\n",
      " .\" Please see Nabataean Semi - Fine ware . \\ r \\ n \\ r \\ nNFW is aestheticall\n",
      "listine forms .' ' Early Roman Jiyeh Ware ( ERJW ) shows close affinity with t\n",
      "ur ranging from gray to black . This ware contains very few lime inclusions co\n",
      "thin , reddish - orange , hard fired ware , which is produced from a highly le\n",
      "phase 3c is of a thicker and coarser ware and the lines that are common in Dek\n",
      "ck , black paint .' ' White or light ware , with painted decoration in a singl\n",
      "listine arrival in Canaan . ' ' This ware has a darker fabric than Philistin M\n",
      "onze Age in Cyprus . The label Plain Ware is used to group a very large array \n",
      "sions .' ' Coarse , very low quality ware , with many inclusions and poorly si\n",
      "thin , reddish - orange , hard fired ware , which is produced from a highly le\n",
      "reduced to a dark grey - black . The ware is usually very thin - walled , and \n",
      "erves the epithet \\ xc2 \\ xb4brittle ware \\ xe2 \\ x80 \\ x99 ( as coined by Dys\n",
      "sions .' ' Vessels are made of crude ware , and decorated with painted geometr\n",
      "it to be similar to that of the Acre Ware , with a light brown 7 . 5 YR 6 / 4 \n",
      "or was treated similarly to the Acre Ware vessels , with a light - colored sli\n",
      "thin , reddish - orange , hard fired ware , which is produced from a highly le\n",
      " of the vessel . ' ' Coarse handmade ware , generally of desert origin and aff\n",
      "periods , the term \" Handmade Arabah Ware \" is more appropriate ( cf . Martin \n",
      "se holemouth jars , made from coarse ware , similar to cooking pots of the lat\n",
      " by fire .' ' Characteristic of this ware is exterior paint on Aila ( Aqaba ) \n",
      " is exterior paint on Aila ( Aqaba ) ware vessels . The paint can vary in colo\n"
     ]
    }
   ],
   "source": [
    "descriptions.concordance('ware')"
   ]
  },
  {
   "cell_type": "code",
   "execution_count": 2068,
   "metadata": {
    "collapsed": false
   },
   "outputs": [
    {
     "name": "stdout",
     "output_type": "stream",
     "text": [
      "Iron Age; Stephan Schmid; carefully manufactured; less carefully; gray\n",
      "core; manufactured examples; highly levigated; occasionally display;\n",
      "shell thin; sodium feldspars; reddish yellow; irregular fracture;\n",
      "painted design; small white; NPFW occasionally; levigated clay;\n",
      "display inclusions; reddish brown; hard fired; iron oxides\n"
     ]
    }
   ],
   "source": [
    "descriptions.collocations()"
   ]
  },
  {
   "cell_type": "code",
   "execution_count": 2069,
   "metadata": {
    "collapsed": false
   },
   "outputs": [
    {
     "data": {
      "image/png": "[encoded data removed]",
      "text/plain": [
       "<matplotlib.figure.Figure at 0x118376950>"
      ]
     },
     "metadata": {},
     "output_type": "display_data"
    }
   ],
   "source": [
    "descriptions.dispersion_plot(['ware', 'red', 'brown', 'white'])"
   ]
  },
  {
   "cell_type": "markdown",
   "metadata": {},
   "source": [
    "---"
   ]
  },
  {
   "cell_type": "markdown",
   "metadata": {},
   "source": [
    "#Use pandas"
   ]
  },
  {
   "cell_type": "code",
   "execution_count": 2070,
   "metadata": {
    "collapsed": false
   },
   "outputs": [
    {
     "data": {
      "text/plain": [
       "[114, 555, 564, 311, 335, 126, 255, 529, 112, 158]"
      ]
     },
     "execution_count": 2070,
     "metadata": {},
     "output_type": "execute_result"
    }
   ],
   "source": [
    "# character counts\n",
    "[len(desc) for desc in desc_wares_df['desc']][:10]"
   ]
  },
  {
   "cell_type": "code",
   "execution_count": 2071,
   "metadata": {
    "collapsed": false
   },
   "outputs": [
    {
     "data": {
      "text/plain": [
       "[19, 99, 102, 54, 58, 19, 38, 77, 18, 21]"
      ]
     },
     "execution_count": 2071,
     "metadata": {},
     "output_type": "execute_result"
    }
   ],
   "source": [
    "# word counts\n",
    "[len(desc.split(' ')) for desc in desc_wares_df['desc']][:10]"
   ]
  },
  {
   "cell_type": "code",
   "execution_count": 2072,
   "metadata": {
    "collapsed": false
   },
   "outputs": [
    {
     "data": {
      "image/png": "[encoded data removed]",
      "text/plain": [
       "<matplotlib.figure.Figure at 0x1184ff490>"
      ]
     },
     "metadata": {},
     "output_type": "display_data"
    }
   ],
   "source": [
    "plt.figure(figsize=(10,5))\n",
    "plt.hist([len(desc.split(' ')) for desc in desc_wares_df['desc']], bins=30)\n",
    "plt.xlabel('description lengths')\n",
    "plt.ylabel('frequencies')\n",
    "plt.show()"
   ]
  },
  {
   "cell_type": "markdown",
   "metadata": {},
   "source": [
    "---"
   ]
  },
  {
   "cell_type": "code",
   "execution_count": 2073,
   "metadata": {
    "collapsed": false
   },
   "outputs": [],
   "source": [
    "desc_wares_df.loc[:,'desc'] = desc_wares_df.loc[:,'desc'].str.lower()"
   ]
  },
  {
   "cell_type": "code",
   "execution_count": 2083,
   "metadata": {
    "collapsed": false
   },
   "outputs": [
    {
     "data": {
      "text/plain": [
       "0    the ware is characterized by the decoration of...\n",
       "4    the fabric is coarse and gritty. the color var...\n",
       "6    moderately hard, coarse fabric with many small...\n",
       "7    bassit imperial amphorae fabric (hayes 1991, f...\n",
       "8    a27.1 bassit imperial amphora fabric black san...\n",
       "Name: desc, dtype: object"
      ]
     },
     "execution_count": 2083,
     "metadata": {},
     "output_type": "execute_result"
    }
   ],
   "source": [
    "desc_wares_df['desc'].head()"
   ]
  },
  {
   "cell_type": "code",
   "execution_count": 2138,
   "metadata": {
    "collapsed": false
   },
   "outputs": [
    {
     "data": {
      "text/plain": [
       "0    the ware is characterized by the decoration of...\n",
       "4    the fabric is coarse and gritty  the color var...\n",
       "6    moderately hard  coarse fabric with many small...\n",
       "7    bassit imperial amphorae fabric  hayes 1991  f...\n",
       "8    a27 1 bassit imperial amphora fabric black san...\n",
       "Name: desc, dtype: object"
      ]
     },
     "execution_count": 2138,
     "metadata": {},
     "output_type": "execute_result"
    }
   ],
   "source": [
    "desc_nopunc_df = desc_wares_df.replace(to_replace={\"desc\":{\"\\W\".format(stop_words):\" \"}}, regex=True)\n",
    "desc_nopunc_df['desc'].head()"
   ]
  },
  {
   "cell_type": "code",
   "execution_count": 2139,
   "metadata": {
    "collapsed": false
   },
   "outputs": [
    {
     "data": {
      "text/plain": [
       "'i|me|my|myself|we|our|ours|ourselves|you|your|yours|yourself|yourselves|he|him|his|himself|she|her|hers|herself|it|its|itself|they|them|their|theirs|themselves|what|which|who|whom|this|that|these|those|am|is|are|was|were|be|been|being|have|has|had|having|do|does|did|doing|a|an|the|and|but|if|or|because|as|until|while|of|at|by|for|with|about|against|between|into|through|during|before|after|above|below|to|from|up|down|in|out|on|off|over|under|again|further|then|once|here|there|when|where|why|how|all|any|both|each|few|more|most|other|some|such|no|nor|not|only|own|same|so|than|too|very|s|t|can|will|just|don|should|now'"
      ]
     },
     "execution_count": 2139,
     "metadata": {},
     "output_type": "execute_result"
    }
   ],
   "source": [
    "stop_words = \"|\".join([sw.encode('ascii') for sw in stopwords])\n",
    "stop_words"
   ]
  },
  {
   "cell_type": "code",
   "execution_count": 2142,
   "metadata": {
    "collapsed": false
   },
   "outputs": [
    {
     "data": {
      "text/plain": [
       "0     ware characterized the decoration alternating...\n",
       "4     fabric coarse gritty color varies red  2 5 yr...\n",
       "6    moderately hard  coarse fabric many small larg...\n",
       "7    bassit imperial amphorae fabric  hayes 1991  f...\n",
       "8    a27 1 bassit imperial amphora fabric black san...\n",
       "Name: desc, dtype: object"
      ]
     },
     "execution_count": 2142,
     "metadata": {},
     "output_type": "execute_result"
    }
   ],
   "source": [
    "desc_less_df = desc_nopunc_df.replace(to_replace={\"desc\":{\"(^|\\s+)({0})\\s+\".format(stop_words):\" \"}}, regex=True)\n",
    "desc_less_df['desc'].head()"
   ]
  },
  {
   "cell_type": "code",
   "execution_count": 2143,
   "metadata": {
    "collapsed": false
   },
   "outputs": [
    {
     "data": {
      "text/plain": [
       "0     ware characterized decoration alternating wav...\n",
       "4     fabric coarse gritty color varies red  2 5 yr...\n",
       "6    moderately hard  coarse fabric many small larg...\n",
       "7    bassit imperial amphorae fabric  hayes 1991  f...\n",
       "8    a27 1 bassit imperial amphora fabric black san...\n",
       "Name: desc, dtype: object"
      ]
     },
     "execution_count": 2143,
     "metadata": {},
     "output_type": "execute_result"
    }
   ],
   "source": [
    "# run twice cause it's late\n",
    "desc_less_df = desc_less_df.replace(to_replace={\"desc\":{\"(^|\\s+)({0})\\s+\".format(stop_words):\" \"}}, regex=True)\n",
    "desc_less_df['desc'].head()"
   ]
  },
  {
   "cell_type": "code",
   "execution_count": 2150,
   "metadata": {
    "collapsed": false
   },
   "outputs": [
    {
     "data": {
      "text/plain": [
       "0     ware characterized decoration alternating wav...\n",
       "4     fabric coarse gritty color varies red  2 5 yr...\n",
       "6    moderately hard  coarse fabric many small larg...\n",
       "7    bassit imperial amphorae fabric  hayes 1991  f...\n",
       "8    a27 1 bassit imperial amphora fabric black san...\n",
       "Name: desc, dtype: object"
      ]
     },
     "execution_count": 2150,
     "metadata": {},
     "output_type": "execute_result"
    }
   ],
   "source": [
    "# run thrice cause it's late\n",
    "desc_less_df = desc_less_df.replace(to_replace={\"desc\":{\"(^|\\s+)({0})\\s+\".format(stop_words):\" \"}}, regex=True)\n",
    "desc_less_df['desc'].head()"
   ]
  },
  {
   "cell_type": "code",
   "execution_count": 2151,
   "metadata": {
    "collapsed": false
   },
   "outputs": [
    {
     "data": {
      "text/plain": [
       "Series([], Name: desc, dtype: object)"
      ]
     },
     "execution_count": 2151,
     "metadata": {},
     "output_type": "execute_result"
    }
   ],
   "source": [
    "desc_less_df[desc_less_df['desc'].str.contains(' the ')]['desc']"
   ]
  },
  {
   "cell_type": "code",
   "execution_count": 2157,
   "metadata": {
    "collapsed": false
   },
   "outputs": [
    {
     "data": {
      "text/plain": [
       "0       ware characterized decoration alternating wav...\n",
       "4       fabric coarse gritty color varies red2 5 yr 5...\n",
       "6      moderately hardcoarse fabric many small large ...\n",
       "7      bassit imperial amphorae fabrichayes 1991fig 6...\n",
       "8      a27 1 bassit imperial amphora fabric black san...\n",
       "9      vessels grey white color granular texturesmall...\n",
       "10     denseclean light pinkish brown5yr 7 4 7 5yr 8 ...\n",
       "12     nfw egg shell thinreddish orangehard fired war...\n",
       "13     heavy red slip vertical burnishing horizontal ...\n",
       "14     often red slipped black painted decorationsimp...\n",
       "15     early roman jiyeh wareerjwshows close affinity...\n",
       "16     npfw egg shell thinreddish orangehard fired wa...\n",
       "17     white light ware painted decoration single col...\n",
       "18      ware darker fabric philistin monochrome devel...\n",
       "19     whitish light brown fabricoccassionally pinkis...\n",
       "20     plain wares represent major class undecorated ...\n",
       "22     coarse low quality ware many inclusions poorly...\n",
       "23     a37 later bassit amphorae fabricc fm32 1o33 3 ...\n",
       "24                      hardgrittydark grey black fabric\n",
       "25     m32 bassit mortaria fabrichayes 1967 red brown...\n",
       "27     m32 1 hard dark brown fabric irregular fractur...\n",
       "29     n32 oxidisedred dark red fabric hard irregular...\n",
       "30     n34 oxidised red fabric hard irregular fractur...\n",
       "31     whitish pinkish fine well levidated clayself s...\n",
       "32     hellenistic cypriot group 1matrix color ranges...\n",
       "33      fabric calcareous sandy sometimes mildly poro...\n",
       "36     reddish brown brown exteriorgray black core re...\n",
       "37                                          painted pots\n",
       "38      cleanmoderately harddense light pinkish brown...\n",
       "39     vessel designed transported seaelongated conic...\n",
       "                             ...                        \n",
       "190    moderately hardextremely coarse fabric many me...\n",
       "191    hardbrick redcoarse fabric10r 5 4moderate poro...\n",
       "192    hardfinebuff fabric2 5y 7 4 low porosity5 smal...\n",
       "193    friable greyish white stonepaste inclusionstra...\n",
       "195    fine reddish yellow7 5yr6 65yr5 6 yellowish br...\n",
       "196    vessels generally fully fired pale pink brown ...\n",
       "197    hardcoarsedark brown fabricsurface7 5yr 4 3n b...\n",
       "198     typical iron age mortarium straight everted w...\n",
       "199    dominant style cypro geometric periodattested ...\n",
       "200    fabric varies colourhardness porosity compared...\n",
       "201    reworked marl taqiye formationreddish yellowra...\n",
       "202    hardcoarsegrey fabric10yr 5 1grey middlelight ...\n",
       "203    hardfineorange red fabric2 5yr 6 65yr 6 6low p...\n",
       "204    npfw egg shell thinreddish orangehard fired wa...\n",
       "205     matrix reddishclayeyoptically active silty si...\n",
       "206     ware classified unique physical attribute pla...\n",
       "207     tell el yahudiya ware characterized distincti...\n",
       "208    npfw egg shell thinreddish orangehard fired wa...\n",
       "209    dominant ware middle late cypro geometric peri...\n",
       "210     fabric ware made nile silt naturally abundant...\n",
       "211     npfw egg shell thinreddish orangehard fired w...\n",
       "212    npfw egg shell thinreddish orangehard fired wa...\n",
       "213    dominant ware early cypro archaic period attes...\n",
       "214     thick walledcoarse sandy fabric varies pink r...\n",
       "215     thick walledcoarse sandy fabric varies buff b...\n",
       "216     fine thin walled ware colors varying buff lig...\n",
       "217     thin walledbrick red ware used make cooking v...\n",
       "220    fpf fabric defined conspicuous coarse rounded ...\n",
       "221     fabric quite hard fairly gritty many smallmed...\n",
       "223    open carinated bowls made using brownsoil deri...\n",
       "Name: desc, dtype: object"
      ]
     },
     "execution_count": 2157,
     "metadata": {},
     "output_type": "execute_result"
    }
   ],
   "source": [
    "desc_less_df['desc']"
   ]
  },
  {
   "cell_type": "markdown",
   "metadata": {},
   "source": [
    "---"
   ]
  },
  {
   "cell_type": "markdown",
   "metadata": {},
   "source": [
    "---"
   ]
  },
  {
   "cell_type": "markdown",
   "metadata": {},
   "source": [
    "want to compare each desc to each other; need to keep them separated, unlike below (maybe just in pandas, go lowercase, replace punc, and replace stopwords with nadda); also, as seen below, remove those double puncs that get through using regex (e.g., \".'\")"
   ]
  },
  {
   "cell_type": "code",
   "execution_count": 2001,
   "metadata": {
    "collapsed": false
   },
   "outputs": [
    {
     "data": {
      "text/plain": [
       "['ware',\n",
       " 'characterized',\n",
       " 'decoration',\n",
       " 'alternating',\n",
       " 'wavy',\n",
       " 'straight',\n",
       " 'lines',\n",
       " 'painted',\n",
       " 'red',\n",
       " 'white',\n",
       " 'blue',\n",
       " \".'\",\n",
       " 'fabric',\n",
       " 'coarse',\n",
       " 'gritty',\n",
       " 'color',\n",
       " 'varies',\n",
       " 'red',\n",
       " 'yr',\n",
       " 'yellowish',\n",
       " 'red',\n",
       " 'yr',\n",
       " 'brown',\n",
       " 'yr',\n",
       " 'dark',\n",
       " 'brown',\n",
       " 'yr',\n",
       " 'black',\n",
       " 'limestone',\n",
       " 'grits',\n",
       " 'inclusions',\n",
       " 'sand',\n",
       " 'white',\n",
       " 'spots',\n",
       " 'due',\n",
       " 'vitrification',\n",
       " 'vessels',\n",
       " 'light',\n",
       " 'colored',\n",
       " 'exterior',\n",
       " 'ranges',\n",
       " 'white',\n",
       " 'y',\n",
       " 'light',\n",
       " 'red',\n",
       " 'yr',\n",
       " '),',\n",
       " 'pale',\n",
       " 'brown',\n",
       " 'yr',\n",
       " 'light',\n",
       " 'reddish',\n",
       " 'brown',\n",
       " 'yr',\n",
       " ').',\n",
       " 'lighter',\n",
       " 'colored',\n",
       " 'exterior',\n",
       " 'apparently',\n",
       " 'achieved',\n",
       " 'dipping',\n",
       " 'vessels',\n",
       " 'salt',\n",
       " 'water',\n",
       " 'firing',\n",
       " 'kiln',\n",
       " \".'\",\n",
       " 'moderately',\n",
       " 'hard',\n",
       " 'coarse',\n",
       " 'fabric',\n",
       " 'many',\n",
       " 'small',\n",
       " 'large',\n",
       " 'white',\n",
       " 'gray',\n",
       " 'brown',\n",
       " 'red',\n",
       " 'inclusions',\n",
       " 'color',\n",
       " 'fabric',\n",
       " 'slip',\n",
       " 'highly',\n",
       " 'variable',\n",
       " 'unslipped',\n",
       " 'surfaces',\n",
       " 'fired',\n",
       " 'purplish',\n",
       " 'brown',\n",
       " '5yr',\n",
       " '5yr',\n",
       " 'pink',\n",
       " '10r',\n",
       " '),',\n",
       " 'orange',\n",
       " '5yr',\n",
       " '),',\n",
       " 'pale',\n",
       " 'yellow',\n",
       " '10yr',\n",
       " ').',\n",
       " 'often',\n",
       " 'wide',\n",
       " 'gray',\n",
       " 'core',\n",
       " '5yr',\n",
       " '5yr',\n",
       " ').',\n",
       " 'ware',\n",
       " 'gets',\n",
       " 'name',\n",
       " 'thick',\n",
       " 'sloppily',\n",
       " 'applied',\n",
       " 'slip',\n",
       " 'partially',\n",
       " 'coats',\n",
       " 'many',\n",
       " 'vessels',\n",
       " 'ware',\n",
       " 'slip',\n",
       " 'matte',\n",
       " 'ranges',\n",
       " 'color',\n",
       " 'red',\n",
       " 'brown',\n",
       " '10r',\n",
       " '5yr',\n",
       " '5yr',\n",
       " 'pink',\n",
       " '5yr',\n",
       " \").'\",\n",
       " 'bassit',\n",
       " 'imperial',\n",
       " 'amphorae',\n",
       " 'fabric',\n",
       " 'hayes',\n",
       " 'fig',\n",
       " 'cf',\n",
       " 'reynolds',\n",
       " 'figs',\n",
       " 'cat',\n",
       " '.)',\n",
       " 'red',\n",
       " 'oxidized',\n",
       " 'fabric',\n",
       " 'hard',\n",
       " 'fine',\n",
       " 'fracture',\n",
       " 'sandy',\n",
       " 'feel',\n",
       " 'common',\n",
       " 'poorly',\n",
       " 'sorted',\n",
       " 'angular',\n",
       " 'black',\n",
       " 'sand',\n",
       " '1mm',\n",
       " 'common',\n",
       " 'lime',\n",
       " '2mm',\n",
       " 'moderate',\n",
       " 'white',\n",
       " 'quartz',\n",
       " 'occasional',\n",
       " 'red',\n",
       " 'stone',\n",
       " '1mm',\n",
       " \".'\",\n",
       " 'a27',\n",
       " 'bassit',\n",
       " 'imperial',\n",
       " 'amphora',\n",
       " 'fabric',\n",
       " 'black',\n",
       " 'sand',\n",
       " 'variant',\n",
       " 'c',\n",
       " 'f',\n",
       " 'o33',\n",
       " 'hard',\n",
       " 'brown',\n",
       " 'fabric',\n",
       " 'irregular',\n",
       " 'fracture',\n",
       " 'sandy',\n",
       " 'gritty',\n",
       " 'feel',\n",
       " 'inclusions',\n",
       " 'common',\n",
       " 'sub',\n",
       " 'rounded',\n",
       " 'black',\n",
       " 'sand',\n",
       " 'mm',\n",
       " 'moderate',\n",
       " 'subanglular',\n",
       " 'lime',\n",
       " '2mm',\n",
       " 'occasional',\n",
       " 'quartz',\n",
       " '5mm',\n",
       " 'sandy',\n",
       " 'matrix',\n",
       " 'moderated',\n",
       " 'fine',\n",
       " 'silver',\n",
       " 'mica',\n",
       " \".'\",\n",
       " 'vessels',\n",
       " 'grey',\n",
       " 'white',\n",
       " 'color',\n",
       " 'granular',\n",
       " 'texture',\n",
       " 'small',\n",
       " 'occasional',\n",
       " 'medium',\n",
       " 'angular',\n",
       " 'lime',\n",
       " 'inclusions',\n",
       " 'quartz',\n",
       " 'sand',\n",
       " \".'\",\n",
       " 'dense',\n",
       " 'clean',\n",
       " 'light',\n",
       " 'pinkish',\n",
       " 'brown',\n",
       " '5yr',\n",
       " '5yr',\n",
       " '),',\n",
       " 'slightly',\n",
       " 'granular',\n",
       " 'fine',\n",
       " 'lime',\n",
       " 'inclusions',\n",
       " 'fully',\n",
       " 'fired',\n",
       " 'matte',\n",
       " 'semi',\n",
       " 'lustrous',\n",
       " 'smooth',\n",
       " 'orange',\n",
       " 'red',\n",
       " 'slip',\n",
       " 'brushed',\n",
       " 'usually',\n",
       " 'covering',\n",
       " 'entire',\n",
       " 'interior',\n",
       " 'upper',\n",
       " 'exterior',\n",
       " 'dribbling',\n",
       " 'onto',\n",
       " 'lower',\n",
       " 'wall',\n",
       " 'nfw',\n",
       " 'egg',\n",
       " 'shell',\n",
       " 'thin',\n",
       " 'reddish',\n",
       " 'orange',\n",
       " 'hard',\n",
       " 'fired',\n",
       " 'ware',\n",
       " 'produced',\n",
       " 'highly',\n",
       " 'levigated',\n",
       " 'clay',\n",
       " 'later',\n",
       " 'less',\n",
       " 'carefully',\n",
       " 'manufactured',\n",
       " 'examples',\n",
       " 'nfw',\n",
       " 'occasionally',\n",
       " 'display',\n",
       " 'inclusions',\n",
       " 'quartz',\n",
       " 'limestone',\n",
       " 'could',\n",
       " 'indicative',\n",
       " 'mass',\n",
       " 'production',\n",
       " '.\"',\n",
       " 'please',\n",
       " 'see',\n",
       " 'nabataean',\n",
       " 'semi',\n",
       " 'fine',\n",
       " 'ware',\n",
       " 'r',\n",
       " 'n',\n",
       " 'r',\n",
       " 'nnfw',\n",
       " 'aesthetically',\n",
       " 'pleasing',\n",
       " 'produced',\n",
       " 'mimic',\n",
       " 'eastern',\n",
       " 'western',\n",
       " 'sigillatas',\n",
       " 'metal',\n",
       " 'later',\n",
       " 'glass',\n",
       " 'table',\n",
       " 'wares',\n",
       " 'nfw',\n",
       " 'represented',\n",
       " 'forms',\n",
       " 'e',\n",
       " 'g',\n",
       " 'cups',\n",
       " 'jugs',\n",
       " 'juglets',\n",
       " 'jars',\n",
       " 'unguentaria',\n",
       " 'bowls',\n",
       " 'plates',\n",
       " \".'\",\n",
       " 'heavy',\n",
       " 'red',\n",
       " 'slip',\n",
       " 'vertical',\n",
       " 'burnishing',\n",
       " 'horizontal',\n",
       " 'black',\n",
       " 'white',\n",
       " 'lines',\n",
       " 'decorating',\n",
       " 'body',\n",
       " 'vessel',\n",
       " \".'\",\n",
       " 'often',\n",
       " 'red',\n",
       " 'slipped',\n",
       " 'black',\n",
       " 'painted',\n",
       " 'decoration',\n",
       " 'simple',\n",
       " 'philistine',\n",
       " 'motifs',\n",
       " 'e',\n",
       " 'g',\n",
       " 'spirals',\n",
       " 'sometimes',\n",
       " 'undecorated',\n",
       " 'keeping',\n",
       " 'classical',\n",
       " 'philistine',\n",
       " 'forms',\n",
       " \".'\",\n",
       " 'early',\n",
       " 'roman',\n",
       " 'jiyeh',\n",
       " 'ware',\n",
       " 'erjw',\n",
       " 'shows',\n",
       " 'close',\n",
       " 'affinity',\n",
       " 'late',\n",
       " 'hellenistic',\n",
       " 'material',\n",
       " 'yet',\n",
       " 'diversity',\n",
       " 'two',\n",
       " 'groups',\n",
       " 'colour',\n",
       " 'admixture',\n",
       " 'made',\n",
       " 'identification',\n",
       " 'group',\n",
       " 'easy',\n",
       " 'erjw',\n",
       " 'characterised',\n",
       " 'surface',\n",
       " 'reddish',\n",
       " 'brown',\n",
       " 'colour',\n",
       " 'yr',\n",
       " '10r',\n",
       " '),',\n",
       " 'thin',\n",
       " 'fracture',\n",
       " 'core',\n",
       " 'colour',\n",
       " 'ranging',\n",
       " 'gray',\n",
       " 'black',\n",
       " 'ware',\n",
       " 'contains',\n",
       " 'lime',\n",
       " 'inclusions',\n",
       " 'compared',\n",
       " 'lhjw',\n",
       " 'addition',\n",
       " 'also',\n",
       " 'contains',\n",
       " 'gray',\n",
       " 'black',\n",
       " 'particles',\n",
       " 'however',\n",
       " 'ceramic',\n",
       " 'body',\n",
       " 'contains',\n",
       " 'less',\n",
       " 'sand',\n",
       " 'material',\n",
       " 'previous',\n",
       " 'period',\n",
       " 'also',\n",
       " 'appears',\n",
       " 'compact',\n",
       " 'worth',\n",
       " 'mention',\n",
       " 'material',\n",
       " 'quite',\n",
       " 'resemblance',\n",
       " 'classic',\n",
       " 'beirut',\n",
       " 'clay',\n",
       " 'also',\n",
       " 'mentioned',\n",
       " 'early',\n",
       " 'roman',\n",
       " 'production',\n",
       " 'identical',\n",
       " 'utility',\n",
       " 'vessel',\n",
       " 'groups',\n",
       " 'ones',\n",
       " 'earlier',\n",
       " 'production',\n",
       " 'distinguished',\n",
       " 'however',\n",
       " 'diminished',\n",
       " 'diversity',\n",
       " 'specific',\n",
       " 'types',\n",
       " 'forms',\n",
       " 'utility',\n",
       " 'vessel',\n",
       " 'groups',\n",
       " 'noticeable',\n",
       " 'npfw',\n",
       " 'egg',\n",
       " 'shell',\n",
       " 'thin',\n",
       " 'reddish',\n",
       " 'orange',\n",
       " 'hard',\n",
       " 'fired',\n",
       " 'ware',\n",
       " 'produced',\n",
       " 'highly',\n",
       " 'levigated',\n",
       " 'clay',\n",
       " 'later',\n",
       " 'less',\n",
       " 'carefully',\n",
       " 'manufactured',\n",
       " 'examples',\n",
       " 'npfw',\n",
       " 'occasionally',\n",
       " 'display',\n",
       " 'inclusions',\n",
       " 'quartz',\n",
       " 'limestone',\n",
       " 'vessel',\n",
       " 'finished',\n",
       " 'painted',\n",
       " 'design',\n",
       " 'designs',\n",
       " 'categorized',\n",
       " 'dekorphase',\n",
       " 'stephan',\n",
       " 'schmid',\n",
       " 'dekorphase',\n",
       " '3c',\n",
       " 'thicker',\n",
       " 'coarser',\n",
       " 'ware',\n",
       " 'lines',\n",
       " 'common',\n",
       " 'dekorphases',\n",
       " '3a',\n",
       " '3b',\n",
       " 'disappeared',\n",
       " 'instead',\n",
       " 'palm',\n",
       " 'leaf',\n",
       " 'pomegranate',\n",
       " 'patterns',\n",
       " 'applied',\n",
       " 'thick',\n",
       " 'black',\n",
       " 'paint',\n",
       " \".'\",\n",
       " 'white',\n",
       " 'light',\n",
       " 'ware',\n",
       " 'painted',\n",
       " 'decoration',\n",
       " 'single',\n",
       " 'color',\n",
       " 'particular',\n",
       " 'motifs',\n",
       " 'linked',\n",
       " 'philistine',\n",
       " 'arrival',\n",
       " 'canaan',\n",
       " 'ware',\n",
       " 'darker',\n",
       " 'fabric',\n",
       " 'philistin',\n",
       " 'monochrome',\n",
       " 'develops',\n",
       " 'vessels',\n",
       " 'thick',\n",
       " 'white',\n",
       " 'slip',\n",
       " 'red',\n",
       " 'black',\n",
       " 'decoration',\n",
       " 'motifs',\n",
       " 'continue',\n",
       " 'seen',\n",
       " 'philistine',\n",
       " 'monochrome',\n",
       " 'variation',\n",
       " 'spirals',\n",
       " 'checkerboards',\n",
       " 'birds',\n",
       " 'fish',\n",
       " 'crosses',\n",
       " 'common',\n",
       " \".'\",\n",
       " 'whitish',\n",
       " 'light',\n",
       " 'brown',\n",
       " 'fabric',\n",
       " 'occassionally',\n",
       " 'pinkish',\n",
       " 'well',\n",
       " 'levigated',\n",
       " 'brown',\n",
       " 'decoration',\n",
       " 'plain',\n",
       " 'wares',\n",
       " 'represent',\n",
       " 'major',\n",
       " 'class',\n",
       " 'undecorated',\n",
       " 'pottery',\n",
       " 'late',\n",
       " 'bronze',\n",
       " 'age',\n",
       " 'cyprus',\n",
       " 'label',\n",
       " 'plain',\n",
       " 'ware',\n",
       " 'used',\n",
       " 'group',\n",
       " 'large',\n",
       " 'array',\n",
       " 'vessel',\n",
       " 'types',\n",
       " 'fabrics',\n",
       " 'mostly',\n",
       " 'made',\n",
       " 'coarse',\n",
       " 'grained',\n",
       " 'fabrics',\n",
       " 'full',\n",
       " 'inclusions',\n",
       " \".'\",\n",
       " 'coarse',\n",
       " 'low',\n",
       " 'quality',\n",
       " 'ware',\n",
       " 'many',\n",
       " 'inclusions',\n",
       " 'poorly',\n",
       " 'sifted',\n",
       " 'painted',\n",
       " 'various',\n",
       " 'scenes',\n",
       " 'paint',\n",
       " 'brown',\n",
       " 'red',\n",
       " 'earlier',\n",
       " 'stages',\n",
       " 'deriving',\n",
       " 'earlier',\n",
       " 'imported',\n",
       " 'bichrome',\n",
       " 'late',\n",
       " 'bronze',\n",
       " 'age',\n",
       " 'usually',\n",
       " 'red',\n",
       " 'lb',\n",
       " 'iib',\n",
       " '13th',\n",
       " 'century',\n",
       " 'bce',\n",
       " ').',\n",
       " 'tradition',\n",
       " 'continues',\n",
       " 'iron',\n",
       " 'age',\n",
       " 'alongside',\n",
       " 'philistine',\n",
       " 'pottery',\n",
       " 'although',\n",
       " 'smaller',\n",
       " 'quantities',\n",
       " 'painted',\n",
       " 'decorations',\n",
       " 'include',\n",
       " 'division',\n",
       " 'triglyphs',\n",
       " 'metopes',\n",
       " 'ibexes',\n",
       " 'flanking',\n",
       " 'palm',\n",
       " 'tree',\n",
       " 'animals',\n",
       " 'plants',\n",
       " 'simpler',\n",
       " 'lines',\n",
       " 'lipstick',\n",
       " 'red',\n",
       " 'line',\n",
       " 'paint',\n",
       " 'along',\n",
       " 'rim',\n",
       " \".'\",\n",
       " 'a37',\n",
       " 'later',\n",
       " 'bassit',\n",
       " 'amphorae',\n",
       " 'fabric',\n",
       " 'c',\n",
       " 'f',\n",
       " 'm32',\n",
       " 'o33',\n",
       " 'oxidised',\n",
       " 'red',\n",
       " 'amphora',\n",
       " 'fabric',\n",
       " 'hard',\n",
       " 'irregular',\n",
       " 'fracture',\n",
       " 'ad',\n",
       " 'coarse',\n",
       " 'feel',\n",
       " 'inclusions',\n",
       " 'common',\n",
       " 'sub',\n",
       " 'angular',\n",
       " 'basalt',\n",
       " 'mm',\n",
       " 'common',\n",
       " 'sub',\n",
       " 'angular',\n",
       " 'lime',\n",
       " '2mm',\n",
       " 'occasional',\n",
       " 'red',\n",
       " 'stone',\n",
       " '.\\\\',\n",
       " 'r',\n",
       " 'n',\n",
       " 'r',\n",
       " 'nthe',\n",
       " 'date',\n",
       " 'distribution',\n",
       " 'implies',\n",
       " 'production',\n",
       " 'commencing',\n",
       " 'early',\n",
       " '3rd',\n",
       " 'century',\n",
       " 'presence',\n",
       " 'sixth',\n",
       " 'century',\n",
       " 'forms',\n",
       " 'include',\n",
       " 'early',\n",
       " 'fifth',\n",
       " 'century',\n",
       " 'lra1',\n",
       " 'copies',\n",
       " 'also',\n",
       " 'note',\n",
       " 'group',\n",
       " 'late',\n",
       " '2nd',\n",
       " '?-',\n",
       " '3rd',\n",
       " 'c',\n",
       " 'ce',\n",
       " 'xe2',\n",
       " 'x80',\n",
       " 'x98transport',\n",
       " 'dolia',\n",
       " 'xe2',\n",
       " 'x80',\n",
       " 'x99',\n",
       " 'fabric',\n",
       " 'hard',\n",
       " 'gritty',\n",
       " 'dark',\n",
       " 'grey',\n",
       " 'black',\n",
       " 'fabric',\n",
       " 'm32',\n",
       " 'bassit',\n",
       " 'mortaria',\n",
       " 'fabric',\n",
       " 'hayes',\n",
       " ').',\n",
       " 'red',\n",
       " 'brown',\n",
       " 'fabric',\n",
       " 'hard',\n",
       " 'irregular',\n",
       " 'fracture',\n",
       " 'harsh',\n",
       " 'sandy',\n",
       " 'feel',\n",
       " 'inclusions',\n",
       " 'common',\n",
       " 'sub',\n",
       " 'angular',\n",
       " 'quartz',\n",
       " '4mm',\n",
       " 'common',\n",
       " 'black',\n",
       " 'sand',\n",
       " '5mm',\n",
       " 'rounded',\n",
       " 'lime',\n",
       " '1mm',\n",
       " \".'\",\n",
       " 'm32',\n",
       " 'hard',\n",
       " 'dark',\n",
       " 'brown',\n",
       " 'fabric',\n",
       " 'irregular',\n",
       " 'fracture',\n",
       " 'harsh',\n",
       " 'sandy',\n",
       " 'feel',\n",
       " 'inclusions',\n",
       " 'abundant',\n",
       " 'basalt',\n",
       " '6mm',\n",
       " 'common',\n",
       " 'sub',\n",
       " 'rounded',\n",
       " 'lime',\n",
       " 'c',\n",
       " '5mm',\n",
       " 'sandy',\n",
       " 'matrix',\n",
       " \".'\",\n",
       " 'n32',\n",
       " 'oxidised',\n",
       " 'red',\n",
       " 'dark',\n",
       " 'red',\n",
       " 'fabric',\n",
       " 'hard',\n",
       " 'irregular',\n",
       " 'fracture',\n",
       " 'sandy',\n",
       " 'feel',\n",
       " 'inclusions',\n",
       " 'common',\n",
       " 'quartz',\n",
       " '2mm',\n",
       " 'black',\n",
       " 'sand',\n",
       " '2mm',\n",
       " 'occasional',\n",
       " 'lime',\n",
       " 'red',\n",
       " 'stone',\n",
       " 'n34',\n",
       " 'oxidised',\n",
       " 'red',\n",
       " 'fabric',\n",
       " 'hard',\n",
       " 'irregular',\n",
       " 'fracture',\n",
       " 'sandy',\n",
       " 'feel',\n",
       " 'inclusions',\n",
       " 'common',\n",
       " 'subrounded',\n",
       " 'lime',\n",
       " '8mm',\n",
       " 'moderate',\n",
       " 'black',\n",
       " 'sand',\n",
       " '3mm',\n",
       " '.\\\\',\n",
       " 'r',\n",
       " 'n',\n",
       " 'r',\n",
       " 'nthis',\n",
       " 'fabric',\n",
       " 'would',\n",
       " 'appear',\n",
       " 'used',\n",
       " 'later',\n",
       " 'dolia',\n",
       " \".'\",\n",
       " 'whitish',\n",
       " 'pinkish',\n",
       " 'fine',\n",
       " 'well',\n",
       " 'levidated',\n",
       " 'clay',\n",
       " 'self',\n",
       " 'slip',\n",
       " 'dark',\n",
       " 'brown',\n",
       " 'reddish',\n",
       " 'monochrome',\n",
       " 'decoration',\n",
       " '.\\\\',\n",
       " 'r',\n",
       " 'n',\n",
       " 'hellenistic',\n",
       " 'cypriot',\n",
       " 'group',\n",
       " 'matrix',\n",
       " 'color',\n",
       " 'ranges',\n",
       " 'orange',\n",
       " 'red',\n",
       " 'according',\n",
       " 'firing',\n",
       " 'temperature',\n",
       " 'level',\n",
       " 'grey',\n",
       " 'black',\n",
       " 'red',\n",
       " 'grits',\n",
       " 'white',\n",
       " 'yellowish',\n",
       " 'lime',\n",
       " 'grits',\n",
       " 'may',\n",
       " 'occur',\n",
       " 'section',\n",
       " 'matrix',\n",
       " 'slip',\n",
       " 'well',\n",
       " 'sticked',\n",
       " 'clay',\n",
       " 'orange',\n",
       " 'reddish',\n",
       " 'coloured',\n",
       " 'often',\n",
       " 'lime',\n",
       " 'spots',\n",
       " 'visible',\n",
       " 'surface',\n",
       " \".'\",\n",
       " 'fabric',\n",
       " 'calcareous',\n",
       " 'sandy',\n",
       " 'sometimes',\n",
       " 'mildly',\n",
       " 'porous',\n",
       " 'main',\n",
       " 'tempers',\n",
       " 'characteristic',\n",
       " 'well',\n",
       " 'sorted',\n",
       " 'costal',\n",
       " 'quartz',\n",
       " 'sand',\n",
       " '(~',\n",
       " '%),',\n",
       " 'poorly',\n",
       " 'sorted',\n",
       " 'lime',\n",
       " 'stone',\n",
       " 'carmel',\n",
       " 'kurkar',\n",
       " 'fragments',\n",
       " 'sea',\n",
       " 'shells',\n",
       " 'r',\n",
       " 'nthe',\n",
       " 'clay',\n",
       " 'crumbly',\n",
       " 'nature',\n",
       " 'firing',\n",
       " 'process',\n",
       " 'often',\n",
       " 'leaves',\n",
       " 'dark',\n",
       " 'core',\n",
       " 'could',\n",
       " 'suggest',\n",
       " 'medium',\n",
       " 'level',\n",
       " 'firing',\n",
       " 'jars',\n",
       " 'display',\n",
       " 'regular',\n",
       " 'surface',\n",
       " 'treatment',\n",
       " 'decoration',\n",
       " 'r',\n",
       " 'n',\n",
       " 'r',\n",
       " 'nflasks',\n",
       " 'fabric',\n",
       " 'calcareous',\n",
       " 'sandy',\n",
       " 'sometimes',\n",
       " 'mildly',\n",
       " 'porous',\n",
       " 'main',\n",
       " 'tempers',\n",
       " 'well',\n",
       " 'sorted',\n",
       " 'coastal',\n",
       " 'quartz',\n",
       " 'sand',\n",
       " '(~',\n",
       " '%),',\n",
       " 'poorly',\n",
       " 'sorted',\n",
       " 'limestone',\n",
       " 'carmel',\n",
       " 'kurkar',\n",
       " 'fragments',\n",
       " 'sea',\n",
       " 'shells',\n",
       " 'r',\n",
       " 'n',\n",
       " 'r',\n",
       " 'nthe',\n",
       " 'clay',\n",
       " 'crumbly',\n",
       " 'nature',\n",
       " 'firing',\n",
       " 'process',\n",
       " 'often',\n",
       " 'leaves',\n",
       " 'thin',\n",
       " 'strip',\n",
       " 'oxidized',\n",
       " 'reddish',\n",
       " 'fabric',\n",
       " 'leaving',\n",
       " 'dark',\n",
       " 'suggests',\n",
       " 'medium',\n",
       " 'level',\n",
       " 'firing',\n",
       " 'air',\n",
       " 'reached',\n",
       " 'inner',\n",
       " 'part',\n",
       " 'flask',\n",
       " 'firing',\n",
       " 'process',\n",
       " '.\\\\',\n",
       " 'r',\n",
       " 'n',\n",
       " 'r',\n",
       " 'nflasks',\n",
       " 'polished',\n",
       " 'slipped',\n",
       " 'concentric',\n",
       " 'decoration',\n",
       " 'red',\n",
       " 'red',\n",
       " 'black',\n",
       " 'typological',\n",
       " 'chronological',\n",
       " 'discussion',\n",
       " 'flasks',\n",
       " 'see',\n",
       " 'gilboa',\n",
       " 'et',\n",
       " 'al',\n",
       " 'r',\n",
       " 'n',\n",
       " ...]"
      ]
     },
     "execution_count": 2001,
     "metadata": {},
     "output_type": "execute_result"
    }
   ],
   "source": [
    "desc_words_no_nums"
   ]
  },
  {
   "cell_type": "markdown",
   "metadata": {},
   "source": [
    "then NN this jank\n",
    "\n",
    "https://docs.google.com/presentation/d/102TFe5dAmUXja_Ft31z__NUUuY7PZG9AkV7Qn_TwPXg/edit#slide=id.g58471b318_01"
   ]
  }
 ],
 "metadata": {
  "kernelspec": {
   "display_name": "Python 2",
   "language": "python",
   "name": "python2"
  },
  "language_info": {
   "codemirror_mode": {
    "name": "ipython",
    "version": 2
   },
   "file_extension": ".py",
   "mimetype": "text/x-python",
   "name": "python",
   "nbconvert_exporter": "python",
   "pygments_lexer": "ipython2",
   "version": "2.7.10"
  }
 },
 "nbformat": 4,
 "nbformat_minor": 0
}
