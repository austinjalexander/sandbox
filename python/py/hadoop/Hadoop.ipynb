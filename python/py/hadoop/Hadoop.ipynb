{
 "metadata": {
  "name": "",
  "signature": "sha256:9539acf59eae6720117b916f2663a51e67ea3fb4f1b41ecef0e1a7c929417e88"
 },
 "nbformat": 3,
 "nbformat_minor": 0,
 "worksheets": [
  {
   "cells": [
    {
     "cell_type": "code",
     "collapsed": false,
     "input": [
      "!head -50 ../data/purchases.txt > testfile\n",
      "!cat testfile | ./mapper.py | sort | ./reducer.py"
     ],
     "language": "python",
     "metadata": {},
     "outputs": []
    }
   ],
   "metadata": {}
  }
 ]
}