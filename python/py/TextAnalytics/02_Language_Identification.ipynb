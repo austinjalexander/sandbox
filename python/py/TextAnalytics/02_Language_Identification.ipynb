{
 "cells": [
  {
   "cell_type": "markdown",
   "metadata": {},
   "source": [
    "##Lang Detect"
   ]
  },
  {
   "cell_type": "code",
   "execution_count": null,
   "metadata": {
    "collapsed": false
   },
   "outputs": [],
   "source": [
    "from langdetect import detect\n",
    "print detect(\"War doesn't show who's right, just who's left.\")\n",
    "print detect(\"Ein, zwei, drei, vier\")"
   ]
  },
  {
   "cell_type": "markdown",
   "metadata": {},
   "source": [
    "##More Languages"
   ]
  },
  {
   "cell_type": "code",
   "execution_count": null,
   "metadata": {
    "collapsed": false
   },
   "outputs": [],
   "source": [
    "import unicodecsv \n",
    "with open('7languages.txt', 'rb') as input_file:\n",
    "    row_reader = unicodecsv.reader(input_file)\n",
    "    result = []\n",
    "    for row in row_reader:\n",
    "        lang = detect(row[0])\n",
    "        result = result + [lang.encode('ascii','ignore')]\n",
    "        print row[0] , \"|\" , lang"
   ]
  },
  {
   "cell_type": "markdown",
   "metadata": {},
   "source": [
    "##Confusion Matrix"
   ]
  },
  {
   "cell_type": "code",
   "execution_count": null,
   "metadata": {
    "collapsed": false
   },
   "outputs": [],
   "source": [
    "#cerate truth set\n",
    "truth = ['ko','de','zh','ar','es','ja']\n",
    "print truth\n",
    "print result"
   ]
  },
  {
   "cell_type": "code",
   "execution_count": null,
   "metadata": {
    "collapsed": false
   },
   "outputs": [],
   "source": [
    "#Display Confusion Matrix\n",
    "import nltk\n",
    "print nltk.ConfusionMatrix(truth, result)"
   ]
  },
  {
   "cell_type": "markdown",
   "metadata": {},
   "source": [
    "----------------\n",
    "##You Try It\n",
    "1. Put Lang Detect to the test on the 8 Genesis texts\n",
    "2. Output the detected language for each\n",
    "3. Did it get them all right? "
   ]
  },
  {
   "cell_type": "code",
   "execution_count": null,
   "metadata": {
    "collapsed": true
   },
   "outputs": [],
   "source": []
  }
 ],
 "metadata": {
  "kernelspec": {
   "display_name": "Python 2",
   "language": "python",
   "name": "python2"
  },
  "language_info": {
   "codemirror_mode": {
    "name": "ipython",
    "version": 2
   },
   "file_extension": ".py",
   "mimetype": "text/x-python",
   "name": "python",
   "nbconvert_exporter": "python",
   "pygments_lexer": "ipython2",
   "version": "2.7.6"
  }
 },
 "nbformat": 4,
 "nbformat_minor": 0
}
