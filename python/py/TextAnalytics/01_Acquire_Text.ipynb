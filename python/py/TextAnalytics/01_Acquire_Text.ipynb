{
 "cells": [
  {
   "cell_type": "markdown",
   "metadata": {},
   "source": [
    "##NLTK Built In Corpora"
   ]
  },
  {
   "cell_type": "code",
   "execution_count": null,
   "metadata": {
    "collapsed": false
   },
   "outputs": [],
   "source": [
    "#Inspect the texts available in the built in gutenberg corpus\n",
    "from nltk.corpus import gutenberg\n",
    "fileids = gutenberg.fileids()\n",
    "print len(fileids), 'files'\n",
    "print fileids"
   ]
  },
  {
   "cell_type": "markdown",
   "metadata": {},
   "source": [
    "##Alice in Wonderland"
   ]
  },
  {
   "cell_type": "code",
   "execution_count": null,
   "metadata": {
    "collapsed": false,
    "scrolled": true
   },
   "outputs": [],
   "source": [
    "#Inspect the raw text of the Alice in Wonderland text\n",
    "alice_raw = gutenberg.raw(fileids=['carroll-alice.txt'])\n",
    "\n",
    "#Inspecting the type\n",
    "print 'Type: ', type(alice_raw)\n",
    "print\n",
    "\n",
    "#Looking at the first 250 characters\n",
    "print alice_raw[:250]"
   ]
  },
  {
   "cell_type": "markdown",
   "metadata": {
    "collapsed": false
   },
   "source": [
    "---------\n",
    "#You try it.\n",
    "1. Open \"Genesis\" copora. It contains 8 texts. \n",
    "2. Output the names and first 100 characters of each text. "
   ]
  }
 ],
 "metadata": {
  "kernelspec": {
   "display_name": "Python 2",
   "language": "python",
   "name": "python2"
  },
  "language_info": {
   "codemirror_mode": {
    "name": "ipython",
    "version": 2
   },
   "file_extension": ".py",
   "mimetype": "text/x-python",
   "name": "python",
   "nbconvert_exporter": "python",
   "pygments_lexer": "ipython2",
   "version": "2.7.6"
  }
 },
 "nbformat": 4,
 "nbformat_minor": 0
}
