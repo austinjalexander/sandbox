{
 "cells": [
  {
   "cell_type": "code",
   "execution_count": 5,
   "metadata": {
    "collapsed": true
   },
   "outputs": [],
   "source": [
    "import nltk"
   ]
  },
  {
   "cell_type": "code",
   "execution_count": 6,
   "metadata": {
    "collapsed": false
   },
   "outputs": [
    {
     "name": "stdout",
     "output_type": "stream",
     "text": [
      "(S\n",
      "  (PERSON Jack/NNP)\n",
      "  and/CC\n",
      "  (PERSON Jill/NNP)\n",
      "  went/VBD\n",
      "  to/TO\n",
      "  (PERSON Capitol/NNP Hill/NNP))\n"
     ]
    }
   ],
   "source": [
    "from nltk import word_tokenize\n",
    "from nltk import pos_tag\n",
    "from nltk.chunk import ne_chunk\n",
    "text = \"Jack and Jill went to Capitol Hill\"\n",
    "print ne_chunk(pos_tag(word_tokenize(text)))"
   ]
  },
  {
   "cell_type": "code",
   "execution_count": 7,
   "metadata": {
    "collapsed": false
   },
   "outputs": [
    {
     "name": "stdout",
     "output_type": "stream",
     "text": [
      "Populating the interactive namespace from numpy and matplotlib\n"
     ]
    },
    {
     "name": "stderr",
     "output_type": "stream",
     "text": [
      "WARNING: pylab import has clobbered these variables: ['text']\n",
      "`%matplotlib` prevents importing * from pylab and numpy\n"
     ]
    }
   ],
   "source": [
    "t = ne_chunk(pos_tag(word_tokenize(text)))\n",
    "%matplotlib inline \n",
    "%pylab inline\n",
    "nltk.draw.tree.demo()\n",
    "t.draw()"
   ]
  },
  {
   "cell_type": "markdown",
   "metadata": {
    "collapsed": false
   },
   "source": [
    "-------\n",
    "##You Try It\n",
    "1. TBD\n",
    "2. TBD\n",
    "3. TBD\n"
   ]
  },
  {
   "cell_type": "markdown",
   "metadata": {},
   "source": [
    "##Measuing NER Accuracy\n",
    "Compaing the output from NLTK and Rosette API"
   ]
  },
  {
   "cell_type": "code",
   "execution_count": 8,
   "metadata": {
    "collapsed": false
   },
   "outputs": [],
   "source": [
    "import httplib, urllib\n",
    "import os, csv\n",
    "import codecs\n",
    "import json"
   ]
  },
  {
   "cell_type": "code",
   "execution_count": 9,
   "metadata": {
    "collapsed": false
   },
   "outputs": [],
   "source": [
    "#GET /rest/v1/ping HTTP/1.1\n",
    "#Host: api.rosette.com\n",
    "#user_key: 40fe14de7872ebf3b8c5e11c17fb7a5f\n",
    "#Content-Type: application/json\n",
    "#Accept: application/json\n",
    "def ping():\n",
    "    headers = { \"user_key\": \"40fe14de7872ebf3b8c5e11c17fb7a5f\",\n",
    "            \"Content-Type\": \"application/json\",\n",
    "            \"Accept\": \"application/json\"}\n",
    "    conn = httplib.HTTPSConnection(\"api.rosette.com\")\n",
    "    conn.request(\"GET\", \"/rest/v1/ping\", \"\", headers)\n",
    "    response = conn.getresponse()\n",
    "    data = response.read()\n",
    "    conn.close()\n",
    "    return data\n",
    "\n",
    "#POST /rest/v1/entities HTTP/1.1\n",
    "#Host: api.rosette.com\n",
    "#user_key: 40fe14de7872ebf3b8c5e11c17fb7a5f\n",
    "#Content-Type: application/json\n",
    "#Accept: application/json\n",
    "def get_entities(input_text):\n",
    "    headers = { \"user_key\": \"40fe14de7872ebf3b8c5e11c17fb7a5f\",\n",
    "                \"Content-Type\": \"application/json\",\n",
    "                \"Accept\": \"application/json\"}\n",
    "    conn = httplib.HTTPSConnection(\"api.rosette.com\")\n",
    "    body = '{\"type\": \"text\", \"content\": \"'+input_text+'\"}'\n",
    "    conn.request(\"POST\", \"/rest/v1/entities\", body, headers)\n",
    "    response = conn.getresponse()\n",
    "    data = response.read()\n",
    "    conn.close()\n",
    "    return data\n",
    "\n",
    "#POST /rest/v1/morphology/complete HTTP/1.1\n",
    "#Host: api.rosette.com\n",
    "#user_key: 40fe14de7872ebf3b8c5e11c17fb7a5f\n",
    "#Content-Type: application/json\n",
    "#Accept: application/json\n",
    "def get_morphology(input_text):\n",
    "    headers = { \"user_key\": \"40fe14de7872ebf3b8c5e11c17fb7a5f\",\n",
    "                \"Content-Type\": \"application/json\",\n",
    "                \"Accept\": \"application/json\"}\n",
    "    conn = httplib.HTTPSConnection(\"api.rosette.com\")\n",
    "    body = '{\"language\": \"eng\", \"content\": \"'+input_text+'\"}'\n",
    "    conn.request(\"POST\", \"/rest/v1/morphology/parts-of-speech\", body, headers) #complete\n",
    "    response = conn.getresponse()\n",
    "    data = response.read()\n",
    "    conn.close()\n",
    "    return data\n",
    "\n",
    "#print ping()\n",
    "#print get_entities(\"Mary had a little lamb.\");\n",
    "#print get_morphology(\"Mary had a little lamb.\");"
   ]
  },
  {
   "cell_type": "code",
   "execution_count": 10,
   "metadata": {
    "collapsed": false
   },
   "outputs": [],
   "source": [
    "la = \"LA beat New York last night. John was at the game. There are teams in the NHL.\"\n",
    "ny = \"I grew up on the town of Milton. I grew up on the town of Milton. Milton is a great place to live. Only in Milton will you find this.\"\n",
    "cnn = \"Their handling of politically perilous issues this week couldn't have been more different: Jeb Bush, persistently fielding questions in public, hemmed and hawed for days over Iraq, while Hillary Clinton stayed radio silent while her party waged an internal fight over trade.\"\n",
    "jj = \"Jack and Jill went to the Red River\""
   ]
  },
  {
   "cell_type": "code",
   "execution_count": 11,
   "metadata": {
    "collapsed": false
   },
   "outputs": [],
   "source": [
    "#ENTITIES FROM NLTK\n",
    "def extract_entity_names(t):\n",
    "    entity_names = []    \n",
    "    if hasattr(t, 'node') and t.node:\n",
    "        if t.node in ['NE','ORGANIZATION','PERSON','LOCATION','DATE','TIME','MONEY','PERCENT','FACILITY','GPE']:\n",
    "            entity_names.append((' '.join([child[0] for child in t]),t.node))\n",
    "        else:\n",
    "            for child in t:\n",
    "                entity_names.extend(extract_entity_names(child))                \n",
    "    return entity_names\n",
    "\n",
    "raw_response = ne_chunk(pos_tag(word_tokenize(jj)))\n",
    "tuple_response = extract_entity_names(raw_response)\n",
    "\n",
    "#set(tuple_response)\n",
    "\n",
    "for e,t in tuple_response:\n",
    "    print e, \"(\" + t + \")\""
   ]
  },
  {
   "cell_type": "code",
   "execution_count": 12,
   "metadata": {
    "collapsed": false
   },
   "outputs": [
    {
     "name": "stdout",
     "output_type": "stream",
     "text": [
      "Jack (PERSON)\n",
      "Jill (PERSON)\n",
      "Red River (LOCATION)\n"
     ]
    }
   ],
   "source": [
    "#ENTITIES FROM ROSETTE API\n",
    "raw_response = get_entities(jj)\n",
    "json_response = json.loads(raw_response)\n",
    "\n",
    "for e in json_response['entities']:\n",
    "    print e['mention'], \"(\" + e['type'] + \")\""
   ]
  },
  {
   "cell_type": "code",
   "execution_count": null,
   "metadata": {
    "collapsed": false
   },
   "outputs": [],
   "source": []
  }
 ],
 "metadata": {
  "kernelspec": {
   "display_name": "Python 2",
   "language": "python",
   "name": "python2"
  },
  "language_info": {
   "codemirror_mode": {
    "name": "ipython",
    "version": 2
   },
   "file_extension": ".py",
   "mimetype": "text/x-python",
   "name": "python",
   "nbconvert_exporter": "python",
   "pygments_lexer": "ipython2",
   "version": "2.7.9"
  }
 },
 "nbformat": 4,
 "nbformat_minor": 0
}
