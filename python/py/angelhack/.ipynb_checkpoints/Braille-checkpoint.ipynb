{
 "cells": [
  {
   "cell_type": "code",
   "execution_count": 1,
   "metadata": {
    "collapsed": true
   },
   "outputs": [],
   "source": [
    "import numpy as np\n",
    "import pandas as pd"
   ]
  },
  {
   "cell_type": "code",
   "execution_count": 131,
   "metadata": {
    "collapsed": false
   },
   "outputs": [],
   "source": [
    "lines = {}\n",
    "counter = 0\n",
    "with open('test_input.txt', 'r') as f:\n",
    "    for line in f:\n",
    "        lines[counter] = line.replace(' \\n','').replace('\\n','').split(' ')\n",
    "        counter += 1"
   ]
  },
  {
   "cell_type": "code",
   "execution_count": 132,
   "metadata": {
    "collapsed": false
   },
   "outputs": [
    {
     "name": "stdout",
     "output_type": "stream",
     "text": [
      "3\n"
     ]
    },
    {
     "data": {
      "text/plain": [
       "{0: ['O.', 'O.', 'O.', 'O.', 'O.', '.O', 'O.', 'O.', 'O.', 'OO'],\n",
       " 1: ['OO', '.O', 'O.', 'O.', '.O', 'OO', '.O', 'OO', 'O.', '.O'],\n",
       " 2: ['..', '..', 'O.', 'O.', 'O.', '.O', 'O.', 'O.', 'O.', '..']}"
      ]
     },
     "execution_count": 132,
     "metadata": {},
     "output_type": "execute_result"
    }
   ],
   "source": [
    "print counter\n",
    "lines"
   ]
  },
  {
   "cell_type": "code",
   "execution_count": 64,
   "metadata": {
    "collapsed": false
   },
   "outputs": [],
   "source": [
    "for x in xrange(len(lines[2])):\n",
    "    if lines[2][x] == '..':\n",
    "        lines[2][x] = 'a-j'\n",
    "    elif lines[2][x] == '.O':\n",
    "        lines[2][x] = 'w'\n",
    "    elif lines[2][x] == 'O.':\n",
    "        lines[2][x] = 'k-t'\n",
    "    elif lines[2][x] == 'OO':\n",
    "        lines[2][x] = 'uvxyz'"
   ]
  },
  {
   "cell_type": "code",
   "execution_count": 65,
   "metadata": {
    "collapsed": false
   },
   "outputs": [
    {
     "data": {
      "text/plain": [
       "{0: ['O.', 'O.', 'O.', 'O.', 'O.', '.O', 'O.', 'O.', 'O.', 'OO'],\n",
       " 1: ['OO', '.O', 'O.', 'O.', '.O', 'OO', '.O', 'OO', 'O.', '.O'],\n",
       " 2: ['a-j', 'a-j', 'k-t', 'k-t', 'k-t', 'w', 'k-t', 'k-t', 'k-t', 'a-j']}"
      ]
     },
     "execution_count": 65,
     "metadata": {},
     "output_type": "execute_result"
    }
   ],
   "source": [
    "lines"
   ]
  },
  {
   "cell_type": "code",
   "execution_count": null,
   "metadata": {
    "collapsed": true
   },
   "outputs": [],
   "source": []
  },
  {
   "cell_type": "code",
   "execution_count": 118,
   "metadata": {
    "collapsed": true
   },
   "outputs": [],
   "source": [
    "characters = []"
   ]
  },
  {
   "cell_type": "code",
   "execution_count": 119,
   "metadata": {
    "collapsed": false
   },
   "outputs": [],
   "source": [
    "for x in xrange(len(lines[0])):\n",
    "    characters.append(lines[0][x] + lines[1][x] + lines[2][x])"
   ]
  },
  {
   "cell_type": "code",
   "execution_count": 120,
   "metadata": {
    "collapsed": false
   },
   "outputs": [
    {
     "data": {
      "text/plain": [
       "['O.OO..',\n",
       " 'O..O..',\n",
       " 'O.O.O.',\n",
       " 'O.O.O.',\n",
       " 'O..OO.',\n",
       " '.OOO.O',\n",
       " 'O..OO.',\n",
       " 'O.OOO.',\n",
       " 'O.O.O.',\n",
       " 'OO.O..']"
      ]
     },
     "execution_count": 120,
     "metadata": {},
     "output_type": "execute_result"
    }
   ],
   "source": [
    "characters"
   ]
  },
  {
   "cell_type": "code",
   "execution_count": 85,
   "metadata": {
    "collapsed": true
   },
   "outputs": [],
   "source": [
    "from sklearn import tree\n",
    "from sklearn.ensemble import RandomForestClassifier"
   ]
  },
  {
   "cell_type": "code",
   "execution_count": 121,
   "metadata": {
    "collapsed": false
   },
   "outputs": [],
   "source": [
    "characters = [x.replace('O','1').replace('.','0') for x in characters]"
   ]
  },
  {
   "cell_type": "code",
   "execution_count": 122,
   "metadata": {
    "collapsed": false
   },
   "outputs": [],
   "source": [
    "X = []\n",
    "for c in characters:\n",
    "    X.append([int(x) for x in list(c)])"
   ]
  },
  {
   "cell_type": "code",
   "execution_count": 123,
   "metadata": {
    "collapsed": false
   },
   "outputs": [
    {
     "data": {
      "text/plain": [
       "[[1, 0, 1, 1, 0, 0],\n",
       " [1, 0, 0, 1, 0, 0],\n",
       " [1, 0, 1, 0, 1, 0],\n",
       " [1, 0, 1, 0, 1, 0],\n",
       " [1, 0, 0, 1, 1, 0],\n",
       " [0, 1, 1, 1, 0, 1],\n",
       " [1, 0, 0, 1, 1, 0],\n",
       " [1, 0, 1, 1, 1, 0],\n",
       " [1, 0, 1, 0, 1, 0],\n",
       " [1, 1, 0, 1, 0, 0]]"
      ]
     },
     "execution_count": 123,
     "metadata": {},
     "output_type": "execute_result"
    }
   ],
   "source": [
    "X"
   ]
  },
  {
   "cell_type": "code",
   "execution_count": 77,
   "metadata": {
    "collapsed": false
   },
   "outputs": [],
   "source": [
    "characters = [int(x) for x in characters]"
   ]
  },
  {
   "cell_type": "code",
   "execution_count": 79,
   "metadata": {
    "collapsed": false
   },
   "outputs": [],
   "source": [
    "X = characters"
   ]
  },
  {
   "cell_type": "code",
   "execution_count": 80,
   "metadata": {
    "collapsed": false
   },
   "outputs": [],
   "source": [
    "Y = ['H', 'E', 'L', 'L', 'O', 'W', 'O', 'R', 'L', 'D']"
   ]
  },
  {
   "cell_type": "code",
   "execution_count": 93,
   "metadata": {
    "collapsed": false
   },
   "outputs": [],
   "source": [
    "Y = [8, 5, 12, 12, 15, 23, 15, 18, 12, 4]"
   ]
  },
  {
   "cell_type": "code",
   "execution_count": 124,
   "metadata": {
    "collapsed": true
   },
   "outputs": [],
   "source": [
    "clf = tree.DecisionTreeClassifier()"
   ]
  },
  {
   "cell_type": "code",
   "execution_count": 86,
   "metadata": {
    "collapsed": true
   },
   "outputs": [],
   "source": [
    "clf = RandomForestClassifier(n_estimators = 10)"
   ]
  },
  {
   "cell_type": "code",
   "execution_count": 115,
   "metadata": {
    "collapsed": false
   },
   "outputs": [
    {
     "data": {
      "text/plain": [
       "array([ 8,  5, 12, 12, 15, 23, 15, 18, 12,  4])"
      ]
     },
     "execution_count": 115,
     "metadata": {},
     "output_type": "execute_result"
    }
   ],
   "source": [
    "np.array(Y)"
   ]
  },
  {
   "cell_type": "code",
   "execution_count": 125,
   "metadata": {
    "collapsed": false
   },
   "outputs": [],
   "source": [
    "clf = clf.fit(X, Y)"
   ]
  },
  {
   "cell_type": "code",
   "execution_count": 126,
   "metadata": {
    "collapsed": false
   },
   "outputs": [
    {
     "data": {
      "text/plain": [
       "array([8])"
      ]
     },
     "execution_count": 126,
     "metadata": {},
     "output_type": "execute_result"
    }
   ],
   "source": [
    "clf.predict([1, 0, 1, 1, 0, 0])"
   ]
  },
  {
   "cell_type": "code",
   "execution_count": null,
   "metadata": {
    "collapsed": true
   },
   "outputs": [],
   "source": []
  },
  {
   "cell_type": "code",
   "execution_count": 161,
   "metadata": {
    "collapsed": false
   },
   "outputs": [],
   "source": [
    "import string"
   ]
  },
  {
   "cell_type": "code",
   "execution_count": 164,
   "metadata": {
    "collapsed": false
   },
   "outputs": [],
   "source": [
    "alphabet = list(string.ascii_lowercase)"
   ]
  },
  {
   "cell_type": "code",
   "execution_count": 165,
   "metadata": {
    "collapsed": false
   },
   "outputs": [
    {
     "data": {
      "text/plain": [
       "['a',\n",
       " 'b',\n",
       " 'c',\n",
       " 'd',\n",
       " 'e',\n",
       " 'f',\n",
       " 'g',\n",
       " 'h',\n",
       " 'i',\n",
       " 'j',\n",
       " 'k',\n",
       " 'l',\n",
       " 'm',\n",
       " 'n',\n",
       " 'o',\n",
       " 'p',\n",
       " 'q',\n",
       " 'r',\n",
       " 's',\n",
       " 't',\n",
       " 'u',\n",
       " 'v',\n",
       " 'w',\n",
       " 'x',\n",
       " 'y',\n",
       " 'z']"
      ]
     },
     "execution_count": 165,
     "metadata": {},
     "output_type": "execute_result"
    }
   ],
   "source": [
    "alphabet"
   ]
  },
  {
   "cell_type": "code",
   "execution_count": 166,
   "metadata": {
    "collapsed": true
   },
   "outputs": [],
   "source": [
    "X = [[1, 0, 0, 0, 0, 0], # A\n",
    "     [1, 0, 1, 0, 0, 0], # B\n",
    "     [1, 1, 0, 0, 0, 0], # C\n",
    "     [1, 1, 0, 1, 0, 0], # D\n",
    "     [1, 0, 0, 1, 0, 0], # E\n",
    "     [1, 1, 1, 0, 0, 0], # F\n",
    "     [1, 1, 1, 1, 0, 0], # G\n",
    "     [1, 0, 1, 1, 0, 0], # H\n",
    "     [0, 1, 1, 0, 0, 0], # I\n",
    "     [0, 1, 1, 1, 0, 0], # J\n",
    "     [1, 0, 0, 0, 1, 0], # K\n",
    "     [1, 0, 1, 0, 1, 0], # L\n",
    "     [1, 1, 0, 0, 1, 0], # M\n",
    "     [1, 1, 0, 1, 1, 0], # N\n",
    "     [1, 0, 0, 1, 1, 0], # O\n",
    "     [1, 1, 1, 0, 1, 0], # P\n",
    "     [1, 1, 1, 1, 1, 0], # Q\n",
    "     [1, 0, 1, 1, 1, 0], # R\n",
    "     [0, 1, 1, 0, 1, 0], # S\n",
    "     [0, 1, 1, 1, 1, 0], # T\n",
    "     [1, 0, 0, 0, 1, 1], # U\n",
    "     [1, 0, 1, 0, 1, 1], # V\n",
    "     [0, 1, 1, 1, 0, 1], # W\n",
    "     [1, 1, 0, 0, 1, 1], # X\n",
    "     [1, 1, 0, 1, 1, 1], # Y\n",
    "     [1, 0, 0, 1, 1, 1]] # Z\n"
   ]
  },
  {
   "cell_type": "code",
   "execution_count": 167,
   "metadata": {
    "collapsed": false
   },
   "outputs": [],
   "source": [
    "Y = [1,\n",
    "    2,\n",
    "    3,\n",
    "    4,\n",
    "    5,\n",
    "    6,\n",
    "    7,\n",
    "    8,\n",
    "    9,\n",
    "    10,\n",
    "    11,\n",
    "    12,\n",
    "    13,\n",
    "    14,\n",
    "    15,\n",
    "    16,\n",
    "    17,\n",
    "    18,\n",
    "    19,\n",
    "    20,\n",
    "    21,\n",
    "    22,\n",
    "    23,\n",
    "    24,\n",
    "    25,\n",
    "    26]"
   ]
  },
  {
   "cell_type": "code",
   "execution_count": 173,
   "metadata": {
    "collapsed": true
   },
   "outputs": [],
   "source": [
    "clf = tree.DecisionTreeClassifier()"
   ]
  },
  {
   "cell_type": "code",
   "execution_count": 174,
   "metadata": {
    "collapsed": true
   },
   "outputs": [],
   "source": [
    "clf = clf.fit(X, Y)"
   ]
  },
  {
   "cell_type": "code",
   "execution_count": 175,
   "metadata": {
    "collapsed": false
   },
   "outputs": [
    {
     "data": {
      "text/plain": [
       "array([8])"
      ]
     },
     "execution_count": 175,
     "metadata": {},
     "output_type": "execute_result"
    }
   ],
   "source": [
    "clf.predict([1, 0, 1, 1, 0, 0])"
   ]
  },
  {
   "cell_type": "code",
   "execution_count": 176,
   "metadata": {
    "collapsed": true
   },
   "outputs": [],
   "source": [
    "lines = {}\n",
    "counter = 0\n",
    "with open('test_input.txt', 'r') as f:\n",
    "    for line in f:\n",
    "        lines[counter] = line.replace(' \\n','').replace('\\n','').split(' ')\n",
    "        counter += 1"
   ]
  },
  {
   "cell_type": "code",
   "execution_count": 177,
   "metadata": {
    "collapsed": false
   },
   "outputs": [
    {
     "name": "stdout",
     "output_type": "stream",
     "text": [
      "3\n"
     ]
    },
    {
     "data": {
      "text/plain": [
       "{0: ['O.', 'O.', 'O.', 'O.', 'O.', '.O', 'O.', 'O.', 'O.', 'OO'],\n",
       " 1: ['OO', '.O', 'O.', 'O.', '.O', 'OO', '.O', 'OO', 'O.', '.O'],\n",
       " 2: ['..', '..', 'O.', 'O.', 'O.', '.O', 'O.', 'O.', 'O.', '..']}"
      ]
     },
     "execution_count": 177,
     "metadata": {},
     "output_type": "execute_result"
    }
   ],
   "source": [
    "print counter\n",
    "lines"
   ]
  },
  {
   "cell_type": "code",
   "execution_count": 178,
   "metadata": {
    "collapsed": true
   },
   "outputs": [],
   "source": [
    "characters = []"
   ]
  },
  {
   "cell_type": "code",
   "execution_count": 179,
   "metadata": {
    "collapsed": true
   },
   "outputs": [],
   "source": [
    "for x in xrange(len(lines[0])):\n",
    "    characters.append(lines[0][x] + lines[1][x] + lines[2][x])"
   ]
  },
  {
   "cell_type": "code",
   "execution_count": 180,
   "metadata": {
    "collapsed": false
   },
   "outputs": [
    {
     "data": {
      "text/plain": [
       "['O.OO..',\n",
       " 'O..O..',\n",
       " 'O.O.O.',\n",
       " 'O.O.O.',\n",
       " 'O..OO.',\n",
       " '.OOO.O',\n",
       " 'O..OO.',\n",
       " 'O.OOO.',\n",
       " 'O.O.O.',\n",
       " 'OO.O..']"
      ]
     },
     "execution_count": 180,
     "metadata": {},
     "output_type": "execute_result"
    }
   ],
   "source": [
    "characters"
   ]
  },
  {
   "cell_type": "code",
   "execution_count": 181,
   "metadata": {
    "collapsed": true
   },
   "outputs": [],
   "source": [
    "characters = [x.replace('O','1').replace('.','0') for x in characters]"
   ]
  },
  {
   "cell_type": "code",
   "execution_count": 182,
   "metadata": {
    "collapsed": false
   },
   "outputs": [
    {
     "data": {
      "text/plain": [
       "['101100',\n",
       " '100100',\n",
       " '101010',\n",
       " '101010',\n",
       " '100110',\n",
       " '011101',\n",
       " '100110',\n",
       " '101110',\n",
       " '101010',\n",
       " '110100']"
      ]
     },
     "execution_count": 182,
     "metadata": {},
     "output_type": "execute_result"
    }
   ],
   "source": [
    "characters"
   ]
  },
  {
   "cell_type": "code",
   "execution_count": 183,
   "metadata": {
    "collapsed": true
   },
   "outputs": [],
   "source": [
    "X = []\n",
    "for c in characters:\n",
    "    X.append([int(x) for x in list(c)])"
   ]
  },
  {
   "cell_type": "code",
   "execution_count": 184,
   "metadata": {
    "collapsed": false
   },
   "outputs": [
    {
     "data": {
      "text/plain": [
       "[[1, 0, 1, 1, 0, 0],\n",
       " [1, 0, 0, 1, 0, 0],\n",
       " [1, 0, 1, 0, 1, 0],\n",
       " [1, 0, 1, 0, 1, 0],\n",
       " [1, 0, 0, 1, 1, 0],\n",
       " [0, 1, 1, 1, 0, 1],\n",
       " [1, 0, 0, 1, 1, 0],\n",
       " [1, 0, 1, 1, 1, 0],\n",
       " [1, 0, 1, 0, 1, 0],\n",
       " [1, 1, 0, 1, 0, 0]]"
      ]
     },
     "execution_count": 184,
     "metadata": {},
     "output_type": "execute_result"
    }
   ],
   "source": [
    "X"
   ]
  },
  {
   "cell_type": "code",
   "execution_count": 185,
   "metadata": {
    "collapsed": false
   },
   "outputs": [],
   "source": [
    "predictions = clf.predict(X)"
   ]
  },
  {
   "cell_type": "code",
   "execution_count": 186,
   "metadata": {
    "collapsed": false
   },
   "outputs": [
    {
     "data": {
      "text/plain": [
       "array([ 8,  5, 12, 12, 15, 23, 15, 18, 12,  4])"
      ]
     },
     "execution_count": 186,
     "metadata": {},
     "output_type": "execute_result"
    }
   ],
   "source": [
    "predictions"
   ]
  },
  {
   "cell_type": "code",
   "execution_count": 190,
   "metadata": {
    "collapsed": false
   },
   "outputs": [],
   "source": [
    "message = \"\"\n",
    "for x in predictions:\n",
    "    message += alphabet[x-1]"
   ]
  },
  {
   "cell_type": "code",
   "execution_count": 191,
   "metadata": {
    "collapsed": false
   },
   "outputs": [
    {
     "data": {
      "text/plain": [
       "'helloworld'"
      ]
     },
     "execution_count": 191,
     "metadata": {},
     "output_type": "execute_result"
    }
   ],
   "source": [
    "message"
   ]
  },
  {
   "cell_type": "code",
   "execution_count": null,
   "metadata": {
    "collapsed": true
   },
   "outputs": [],
   "source": []
  },
  {
   "cell_type": "code",
   "execution_count": 188,
   "metadata": {
    "collapsed": true
   },
   "outputs": [],
   "source": [
    "lines = {}\n",
    "counter = 0\n",
    "with open('input.txt', 'r') as f:\n",
    "    for line in f:\n",
    "        lines[counter] = line.replace(' \\n','').replace('\\n','').split(' ')\n",
    "        counter += 1"
   ]
  },
  {
   "cell_type": "code",
   "execution_count": 189,
   "metadata": {
    "collapsed": false
   },
   "outputs": [
    {
     "name": "stdout",
     "output_type": "stream",
     "text": [
      "3\n"
     ]
    },
    {
     "data": {
      "text/plain": [
       "{0: ['.O',\n",
       "  'O.',\n",
       "  '.O',\n",
       "  'OO',\n",
       "  'O.',\n",
       "  'O.',\n",
       "  '.O',\n",
       "  'OO',\n",
       "  'O.',\n",
       "  'OO',\n",
       "  'O.',\n",
       "  '.O',\n",
       "  'O.',\n",
       "  '.O'],\n",
       " 1: ['O.',\n",
       "  '.O',\n",
       "  'O.',\n",
       "  '..',\n",
       "  '..',\n",
       "  'OO',\n",
       "  'OO',\n",
       "  '..',\n",
       "  '..',\n",
       "  '..',\n",
       "  'OO',\n",
       "  'OO',\n",
       "  '.O',\n",
       "  'OO'],\n",
       " 2: ['O.',\n",
       "  'O.',\n",
       "  'O.',\n",
       "  'O.',\n",
       "  '..',\n",
       "  'O.',\n",
       "  'O.',\n",
       "  'O.',\n",
       "  'OO',\n",
       "  '..',\n",
       "  '..',\n",
       "  '.O',\n",
       "  'O.',\n",
       "  '.O']}"
      ]
     },
     "execution_count": 189,
     "metadata": {},
     "output_type": "execute_result"
    }
   ],
   "source": [
    "print counter\n",
    "lines"
   ]
  },
  {
   "cell_type": "code",
   "execution_count": 192,
   "metadata": {
    "collapsed": true
   },
   "outputs": [],
   "source": [
    "characters = []"
   ]
  },
  {
   "cell_type": "code",
   "execution_count": 193,
   "metadata": {
    "collapsed": true
   },
   "outputs": [],
   "source": [
    "for x in xrange(len(lines[0])):\n",
    "    characters.append(lines[0][x] + lines[1][x] + lines[2][x])"
   ]
  },
  {
   "cell_type": "code",
   "execution_count": 194,
   "metadata": {
    "collapsed": false
   },
   "outputs": [
    {
     "data": {
      "text/plain": [
       "['.OO.O.',\n",
       " 'O..OO.',\n",
       " '.OO.O.',\n",
       " 'OO..O.',\n",
       " 'O.....',\n",
       " 'O.OOO.',\n",
       " '.OOOO.',\n",
       " 'OO..O.',\n",
       " 'O...OO',\n",
       " 'OO....',\n",
       " 'O.OO..',\n",
       " '.OOO.O',\n",
       " 'O..OO.',\n",
       " '.OOO.O']"
      ]
     },
     "execution_count": 194,
     "metadata": {},
     "output_type": "execute_result"
    }
   ],
   "source": [
    "characters"
   ]
  },
  {
   "cell_type": "code",
   "execution_count": 195,
   "metadata": {
    "collapsed": true
   },
   "outputs": [],
   "source": [
    "characters = [x.replace('O','1').replace('.','0') for x in characters]"
   ]
  },
  {
   "cell_type": "code",
   "execution_count": 196,
   "metadata": {
    "collapsed": false
   },
   "outputs": [
    {
     "data": {
      "text/plain": [
       "['011010',\n",
       " '100110',\n",
       " '011010',\n",
       " '110010',\n",
       " '100000',\n",
       " '101110',\n",
       " '011110',\n",
       " '110010',\n",
       " '100011',\n",
       " '110000',\n",
       " '101100',\n",
       " '011101',\n",
       " '100110',\n",
       " '011101']"
      ]
     },
     "execution_count": 196,
     "metadata": {},
     "output_type": "execute_result"
    }
   ],
   "source": [
    "characters"
   ]
  },
  {
   "cell_type": "code",
   "execution_count": 197,
   "metadata": {
    "collapsed": true
   },
   "outputs": [],
   "source": [
    "X = []\n",
    "for c in characters:\n",
    "    X.append([int(x) for x in list(c)])"
   ]
  },
  {
   "cell_type": "code",
   "execution_count": 198,
   "metadata": {
    "collapsed": false
   },
   "outputs": [
    {
     "data": {
      "text/plain": [
       "[[0, 1, 1, 0, 1, 0],\n",
       " [1, 0, 0, 1, 1, 0],\n",
       " [0, 1, 1, 0, 1, 0],\n",
       " [1, 1, 0, 0, 1, 0],\n",
       " [1, 0, 0, 0, 0, 0],\n",
       " [1, 0, 1, 1, 1, 0],\n",
       " [0, 1, 1, 1, 1, 0],\n",
       " [1, 1, 0, 0, 1, 0],\n",
       " [1, 0, 0, 0, 1, 1],\n",
       " [1, 1, 0, 0, 0, 0],\n",
       " [1, 0, 1, 1, 0, 0],\n",
       " [0, 1, 1, 1, 0, 1],\n",
       " [1, 0, 0, 1, 1, 0],\n",
       " [0, 1, 1, 1, 0, 1]]"
      ]
     },
     "execution_count": 198,
     "metadata": {},
     "output_type": "execute_result"
    }
   ],
   "source": [
    "X"
   ]
  },
  {
   "cell_type": "code",
   "execution_count": 199,
   "metadata": {
    "collapsed": true
   },
   "outputs": [],
   "source": [
    "predictions = clf.predict(X)"
   ]
  },
  {
   "cell_type": "code",
   "execution_count": 200,
   "metadata": {
    "collapsed": false
   },
   "outputs": [
    {
     "data": {
      "text/plain": [
       "array([19, 15, 19, 13,  1, 18, 20, 13, 21,  3,  8, 23, 15, 23])"
      ]
     },
     "execution_count": 200,
     "metadata": {},
     "output_type": "execute_result"
    }
   ],
   "source": [
    "predictions"
   ]
  },
  {
   "cell_type": "code",
   "execution_count": 202,
   "metadata": {
    "collapsed": true
   },
   "outputs": [],
   "source": [
    "message = \"\"\n",
    "for x in predictions:\n",
    "    message += alphabet[x-1]"
   ]
  },
  {
   "cell_type": "code",
   "execution_count": 203,
   "metadata": {
    "collapsed": false
   },
   "outputs": [
    {
     "data": {
      "text/plain": [
       "'sosmartmuchwow'"
      ]
     },
     "execution_count": 203,
     "metadata": {},
     "output_type": "execute_result"
    }
   ],
   "source": [
    "message"
   ]
  }
 ],
 "metadata": {
  "kernelspec": {
   "display_name": "Python 2",
   "language": "python",
   "name": "python2"
  },
  "language_info": {
   "codemirror_mode": {
    "name": "ipython",
    "version": 2
   },
   "file_extension": ".py",
   "mimetype": "text/x-python",
   "name": "python",
   "nbconvert_exporter": "python",
   "pygments_lexer": "ipython2",
   "version": "2.7.9"
  }
 },
 "nbformat": 4,
 "nbformat_minor": 0
}
