{
 "cells": [
  {
   "cell_type": "code",
   "execution_count": 26,
   "metadata": {
    "collapsed": false
   },
   "outputs": [],
   "source": [
    "import string\n",
    "from sklearn import tree"
   ]
  },
  {
   "cell_type": "code",
   "execution_count": 27,
   "metadata": {
    "collapsed": true
   },
   "outputs": [],
   "source": [
    "X = [[1, 0, 0, 0, 0, 0], # A\n",
    "     [1, 0, 1, 0, 0, 0], # B\n",
    "     [1, 1, 0, 0, 0, 0], # C\n",
    "     [1, 1, 0, 1, 0, 0], # D\n",
    "     [1, 0, 0, 1, 0, 0], # E\n",
    "     [1, 1, 1, 0, 0, 0], # F\n",
    "     [1, 1, 1, 1, 0, 0], # G\n",
    "     [1, 0, 1, 1, 0, 0], # H\n",
    "     [0, 1, 1, 0, 0, 0], # I\n",
    "     [0, 1, 1, 1, 0, 0], # J\n",
    "     [1, 0, 0, 0, 1, 0], # K\n",
    "     [1, 0, 1, 0, 1, 0], # L\n",
    "     [1, 1, 0, 0, 1, 0], # M\n",
    "     [1, 1, 0, 1, 1, 0], # N\n",
    "     [1, 0, 0, 1, 1, 0], # O\n",
    "     [1, 1, 1, 0, 1, 0], # P\n",
    "     [1, 1, 1, 1, 1, 0], # Q\n",
    "     [1, 0, 1, 1, 1, 0], # R\n",
    "     [0, 1, 1, 0, 1, 0], # S\n",
    "     [0, 1, 1, 1, 1, 0], # T\n",
    "     [1, 0, 0, 0, 1, 1], # U\n",
    "     [1, 0, 1, 0, 1, 1], # V\n",
    "     [0, 1, 1, 1, 0, 1], # W\n",
    "     [1, 1, 0, 0, 1, 1], # X\n",
    "     [1, 1, 0, 1, 1, 1], # Y\n",
    "     [1, 0, 0, 1, 1, 1]] # Z\n"
   ]
  },
  {
   "cell_type": "code",
   "execution_count": 28,
   "metadata": {
    "collapsed": false
   },
   "outputs": [],
   "source": [
    "Y = [x for x in xrange(1,27)]"
   ]
  },
  {
   "cell_type": "code",
   "execution_count": 29,
   "metadata": {
    "collapsed": false
   },
   "outputs": [
    {
     "data": {
      "text/plain": [
       "array([8])"
      ]
     },
     "execution_count": 29,
     "metadata": {},
     "output_type": "execute_result"
    }
   ],
   "source": [
    "clf = tree.DecisionTreeClassifier()\n",
    "clf = clf.fit(X, Y)\n",
    "clf.predict([1, 0, 1, 1, 0, 0])"
   ]
  },
  {
   "cell_type": "code",
   "execution_count": 30,
   "metadata": {
    "collapsed": true
   },
   "outputs": [],
   "source": [
    "def translate_braille(filename):\n",
    "    alphabet = list(string.ascii_lowercase)\n",
    "    lines = {}\n",
    "    counter = 0\n",
    "    with open(filename, 'r') as f:\n",
    "        for line in f:\n",
    "            lines[counter] = line.replace(' \\n','').replace('\\n','').split(' ')\n",
    "            counter += 1\n",
    "\n",
    "    characters = []\n",
    "    for x in xrange(len(lines[0])):\n",
    "        characters.append(lines[0][x] + lines[1][x] + lines[2][x])\n",
    "    characters = [x.replace('O','1').replace('.','0') for x in characters]\n",
    "    \n",
    "    X = []\n",
    "    for c in characters:\n",
    "        X.append([int(x) for x in list(c)])\n",
    "    predictions = clf.predict(X)\n",
    "    \n",
    "    message = \"\"\n",
    "    for x in predictions:\n",
    "        message += alphabet[x-1]\n",
    "    print message"
   ]
  },
  {
   "cell_type": "code",
   "execution_count": 31,
   "metadata": {
    "collapsed": false
   },
   "outputs": [
    {
     "name": "stdout",
     "output_type": "stream",
     "text": [
      "helloworld\n"
     ]
    }
   ],
   "source": [
    "translate_braille('test_input.txt')"
   ]
  },
  {
   "cell_type": "code",
   "execution_count": 32,
   "metadata": {
    "collapsed": false
   },
   "outputs": [
    {
     "name": "stdout",
     "output_type": "stream",
     "text": [
      "sosmartmuchwow\n"
     ]
    }
   ],
   "source": [
    "translate_braille('input.txt')"
   ]
  }
 ],
 "metadata": {
  "kernelspec": {
   "display_name": "Python 2",
   "language": "python",
   "name": "python2"
  },
  "language_info": {
   "codemirror_mode": {
    "name": "ipython",
    "version": 2
   },
   "file_extension": ".py",
   "mimetype": "text/x-python",
   "name": "python",
   "nbconvert_exporter": "python",
   "pygments_lexer": "ipython2",
   "version": "2.7.9"
  }
 },
 "nbformat": 4,
 "nbformat_minor": 0
}
