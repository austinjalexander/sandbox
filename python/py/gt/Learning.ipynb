{
 "metadata": {
  "name": "",
  "signature": "sha256:375fbf9cb5637eabea8a45a3c8b1999adeeca8824b8301133473a8c9b63f1a0a"
 },
 "nbformat": 3,
 "nbformat_minor": 0,
 "worksheets": [
  {
   "cells": [
    {
     "cell_type": "markdown",
     "metadata": {},
     "source": [
      "#Supervised"
     ]
    },
    {
     "cell_type": "markdown",
     "metadata": {},
     "source": [
      "instances (input)  \n",
      "concept (function/mapper)  \n",
      "target (answer)  \n",
      "hypothesis (class)  \n",
      "sample (training set)  \n",
      "candidate (concept $\\stackrel{?}{=}$ target)  \n",
      "testing set  \n",
      "\n",
      "generalization, not memorization, is the whole point of machine learning"
     ]
    },
    {
     "cell_type": "markdown",
     "metadata": {},
     "source": [
      "#Unsupervised"
     ]
    },
    {
     "cell_type": "code",
     "collapsed": false,
     "input": [
      "import numpy as np\n",
      "from scipy import optimize as op"
     ],
     "language": "python",
     "metadata": {},
     "outputs": [],
     "prompt_number": 1
    },
    {
     "cell_type": "code",
     "collapsed": false,
     "input": [
      "X = np.arange(1,101)\n",
      "def f(x):\n",
      "    return (x % 6)**2 % 7 - np.sin(x)\n",
      "\n",
      "y = f(X)\n",
      "max_y = max(y)\n",
      "for x in X:\n",
      "    if f(x) == max_y:\n",
      "        print x"
     ],
     "language": "python",
     "metadata": {},
     "outputs": [
      {
       "output_type": "stream",
       "stream": "stdout",
       "text": [
        "11\n"
       ]
      }
     ],
     "prompt_number": 79
    },
    {
     "cell_type": "code",
     "collapsed": false,
     "input": [
      "print [x % 6 for x in X]\n",
      "print 25 % 7"
     ],
     "language": "python",
     "metadata": {},
     "outputs": [
      {
       "output_type": "stream",
       "stream": "stdout",
       "text": [
        "[1, 2, 3, 4, 5, 0, 1, 2, 3, 4, 5, 0, 1, 2, 3, 4, 5, 0, 1, 2, 3, 4, 5, 0, 1, 2, 3, 4, 5, 0, 1, 2, 3, 4, 5, 0, 1, 2, 3, 4, 5, 0, 1, 2, 3, 4, 5, 0, 1, 2, 3, 4, 5, 0, 1, 2, 3, 4, 5, 0, 1, 2, 3, 4, 5, 0, 1, 2, 3, 4, 5, 0, 1, 2, 3, 4, 5, 0, 1, 2, 3, 4, 5, 0, 1, 2, 3, 4, 5, 0, 1, 2, 3, 4, 5, 0, 1, 2, 3, 4]\n",
        "4\n"
       ]
      }
     ],
     "prompt_number": 82
    },
    {
     "cell_type": "markdown",
     "metadata": {},
     "source": [
      "random restart hillclimbing"
     ]
    },
    {
     "cell_type": "code",
     "collapsed": false,
     "input": [
      "p = [0.14,0.36,0.21,0.29]\n",
      "from matplotlib import pyplot as plt\n",
      "%matplotlib inline\n",
      "plt.hist()\n",
      "plt.show()"
     ],
     "language": "python",
     "metadata": {},
     "outputs": [
      {
       "metadata": {},
       "output_type": "display_data",
       "png": "[encoded data removed]",
       "text": [
        "<matplotlib.figure.Figure at 0x112a36210>"
       ]
      }
     ],
     "prompt_number": 6
    },
    {
     "cell_type": "markdown",
     "metadata": {},
     "source": [
      "#Reinforcement"
     ]
    },
    {
     "cell_type": "markdown",
     "metadata": {},
     "source": [
      "Markov Decision Processes\n",
      "\n",
      "definition of problem:  \n",
      "States: $S$ (set; things taht describe the world)  \n",
      "Model: $T(s, a, s') \\sim Pr(s'|s,a)$ (describes rules/physics of world/game; function of state, action, and another state; produces probability; transition function)  \n",
      "Actions: $A(s), A$ (things that can be done in a state; a function of state)  \n",
      "Reward: $R(s), R(s,a), R(s,a,s')$ (scalar value for being in a state; encompasses the domain knowledge; different reward types)  \n",
      "\n",
      "these four things define a MDP\n"
     ]
    },
    {
     "cell_type": "markdown",
     "metadata": {},
     "source": [
      "Markovian property: only the present matters; memoryless; only depends on current state $s$, rules don't change (i.e., stationary)"
     ]
    },
    {
     "cell_type": "markdown",
     "metadata": {},
     "source": [
      "definition of solution:  \n",
      "Policy: $\\pi(s) \\rightarrow a$ (function that takes in a state, returns action)  \n",
      "$\\pi*$ policy that maximizes/optimizes long term reward\n",
      "\n",
      "you can refer a plan, but it's technically not working on a plan (since only one state/action at a time)"
     ]
    },
    {
     "cell_type": "markdown",
     "metadata": {},
     "source": [
      "delayed reward (don't know how each step affects reward until the end)  \n",
      "minor changes matter  \n",
      "The (Temporal) Credit Assignment Problem  "
     ]
    }
   ],
   "metadata": {}
  }
 ]
}