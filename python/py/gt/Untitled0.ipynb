{
 "metadata": {
  "name": "",
  "signature": "sha256:81e81ebe7d1d7a2da89dd0886f48568c14897e5aadb5799206ca9c8933a470f7"
 },
 "nbformat": 3,
 "nbformat_minor": 0,
 "worksheets": []
}