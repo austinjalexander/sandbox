{
 "metadata": {
  "name": "",
  "signature": "sha256:214d4fcf718bdd6401bb62793deef91490c739961398d61c1eef362d0a9d07a8"
 },
 "nbformat": 3,
 "nbformat_minor": 0,
 "worksheets": [
  {
   "cells": [
    {
     "cell_type": "markdown",
     "metadata": {},
     "source": [
      "##List data files"
     ]
    },
    {
     "cell_type": "code",
     "collapsed": false,
     "input": [
      "!ls -la data"
     ],
     "language": "python",
     "metadata": {},
     "outputs": [
      {
       "output_type": "stream",
       "stream": "stdout",
       "text": [
        "total 741856\r\n",
        "drwxr-xr-x   4 excalibur  staff        136 Feb 24 10:15 \u001b[34m.\u001b[m\u001b[m\r\n",
        "drwxr-xr-x  15 excalibur  staff        510 Feb 27 22:57 \u001b[34m..\u001b[m\u001b[m\r\n",
        "-rw-r-----@  1 excalibur  staff  366426696 Feb 23 11:32 boston_massachusetts.osm\r\n",
        "-rw-r-----@  1 excalibur  staff   13399735 Feb 23 11:32 boston_massachusetts.osm.pbf\r\n"
       ]
      }
     ],
     "prompt_number": 1
    },
    {
     "cell_type": "markdown",
     "metadata": {},
     "source": [
      "##Display head of data file"
     ]
    },
    {
     "cell_type": "code",
     "collapsed": false,
     "input": [
      "!head data/boston_massachusetts.osm"
     ],
     "language": "python",
     "metadata": {},
     "outputs": [
      {
       "output_type": "stream",
       "stream": "stdout",
       "text": [
        "<?xml version='1.0' encoding='UTF-8'?>\r\n",
        "<osm version=\"0.6\" generator=\"Osmosis 0.43.1\">\r\n",
        "  <bounds minlon=\"-71.19100\" minlat=\"42.22800\" maxlon=\"-70.92300\" maxlat=\"42.39900\" origin=\"http://www.openstreetmap.org/api/0.6\"/>\r\n",
        "  <node id=\"26746680\" version=\"1\" timestamp=\"2007-03-24T19:38:02Z\" uid=\"6817\" user=\"lurker\" changeset=\"244358\" lat=\"42.3089253\" lon=\"-71.1191797\">\r\n",
        "    <tag k=\"created_by\" v=\"YahooApplet 1.0\"/>\r\n",
        "  </node>\r\n",
        "  <node id=\"30730952\" version=\"2\" timestamp=\"2012-12-19T19:24:31Z\" uid=\"326503\" user=\"wambag\" changeset=\"14335103\" lat=\"42.3678097\" lon=\"-71.0218711\"/>\r\n",
        "  <node id=\"30730953\" version=\"2\" timestamp=\"2012-12-19T19:24:31Z\" uid=\"326503\" user=\"wambag\" changeset=\"14335103\" lat=\"42.3677364\" lon=\"-71.0218568\"/>\r\n",
        "  <node id=\"30730954\" version=\"2\" timestamp=\"2012-12-19T19:24:31Z\" uid=\"326503\" user=\"wambag\" changeset=\"14335103\" lat=\"42.3676084\" lon=\"-71.0218168\"/>\r\n",
        "  <node id=\"30730955\" version=\"2\" timestamp=\"2012-12-19T19:24:32Z\" uid=\"326503\" user=\"wambag\" changeset=\"14335103\" lat=\"42.3675229\" lon=\"-"
       ]
      },
      {
       "output_type": "stream",
       "stream": "stdout",
       "text": [
        "71.0218486\"/>\r\n"
       ]
      }
     ],
     "prompt_number": 113
    },
    {
     "cell_type": "code",
     "collapsed": false,
     "input": [
      "!cp data/boston_massachusetts.osm data/boston_massachusetts_new.osm"
     ],
     "language": "python",
     "metadata": {},
     "outputs": [],
     "prompt_number": 153
    },
    {
     "cell_type": "markdown",
     "metadata": {},
     "source": [
      "##Get data file name"
     ]
    },
    {
     "cell_type": "code",
     "collapsed": false,
     "input": [
      "filename = '/Users/excalibur/py/nanodegree/wrang_mongdb/example.osm'\n",
      "filename = 'data/boston_massachusetts_new.osm'"
     ],
     "language": "python",
     "metadata": {},
     "outputs": [],
     "prompt_number": 152
    },
    {
     "cell_type": "markdown",
     "metadata": {},
     "source": [
      "##Import Python packages"
     ]
    },
    {
     "cell_type": "code",
     "collapsed": false,
     "input": [
      "import xml.etree.cElementTree as ET\n",
      "import pprint as pp\n",
      "import re\n",
      "import os\n",
      "import json"
     ],
     "language": "python",
     "metadata": {},
     "outputs": [],
     "prompt_number": 4
    },
    {
     "cell_type": "markdown",
     "metadata": {},
     "source": [
      "##General Helper functions"
     ]
    },
    {
     "cell_type": "code",
     "collapsed": false,
     "input": [
      "# system beep\n",
      "def finished():\n",
      "    os.system(\"printf '\\a'\")\n",
      "    os.system(\"printf '\\a'\")"
     ],
     "language": "python",
     "metadata": {},
     "outputs": [],
     "prompt_number": 5
    },
    {
     "cell_type": "markdown",
     "metadata": {},
     "source": [
      "##Iterate over and display tags, attributes, and descendants in data file"
     ]
    },
    {
     "cell_type": "code",
     "collapsed": false,
     "input": [
      "tags = {}\n",
      "\n",
      "for event,element in ET.iterparse(filename):\n",
      "    \n",
      "    if element.tag not in tags:\n",
      "        tags[element.tag] = {}\n",
      "        tags[element.tag]['count'] = 1\n",
      "        tags[element.tag]['attributes'] = {}\n",
      "        tags[element.tag]['children'] = {}\n",
      "        tags[element.tag]['grandchildren'] = {}\n",
      "        tags[element.tag]['greatgrandchildren'] = {}\n",
      "    else:\n",
      "        tags[element.tag]['count'] += 1\n",
      "        \n",
      "    for attribute_key,attribute_val in element.attrib.items():\n",
      "            if attribute_key not in tags[element.tag]['attributes']:\n",
      "                tags[element.tag]['attributes'][attribute_key] = 1\n",
      "            else:\n",
      "                tags[element.tag]['attributes'][attribute_key] += 1\n",
      "                \n",
      "    for child in element:\n",
      "        if child.tag not in tags[element.tag]['children']:\n",
      "            tags[element.tag]['children'][child.tag] = 1\n",
      "        else:\n",
      "            tags[element.tag]['children'][child.tag] += 1\n",
      "        \n",
      "        for grandchild in child:\n",
      "            if grandchild.tag not in tags[element.tag]['grandchildren']:\n",
      "                tags[element.tag]['grandchildren'][grandchild.tag] = 1\n",
      "            else:\n",
      "                tags[element.tag]['grandchildren'][grandchild.tag] += 1\n",
      "                \n",
      "            for greatgrandchild in grandchild:\n",
      "                if greatgrandchild.tag not in tags[element.tag]['greatgrandchild']:\n",
      "                    tags[element.tag]['greatgrandchild'][greatgrandchild.tag] = 1\n",
      "                else:\n",
      "                    tags[element.tag]['greatgrandchild'][greatgrandchild.tag] += 1\n",
      "               \n",
      "# clean up unused dictionaries\n",
      "for item in tags.items():\n",
      "    if not item[1]['attributes']:\n",
      "        del item[1]['attributes']\n",
      "    if not item[1]['children']:\n",
      "        del item[1]['children']\n",
      "    if not item[1]['grandchildren']:\n",
      "        del item[1]['grandchildren']\n",
      "    if not item[1]['greatgrandchildren']:\n",
      "        del item[1]['greatgrandchildren']\n",
      "\n",
      "pp.pprint(tags)\n",
      "finished()"
     ],
     "language": "python",
     "metadata": {},
     "outputs": [
      {
       "output_type": "stream",
       "stream": "stdout",
       "text": [
        "{'bounds': {'attributes': {'maxlat': 1,\n",
        "                           'maxlon': 1,\n",
        "                           'minlat': 1,\n",
        "                           'minlon': 1,\n",
        "                           'origin': 1},\n",
        "            'count': 1},\n",
        " 'member': {'attributes': {'ref': 8328, 'role': 8328, 'type': 8328},\n",
        "            'count': 8328},\n",
        " 'nd': {'attributes': {'ref': 1904147}, 'count': 1904147},\n",
        " 'node': {'attributes': {'changeset': 1601437,\n",
        "                         'id': 1601437,\n",
        "                         'lat': 1601437,\n",
        "                         'lon': 1601437,\n",
        "                         'timestamp': 1601437,\n",
        "                         'uid': 1601437,\n",
        "                         'user': 1601437,\n",
        "                         'version': 1601437},\n",
        "          'children': {'tag': 274720},\n",
        "          'count': 1601437},\n",
        " 'osm': {'attributes': {'generator': 1, 'version': 1},\n",
        "         'children': {'bounds': 1,\n",
        "                      'node': 1601437,\n",
        "                      'relation': 1050,\n",
        "                      'way': 245626},\n",
        "         'count': 1,\n",
        "         'grandchildren': {'member': 8328, 'nd': 1904147, 'tag': 748353}},\n",
        " 'relation': {'attributes': {'changeset': 1050,\n",
        "                             'id': 1050,\n",
        "                             'timestamp': 1050,\n",
        "                             'uid': 1050,\n",
        "                             'user': 1050,\n",
        "                             'version': 1050},\n",
        "              'children': {'member': 8328, 'tag': 4366},\n",
        "              'count': 1050},\n",
        " 'tag': {'attributes': {'k': 748353, 'v': 748353}, 'count': 748353},\n",
        " 'way': {'attributes': {'changeset': 245626,\n",
        "                        'id': 245626,\n",
        "                        'timestamp': 245626,\n",
        "                        'uid': 245626,\n",
        "                        'user': 245626,\n",
        "                        'version': 245626},\n",
        "         'children': {'nd': 1904147, 'tag': 469267},\n",
        "         'count': 245626}}\n"
       ]
      }
     ],
     "prompt_number": 6
    },
    {
     "cell_type": "code",
     "collapsed": false,
     "input": [
      "def get_subdictionaries(element, sub_dictionary):\n",
      "    \n",
      "    # regexes\n",
      "    string_of_digits_regex = re.compile(r'^[0-9]*$')\n",
      "    lat_or_long_regex = re.compile(r'^-{0,1}[0-9]*.[0-9]*$')\n",
      "    timestamp_regex = re.compile(r'^\\d{4}-\\d{2}-\\d{2}T\\d{2}:\\d{2}:\\d{2}Z$')\n",
      "    \n",
      "    # if the current element does not already exist in the current subdictionary,\n",
      "    # create a dictionary for it\n",
      "    if element.tag not in sub_dictionary:\n",
      "        sub_dictionary[element.tag] = {}\n",
      "    \n",
      "    ### CONFUSING TERMINOLOGY SECTION ###\n",
      "    # for the attribute keys and values\n",
      "    for attribute_key,attribute_val in element.attrib.items():\n",
      "        \n",
      "        # if the attribute_key is k, \n",
      "        if attribute_key == 'k':\n",
      "            # make a dictionary entry for it (if it doesn't already exit),\n",
      "            # and a set for the corresponding values (the values are the value of the 'v' attribute)\n",
      "            if attribute_val not in sub_dictionary[element.tag]:\n",
      "                sub_dictionary[element.tag][attribute_val] = set()\n",
      "            \n",
      "            # get the length of each element in the set\n",
      "            list_of_lengths = [len(set_element) for set_element in sub_dictionary[element.tag][attribute_val]]\n",
      "            \n",
      "            # if the corresponding v value of the current k value has a length not already in the set, \n",
      "            # add it to the set\n",
      "            if (len(element.attrib.get('v')) not in list_of_lengths): \n",
      "                sub_dictionary[element.tag][attribute_val].add(element.attrib.get('v'))\n",
      "            \n",
      "            # even if the length of the current v value is already present, \n",
      "            # if the v value is not purely a string of digits, \n",
      "            # add it to the set\n",
      "            elif (not string_of_digits_regex.match(element.attrib.get('v'))):\n",
      "                sub_dictionary[element.tag][attribute_val].add(element.attrib.get('v'))\n",
      "            \n",
      "        # if attribute_key is v, \n",
      "        # disregard since the value was extracted above\n",
      "        elif attribute_key == 'v':\n",
      "            pass\n",
      "        \n",
      "        # if attribute_key isn't already in the dictionary, \n",
      "        # add it\n",
      "        elif attribute_key not in sub_dictionary[element.tag]:\n",
      "            # create a set for its values\n",
      "            sub_dictionary[element.tag][attribute_key] = set()\n",
      "            # add attribute_val to the set\n",
      "            sub_dictionary[element.tag][attribute_key].add(attribute_val)\n",
      "            \n",
      "        # if the attribute_key is already in the dictionary\n",
      "        else:\n",
      "            \n",
      "            # calculate the length of each element in the relevant value set\n",
      "            list_of_lengths = [len(set_element) for set_element in sub_dictionary[element.tag][attribute_key]]\n",
      "            \n",
      "            # if attribute_val has a length not already in the value set, \n",
      "            # add it\n",
      "            if (len(attribute_val) not in list_of_lengths): \n",
      "                sub_dictionary[element.tag][attribute_key].add(attribute_val)\n",
      "            \n",
      "            # even if the length of attribute_val is already present, \n",
      "            # if it's not purely a string of digits,\n",
      "            # and/or if it's not in the proper lat/long or timestamp format, \n",
      "            # add it\n",
      "            # (in other words, only keep one example of something that is in a seemingly 'non-problematic' format,\n",
      "            # but keep everything else), unless attribute_key == 'user' (don't want all of those, \n",
      "            # esp. since they could be almost any type of string!)\n",
      "            elif ( (not string_of_digits_regex.match(attribute_val)) and \n",
      "                   (not lat_or_long_regex.match(attribute_val)) and \n",
      "                   (not timestamp_regex.match(attribute_val)) and\n",
      "                   (attribute_key != 'user') ):\n",
      "                sub_dictionary[element.tag][attribute_key].add(attribute_val)\n",
      "                \n",
      "    \n",
      "    # if the sub_dictionary remained empty, \n",
      "    # delete it\n",
      "    if not sub_dictionary[element.tag]:\n",
      "        del sub_dictionary[element.tag]\n",
      "        \n",
      "    return sub_dictionary\n"
     ],
     "language": "python",
     "metadata": {},
     "outputs": [],
     "prompt_number": 95
    },
    {
     "cell_type": "code",
     "collapsed": false,
     "input": [
      "def dictionarianize(filename, tag_to_examine):\n",
      "    tag_dictionary = {}\n",
      "    tag_dictionary['attributes'] = {}\n",
      "    tag_dictionary['children'] = {}\n",
      "    tag_dictionary['grandchildren'] = {}\n",
      "    \n",
      "    for event,element in ET.iterparse(filename):\n",
      "        \n",
      "        # get attributes\n",
      "        if element.tag == tag_to_examine:\n",
      "            get_subdictionaries(element, tag_dictionary['attributes'])\n",
      "                      \n",
      "            # deal with descendants, if any\n",
      "            for child in element:\n",
      "                get_subdictionaries(child, tag_dictionary['children'])\n",
      "                \n",
      "                for grandchild in child:\n",
      "                    get_subdictionaries(grandchild, tag_dictionary['grandchildren'])\n",
      "\n",
      "    # if the dictionary remained empty, \n",
      "    # delete it\n",
      "    if not tag_dictionary['attributes']:\n",
      "        del tag_dictionary['attributes']\n",
      "    if not tag_dictionary['children']:\n",
      "        del tag_dictionary['children']\n",
      "    if not tag_dictionary['grandchildren']:\n",
      "        del tag_dictionary['grandchildren']\n",
      "    \n",
      "    # tests\n",
      "    #if tag_to_examine == 'node':\n",
      "    #    assert tag_dictionary['attributes']['user'] == 'lurker'\n",
      "        \n",
      "    return tag_dictionary"
     ],
     "language": "python",
     "metadata": {},
     "outputs": [],
     "prompt_number": 8
    },
    {
     "cell_type": "code",
     "collapsed": false,
     "input": [
      "def set_default(obj):\n",
      "    if isinstance(obj, set):\n",
      "        return list(obj)\n",
      "    raise TypeError"
     ],
     "language": "python",
     "metadata": {},
     "outputs": [],
     "prompt_number": 9
    },
    {
     "cell_type": "markdown",
     "metadata": {},
     "source": [
      "##jsonize"
     ]
    },
    {
     "cell_type": "code",
     "collapsed": false,
     "input": [
      "def jsonize(tag_names):\n",
      "    for tag_name in tag_names:\n",
      "        with open('{0}.json'.format(tag_name), 'w') as f:\n",
      "            json.dump(dictionarianize(filename, tag_to_examine=tag_name), f, default=set_default, sort_keys=True, indent=2, separators=(',', ' : '))\n",
      "        print \"{0} done\".format(tag_name)\n",
      "        finished()"
     ],
     "language": "python",
     "metadata": {},
     "outputs": [],
     "prompt_number": 33
    },
    {
     "cell_type": "code",
     "collapsed": false,
     "input": [
      "tag_names = ['bounds','member','nd','node','osm','relation','tag','way']\n",
      "jsonize(tag_names)"
     ],
     "language": "python",
     "metadata": {},
     "outputs": [
      {
       "output_type": "stream",
       "stream": "stdout",
       "text": [
        "bounds done\n",
        "member done"
       ]
      },
      {
       "output_type": "stream",
       "stream": "stdout",
       "text": [
        "\n",
        "nd done"
       ]
      },
      {
       "output_type": "stream",
       "stream": "stdout",
       "text": [
        "\n",
        "node done"
       ]
      },
      {
       "output_type": "stream",
       "stream": "stdout",
       "text": [
        "\n",
        "osm done"
       ]
      },
      {
       "output_type": "stream",
       "stream": "stdout",
       "text": [
        "\n",
        "relation done"
       ]
      },
      {
       "output_type": "stream",
       "stream": "stdout",
       "text": [
        "\n",
        "tag done"
       ]
      },
      {
       "output_type": "stream",
       "stream": "stdout",
       "text": [
        "\n",
        "way done"
       ]
      },
      {
       "output_type": "stream",
       "stream": "stdout",
       "text": [
        "\n"
       ]
      }
     ],
     "prompt_number": 92
    },
    {
     "cell_type": "markdown",
     "metadata": {},
     "source": [
      "####bounds"
     ]
    },
    {
     "cell_type": "markdown",
     "metadata": {},
     "source": [
      "bounds element attributes seemed fine"
     ]
    },
    {
     "cell_type": "markdown",
     "metadata": {},
     "source": [
      "####member"
     ]
    },
    {
     "cell_type": "markdown",
     "metadata": {},
     "source": [
      "member elements attributes: varying length ref values, but all were strings of integers, so seemingly fine; role values were mostly snakecase; any that weren't were changed to snakecase due to the examples given here (http://wiki.openstreetmap.org/wiki/Relation); type values seemed fine"
     ]
    },
    {
     "cell_type": "code",
     "collapsed": false,
     "input": [
      "!grep member data/boston_massachusetts_new.osm -B 1 -A 1 | head "
     ],
     "language": "python",
     "metadata": {},
     "outputs": [
      {
       "output_type": "stream",
       "stream": "stdout",
       "text": [
        "    <tag k=\"name\" v=\"Sherman Lot\" />\r\n",
        "    <tag k=\"note\" v=\"parking for Harvest members and some other permit holders\" />\r\n",
        "    <tag k=\"access\" v=\"private\" />\r\n",
        "--\r\n",
        "--\r\n",
        "  <relation changeset=\"20567148\" id=\"37967\" timestamp=\"2014-02-14T21:59:51Z\" uid=\"326503\" user=\"wambag\" version=\"18\">\r\n",
        "    <member ref=\"61317423\" role=\"via\" type=\"node\" />\r\n",
        "    <member ref=\"8615818\" role=\"to\" type=\"way\" />\r\n",
        "    <member ref=\"115591269\" role=\"from\" type=\"way\" />\r\n",
        "    <tag k=\"type\" v=\"restriction\" />\r\n"
       ]
      }
     ],
     "prompt_number": 96
    },
    {
     "cell_type": "markdown",
     "metadata": {},
     "source": [
      "####get new root from file"
     ]
    },
    {
     "cell_type": "code",
     "collapsed": false,
     "input": [
      "def get_new_root(filename):\n",
      "    tree = ET.parse(filename)\n",
      "    return tree.getroot()"
     ],
     "language": "python",
     "metadata": {},
     "outputs": [],
     "prompt_number": 129
    },
    {
     "cell_type": "code",
     "collapsed": false,
     "input": [
      "root = get_new_root(filename)"
     ],
     "language": "python",
     "metadata": {},
     "outputs": [],
     "prompt_number": 175
    },
    {
     "cell_type": "markdown",
     "metadata": {},
     "source": [
      "####write current tree to file"
     ]
    },
    {
     "cell_type": "code",
     "collapsed": false,
     "input": [
      "def write_tree(filename):\n",
      "    tree.write(filename)"
     ],
     "language": "python",
     "metadata": {},
     "outputs": [],
     "prompt_number": 139
    },
    {
     "cell_type": "code",
     "collapsed": false,
     "input": [
      "# write a function to snakecasify\n",
      "def snakecasify(element_name, attribute_name, key_or_value):\n",
      "\n",
      "    if key_or_value == 'value':\n",
      "        if len(element_name) > 1:\n",
      "            for element in root.findall(element_name[0]):\n",
      "                for child in element.findall(element_name[1]):\n",
      "                    attribute_val = child.get(attribute_name).lower().replace(' ','_')\n",
      "                    child.set(attribute_name,attribute_val)\n",
      "                \n",
      "    tree.write(filename)"
     ],
     "language": "python",
     "metadata": {},
     "outputs": [],
     "prompt_number": 103
    },
    {
     "cell_type": "markdown",
     "metadata": {},
     "source": [
      "####member roles"
     ]
    },
    {
     "cell_type": "code",
     "collapsed": false,
     "input": [
      "snakecasify(['relation','member'], 'role', 'value')"
     ],
     "language": "python",
     "metadata": {},
     "outputs": [],
     "prompt_number": 93
    },
    {
     "cell_type": "code",
     "collapsed": false,
     "input": [
      "# check results\n",
      "jsonize(['member'])"
     ],
     "language": "python",
     "metadata": {},
     "outputs": [
      {
       "output_type": "stream",
       "stream": "stdout",
       "text": [
        "member done\n"
       ]
      }
     ],
     "prompt_number": 94
    },
    {
     "cell_type": "markdown",
     "metadata": {},
     "source": [
      "####nd"
     ]
    },
    {
     "cell_type": "markdown",
     "metadata": {},
     "source": [
      "nd elements ref attribute values appeared to be fine (strings of integers)"
     ]
    },
    {
     "cell_type": "markdown",
     "metadata": {},
     "source": [
      "####node"
     ]
    },
    {
     "cell_type": "markdown",
     "metadata": {},
     "source": [
      "node changeset, id, lat, lon, timestamp, uid, user, and version attributes seemed fine"
     ]
    },
    {
     "cell_type": "markdown",
     "metadata": {},
     "source": [
      "node children: tag elements were a mess, as would be expected given the way they are used in OpenStreetMap"
     ]
    },
    {
     "cell_type": "markdown",
     "metadata": {},
     "source": [
      "####node children: tags"
     ]
    },
    {
     "cell_type": "markdown",
     "metadata": {},
     "source": [
      "problematic tag attributes scheduled for removal: \"Deed\", \"FIXME\", \"LOCATION\", \"ROUTES\", \"Town\""
     ]
    },
    {
     "cell_type": "markdown",
     "metadata": {},
     "source": [
      "\"abandoned:railway\" : [ \"station\" ], following format here: http://wiki.openstreetmap.org/wiki/Railways"
     ]
    },
    {
     "cell_type": "code",
     "collapsed": false,
     "input": [
      "!grep abandoned data/boston_massachusetts_new.osm -B 1 -A 1 | head"
     ],
     "language": "python",
     "metadata": {},
     "outputs": [
      {
       "output_type": "stream",
       "stream": "stdout",
       "text": [
        "    <tag k=\"start_date\" v=\"1848\" />\r\n",
        "    <tag k=\"abandoned:railway\" v=\"station\" />\r\n",
        "  <tag /><tag /></node>\r\n",
        "--\r\n",
        "--\r\n",
        "    <tag k=\"name\" v=\"Watertown Branch\" />\r\n",
        "    <tag k=\"railway\" v=\"abandoned\" />\r\n",
        "    <tag k=\"old_railway_operator\" v=\"B&amp;M\" />\r\n",
        "--\r\n",
        "--\r\n"
       ]
      }
     ],
     "prompt_number": 193
    },
    {
     "cell_type": "code",
     "collapsed": false,
     "input": [
      "for element in root.findall('node'):\n",
      "    for child in element.findall('tag'):\n",
      "        if child.attrib['k'] == 'abandoned:railway':\n",
      "            child.attrib['railway'] = 'abandoned'\n",
      "            del child.attrib['k']\n",
      "            del child.attrib['v']\n",
      "    \n",
      "            ET.SubElement(element,'tag',{'public_transport' : 'station'})"
     ],
     "language": "python",
     "metadata": {},
     "outputs": [],
     "prompt_number": 183
    },
    {
     "cell_type": "code",
     "collapsed": false,
     "input": [
      "write_tree(filename)"
     ],
     "language": "python",
     "metadata": {},
     "outputs": [],
     "prompt_number": 191
    },
    {
     "cell_type": "code",
     "collapsed": false,
     "input": [
      "for element in root.findall('node'):\n",
      "    for child in element.findall('tag'):\n",
      "        if ('railway' in child.attrib) or ('public_transport' in child.attrib):\n",
      "            print child.attrib"
     ],
     "language": "python",
     "metadata": {},
     "outputs": [
      {
       "output_type": "stream",
       "stream": "stdout",
       "text": [
        "{'railway': 'abandoned'}\n",
        "{'public_transport': 'station'}\n"
       ]
      }
     ],
     "prompt_number": 190
    },
    {
     "cell_type": "code",
     "collapsed": false,
     "input": [
      "def replace_value(element_name, key, current_value, new_value):\n",
      "    tree = ET.parse(filename)\n",
      "    root = tree.getroot()\n",
      "    \n",
      "    if len(element_name) > 1:\n",
      "        for element in root.findall(element_name[0]):\n",
      "            for child in element.findall(element_name[1]):\n",
      "                if child.get(key) == current_value:\n",
      "                    child.set(key,new_value)\n",
      "\n",
      "    tree.write(filename)"
     ],
     "language": "python",
     "metadata": {},
     "outputs": [],
     "prompt_number": 115
    },
    {
     "cell_type": "code",
     "collapsed": false,
     "input": [
      "# check results\n",
      "jsonize(['node'])"
     ],
     "language": "python",
     "metadata": {},
     "outputs": [
      {
       "output_type": "stream",
       "stream": "stdout",
       "text": [
        "node done\n"
       ]
      }
     ],
     "prompt_number": 116
    },
    {
     "cell_type": "markdown",
     "metadata": {},
     "source": [
      "after fixes, write new regexes to omit"
     ]
    },
    {
     "cell_type": "markdown",
     "metadata": {},
     "source": [
      "skip users when all strings"
     ]
    }
   ],
   "metadata": {}
  }
 ]
}