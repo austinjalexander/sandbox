{
 "metadata": {
  "name": "",
  "signature": "sha256:697688695bb251a5f476499ea898d9177d77ce0880064fc00c7e75354e9c53c7"
 },
 "nbformat": 3,
 "nbformat_minor": 0,
 "worksheets": [
  {
   "cells": [
    {
     "cell_type": "markdown",
     "metadata": {},
     "source": [
      "#Boston Roulette"
     ]
    },
    {
     "cell_type": "markdown",
     "metadata": {},
     "source": [
      "*A Something-to-Do-in-Boston Suggestion Engine*"
     ]
    },
    {
     "cell_type": "markdown",
     "metadata": {},
     "source": [
      "##Import Python packages"
     ]
    },
    {
     "cell_type": "code",
     "collapsed": false,
     "input": [
      "import xml.etree.cElementTree as ET\n",
      "import pprint as pp\n",
      "import re\n",
      "import os\n",
      "import json\n",
      "import string"
     ],
     "language": "python",
     "metadata": {},
     "outputs": [],
     "prompt_number": 2
    },
    {
     "cell_type": "markdown",
     "metadata": {},
     "source": [
      "##Data file name"
     ]
    },
    {
     "cell_type": "code",
     "collapsed": false,
     "input": [
      "filename = '/Users/excalibur/Dropbox/nanodegree/data/boston_massachusetts.osm'"
     ],
     "language": "python",
     "metadata": {},
     "outputs": [],
     "prompt_number": 3
    },
    {
     "cell_type": "markdown",
     "metadata": {},
     "source": [
      "##Helper functions"
     ]
    },
    {
     "cell_type": "code",
     "collapsed": false,
     "input": [
      "# system beep\n",
      "def finished():\n",
      "    os.system(\"printf '\\a'\")\n",
      "    os.system(\"printf '\\a'\")"
     ],
     "language": "python",
     "metadata": {},
     "outputs": [],
     "prompt_number": 4
    },
    {
     "cell_type": "code",
     "collapsed": false,
     "input": [
      "# replace sets with lists for JSON\n",
      "def set_default(obj):\n",
      "    if isinstance(obj, set):\n",
      "        return list(obj)\n",
      "    raise TypeError"
     ],
     "language": "python",
     "metadata": {},
     "outputs": [],
     "prompt_number": 5
    },
    {
     "cell_type": "code",
     "collapsed": false,
     "input": [
      "# make a JSON file\n",
      "def make_places_file(places):\n",
      "    with open('places.json', 'w') as f:\n",
      "        json.dump(places, f, default=set_default, sort_keys=True, indent=2, separators=(',', ' : '))\n",
      "    finished()"
     ],
     "language": "python",
     "metadata": {},
     "outputs": [],
     "prompt_number": 6
    },
    {
     "cell_type": "markdown",
     "metadata": {},
     "source": [
      "##Get data from the OSM file"
     ]
    },
    {
     "cell_type": "markdown",
     "metadata": {},
     "source": [
      "###We shall call the nodes, places, and it will be good."
     ]
    },
    {
     "cell_type": "code",
     "collapsed": false,
     "input": [
      "places = {}\n",
      "for event,element in ET.iterparse(filename):\n",
      "    if element.tag == 'node':\n",
      "        node_id = element.attrib['id']\n",
      "        places[node_id] = {}\n",
      "        places[node_id]['lat'] = element.attrib['lat'] \n",
      "        places[node_id]['lon'] = element.attrib['lon']\n",
      "        \n",
      "        for tag in element:\n",
      "            if tag.attrib['k'] == 'addr:city':\n",
      "                places[node_id]['city'] = tag.attrib['v']\n",
      "            if tag.attrib['k'] == 'addr:housenumber':\n",
      "                places[node_id]['number'] = tag.attrib['v']\n",
      "            if tag.attrib['k'] == 'addr:street':\n",
      "                places[node_id]['street'] = tag.attrib['v']\n",
      "            if tag.attrib['k'] == 'address':\n",
      "                places[node_id]['address'] = tag.attrib['v']\n",
      "            if tag.attrib['k'] == 'amenity':\n",
      "                places[node_id]['amenity'] = tag.attrib['v']\n",
      "            if tag.attrib['k'] == 'cuisine':\n",
      "                places[node_id]['cuisine'] = tag.attrib['v']\n",
      "            if tag.attrib['k'] == 'designation':\n",
      "                places[node_id]['designation'] = tag.attrib['v']\n",
      "            if tag.attrib['k'] == 'leisure':\n",
      "                places[node_id]['leisure'] = tag.attrib['v']\n",
      "            if tag.attrib['k'] == 'name':\n",
      "                places[node_id]['name'] = tag.attrib['v']\n",
      "            if tag.attrib['k'] == 'note':\n",
      "                places[node_id]['note'] = tag.attrib['v']\n",
      "            if tag.attrib['k'] == 'opening_hours':\n",
      "                places[node_id]['opening_hours'] = tag.attrib['v']\n",
      "            if tag.attrib['k'] == 'phone':\n",
      "                places[node_id]['phone'] = tag.attrib['v']\n",
      "            if tag.attrib['k'] == 'shop':\n",
      "                places[node_id]['shop'] = tag.attrib['v']\n",
      "            if tag.attrib['k'] == 'website':\n",
      "                places[node_id]['website'] = tag.attrib['v']\n",
      "\n",
      "finished()"
     ],
     "language": "python",
     "metadata": {},
     "outputs": [],
     "prompt_number": 7
    },
    {
     "cell_type": "markdown",
     "metadata": {},
     "source": [
      "##Initial number of places"
     ]
    },
    {
     "cell_type": "code",
     "collapsed": false,
     "input": [
      "len(places)"
     ],
     "language": "python",
     "metadata": {},
     "outputs": [
      {
       "metadata": {},
       "output_type": "pyout",
       "prompt_number": 8,
       "text": [
        "1601437"
       ]
      }
     ],
     "prompt_number": 8
    },
    {
     "cell_type": "markdown",
     "metadata": {},
     "source": [
      "##Save places as a JSON file"
     ]
    },
    {
     "cell_type": "code",
     "collapsed": false,
     "input": [
      "make_places_file(places)"
     ],
     "language": "python",
     "metadata": {},
     "outputs": [],
     "prompt_number": 9
    },
    {
     "cell_type": "markdown",
     "metadata": {},
     "source": [
      "##Start getting rid of places that don't make the cut (given our goals)"
     ]
    },
    {
     "cell_type": "markdown",
     "metadata": {},
     "source": [
      "We don't want places with only latitude and longitude."
     ]
    },
    {
     "cell_type": "code",
     "collapsed": false,
     "input": [
      "to_remove = []\n",
      "for place in places:\n",
      "    if len(places[place].keys()) <= 2:\n",
      "        to_remove.append(place)\n",
      "\n",
      "for place_id in to_remove:\n",
      "    del places[place_id]"
     ],
     "language": "python",
     "metadata": {},
     "outputs": [],
     "prompt_number": 10
    },
    {
     "cell_type": "markdown",
     "metadata": {},
     "source": [
      "Check to see how many places are left."
     ]
    },
    {
     "cell_type": "code",
     "collapsed": false,
     "input": [
      "len(places)"
     ],
     "language": "python",
     "metadata": {},
     "outputs": [
      {
       "metadata": {},
       "output_type": "pyout",
       "prompt_number": 11,
       "text": [
        "10386"
       ]
      }
     ],
     "prompt_number": 11
    },
    {
     "cell_type": "markdown",
     "metadata": {},
     "source": [
      "Well, there goes most of the data, which makes sense, since it was map data."
     ]
    },
    {
     "cell_type": "markdown",
     "metadata": {},
     "source": [
      "Similarly, we don't want places that don't have some sort of helpful label."
     ]
    },
    {
     "cell_type": "code",
     "collapsed": false,
     "input": [
      "keys = set()\n",
      "for place in places:\n",
      "    if 'name' not in places[place].keys():\n",
      "        for key in places[place].keys():\n",
      "            keys.add(key)\n",
      "print keys"
     ],
     "language": "python",
     "metadata": {},
     "outputs": [
      {
       "output_type": "stream",
       "stream": "stdout",
       "text": [
        "set(['shop', 'city', 'amenity', 'designation', 'cuisine', 'website', 'lon', 'number', 'leisure', 'note', 'phone', 'street', 'address', 'lat'])\n"
       ]
      }
     ],
     "prompt_number": 12
    },
    {
     "cell_type": "markdown",
     "metadata": {},
     "source": [
      "So those labels listed above exist in various combinations for places even when the **name** label is absent."
     ]
    },
    {
     "cell_type": "markdown",
     "metadata": {},
     "source": [
      "Since **name** might not be used, but something else like **shop** could be, eliminate places that don't have some sort of helpful label (i.e., one from the above set)."
     ]
    },
    {
     "cell_type": "code",
     "collapsed": false,
     "input": [
      "to_remove = []\n",
      "for place in places:\n",
      "    if not 'name' in places[place].keys() and not 'shop' in places[place].keys() and not 'amenity' in places[place].keys() and not 'leisure' in places[place].keys() and not 'note' in places[place].keys():\n",
      "        to_remove.append(place)\n",
      "        \n",
      "for place_id in to_remove:\n",
      "    del places[place_id]"
     ],
     "language": "python",
     "metadata": {},
     "outputs": [],
     "prompt_number": 13
    },
    {
     "cell_type": "markdown",
     "metadata": {},
     "source": [
      "Check to see how many places are left."
     ]
    },
    {
     "cell_type": "code",
     "collapsed": false,
     "input": [
      "len(places)"
     ],
     "language": "python",
     "metadata": {},
     "outputs": [
      {
       "metadata": {},
       "output_type": "pyout",
       "prompt_number": 14,
       "text": [
        "9984"
       ]
      }
     ],
     "prompt_number": 14
    },
    {
     "cell_type": "markdown",
     "metadata": {},
     "source": [
      "Our places are slowly evaporating, but that's OK."
     ]
    },
    {
     "cell_type": "markdown",
     "metadata": {},
     "source": [
      "##Not every place is the type of place we want to list"
     ]
    },
    {
     "cell_type": "code",
     "collapsed": false,
     "input": [
      "def display_labels(label):\n",
      "    # for nbviewer, use a counter so output is truncated\n",
      "    count = 0 #\n",
      "    \n",
      "    labels = set()\n",
      "    for place in places:\n",
      "        if label in places[place]:\n",
      "            labels.add(places[place][label])\n",
      "\n",
      "    for l in labels:\n",
      "        print l\n",
      "        \n",
      "        # for nbviewer, use a counter so output is truncated\n",
      "        count += 1\n",
      "        if count > 50:\n",
      "            break"
     ],
     "language": "python",
     "metadata": {},
     "outputs": [],
     "prompt_number": 15
    },
    {
     "cell_type": "markdown",
     "metadata": {},
     "source": [
      "##Show names"
     ]
    },
    {
     "cell_type": "code",
     "collapsed": false,
     "input": [
      "display_labels('name')"
     ],
     "language": "python",
     "metadata": {},
     "outputs": [
      {
       "output_type": "stream",
       "stream": "stdout",
       "text": [
        "Sofra Bakery & Cafe\n",
        "Huron Ave @ Gurney St\n",
        "Edmonds Hall\n",
        "Kennedy Biscuit Loft apartments\n",
        "Union Square Family Health\n",
        "New Mission High School\n",
        "Chestnut Hill Ave @ Buckminster Rd\n",
        "Saint Matthews Syrian Orthodox Church\n",
        "Hojo Study Lounge\n",
        "Hubway - Boston Convention & Exhibition Center\n",
        "Washington St @ Fore River Bridge\n",
        "145 Grove St opp Bellingham Rd\n",
        "Hubway - University of Massachusetts Boston\n",
        "Middlesex County Jail (Cambridge)\n",
        "735 Hyde Park Ave\n",
        "Island End River\n",
        "Warren St @ Gaston St\n",
        "Lasell St @ Perham St\n",
        "101 Anawan Ave opp Allenwood St\n",
        "Boston Pre-Release Center\n",
        "Adams St @ Brae Rd\n",
        "West Head\n",
        "Washington St opp Ashmont St\n",
        "Centre St @ Brooks Ave\n",
        "Highland Ave @ Trull Ln\n",
        "Broadway opp Cross St\n",
        "Hubway - Washington Square at Washington St. / Beacon St.\n",
        "Wahington St @ Evans Rd\n",
        "Shiki\n",
        "North St opp Moreland Rd\n",
        "Middlesex County Sheriff\n",
        "Huntington Ave @ Opera Pl\n",
        "Neck St @ Great Hill Dr\n",
        "Market St @ Morrow Rd\n",
        "Anawan Ave @ Allenwood St\n",
        "Cambridge St @ Hano St\n",
        "Truman Hwy @ Tyler St\n",
        "Moore Youth Center\n",
        "Saint Theresa Elementary School\n",
        "Dudley St @ Shawmut Ave\n",
        "House of Chang\n",
        "First Corps of Cadets Museum\n",
        "E 8th St @ Mercer St\n",
        "Pig Rock\n",
        "Rab Wing\n",
        "AT&T\n",
        "Readville St @ W Milton St\n",
        "Sorelle\n",
        "Harpoon Brewery\n",
        "Newton South High\n",
        "Roxbury Latin School\n"
       ]
      }
     ],
     "prompt_number": 17
    },
    {
     "cell_type": "markdown",
     "metadata": {},
     "source": [
      "After scanning the above list, some obvious candidates for removal appear. Schools and churches probably wouldn't be popular destinations (some folks would disagree, of course).\n",
      "\n",
      "Names with *@* seem to be cross-streets (while not a terrible idea for suggested destinations, cross-streets obviously lack certain enticing details). Similarly, any names that are merely attempts at addresses should be nixed."
     ]
    },
    {
     "cell_type": "markdown",
     "metadata": {},
     "source": [
      "##Regex for removal"
     ]
    },
    {
     "cell_type": "code",
     "collapsed": false,
     "input": [
      "remove_regex = re.compile(r'School|Academy|Elem|Church|@|St|Ave|Pkwy|Rd|Hwy|Dr|I-')"
     ],
     "language": "python",
     "metadata": {},
     "outputs": [],
     "prompt_number": 18
    },
    {
     "cell_type": "code",
     "collapsed": false,
     "input": [
      "to_remove = []\n",
      "for place in places:\n",
      "    if 'name' in places[place]:\n",
      "        if remove_regex.search(places[place]['name']):\n",
      "            to_remove.append(place)\n",
      "        \n",
      "for place_id in to_remove:\n",
      "    del places[place_id]"
     ],
     "language": "python",
     "metadata": {},
     "outputs": [],
     "prompt_number": 19
    },
    {
     "cell_type": "markdown",
     "metadata": {},
     "source": [
      "##Run another name check"
     ]
    },
    {
     "cell_type": "code",
     "collapsed": false,
     "input": [
      "display_labels('name')"
     ],
     "language": "python",
     "metadata": {},
     "outputs": [
      {
       "output_type": "stream",
       "stream": "stdout",
       "text": [
        "E Somerville Community\n",
        "Bike Rack\n",
        "Haynes Early Education Center\n",
        "Milton Town Hall\n",
        "Sofra Bakery & Cafe\n",
        "Island End River\n",
        "Darque Tan\n",
        "East Boston\n",
        "Kennedy Biscuit Loft apartments\n",
        "Hebrew Rehabilitation Center For Aged\n",
        "Union Square Family Health\n",
        "Overholt Building\n",
        "Zo Greek\n",
        "Our Lady Of Lourdes\n",
        "Oakdale\n",
        "Hubway - Boston Convention & Exhibition Center\n",
        "Hess\n",
        "Gibbs Building\n",
        "John Fitzgerald Kennedy National Historic Site\n",
        "Lippman Building\n",
        "Snowden International High\n",
        "Hubway - University of Massachusetts Boston\n",
        "Middlesex County Jail (Cambridge)\n",
        "The Upper Crust Pizzeria\n",
        "Carnegie Building\n",
        "Gordon's Fine Wine & Liquors\n",
        "Boston Pre-Release Center\n",
        "West Head\n",
        "A22\n",
        "Bella Vista\n",
        "Boston Univ Central - Outbound\n",
        "Donaldson House\n",
        "Higgins Hall\n",
        "Spectroscopy Laboratory\n",
        "Central Library\n",
        "Rod Dee\n",
        "Middlesex Law Library\n",
        "Harborside Inn\n",
        "Jackson Sq Orange Line Inbound\n",
        "Clark Park\n",
        "Wong Auditorium\n",
        "Merrymount\n",
        "Shiki\n",
        "Capuano Early Childhood Learning Center\n",
        "Porter Square Books\n",
        "Copley Art & Framing\n",
        "Athens Pizza & Grille\n",
        "The Upper Crust\n",
        "Wood Building\n",
        "Meritage and Rowes Wharf Sea Grille\n",
        "Ginger Exchange\n"
       ]
      }
     ],
     "prompt_number": 20
    },
    {
     "cell_type": "markdown",
     "metadata": {},
     "source": [
      "There are likely plenty of other types of names to weed out, but the current batch should be good for now."
     ]
    },
    {
     "cell_type": "markdown",
     "metadata": {},
     "source": [
      "Get a new count for the number of places that remain."
     ]
    },
    {
     "cell_type": "code",
     "collapsed": false,
     "input": [
      "len(places)"
     ],
     "language": "python",
     "metadata": {},
     "outputs": [
      {
       "metadata": {},
       "output_type": "pyout",
       "prompt_number": 21,
       "text": [
        "4902"
       ]
      }
     ],
     "prompt_number": 21
    },
    {
     "cell_type": "markdown",
     "metadata": {},
     "source": [
      "Ah! Are we going to have any left when all of this is over!?"
     ]
    },
    {
     "cell_type": "markdown",
     "metadata": {},
     "source": [
      "##Lump label-like values together"
     ]
    },
    {
     "cell_type": "markdown",
     "metadata": {},
     "source": [
      "Moving on to the other keys: shop, amenity, designation, cuisine, and leisure, all seem like they can function as general labels and, thus, need not be distinguished from one another."
     ]
    },
    {
     "cell_type": "code",
     "collapsed": false,
     "input": [
      "for label in ['shop','amenity','designation','cuisine','leisure']:\n",
      "    print \"\\n------- \" + label.upper() + \" -------\\n\"\n",
      "    display_labels(label)"
     ],
     "language": "python",
     "metadata": {},
     "outputs": [
      {
       "output_type": "stream",
       "stream": "stdout",
       "text": [
        "\n",
        "------- SHOP -------\n",
        "\n",
        "nail_salon\n",
        "outdoor\n",
        "electrician\n",
        "shoes\n",
        "food\n",
        "vacant\n",
        "tax\n",
        "newsagent\n",
        "travel_agency\n",
        "hardware\n",
        "real_estate\n",
        "erotic\n",
        "books\n",
        "butcher\n",
        "toys\n",
        "florist\n",
        "bicycle\n",
        "yes\n",
        "car_repair\n",
        "photo\n",
        "carpet\n",
        "kitchen\n",
        "art\n",
        "confectionery\n",
        "alcohol\n",
        "acupuncture\n",
        "pet\n",
        "pet_care\n",
        "psychic\n",
        "jewelry\n",
        "convenience\n",
        "antiques\n",
        "sports\n",
        "vacuum_cleaner\n",
        "fishmonger\n",
        "music\n",
        "dry_cleaning;tailor\n",
        "cash\n",
        "tile\n",
        "indian_grocer\n",
        "electronics\n",
        "doityourself\n",
        "chemist\n",
        "mobile_phone\n",
        "laundry\n",
        "beauty\n",
        "hairdresser\n",
        "deli\n",
        "beverages\n",
        "supermarket\n",
        "stationery\n",
        "\n",
        "------- AMENITY -------\n",
        "\n",
        "grave_yard\n",
        "drinking_water\n",
        "marketplace\n",
        "picnic_table\n",
        "car_sharing\n",
        "public_building\n",
        "cinema\n",
        "recycling\n",
        "car_wash\n",
        "telephone\n",
        "library\n",
        "bicycle_rental\n",
        "clinic\n",
        "embassy\n",
        "childcare\n",
        "clock\n",
        "parking\n",
        "post_office\n",
        "bench\n",
        "magazine_box\n",
        "yes\n",
        "toilets\n",
        "bicycle_repair_station\n",
        "cafe\n",
        "police\n",
        "townhall\n",
        "food_court\n",
        "community_centre\n",
        "hospital\n",
        "veterinary\n",
        "music_club\n",
        "pharmacy\n",
        "police dist 7\n",
        "fountain\n",
        "car_rental\n",
        "prison\n",
        "fuel\n",
        "bicycle_parking\n",
        "bbq\n",
        "fast_food\n",
        "fire_station\n",
        "bakery\n",
        "theatre\n",
        "hairdresser\n",
        "post_box\n",
        "social_facility\n",
        "arts_centre\n",
        "emergency_phone\n",
        "pub\n",
        "waste_basket\n",
        "dentist\n",
        "\n",
        "------- DESIGNATION -------\n",
        "\n",
        "Salad Bar\n",
        "Sound-Reflection\n",
        "John Joseph Moakley United States Courthouse \u2022 One Courthouse Way \u2022 Boston, MA 02210\n",
        "Study and Eating lounge\n",
        "Alchemist\n",
        "Campus Dining Option\n",
        "Food and Study Area\n",
        "Place to eat/study\n",
        "Roslindale Post Office\n",
        "Place of worship, study space, food source, function space\n",
        "Place of worship/ study space/ food source/ function area\n",
        "Minot Rose Garden, Study Spot\n",
        "Student Resource Center/ Food Source/ Study Space\n",
        "Study Spot\n",
        "\n",
        "------- CUISINE -------\n",
        "\n",
        "portuguese\n",
        "Israeli\n",
        "Italian panini, subs, pizza, calzone, zuppe\n",
        "mexican\n",
        "chinese\n",
        "Turkish\n",
        "german\n",
        "fish\n",
        "sushi\n",
        "ethiopian\n",
        "japanese\n",
        "frozen_yogurt\n",
        "burger\n",
        "persian\n",
        "Bakery\n",
        "asian\n",
        "oysters,fish\n",
        "Yogurt\n",
        "chicken\n",
        "coffee_shop\n",
        "Italian,_pizza,_pasta\n",
        "afghan\n",
        "kebab\n",
        "turkish\n",
        "salads\n",
        "bakery\n",
        "bagel\n",
        "peruvian\n",
        "indian\n",
        "brazilian\n",
        "pizza;burger;sandwich\n",
        "international\n",
        "venezuelan\n",
        "creole\n",
        "Romanza Pizzaria\n",
        "pizza\n",
        "sandwich\n",
        "steak_house\n",
        "mediterranean\n",
        "Tapas\n",
        "regional\n",
        "french\n",
        "sandwich;coffee_shop\n",
        "Burmese\n",
        "greek\n",
        "eritrean\n",
        "pub\n",
        "pasta\n",
        "thai\n",
        "ice_cream\n",
        "tibetan\n",
        "\n",
        "------- LEISURE -------\n",
        "\n",
        "picnic_table"
       ]
      },
      {
       "output_type": "stream",
       "stream": "stdout",
       "text": [
        "\n",
        "fitness_centre\n",
        "fitness_station\n",
        "marina\n",
        "club\n",
        "amusement_arcade\n",
        "park\n",
        "hackerspace\n",
        "swimming_pool\n",
        "slipway\n",
        "playground\n",
        "pitch\n",
        "sports_centre\n"
       ]
      }
     ],
     "prompt_number": 22
    },
    {
     "cell_type": "markdown",
     "metadata": {},
     "source": [
      "The above labels are good candidates for snakecasify-ing and should be added to a set for each place (since there could be unwanted overlap between them); the set should then be converted to a list for the sake of JSON."
     ]
    },
    {
     "cell_type": "code",
     "collapsed": false,
     "input": [
      "for place in places:\n",
      "    places[place]['labels'] = set()\n",
      "    for key in ['shop','amenity','designation','cuisine','leisure']:\n",
      "        if key in places[place]:\n",
      "            # snakecasify\n",
      "            places[place]['labels'].add(places[place][key].replace(',','').lower().replace(' ','_'))\n",
      "\n",
      "    places[place]['labels'] = list(places[place]['labels'])"
     ],
     "language": "python",
     "metadata": {},
     "outputs": [],
     "prompt_number": 23
    },
    {
     "cell_type": "code",
     "collapsed": false,
     "input": [
      "def remove_keys(keys):\n",
      "    for place in places:\n",
      "        for key in keys:\n",
      "            if key in places[place]:\n",
      "                del places[place][key]"
     ],
     "language": "python",
     "metadata": {},
     "outputs": [],
     "prompt_number": 24
    },
    {
     "cell_type": "code",
     "collapsed": false,
     "input": [
      "remove_keys(['shop','amenity','designation','cuisine','leisure'])"
     ],
     "language": "python",
     "metadata": {},
     "outputs": [],
     "prompt_number": 25
    },
    {
     "cell_type": "markdown",
     "metadata": {},
     "source": [
      "Save progress."
     ]
    },
    {
     "cell_type": "code",
     "collapsed": true,
     "input": [
      "make_places_file(places)"
     ],
     "language": "python",
     "metadata": {},
     "outputs": [],
     "prompt_number": 26
    },
    {
     "cell_type": "markdown",
     "metadata": {},
     "source": [
      "##Check to see what keys are left"
     ]
    },
    {
     "cell_type": "code",
     "collapsed": false,
     "input": [
      "def check_keys():\n",
      "    keys = set()\n",
      "    for place in places:\n",
      "        for key in places[place].keys():\n",
      "            keys.add(key)\n",
      "    print keys"
     ],
     "language": "python",
     "metadata": {},
     "outputs": [],
     "prompt_number": 27
    },
    {
     "cell_type": "code",
     "collapsed": false,
     "input": [
      "check_keys()"
     ],
     "language": "python",
     "metadata": {},
     "outputs": [
      {
       "output_type": "stream",
       "stream": "stdout",
       "text": [
        "set(['website', 'city', 'name', 'opening_hours', 'labels', 'lon', 'number', 'note', 'phone', 'street', 'address', 'lat'])\n"
       ]
      }
     ],
     "prompt_number": 28
    },
    {
     "cell_type": "markdown",
     "metadata": {},
     "source": [
      "##Check out notes and opening hours"
     ]
    },
    {
     "cell_type": "code",
     "collapsed": false,
     "input": [
      "for label in ['note','opening_hours']:\n",
      "    print \"\\n------- \" + label.upper() + \" -------\\n\"\n",
      "    display_labels(label)"
     ],
     "language": "python",
     "metadata": {},
     "outputs": [
      {
       "output_type": "stream",
       "stream": "stdout",
       "text": [
        "\n",
        "------- NOTE -------\n",
        "\n",
        "CBIZ Tofias, New England\u2019s leading professional service and accounting firm.  1rst floor: retail, Asgard, Cambridge Savings Bank. Upper floors: offices of Novartis Vaccines and Diagnostics, and CBIZ Tofias, professional service and accounting firm.\n",
        "Trendy nightclub, dress well\n",
        "this road leads to a service/delivery entrance to Hynes convention center. not sure if/ how to represent that.\n",
        "Babcock Arboretum\n",
        "Biotechnology Lab and Office space: Lab Incubator. http://labcentral.org/\n",
        "Deluxe hotel within easy walking distance to Fenway Park\n",
        "The Wright Way Boston basis its philosophy on the idea of creating the \u201cexceptional\u201d customer experience. You aren\u2019t just another client to us. We have developed our proprietary match-in-motion system that places you first. Apartment Rentals, Sales, PM.\n",
        "location approximate\n",
        "Geospatial consulting firm\n",
        "I provide Japanese style acupuncture treatments for a variety of disorders.\n",
        "Closed in June 2007: http://library.harvard.edu/libraries/0032.html\n",
        "In the subway station\n",
        "small grocery, coffee and deli.\n",
        "aligned to yimg\n",
        "name and loc fixed. not an actual hospital\n",
        "Novartis: floors 1, 6-10. Other biotech 2-5.  Built 1962;2007 lab conversion.  Rentable sq ft: 177,101\n",
        "Community Resource Center Afterschool program, computer classes, food pantry\n",
        "Claritas Genomics\n",
        "Property Type: Office. Year Built: 2001 Rentable Square Feet: 127,150. MIT/ Alexandria Real Estate Equities, Inc.\n",
        "Formerly MIT's Barta Bldg (N42), now Novartis.\n",
        "The oldest hotel in America.\n",
        "fire signal\n",
        "Takeda/Millenium, oncology research\n",
        "Changed name from \"Museum of American China Trade\" in 1984\n",
        "FIXME: what/where is this? is it really a library?\n",
        "Formerly Drumlins.  Formerly the High Hat.\n",
        "Wake up to the sunrise over the harbor\n",
        "Engraved on this marker: \"BOSTON 3 MILES 1729\"\n",
        "This may be out of business 11/2013\n",
        "Formerly at 5 Western Ave, Cambridge, MA, 02139; Moved Dec. 8, 2008\n",
        "Oldest continuously operating restaurant in the US. Comfortable atmosphere. Raw bar. $30-50 (less expensive in bar section).\n",
        "no trucks here, this is control office for high pressure hydrant system\n",
        "Alkermes, a developer of pharmaceutical products and drug delivery technologies.  Focus: chronic CNS conditions such as MS, schizophrenia, bipolar, addiction, pain, muscle spasticity;DM2, immunosuppression.\n",
        "charging station for cell phones\n",
        "Pharmaceuticals: Alkermes, Pharmamar, Peptimmune. Biotech: Genzyme BioSurgery.  An optical research group from Brigham & Women's Hospital.\n",
        "Best Buy is closed\n",
        "Novartis (vaccines, diagnostics);Millennium Pharmaceuticals;Bioscale, nanobiology;Aveo, biopharmaceuticals, oncology. 137,958 square foot lab and office building.  Connected by a sky bridge to 45 Sidney St.\n",
        "Partners HealthCare, a network of physicians, hospitals, and community health centers. The first collaborative research space of the Partners consortium, founded by  Brigham and Women's and Massachusetts General hospitals. 122,410 sq ft.\n",
        "Enjoy lunch or dinner on the 52. floor with a impressive view over Boston. Dress code apply.\n",
        "Built 1965, major renovation 2002 Rentable square ft 178,664 MIT/ Alexandria Real Estate Equities, Inc.\n",
        "2nd oldest restaurant in Boston\n",
        "FIXME: not sure which school building contains the library\n",
        "Tenants: Pharma: Acambis, ETEX Corporation, Gene Logic, and Ore Pharmaceuticals. Partners Health Care.\n",
        "214,638 sq ft.  Research Labs. Millennium: The Takeda Oncology Company. Our mission is to deliver extraordinary medicines to patients with cancer worldwide through our science, innovation, and passion.\n",
        "99,000 sq feet. Ariad Pharmaceuticals: HQ Cambridge and Lausanne, Switzerland. Development of new small-molecule medicines to advance the treatment of cancer.\n",
        "360 degree view of Boston from this observation Deck on the 51. floor of the Prudential Tower.\n",
        "This appears to be the name of the building, but the building is more prominantly labeled the city anex. don't know what to do with this POI -- JasonWoof\n",
        "Community Service Center\n",
        "Wine, olive oil. Big selection of gift baskets.\n",
        "Currently closed for renovations (November 7.2010)\n",
        "45 Sidney St. is part of a matched pair of buildings connected by a skybridge. Tenants: Novartis Institutes for Biomedical Research;and Millennium Pharmaceuticals. 138,724 sq. ft.\n",
        "\n",
        "------- OPENING_HOURS -------\n",
        "\n",
        "Mo-Sa 07:00-23:00, Su 10:00-18:00;\n",
        "Mo-Sa\u00a011:00-18:00; Su 12:00-17:00\n",
        "Monday - Friday 7am - 8 pm\n",
        "Mo 11:00-19:00; Tu-Th 08:00-20:00; Fr 11:00-19:00; Sa 10:00-18:00; Su off\n",
        "9:00-17:00\n",
        "Mo-Sa 10:30-23:00; Su 11:00-22:00\n",
        "Mo-Sa 17:00-23:00; Su 17:00-22:00\n",
        "Mo-Fr 08:30-17:00; Sa-Su off\n",
        "Mo-Th 9am-7pm;Fr-Sa 9am-8pm\n",
        "Mo-Fr 06:00-17:30; Sa-Su off\n",
        "12pm - 1am\n",
        "Mo-We 08:30-16:00; Th 08:00-20:00; Fr 08:30-18:00; Sa 09:00-13:00; Su off\n",
        "Mo-Tu 08:00-22:00; We-Fr 08:00-23:00; Sa 11:00-23:00; Su 12:00-22:00\n",
        "Mo-We 08:30-16:00; Th-Fr 08:30-18:00; Sa 09:00-13:00; Su off\n",
        "Mo-Th 11:00-22:00; Fr-Sa 11:00-22:30; Su off\n",
        "Mo-We 11:00-22:30; Th-Fr 11:00-23:00; Sa-Su 10:00-23:00\n",
        "Mo 11:30-24:00; Tu-Fr 00:00-00:30,11:30-24:00; Sa-Su 00:00-02:00,11:30-24:00\n",
        "9:00am - 5:30pm\n",
        "11:30-02:00\n",
        "Mo-Fr 07:00-19:00; Sa 08:00-18:00; Su off\n",
        "Mo-We 11:00-19:00; Th-Fr 11:00-21:00; Sa 11:00-19:00; Su 11:00-17:00\n",
        "Mo-Fr 07:00-20:00; Sa 08:00-18:00; Su 09:00-18:00\n",
        "Apr-Sep: Mo-Fr 10:00-19:00; Sa 10:00-18:00; Su 12:00-17:00; Oct-Mar: Mo-Tu,Th,Sa 10:00-18:00; We,Fr 10:00-19:00; Su off\n",
        "Mo-Fr 07:00-19:00; Sa 08:00-17:00; Su off\n",
        "Mo off; Tu-Su 11:00-18:00\n",
        "Mo-Fr 09:00-21:00; Sa 09:00-19:00; Su 10:00-18:00\n",
        "Mo-Sa 11:00-18:00; Su 12:00-17:00\n",
        "Mo,Su off; Tu,We,Fr 11:00-18:00; Th 11:00-20:00; Sa 09:00-17:00\n",
        "Mo-Th 10:00-19:00; Fr 10:00-20:00; Sa 10:00-18:00; Su 12:00-17:00\n",
        "Mo-Sa 07:00-23:00; Su 09:00-23:00\n",
        "Mo-Fr 07:30-21:00; Su 09:00-18:00\n",
        "Mo-Fr 09:00-17:00; Sa 09:00-13:00; Su off\n",
        "Mo-Su 06:00-23:59\n",
        "Mo-Su 07:00-23:00\n",
        "Mo-We 08:00-18:00; Th-Fr 08:00-19:00; Sa 08:00-14:00; Su 11:00-15:00\n",
        "11:00-02:00\n",
        "Mo-Th 05:00-22:00;Fr 05:00-23:00;Sa 11:30-23:00;Su 12:00-21:00\n",
        "Mo-Su 10:00-23:00\n",
        "24/7\n",
        "11:00-22:50\n",
        "No public access\n",
        "Mo-Fr 11:00-20:00; Sa 10:00-20:00; Su 12:00-19:00\n",
        "Mo-Sa 08:00-20:00;Su 09:00-18:00\n",
        "Mo-We 08:30-16:30; Th-Fr 08:30-17:00; Sa 09:00-13:00; Su off\n",
        "Mo-Fr 09:00-16:30; Sa 09:00-12:00; Su off\n",
        "7am - 8pm\n",
        "Mo,Su off; Tu-Fr 11:00-18:00; Sa 10:00-18:00\n",
        "Mo-We 08:30-18:00; Th 08:30-20:00; Fr 08:30-18:00; Sa 10:00-17:00; Su off\n",
        "Mo-We 09:00-16:00; Th 09:00-17:00; Fr 09:00-16:00; Sa 09:00-13:00; Su off\n",
        "Mo-Sa 10:00-21:00; Su 11:00-19:00\n",
        "Mo-Fr 06:00-18:00; Sa-Su 06:00-16:00\n"
       ]
      }
     ],
     "prompt_number": 29
    },
    {
     "cell_type": "markdown",
     "metadata": {},
     "source": [
      "For our purposes, **note** and **opening_hours** seem a little lame, chaotic, random, and infrequent. Get rid of 'em."
     ]
    },
    {
     "cell_type": "code",
     "collapsed": false,
     "input": [
      "remove_keys(['note','opening_hours'])"
     ],
     "language": "python",
     "metadata": {},
     "outputs": [],
     "prompt_number": 30
    },
    {
     "cell_type": "markdown",
     "metadata": {},
     "source": [
      "##Check out websites"
     ]
    },
    {
     "cell_type": "code",
     "collapsed": false,
     "input": [
      "for label in ['website']:\n",
      "    print \"\\n------- \" + label.upper() + \" -------\\n\"\n",
      "    display_labels(label)"
     ],
     "language": "python",
     "metadata": {},
     "outputs": [
      {
       "output_type": "stream",
       "stream": "stdout",
       "text": [
        "\n",
        "------- WEBSITE -------\n",
        "\n",
        "http://www.japonaisebakery.com\n",
        "www.eztaxandaccount.com\n",
        "http://www.kelleyssquarepub.com/\n",
        "http://www.darulkabab.com\n",
        "http://www.blueshirtcafedavis.com\n",
        "http://elephantwalk.com/\n",
        "http://www.marriott.com/hotels/fact-sheet/travel/bostw-residence-inn-boston-harbor-on-tudor-wharf/\n",
        "mysmile.net\n",
        "chipotle.com\n",
        "http://next.mit.edu\n",
        "http://www.solaztecarestaurants.com/\n",
        "www.ashmontcycle.com\n",
        "http://www.maaco-somerville.com/\n",
        "http://www.saloondavis.com\n",
        "http://www.cityslickercafe.com/\n",
        "http://www.goodfellasquincy.com/\n",
        "www.shaws.com\n",
        "http://www.brickandmortarbar.com/\n",
        "http://massachusetts.salvationarmy.org/MA/BostonSouthEnd\n",
        "http://www.lucyparsons.org/\n",
        "http://www.bertuccis.com/\n",
        "http://www.paddleboston.com\n",
        "https://harvardmedsim.org\n",
        "http://www.barakacafe.com/\n",
        "http://www.bhh.com/\n",
        "www.luckyslounge.com\n",
        "http://www.annastaqueria.com/\n",
        "http://www.communitybicycle.com/\n",
        "http://www.tenthousandvillages.com\n",
        "http://USPS.com\n",
        "http://massconvention.com/about-us/boston-common-garage\n",
        "http://www.zoboston.com/\n",
        "http://www.outoftheblueartgallery.com/\n",
        "http://areafour.com/\n",
        "http://www.unionoysterhouse.com/\n",
        "http://voltagecoffee.com/\n",
        "www.heliosdesigngroup.com\n",
        "http://www.dudley.harvard.edu/icb/icb.do?keyword=k73092&pageid=icb.page359690\n",
        "http://microcenter.com/\n",
        "http://www.sushiexpress-ma.com/\n",
        "http://www.tosci.com/\n",
        "http://traderjoes.com/\n",
        "http://bicyclebelleboston.com/\n",
        "http://avalonatassemblyrow.com\n",
        "http://www.quanskitchen-boston.com/\n",
        "http://www.hardrock.com\n",
        "http://www.brueggers.com/\n",
        "http://rumorboston.com/\n",
        "http://brooklineosaka.com/\n",
        "http://www.1369coffeehouse.com/\n",
        "http://www.tattecookies.com/\n"
       ]
      }
     ],
     "prompt_number": 31
    },
    {
     "cell_type": "markdown",
     "metadata": {},
     "source": [
      "People like websites. Fix 'em."
     ]
    },
    {
     "cell_type": "code",
     "collapsed": false,
     "input": [
      "http_regex = re.compile(r'http://|https://')\n",
      "for place in places:\n",
      "    if 'website' in places[place]:\n",
      "        if not http_regex.match(places[place]['website']):\n",
      "            places[place]['website'] = 'http://' + places[place]['website']\n",
      "            print places[place]['website']"
     ],
     "language": "python",
     "metadata": {},
     "outputs": [
      {
       "output_type": "stream",
       "stream": "stdout",
       "text": [
        "http://www.ashmontcycle.com\n",
        "http://mysmile.net\n",
        "http://www.qaudio.com\n",
        "http://advanceautoparts.com\n",
        "http://www.bertuccis.com\n",
        "http://www.oasisgh.com\n",
        "http://www.centralbottle.com\n",
        "http://TatteBakery.com\n",
        "http://www.luckyslounge.com\n",
        "http://www.drivemint.com\n",
        "http://www.mjoconnors.com\n",
        "http://www.quirkkia.com\n",
        "http://www.quirkworkssubaru.com\n",
        "http://www.garysliquors.com\n",
        "http://flourbakery.com\n",
        "http://www.msi.org\n",
        "http://www.eztaxandaccount.com\n",
        "http://www.quirkchevy.com\n",
        "http://5northsquare.com\n",
        "http://www.cambridgemedsupply.com\n",
        "http://www.JacobWirth.com\n",
        "http://www.tastyburger.com\n",
        "http://www.bleacherbarboston.com\n",
        "http://www.grano-pizza.com\n",
        "http://www.heliosdesigngroup.com\n",
        "http://www.shaws.com\n",
        "http://chipotle.com\n",
        "http://www.eztaxandaccount.com\n",
        "http://www.appgeo.com\n",
        "http://lordhobo.com\n"
       ]
      }
     ],
     "prompt_number": 32
    },
    {
     "cell_type": "markdown",
     "metadata": {},
     "source": [
      "##Check out phone numbers"
     ]
    },
    {
     "cell_type": "code",
     "collapsed": false,
     "input": [
      "for label in ['phone']:\n",
      "    print \"\\n------- \" + label.upper() + \" -------\\n\"\n",
      "    display_labels(label)"
     ],
     "language": "python",
     "metadata": {},
     "outputs": [
      {
       "output_type": "stream",
       "stream": "stdout",
       "text": [
        "\n",
        "------- PHONE -------\n",
        "\n",
        "+1 (617) 482-3473\n",
        "781-848-6250\n",
        "(617) 855-8593\n",
        "617-635-8700\n",
        "6173671866\n",
        "617-635-8234\n",
        "+1 (781) 267-4539\n",
        "+1 781 9171299\n",
        "617 923 6060\n",
        "617-666-3900\n",
        "983-890-4140\n",
        "6173384333\n",
        "+1 6175361775\n",
        "617-635-8789\n",
        "+1 617 536 5700\n",
        "617-635-8422\n",
        "617-484-3078\n",
        "+1 617 8683585\n",
        "+1 617 567-8787\n",
        "617-625-6600\n",
        "617-635-8781\n",
        "617-924-0187\n",
        "617-552-7409\n",
        "617-876-2200\n",
        "617-635-8275\n",
        "+1 617 612 8253\n",
        "617-436-8301\n",
        "+1 617-208-6922;+1 617-208-6928\n",
        "617-889-8422\n",
        "781-335-1836\n",
        "617 491 2999\n",
        "+1 617 375 8550\n",
        "617-536-5260\n",
        "+1 617 426.2000\n",
        "+1-617-764-3152\n",
        "+1 617 623 0803\n",
        "+1 617 349-1650\n",
        "+16174076271\n",
        "617-491-2220\n",
        "617-713-5003\n",
        "617-354-7766\n",
        "617-522-4850\n",
        "6174247000\n",
        "+1 617 661 0077\n",
        "+1 (617) 623-9068\n",
        "617-424-5500\n",
        "617.354.4200\n",
        "617-635-8832\n",
        "617-635-8731\n",
        "(617) 436-2786\n",
        "617-635-9914\n"
       ]
      }
     ],
     "prompt_number": 33
    },
    {
     "cell_type": "markdown",
     "metadata": {},
     "source": [
      "Bleck. Those phone number strings are nutzo.\n",
      "\n",
      "I think people still use phones for calling though. Might as well fix 'em."
     ]
    },
    {
     "cell_type": "code",
     "collapsed": false,
     "input": [
      "phone_regex = re.compile(r'\\d{3}-\\d{3}-\\d{4}')\n",
      "for place in places:\n",
      "    if 'phone' in places[place]:\n",
      "        if not phone_regex.match(places[place]['phone']):\n",
      "            \n",
      "            phone = list(places[place]['phone'])\n",
      "            phone.reverse()\n",
      "            \n",
      "            digit_regex = re.compile(r'\\d')\n",
      "            new_phone = []\n",
      "\n",
      "            digit_count = 0\n",
      "\n",
      "            for i in phone:\n",
      "\n",
      "                if digit_regex.match(i):\n",
      "                    new_phone.insert(0,i)\n",
      "                    digit_count += 1\n",
      "\n",
      "                    if digit_count == 4 or digit_count == 7:\n",
      "                        new_phone.insert(0,'-')\n",
      "\n",
      "                if digit_count > 9:\n",
      "                    break\n",
      "            \n",
      "            places[place]['phone'] = str.join('',new_phone)\n",
      "            \n",
      "            # print any that got through\n",
      "            if not phone_regex.match(places[place]['phone']):\n",
      "                print \"problem number: \" + places[place]['phone']"
     ],
     "language": "python",
     "metadata": {},
     "outputs": [
      {
       "output_type": "stream",
       "stream": "stdout",
       "text": [
        "problem number: -161-7357\n"
       ]
      }
     ],
     "prompt_number": 34
    },
    {
     "cell_type": "markdown",
     "metadata": {},
     "source": [
      "Simply scanning the numbers displayed in the output window above, *617 357 LUCK* is the likely culprit."
     ]
    },
    {
     "cell_type": "code",
     "collapsed": false,
     "input": [
      "for place in places:\n",
      "    if 'phone' in places[place]:\n",
      "        if places[place]['phone'] == '-161-7357':\n",
      "            places[place]['phone'] = '617-357-5825'"
     ],
     "language": "python",
     "metadata": {},
     "outputs": [],
     "prompt_number": 35
    },
    {
     "cell_type": "code",
     "collapsed": false,
     "input": [
      "for label in ['phone']:\n",
      "    print \"\\n------- \" + label.upper() + \" -------\\n\"\n",
      "    display_labels(label)"
     ],
     "language": "python",
     "metadata": {},
     "outputs": [
      {
       "output_type": "stream",
       "stream": "stdout",
       "text": [
        "\n",
        "------- PHONE -------\n",
        "\n",
        "617-772-5800\n",
        "617-266-7525\n",
        "617-542-5942\n",
        "617-567-9871\n",
        "781-848-6250\n",
        "983-890-4140\n",
        "617-635-8234\n",
        "617-679-1680\n",
        "617-666-3900\n",
        "617-742-2100\n",
        "617-357-5825\n",
        "617-247-4141\n",
        "617-635-8789\n",
        "617-635-8676\n",
        "617-635-8422\n",
        "617-424-7000\n",
        "617-484-3078\n",
        "617-764-3152\n",
        "617-625-6600\n",
        "617-635-8781\n",
        "617-868-3585\n",
        "617-552-7409\n",
        "617-876-2200\n",
        "617-635-8275\n",
        "781-340-4922\n",
        "617-436-8301\n",
        "617-889-8422\n",
        "617-338-4600\n",
        "781-335-1836\n",
        "617-561-3737\n",
        "617-536-5260\n",
        "781-326-5351\n",
        "617-496-5955\n",
        "617-491-2220\n",
        "617-713-5003\n",
        "617-354-7766\n",
        "617-542-8623\n",
        "617-522-4850\n",
        "617-482-3473\n",
        "617-424-5500\n",
        "617-437-0300\n",
        "617-783-5804\n",
        "617-635-8832\n",
        "617-635-8731\n",
        "617-325-2453\n",
        "617-264-2002\n",
        "617-714-3974\n",
        "617-569-7272\n",
        "617-776-2100\n",
        "617-635-8205\n",
        "617-497-1513\n"
       ]
      }
     ],
     "prompt_number": 36
    },
    {
     "cell_type": "markdown",
     "metadata": {},
     "source": [
      "Scanning again, I noticed *, Forest City Management* in the displayed results. \n",
      "\n",
      "It must have escaped the frontal-regex match. Drop it like it's hot."
     ]
    },
    {
     "cell_type": "code",
     "collapsed": false,
     "input": [
      "for place in places:\n",
      "    if 'phone' in places[place]:\n",
      "        if places[place]['phone'] == '617-494-9330,  Forest City Management':\n",
      "            print places[place]['phone']"
     ],
     "language": "python",
     "metadata": {},
     "outputs": [
      {
       "output_type": "stream",
       "stream": "stdout",
       "text": [
        "617-494-9330,  Forest City Management\n"
       ]
      }
     ],
     "prompt_number": 37
    },
    {
     "cell_type": "code",
     "collapsed": false,
     "input": [
      "for place in places:\n",
      "    if 'phone' in places[place]:\n",
      "        if places[place]['phone'] == '617-494-9330,  Forest City Management':\n",
      "            places[place]['phone'] = '617-494-9330'"
     ],
     "language": "python",
     "metadata": {},
     "outputs": [],
     "prompt_number": 38
    },
    {
     "cell_type": "markdown",
     "metadata": {},
     "source": [
      "Check for any other oddballs by looking for string length 12."
     ]
    },
    {
     "cell_type": "code",
     "collapsed": false,
     "input": [
      "for place in places:\n",
      "    if 'phone' in places[place]:\n",
      "        if len(places[place]['phone']) != 12:\n",
      "            print places[place]['phone']"
     ],
     "language": "python",
     "metadata": {},
     "outputs": [],
     "prompt_number": 39
    },
    {
     "cell_type": "markdown",
     "metadata": {},
     "source": [
      "##Check to see what keys are left"
     ]
    },
    {
     "cell_type": "code",
     "collapsed": false,
     "input": [
      "check_keys()"
     ],
     "language": "python",
     "metadata": {},
     "outputs": [
      {
       "output_type": "stream",
       "stream": "stdout",
       "text": [
        "set(['website', 'city', 'name', 'labels', 'lon', 'number', 'phone', 'street', 'address', 'lat'])\n"
       ]
      }
     ],
     "prompt_number": 40
    },
    {
     "cell_type": "markdown",
     "metadata": {},
     "source": [
      "##Check out cities"
     ]
    },
    {
     "cell_type": "code",
     "collapsed": false,
     "input": [
      "for label in ['city']:\n",
      "    print \"\\n------- \" + label.upper() + \" -------\\n\"\n",
      "    display_labels(label)"
     ],
     "language": "python",
     "metadata": {},
     "outputs": [
      {
       "output_type": "stream",
       "stream": "stdout",
       "text": [
        "\n",
        "------- CITY -------\n",
        "\n",
        "Newton\n",
        "Quincy\n",
        "boston\n",
        "East Boston\n",
        "Cambridge, Massachusetts\n",
        "Hingham\n",
        "West Roxbury\n",
        "Cambridge \n",
        "Watertown, MA\n",
        "somerville\n",
        "Newton Centre\n",
        "Cambridge, MA\n",
        "Chestnut Hill\n",
        "Dorchester\n",
        "South End\n",
        "Braintree\n",
        "Brookline\n",
        "BOSTON\n",
        "watertown, MA\n",
        "Milton\n",
        "Boston, MA\n",
        "Watertown\n",
        "Dedham\n",
        "Weymouth\n",
        "Roxbury Crossing\n",
        "Roslindale\n",
        "Belmont, MA\n",
        "Cambridge\n",
        "Boston\n",
        "Jamaica Plain\n",
        "Belmont\n",
        "Brookline, MA\n",
        "Brighton\n",
        "Somerville\n",
        "2067 Massachusetts Avenue\n"
       ]
      }
     ],
     "prompt_number": 41
    },
    {
     "cell_type": "markdown",
     "metadata": {},
     "source": [
      "Since we're using the cities (we're assuming folks will know we're in Massachusetts), toss any punctuation and references to the state. \n",
      "\n",
      "Also, capitalize proper nouns."
     ]
    },
    {
     "cell_type": "code",
     "collapsed": false,
     "input": [
      "state_regex = re.compile(r'')\n",
      "for place in places:\n",
      "    if 'city' in places[place]:\n",
      "        # remove state\n",
      "        city = places[place]['city'].split(',')\n",
      "        places[place]['city'] = city[0]\n",
      "        # capitalize\n",
      "        places[place]['city'] = string.capwords(places[place]['city'])"
     ],
     "language": "python",
     "metadata": {},
     "outputs": [],
     "prompt_number": 42
    },
    {
     "cell_type": "code",
     "collapsed": false,
     "input": [
      "for label in ['city']:\n",
      "    print \"\\n------- \" + label.upper() + \" -------\\n\"\n",
      "    display_labels(label)"
     ],
     "language": "python",
     "metadata": {},
     "outputs": [
      {
       "output_type": "stream",
       "stream": "stdout",
       "text": [
        "\n",
        "------- CITY -------\n",
        "\n",
        "Newton\n",
        "Quincy\n",
        "East Boston\n",
        "Hingham\n",
        "West Roxbury\n",
        "Newton Centre\n",
        "Chestnut Hill\n",
        "Dorchester\n",
        "South End\n",
        "Roxbury Crossing\n",
        "Brookline\n",
        "Brighton\n",
        "Watertown\n",
        "Dedham\n",
        "Weymouth\n",
        "Braintree\n",
        "Roslindale\n",
        "Cambridge\n",
        "Boston\n",
        "Jamaica Plain\n",
        "Belmont\n",
        "Milton\n",
        "Somerville\n",
        "2067 Massachusetts Avenue\n"
       ]
      }
     ],
     "prompt_number": 43
    },
    {
     "cell_type": "markdown",
     "metadata": {},
     "source": [
      "Deal with that street address. Google says it's in Cambridge"
     ]
    },
    {
     "cell_type": "code",
     "collapsed": false,
     "input": [
      "for place in places:\n",
      "    if 'city' in places[place]:\n",
      "        if places[place]['city'] == '2067 Massachusetts Avenue':\n",
      "            print places[place]"
     ],
     "language": "python",
     "metadata": {},
     "outputs": [
      {
       "output_type": "stream",
       "stream": "stdout",
       "text": [
        "{'city': '2067 Massachusetts Avenue', 'name': 'The Elephant Walk', 'labels': ['restaurant'], 'lon': '-71.1229588', 'lat': '42.3914326'}\n"
       ]
      }
     ],
     "prompt_number": 44
    },
    {
     "cell_type": "code",
     "collapsed": false,
     "input": [
      "for place in places:\n",
      "    if 'city' in places[place]:\n",
      "        if places[place]['city'] == '2067 Massachusetts Avenue':\n",
      "            places[place]['address'] = places[place]['city']\n",
      "            places[place]['city'] = 'Cambridge'"
     ],
     "language": "python",
     "metadata": {},
     "outputs": [],
     "prompt_number": 45
    },
    {
     "cell_type": "code",
     "collapsed": false,
     "input": [
      "for label in ['city']:\n",
      "    print \"\\n------- \" + label.upper() + \" -------\\n\"\n",
      "    display_labels(label)"
     ],
     "language": "python",
     "metadata": {},
     "outputs": [
      {
       "output_type": "stream",
       "stream": "stdout",
       "text": [
        "\n",
        "------- CITY -------\n",
        "\n",
        "Newton\n",
        "Quincy\n",
        "East Boston\n",
        "Hingham\n",
        "West Roxbury\n",
        "Newton Centre\n",
        "Chestnut Hill\n",
        "Dorchester\n",
        "South End\n",
        "Roxbury Crossing\n",
        "Brookline\n",
        "Brighton\n",
        "Watertown\n",
        "Dedham\n",
        "Weymouth\n",
        "Braintree\n",
        "Roslindale\n",
        "Cambridge\n",
        "Boston\n",
        "Jamaica Plain\n",
        "Belmont\n",
        "Milton\n",
        "Somerville\n"
       ]
      }
     ],
     "prompt_number": 46
    },
    {
     "cell_type": "markdown",
     "metadata": {},
     "source": [
      "##Check out numbers, streets, and addresses"
     ]
    },
    {
     "cell_type": "code",
     "collapsed": true,
     "input": [
      "for label in ['number','street', 'address']:\n",
      "    print \"\\n------- \" + label.upper() + \" -------\\n\"\n",
      "    display_labels(label)"
     ],
     "language": "python",
     "metadata": {},
     "outputs": [
      {
       "output_type": "stream",
       "stream": "stdout",
       "text": [
        "\n",
        "------- NUMBER -------\n",
        "\n",
        "6-2A\n",
        "264-266\n",
        "0\n",
        "343\n",
        "348\n",
        "914\n",
        "295\n",
        "290\n",
        "593\n",
        "599\n",
        "1121\n",
        "196\n",
        "191\n",
        "190\n",
        "270\n",
        "271\n",
        "272\n",
        "273\n",
        "277\n",
        "279\n",
        "524\n",
        "525\n",
        "526\n",
        "2382\n",
        "520\n",
        "1016\n",
        "1010\n",
        "1230\n",
        "443\n",
        "442\n",
        "447\n",
        "446\n",
        "445\n",
        "444\n",
        "103\n",
        "100\n",
        "101\n",
        "106\n",
        "107\n",
        "105\n",
        "900\n",
        "901\n",
        "907\n",
        "33\n",
        "31\n",
        "37\n",
        "36\n",
        "35\n",
        "640\n",
        "647\n",
        "435\n",
        "\n",
        "------- STREET -------\n",
        "\n",
        "South Street\n",
        "Church st\n",
        "Pearl St.\n",
        "Charles Street\n",
        "Massachusetts Ave.\n",
        "Grant Avenue\n",
        "Newbury Street\n",
        "Maverick Street\n",
        "Harvard Avenue\n",
        "South Station, near Track 6\n",
        "Savin Hill Avenue\n",
        "Broad St\n",
        "Great River Road\n",
        "Rindge Avenue\n",
        "Garden Street\n",
        "High Street\n",
        "Edgerly Road\n",
        "Windsor Street\n",
        "Willow Ave\n",
        "East Berkeley Street\n",
        "Broad Canal Street\n",
        "Milk Street\n",
        "Congress St\n",
        "Waverly Street\n",
        "Hancock Street.\n",
        "Summer Street\n",
        "Harrison Avenue\n",
        "Ipswich Street\n",
        "Holyoke Street\n",
        "Dartmouth Street\n",
        "Cummington St\n",
        "State Street\n",
        "Watertown Street\n",
        "First Street\n",
        "Fawcett Street\n",
        "Lagrange Street\n",
        "School Street\n",
        "Hanover Street\n",
        "Wormwood Street\n",
        "Parmenter Street\n",
        "Putnam Avenue\n",
        "Broad Street\n",
        "Highland Ave\n",
        "Talbot Avenue\n",
        "East Newton Street\n",
        "Chandler Street\n",
        "Main St.\n",
        "Brattle Street\n",
        "Somerville Avenue\n",
        "Landsdowne Street\n",
        "Broadway\n",
        "\n",
        "------- ADDRESS -------\n",
        "\n",
        "1249 Hyde Park Ave, Boston, MA, 02136\n",
        "140 Brandeis Road, Newton Centre MA 00\n",
        "1 Haywood Street, Braintree, MA, 02184\n",
        "451 Central Ave, Milton MA 02186\n",
        "105 Cummins Highway, Roslindale MA 02131\n",
        "618 Harrison Avenue, Boston, MA, 02118\n",
        "1060 Morton Street, Mattapan MA 02126\n",
        "1234 Columbus Avenue, Boston MA 02120\n",
        "115 Sycamore Street, Somerville MA 02145\n",
        "54 Brookside Avenue, Jamaica Plain MA 02130\n",
        "301 Neponset Avenue, Boston, MA, 02122\n",
        "174 Ipswich Street, Boston MA 02215\n",
        "80 Independence Avenue, Braintree MA 02184\n",
        "120 Tremont Street, Boston MA 02108\n",
        "40 Philbrick Street, Roslindale MA 02131\n",
        "200 Frontage Rd, Boston, MA, 02118\n",
        "1884 Dorchester Avenue, Boston, MA, 02124\n",
        "564 Mount Auburn Street, Watertown, MA, 02472\n",
        ", Boston MA 02133\n",
        "436 Washington Street, Dedham, MA, 02026\n",
        "650 Harrison, Boston, MA, 02118\n",
        "45 Pauline Street, Winthrop MA 02152\n",
        "205 Townsend Street, Boston MA 00\n",
        "8 Ashburton Place, Boston MA 00\n",
        "175 Cambridge Street, Cambridge, MA, 02141\n",
        "1669 Dorchester Avenue, Dorchester MA 02122\n",
        "465 Huntington Avenue, Boston MA 00\n",
        "10 Brookline Place West, Brookline MA 02445\n",
        "125 Sixth St East Cambridge  MA,  02142\n",
        "615 Washington Street, Quincy, MA, 02169\n",
        "489 Broadway, Cambridge, MA, 02138\n",
        "1 Parish Street, Dorchester MA 02122\n",
        "515 Canton Avenue, Milton, MA, 02186\n",
        "300 Hammond Pond Parkway, Newton MA 00\n",
        "459 Broadway, Cambridge MA 02138\n",
        "125 Parker Hill Avenue, Boston MA 00\n",
        "221 Rivermoor Street, Boston MA 00\n",
        "250 Washington Street, Boston MA 02108\n",
        "791 Hammond Street, Chestnut Hill MA 02467\n",
        "35 Baker Street, West Roxbury MA 02132\n",
        "115 Mill St, Belmont, MA\n",
        "150 Morrissey Boulevard, Dorchester MA 02125\n",
        "1 Winter Street, Boston MA 00\n",
        "Pilgrim Road, Boston MA 02215\n",
        "40 Gibson St, Boston, MA, 02122\n",
        "89 Fairview Avenue, Belmont, MA, 02478\n",
        "300 South St, Brookline, MA\n",
        "950 Metropolitan Avenue, Boston MA 00\n",
        "61 School Street, Roxbury MA 02119\n",
        "396 Northampton Street, Boston MA 02118\n",
        "307 Chestnut Street, Chelsea, MA, 02150\n"
       ]
      }
     ],
     "prompt_number": 47
    },
    {
     "cell_type": "markdown",
     "metadata": {},
     "source": [
      "##Fix numbers, streets, and addresses"
     ]
    },
    {
     "cell_type": "markdown",
     "metadata": {},
     "source": [
      "Look for unnecessary duplication, where numbers and/or streets are present when an address is as well. "
     ]
    },
    {
     "cell_type": "code",
     "collapsed": false,
     "input": [
      "for place in places:\n",
      "    if 'address' in places[place].keys() and ('number' in places[place].keys() or 'street' in places[place].keys()):\n",
      "        print places[place]"
     ],
     "language": "python",
     "metadata": {},
     "outputs": [
      {
       "output_type": "stream",
       "stream": "stdout",
       "text": [
        "{'name': 'Brookline Town Hall', 'labels': ['townhall'], 'lon': '-71.1206269', 'number': '333', 'street': 'Washington Street', 'address': '333 Washington St., Brookline MA 02445', 'lat': '42.3339923'}\n",
        "{'website': 'http://www2.cambridgema.gov/CFD/Lafayette.cfm', 'city': 'Cambridge', 'name': 'Cambridge Fire Department', 'labels': ['fire_station'], 'lon': '-71.1001598', 'number': '378', 'street': 'Massachusetts Avenue', 'address': '378 Massachusetts Avenue, Cambridge, MA, 02139', 'lat': '42.3629857'}\n",
        "{'name': 'Somerville Fire Department', 'labels': ['fire_station'], 'lon': '-71.1108341', 'number': '265', 'street': 'Highland Avenue', 'address': '265 Highland Avenue, Somerville, MA, 02143', 'lat': '42.3916806'}\n",
        "{'name': 'Media Archives And Preservation Center', 'labels': ['library'], 'lon': '-71.125771', 'number': '135', 'address': '125 Western Avenue, Boston MA 02134', 'lat': '42.3638112'}\n"
       ]
      }
     ],
     "prompt_number": 48
    },
    {
     "cell_type": "markdown",
     "metadata": {},
     "source": [
      "Remove duplication."
     ]
    },
    {
     "cell_type": "code",
     "collapsed": false,
     "input": [
      "for place in places:\n",
      "    if 'address' in places[place].keys() and ('number' in places[place].keys() or 'street' in places[place].keys()):\n",
      "        if 'number' in places[place].keys():\n",
      "            del places[place]['number']\n",
      "        if 'street' in places[place].keys():\n",
      "            del places[place]['street']"
     ],
     "language": "python",
     "metadata": {},
     "outputs": [],
     "prompt_number": 49
    },
    {
     "cell_type": "markdown",
     "metadata": {},
     "source": [
      "Numbers without corresponding streets are a bit on the worthless side, so remove them too."
     ]
    },
    {
     "cell_type": "code",
     "collapsed": false,
     "input": [
      "for place in places:\n",
      "    if 'number' in places[place].keys() and 'street' not in places[place].keys():\n",
      "        print places[place]"
     ],
     "language": "python",
     "metadata": {},
     "outputs": [
      {
       "output_type": "stream",
       "stream": "stdout",
       "text": [
        "{'name': 'Los Paisanos', 'labels': ['restaurant'], 'lon': '-71.0807423', 'number': '62', 'lat': '42.3865984'}\n",
        "{'lat': '42.3791136', 'labels': [], 'lon': '-71.1026375', 'name': 'ABJ Auto Supply Warehouse', 'number': '352'}\n",
        "{'name': 'Christian Assembly', 'labels': ['place_of_worship'], 'lon': '-71.0840991', 'number': '9', 'lat': '42.3943331'}\n",
        "{'name': 'Phoenix Landing', 'labels': ['pub'], 'lon': '-71.1018806', 'number': '512', 'lat': '42.3640906'}\n",
        "{'name': 'Dunkin Donuts', 'labels': ['cafe'], 'lon': '-71.1066122', 'number': '519', 'lat': '42.3834837'}\n"
       ]
      }
     ],
     "prompt_number": 50
    },
    {
     "cell_type": "code",
     "collapsed": false,
     "input": [
      "for place in places:\n",
      "    if 'number' in places[place].keys() and 'street' not in places[place].keys():\n",
      "        del places[place]['number']"
     ],
     "language": "python",
     "metadata": {},
     "outputs": [],
     "prompt_number": 51
    },
    {
     "cell_type": "markdown",
     "metadata": {},
     "source": [
      "Make addresses from numbers and/or streets."
     ]
    },
    {
     "cell_type": "code",
     "collapsed": false,
     "input": [
      "for place in places:\n",
      "    if 'address' not in places[place].keys():\n",
      "        if 'number' in places[place].keys() and 'street' in places[place].keys():\n",
      "            places[place]['address'] = places[place]['number'] + \" \" + places[place]['street']\n",
      "            del places[place]['number']\n",
      "            del places[place]['street']\n",
      "        elif 'street' in places[place].keys():\n",
      "            places[place]['address'] = places[place]['street']\n",
      "            del places[place]['street']"
     ],
     "language": "python",
     "metadata": {},
     "outputs": [],
     "prompt_number": 52
    },
    {
     "cell_type": "code",
     "collapsed": true,
     "input": [
      "for label in ['address']:\n",
      "    print \"\\n------- \" + label.upper() + \" -------\\n\"\n",
      "    display_labels(label)"
     ],
     "language": "python",
     "metadata": {},
     "outputs": [
      {
       "output_type": "stream",
       "stream": "stdout",
       "text": [
        "\n",
        "------- ADDRESS -------\n",
        "\n",
        "133 Middlesex Avenue\n",
        "1249 Hyde Park Ave, Boston, MA, 02136\n",
        "502 Massachusetts Ave.\n",
        "201 Monsignor O'Brien Highway\n",
        "243 Charles Street, Boston, MA\n",
        "140 Brandeis Road, Newton Centre MA 00\n",
        "493 Massachusetts Avenue\n",
        "451 Central Ave, Milton MA 02186\n",
        "155 Milk Street\n",
        "105 Cummins Highway, Roslindale MA 02131\n",
        "138 Cambridge Street\n",
        "86 White Street, East Boston MA 02128\n",
        "1060 Morton Street, Mattapan MA 02126\n",
        "6 Beacon Street\n",
        "21 Temple Place\n",
        "1 Sea St, Quincy, MA, 02169\n",
        "120 Huntington Avenue\n",
        "268 Norfolk Street\n",
        "55 Causeway Street\n",
        "720 Massachusetts Avenue\n",
        "1629 Cambridge St\n",
        "60 Garden Street\n",
        "1234 Columbus Avenue, Boston MA 02120\n",
        "97 Salem St\n",
        "7 Holyoke Street\n",
        "5 North Square\n",
        "2344 Massachusetts Avenue\n",
        "60 Temple Place\n",
        "54 Brookside Avenue, Jamaica Plain MA 02130\n",
        "1010 Beacon Street\n",
        "77 Middlesex Avenue\n",
        "191 Stuart Street\n",
        "10 Post Office Square\n",
        "1 Haywood Street, Braintree, MA, 02184\n",
        "174 Ipswich Street, Boston MA 02215\n",
        "80 Independence Avenue, Braintree MA 02184\n",
        "120 Tremont Street, Boston MA 02108\n",
        "635 Commonwealth Avenue\n",
        "689 Massachusetts Avenue\n",
        "444 Somerville Avenue\n",
        "40 Philbrick Street, Roslindale MA 02131\n",
        "636 Beacon St\n",
        "South Station, near Track 6\n",
        "200 Frontage Rd, Boston, MA, 02118\n",
        "538 Massachusetts Avenue\n",
        "704 Massachusetts Avenue\n",
        "350 Massachusetts Avenue\n",
        "1884 Dorchester Avenue, Boston, MA, 02124\n",
        "564 Mount Auburn Street, Watertown, MA, 02472\n",
        "470 Centre Street\n",
        "9 Brookline Street\n"
       ]
      }
     ],
     "prompt_number": 53
    },
    {
     "cell_type": "markdown",
     "metadata": {},
     "source": [
      "Get rid of the city, state, and zip bits."
     ]
    },
    {
     "cell_type": "code",
     "collapsed": false,
     "input": [
      "for place in places:\n",
      "    if 'address' in places[place].keys():\n",
      "        places[place]['address'] = places[place]['address'].split(',')[0]"
     ],
     "language": "python",
     "metadata": {},
     "outputs": [],
     "prompt_number": 54
    },
    {
     "cell_type": "code",
     "collapsed": false,
     "input": [
      "for label in ['address']:\n",
      "    print \"\\n------- \" + label.upper() + \" -------\\n\"\n",
      "    display_labels(label)"
     ],
     "language": "python",
     "metadata": {},
     "outputs": [
      {
       "output_type": "stream",
       "stream": "stdout",
       "text": [
        "\n",
        "------- ADDRESS -------\n",
        "\n",
        "\n",
        "133 Middlesex Avenue\n",
        "502 Massachusetts Ave.\n",
        "1884 Dorchester Avenue\n",
        "234 Bussey Street\n",
        "201 Monsignor O'Brien Highway\n",
        "436 Washington Street\n",
        "7 Murray Hill Rd.\n",
        "493 Massachusetts Avenue\n",
        "155 Milk Street\n",
        "1205 VFW Parkway\n",
        "24 School Street\n",
        "138 Cambridge Street\n",
        "451 Central Ave\n",
        "171 Goddard Ave.\n",
        "648 Beacon Street\n",
        "588 Somerville Avenue\n",
        "21 Temple Place\n",
        "800 Morton St.\n",
        "120 Huntington Avenue\n",
        "140 Marion Street\n",
        "268 Norfolk Street\n",
        "55 Causeway Street\n",
        "720 Massachusetts Avenue\n",
        "250 Stuart Street\n",
        "1629 Cambridge St\n",
        "30 Millstone Road\n",
        "318 Third Street\n",
        "11 North Square\n",
        "5 North Square\n",
        "60 Fairmount Avenue\n",
        "60 Temple Place\n",
        "301 Neponset Avenue\n",
        "128 Sidney Street\n",
        "1010 Beacon Street\n",
        "77 Middlesex Avenue\n",
        "191 Stuart Street\n",
        "10 Post Office Square\n",
        "189 Glenway Street\n",
        "20 Prospect St.\n",
        "635 Commonwealth Avenue\n",
        "689 Massachusetts Avenue\n",
        "444 Somerville Avenue\n",
        "449 Broadway\n",
        "55A Summer Street\n",
        "427 Washington Street\n",
        "538 Massachusetts Avenue\n",
        "704 Massachusetts Avenue\n",
        "Thompson Island\n",
        "465 Huntington Avenue\n",
        "945 Canterbury Street\n"
       ]
      }
     ],
     "prompt_number": 55
    },
    {
     "cell_type": "markdown",
     "metadata": {},
     "source": [
      "Attempt to make street designations uniform.\n",
      "\n",
      "Check out the last string in each address."
     ]
    },
    {
     "cell_type": "code",
     "collapsed": false,
     "input": [
      "last_string_set = set()\n",
      "for place in places:\n",
      "    if 'address' in places[place].keys():\n",
      "        address_strings = places[place]['address'].split(' ')\n",
      "        last_string_set.add(address_strings[len(address_strings)-1])\n",
      "\n",
      "print last_string_set"
     ],
     "language": "python",
     "metadata": {},
     "outputs": [
      {
       "output_type": "stream",
       "stream": "stdout",
       "text": [
        "set(['', 'Boulevard', 'WAY', 'Elm', 'West', 'Leverett', 'Pkwy.', 'Rd', 'street', 'Hill', 'Way', 'Circle', 'Rd.', 'avenue', 'Newbury', 'Highway', 'Marlborough', 'Park', 'Plz', 'Ln', 'Ln.', 'South', 'Street.', 'Brimmer', 'Artery', 'rd.', 'St.', 'Station', 'Lane', 'Plaza', 'Ave.', 'Island', 'Sq', 'Hwy', 'Drive', 'Pkwy', 'Wharf', 'Place', 'Fenway', 'Broadway', 'Lafayette', 'Parkway', 'St', 'Road', 'Blvd.', 'Square', 'MA', 'House', 'Newton', 'st', 'St..', '02467', 'Street', 'London', 'Terrace', 'Harrison', 'Blvd', 'Ave', 'Avenue', 'Row'])\n"
       ]
      }
     ],
     "prompt_number": 56
    },
    {
     "cell_type": "code",
     "collapsed": false,
     "input": [
      "swap = { 'Rd':'Road', 'Plz':'Plaza', 'Ln':'Lane', 'Sq':'Square', 'Hwy':'Highway', 'St':'Street', 'Ave':'Avenue', 'Pkwy':'Parkway', 'Blvd':'Boulevard' }\n",
      "for place in places:\n",
      "    if 'address' in places[place].keys():\n",
      "        address_strings = places[place]['address'].split(' ')\n",
      "        \n",
      "        # capitalize\n",
      "        address_strings[len(address_strings)-1] = string.capwords(address_strings[len(address_strings)-1])\n",
      "        # remove punctuation\n",
      "        address_strings[len(address_strings)-1] = address_strings[len(address_strings)-1].translate(None,'.,')\n",
      "        # swap\n",
      "        if address_strings[len(address_strings)-1] in swap.keys():\n",
      "            address_strings[len(address_strings)-1] = swap[address_strings[len(address_strings)-1]]\n",
      "        \n",
      "        # remove problematic ones showing up in results list above\n",
      "        if address_strings[len(address_strings)-1] == 'Ma' or address_strings[len(address_strings)-1] == '02467':\n",
      "            address_strings[len(address_strings)-1] = ''\n",
      "        \n",
      "        # rejoin address string\n",
      "        places[place]['address'] = str.join(' ',address_strings)"
     ],
     "language": "python",
     "metadata": {},
     "outputs": [],
     "prompt_number": 57
    },
    {
     "cell_type": "code",
     "collapsed": false,
     "input": [
      "last_string_set = set()\n",
      "for place in places:\n",
      "    if 'address' in places[place].keys():\n",
      "        address_strings = places[place]['address'].split(' ')\n",
      "        last_string_set.add(address_strings[len(address_strings)-1])\n",
      "\n",
      "print last_string_set"
     ],
     "language": "python",
     "metadata": {},
     "outputs": [
      {
       "output_type": "stream",
       "stream": "stdout",
       "text": [
        "set(['', 'Boulevard', 'Elm', 'West', 'Leverett', 'Station', 'Hill', 'Way', 'Circle', 'Newbury', 'Highway', 'Marlborough', 'Park', 'South', 'Brimmer', 'Artery', 'Lane', 'Island', 'Plaza', 'Drive', 'Wharf', 'Place', 'Fenway', 'Lafayette', 'Parkway', 'Road', 'Square', 'House', 'Newton', 'Street', 'London', 'Terrace', 'Harrison', 'Broadway', 'Avenue', 'Row'])\n"
       ]
      }
     ],
     "prompt_number": 58
    },
    {
     "cell_type": "code",
     "collapsed": false,
     "input": [
      "for label in ['address']:\n",
      "    print \"\\n------- \" + label.upper() + \" -------\\n\"\n",
      "    display_labels(label)"
     ],
     "language": "python",
     "metadata": {},
     "outputs": [
      {
       "output_type": "stream",
       "stream": "stdout",
       "text": [
        "\n",
        "------- ADDRESS -------\n",
        "\n",
        "\n",
        "133 Middlesex Avenue\n",
        "975 Blue Hill Avenue\n",
        "234 Bussey Street\n",
        "201 Monsignor O'Brien Highway\n",
        "436 Washington Street\n",
        "493 Massachusetts Avenue\n",
        "155 Milk Street\n",
        "1205 VFW Parkway\n",
        "24 School Street\n",
        "138 Cambridge Street\n",
        "552 Massachusetts Avenue\n",
        "50 Druce Street\n",
        "58 Day Street\n",
        "1 City Hall Plaza\n",
        "21 Temple Place\n",
        "120 Huntington Avenue\n",
        "140 Marion Street\n",
        "268 Norfolk Street\n",
        "55 Causeway Street\n",
        "720 Massachusetts Avenue\n",
        "250 Stuart Street\n",
        "178 Tremont Street\n",
        "30 Millstone Road\n",
        "7 Holyoke Street\n",
        "5 North Square\n",
        "60 Fairmount Avenue\n",
        "60 Temple Place\n",
        "301 Neponset Avenue\n",
        "128 Sidney Street\n",
        "1010 Beacon Street\n",
        "77 Middlesex Avenue\n",
        "9 Gallivan Boulevard\n",
        "450 Western Avenue\n",
        "191 Stuart Street\n",
        "10 Post Office Square\n",
        "189 Glenway Street\n",
        "1 Worrell Street\n",
        "635 Commonwealth Avenue\n",
        "689 Massachusetts Avenue\n",
        "444 Somerville Avenue\n",
        "449 Broadway\n",
        "55A Summer Street\n",
        "427 Washington Street\n",
        "538 Massachusetts Avenue\n",
        "50 Birmingham Parkway\n",
        "Thompson Island\n",
        "465 Huntington Avenue\n",
        "945 Canterbury Street\n",
        "350 Massachusetts Avenue\n",
        "75 Mystic Avenue\n"
       ]
      }
     ],
     "prompt_number": 59
    },
    {
     "cell_type": "markdown",
     "metadata": {},
     "source": [
      "Remove some others based on cursory spot checking."
     ]
    },
    {
     "cell_type": "code",
     "collapsed": false,
     "input": [
      "for place in places:\n",
      "    if 'address' in places[place].keys():\n",
      "        if 'Chestnut Hill MA' in places[place]['address']:\n",
      "            places[place]['address'] = places[place]['address'].replace('Chestnut Hill MA','')\n",
      "        elif '. Dorchester Education Complex' in places[place]['address']:\n",
      "            places[place]['address'] = places[place]['address'].replace('. Dorchester Education Complex','')"
     ],
     "language": "python",
     "metadata": {},
     "outputs": [],
     "prompt_number": 60
    },
    {
     "cell_type": "code",
     "collapsed": true,
     "input": [
      "for label in ['address']:\n",
      "    print \"\\n------- \" + label.upper() + \" -------\\n\"\n",
      "    display_labels(label)"
     ],
     "language": "python",
     "metadata": {},
     "outputs": [
      {
       "output_type": "stream",
       "stream": "stdout",
       "text": [
        "\n",
        "------- ADDRESS -------\n",
        "\n",
        "\n",
        "133 Middlesex Avenue\n",
        "975 Blue Hill Avenue\n",
        "234 Bussey Street\n",
        "201 Monsignor O'Brien Highway\n",
        "436 Washington Street\n",
        "493 Massachusetts Avenue\n",
        "155 Milk Street\n",
        "1205 VFW Parkway\n",
        "24 School Street\n",
        "138 Cambridge Street\n",
        "552 Massachusetts Avenue\n",
        "50 Druce Street\n",
        "58 Day Street\n",
        "1 City Hall Plaza\n",
        "21 Temple Place\n",
        "120 Huntington Avenue\n",
        "140 Marion Street\n",
        "268 Norfolk Street\n",
        "55 Causeway Street\n",
        "720 Massachusetts Avenue\n",
        "250 Stuart Street\n",
        "178 Tremont Street\n",
        "30 Millstone Road\n",
        "7 Holyoke Street\n",
        "5 North Square\n",
        "60 Fairmount Avenue\n",
        "60 Temple Place\n",
        "301 Neponset Avenue\n",
        "128 Sidney Street\n",
        "1010 Beacon Street\n",
        "77 Middlesex Avenue\n",
        "9 Gallivan Boulevard\n",
        "450 Western Avenue\n",
        "191 Stuart Street\n",
        "10 Post Office Square\n",
        "189 Glenway Street\n",
        "1 Worrell Street\n",
        "635 Commonwealth Avenue\n",
        "689 Massachusetts Avenue\n",
        "444 Somerville Avenue\n",
        "449 Broadway\n",
        "55A Summer Street\n",
        "427 Washington Street\n",
        "538 Massachusetts Avenue\n",
        "50 Birmingham Parkway\n",
        "Thompson Island\n",
        "465 Huntington Avenue\n",
        "945 Canterbury Street\n",
        "350 Massachusetts Avenue\n",
        "75 Mystic Avenue\n"
       ]
      }
     ],
     "prompt_number": 61
    },
    {
     "cell_type": "markdown",
     "metadata": {},
     "source": [
      "##Check to See What Keys are Left"
     ]
    },
    {
     "cell_type": "code",
     "collapsed": false,
     "input": [
      "check_keys()"
     ],
     "language": "python",
     "metadata": {},
     "outputs": [
      {
       "output_type": "stream",
       "stream": "stdout",
       "text": [
        "set(['website', 'city', 'name', 'labels', 'lon', 'phone', 'address', 'lat'])\n"
       ]
      }
     ],
     "prompt_number": 62
    },
    {
     "cell_type": "markdown",
     "metadata": {},
     "source": [
      "As checked during earlier investigations, lat and lon seem fine."
     ]
    },
    {
     "cell_type": "code",
     "collapsed": true,
     "input": [
      "for label in ['lat','lon']:\n",
      "    print \"\\n------- \" + label.upper() + \" -------\\n\"\n",
      "    display_labels(label)"
     ],
     "language": "python",
     "metadata": {},
     "outputs": [
      {
       "output_type": "stream",
       "stream": "stdout",
       "text": [
        "\n",
        "------- LAT -------\n",
        "\n",
        "42.3641808\n",
        "42.3661645\n",
        "42.3216357\n",
        "42.3661392\n",
        "42.2924758\n",
        "42.3286758\n",
        "42.3811162\n",
        "42.3370401\n",
        "42.3937073\n",
        "42.3413378\n",
        "42.365786\n",
        "42.2535434\n",
        "42.3112621\n",
        "42.3435616\n",
        "42.3586267\n",
        "42.3889473\n",
        "42.2509924\n",
        "42.3080364\n",
        "42.3738501\n",
        "42.2725044\n",
        "42.266983\n",
        "42.3892527\n",
        "42.3923972\n",
        "42.3647658\n",
        "42.3813091\n",
        "42.3775206\n",
        "42.3663589\n",
        "42.3804502\n",
        "42.3809348\n",
        "42.2389882\n",
        "42.3702555\n",
        "42.3591583\n",
        "42.2389884\n",
        "42.2403136\n",
        "42.3947393\n",
        "42.3642174\n",
        "42.3433614\n",
        "42.3565983\n",
        "42.274822\n",
        "42.3625342\n",
        "42.3605677\n",
        "42.2429703\n",
        "42.3326458\n",
        "42.3809662\n",
        "42.2921406\n",
        "42.3090422\n",
        "42.3871219\n",
        "42.3593853\n",
        "42.3883537\n",
        "42.348914\n",
        "42.3152461\n",
        "\n",
        "------- LON -------\n",
        "\n",
        "-70.9960313\n",
        "-71.0897568\n",
        "-71.1117021\n",
        "-71.0693025\n",
        "-71.0795141\n",
        "-71.0991017\n",
        "-71.0108255\n",
        "-70.9293817\n",
        "-71.1502206\n",
        "-71.0037174\n",
        "-71.0292172\n",
        "-71.0955128\n",
        "-71.1072683\n",
        "-70.9496423\n",
        "-71.0559471\n",
        "-71.0919135\n",
        "-71.0668562\n",
        "-71.06345\n",
        "-71.1181927\n",
        "-71.1850018\n",
        "-71.103874\n",
        "-71.0989425\n",
        "-71.0118446\n",
        "-70.9344915\n",
        "-71.1583183\n",
        "-71.114239\n",
        "-71.1220615\n",
        "-71.062818\n",
        "-71.1377054\n",
        "-71.0352776\n",
        "-71.104939\n",
        "-71.0971039\n",
        "-70.9555219\n",
        "-70.9947717\n",
        "-71.1615625\n",
        "-71.175503\n",
        "-71.1186638\n",
        "-71.1044968\n",
        "-71.0871349\n",
        "-71.1436\n",
        "-71.0644176\n",
        "-71.0689393\n",
        "-71.0827353\n",
        "-71.122965\n",
        "-71.1030009\n",
        "-71.1279216\n",
        "-71.0873659\n",
        "-71.0383772\n",
        "-71.1071664\n",
        "-71.0251142\n",
        "-71.0689401\n"
       ]
      }
     ],
     "prompt_number": 63
    },
    {
     "cell_type": "markdown",
     "metadata": {},
     "source": [
      "How many places are left now?"
     ]
    },
    {
     "cell_type": "code",
     "collapsed": false,
     "input": [
      "len(places)"
     ],
     "language": "python",
     "metadata": {},
     "outputs": [
      {
       "metadata": {},
       "output_type": "pyout",
       "prompt_number": 64,
       "text": [
        "4902"
       ]
      }
     ],
     "prompt_number": 64
    },
    {
     "cell_type": "markdown",
     "metadata": {},
     "source": [
      "##Now that we have names and labels..."
     ]
    },
    {
     "cell_type": "markdown",
     "metadata": {},
     "source": [
      "No longer need unique ids for each place (MongoDB will provide new ones)."
     ]
    },
    {
     "cell_type": "code",
     "collapsed": false,
     "input": [
      "new_places = []\n",
      "for place in places:\n",
      "    new_places.append(places[place])"
     ],
     "language": "python",
     "metadata": {},
     "outputs": [],
     "prompt_number": 65
    },
    {
     "cell_type": "code",
     "collapsed": false,
     "input": [
      "new_places[0:10]"
     ],
     "language": "python",
     "metadata": {},
     "outputs": [
      {
       "metadata": {},
       "output_type": "pyout",
       "prompt_number": 70,
       "text": [
        "[{'address': '295 Third Street',\n",
        "  'labels': ['cafe', 'coffee_shop'],\n",
        "  'lat': '42.3643922',\n",
        "  'lon': '-71.0833102',\n",
        "  'name': 'Voltage',\n",
        "  'phone': '617-714-3974',\n",
        "  'website': 'http://voltagecoffee.com/'},\n",
        " {'labels': ['restaurant'],\n",
        "  'lat': '42.3944389',\n",
        "  'lon': '-71.1209963',\n",
        "  'name': 'Out of the Blue'},\n",
        " {'labels': ['pizza', 'restaurant'],\n",
        "  'lat': '42.3931136',\n",
        "  'lon': '-71.1202935',\n",
        "  'name': 'Pizzeria Posto',\n",
        "  'phone': '617-625-0600',\n",
        "  'website': 'http://www.pizzeriaposto.com'},\n",
        " {'labels': ['pharmacy'],\n",
        "  'lat': '42.2536966',\n",
        "  'lon': '-71.0279564',\n",
        "  'name': 'Walgreens'},\n",
        " {'labels': ['cafe'],\n",
        "  'lat': '42.2535695',\n",
        "  'lon': '-71.0274628',\n",
        "  'name': \"Dunkin' Donuts\"},\n",
        " {'labels': ['park'],\n",
        "  'lat': '42.2323216',\n",
        "  'lon': '-71.0333821',\n",
        "  'name': 'Saint Moritz Park'},\n",
        " {'labels': ['cafe'],\n",
        "  'lat': '42.3534422',\n",
        "  'lon': '-71.0623116',\n",
        "  'name': u'Caff\\xe8 Nero'},\n",
        " {'address': '33 Dunster Street',\n",
        "  'labels': ['pub'],\n",
        "  'lat': '42.3725011',\n",
        "  'lon': '-71.1193006',\n",
        "  'name': \"John Harvard's Brewery & Ale House\",\n",
        "  'phone': '617-868-3585',\n",
        "  'website': 'https://www.johnharvards.com/locations/cambridge-ma'},\n",
        " {'labels': [],\n",
        "  'lat': '42.2717659',\n",
        "  'lon': '-70.9833813',\n",
        "  'name': 'Half Moon Island'},\n",
        " {'address': '500 Technology Square',\n",
        "  'city': 'Cambridge',\n",
        "  'labels': ['regional', 'restaurant'],\n",
        "  'lat': '42.3630566',\n",
        "  'lon': '-71.09244',\n",
        "  'name': 'MexiCali Burrito',\n",
        "  'phone': '617-225-2777'}]"
       ]
      }
     ],
     "prompt_number": 70
    },
    {
     "cell_type": "markdown",
     "metadata": {},
     "source": [
      "##Make a new JSON file, import to local MongoDB"
     ]
    },
    {
     "cell_type": "code",
     "collapsed": false,
     "input": [
      "make_places_file(new_places)"
     ],
     "language": "python",
     "metadata": {},
     "outputs": [],
     "prompt_number": 67
    },
    {
     "cell_type": "code",
     "collapsed": false,
     "input": [
      "!mongoimport --db bosroul --collection places --file places.json --jsonArray"
     ],
     "language": "python",
     "metadata": {},
     "outputs": [
      {
       "output_type": "stream",
       "stream": "stdout",
       "text": [
        "2015-03-10T17:26:57.446-0400\tconnected to: localhost\r\n"
       ]
      },
      {
       "output_type": "stream",
       "stream": "stdout",
       "text": [
        "2015-03-10T17:26:58.912-0400\timported 4902 documents\r\n"
       ]
      }
     ],
     "prompt_number": 68
    },
    {
     "cell_type": "markdown",
     "metadata": {},
     "source": [
      "####BOOM"
     ]
    },
    {
     "cell_type": "markdown",
     "metadata": {},
     "source": [
      "<h2><a href='BostonRoulettePartDeux.ipynb' target='_blank'>Boston Roulette: Part 2</a></h2>"
     ]
    }
   ],
   "metadata": {}
  }
 ]
}