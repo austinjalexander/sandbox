{
 "metadata": {
  "name": "",
  "signature": "sha256:3d6c213a83147830be03b60280f7d2dbebc6512566bfa88b6c1862b9edce6741"
 },
 "nbformat": 3,
 "nbformat_minor": 0,
 "worksheets": [
  {
   "cells": [
    {
     "cell_type": "markdown",
     "metadata": {},
     "source": [
      "#Boston Roulette Part 2"
     ]
    },
    {
     "cell_type": "markdown",
     "metadata": {},
     "source": [
      "##Import Python packages"
     ]
    },
    {
     "cell_type": "code",
     "collapsed": false,
     "input": [
      "from pymongo import MongoClient"
     ],
     "language": "python",
     "metadata": {},
     "outputs": [],
     "prompt_number": 1
    },
    {
     "cell_type": "markdown",
     "metadata": {},
     "source": [
      "##Get a place example"
     ]
    },
    {
     "cell_type": "code",
     "collapsed": false,
     "input": [
      "client = MongoClient('localhost:27017')\n",
      "db = client.bosroul\n",
      "db.places.find_one()"
     ],
     "language": "python",
     "metadata": {},
     "outputs": [
      {
       "metadata": {},
       "output_type": "pyout",
       "prompt_number": 2,
       "text": [
        "{u'_id': ObjectId('54ff308d66a7a58297001f01'),\n",
        " u'labels': [u'restaurant'],\n",
        " u'lat': u'42.3944389',\n",
        " u'lon': u'-71.1209963',\n",
        " u'name': u'Out of the Blue'}"
       ]
      }
     ],
     "prompt_number": 2
    },
    {
     "cell_type": "markdown",
     "metadata": {},
     "source": [
      "##Helper function"
     ]
    },
    {
     "cell_type": "code",
     "collapsed": false,
     "input": [
      "def aggregate(pipeline):\n",
      "    return db.places.aggregate(pipeline)"
     ],
     "language": "python",
     "metadata": {},
     "outputs": [],
     "prompt_number": 20
    },
    {
     "cell_type": "markdown",
     "metadata": {},
     "source": [
      "##See how many places don't have names"
     ]
    },
    {
     "cell_type": "code",
     "collapsed": false,
     "input": [
      "total = db.places.count()\n",
      "\n",
      "pipeline = {\"$match\" : {\"name\" : None}}\n",
      "results = aggregate(pipeline)\n",
      "\n",
      "print \"Total number of places: {0}\".format(total)\n",
      "\n",
      "print \"Number of places without a name: {0}\".format(len(results['result']))"
     ],
     "language": "python",
     "metadata": {},
     "outputs": [
      {
       "output_type": "stream",
       "stream": "stdout",
       "text": [
        "Total number of places: 4902\n",
        "Number of places without a name: 1403\n"
       ]
      }
     ],
     "prompt_number": 22
    },
    {
     "cell_type": "markdown",
     "metadata": {},
     "source": [
      "##For the no-names, what are the labels?"
     ]
    },
    {
     "cell_type": "code",
     "collapsed": false,
     "input": [
      "pipeline = [{\"$match\" : {\"name\" : None}},\n",
      "            {\"$unwind\" : \"$labels\"},\n",
      "            {\"$group\" : {\"_id\" : \"$labels\",\n",
      "                         \"count\" : {\"$sum\" : 1}}},\n",
      "            {\"$sort\" : {\"count\" : -1}}]\n",
      "results = aggregate(pipeline)\n",
      "results"
     ],
     "language": "python",
     "metadata": {},
     "outputs": [
      {
       "metadata": {},
       "output_type": "pyout",
       "prompt_number": 30,
       "text": [
        "{u'ok': 1.0,\n",
        " u'result': [{u'_id': u'bench', u'count': 732},\n",
        "  {u'_id': u'bicycle_parking', u'count': 202},\n",
        "  {u'_id': u'post_box', u'count': 63},\n",
        "  {u'_id': u'parking', u'count': 59},\n",
        "  {u'_id': u'fountain', u'count': 57},\n",
        "  {u'_id': u'atm', u'count': 32},\n",
        "  {u'_id': u'waste_basket', u'count': 31},\n",
        "  {u'_id': u'drinking_water', u'count': 28},\n",
        "  {u'_id': u'toilets', u'count': 24},\n",
        "  {u'_id': u'fuel', u'count': 17},\n",
        "  {u'_id': u'car_sharing', u'count': 13},\n",
        "  {u'_id': u'playground', u'count': 13},\n",
        "  {u'_id': u'fire_hydrant', u'count': 9},\n",
        "  {u'_id': u'picnic_table', u'count': 8},\n",
        "  {u'_id': u'telephone', u'count': 7},\n",
        "  {u'_id': u'recycling', u'count': 7},\n",
        "  {u'_id': u'emergency_phone', u'count': 7},\n",
        "  {u'_id': u'pitch', u'count': 6},\n",
        "  {u'_id': u'bank', u'count': 5},\n",
        "  {u'_id': u'convenience', u'count': 5},\n",
        "  {u'_id': u'slipway', u'count': 5},\n",
        "  {u'_id': u'restaurant', u'count': 4},\n",
        "  {u'_id': u'taxi', u'count': 4},\n",
        "  {u'_id': u'magazine_box', u'count': 4},\n",
        "  {u'_id': u'vending_machine', u'count': 4},\n",
        "  {u'_id': u'post_office', u'count': 3},\n",
        "  {u'_id': u'library', u'count': 3},\n",
        "  {u'_id': u'bicycle_repair_station', u'count': 3},\n",
        "  {u'_id': u'shower', u'count': 3},\n",
        "  {u'_id': u'bbq', u'count': 3},\n",
        "  {u'_id': u'hospital', u'count': 2},\n",
        "  {u'_id': u'car', u'count': 2},\n",
        "  {u'_id': u'fire_station', u'count': 2},\n",
        "  {u'_id': u'fast_food', u'count': 2},\n",
        "  {u'_id': u'marina', u'count': 2},\n",
        "  {u'_id': u'parking_entrance', u'count': 2},\n",
        "  {u'_id': u'pet', u'count': 2},\n",
        "  {u'_id': u'park', u'count': 2},\n",
        "  {u'_id': u'cafe', u'count': 2},\n",
        "  {u'_id': u'supermarket', u'count': 2},\n",
        "  {u'_id': u'hairdresser', u'count': 2},\n",
        "  {u'_id': u'pharmacy', u'count': 2},\n",
        "  {u'_id': u'pizza', u'count': 2},\n",
        "  {u'_id': u'school', u'count': 2},\n",
        "  {u'_id': u'bus_station', u'count': 1},\n",
        "  {u'_id': u'clock', u'count': 1},\n",
        "  {u'_id': u'vacant', u'count': 1},\n",
        "  {u'_id': u'police', u'count': 1},\n",
        "  {u'_id': u'gift', u'count': 1},\n",
        "  {u'_id': u'ice_cream', u'count': 1},\n",
        "  {u'_id': u'florist', u'count': 1},\n",
        "  {u'_id': u'place_of_worship', u'count': 1},\n",
        "  {u'_id': u'fitness_station', u'count': 1},\n",
        "  {u'_id': u'minot_rose_garden_study_spot', u'count': 1},\n",
        "  {u'_id': u'romanza_pizzaria', u'count': 1},\n",
        "  {u'_id': u'food_court', u'count': 1},\n",
        "  {u'_id': u'school_library', u'count': 1},\n",
        "  {u'_id': u'sound-reflection', u'count': 1},\n",
        "  {u'_id': u'bakery', u'count': 1},\n",
        "  {u'_id': u'clothes', u'count': 1},\n",
        "  {u'_id': u'veterinary', u'count': 1},\n",
        "  {u'_id': u'comedy_club', u'count': 1}]}"
       ]
      }
     ],
     "prompt_number": 30
    },
    {
     "cell_type": "markdown",
     "metadata": {},
     "source": [
      "Hmm, obvsiously, there are some possible not-so-interesting places in the above list. Post office? I mean, c'mon, right?\n",
      "\n",
      "However, what if, and just bear with me here, we put something somewhere that said something along the lines of:\n",
      "\n",
      "*\"Hey, did a post office come up? Is it kinda far from you? Maybe you should write a letter to someone you haven't seen in a while and then go on an adventure to mail it.\"*\n",
      "\n",
      "*\"Was it a fire station? Maybe you could go bring the fellas some 'za, nah mean?\"*\n",
      "\n",
      "*\"We could give you some more suggestions, for example for when ATMs come up, but we figure you get the idea.\"*"
     ]
    },
    {
     "cell_type": "markdown",
     "metadata": {},
     "source": [
      "##OK, I think I've seen enough."
     ]
    },
    {
     "cell_type": "markdown",
     "metadata": {},
     "source": [
      "I'm going to Heroku, setting up MongoLab, gonna make a little Node.js app (I've never done that before), and see if this thing makes sense. You're welcome to join me.  :)"
     ]
    },
    {
     "cell_type": "markdown",
     "metadata": {},
     "source": [
      "<h2><a href='https://bosroul.herokuapp.com/' target='_blank'>Check out Boston Roulette</a> (the web app)</h2>"
     ]
    }
   ],
   "metadata": {}
  }
 ]
}