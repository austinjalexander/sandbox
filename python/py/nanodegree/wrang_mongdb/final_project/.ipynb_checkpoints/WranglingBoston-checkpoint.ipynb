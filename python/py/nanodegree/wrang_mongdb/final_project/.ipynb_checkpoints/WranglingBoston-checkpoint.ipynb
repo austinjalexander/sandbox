{
 "metadata": {
  "name": "",
  "signature": "sha256:7238016bb05da62ff489ad0cf9a024d75c741771381aebdf33f2fd5a4bb05969"
 },
 "nbformat": 3,
 "nbformat_minor": 0,
 "worksheets": [
  {
   "cells": [
    {
     "cell_type": "markdown",
     "metadata": {},
     "source": [
      "#Wrangling Boston OpenStreetMap Data"
     ]
    },
    {
     "cell_type": "markdown",
     "metadata": {},
     "source": [
      "##Find the data"
     ]
    },
    {
     "cell_type": "markdown",
     "metadata": {},
     "source": [
      "Using the very hepful Mapzen Weekly OSM Metro Extracts (https://mapzen.com/metro-extracts), I was able to download the OSM file for Boston, Massachusetts, USA."
     ]
    },
    {
     "cell_type": "markdown",
     "metadata": {},
     "source": [
      "##List the data files"
     ]
    },
    {
     "cell_type": "code",
     "collapsed": false,
     "input": [
      "!ls -la /Users/excalibur/Dropbox/nanodegree/data/"
     ],
     "language": "python",
     "metadata": {},
     "outputs": [
      {
       "output_type": "stream",
       "stream": "stdout",
       "text": [
        "total 741872\r\n",
        "drwxr-xr-x@  5 excalibur  staff        170 Mar 10 12:14 \u001b[34m.\u001b[m\u001b[m\r\n",
        "drwxr-xr-x@ 11 excalibur  staff        374 Mar 10 12:07 \u001b[34m..\u001b[m\u001b[m\r\n",
        "-rw-r--r--@  1 excalibur  staff       6148 Mar 10 12:14 .DS_Store\r\n",
        "-rw-r-----@  1 excalibur  staff  366426696 Feb 23 11:32 boston_massachusetts.osm\r\n",
        "-rw-r-----@  1 excalibur  staff   13399735 Feb 23 11:32 boston_massachusetts.osm.pbf\r\n"
       ]
      }
     ],
     "prompt_number": 7
    },
    {
     "cell_type": "markdown",
     "metadata": {},
     "source": [
      "The boston_massachusetts.osm file is 366.4 MB."
     ]
    },
    {
     "cell_type": "markdown",
     "metadata": {},
     "source": [
      "##Display head of data file"
     ]
    },
    {
     "cell_type": "code",
     "collapsed": false,
     "input": [
      "!head /Users/excalibur/Dropbox/nanodegree/data/boston_massachusetts.osm"
     ],
     "language": "python",
     "metadata": {},
     "outputs": [
      {
       "output_type": "stream",
       "stream": "stdout",
       "text": [
        "<?xml version='1.0' encoding='UTF-8'?>\r\n",
        "<osm version=\"0.6\" generator=\"Osmosis 0.43.1\">\r\n",
        "  <bounds minlon=\"-71.19100\" minlat=\"42.22800\" maxlon=\"-70.92300\" maxlat=\"42.39900\" origin=\"http://www.openstreetmap.org/api/0.6\"/>\r\n",
        "  <node id=\"26746680\" version=\"1\" timestamp=\"2007-03-24T19:38:02Z\" uid=\"6817\" user=\"lurker\" changeset=\"244358\" lat=\"42.3089253\" lon=\"-71.1191797\">\r\n",
        "    <tag k=\"created_by\" v=\"YahooApplet 1.0\"/>\r\n",
        "  </node>\r\n",
        "  <node id=\"30730952\" version=\"2\" timestamp=\"2012-12-19T19:24:31Z\" uid=\"326503\" user=\"wambag\" changeset=\"14335103\" lat=\"42.3678097\" lon=\"-71.0218711\"/>\r\n",
        "  <node id=\"30730953\" version=\"2\" timestamp=\"2012-12-19T19:24:31Z\" uid=\"326503\" user=\"wambag\" changeset=\"14335103\" lat=\"42.3677364\" lon=\"-71.0218568\"/>\r\n",
        "  <node id=\"30730954\" version=\"2\" timestamp=\"2012-12-19T19:24:31Z\" uid=\"326503\" user=\"wambag\" changeset=\"14335103\" lat=\"42.3676084\" lon=\"-71.0218168\"/>\r\n",
        "  <node id=\"30730955\" version=\"2\" timestamp=\"2012-12-19T19:24:32Z\" uid=\"326503\" user=\"wambag\" changeset=\"14335103\" lat=\"42.3675229\" lon=\"-71.0218486\"/>\r\n"
       ]
      }
     ],
     "prompt_number": 8
    },
    {
     "cell_type": "markdown",
     "metadata": {},
     "source": [
      "##Import Python packages"
     ]
    },
    {
     "cell_type": "code",
     "collapsed": false,
     "input": [
      "import xml.etree.cElementTree as ET\n",
      "import pprint as pp\n",
      "import os"
     ],
     "language": "python",
     "metadata": {},
     "outputs": [],
     "prompt_number": 12
    },
    {
     "cell_type": "markdown",
     "metadata": {},
     "source": [
      "##General helper function"
     ]
    },
    {
     "cell_type": "code",
     "collapsed": false,
     "input": [
      "# system beep\n",
      "def finished():\n",
      "    os.system(\"printf '\\a'\")\n",
      "    os.system(\"printf '\\a'\")"
     ],
     "language": "python",
     "metadata": {},
     "outputs": [],
     "prompt_number": 13
    },
    {
     "cell_type": "markdown",
     "metadata": {},
     "source": [
      "##Iterate over and display tags, attributes, and descendants in data file"
     ]
    },
    {
     "cell_type": "code",
     "collapsed": false,
     "input": [
      "filename = '/Users/excalibur/Dropbox/nanodegree/data/boston_massachusetts.osm'\n",
      "\n",
      "tags = {}\n",
      "\n",
      "for event,element in ET.iterparse(filename):\n",
      "    \n",
      "    if element.tag not in tags:\n",
      "        tags[element.tag] = {}\n",
      "        tags[element.tag]['count'] = 1\n",
      "        tags[element.tag]['attributes'] = {}\n",
      "        tags[element.tag]['children'] = {}\n",
      "        tags[element.tag]['grandchildren'] = {}\n",
      "        tags[element.tag]['greatgrandchildren'] = {}\n",
      "    else:\n",
      "        tags[element.tag]['count'] += 1\n",
      "        \n",
      "    for attribute_key,attribute_val in element.attrib.items():\n",
      "            if attribute_key not in tags[element.tag]['attributes']:\n",
      "                tags[element.tag]['attributes'][attribute_key] = 1\n",
      "            else:\n",
      "                tags[element.tag]['attributes'][attribute_key] += 1\n",
      "                \n",
      "    for child in element:\n",
      "        if child.tag not in tags[element.tag]['children']:\n",
      "            tags[element.tag]['children'][child.tag] = 1\n",
      "        else:\n",
      "            tags[element.tag]['children'][child.tag] += 1\n",
      "        \n",
      "        for grandchild in child:\n",
      "            if grandchild.tag not in tags[element.tag]['grandchildren']:\n",
      "                tags[element.tag]['grandchildren'][grandchild.tag] = 1\n",
      "            else:\n",
      "                tags[element.tag]['grandchildren'][grandchild.tag] += 1\n",
      "                \n",
      "            for greatgrandchild in grandchild:\n",
      "                if greatgrandchild.tag not in tags[element.tag]['greatgrandchild']:\n",
      "                    tags[element.tag]['greatgrandchild'][greatgrandchild.tag] = 1\n",
      "                else:\n",
      "                    tags[element.tag]['greatgrandchild'][greatgrandchild.tag] += 1\n",
      "               \n",
      "# clean up unused dictionaries\n",
      "for item in tags.items():\n",
      "    if not item[1]['attributes']:\n",
      "        del item[1]['attributes']\n",
      "    if not item[1]['children']:\n",
      "        del item[1]['children']\n",
      "    if not item[1]['grandchildren']:\n",
      "        del item[1]['grandchildren']\n",
      "    if not item[1]['greatgrandchildren']:\n",
      "        del item[1]['greatgrandchildren']\n",
      "\n",
      "pp.pprint(tags)\n",
      "finished()"
     ],
     "language": "python",
     "metadata": {},
     "outputs": [
      {
       "output_type": "stream",
       "stream": "stdout",
       "text": [
        "{'bounds'"
       ]
      },
      {
       "output_type": "stream",
       "stream": "stdout",
       "text": [
        ": {'attributes': {'maxlat': 1,\n",
        "                           'maxlon': 1,\n",
        "                           'minlat': 1,\n",
        "                           'minlon': 1,\n",
        "                           'origin': 1},\n",
        "            'count': 1},\n",
        " 'member': {'attributes': {'ref': 8328, 'role': 8328, 'type': 8328},\n",
        "            'count': 8328},\n",
        " 'nd': {'attributes': {'ref': 1904147}, 'count': 1904147},\n",
        " 'node': {'attributes': {'changeset': 1601437,\n",
        "                         'id': 1601437,\n",
        "                         'lat': 1601437,\n",
        "                         'lon': 1601437,\n",
        "                         'timestamp': 1601437,\n",
        "                         'uid': 1601437,\n",
        "                         'user': 1601437,\n",
        "                         'version': 1601437},\n",
        "          'children': {'tag': 274720},\n",
        "          'count': 1601437},\n",
        " 'osm': {'attributes': {'generator': 1, 'version': 1},\n",
        "         'children': {'bounds': 1,\n",
        "                      'node': 1601437,\n",
        "                      'relation': 1050,\n",
        "                      'way': 245626},\n",
        "         'count': 1,\n",
        "         'grandchildren': {'member': 8328, 'nd': 1904147, 'tag': 748353}},\n",
        " 'relation': {'attributes': {'changeset': 1050,\n",
        "                             'id': 1050,\n",
        "                             'timestamp': 1050,\n",
        "                             'uid': 1050,\n",
        "                             'user': 1050,\n",
        "                             'version': 1050},\n",
        "              'children': {'member': 8328, 'tag': 4366},\n",
        "              'count': 1050},\n",
        " 'tag': {'attributes': {'k': 748353, 'v': 748353}, 'count': 748353},\n",
        " 'way': {'attributes': {'changeset': 245626,\n",
        "                        'id': 245626,\n",
        "                        'timestamp': 245626,\n",
        "                        'uid': 245626,\n",
        "                        'user': 245626,\n",
        "                        'version': 245626},\n",
        "         'children': {'nd': 1904147, 'tag': 469267},\n",
        "         'count': 245626}}\n"
       ]
      }
     ],
     "prompt_number": 14
    },
    {
     "cell_type": "markdown",
     "metadata": {},
     "source": [
      "##What to do with with over a million nodes of OpenStreetMap data?"
     ]
    },
    {
     "cell_type": "markdown",
     "metadata": {},
     "source": [
      "To help focus this project, I realized that this might be the perfect time to try to implement and old idea I had with a buddy of mine."
     ]
    },
    {
     "cell_type": "markdown",
     "metadata": {},
     "source": [
      "<h2><a href='BostonRoulette.ipynb' target='_blank'>Boston Roulette</a></h2>"
     ]
    }
   ],
   "metadata": {}
  }
 ]
}