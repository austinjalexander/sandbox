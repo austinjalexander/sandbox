{
 "cells": [
  {
   "cell_type": "code",
   "execution_count": 442,
   "metadata": {
    "collapsed": true
   },
   "outputs": [],
   "source": [
    "import sys\n",
    "from time import time\n",
    "import pickle\n",
    "sys.path.append(\"ud120-projects/tools/\")\n",
    "sys.path.append(\"ud120-projects/final_project/\")\n",
    "import numpy as np\n",
    "import pandas as pd\n",
    "from matplotlib import pyplot as plt\n",
    "import seaborn as sns\n",
    "%matplotlib inline"
   ]
  },
  {
   "cell_type": "code",
   "execution_count": 443,
   "metadata": {
    "collapsed": true
   },
   "outputs": [],
   "source": [
    "from feature_format import featureFormat, targetFeatureSplit\n",
    "from tester import test_classifier, dump_classifier_and_data\n",
    "\n",
    "from sklearn.cross_validation import train_test_split\n",
    "from sklearn.preprocessing import Imputer\n",
    "from sklearn.preprocessing import MinMaxScaler\n",
    "from sklearn.decomposition import RandomizedPCA\n",
    "from sklearn.feature_selection import SelectKBest\n",
    "from sklearn.pipeline import make_pipeline\n",
    "from sklearn.grid_search import GridSearchCV\n",
    "\n",
    "from sklearn.naive_bayes import GaussianNB\n",
    "from sklearn.svm import SVC\n",
    "from sklearn.tree import DecisionTreeClassifier\n",
    "from sklearn.cluster import KMeans\n",
    "\n",
    "from sklearn.metrics import precision_score\n",
    "from sklearn.metrics import recall_score\n",
    "from sklearn.metrics import classification_report"
   ]
  },
  {
   "cell_type": "code",
   "execution_count": 444,
   "metadata": {
    "collapsed": true
   },
   "outputs": [],
   "source": [
    "### Load the dictionary containing the dataset\n",
    "data_dict = pickle.load(open(\"ud120-projects/final_project/final_project_dataset.pkl\", \"r\") )"
   ]
  },
  {
   "cell_type": "code",
   "execution_count": 445,
   "metadata": {
    "collapsed": false
   },
   "outputs": [
    {
     "name": "stdout",
     "output_type": "stream",
     "text": [
      "GaussianNB()\n",
      "\tAccuracy: 0.25560\tPrecision: 0.18481\tRecall: 0.79800\tF1: 0.30011\tF2: 0.47968\n",
      "\tTotal predictions: 10000\tTrue positives: 1596\tFalse positives: 7040\tFalse negatives:  404\tTrue negatives:  960\n",
      "\n"
     ]
    }
   ],
   "source": [
    "### Task 1: Select what features you'll use.\n",
    "### features_list is a list of strings, each of which is a feature name.\n",
    "### The first feature must be \"poi\".\n",
    "features_list = ['poi','salary'] # You will need to use more features\n",
    "\n",
    "### Task 2: Remove outliers\n",
    "### Task 3: Create new feature(s)\n",
    "### Store to my_dataset for easy export below.\n",
    "my_dataset = data_dict\n",
    "\n",
    "### Extract features and labels from dataset for local testing\n",
    "data = featureFormat(my_dataset, features_list, sort_keys = True)\n",
    "labels, features = targetFeatureSplit(data)\n",
    "\n",
    "### Task 4: Try a varity of classifiers\n",
    "### Please name your classifier clf for easy export below.\n",
    "### Note that if you want to do PCA or other multi-stage operations,\n",
    "### you'll need to use Pipelines. For more info:\n",
    "### http://scikit-learn.org/stable/modules/pipeline.html\n",
    "\n",
    "clf = GaussianNB()    # Provided to give you a starting point. Try a varity of classifiers.\n",
    "\n",
    "### Task 5: Tune your classifier to achieve better than .3 precision and recall \n",
    "### using our testing script.\n",
    "### Because of the small size of the dataset, the script uses stratified\n",
    "### shuffle split cross validation. For more info: \n",
    "### http://scikit-learn.org/stable/modules/generated/sklearn.cross_validation.StratifiedShuffleSplit.html\n",
    "\n",
    "test_classifier(clf, my_dataset, features_list)\n",
    "\n",
    "### Dump your classifier, dataset, and features_list so \n",
    "### anyone can run/check your results.\n",
    "\n",
    "dump_classifier_and_data(clf, my_dataset, features_list)"
   ]
  },
  {
   "cell_type": "markdown",
   "metadata": {},
   "source": [
    "---"
   ]
  },
  {
   "cell_type": "code",
   "execution_count": 446,
   "metadata": {
    "collapsed": false
   },
   "outputs": [
    {
     "name": "stdout",
     "output_type": "stream",
     "text": [
      "['poi', 'bonus', 'deferral_payments', 'deferred_income', 'director_fees', 'exercised_stock_options', 'expenses', 'from_messages', 'from_poi_to_this_person', 'from_this_person_to_poi', 'loan_advances', 'long_term_incentive', 'other', 'restricted_stock', 'restricted_stock_deferred', 'salary', 'shared_receipt_with_poi', 'to_messages', 'total_payments', 'total_stock_value']\n"
     ]
    }
   ],
   "source": [
    "### Task 1: Select what features you'll use.\n",
    "### features_list is a list of strings, each of which is a feature name.\n",
    "### The first feature must be \"poi\".\n",
    "\n",
    "features_list = my_dataset.itervalues().next().keys()\n",
    "features_list.sort()\n",
    "features_list.remove('poi')\n",
    "features_list.insert(0, 'poi')\n",
    "features_list.remove('email_address')\n",
    "print features_list"
   ]
  },
  {
   "cell_type": "code",
   "execution_count": 447,
   "metadata": {
    "collapsed": false
   },
   "outputs": [
    {
     "name": "stdout",
     "output_type": "stream",
     "text": [
      "POI Count:\n",
      "False    128\n",
      "True      18\n",
      "dtype: int64\n"
     ]
    },
    {
     "data": {
      "text/html": [
       "<div style=\"max-height:1000px;max-width:1500px;overflow:auto;\">\n",
       "<table border=\"1\" class=\"dataframe\">\n",
       "  <thead>\n",
       "    <tr style=\"text-align: right;\">\n",
       "      <th></th>\n",
       "      <th>poi</th>\n",
       "      <th>bonus</th>\n",
       "      <th>deferral_payments</th>\n",
       "      <th>deferred_income</th>\n",
       "      <th>director_fees</th>\n",
       "      <th>exercised_stock_options</th>\n",
       "      <th>expenses</th>\n",
       "      <th>from_messages</th>\n",
       "      <th>from_poi_to_this_person</th>\n",
       "      <th>from_this_person_to_poi</th>\n",
       "      <th>loan_advances</th>\n",
       "      <th>long_term_incentive</th>\n",
       "      <th>other</th>\n",
       "      <th>restricted_stock</th>\n",
       "      <th>restricted_stock_deferred</th>\n",
       "      <th>salary</th>\n",
       "      <th>shared_receipt_with_poi</th>\n",
       "      <th>to_messages</th>\n",
       "      <th>total_payments</th>\n",
       "      <th>total_stock_value</th>\n",
       "    </tr>\n",
       "  </thead>\n",
       "  <tbody>\n",
       "    <tr>\n",
       "      <th>0</th>\n",
       "      <td>False</td>\n",
       "      <td>600000</td>\n",
       "      <td>NaN</td>\n",
       "      <td>NaN</td>\n",
       "      <td>NaN</td>\n",
       "      <td>NaN</td>\n",
       "      <td>94299</td>\n",
       "      <td>29</td>\n",
       "      <td>38</td>\n",
       "      <td>1</td>\n",
       "      <td>NaN</td>\n",
       "      <td>NaN</td>\n",
       "      <td>1740</td>\n",
       "      <td>585062</td>\n",
       "      <td>NaN</td>\n",
       "      <td>365788</td>\n",
       "      <td>702</td>\n",
       "      <td>807</td>\n",
       "      <td>1061827</td>\n",
       "      <td>585062</td>\n",
       "    </tr>\n",
       "    <tr>\n",
       "      <th>1</th>\n",
       "      <td>False</td>\n",
       "      <td>1200000</td>\n",
       "      <td>1295738</td>\n",
       "      <td>-1386055</td>\n",
       "      <td>NaN</td>\n",
       "      <td>6680544</td>\n",
       "      <td>11200</td>\n",
       "      <td>NaN</td>\n",
       "      <td>NaN</td>\n",
       "      <td>NaN</td>\n",
       "      <td>NaN</td>\n",
       "      <td>1586055</td>\n",
       "      <td>2660303</td>\n",
       "      <td>3942714</td>\n",
       "      <td>NaN</td>\n",
       "      <td>267102</td>\n",
       "      <td>NaN</td>\n",
       "      <td>NaN</td>\n",
       "      <td>5634343</td>\n",
       "      <td>10623258</td>\n",
       "    </tr>\n",
       "    <tr>\n",
       "      <th>2</th>\n",
       "      <td>False</td>\n",
       "      <td>350000</td>\n",
       "      <td>NaN</td>\n",
       "      <td>-400729</td>\n",
       "      <td>NaN</td>\n",
       "      <td>4890344</td>\n",
       "      <td>78552</td>\n",
       "      <td>NaN</td>\n",
       "      <td>NaN</td>\n",
       "      <td>NaN</td>\n",
       "      <td>NaN</td>\n",
       "      <td>NaN</td>\n",
       "      <td>12961</td>\n",
       "      <td>1788391</td>\n",
       "      <td>NaN</td>\n",
       "      <td>170941</td>\n",
       "      <td>NaN</td>\n",
       "      <td>NaN</td>\n",
       "      <td>211725</td>\n",
       "      <td>6678735</td>\n",
       "    </tr>\n",
       "    <tr>\n",
       "      <th>3</th>\n",
       "      <td>False</td>\n",
       "      <td>NaN</td>\n",
       "      <td>NaN</td>\n",
       "      <td>NaN</td>\n",
       "      <td>NaN</td>\n",
       "      <td>651850</td>\n",
       "      <td>NaN</td>\n",
       "      <td>12</td>\n",
       "      <td>10</td>\n",
       "      <td>0</td>\n",
       "      <td>NaN</td>\n",
       "      <td>NaN</td>\n",
       "      <td>NaN</td>\n",
       "      <td>386335</td>\n",
       "      <td>NaN</td>\n",
       "      <td>NaN</td>\n",
       "      <td>58</td>\n",
       "      <td>764</td>\n",
       "      <td>NaN</td>\n",
       "      <td>1038185</td>\n",
       "    </tr>\n",
       "    <tr>\n",
       "      <th>4</th>\n",
       "      <td>True</td>\n",
       "      <td>1500000</td>\n",
       "      <td>NaN</td>\n",
       "      <td>-3117011</td>\n",
       "      <td>NaN</td>\n",
       "      <td>5538001</td>\n",
       "      <td>34039</td>\n",
       "      <td>32</td>\n",
       "      <td>32</td>\n",
       "      <td>21</td>\n",
       "      <td>NaN</td>\n",
       "      <td>1617011</td>\n",
       "      <td>11350</td>\n",
       "      <td>853064</td>\n",
       "      <td>NaN</td>\n",
       "      <td>243293</td>\n",
       "      <td>1035</td>\n",
       "      <td>1045</td>\n",
       "      <td>288682</td>\n",
       "      <td>6391065</td>\n",
       "    </tr>\n",
       "  </tbody>\n",
       "</table>\n",
       "</div>"
      ],
      "text/plain": [
       "     poi    bonus  deferral_payments  deferred_income  director_fees  \\\n",
       "0  False   600000                NaN              NaN            NaN   \n",
       "1  False  1200000            1295738         -1386055            NaN   \n",
       "2  False   350000                NaN          -400729            NaN   \n",
       "3  False      NaN                NaN              NaN            NaN   \n",
       "4   True  1500000                NaN         -3117011            NaN   \n",
       "\n",
       "   exercised_stock_options  expenses  from_messages  from_poi_to_this_person  \\\n",
       "0                      NaN     94299             29                       38   \n",
       "1                  6680544     11200            NaN                      NaN   \n",
       "2                  4890344     78552            NaN                      NaN   \n",
       "3                   651850       NaN             12                       10   \n",
       "4                  5538001     34039             32                       32   \n",
       "\n",
       "   from_this_person_to_poi  loan_advances  long_term_incentive    other  \\\n",
       "0                        1            NaN                  NaN     1740   \n",
       "1                      NaN            NaN              1586055  2660303   \n",
       "2                      NaN            NaN                  NaN    12961   \n",
       "3                        0            NaN                  NaN      NaN   \n",
       "4                       21            NaN              1617011    11350   \n",
       "\n",
       "   restricted_stock  restricted_stock_deferred  salary  \\\n",
       "0            585062                        NaN  365788   \n",
       "1           3942714                        NaN  267102   \n",
       "2           1788391                        NaN  170941   \n",
       "3            386335                        NaN     NaN   \n",
       "4            853064                        NaN  243293   \n",
       "\n",
       "   shared_receipt_with_poi  to_messages  total_payments  total_stock_value  \n",
       "0                      702          807         1061827             585062  \n",
       "1                      NaN          NaN         5634343           10623258  \n",
       "2                      NaN          NaN          211725            6678735  \n",
       "3                       58          764             NaN            1038185  \n",
       "4                     1035         1045          288682            6391065  "
      ]
     },
     "execution_count": 447,
     "metadata": {},
     "output_type": "execute_result"
    }
   ],
   "source": [
    "### convert dictionary to pandas dataframe\n",
    "\n",
    "df = pd.DataFrame([entry for entry in my_dataset.itervalues()])\n",
    "df = df.drop('email_address', axis=1)\n",
    "df = df[features_list]\n",
    "#df.dtypes\n",
    "#df.describe()\n",
    "#df.count()\n",
    "df = df.convert_objects(convert_numeric=True)\n",
    "\n",
    "for col in list(df.columns):\n",
    "    df[col] = df[col].round(decimals=3)\n",
    "    \n",
    "print \"POI Count:\\n\", df.poi.value_counts()\n",
    "df.head()"
   ]
  },
  {
   "cell_type": "code",
   "execution_count": 448,
   "metadata": {
    "collapsed": false
   },
   "outputs": [
    {
     "name": "stdout",
     "output_type": "stream",
     "text": [
      "(146,)\n"
     ]
    },
    {
     "data": {
      "text/plain": [
       "array([False, False, False, False,  True], dtype=bool)"
      ]
     },
     "execution_count": 448,
     "metadata": {},
     "output_type": "execute_result"
    }
   ],
   "source": [
    "# create labels\n",
    "y = df.poi.values\n",
    "print y.shape\n",
    "y[:5]"
   ]
  },
  {
   "cell_type": "code",
   "execution_count": 449,
   "metadata": {
    "collapsed": false
   },
   "outputs": [
    {
     "name": "stdout",
     "output_type": "stream",
     "text": [
      "(146, 19)\n"
     ]
    }
   ],
   "source": [
    "# create initial features\n",
    "X = df.drop('poi', axis=1).values\n",
    "print X.shape"
   ]
  },
  {
   "cell_type": "code",
   "execution_count": 450,
   "metadata": {
    "collapsed": false
   },
   "outputs": [
    {
     "data": {
      "text/plain": [
       "array([[  6.00000000e+05,   1.64267415e+06,  -1.14047514e+06, ...,\n",
       "          8.07000000e+02,   1.06182700e+06,   5.85062000e+05],\n",
       "       [  1.20000000e+06,   1.29573800e+06,  -1.38605500e+06, ...,\n",
       "          2.07386047e+03,   5.63434300e+06,   1.06232580e+07],\n",
       "       [  3.50000000e+05,   1.64267415e+06,  -4.00729000e+05, ...,\n",
       "          2.07386047e+03,   2.11725000e+05,   6.67873500e+06],\n",
       "       ..., \n",
       "       [  6.00000000e+05,   2.27449000e+05,  -1.14047514e+06, ...,\n",
       "          5.33000000e+02,   1.09266300e+06,   3.74504800e+06],\n",
       "       [  8.00000000e+05,   1.64267415e+06,  -3.00000000e+05, ...,\n",
       "          8.65000000e+02,   8.75760000e+05,   1.08098800e+06],\n",
       "       [  6.00000000e+05,   1.64267415e+06,  -1.14047514e+06, ...,\n",
       "          8.73000000e+02,   1.27228400e+06,   7.78546000e+05]])"
      ]
     },
     "execution_count": 450,
     "metadata": {},
     "output_type": "execute_result"
    }
   ],
   "source": [
    "# imputation for 'NaN' values\n",
    "imp = Imputer(missing_values='NaN', strategy='mean', axis=0)\n",
    "imp.fit(X)\n",
    "X = imp.transform(X)\n",
    "X"
   ]
  },
  {
   "cell_type": "code",
   "execution_count": 451,
   "metadata": {
    "collapsed": false
   },
   "outputs": [
    {
     "name": "stdout",
     "output_type": "stream",
     "text": [
      "new X shape:  (130, 19)\n",
      "\n",
      "total rows removed:  16 (0.11)\n"
     ]
    }
   ],
   "source": [
    "### Task 2: Remove outliers\n",
    "num_rows = X.shape[0]\n",
    "num_cols = X.shape[1]\n",
    "rows_to_remove = set()\n",
    "\n",
    "for i in xrange(num_cols):\n",
    "    point_five_percentile = np.percentile(X[:,i], 0.5)\n",
    "    ninety_nine_point_five_percentile = np.percentile(X[:,i], 99.5)\n",
    "    \n",
    "    for j in xrange(num_rows):\n",
    "        if X[j,i] < point_five_percentile:\n",
    "            #print \"\\tlow outlier: \", \"row: \", j, \"col: \", i, \" -> \", X[j,i]\n",
    "            rows_to_remove.add(j)\n",
    "        elif X[j,i] > ninety_nine_point_five_percentile:\n",
    "            #print \"\\thigh outlier: \", \"row: \", j, \"col: \", i, \" -> \", X[j,i]\n",
    "            rows_to_remove.add(j)\n",
    "\n",
    "X = np.delete(X, list(rows_to_remove), axis=0)\n",
    "y = np.delete(y, list(rows_to_remove))\n",
    "print \"new X shape: \", X.shape\n",
    "print \"\\ntotal rows removed: \", len(rows_to_remove), \"({})\".format(round(len(rows_to_remove)/float(num_rows), 2))"
   ]
  },
  {
   "cell_type": "code",
   "execution_count": 452,
   "metadata": {
    "collapsed": false
   },
   "outputs": [
    {
     "name": "stdout",
     "output_type": "stream",
     "text": [
      "(104, 19) (26, 19) (104,) (26,)\n"
     ]
    }
   ],
   "source": [
    "# split into training and testing data\n",
    "X_train, X_test, y_train, y_test = train_test_split(X, y, test_size=0.20, random_state=42)\n",
    "print X_train.shape, X_test.shape, y_train.shape, y_test.shape"
   ]
  },
  {
   "cell_type": "markdown",
   "metadata": {},
   "source": [
    "---"
   ]
  },
  {
   "cell_type": "code",
   "execution_count": 453,
   "metadata": {
    "collapsed": false
   },
   "outputs": [],
   "source": [
    "### Task 3: Create new feature(s)\n",
    "# scale\n",
    "scaler = MinMaxScaler()\n",
    "scaler = scaler.fit(X_train)\n",
    "X_train = scaler.transform(X_train)\n",
    "X_test = scaler.transform(X_test)"
   ]
  },
  {
   "cell_type": "markdown",
   "metadata": {},
   "source": [
    "---"
   ]
  },
  {
   "cell_type": "code",
   "execution_count": 454,
   "metadata": {
    "collapsed": false
   },
   "outputs": [],
   "source": [
    "### Task 4: Try a varity of classifiers\n",
    "### Please name your classifier clf for easy export below.\n",
    "### Note that if you want to do PCA or other multi-stage operations,\n",
    "### you'll need to use Pipelines. For more info:\n",
    "### http://scikit-learn.org/stable/modules/pipeline.html\n",
    "\n",
    "# pca\n",
    "#pca = RandomizedPCA().fit(X_train)      \n",
    "#print [round(x, 4) for x in pca.explained_variance_ratio_]\n",
    "#X_train = pca.transform(X_train)\n",
    "#print X_train.shape\n",
    "#X_test = pca.transform(X_test)\n",
    "#print X_test.shape"
   ]
  },
  {
   "cell_type": "code",
   "execution_count": 455,
   "metadata": {
    "collapsed": false
   },
   "outputs": [],
   "source": [
    "# select K best\n",
    "#selector = SelectKBest().fit(X_train, y_train)\n",
    "#print selector.scores_\n",
    "#X_train = selector.transform(X_train)\n",
    "#print X_train.shape\n",
    "#X_test = selector.transform(X_test)  \n",
    "#print X_test.shape"
   ]
  },
  {
   "cell_type": "code",
   "execution_count": 472,
   "metadata": {
    "collapsed": false
   },
   "outputs": [
    {
     "data": {
      "text/plain": [
       "{'randomizedpca__n_components': [2, 4, 6, 8, 10, 12, 14, 16, 18],\n",
       " 'randomizedpca__random_state': 42,\n",
       " 'randomizedpca__whiten': [True, False],\n",
       " 'selectkbest__k': [2, 4, 6, 8, 10, 12, 14, 16, 18]}"
      ]
     },
     "execution_count": 472,
     "metadata": {},
     "output_type": "execute_result"
    }
   ],
   "source": [
    "dict(randomizedpca__n_components = even_range,\n",
    "                  randomizedpca__whiten = t_or_f,\n",
    "                  randomizedpca__random_state = random_state,\n",
    "                  selectkbest__k = even_range)"
   ]
  },
  {
   "cell_type": "code",
   "execution_count": 489,
   "metadata": {
    "collapsed": false
   },
   "outputs": [
    {
     "name": "stderr",
     "output_type": "stream",
     "text": [
      "[Parallel(n_jobs=1)]: Done   1 jobs       | elapsed:    0.0s\n",
      "[Parallel(n_jobs=1)]: Done  50 jobs       | elapsed:    0.2s\n"
     ]
    },
    {
     "name": "stdout",
     "output_type": "stream",
     "text": [
      "Fitting 3 folds for each of 18 candidates, totalling 54 fits\n",
      "\n",
      "best estimator:  Pipeline(steps=[('randomizedpca', RandomizedPCA(copy=True, iterated_power=3, n_components=2, random_state=42,\n",
      "       whiten=True)), ('selectkbest', SelectKBest(k='all', score_func=<function f_classif at 0x11381a500>)), ('gaussiannb', GaussianNB())]) \n",
      "\n",
      "\n",
      "best score:  0.9 \n",
      "\n",
      "\n",
      "best params:  {'randomizedpca__whiten': True, 'selectkbest__k': 'all', 'randomizedpca__n_components': 2, 'randomizedpca__random_state': 42} \n",
      "\n",
      "Pipeline(steps=[('randomizedpca', RandomizedPCA(copy=True, iterated_power=3, n_components=2, random_state=42,\n",
      "       whiten=True)), ('selectkbest', SelectKBest(k='all', score_func=<function f_classif at 0x11381a500>)), ('gaussiannb', GaussianNB())])\n",
      "\tAccuracy: 0.87207\tPrecision: 0.54341\tRecall: 0.25350\tF1: 0.34572\tF2: 0.28378\n",
      "\tTotal predictions: 15000\tTrue positives:  507\tFalse positives:  426\tFalse negatives: 1493\tTrue negatives: 12574\n",
      "\n"
     ]
    },
    {
     "name": "stderr",
     "output_type": "stream",
     "text": [
      "[Parallel(n_jobs=1)]: Done  54 out of  54 | elapsed:    0.2s finished\n"
     ]
    }
   ],
   "source": [
    "even_range = range(2,X.shape[1],2)\n",
    "random_state = [42]\n",
    "t_or_f = [True, False]\n",
    "\n",
    "best_clf = []\n",
    "\n",
    "#for clf in [GaussianNB(), SVC(), DecisionTreeClassifier(), KMeans()]:\n",
    "for clf in [GaussianNB()]:\n",
    "    \n",
    "    pipeline = make_pipeline(RandomizedPCA(), SelectKBest(), clf)\n",
    "    \n",
    "    #print pipeline\n",
    "    \n",
    "    params = dict(randomizedpca__n_components = even_range,\n",
    "                  randomizedpca__whiten = t_or_f,\n",
    "                  randomizedpca__random_state = random_state,\n",
    "                  selectkbest__k = ['all'])\n",
    "    \n",
    "    grid_search = GridSearchCV(pipeline, param_grid=params, verbose=1)\n",
    "\n",
    "    grid_search.fit(X, y)\n",
    "    \n",
    "    best_clf = grid_search.best_estimator_\n",
    "\n",
    "    print \"\\nbest estimator: \", best_clf, \"\\n\" \n",
    "    print \"\\nbest score: \", grid_search.best_score_, \"\\n\"\n",
    "    print \"\\nbest params: \", grid_search.best_params_, \"\\n\"\n",
    "    \n",
    "clf = best_clf.fit(X_train, y_train)\n",
    "test_classifier(clf, my_dataset, features_list)"
   ]
  },
  {
   "cell_type": "markdown",
   "metadata": {},
   "source": [
    "---"
   ]
  },
  {
   "cell_type": "markdown",
   "metadata": {},
   "source": [
    "GaussianNB()  \n",
    "&nbsp;&nbsp;&nbsp;&nbsp;&nbsp;Accuracy: 0.25560&nbsp;&nbsp;&nbsp;&nbsp;&nbsp;Precision: 0.18481&nbsp;&nbsp;&nbsp;&nbsp;&nbsp;Recall: 0.79800&nbsp;&nbsp;&nbsp;&nbsp;&nbsp;F1: 0.30011&nbsp;&nbsp;&nbsp;&nbsp;&nbsp;F2: 0.47968  \n",
    "&nbsp;&nbsp;&nbsp;&nbsp;&nbsp;Total predictions: 10000&nbsp;&nbsp;&nbsp;&nbsp;&nbsp;True positives: 1596&nbsp;&nbsp;&nbsp;&nbsp;&nbsp;False positives: 7040&nbsp;&nbsp;&nbsp;&nbsp;&nbsp;False negatives:  404  \n",
    "&nbsp;&nbsp;&nbsp;&nbsp;&nbsp;True negatives:  960"
   ]
  },
  {
   "cell_type": "code",
   "execution_count": 435,
   "metadata": {
    "collapsed": false
   },
   "outputs": [
    {
     "name": "stdout",
     "output_type": "stream",
     "text": [
      "0.884615384615\n",
      "0.0\n",
      "0.0\n",
      "             precision    recall  f1-score   support\n",
      "\n",
      "    non-poi       0.92      0.96      0.94        24\n",
      "        poi       0.00      0.00      0.00         2\n",
      "\n",
      "avg / total       0.85      0.88      0.87        26\n",
      "\n",
      "GaussianNB()\n",
      "\tAccuracy: 0.33620\tPrecision: 0.14720\tRecall: 0.83000\tF1: 0.25006\tF2: 0.43056\n",
      "\tTotal predictions: 15000\tTrue positives: 1660\tFalse positives: 9617\tFalse negatives:  340\tTrue negatives: 3383\n",
      "\n"
     ]
    }
   ],
   "source": [
    "#print(\"Fitting the classifier to the training set\")\n",
    "#t0 = time()\n",
    "#param_grid = {'C': [1e3, 5e3, 1e4, 5e4, 1e5],\n",
    "#              'gamma': [0.0001, 0.0005, 0.001, 0.005, 0.01, 0.1], }\n",
    "#clf = GridSearchCV(SVC(kernel='rbf', class_weight='auto'), param_grid)\n",
    "#clf = clf.fit(X_train_pca, y_train)\n",
    "#print(\"done in %0.3fs\" % (time() - t0))\n",
    "##print(\"Best estimator found by grid search:\")\n",
    "#print(clf.best_estimator_)\n",
    "\n",
    "clf = GaussianNB()\n",
    "clf.fit(X_train, y_train)\n",
    "y_pred = clf.predict(X_test)\n",
    "\n",
    "print clf.score(X_test, y_test)\n",
    "print precision_score(y_test, y_pred, average='binary')\n",
    "print recall_score(y_test, y_pred, average='binary')\n",
    "print classification_report(y_test, y_pred, target_names=['non-poi','poi'])\n",
    "\n",
    "test_classifier(clf, my_dataset, features_list)"
   ]
  },
  {
   "cell_type": "code",
   "execution_count": 418,
   "metadata": {
    "collapsed": false
   },
   "outputs": [
    {
     "name": "stdout",
     "output_type": "stream",
     "text": [
      "0.923076923077\n",
      "0.0\n",
      "0.0\n",
      "             precision    recall  f1-score   support\n",
      "\n",
      "    non-poi       0.92      1.00      0.96        24\n",
      "        poi       0.00      0.00      0.00         2\n",
      "\n",
      "avg / total       0.85      0.92      0.89        26\n",
      "\n",
      "Got a divide by zero when trying out: SVC(C=1.0, cache_size=200, class_weight=None, coef0=0.0, degree=3, gamma=0.0,\n",
      "  kernel='rbf', max_iter=-1, probability=False, random_state=None,\n",
      "  shrinking=True, tol=0.001, verbose=False)\n"
     ]
    },
    {
     "name": "stderr",
     "output_type": "stream",
     "text": [
      "/usr/local/lib/python2.7/site-packages/sklearn/metrics/classification.py:958: UndefinedMetricWarning: Precision is ill-defined and being set to 0.0 due to no predicted samples.\n",
      "  'precision', 'predicted', average, warn_for)\n",
      "/usr/local/lib/python2.7/site-packages/sklearn/metrics/classification.py:958: UndefinedMetricWarning: Precision and F-score are ill-defined and being set to 0.0 in labels with no predicted samples.\n",
      "  'precision', 'predicted', average, warn_for)\n"
     ]
    }
   ],
   "source": [
    "clf = SVC()\n",
    "clf.fit(X_train, y_train)\n",
    "y_pred = clf.predict(X_test)\n",
    "\n",
    "print clf.score(X_test, y_test)\n",
    "print precision_score(y_test, y_pred, average='binary')\n",
    "print recall_score(y_test, y_pred, average='binary')\n",
    "print classification_report(y_test, y_pred, target_names=['non-poi','poi'])\n",
    "\n",
    "test_classifier(clf, my_dataset, features_list)"
   ]
  },
  {
   "cell_type": "code",
   "execution_count": 419,
   "metadata": {
    "collapsed": false
   },
   "outputs": [
    {
     "name": "stdout",
     "output_type": "stream",
     "text": [
      "0.846153846154\n",
      "0.25\n",
      "0.5\n",
      "             precision    recall  f1-score   support\n",
      "\n",
      "    non-poi       0.95      0.88      0.91        24\n",
      "        poi       0.25      0.50      0.33         2\n",
      "\n",
      "avg / total       0.90      0.85      0.87        26\n",
      "\n",
      "DecisionTreeClassifier(class_weight=None, criterion='gini', max_depth=None,\n",
      "            max_features=None, max_leaf_nodes=None, min_samples_leaf=1,\n",
      "            min_samples_split=2, min_weight_fraction_leaf=0.0,\n",
      "            random_state=None, splitter='best')\n",
      "\tAccuracy: 0.78920\tPrecision: 0.20113\tRecall: 0.19550\tF1: 0.19828\tF2: 0.19660\n",
      "\tTotal predictions: 15000\tTrue positives:  391\tFalse positives: 1553\tFalse negatives: 1609\tTrue negatives: 11447\n",
      "\n"
     ]
    }
   ],
   "source": [
    "clf = DecisionTreeClassifier()\n",
    "clf.fit(X_train, y_train)\n",
    "y_pred = clf.predict(X_test)\n",
    "\n",
    "print clf.score(X_test, y_test)\n",
    "print precision_score(y_test, y_pred, average='binary')\n",
    "print recall_score(y_test, y_pred, average='binary')\n",
    "print classification_report(y_test, y_pred, target_names=['non-poi','poi'])\n",
    "\n",
    "test_classifier(clf, my_dataset, features_list)"
   ]
  },
  {
   "cell_type": "code",
   "execution_count": 420,
   "metadata": {
    "collapsed": false
   },
   "outputs": [
    {
     "name": "stdout",
     "output_type": "stream",
     "text": [
      "-4.15617151539\n",
      "0.288461538462\n",
      "0.34375\n",
      "KMeans(copy_x=True, init='k-means++', max_iter=300, n_clusters=8, n_init=10,\n",
      "    n_jobs=1, precompute_distances='auto', random_state=None, tol=0.0001,\n",
      "    verbose=0)\n",
      "\tAccuracy: 0.93740\tPrecision: 0.97610\tRecall: 0.91248\tF1: 0.94322\tF2: 0.92453\n",
      "\tTotal predictions: 15000\tTrue positives: 7799\tFalse positives:  191\tFalse negatives:  748\tTrue negatives: 6262\n",
      "\n"
     ]
    },
    {
     "name": "stderr",
     "output_type": "stream",
     "text": [
      "/usr/local/lib/python2.7/site-packages/sklearn/metrics/classification.py:960: UndefinedMetricWarning: Recall is ill-defined and being set to 0.0 in labels with no true samples.\n",
      "  'recall', 'true', average, warn_for)\n"
     ]
    }
   ],
   "source": [
    "clf = KMeans()\n",
    "clf.fit(X_train, y_train)\n",
    "y_pred = clf.predict(X_test)\n",
    "\n",
    "print clf.score(X_test, y_test)\n",
    "print precision_score(y_test, y_pred, average='macro')\n",
    "print recall_score(y_test, y_pred, average='macro')\n",
    "#print classification_report(y_test, y_pred, target_names=['non-poi','poi'])\n",
    "\n",
    "test_classifier(clf, my_dataset, features_list)"
   ]
  },
  {
   "cell_type": "markdown",
   "metadata": {},
   "source": [
    "GaussianNB()  \n",
    "&nbsp;&nbsp;&nbsp;&nbsp;&nbsp;Accuracy: 0.25560&nbsp;&nbsp;&nbsp;&nbsp;&nbsp;Precision: 0.18481&nbsp;&nbsp;&nbsp;&nbsp;&nbsp;Recall: 0.79800&nbsp;&nbsp;&nbsp;&nbsp;&nbsp;F1: 0.30011&nbsp;&nbsp;&nbsp;&nbsp;&nbsp;F2: 0.47968  \n",
    "&nbsp;&nbsp;&nbsp;&nbsp;&nbsp;Total predictions: 10000&nbsp;&nbsp;&nbsp;&nbsp;&nbsp;True positives: 1596&nbsp;&nbsp;&nbsp;&nbsp;&nbsp;False positives: 7040&nbsp;&nbsp;&nbsp;&nbsp;&nbsp;False negatives:  404  \n",
    "&nbsp;&nbsp;&nbsp;&nbsp;&nbsp;True negatives:  960"
   ]
  },
  {
   "cell_type": "code",
   "execution_count": null,
   "metadata": {
    "collapsed": true
   },
   "outputs": [],
   "source": []
  },
  {
   "cell_type": "code",
   "execution_count": null,
   "metadata": {
    "collapsed": true
   },
   "outputs": [],
   "source": [
    "\n",
    "\n",
    "\n",
    "###############################################################################\n",
    "# Train a SVM classification model\n",
    "\n",
    "print(\"Fitting the classifier to the training set\")\n",
    "t0 = time()\n",
    "param_grid = {'C': [1e3, 5e3, 1e4, 5e4, 1e5],\n",
    "              'gamma': [0.0001, 0.0005, 0.001, 0.005, 0.01, 0.1], }\n",
    "clf = GridSearchCV(SVC(kernel='rbf', class_weight='auto'), param_grid)\n",
    "clf = clf.fit(X_train_pca, y_train)\n",
    "print(\"done in %0.3fs\" % (time() - t0))\n",
    "print(\"Best estimator found by grid search:\")\n",
    "print(clf.best_estimator_)"
   ]
  },
  {
   "cell_type": "code",
   "execution_count": null,
   "metadata": {
    "collapsed": true
   },
   "outputs": [],
   "source": []
  },
  {
   "cell_type": "code",
   "execution_count": null,
   "metadata": {
    "collapsed": true
   },
   "outputs": [],
   "source": []
  },
  {
   "cell_type": "code",
   "execution_count": null,
   "metadata": {
    "collapsed": true
   },
   "outputs": [],
   "source": []
  },
  {
   "cell_type": "code",
   "execution_count": null,
   "metadata": {
    "collapsed": true
   },
   "outputs": [],
   "source": []
  },
  {
   "cell_type": "code",
   "execution_count": null,
   "metadata": {
    "collapsed": false
   },
   "outputs": [],
   "source": [
    "# http://scikit-learn.org/stable/auto_examples/feature_stacker.html\n",
    "pca = RandomizedPCA()\n",
    "selection = SelectKBest()\n",
    "\n",
    "combined_features = FeatureUnion([(\"pca\", pca), (\"univ_select\", selection)])\n",
    "\n",
    "X_train = combined_features.fit(X_train, y_train).transform(X_train)\n",
    "X_test = combined_features.transform(X_test)"
   ]
  },
  {
   "cell_type": "code",
   "execution_count": null,
   "metadata": {
    "collapsed": false
   },
   "outputs": [],
   "source": [
    "combined_features"
   ]
  },
  {
   "cell_type": "code",
   "execution_count": null,
   "metadata": {
    "collapsed": false
   },
   "outputs": [],
   "source": [
    "X_train.shape"
   ]
  },
  {
   "cell_type": "code",
   "execution_count": null,
   "metadata": {
    "collapsed": false
   },
   "outputs": [],
   "source": [
    "clf = GaussianNB()\n",
    "clf.fit(X_train, y_train)\n",
    "y_pred = clf.predict(X_test)\n",
    "print clf.score(X_test, y_test), precision_score(y_test, y_pred), recall_score(y_test, y_pred)"
   ]
  },
  {
   "cell_type": "code",
   "execution_count": null,
   "metadata": {
    "collapsed": false
   },
   "outputs": [],
   "source": [
    "clf = SVC()\n",
    "clf.fit(X_train, y_train)\n",
    "y_pred = clf.predict(X_test)\n",
    "print clf.score(X_test, y_test), precision_score(y_test, y_pred), recall_score(y_test, y_pred)"
   ]
  },
  {
   "cell_type": "code",
   "execution_count": null,
   "metadata": {
    "collapsed": false
   },
   "outputs": [],
   "source": [
    "clf = DecisionTreeClassifier()\n",
    "clf.fit(X_train, y_train)\n",
    "y_pred = clf.predict(X_test)\n",
    "print clf.score(X_test, y_test), precision_score(y_test, y_pred), recall_score(y_test, y_pred)"
   ]
  },
  {
   "cell_type": "code",
   "execution_count": null,
   "metadata": {
    "collapsed": false
   },
   "outputs": [],
   "source": [
    "clf = KMeans()\n",
    "clf.fit(X_train, y_train)\n",
    "y_pred = clf.predict(X_test)\n",
    "print clf.score(X_test, y_test), precision_score(y_test, y_pred), recall_score(y_test, y_pred)"
   ]
  },
  {
   "cell_type": "code",
   "execution_count": null,
   "metadata": {
    "collapsed": true
   },
   "outputs": [],
   "source": [
    "svm = SVC()\n",
    "#gnb = GaussianNB()\n",
    "#tree = DecisionTreeClassifier()\n",
    "#kmeans = KMeans()\n",
    "\n",
    "# Do grid search over k, n_components and C:\n",
    "\n",
    "##pipeline = Pipeline([(\"features\", combined_features), (\"svm\", svm), (\"gnb\", gnb), (\"tree\", tree), (\"kmeans\", kmeans)])\n",
    "pipeline = Pipeline([(\"features\", combined_features), (\"gnb\", gnb)])\n",
    "\n",
    "param_grid = dict(features__pca__n_components=[x+1 for x in xrange(X.shape[1]-1)],\n",
    "                  features__univ_select__k=[x+1 for x in xrange(X.shape[1]-1)],\n",
    "                  #svm__C=[0.1, 1, 10])\n",
    "\n",
    "grid_search = GridSearchCV(pipeline, param_grid=param_grid, verbose=10)\n",
    "grid_search.fit(X, y)\n",
    "print(grid_search.best_estimator_)"
   ]
  },
  {
   "cell_type": "code",
   "execution_count": null,
   "metadata": {
    "collapsed": true
   },
   "outputs": [],
   "source": [
    "print \"Fitting the classifier to the training set\"\n",
    "t0 = time()\n",
    "param_grid = {\n",
    "         'C': [1e3, 5e3, 1e4, 5e4, 1e5],\n",
    "          'gamma': [0.0001, 0.0005, 0.001, 0.005, 0.01, 0.1],\n",
    "          }\n",
    "clf = GridSearchCV(SVC(kernel='rbf', class_weight='auto'), param_grid)\n",
    "clf = clf.fit(X_train_pca, y_train)\n",
    "print \"training time: \", round(time()-t0,3), \"s\"\n",
    "print \"Best estimator found by grid search:\"\n",
    "print clf.best_estimator_"
   ]
  },
  {
   "cell_type": "code",
   "execution_count": null,
   "metadata": {
    "collapsed": true
   },
   "outputs": [],
   "source": [
    "svm = SVC(kernel='rbf', C=10000.0)\n",
    "gnb = GaussianNB()\n",
    "tree = DecisionTreeClassifier(min_samples_split=40)\n",
    "kmeans = KMeans(n_clusters=2)\n",
    "\n",
    "# Do grid search over k, n_components and C:\n",
    "\n",
    "pipeline = Pipeline([(\"features\", combined_features), (\"svm\", svm)])\n",
    "\n",
    "param_grid = dict(features__pca__n_components=[1, 2, 3],\n",
    "                  features__univ_select__k=[1, 2],\n",
    "                  svm__C=[0.1, 1, 10])\n",
    "\n",
    "grid_search = GridSearchCV(pipeline, param_grid=param_grid, verbose=10)\n",
    "grid_search.fit(X, y)\n",
    "print(grid_search.best_estimator_)"
   ]
  },
  {
   "cell_type": "code",
   "execution_count": null,
   "metadata": {
    "collapsed": true
   },
   "outputs": [],
   "source": []
  },
  {
   "cell_type": "code",
   "execution_count": null,
   "metadata": {
    "collapsed": false
   },
   "outputs": [],
   "source": [
    "col_first_half = list(df.columns[0:(len(df.columns)/6)])\n",
    "col_first_half.append('poi')"
   ]
  },
  {
   "cell_type": "code",
   "execution_count": null,
   "metadata": {
    "collapsed": false
   },
   "outputs": [],
   "source": [
    "col_second_half = df.columns[(len(df.columns)/2):]"
   ]
  },
  {
   "cell_type": "code",
   "execution_count": null,
   "metadata": {
    "collapsed": false
   },
   "outputs": [],
   "source": [
    "sns.pairplot(df[col_first_half], hue=\"poi\")"
   ]
  },
  {
   "cell_type": "code",
   "execution_count": null,
   "metadata": {
    "collapsed": false
   },
   "outputs": [],
   "source": [
    "### Task 2: Remove outliers\n",
    "for entry in my_dataset.itervalues():\n",
    "    for feature in features_list:\n",
    "        print entry\n",
    "    "
   ]
  }
 ],
 "metadata": {
  "kernelspec": {
   "display_name": "Python 2",
   "language": "python",
   "name": "python2"
  },
  "language_info": {
   "codemirror_mode": {
    "name": "ipython",
    "version": 2
   },
   "file_extension": ".py",
   "mimetype": "text/x-python",
   "name": "python",
   "nbconvert_exporter": "python",
   "pygments_lexer": "ipython2",
   "version": "2.7.10"
  }
 },
 "nbformat": 4,
 "nbformat_minor": 0
}
