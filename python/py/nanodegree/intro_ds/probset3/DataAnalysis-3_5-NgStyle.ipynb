{
 "metadata": {
  "name": "",
  "signature": "sha256:75c3f05f6a6369c77b21916eb1004ef977bc2838723280f7fb5a12bc4c715800"
 },
 "nbformat": 3,
 "nbformat_minor": 0,
 "worksheets": [
  {
   "cells": [
    {
     "cell_type": "code",
     "collapsed": false,
     "input": [
      "import numpy as np\n",
      "import pandas as pd\n",
      "import matplotlib.pyplot as plt\n",
      "%matplotlib inline\n",
      "\n",
      "# import data\n",
      "data = pd.read_csv('turnstile_data_master_with_weather.csv', nrows=1000)"
     ],
     "language": "python",
     "metadata": {},
     "outputs": [],
     "prompt_number": 705
    },
    {
     "cell_type": "code",
     "collapsed": false,
     "input": [
      "# initial data vectors\n",
      "x = data[['Hour', 'maxpressurei', 'maxdewpti', 'mindewpti', 'meandewpti', 'meanpressurei', 'mintempi', 'maxtempi']]\n",
      "y = data['ENTRIESn_hourly'].values\n",
      "\n",
      "# training sample size\n",
      "m = len(y)\n",
      "\n",
      "# proper vector shape\n",
      "y.shape = (m,1)\n",
      "\n",
      "# Add UNIT to features using dummy variables\n",
      "dummy_units = pd.get_dummies(data['UNIT'], prefix='unit')\n",
      "x = x.join(dummy_units)\n",
      "x = x.values\n",
      "\n",
      "# number of features\n",
      "n = len(x[0,:])\n",
      "print n"
     ],
     "language": "python",
     "metadata": {},
     "outputs": [
      {
       "output_type": "stream",
       "stream": "stdout",
       "text": [
        "171\n"
       ]
      }
     ],
     "prompt_number": 715
    },
    {
     "cell_type": "code",
     "collapsed": false,
     "input": [
      "# Feature Scaling\n",
      "# mean normalization\n",
      "#for j in xrange(0,n):\n",
      "#    xbar = np.mean(x[:,j])\n",
      "#    s_x = np.std(x[:,j])\n",
      "\n",
      "# normalized features\n",
      "#x = np.divide((np.subtract(x,xbar)),s_x)"
     ],
     "language": "python",
     "metadata": {},
     "outputs": [],
     "prompt_number": 707
    },
    {
     "cell_type": "code",
     "collapsed": false,
     "input": [
      "# design matrix\n",
      "X = np.hstack((np.ones((m,1)),x))\n",
      "\n",
      "# theta parameters \n",
      "theta = np.zeros(((n+1),1))\n",
      "\n",
      "#gradient descent, number of iterations\n",
      "iterations = 1000\n",
      "\n",
      "# learning rates to try\n",
      "alpha = [-0.3, -0.1, -0.03, -0.01, -0.003, -0.001, 0, 0.0001, 0.0003, 0.001, 0.003, 0.01, 0.03, 0.1, 0.3]\n",
      "a_index = 7"
     ],
     "language": "python",
     "metadata": {},
     "outputs": [],
     "prompt_number": 708
    },
    {
     "cell_type": "code",
     "collapsed": false,
     "input": [
      "# cost function: vectorized implementation\n",
      "def J():\n",
      "    return (1.0/(2.0*m)) * (((X.dot(theta)) - y).T).dot(X.dot(theta) - y)\n",
      "\n",
      "# delta-vector function for derivatives\n",
      "def deltas():\n",
      "    delta = np.zeros(((n+1),1))\n",
      "####for j in xrange(0,(n+1)):\n",
      "    ####summation = 0\n",
      "        #for i in xrange(0,m):\n",
      "        ####summation += ((theta.T.dot(X[i]) - y[i]) * X[i][j])\n",
      "    ####summation = np.sum((X.dot(theta) - y) * X[:,j])\n",
      "        \n",
      "    ####delta[j] = (1.0/m) * summation\n",
      "    \n",
      "    #print np.sum((X.dot(theta) - y).T.dot(X)).shape\n",
      "\n",
      "    #delta = (1.0/m) * np.sum((X.dot(theta) - y) * X.T[:])\n",
      "    delta = ((1.0/m) * (X.dot(theta) - y).T.dot(X)).T\n",
      "    return delta"
     ],
     "language": "python",
     "metadata": {},
     "outputs": [],
     "prompt_number": 709
    },
    {
     "cell_type": "code",
     "collapsed": false,
     "input": [
      "# store cost function values for plotting\n",
      "J_values = np.zeros((iterations,1))\n",
      "\n",
      "# gradient descent\n",
      "for iteration in xrange(0,iterations):\n",
      "    theta = theta - (alpha[a_index] * deltas())\n",
      "    J_values[iteration] = J()\n",
      "    \n",
      "# visualize the cost function (2-D)\n",
      "print J_values[0::10]\n",
      "cost_x = np.arange(iterations)\n",
      "cost_x.shape = (iterations,1)\n",
      "plt.plot(cost_x,J_values)\n",
      "plt.title(\"Learning Rate: \" + str(alpha[a_index]))\n",
      "plt.xlabel('iterations')\n",
      "plt.ylabel(r\"$J(\\theta)$\")\n",
      "plt.show()"
     ],
     "language": "python",
     "metadata": {},
     "outputs": [
      {
       "output_type": "stream",
       "stream": "stdout",
       "text": [
        "[[ 1960751.59740465]\n",
        " [ 1822296.38616408]\n",
        " [ 1791292.83955494]\n",
        " [ 1763087.48724464]\n",
        " [ 1737427.70660213]\n",
        " [ 1714083.68213878]\n",
        " [ 1692846.3462248 ]\n",
        " [ 1673525.50596202]\n",
        " [ 1655948.13916357]\n",
        " [ 1639956.84417335]\n",
        " [ 1625408.42963659]\n",
        " [ 1612172.63158663]\n",
        " [ 1600130.94635378]\n",
        " [ 1589175.56883975]\n",
        " [ 1579208.42664518]\n",
        " [ 1570140.30139665]\n",
        " [ 1561890.02940074]\n",
        " [ 1554383.77446343]\n",
        " [ 1547554.36635974]\n",
        " [ 1541340.69902665]\n",
        " [ 1535687.1830875 ]\n",
        " [ 1530543.24780276]\n",
        " [ 1525862.88798489]\n",
        " [ 1521604.25181801]\n",
        " [ 1517729.26588941]\n",
        " [ 1514203.29407337]\n",
        " [ 1510994.82721118]\n",
        " [ 1508075.20080694]\n",
        " [ 1505418.33820999]\n",
        " [ 1503000.51698292]\n",
        " [ 1500800.15636197]\n",
        " [ 1498797.62390569]\n",
        " [ 1496975.05959941]\n",
        " [ 1495316.21583964]\n",
        " [ 1493806.31186474]\n",
        " [ 1492431.90132777]\n",
        " [ 1491180.75182478]\n",
        " [ 1490041.73529947]\n",
        " [ 1489004.72834208]\n",
        " [ 1488060.52148945]\n",
        " [ 1487200.73671339]\n",
        " [ 1486417.75235837]\n",
        " [ 1485704.63485576]\n",
        " [ 1485055.07660306]\n",
        " [ 1484463.33945128]\n",
        " [ 1483924.20329446]\n",
        " [ 1483432.91930044]\n",
        " [ 1482985.16736403]\n",
        " [ 1482577.01740134]\n",
        " [ 1482204.89413843]\n",
        " [ 1481865.54507893]\n",
        " [ 1481556.01136347]\n",
        " [ 1481273.60126   ]\n",
        " [ 1481015.86604742]\n",
        " [ 1480780.57807642]\n",
        " [ 1480565.71081096]\n",
        " [ 1480369.42067174]\n",
        " [ 1480190.03051872]\n",
        " [ 1480026.01462492]\n",
        " [ 1479875.98500674]\n",
        " [ 1479738.67898847]\n",
        " [ 1479612.94788941]\n",
        " [ 1479497.74673229]\n",
        " [ 1479392.12488097]\n",
        " [ 1479295.21752319]\n",
        " [ 1479206.2379224 ]\n",
        " [ 1479124.470369  ]\n",
        " [ 1479049.26376804]\n",
        " [ 1478980.02580574]\n",
        " [ 1478916.2176427 ]\n",
        " [ 1478857.34908623]\n",
        " [ 1478802.97419848]\n",
        " [ 1478752.68730109]\n",
        " [ 1478706.11934055]\n",
        " [ 1478662.93458169]\n",
        " [ 1478622.82759968]\n",
        " [ 1478585.5205436 ]\n",
        " [ 1478550.76064704]\n",
        " [ 1478518.31796349]\n",
        " [ 1478487.9833061 ]\n",
        " [ 1478459.56637355]\n",
        " [ 1478432.89404499]\n",
        " [ 1478407.80882902]\n",
        " [ 1478384.16745263]\n",
        " [ 1478361.8395776 ]\n",
        " [ 1478340.70663269]\n",
        " [ 1478320.66075132]\n",
        " [ 1478301.60380517]\n",
        " [ 1478283.44652501]\n",
        " [ 1478266.10770086]\n",
        " [ 1478249.51345443]\n",
        " [ 1478233.59657719]\n",
        " [ 1478218.29592823]\n",
        " [ 1478203.55588648]\n",
        " [ 1478189.32585238]\n",
        " [ 1478175.55979448]\n",
        " [ 1478162.21583712]\n",
        " [ 1478149.25588518]\n",
        " [ 1478136.64528277]\n",
        " [ 1478124.35250276]]\n"
       ]
      },
      {
       "metadata": {},
       "output_type": "display_data",
       "png": "[encoded data removed]",
       "text": [
        "<matplotlib.figure.Figure at 0x115565fd0>"
       ]
      }
     ],
     "prompt_number": 710
    },
    {
     "cell_type": "code",
     "collapsed": false,
     "input": [
      "# calculate r^2 (after gradient descent) \n",
      "r_squared = 1 - np.sum((np.square(y - np.dot(X, theta))))/np.sum(np.square(y - np.mean(y)))\n",
      "print r_squared"
     ],
     "language": "python",
     "metadata": {},
     "outputs": [
      {
       "output_type": "stream",
       "stream": "stdout",
       "text": [
        "0.207739199797\n"
       ]
      }
     ],
     "prompt_number": 711
    },
    {
     "cell_type": "code",
     "collapsed": false,
     "input": [
      "# Normal Equation (an alternative to gradient descent)\n",
      "normal_eq_theta = (np.linalg.pinv(X.T.dot(X)).dot(X.T)).dot(y)\n",
      "#print normal_eq_theta"
     ],
     "language": "python",
     "metadata": {},
     "outputs": [],
     "prompt_number": 712
    },
    {
     "cell_type": "code",
     "collapsed": false,
     "input": [
      "# calculate r^2 (after normal equation)\n",
      "r_squared = 1 - np.sum((np.square(y - np.dot(X, normal_eq_theta))))/np.sum(np.square(y - np.mean(y)))\n",
      "print r_squared"
     ],
     "language": "python",
     "metadata": {},
     "outputs": [
      {
       "output_type": "stream",
       "stream": "stdout",
       "text": [
        "0.581030010829\n"
       ]
      }
     ],
     "prompt_number": 713
    },
    {
     "cell_type": "code",
     "collapsed": false,
     "input": [],
     "language": "python",
     "metadata": {},
     "outputs": [],
     "prompt_number": 713
    },
    {
     "cell_type": "code",
     "collapsed": false,
     "input": [
      "# matrix operations\n",
      "\n",
      "a = np.array([[1, 2],\n",
      "              [1, 4],\n",
      "              [1, 3]])\n",
      "b = np.array([[5],\n",
      "              [2],\n",
      "              [4]])\n",
      "c = np.array([[0],\n",
      "              [0]])\n",
      "\n",
      "#b * a\n",
      "print b.shape\n",
      "print a.shape\n",
      "print b.T.dot(a), (b.T.dot(a)).shape, (b.T.dot(a)).T.shape\n",
      "np.sum(b.T.dot(a))"
     ],
     "language": "python",
     "metadata": {},
     "outputs": [
      {
       "output_type": "stream",
       "stream": "stdout",
       "text": [
        "(3, 1)\n",
        "(3, 2)\n",
        "[[11 30]] (1, 2) (2, 1)\n"
       ]
      },
      {
       "metadata": {},
       "output_type": "pyout",
       "prompt_number": 714,
       "text": [
        "41"
       ]
      }
     ],
     "prompt_number": 714
    }
   ],
   "metadata": {}
  }
 ]
}