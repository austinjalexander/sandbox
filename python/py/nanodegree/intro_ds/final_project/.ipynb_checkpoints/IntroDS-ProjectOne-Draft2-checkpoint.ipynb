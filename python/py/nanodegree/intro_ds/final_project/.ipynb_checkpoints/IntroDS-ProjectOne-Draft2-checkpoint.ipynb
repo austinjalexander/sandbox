{
 "metadata": {
  "name": "",
  "signature": "sha256:370c056fb2e2de48163fff8443d257cb72cf41fa6b5609bab61fb9ec61aaab6e"
 },
 "nbformat": 3,
 "nbformat_minor": 0,
 "worksheets": [
  {
   "cells": [
    {
     "cell_type": "code",
     "collapsed": false,
     "input": [
      "import numpy as np\n",
      "import pandas as pd\n",
      "import matplotlib.pyplot as plt\n",
      "%matplotlib inline\n",
      "\n",
      "filename = '/Users/excalibur/py/nanodegree/intro_ds/final_project/improved-dataset/turnstile_weather_v2.csv'\n",
      "\n",
      "# import data\n",
      "data = pd.read_csv(filename)"
     ],
     "language": "python",
     "metadata": {},
     "outputs": [],
     "prompt_number": 510
    },
    {
     "cell_type": "markdown",
     "metadata": {},
     "source": [
      "##INITIAL DATA EXPLORATION"
     ]
    },
    {
     "cell_type": "code",
     "collapsed": false,
     "input": [
      "print \"SHAPE: \" + str(data.shape)\n",
      "data.head(3)"
     ],
     "language": "python",
     "metadata": {},
     "outputs": [
      {
       "output_type": "stream",
       "stream": "stdout",
       "text": [
        "SHAPE: (42649, 27)\n"
       ]
      },
      {
       "html": [
        "<div style=\"max-height:1000px;max-width:1500px;overflow:auto;\">\n",
        "<table border=\"1\" class=\"dataframe\">\n",
        "  <thead>\n",
        "    <tr style=\"text-align: right;\">\n",
        "      <th></th>\n",
        "      <th>UNIT</th>\n",
        "      <th>DATEn</th>\n",
        "      <th>TIMEn</th>\n",
        "      <th>ENTRIESn</th>\n",
        "      <th>EXITSn</th>\n",
        "      <th>ENTRIESn_hourly</th>\n",
        "      <th>EXITSn_hourly</th>\n",
        "      <th>datetime</th>\n",
        "      <th>hour</th>\n",
        "      <th>day_week</th>\n",
        "      <th>...</th>\n",
        "      <th>pressurei</th>\n",
        "      <th>rain</th>\n",
        "      <th>tempi</th>\n",
        "      <th>wspdi</th>\n",
        "      <th>meanprecipi</th>\n",
        "      <th>meanpressurei</th>\n",
        "      <th>meantempi</th>\n",
        "      <th>meanwspdi</th>\n",
        "      <th>weather_lat</th>\n",
        "      <th>weather_lon</th>\n",
        "    </tr>\n",
        "  </thead>\n",
        "  <tbody>\n",
        "    <tr>\n",
        "      <th>0</th>\n",
        "      <td> R003</td>\n",
        "      <td> 05-01-11</td>\n",
        "      <td> 00:00:00</td>\n",
        "      <td> 4388333</td>\n",
        "      <td> 2911002</td>\n",
        "      <td> 0</td>\n",
        "      <td> 0</td>\n",
        "      <td> 2011-05-01 00:00:00</td>\n",
        "      <td>  0</td>\n",
        "      <td> 6</td>\n",
        "      <td>...</td>\n",
        "      <td> 30.22</td>\n",
        "      <td> 0</td>\n",
        "      <td> 55.9</td>\n",
        "      <td> 3.5</td>\n",
        "      <td> 0</td>\n",
        "      <td> 30.258</td>\n",
        "      <td> 55.98</td>\n",
        "      <td> 7.86</td>\n",
        "      <td> 40.700348</td>\n",
        "      <td>-73.887177</td>\n",
        "    </tr>\n",
        "    <tr>\n",
        "      <th>1</th>\n",
        "      <td> R003</td>\n",
        "      <td> 05-01-11</td>\n",
        "      <td> 04:00:00</td>\n",
        "      <td> 4388333</td>\n",
        "      <td> 2911002</td>\n",
        "      <td> 0</td>\n",
        "      <td> 0</td>\n",
        "      <td> 2011-05-01 04:00:00</td>\n",
        "      <td>  4</td>\n",
        "      <td> 6</td>\n",
        "      <td>...</td>\n",
        "      <td> 30.25</td>\n",
        "      <td> 0</td>\n",
        "      <td> 52.0</td>\n",
        "      <td> 3.5</td>\n",
        "      <td> 0</td>\n",
        "      <td> 30.258</td>\n",
        "      <td> 55.98</td>\n",
        "      <td> 7.86</td>\n",
        "      <td> 40.700348</td>\n",
        "      <td>-73.887177</td>\n",
        "    </tr>\n",
        "    <tr>\n",
        "      <th>2</th>\n",
        "      <td> R003</td>\n",
        "      <td> 05-01-11</td>\n",
        "      <td> 12:00:00</td>\n",
        "      <td> 4388333</td>\n",
        "      <td> 2911002</td>\n",
        "      <td> 0</td>\n",
        "      <td> 0</td>\n",
        "      <td> 2011-05-01 12:00:00</td>\n",
        "      <td> 12</td>\n",
        "      <td> 6</td>\n",
        "      <td>...</td>\n",
        "      <td> 30.28</td>\n",
        "      <td> 0</td>\n",
        "      <td> 62.1</td>\n",
        "      <td> 6.9</td>\n",
        "      <td> 0</td>\n",
        "      <td> 30.258</td>\n",
        "      <td> 55.98</td>\n",
        "      <td> 7.86</td>\n",
        "      <td> 40.700348</td>\n",
        "      <td>-73.887177</td>\n",
        "    </tr>\n",
        "  </tbody>\n",
        "</table>\n",
        "<p>3 rows \u00d7 27 columns</p>\n",
        "</div>"
       ],
       "metadata": {},
       "output_type": "pyout",
       "prompt_number": 511,
       "text": [
        "   UNIT     DATEn     TIMEn  ENTRIESn   EXITSn  ENTRIESn_hourly  \\\n",
        "0  R003  05-01-11  00:00:00   4388333  2911002                0   \n",
        "1  R003  05-01-11  04:00:00   4388333  2911002                0   \n",
        "2  R003  05-01-11  12:00:00   4388333  2911002                0   \n",
        "\n",
        "   EXITSn_hourly             datetime  hour  day_week     ...       pressurei  \\\n",
        "0              0  2011-05-01 00:00:00     0         6     ...           30.22   \n",
        "1              0  2011-05-01 04:00:00     4         6     ...           30.25   \n",
        "2              0  2011-05-01 12:00:00    12         6     ...           30.28   \n",
        "\n",
        "  rain  tempi  wspdi meanprecipi  meanpressurei  meantempi  meanwspdi  \\\n",
        "0    0   55.9    3.5           0         30.258      55.98       7.86   \n",
        "1    0   52.0    3.5           0         30.258      55.98       7.86   \n",
        "2    0   62.1    6.9           0         30.258      55.98       7.86   \n",
        "\n",
        "   weather_lat  weather_lon  \n",
        "0    40.700348   -73.887177  \n",
        "1    40.700348   -73.887177  \n",
        "2    40.700348   -73.887177  \n",
        "\n",
        "[3 rows x 27 columns]"
       ]
      }
     ],
     "prompt_number": 511
    },
    {
     "cell_type": "code",
     "collapsed": false,
     "input": [
      "print \"COLUMNAR DATA TYPES\"\n",
      "data.dtypes"
     ],
     "language": "python",
     "metadata": {},
     "outputs": [
      {
       "output_type": "stream",
       "stream": "stdout",
       "text": [
        "COLUMNAR DATA TYPES\n"
       ]
      },
      {
       "metadata": {},
       "output_type": "pyout",
       "prompt_number": 512,
       "text": [
        "UNIT                object\n",
        "DATEn               object\n",
        "TIMEn               object\n",
        "ENTRIESn             int64\n",
        "EXITSn               int64\n",
        "ENTRIESn_hourly    float64\n",
        "EXITSn_hourly      float64\n",
        "datetime            object\n",
        "hour                 int64\n",
        "day_week             int64\n",
        "weekday              int64\n",
        "station             object\n",
        "latitude           float64\n",
        "longitude          float64\n",
        "conds               object\n",
        "fog                  int64\n",
        "precipi            float64\n",
        "pressurei          float64\n",
        "rain                 int64\n",
        "tempi              float64\n",
        "wspdi              float64\n",
        "meanprecipi        float64\n",
        "meanpressurei      float64\n",
        "meantempi          float64\n",
        "meanwspdi          float64\n",
        "weather_lat        float64\n",
        "weather_lon        float64\n",
        "dtype: object"
       ]
      }
     ],
     "prompt_number": 512
    },
    {
     "cell_type": "code",
     "collapsed": false,
     "input": [
      "data['ENTRIESn'].describe()"
     ],
     "language": "python",
     "metadata": {},
     "outputs": [
      {
       "metadata": {},
       "output_type": "pyout",
       "prompt_number": 513,
       "text": [
        "count    4.264900e+04\n",
        "mean     2.812486e+07\n",
        "std      3.043607e+07\n",
        "min      0.000000e+00\n",
        "25%      1.039762e+07\n",
        "50%      1.818389e+07\n",
        "75%      3.263049e+07\n",
        "max      2.357746e+08\n",
        "Name: ENTRIESn, dtype: float64"
       ]
      }
     ],
     "prompt_number": 513
    },
    {
     "cell_type": "code",
     "collapsed": false,
     "input": [
      "data['ENTRIESn_hourly'].describe()"
     ],
     "language": "python",
     "metadata": {},
     "outputs": [
      {
       "metadata": {},
       "output_type": "pyout",
       "prompt_number": 514,
       "text": [
        "count    42649.000000\n",
        "mean      1886.589955\n",
        "std       2952.385585\n",
        "min          0.000000\n",
        "25%        274.000000\n",
        "50%        905.000000\n",
        "75%       2255.000000\n",
        "max      32814.000000\n",
        "Name: ENTRIESn_hourly, dtype: float64"
       ]
      }
     ],
     "prompt_number": 514
    },
    {
     "cell_type": "code",
     "collapsed": false,
     "input": [
      "### columnar data to explore\n",
      "#units = data['UNIT'].unique()\n",
      "#dates = data['DATEn'].unique()\n",
      "#hours = data['hour'].unique()\n",
      "#days_of_week = data['day_week'].unique()\n",
      "#stations = data['station'].unique()\n",
      "#latitudes = data['latitude'].unique()\n",
      "#longitudes = data['longitude'].unique()"
     ],
     "language": "python",
     "metadata": {},
     "outputs": [],
     "prompt_number": 538
    },
    {
     "cell_type": "markdown",
     "metadata": {},
     "source": [
      "###UNIT STATISTICS"
     ]
    },
    {
     "cell_type": "code",
     "collapsed": false,
     "input": [
      "unit_instances = data['UNIT'].values\n",
      "entries_hourly_by_row = data['ENTRIESn_hourly'].values\n",
      "\n",
      "# reduce\n",
      "unit_entries_hourly = {}\n",
      "for i in np.arange(len(unit_instances)):\n",
      "    if unit_instances[i] in unit_entries_hourly:\n",
      "        unit_entries_hourly[unit_instances[i]] += float(entries_hourly_by_row[i])\n",
      "    else:\n",
      "        unit_entries_hourly[unit_instances[i]] = float(entries_hourly_by_row[i])\n",
      "\n",
      "#print unit_entries_hourly\n",
      "units = unit_entries_hourly.keys()\n",
      "entries = unit_entries_hourly.values()"
     ],
     "language": "python",
     "metadata": {},
     "outputs": [],
     "prompt_number": 516
    },
    {
     "cell_type": "code",
     "collapsed": false,
     "input": [
      "unit_df = pd.DataFrame(data=unit_entries_hourly.items(), columns=['unit','entries'])\n",
      "\n",
      "print \"UNITS AND THEIR ENTRIES\"\n",
      "print unit_df.head(3)\n",
      "\n",
      "print\n",
      "print unit_df.describe()\n",
      "print \"{:<7}\".format('range') + \"{:0<14}\".format(str(np.ptp(entries)))"
     ],
     "language": "python",
     "metadata": {},
     "outputs": [
      {
       "output_type": "stream",
       "stream": "stdout",
       "text": [
        "UNITS AND THEIR ENTRIES\n",
        "   unit  entries\n",
        "0  R318   112098\n",
        "1  R319   254531\n",
        "2  R312    73913\n",
        "\n",
        "              entries\n",
        "count      240.000000\n",
        "mean    335254.895833\n",
        "std     334849.388932\n",
        "min          0.000000\n",
        "25%     131148.000000\n",
        "50%     221479.500000\n",
        "75%     409285.750000\n",
        "max    1868674.000000\n",
        "range  1868674.000000\n"
       ]
      }
     ],
     "prompt_number": 517
    },
    {
     "cell_type": "code",
     "collapsed": false,
     "input": [
      "unit_df.plot(title='UNITS AND THEIR ENTRIES')\n",
      "plt.xlabel('unit row index')\n",
      "plt.ylabel('unit entries')\n",
      "plt.show()"
     ],
     "language": "python",
     "metadata": {},
     "outputs": [
      {
       "metadata": {},
       "output_type": "display_data",
       "png": "[encoded data removed]",
       "text": [
        "<matplotlib.figure.Figure at 0x11794e0d0>"
       ]
      }
     ],
     "prompt_number": 518
    },
    {
     "cell_type": "markdown",
     "metadata": {},
     "source": [
      "###DATE STATISTICS"
     ]
    },
    {
     "cell_type": "code",
     "collapsed": false,
     "input": [
      "date_instances = data['DATEn'].values\n",
      "entries_hourly_by_row = data['ENTRIESn_hourly'].values\n",
      "\n",
      "# reduce\n",
      "date_entries_hourly = {}\n",
      "for i in np.arange(len(date_instances)):\n",
      "    if date_instances[i] in date_entries_hourly:\n",
      "        date_entries_hourly[date_instances[i]] += float(entries_hourly_by_row[i])\n",
      "    else:\n",
      "        date_entries_hourly[date_instances[i]] = float(entries_hourly_by_row[i])\n",
      "\n",
      "dates = date_entries_hourly.keys()\n",
      "entries = date_entries_hourly.values()"
     ],
     "language": "python",
     "metadata": {},
     "outputs": [],
     "prompt_number": 519
    },
    {
     "cell_type": "code",
     "collapsed": false,
     "input": [
      "date_df = pd.DataFrame(data=date_entries_hourly.items(), columns=['date','entries'])\n",
      "\n",
      "print \"DATES AND THEIR ENTRIES\"\n",
      "print date_df.head(3)\n",
      "\n",
      "print\n",
      "print date_df.describe()\n",
      "print \"{:<7}\".format('range') + \"{:0<14}\".format(str(np.ptp(entries)))"
     ],
     "language": "python",
     "metadata": {},
     "outputs": [
      {
       "output_type": "stream",
       "stream": "stdout",
       "text": [
        "DATES AND THEIR ENTRIES\n",
        "       date  entries\n",
        "0  05-30-11  1409572\n",
        "1  05-15-11  1413929\n",
        "2  05-04-11  3118915\n",
        "\n",
        "              entries\n",
        "count       31.000000\n",
        "mean   2595521.774194\n",
        "std     710440.834289\n",
        "min    1400098.000000\n",
        "25%    1891834.000000\n",
        "50%    3009536.000000\n",
        "75%    3137683.000000\n",
        "max    3201840.000000\n",
        "range  1801742.000000\n"
       ]
      }
     ],
     "prompt_number": 520
    },
    {
     "cell_type": "code",
     "collapsed": false,
     "input": [
      "date_df.plot(title='DATES AND THEIR ENTRIES')\n",
      "plt.xlabel('date row index')\n",
      "plt.ylabel('date entries')\n",
      "plt.show()"
     ],
     "language": "python",
     "metadata": {},
     "outputs": [
      {
       "metadata": {},
       "output_type": "display_data",
       "png": "[encoded data removed]",
       "text": [
        "<matplotlib.figure.Figure at 0x114ea3190>"
       ]
      }
     ],
     "prompt_number": 521
    },
    {
     "cell_type": "markdown",
     "metadata": {},
     "source": [
      "###HOUR STATISTICS"
     ]
    },
    {
     "cell_type": "code",
     "collapsed": false,
     "input": [
      "hour_instances = data['hour'].values\n",
      "entries_hourly_by_row = data['ENTRIESn_hourly'].values\n",
      "\n",
      "# reduce\n",
      "hour_entries_hourly = {}\n",
      "for i in np.arange(len(hour_instances)):\n",
      "    if hour_instances[i] in hour_entries_hourly:\n",
      "        hour_entries_hourly[hour_instances[i]] += float(entries_hourly_by_row[i])\n",
      "    else:\n",
      "        hour_entries_hourly[hour_instances[i]] = float(entries_hourly_by_row[i])\n",
      "\n",
      "hours = hour_entries_hourly.keys()\n",
      "entries = hour_entries_hourly.values()"
     ],
     "language": "python",
     "metadata": {},
     "outputs": [],
     "prompt_number": 522
    },
    {
     "cell_type": "code",
     "collapsed": false,
     "input": [
      "hour_df = pd.DataFrame(data=hour_entries_hourly.items(), columns=['hour','entries'])\n",
      "\n",
      "print \"HOURS AND THEIR ENTRIES\"\n",
      "print hour_df.head(3)\n",
      "\n",
      "print \n",
      "print pd.DataFrame(hour_df['entries']).describe()\n",
      "print \"{:<7}\".format('range') + \"{:0<15}\".format(str(np.ptp(entries)))"
     ],
     "language": "python",
     "metadata": {},
     "outputs": [
      {
       "output_type": "stream",
       "stream": "stdout",
       "text": [
        "HOURS AND THEIR ENTRIES\n",
        "   hour   entries\n",
        "0     0  10353167\n",
        "1     4   2300788\n",
        "2     8   5198583\n",
        "\n",
        "               entries\n",
        "count         6.000000\n",
        "mean   13410195.833333\n",
        "std     8863957.086415\n",
        "min     2300788.000000\n",
        "25%     6487229.000000\n",
        "50%    13593103.500000\n",
        "75%    20772247.000000\n",
        "max    23690281.000000\n",
        "range  21389493.000000\n"
       ]
      }
     ],
     "prompt_number": 523
    },
    {
     "cell_type": "code",
     "collapsed": false,
     "input": [
      "hour_df.plot(x='hour', y='entries', title='HOURS AND THEIR ENTRIES')\n",
      "plt.xlabel('hour')\n",
      "plt.ylabel('hour entries')\n",
      "plt.legend(['entries'])\n",
      "plt.ylim(np.min(entries), np.max(entries))\n",
      "plt.show()"
     ],
     "language": "python",
     "metadata": {},
     "outputs": [
      {
       "metadata": {},
       "output_type": "display_data",
       "png": "[encoded data removed]",
       "text": [
        "<matplotlib.figure.Figure at 0x115b61c10>"
       ]
      }
     ],
     "prompt_number": 524
    },
    {
     "cell_type": "markdown",
     "metadata": {},
     "source": [
      "###DAYS OF WEEK STATISTICS"
     ]
    },
    {
     "cell_type": "code",
     "collapsed": false,
     "input": [
      "days_of_week_instances = data['day_week'].values\n",
      "entries_hourly_by_row = data['ENTRIESn_hourly'].values\n",
      "\n",
      "# reduce\n",
      "days_of_week_entries_hourly = {}\n",
      "for i in np.arange(len(days_of_week_instances)):\n",
      "    if days_of_week_instances[i] in days_of_week_entries_hourly:\n",
      "        days_of_week_entries_hourly[days_of_week_instances[i]] += float(entries_hourly_by_row[i])\n",
      "    else:\n",
      "        days_of_week_entries_hourly[days_of_week_instances[i]] = float(entries_hourly_by_row[i])\n",
      "\n",
      "days_of_week = days_of_week_entries_hourly.keys()\n",
      "entries = days_of_week_entries_hourly.values()"
     ],
     "language": "python",
     "metadata": {},
     "outputs": [],
     "prompt_number": 560
    },
    {
     "cell_type": "code",
     "collapsed": false,
     "input": [
      "days_of_week_df = pd.DataFrame(data=days_of_week_entries_hourly.items(), columns=['day_week','entries'])\n",
      "\n",
      "print \"DAYS OF WEEK AND THEIR ENTRIES\"\n",
      "print days_of_week_df.head(3)\n",
      "\n",
      "print \n",
      "print pd.DataFrame(days_of_week_df['entries']).describe()\n",
      "print \"{:<8}\".format('range') + \"{:0<14}\".format(str(np.ptp(entries)))"
     ],
     "language": "python",
     "metadata": {},
     "outputs": [
      {
       "output_type": "stream",
       "stream": "stdout",
       "text": [
        "DAYS OF WEEK AND THEIR ENTRIES\n",
        "   day_week   entries\n",
        "0         0  12795107\n",
        "1         1  15246943\n",
        "2         2  12592691\n",
        "\n",
        "               entries\n",
        "count         7.000000\n",
        "mean   11494453.571429\n",
        "std     2989933.638739\n",
        "min     7218706.000000\n",
        "25%     9949293.000000\n",
        "50%    12592691.000000\n",
        "75%    12752124.500000\n",
        "max    15246943.000000\n",
        "range   8028237.000000\n"
       ]
      }
     ],
     "prompt_number": 561
    },
    {
     "cell_type": "code",
     "collapsed": false,
     "input": [
      "days_of_week_df.plot(x='day_week', y='entries', title='DAYS OF WEEK AND THEIR ENTRIES')\n",
      "plt.xlabel('day of week')\n",
      "plt.ylabel('day of week entries')\n",
      "plt.legend(['entries'])\n",
      "plt.ylim(np.min(entries), np.max(entries))\n",
      "plt.show()"
     ],
     "language": "python",
     "metadata": {},
     "outputs": [
      {
       "metadata": {},
       "output_type": "display_data",
       "png": "[encoded data removed]",
       "text": [
        "<matplotlib.figure.Figure at 0x11a044b10>"
       ]
      }
     ],
     "prompt_number": 563
    },
    {
     "cell_type": "markdown",
     "metadata": {},
     "source": [
      "###STATION STATISTICS"
     ]
    },
    {
     "cell_type": "code",
     "collapsed": false,
     "input": [
      "station_instances = data['station'].values\n",
      "entries_hourly_by_row = data['ENTRIESn_hourly'].values\n",
      "\n",
      "# reduce\n",
      "station_entries_hourly = {}\n",
      "for i in np.arange(len(station_instances)):\n",
      "    if station_instances[i] in station_entries_hourly:\n",
      "        station_entries_hourly[station_instances[i]] += float(entries_hourly_by_row[i])\n",
      "    else:\n",
      "        station_entries_hourly[station_instances[i]] = float(entries_hourly_by_row[i])\n",
      "\n",
      "stations = station_entries_hourly.keys()\n",
      "entries = station_entries_hourly.values()"
     ],
     "language": "python",
     "metadata": {},
     "outputs": [],
     "prompt_number": 527
    },
    {
     "cell_type": "code",
     "collapsed": false,
     "input": [
      "station_df = pd.DataFrame(data=station_entries_hourly.items(), columns=['station','entries'])\n",
      "\n",
      "print \"STATIONS AND THEIR ENTRIES\"\n",
      "print station_df.head(3)\n",
      "\n",
      "print\n",
      "print station_df.describe()\n",
      "print \"{:<7}\".format('range') + \"{:0<14}\".format(str(np.ptp(entries)))"
     ],
     "language": "python",
     "metadata": {},
     "outputs": [
      {
       "output_type": "stream",
       "stream": "stdout",
       "text": [
        "STATIONS AND THEIR ENTRIES\n",
        "           station  entries\n",
        "0  LEXINGTON-53 ST   930423\n",
        "1           207 ST   160382\n",
        "2      BEACH 67 ST    82119\n",
        "\n",
        "              entries\n",
        "count      207.000000\n",
        "mean    388701.328502\n",
        "std     457501.301121\n",
        "min          0.000000\n",
        "25%     140102.000000\n",
        "50%     225183.000000\n",
        "75%     473735.000000\n",
        "max    2920887.000000\n",
        "range  2920887.000000\n"
       ]
      }
     ],
     "prompt_number": 528
    },
    {
     "cell_type": "code",
     "collapsed": false,
     "input": [
      "station_df.plot(title='STATIONS AND THEIR ENTRIES')\n",
      "plt.xlabel('station row index')\n",
      "plt.ylabel('station entries')\n",
      "plt.show()"
     ],
     "language": "python",
     "metadata": {},
     "outputs": [
      {
       "metadata": {},
       "output_type": "display_data",
       "png": "[encoded data removed]",
       "text": [
        "<matplotlib.figure.Figure at 0x116faabd0>"
       ]
      }
     ],
     "prompt_number": 558
    },
    {
     "cell_type": "markdown",
     "metadata": {},
     "source": [
      "###LATITUDE STATISTICS"
     ]
    },
    {
     "cell_type": "code",
     "collapsed": false,
     "input": [
      "latitude_instances = data['latitude'].values\n",
      "entries_hourly_by_row = data['ENTRIESn_hourly'].values\n",
      "\n",
      "# reduce\n",
      "latitude_entries_hourly = {}\n",
      "for i in np.arange(len(latitude_instances)):\n",
      "    if latitude_instances[i] in latitude_entries_hourly:\n",
      "        latitude_entries_hourly[latitude_instances[i]] += float(entries_hourly_by_row[i])\n",
      "    else:\n",
      "        latitude_entries_hourly[latitude_instances[i]] = float(entries_hourly_by_row[i])\n",
      "\n",
      "latitudes = latitude_entries_hourly.keys()\n",
      "entries = latitude_entries_hourly.values()"
     ],
     "language": "python",
     "metadata": {},
     "outputs": [],
     "prompt_number": 552
    },
    {
     "cell_type": "code",
     "collapsed": false,
     "input": [
      "latitude_df = pd.DataFrame(data=latitude_entries_hourly.items(), columns=['latitude','entries'])\n",
      "\n",
      "print \"LATITUDES AND THEIR ENTRIES\"\n",
      "print latitude_df.head(3)\n",
      "\n",
      "print \n",
      "print pd.DataFrame(latitude_df['latitude']).describe()\n",
      "print pd.DataFrame(latitude_df['entries']).describe()\n",
      "print \"{:<7}\".format('range') + \"{:0<14}\".format(str(np.ptp(entries)))"
     ],
     "language": "python",
     "metadata": {},
     "outputs": [
      {
       "output_type": "stream",
       "stream": "stdout",
       "text": [
        "LATITUDES AND THEIR ENTRIES\n",
        "    latitude  entries\n",
        "0  40.852417     7559\n",
        "1  40.707840   209745\n",
        "2  40.643982   102508\n",
        "\n",
        "         latitude\n",
        "count  233.000000\n",
        "mean    40.724324\n",
        "std      0.073508\n",
        "min     40.576152\n",
        "25%     40.675382\n",
        "50%     40.714590\n",
        "75%     40.759578\n",
        "max     40.889185\n",
        "              entries\n",
        "count      233.000000\n",
        "mean    345326.931330\n",
        "std     393653.267874\n",
        "min          0.000000\n",
        "25%     131511.000000\n",
        "50%     218938.000000\n",
        "75%     402883.000000\n",
        "max    2920887.000000\n",
        "range  2920887.000000\n"
       ]
      }
     ],
     "prompt_number": 553
    },
    {
     "cell_type": "code",
     "collapsed": false,
     "input": [
      "latitude_df.plot(x='latitude', y='entries', title='LATITUDES AND THEIR ENTRIES', kind='scatter')\n",
      "plt.xlabel('latitude')\n",
      "plt.ylabel('latitude entries')\n",
      "plt.legend(['entries'])\n",
      "plt.show()"
     ],
     "language": "python",
     "metadata": {},
     "outputs": [
      {
       "metadata": {},
       "output_type": "display_data",
       "png": "[encoded data removed]",
       "text": [
        "<matplotlib.figure.Figure at 0x118899dd0>"
       ]
      }
     ],
     "prompt_number": 556
    },
    {
     "cell_type": "code",
     "collapsed": false,
     "input": [],
     "language": "python",
     "metadata": {},
     "outputs": []
    },
    {
     "cell_type": "markdown",
     "metadata": {},
     "source": [
      "###LONGITUDE STATISTICS"
     ]
    },
    {
     "cell_type": "code",
     "collapsed": false,
     "input": [
      "longitude_instances = data['longitude'].values\n",
      "entries_hourly_by_row = data['ENTRIESn_hourly'].values\n",
      "\n",
      "# reduce\n",
      "longitude_entries_hourly = {}\n",
      "for i in np.arange(len(longitude_instances)):\n",
      "    if longitude_instances[i] in longitude_entries_hourly:\n",
      "        longitude_entries_hourly[longitude_instances[i]] += float(entries_hourly_by_row[i])\n",
      "    else:\n",
      "        longitude_entries_hourly[longitude_instances[i]] = float(entries_hourly_by_row[i])\n",
      "\n",
      "longitudes = longitude_entries_hourly.keys()\n",
      "entries = longitude_entries_hourly.values()"
     ],
     "language": "python",
     "metadata": {},
     "outputs": [],
     "prompt_number": 564
    },
    {
     "cell_type": "code",
     "collapsed": false,
     "input": [
      "def get_column_values_and_reduce(column1, column2):\n",
      "    instances = \n",
      "    \n",
      "    return keys, values"
     ],
     "language": "python",
     "metadata": {},
     "outputs": []
    },
    {
     "cell_type": "code",
     "collapsed": false,
     "input": [
      "longitude_df = pd.DataFrame(data=longitude_entries_hourly.items(), columns=['longitude','entries'])\n",
      "\n",
      "print \"LONGITUDES AND THEIR ENTRIES\"\n",
      "print longitude_df.head(3)\n",
      "\n",
      "print \n",
      "print pd.DataFrame(longitude_df['longitude']).describe()\n",
      "print pd.DataFrame(longitude_df['entries']).describe()\n",
      "print \"{:<7}\".format('range') + \"{:0<14}\".format(str(np.ptp(entries)))"
     ],
     "language": "python",
     "metadata": {},
     "outputs": [
      {
       "output_type": "stream",
       "stream": "stdout",
       "text": [
        "LONGITUDES AND THEIR ENTRIES\n",
        "   longitude  entries\n",
        "0 -73.977417   911174\n",
        "1 -73.828125   193792\n",
        "2 -74.014099   694605\n",
        "\n",
        "        longitude\n",
        "count  234.000000\n",
        "mean   -73.938272\n",
        "std      0.060382\n",
        "min    -74.073622\n",
        "25%    -73.986375\n",
        "50%    -73.950959\n",
        "75%    -73.904319\n",
        "max    -73.755383\n",
        "              entries\n",
        "count      234.000000\n",
        "mean    343851.175214\n",
        "std     393424.158576\n",
        "min          0.000000\n",
        "25%     130422.000000\n",
        "50%     217648.000000\n",
        "75%     402551.250000\n",
        "max    2920887.000000\n",
        "range  2920887.000000\n"
       ]
      }
     ],
     "prompt_number": 565
    },
    {
     "cell_type": "code",
     "collapsed": false,
     "input": [
      "longitude_df.plot(x='longitude', y='entries', title='LONGITUDES AND THEIR ENTRIES', kind='scatter')\n",
      "plt.xlabel('longitude')\n",
      "plt.ylabel('longitude entries')\n",
      "plt.legend(['entries'])\n",
      "plt.show()"
     ],
     "language": "python",
     "metadata": {},
     "outputs": [
      {
       "metadata": {},
       "output_type": "display_data",
       "png": "[encoded data removed]",
       "text": [
        "<matplotlib.figure.Figure at 0x11636e650>"
       ]
      }
     ],
     "prompt_number": 566
    },
    {
     "cell_type": "code",
     "collapsed": false,
     "input": [
      "#histogram of long and lat"
     ],
     "language": "python",
     "metadata": {},
     "outputs": [],
     "prompt_number": 530
    },
    {
     "cell_type": "code",
     "collapsed": false,
     "input": [],
     "language": "python",
     "metadata": {},
     "outputs": [],
     "prompt_number": 530
    },
    {
     "cell_type": "code",
     "collapsed": false,
     "input": [],
     "language": "python",
     "metadata": {},
     "outputs": [],
     "prompt_number": 530
    },
    {
     "cell_type": "code",
     "collapsed": false,
     "input": [],
     "language": "python",
     "metadata": {},
     "outputs": [],
     "prompt_number": 530
    },
    {
     "cell_type": "code",
     "collapsed": false,
     "input": [],
     "language": "python",
     "metadata": {},
     "outputs": [],
     "prompt_number": 530
    },
    {
     "cell_type": "code",
     "collapsed": false,
     "input": [],
     "language": "python",
     "metadata": {},
     "outputs": [],
     "prompt_number": 530
    },
    {
     "cell_type": "code",
     "collapsed": false,
     "input": [],
     "language": "python",
     "metadata": {},
     "outputs": [],
     "prompt_number": 530
    },
    {
     "cell_type": "markdown",
     "metadata": {},
     "source": [
      "##Section 1: Statistical Test"
     ]
    },
    {
     "cell_type": "markdown",
     "metadata": {},
     "source": [
      "###1.a Which statistical test did you use to analyze the NYC subway data?"
     ]
    },
    {
     "cell_type": "markdown",
     "metadata": {},
     "source": [
      "###1.b Did you use a one-tail or a two-tail P value?"
     ]
    },
    {
     "cell_type": "markdown",
     "metadata": {},
     "source": [
      "###1.c What is the null hypothesis?"
     ]
    }
   ],
   "metadata": {}
  }
 ]
}