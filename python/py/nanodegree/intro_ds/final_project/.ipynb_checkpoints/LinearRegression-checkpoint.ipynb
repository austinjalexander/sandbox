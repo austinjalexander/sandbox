{
 "metadata": {
  "name": "",
  "signature": "sha256:4af6ad2b5bfdc14fce26634dd1028a2aa1cc2534c1d6d887f74d0d8a89b26c4a"
 },
 "nbformat": 3,
 "nbformat_minor": 0,
 "worksheets": [
  {
   "cells": [
    {
     "cell_type": "code",
     "collapsed": false,
     "input": [
      "import numpy as np\n",
      "import pandas as pd\n",
      "import scipy as sp\n",
      "import scipy.stats as st\n",
      "import statsmodels.api as sm\n",
      "from sklearn import linear_model\n",
      "from sklearn.metrics import r2_score\n",
      "import matplotlib.pyplot as plt\n",
      "%matplotlib inline"
     ],
     "language": "python",
     "metadata": {},
     "outputs": [],
     "prompt_number": 102
    },
    {
     "cell_type": "code",
     "collapsed": false,
     "input": [
      "### linearly related, 1 feature\n",
      "X = [x for x in np.arange(600)]\n",
      "y = [(2*x) for x in X]\n",
      "plt.scatter(X, y)\n",
      "plt.show()\n",
      "\n",
      "### not linearly related, 1 feature\n",
      "#np.random.shuffle(X)\n",
      "#plt.scatter(X, y)\n",
      "#plt.show()\n",
      "\n",
      "### not linearly related, 2 features\n",
      "#X1 = np.array(X)\n",
      "#X1.shape = (600,1)\n",
      "#X2 = X1\n",
      "#np.random.shuffle(X2)\n",
      "#X = np.hstack((X1,X2))\n",
      "#X.shape"
     ],
     "language": "python",
     "metadata": {},
     "outputs": [
      {
       "metadata": {},
       "output_type": "display_data",
       "png": "[encoded data removed]",
       "text": [
        "<matplotlib.figure.Figure at 0x10c352950>"
       ]
      }
     ],
     "prompt_number": 103
    },
    {
     "cell_type": "code",
     "collapsed": false,
     "input": [
      "def get_sample(X,y):\n",
      "    indices = np.random.choice(np.arange(600), size=10, replace=False)\n",
      "    sample_X = []\n",
      "    sample_y = []\n",
      "\n",
      "    for i in indices:\n",
      "        sample_X.append(X[i])\n",
      "        sample_y.append(y[i])\n",
      "    \n",
      "    return sample_X, sample_y"
     ],
     "language": "python",
     "metadata": {},
     "outputs": [],
     "prompt_number": 104
    },
    {
     "cell_type": "code",
     "collapsed": false,
     "input": [
      "train_X, train_y = get_sample(X,y)\n",
      "\n",
      "train_X = sm.add_constant(train_X)\n",
      "model = sm.OLS(train_y, train_X)\n",
      "results = model.fit()\n",
      "#print results.params\n",
      "#print results.tvalues\n",
      "#print results.rsquared\n",
      "print results.summary()"
     ],
     "language": "python",
     "metadata": {},
     "outputs": [
      {
       "output_type": "stream",
       "stream": "stdout",
       "text": [
        "                            OLS Regression Results                            \n",
        "==============================================================================\n",
        "Dep. Variable:                      y   R-squared:                       1.000\n",
        "Model:                            OLS   Adj. R-squared:                  1.000\n",
        "Method:                 Least Squares   F-statistic:                 2.011e+31\n",
        "Date:                Thu, 08 Jan 2015   Prob (F-statistic):          6.84e-123\n",
        "Time:                        22:27:58   Log-Likelihood:                 277.17\n",
        "No. Observations:                  10   AIC:                            -550.3\n",
        "Df Residuals:                       8   BIC:                            -549.7\n",
        "Df Model:                           1                                         \n",
        "Covariance Type:            nonrobust                                         \n",
        "==============================================================================\n",
        "                 coef    std err          t      P>|t|      [95.0% Conf. Int.]\n",
        "------------------------------------------------------------------------------\n",
        "const       -1.99e-13   1.83e-13     -1.086      0.309     -6.21e-13  2.24e-13\n",
        "x1             2.0000   4.46e-16   4.48e+15      0.000         2.000     2.000\n",
        "==============================================================================\n",
        "Omnibus:                        7.486   Durbin-Watson:                   0.007\n",
        "Prob(Omnibus):                  0.024   Jarque-Bera (JB):                3.776\n",
        "Skew:                          -1.500   Prob(JB):                        0.151\n",
        "Kurtosis:                       3.250   Cond. No.                         959.\n",
        "==============================================================================\n",
        "\n",
        "Warnings:\n",
        "[1] Standard Errors assume that the covariance matrix of the errors is correctly specified.\n"
       ]
      }
     ],
     "prompt_number": 105
    },
    {
     "cell_type": "code",
     "collapsed": false,
     "input": [
      "regr = linear_model.LinearRegression()\n",
      "regr.fit(train_X, train_y)\n",
      "\n",
      "test_X, test_y = get_sample(X,y)\n",
      "\n",
      "test_X = sm.add_constant(test_X)\n",
      "\n",
      "#print('Coefficients: \\n', regr.coef_)\n",
      "print(\"Residual sum of squares: %.2f\" % np.mean((regr.predict(test_X) - test_y) ** 2))\n",
      "# Explained variance score: 1 is perfect prediction\n",
      "print('Variance score: %.2f' % regr.score(test_X, test_y))"
     ],
     "language": "python",
     "metadata": {},
     "outputs": [
      {
       "output_type": "stream",
       "stream": "stdout",
       "text": [
        "Residual sum of squares: 0.00\n",
        "Variance score: 1.00\n"
       ]
      }
     ],
     "prompt_number": 106
    }
   ],
   "metadata": {}
  }
 ]
}