{
 "metadata": {
  "name": "",
  "signature": "sha256:fdd970f9cf8c20563cb9098eb12c01e88aea648d7a1ba275d328702cbd754441"
 },
 "nbformat": 3,
 "nbformat_minor": 0,
 "worksheets": [
  {
   "cells": [
    {
     "cell_type": "markdown",
     "metadata": {},
     "source": [
      "#Intro to Data Science: Final Project 1\n",
      "#Analyzing the NYC Subway Dataset\n",
      "#Section 4. Conclusion"
     ]
    },
    {
     "cell_type": "markdown",
     "metadata": {},
     "source": [
      "##Import Data"
     ]
    },
    {
     "cell_type": "code",
     "collapsed": false,
     "input": [
      "import operator\n",
      "\n",
      "import numpy as np\n",
      "import pandas as pd\n",
      "import scipy as sp\n",
      "import scipy.stats as st\n",
      "import statsmodels.api as sm\n",
      "import scipy.optimize as op\n",
      "\n",
      "from sklearn import linear_model\n",
      "from sklearn.metrics import r2_score\n",
      "from sklearn.linear_model import Ridge\n",
      "from sklearn.linear_model import SGDClassifier\n",
      "from sklearn.svm import SVC\n",
      "\n",
      "import matplotlib.pyplot as plt\n",
      "%matplotlib inline\n",
      "\n",
      "filename = '/Users/excalibur/py/nanodegree/intro_ds/final_project/improved-dataset/turnstile_weather_v2.csv'\n",
      "\n",
      "# import data\n",
      "data = pd.read_csv(filename)"
     ],
     "language": "python",
     "metadata": {},
     "outputs": [],
     "prompt_number": 393
    },
    {
     "cell_type": "markdown",
     "metadata": {},
     "source": [
      "##Functions for Basic Statistics and Learning"
     ]
    },
    {
     "cell_type": "markdown",
     "metadata": {},
     "source": [
      "##Extract Relevant Data"
     ]
    },
    {
     "cell_type": "markdown",
     "metadata": {},
     "source": [
      "##Class for Creating Data Samples"
     ]
    },
    {
     "cell_type": "markdown",
     "metadata": {},
     "source": [
      "##Formulas Implemented (i.e., not included in modules/packages)"
     ]
    },
    {
     "cell_type": "markdown",
     "metadata": {},
     "source": [
      "##Class for Creating Learners"
     ]
    },
    {
     "cell_type": "markdown",
     "metadata": {},
     "source": [
      "###4.1 From your analysis and interpretation of the data, do more people ride the NYC subway when it is raining or when it is not raining?  "
     ]
    },
    {
     "cell_type": "markdown",
     "metadata": {},
     "source": [
      "###4.2 What analyses lead you to this conclusion?\n"
     ]
    }
   ],
   "metadata": {}
  }
 ]
}