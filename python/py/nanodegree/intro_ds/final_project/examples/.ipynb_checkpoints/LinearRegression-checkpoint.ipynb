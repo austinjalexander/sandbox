{
 "metadata": {
  "name": "",
  "signature": "sha256:343beb747bbcf5a920ca4afa5e936d101508ce8da8b0831de0ee2890dd81abe5"
 },
 "nbformat": 3,
 "nbformat_minor": 0,
 "worksheets": [
  {
   "cells": [
    {
     "cell_type": "code",
     "collapsed": false,
     "input": [
      "import numpy as np\n",
      "import pandas as pd\n",
      "import scipy as sp\n",
      "import scipy.stats as st\n",
      "import statsmodels.api as sm\n",
      "from sklearn import linear_model\n",
      "from sklearn.metrics import r2_score\n",
      "import matplotlib.pyplot as plt\n",
      "%matplotlib inline"
     ],
     "language": "python",
     "metadata": {},
     "outputs": [],
     "prompt_number": 4
    },
    {
     "cell_type": "code",
     "collapsed": false,
     "input": [
      "### linearly related, 1 feature\n",
      "X = [x for x in np.arange(600)]\n",
      "y = [(2*x) for x in X]\n",
      "plt.scatter(X, y)\n",
      "plt.show()\n",
      "\n",
      "### not linearly related, 1 feature\n",
      "#np.random.shuffle(X)\n",
      "#plt.scatter(X, y)\n",
      "#plt.show()\n",
      "\n",
      "### not linearly related, 2 features\n",
      "#X1 = np.array(X)\n",
      "#X1.shape = (600,1)\n",
      "#X2 = X1\n",
      "#np.random.shuffle(X2)\n",
      "#X = np.hstack((X1,X2))\n",
      "#X.shape"
     ],
     "language": "python",
     "metadata": {},
     "outputs": [
      {
       "metadata": {},
       "output_type": "display_data",
       "png": "[encoded data removed]",
       "text": [
        "<matplotlib.figure.Figure at 0x1146386d0>"
       ]
      }
     ],
     "prompt_number": 5
    },
    {
     "cell_type": "code",
     "collapsed": false,
     "input": [
      "def get_sample(X,y):\n",
      "    indices = np.random.choice(np.arange(600), size=10, replace=False)\n",
      "    sample_X = []\n",
      "    sample_y = []\n",
      "\n",
      "    for i in indices:\n",
      "        sample_X.append(X[i])\n",
      "        sample_y.append(y[i])\n",
      "    \n",
      "    return sample_X, sample_y"
     ],
     "language": "python",
     "metadata": {},
     "outputs": [],
     "prompt_number": 6
    },
    {
     "cell_type": "code",
     "collapsed": false,
     "input": [
      "train_X, train_y = get_sample(X,y)\n",
      "\n",
      "train_X = sm.add_constant(train_X)\n",
      "model = sm.OLS(train_y, train_X)\n",
      "results = model.fit()\n",
      "#print results.params\n",
      "#print results.tvalues\n",
      "#print results.rsquared\n",
      "print results.summary()"
     ],
     "language": "python",
     "metadata": {},
     "outputs": [
      {
       "output_type": "stream",
       "stream": "stdout",
       "text": [
        "                            OLS Regression Results                            \n",
        "==============================================================================\n",
        "Dep. Variable:                      y   R-squared:                       1.000\n",
        "Model:                            OLS   Adj. R-squared:                  1.000\n",
        "Method:                 Least Squares   F-statistic:                 8.456e+30\n",
        "Date:                Sun, 11 Jan 2015   Prob (F-statistic):          2.19e-121\n",
        "Time:                        21:28:55   Log-Likelihood:                 274.47\n",
        "No. Observations:                  10   AIC:                            -544.9\n",
        "Df Residuals:                       8   BIC:                            -544.3\n",
        "Df Model:                           1                                         \n",
        "Covariance Type:            nonrobust                                         \n",
        "==============================================================================\n",
        "                 coef    std err          t      P>|t|      [95.0% Conf. Int.]\n",
        "------------------------------------------------------------------------------\n",
        "const       7.105e-15   2.24e-13      0.032      0.975     -5.09e-13  5.23e-13\n",
        "x1             2.0000   6.88e-16   2.91e+15      0.000         2.000     2.000\n",
        "==============================================================================\n",
        "Omnibus:                        0.453   Durbin-Watson:                   0.374\n",
        "Prob(Omnibus):                  0.797   Jarque-Bera (JB):                0.488\n",
        "Skew:                          -0.134   Prob(JB):                        0.783\n",
        "Kurtosis:                       1.951   Cond. No.                         708.\n",
        "==============================================================================\n",
        "\n",
        "Warnings:\n",
        "[1] Standard Errors assume that the covariance matrix of the errors is correctly specified.\n"
       ]
      }
     ],
     "prompt_number": 10
    },
    {
     "cell_type": "code",
     "collapsed": false,
     "input": [
      "regr = linear_model.LinearRegression()\n",
      "regr.fit(train_X, train_y)\n",
      "\n",
      "test_X, test_y = get_sample(X,y)\n",
      "\n",
      "test_X = sm.add_constant(test_X)\n",
      "\n",
      "#print('Coefficients: \\n', regr.coef_)\n",
      "print(\"Residual sum of squares: %.2f\" % np.mean((regr.predict(test_X) - test_y) ** 2))\n",
      "# Explained variance score: 1 is perfect prediction\n",
      "print('Variance score: %.2f' % regr.score(test_X, test_y))"
     ],
     "language": "python",
     "metadata": {},
     "outputs": [
      {
       "output_type": "stream",
       "stream": "stdout",
       "text": [
        "Residual sum of squares: 0.00\n",
        "Variance score: 1.00\n"
       ]
      }
     ],
     "prompt_number": 11
    },
    {
     "cell_type": "code",
     "collapsed": false,
     "input": [
      "y_hat_test = regr.predict(test_X)"
     ],
     "language": "python",
     "metadata": {},
     "outputs": [],
     "prompt_number": 12
    },
    {
     "cell_type": "code",
     "collapsed": false,
     "input": [
      "plt.scatter(test_y,(test_y - y_hat_test))\n",
      "plt.plot([0, 1200], [0, 0])\n",
      "plt.title('RESIDUAL PLOT')\n",
      "plt.yticks()\n",
      "plt.xlabel('prediction')\n",
      "plt.ylabel('residuals')\n",
      "plt.show()"
     ],
     "language": "python",
     "metadata": {},
     "outputs": [
      {
       "metadata": {},
       "output_type": "display_data",
       "png": "[encoded data removed]",
       "text": [
        "<matplotlib.figure.Figure at 0x114638950>"
       ]
      }
     ],
     "prompt_number": 25
    },
    {
     "cell_type": "code",
     "collapsed": false,
     "input": [
      "data = sm.datasets.statecrime.load_pandas().data\n",
      "murder = data['murder']\n",
      "X = data[['poverty', 'hs_grad']]\n",
      "\n",
      "X[\"constant\"] = 1\n",
      "y = murder\n",
      "model = sm.OLS(y, X)\n",
      "results = model.fit()\n",
      "\n",
      "\n",
      "fig = sm.graphics.plot_fit(results, 0)\n",
      "\n",
      "\n",
      "plt.show()"
     ],
     "language": "python",
     "metadata": {},
     "outputs": [
      {
       "metadata": {},
       "output_type": "display_data",
       "png": "[encoded data removed]",
       "text": [
        "<matplotlib.figure.Figure at 0x110c50590>"
       ]
      }
     ],
     "prompt_number": 30
    }
   ],
   "metadata": {}
  }
 ]
}