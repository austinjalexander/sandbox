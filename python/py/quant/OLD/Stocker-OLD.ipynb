{
 "cells": [
  {
   "cell_type": "code",
   "execution_count": 3,
   "metadata": {
    "collapsed": true
   },
   "outputs": [],
   "source": [
    "import requests\n",
    "import csv\n",
    "import re\n",
    "import numpy as np\n",
    "import pandas as pd\n",
    "from scipy import stats\n",
    "import datetime\n",
    "import Quandl\n",
    "from matplotlib import pyplot as plt\n",
    "import seaborn as sns\n",
    "%matplotlib inline\n",
    "\n",
    "from sklearn.cross_validation import train_test_split\n",
    "from sklearn.cross_validation import StratifiedShuffleSplit\n",
    "from sklearn.metrics import accuracy_score\n",
    "\n",
    "from sklearn.pipeline import make_pipeline\n",
    "\n",
    "from sklearn.preprocessing import MinMaxScaler\n",
    "from sklearn.preprocessing import StandardScaler\n",
    "\n",
    "from sklearn.feature_selection import SelectKBest\n",
    "from sklearn.decomposition import RandomizedPCA \n",
    "\n",
    "from sklearn.preprocessing import PolynomialFeatures\n",
    " \n",
    "from sklearn.naive_bayes import GaussianNB\n",
    "from sklearn.tree import DecisionTreeClassifier\n",
    "from sklearn.ensemble import RandomForestClassifier \n",
    "from sklearn.svm import SVC\n",
    "\n",
    "from sklearn.linear_model import LinearRegression\n",
    "from sklearn.linear_model import Ridge\n",
    "from sklearn.linear_model import Lasso\n",
    "from sklearn.linear_model import BayesianRidge\n",
    "from sklearn.linear_model import SGDRegressor \n",
    "from sklearn.svm import SVR\n",
    "from sklearn.tree import DecisionTreeRegressor \n",
    "from sklearn.ensemble import GradientBoostingRegressor\n",
    "\n",
    "from sklearn.grid_search import GridSearchCV\n",
    "\n",
    "from sklearn.metrics import precision_score\n",
    "from sklearn.metrics import recall_score\n",
    "from sklearn.metrics import classification_report\n",
    "from sklearn.metrics import confusion_matrix"
   ]
  },
  {
   "cell_type": "markdown",
   "metadata": {},
   "source": [
    "---"
   ]
  },
  {
   "cell_type": "code",
   "execution_count": 4,
   "metadata": {
    "collapsed": false
   },
   "outputs": [],
   "source": [
    "def get_stock_data(ticker, seconds_interval, num_of_days):\n",
    "    \n",
    "    url = \"http://www.google.com/finance/getprices?q={0}&i={1}&p={2}d&f=d,o,h,l,c,v\".format(ticker, seconds_interval, num_of_days)\n",
    "\n",
    "    # get data and convert to data frame\n",
    "    stock_df = pd.read_csv(url, skiprows=[0,1,2,3,5,6])\n",
    "\n",
    "    # rename column name\n",
    "    stock_df.rename(columns={'COLUMNS=DATE':'time'}, inplace=True)\n",
    "\n",
    "    # remove 'a' from unix timestamps\n",
    "    stock_df.replace(to_replace={'time':{'a':''}}, regex=True, inplace=True)\n",
    "\n",
    "    # get entire column and convert to ints\n",
    "    time_indices = [int(x) for x in stock_df['time'].values]\n",
    "\n",
    "    # keep track of current timestamp\n",
    "    last_timestamp = time_indices[0]\n",
    "\n",
    "    # convert unix timestamp abbreviations into full unix timestamps\n",
    "    for i in range(len(time_indices)):\n",
    "        if time_indices[i] < last_timestamp:\n",
    "            time_indices[i] = last_timestamp + (time_indices[i] * seconds_interval)\n",
    "        else:\n",
    "            last_timestamp = time_indices[i]\n",
    "\n",
    "    # convert unix timestamps to human-readable formats\n",
    "    time_indices = [datetime.datetime.fromtimestamp(x).strftime('%Y-%m-%d %H:%M:%S') for x in time_indices]\n",
    "    \n",
    "    # keep times (i.e., not dates)\n",
    "    times = [float(x[-8:-3].replace(':','.')) for x in time_indices]\n",
    "\n",
    "    # create new column in data frame\n",
    "    stock_df['time'] = times\n",
    "\n",
    "    # keep day of month\n",
    "    #dates = [int(x[:10].split('-')[2]) for x in time_indices]\n",
    "    # create new column in data frame\n",
    "    #stock_df['month_date'] = dates\n",
    "\n",
    "    # get weekday as int value\n",
    "    #stock_df['week_day'] = [datetime.datetime.strptime(x[:10], '%Y-%m-%d').weekday() for x in time_indices]\n",
    "\n",
    "    # create features\n",
    "    stock_df['op_cl%'] = np.true_divide((stock_df['CLOSE'] - stock_df['OPEN']), stock_df['CLOSE'])\n",
    "    stock_df['lo_hi%'] = np.true_divide((stock_df['HIGH'] - stock_df['LOW']), stock_df['HIGH'])\n",
    "    stock_df['vol_norm'] = np.true_divide(stock_df['VOLUME'], np.max(stock_df['VOLUME']))\n",
    "\n",
    "    # create labels dataframe\n",
    "    labels_df = stock_df.copy(deep=True)\n",
    "\n",
    "    # remove columns\n",
    "    stock_df = stock_df.drop(['CLOSE', 'OPEN', 'LOW', 'HIGH', 'VOLUME'], axis=1)\n",
    "\n",
    "    #print stock_df.shape\n",
    "    #stock_df.head()\n",
    "    \n",
    "    return stock_df, labels_df"
   ]
  },
  {
   "cell_type": "code",
   "execution_count": 5,
   "metadata": {
    "collapsed": true
   },
   "outputs": [],
   "source": [
    "tickers = ['ARNA',\n",
    "           'ATNM',\n",
    "           'AVXL',\n",
    "           'AXN',\n",
    "           'BLFS',\n",
    "           'BOTA',\n",
    "           'CBLI',\n",
    "           'CPRX', \n",
    "           'DARA',\n",
    "           'ECYT',\n",
    "           'EDAP',\n",
    "           'EXAS',\n",
    "           'HALO',\n",
    "           'IDRA',\n",
    "           'INO',\n",
    "           'LOXO',\n",
    "           'LPCN',\n",
    "           'MEIP',\n",
    "           'MNKD',\n",
    "           'OREX',\n",
    "           'PGNX',\n",
    "           'QLTI',\n",
    "           'RMTI',\n",
    "           'SGYP',\n",
    "           'SNGX',\n",
    "           'SPY',\n",
    "           'SYN', \n",
    "           'TENX',\n",
    "           'THLD',\n",
    "           'TNXP',\n",
    "           'TPIV']"
   ]
  },
  {
   "cell_type": "markdown",
   "metadata": {},
   "source": [
    "---"
   ]
  },
  {
   "cell_type": "code",
   "execution_count": 6,
   "metadata": {
    "collapsed": false
   },
   "outputs": [],
   "source": [
    "# download data\n",
    "\n",
    "for ticker in tickers:\n",
    "    \n",
    "    seconds_interval = 1800 # 1800: 30-minute (seems the most consistent)\n",
    "    stock_df, labels_df = get_stock_data(ticker, seconds_interval, 1000)\n",
    "        \n",
    "    stock_df.to_csv(\"goog_data/{}_features.csv\".format(ticker), index=False)\n",
    "    labels_df.to_csv(\"goog_data/{}_labels.csv\".format(ticker), index=False)"
   ]
  },
  {
   "cell_type": "markdown",
   "metadata": {},
   "source": [
    "---"
   ]
  },
  {
   "cell_type": "code",
   "execution_count": 442,
   "metadata": {
    "collapsed": false
   },
   "outputs": [
    {
     "name": "stdout",
     "output_type": "stream",
     "text": [
      "\n",
      "********** \n",
      "final shapes:  (1447, 42) (1447,)\n"
     ]
    }
   ],
   "source": [
    "# import data\n",
    "\n",
    "X = []\n",
    "y = []\n",
    "\n",
    "for ticker in tickers:\n",
    "\n",
    "    stock_df = pd.read_csv(\"goog_data/{}_features.csv\".format(ticker))\n",
    "    labels_df = pd.read_csv(\"goog_data/{}_labels.csv\".format(ticker))\n",
    "\n",
    "    num_of_times = stock_df['time'].unique().shape[0]\n",
    "    stock_df = stock_df.drop('time', axis=1)\n",
    "    assert num_of_times == 14, \"wrong number of times\"\n",
    "    #print \"number of times in a day: {}\".format(num_of_times)\n",
    "\n",
    "    num_of_days = stock_df.shape[0]/num_of_times\n",
    "    #print \"number of days: {}\".format(num_of_days)\n",
    "\n",
    "    for i in xrange(num_of_days):\n",
    "\n",
    "        # features\n",
    "        features = stock_df.values[:num_of_times].flatten()\n",
    "        features = np.expand_dims(features, axis=0)\n",
    "        #assert features.shape[1] == 84, \"wrong number of columns\"\n",
    "\n",
    "        # combine features into rows of X\n",
    "        if X == []:\n",
    "            X = features\n",
    "        else: \n",
    "            X = np.vstack((X, features))\n",
    "\n",
    "        # labels\n",
    "        labels = labels_df.values[:num_of_times].flatten()\n",
    "        # (last - open) / last\n",
    "        label = np.true_divide((labels[-8] - labels[1]), labels[-8])\n",
    "        # make class\n",
    "        label = int(label*100)\n",
    "        \n",
    "        # make binary class\n",
    "        def binarize(label):\n",
    "            if label >= 5:\n",
    "                label = 1\n",
    "            else:\n",
    "                label = 0\n",
    "            return label\n",
    "        \n",
    "        label = binarize(label)\n",
    "\n",
    "        if y == []:\n",
    "            y = np.array([label])\n",
    "        else:\n",
    "            y = np.append(y, np.array(label))  \n",
    "\n",
    "        # remove used rows (go to next day)\n",
    "        stock_df = stock_df[num_of_times:]\n",
    "        labels_df = labels_df[num_of_times:]\n",
    "\n",
    "    # rotate/discard rows\n",
    "    X = X[:-1]\n",
    "    y = y[1:]\n",
    "\n",
    "print \"\\n\", \"*\"*10, \"\\nfinal shapes: \", X.shape, y.shape"
   ]
  },
  {
   "cell_type": "code",
   "execution_count": 443,
   "metadata": {
    "collapsed": false,
    "scrolled": true
   },
   "outputs": [
    {
     "data": {
      "image/png": "[encoded data removed]",
      "text/plain": [
       "<matplotlib.figure.Figure at 0x16254de50>"
      ]
     },
     "metadata": {},
     "output_type": "display_data"
    }
   ],
   "source": [
    "plt.hist(y, bins=20, alpha=0.7, color='r')\n",
    "plt.show()"
   ]
  },
  {
   "cell_type": "code",
   "execution_count": 444,
   "metadata": {
    "collapsed": false
   },
   "outputs": [
    {
     "name": "stdout",
     "output_type": "stream",
     "text": [
      "[0 1]\n"
     ]
    }
   ],
   "source": [
    "y_values = np.unique(y, return_counts=True)[0]\n",
    "print y_values"
   ]
  },
  {
   "cell_type": "code",
   "execution_count": 445,
   "metadata": {
    "collapsed": false
   },
   "outputs": [
    {
     "name": "stdout",
     "output_type": "stream",
     "text": [
      "[1315  132]\n"
     ]
    }
   ],
   "source": [
    "num_of_classes = np.unique(y, return_counts=True)[1]\n",
    "print num_of_classes"
   ]
  },
  {
   "cell_type": "code",
   "execution_count": 446,
   "metadata": {
    "collapsed": false
   },
   "outputs": [
    {
     "name": "stdout",
     "output_type": "stream",
     "text": [
      "[]\n"
     ]
    }
   ],
   "source": [
    "classes_to_remove = []\n",
    "for i in np.where(num_of_classes == 1)[0]:\n",
    "    classes_to_remove.append(y_values[i])\n",
    "\n",
    "print classes_to_remove"
   ]
  },
  {
   "cell_type": "code",
   "execution_count": 447,
   "metadata": {
    "collapsed": false
   },
   "outputs": [
    {
     "name": "stdout",
     "output_type": "stream",
     "text": [
      "(1447, 42) (1447,)\n"
     ]
    }
   ],
   "source": [
    "# single-class removal\n",
    "rows_to_remove = []\n",
    "for i in xrange(len(y)):\n",
    "    if y[i] in classes_to_remove:\n",
    "        rows_to_remove.append(i)\n",
    "    \n",
    "X = np.delete(X, rows_to_remove, axis=0)\n",
    "y = np.delete(y, rows_to_remove)\n",
    "\n",
    "print X.shape, y.shape"
   ]
  },
  {
   "cell_type": "code",
   "execution_count": 448,
   "metadata": {
    "collapsed": false
   },
   "outputs": [
    {
     "data": {
      "text/plain": [
       "'\\nrows_to_remove = []\\nfor i in xrange(len(y)):\\n    if y[i] < -10 or y[i] > 10:\\n        rows_to_remove.append(i)\\n    \\nX = np.delete(X, rows_to_remove, axis=0)\\ny = np.delete(y, rows_to_remove)\\n\\nprint X.shape, y.shape\\n'"
      ]
     },
     "execution_count": 448,
     "metadata": {},
     "output_type": "execute_result"
    }
   ],
   "source": [
    "# outlier-label removal\n",
    "'''\n",
    "rows_to_remove = []\n",
    "for i in xrange(len(y)):\n",
    "    if y[i] < -10 or y[i] > 10:\n",
    "        rows_to_remove.append(i)\n",
    "    \n",
    "X = np.delete(X, rows_to_remove, axis=0)\n",
    "y = np.delete(y, rows_to_remove)\n",
    "\n",
    "print X.shape, y.shape\n",
    "'''"
   ]
  },
  {
   "cell_type": "code",
   "execution_count": 449,
   "metadata": {
    "collapsed": false
   },
   "outputs": [
    {
     "name": "stdout",
     "output_type": "stream",
     "text": [
      "number of labels:  2\n"
     ]
    }
   ],
   "source": [
    "print \"number of labels: \", np.unique(y, return_counts=True)[0].shape[0]"
   ]
  },
  {
   "cell_type": "code",
   "execution_count": 450,
   "metadata": {
    "collapsed": false
   },
   "outputs": [
    {
     "data": {
      "text/plain": [
       "0.16541045758469208"
      ]
     },
     "execution_count": 450,
     "metadata": {},
     "output_type": "execute_result"
    }
   ],
   "source": [
    "corr_df = pd.DataFrame(X)\n",
    "corr_df['label'] = y\n",
    "np.max(corr_df.corr()['label'].values[:-1])"
   ]
  },
  {
   "cell_type": "code",
   "execution_count": 451,
   "metadata": {
    "collapsed": false
   },
   "outputs": [],
   "source": [
    "#for i in xrange(X.shape[1]):\n",
    "#    plt.scatter(X[:,i], y)\n",
    "#    plt.show()"
   ]
  },
  {
   "cell_type": "markdown",
   "metadata": {},
   "source": [
    "---"
   ]
  },
  {
   "cell_type": "code",
   "execution_count": 452,
   "metadata": {
    "collapsed": false
   },
   "outputs": [
    {
     "name": "stdout",
     "output_type": "stream",
     "text": [
      "10 13.9160374586\n",
      "13 15.9807886228\n",
      "16 37.5925500144\n",
      "19 21.5172920992\n",
      "22 16.4046434796\n",
      "28 24.330042166\n",
      "31 10.8137247828\n",
      "34 14.0561887843\n",
      "36 15.7085924366\n",
      "37 40.6482566283\n",
      "40 29.7184491097\n",
      "\n",
      "features scoring higher than 10:  11\n"
     ]
    }
   ],
   "source": [
    "threshold = 10\n",
    "if np.unique(y, return_counts=True)[0].shape[0] > 2:\n",
    "    threshold = 3\n",
    "\n",
    "skb = SelectKBest()\n",
    "skb = skb.fit(X,y)\n",
    "counter = 0\n",
    "for i in xrange(skb.scores_.shape[0]):\n",
    "    if skb.scores_[i] > threshold:\n",
    "        counter += 1\n",
    "        print i, skb.scores_[i]\n",
    "        \n",
    "print \"\\nfeatures scoring higher than {}: \".format(threshold), counter"
   ]
  },
  {
   "cell_type": "code",
   "execution_count": 453,
   "metadata": {
    "collapsed": false
   },
   "outputs": [
    {
     "data": {
      "text/plain": [
       "(1447, 11)"
      ]
     },
     "execution_count": 453,
     "metadata": {},
     "output_type": "execute_result"
    }
   ],
   "source": [
    "skb = SelectKBest(k=counter)\n",
    "skb = skb.fit(X,y)\n",
    "X = skb.transform(X)\n",
    "X.shape"
   ]
  },
  {
   "cell_type": "markdown",
   "metadata": {},
   "source": [
    "---"
   ]
  },
  {
   "cell_type": "code",
   "execution_count": null,
   "metadata": {
    "collapsed": false
   },
   "outputs": [],
   "source": [
    "#clf = GaussianNB()    # Provided to give you a starting point. Try a varity of classifiers.\n",
    "#clf = DecisionTreeClassifier()\n",
    "clf = SVC()\n",
    "\n",
    "#pipeline = make_pipeline(clf)\n",
    "pipeline = make_pipeline(StandardScaler(), RandomizedPCA(), clf)\n",
    "\n",
    "# cross validation    \n",
    "cv = StratifiedShuffleSplit(y, test_size=0.2, random_state=42)\n",
    "\n",
    "# tune parameters\n",
    "params = dict()\n",
    "\n",
    "# for PCA\n",
    "params['randomizedpca__iterated_power'] = [1, 2, 3]\n",
    "params['randomizedpca__n_components'] = [2, 4, 6, 8, 10]\n",
    "params['randomizedpca__random_state'] = [42]\n",
    "params['randomizedpca__whiten'] = [True, False]\n",
    "\n",
    "if str(clf)[0] == 'D':\n",
    "    params['decisiontreeclassifier__criterion'] = ['gini', 'entropy']\n",
    "    params['decisiontreeclassifier__max_features'] = ['auto', 'sqrt', 'log2', None]\n",
    "    params['decisiontreeclassifier__class_weight'] = ['auto', None]\n",
    "    params['decisiontreeclassifier__random_state'] = [42]\n",
    "    \n",
    "if str(clf)[0] == 'S':\n",
    "    # [2**x for x in np.arange(-15, 15+1, 3)]\n",
    "    params['svc__C'] = [10, 100, 1000]\n",
    "    params['svc__gamma'] = [0.1, 0.2, 0.5, 1.0]\n",
    "    params['svc__random_state'] = [42]\n",
    "\n",
    "grid_search = GridSearchCV(pipeline, param_grid=params, n_jobs=1, cv=cv)\n",
    "\n",
    "grid_search.fit(X, y)\n",
    "\n",
    "clf = grid_search.best_estimator_\n",
    "print clf\n",
    "print \"\\nscore: \", grid_search.best_score_\n",
    "\n",
    "clf = clf.fit(X,y)\n",
    "y_pred = clf.predict(X)\n",
    "print \"\\n\", classification_report(y, y_pred)"
   ]
  },
  {
   "cell_type": "code",
   "execution_count": 455,
   "metadata": {
    "collapsed": true
   },
   "outputs": [],
   "source": [
    "### labels as binary\n",
    "\n",
    "# GaussianNB\n",
    "## default (pipeline, stratifiedshufflesplit, gridsearch): 0.831379310345\n",
    "## skb (k=11): 0.853448275862\n",
    "## standardscaler: 0.853448275862\n",
    "## default pca: 0.848965517241\n",
    "## pca gridsearched: 0.880344827586 \n",
    "###-> iterated_power=1, n_components=2, whiten=True\n",
    "\n",
    "## defaults for following classifiers: \n",
    "###-> skb (k=11), pipeline [standardscaler, pca], stratifiedshufflesplit, gridsearch\n",
    "\n",
    "# DecisionTreeClassifier\n",
    "## default: 0.845517241379\n",
    "## params gridsearched: 0.849655172414 \n",
    "###-> class_weight='auto', criterion='gini', max_features=None\n",
    "\n",
    "# SVC\n",
    "## default: 0.910689655172\n",
    "## params gridsearched: too long"
   ]
  },
  {
   "cell_type": "code",
   "execution_count": 456,
   "metadata": {
    "collapsed": true
   },
   "outputs": [],
   "source": [
    "### labels as ints, quasi-normally distributed\n",
    "\n",
    "# GaussianNB\n",
    "## default (pipeline, stratifiedshufflesplit, gridsearch): 0.0996515679443\n",
    "## skb (k=10): 0.249128919861\n",
    "## standardscaler: 0.249128919861\n",
    "## default pca: 0.256445993031\n",
    "## pca gridsearched: 0.27456445993 #-> iterated_power=1, n_components=2, whiten=True\n",
    "\n",
    "## defaults for following classifiers: \n",
    "###-> skb (k=10), pipeline [standardscaler, pca], stratifiedshufflesplit, gridsearch\n",
    "\n",
    "# DecisionTreeClassifier\n",
    "## default: 0.150174216028\n",
    "## params gridsearched: 0.15331010453 \n",
    "###-> class_weight=None, criterion='gini', max_features='auto'\n",
    "\n",
    "# SVC\n",
    "## default: 0.286411149826\n",
    "## params gridsearched: too long"
   ]
  },
  {
   "cell_type": "code",
   "execution_count": 457,
   "metadata": {
    "collapsed": false
   },
   "outputs": [],
   "source": [
    "#for i in xrange(X_train.shape[1]):\n",
    "#    plt.scatter(X_train[:,i], y_train)\n",
    "#    plt.show()"
   ]
  },
  {
   "cell_type": "code",
   "execution_count": 458,
   "metadata": {
    "collapsed": false
   },
   "outputs": [
    {
     "data": {
      "text/plain": [
       "'\\nnum_rows = X_train.shape[0]\\nnum_cols = X_train.shape[1]\\nrows_to_remove = set()\\n\\nfor i in xrange(num_cols):\\n    low = np.percentile(X_train[:,i], 5)\\n    high = np.percentile(X_train[:,i], 95)\\n    \\n    for j in xrange(num_rows):\\n        if X_train[j,i] == low or X_train[j,i] == high:\\n            rows_to_remove.add(j)\\n\\nX_train = np.delete(X_train, list(rows_to_remove), axis=0)\\ny_train = np.delete(y_train, list(rows_to_remove))\\n\\nprint X_train.shape, y_train.shape\\n'"
      ]
     },
     "execution_count": 458,
     "metadata": {},
     "output_type": "execute_result"
    }
   ],
   "source": [
    "'''\n",
    "num_rows = X_train.shape[0]\n",
    "num_cols = X_train.shape[1]\n",
    "rows_to_remove = set()\n",
    "\n",
    "for i in xrange(num_cols):\n",
    "    low = np.percentile(X_train[:,i], 5)\n",
    "    high = np.percentile(X_train[:,i], 95)\n",
    "    \n",
    "    for j in xrange(num_rows):\n",
    "        if X_train[j,i] == low or X_train[j,i] == high:\n",
    "            rows_to_remove.add(j)\n",
    "\n",
    "X_train = np.delete(X_train, list(rows_to_remove), axis=0)\n",
    "y_train = np.delete(y_train, list(rows_to_remove))\n",
    "\n",
    "print X_train.shape, y_train.shape\n",
    "'''"
   ]
  },
  {
   "cell_type": "markdown",
   "metadata": {},
   "source": [
    "---"
   ]
  },
  {
   "cell_type": "code",
   "execution_count": 459,
   "metadata": {
    "collapsed": false
   },
   "outputs": [
    {
     "data": {
      "text/plain": [
       "'\\nregr_or_clf = \"clf\"\\n\\nif regr_or_clf == \\'regr\\':\\n    \\n    #poly = PolynomialFeatures(degree=3)\\n    #poly.fit(X_train,y_train)\\n    #X_train = poly.transform(X_train)\\n    #X_test = poly.transform(X_test)\\n\\n    high_score = -9999999\\n\\n    best_y_pred = []\\n\\n    for regr in [LinearRegression(), Ridge(), Lasso(), BayesianRidge(), SGDRegressor(), SVR(), DecisionTreeRegressor(), GradientBoostingRegressor()]:\\n        regr = regr.fit(X_train, y_train)\\n        score = regr.score(X_test, y_test)\\n        print score\\n        if score > high_score:\\n            high_score = score\\n            best_y_pred = regr.predict(X_test)\\n            \\nelif regr_or_clf == \\'clf\\':\\n    \\n    best_f1_score = -9999999\\n    best_clf = []\\n    best_y_pred = []\\n    mean_y_pred = []\\n\\n    for clf in [GaussianNB(), DecisionTreeClassifier(random_state=42), RandomForestClassifier(), SVC(C=100, kernel=\\'rbf\\', gamma=10, random_state=42)]:\\n    #for clf in [SVC(C=1000, kernel=\\'rbf\\', gamma=1, random_state=42)]:\\n\\n        clf.fit(X_train, y_train)\\n\\n        y_pred = clf.predict(X_test)\\n\\n        clf_report = classification_report(y_test, y_pred)\\n        clf_report = [re.sub(r\"[a-z]|\\n\", \\'\\', x) for x in clf_report.split(\" \")]\\n        clf_report = filter(None, clf_report)\\n        f1_score = float(clf_report[-2])\\n        print f1_score\\n\\n        if f1_score > best_f1_score:\\n            best_f1_score = f1_score\\n            best_clf = clf\\n            best_y_pred = y_pred\\n\\n        #print \"\\nconfusion matrix:\\n\", confusion_matrix(y_test, y_pred)\\n\\n        #print \"\\nclassification report:\\n\", classification_report(y_test, y_pred)\\n    print str(best_clf)[:3]\\n\\n    print classification_report(y_test, best_y_pred)\\n'"
      ]
     },
     "execution_count": 459,
     "metadata": {},
     "output_type": "execute_result"
    }
   ],
   "source": [
    "'''\n",
    "regr_or_clf = \"clf\"\n",
    "\n",
    "if regr_or_clf == 'regr':\n",
    "    \n",
    "    #poly = PolynomialFeatures(degree=3)\n",
    "    #poly.fit(X_train,y_train)\n",
    "    #X_train = poly.transform(X_train)\n",
    "    #X_test = poly.transform(X_test)\n",
    "\n",
    "    high_score = -9999999\n",
    "\n",
    "    best_y_pred = []\n",
    "\n",
    "    for regr in [LinearRegression(), Ridge(), Lasso(), BayesianRidge(), SGDRegressor(), SVR(), DecisionTreeRegressor(), GradientBoostingRegressor()]:\n",
    "        regr = regr.fit(X_train, y_train)\n",
    "        score = regr.score(X_test, y_test)\n",
    "        print score\n",
    "        if score > high_score:\n",
    "            high_score = score\n",
    "            best_y_pred = regr.predict(X_test)\n",
    "            \n",
    "elif regr_or_clf == 'clf':\n",
    "    \n",
    "    best_f1_score = -9999999\n",
    "    best_clf = []\n",
    "    best_y_pred = []\n",
    "    mean_y_pred = []\n",
    "\n",
    "    for clf in [GaussianNB(), DecisionTreeClassifier(random_state=42), RandomForestClassifier(), SVC(C=100, kernel='rbf', gamma=10, random_state=42)]:\n",
    "    #for clf in [SVC(C=1000, kernel='rbf', gamma=1, random_state=42)]:\n",
    "\n",
    "        clf.fit(X_train, y_train)\n",
    "\n",
    "        y_pred = clf.predict(X_test)\n",
    "\n",
    "        clf_report = classification_report(y_test, y_pred)\n",
    "        clf_report = [re.sub(r\"[a-z]|\\n\", '', x) for x in clf_report.split(\" \")]\n",
    "        clf_report = filter(None, clf_report)\n",
    "        f1_score = float(clf_report[-2])\n",
    "        print f1_score\n",
    "\n",
    "        if f1_score > best_f1_score:\n",
    "            best_f1_score = f1_score\n",
    "            best_clf = clf\n",
    "            best_y_pred = y_pred\n",
    "\n",
    "        #print \"\\nconfusion matrix:\\n\", confusion_matrix(y_test, y_pred)\n",
    "\n",
    "        #print \"\\nclassification report:\\n\", classification_report(y_test, y_pred)\n",
    "    print str(best_clf)[:3]\n",
    "\n",
    "    print classification_report(y_test, best_y_pred)\n",
    "'''"
   ]
  },
  {
   "cell_type": "code",
   "execution_count": 460,
   "metadata": {
    "collapsed": false
   },
   "outputs": [],
   "source": [
    "#X_df = pd.DataFrame(X)\n",
    "#X_df['labels'] = y\n",
    "#sns.pairplot(X, hue='labels')\n",
    "#plt.show()"
   ]
  },
  {
   "cell_type": "code",
   "execution_count": 461,
   "metadata": {
    "collapsed": false
   },
   "outputs": [
    {
     "data": {
      "image/png": "[encoded data removed]",
      "text/plain": [
       "<matplotlib.figure.Figure at 0x162e55dd0>"
      ]
     },
     "metadata": {},
     "output_type": "display_data"
    }
   ],
   "source": [
    "plt.hist(y, color='b', alpha=0.7)\n",
    "plt.hist(y_pred, color='y', alpha=0.7)\n",
    "plt.show()"
   ]
  },
  {
   "cell_type": "code",
   "execution_count": 462,
   "metadata": {
    "collapsed": false
   },
   "outputs": [
    {
     "data": {
      "image/png": "[encoded data removed]",
      "text/plain": [
       "<matplotlib.figure.Figure at 0x1623d4490>"
      ]
     },
     "metadata": {},
     "output_type": "display_data"
    }
   ],
   "source": [
    "plt.scatter(np.arange(y.shape[0]), y, color='b', alpha=0.7)\n",
    "plt.scatter(np.arange(y_pred.shape[0]), y_pred, color='y', alpha=0.7)\n",
    "plt.show()"
   ]
  },
  {
   "cell_type": "code",
   "execution_count": 463,
   "metadata": {
    "collapsed": false
   },
   "outputs": [
    {
     "data": {
      "text/plain": [
       "array([0, 0, 0, ..., 0, 0, 0])"
      ]
     },
     "execution_count": 463,
     "metadata": {},
     "output_type": "execute_result"
    }
   ],
   "source": [
    "y_pred - y"
   ]
  },
  {
   "cell_type": "code",
   "execution_count": 464,
   "metadata": {
    "collapsed": false
   },
   "outputs": [
    {
     "data": {
      "text/plain": [
       "132"
      ]
     },
     "execution_count": 464,
     "metadata": {},
     "output_type": "execute_result"
    }
   ],
   "source": [
    "np.sum(y)"
   ]
  },
  {
   "cell_type": "code",
   "execution_count": 465,
   "metadata": {
    "collapsed": false
   },
   "outputs": [
    {
     "name": "stdout",
     "output_type": "stream",
     "text": [
      "0  /  1447\n"
     ]
    }
   ],
   "source": [
    "error_count = 0\n",
    "for i in xrange(len(y)):\n",
    "    if y_pred[i] != y[i]:\n",
    "        error_count += 1\n",
    "        \n",
    "print error_count, \" / \", len(y) "
   ]
  },
  {
   "cell_type": "markdown",
   "metadata": {},
   "source": [
    "---"
   ]
  },
  {
   "cell_type": "code",
   "execution_count": 466,
   "metadata": {
    "collapsed": false
   },
   "outputs": [
    {
     "name": "stdout",
     "output_type": "stream",
     "text": [
      "\n",
      "********** \n",
      "final shapes:  (31, 42)\n"
     ]
    }
   ],
   "source": [
    "# import data\n",
    "\n",
    "new_X = []\n",
    "\n",
    "for ticker in tickers:\n",
    "\n",
    "    stock_df = pd.read_csv(\"goog_data/{}_features.csv\".format(ticker))\n",
    "    labels_df = pd.read_csv(\"goog_data/{}_labels.csv\".format(ticker))\n",
    "\n",
    "    num_of_times = stock_df['time'].unique().shape[0]\n",
    "\n",
    "    stock_df = stock_df.drop('time', axis=1)\n",
    "    assert num_of_times == 14, \"wrong number of times\"\n",
    "    #print \"number of times in a day: {}\".format(num_of_times)\n",
    "\n",
    "    # features\n",
    "    features = stock_df.values[(-1*num_of_times):].flatten()\n",
    "    features = np.expand_dims(features, axis=0)\n",
    "\n",
    "    # combine features into rows of X\n",
    "    if new_X == []:\n",
    "        new_X = features\n",
    "    else: \n",
    "        new_X = np.vstack((new_X, features)) \n",
    "\n",
    "print \"\\n\", \"*\"*10, \"\\nfinal shapes: \", new_X.shape"
   ]
  },
  {
   "cell_type": "code",
   "execution_count": 467,
   "metadata": {
    "collapsed": false
   },
   "outputs": [
    {
     "ename": "ValueError",
     "evalue": "operands could not be broadcast together with shapes (31,42) (11,) (31,42) ",
     "output_type": "error",
     "traceback": [
      "\u001b[0;31m---------------------------------------------------------------------------\u001b[0m",
      "\u001b[0;31mValueError\u001b[0m                                Traceback (most recent call last)",
      "\u001b[0;32m<ipython-input-467-613565eb8755>\u001b[0m in \u001b[0;36m<module>\u001b[0;34m()\u001b[0m\n\u001b[0;32m----> 1\u001b[0;31m \u001b[0mnew_pred\u001b[0m \u001b[0;34m=\u001b[0m \u001b[0mclf\u001b[0m\u001b[0;34m.\u001b[0m\u001b[0mpredict\u001b[0m\u001b[0;34m(\u001b[0m\u001b[0mnew_X\u001b[0m\u001b[0;34m)\u001b[0m\u001b[0;34m\u001b[0m\u001b[0m\n\u001b[0m\u001b[1;32m      2\u001b[0m \u001b[0;32mfor\u001b[0m \u001b[0mi\u001b[0m \u001b[0;32min\u001b[0m \u001b[0mxrange\u001b[0m\u001b[0;34m(\u001b[0m\u001b[0mlen\u001b[0m\u001b[0;34m(\u001b[0m\u001b[0mtickers\u001b[0m\u001b[0;34m)\u001b[0m\u001b[0;34m)\u001b[0m\u001b[0;34m:\u001b[0m\u001b[0;34m\u001b[0m\u001b[0m\n\u001b[1;32m      3\u001b[0m     \u001b[0;32mprint\u001b[0m \u001b[0mi\u001b[0m\u001b[0;34m,\u001b[0m \u001b[0mtickers\u001b[0m\u001b[0;34m[\u001b[0m\u001b[0mi\u001b[0m\u001b[0;34m]\u001b[0m\u001b[0;34m,\u001b[0m \u001b[0mnew_pred\u001b[0m\u001b[0;34m[\u001b[0m\u001b[0mi\u001b[0m\u001b[0;34m]\u001b[0m\u001b[0;34m\u001b[0m\u001b[0m\n\u001b[1;32m      4\u001b[0m \u001b[0;34m\u001b[0m\u001b[0m\n\u001b[1;32m      5\u001b[0m '''\n",
      "\u001b[0;32m/usr/local/lib/python2.7/site-packages/sklearn/utils/metaestimators.pyc\u001b[0m in \u001b[0;36m<lambda>\u001b[0;34m(*args, **kwargs)\u001b[0m\n\u001b[1;32m     35\u001b[0m             \u001b[0mself\u001b[0m\u001b[0;34m.\u001b[0m\u001b[0mget_attribute\u001b[0m\u001b[0;34m(\u001b[0m\u001b[0mobj\u001b[0m\u001b[0;34m)\u001b[0m\u001b[0;34m\u001b[0m\u001b[0m\n\u001b[1;32m     36\u001b[0m         \u001b[0;31m# lambda, but not partial, allows help() to work with update_wrapper\u001b[0m\u001b[0;34m\u001b[0m\u001b[0;34m\u001b[0m\u001b[0m\n\u001b[0;32m---> 37\u001b[0;31m         \u001b[0mout\u001b[0m \u001b[0;34m=\u001b[0m \u001b[0;32mlambda\u001b[0m \u001b[0;34m*\u001b[0m\u001b[0margs\u001b[0m\u001b[0;34m,\u001b[0m \u001b[0;34m**\u001b[0m\u001b[0mkwargs\u001b[0m\u001b[0;34m:\u001b[0m \u001b[0mself\u001b[0m\u001b[0;34m.\u001b[0m\u001b[0mfn\u001b[0m\u001b[0;34m(\u001b[0m\u001b[0mobj\u001b[0m\u001b[0;34m,\u001b[0m \u001b[0;34m*\u001b[0m\u001b[0margs\u001b[0m\u001b[0;34m,\u001b[0m \u001b[0;34m**\u001b[0m\u001b[0mkwargs\u001b[0m\u001b[0;34m)\u001b[0m\u001b[0;34m\u001b[0m\u001b[0m\n\u001b[0m\u001b[1;32m     38\u001b[0m         \u001b[0;31m# update the docstring of the returned function\u001b[0m\u001b[0;34m\u001b[0m\u001b[0;34m\u001b[0m\u001b[0m\n\u001b[1;32m     39\u001b[0m         \u001b[0mupdate_wrapper\u001b[0m\u001b[0;34m(\u001b[0m\u001b[0mout\u001b[0m\u001b[0;34m,\u001b[0m \u001b[0mself\u001b[0m\u001b[0;34m.\u001b[0m\u001b[0mfn\u001b[0m\u001b[0;34m)\u001b[0m\u001b[0;34m\u001b[0m\u001b[0m\n",
      "\u001b[0;32m/usr/local/lib/python2.7/site-packages/sklearn/pipeline.pyc\u001b[0m in \u001b[0;36mpredict\u001b[0;34m(self, X)\u001b[0m\n\u001b[1;32m    177\u001b[0m         \u001b[0mXt\u001b[0m \u001b[0;34m=\u001b[0m \u001b[0mX\u001b[0m\u001b[0;34m\u001b[0m\u001b[0m\n\u001b[1;32m    178\u001b[0m         \u001b[0;32mfor\u001b[0m \u001b[0mname\u001b[0m\u001b[0;34m,\u001b[0m \u001b[0mtransform\u001b[0m \u001b[0;32min\u001b[0m \u001b[0mself\u001b[0m\u001b[0;34m.\u001b[0m\u001b[0msteps\u001b[0m\u001b[0;34m[\u001b[0m\u001b[0;34m:\u001b[0m\u001b[0;34m-\u001b[0m\u001b[0;36m1\u001b[0m\u001b[0;34m]\u001b[0m\u001b[0;34m:\u001b[0m\u001b[0;34m\u001b[0m\u001b[0m\n\u001b[0;32m--> 179\u001b[0;31m             \u001b[0mXt\u001b[0m \u001b[0;34m=\u001b[0m \u001b[0mtransform\u001b[0m\u001b[0;34m.\u001b[0m\u001b[0mtransform\u001b[0m\u001b[0;34m(\u001b[0m\u001b[0mXt\u001b[0m\u001b[0;34m)\u001b[0m\u001b[0;34m\u001b[0m\u001b[0m\n\u001b[0m\u001b[1;32m    180\u001b[0m         \u001b[0;32mreturn\u001b[0m \u001b[0mself\u001b[0m\u001b[0;34m.\u001b[0m\u001b[0msteps\u001b[0m\u001b[0;34m[\u001b[0m\u001b[0;34m-\u001b[0m\u001b[0;36m1\u001b[0m\u001b[0;34m]\u001b[0m\u001b[0;34m[\u001b[0m\u001b[0;34m-\u001b[0m\u001b[0;36m1\u001b[0m\u001b[0;34m]\u001b[0m\u001b[0;34m.\u001b[0m\u001b[0mpredict\u001b[0m\u001b[0;34m(\u001b[0m\u001b[0mXt\u001b[0m\u001b[0;34m)\u001b[0m\u001b[0;34m\u001b[0m\u001b[0m\n\u001b[1;32m    181\u001b[0m \u001b[0;34m\u001b[0m\u001b[0m\n",
      "\u001b[0;32m/usr/local/lib/python2.7/site-packages/sklearn/preprocessing/data.pyc\u001b[0m in \u001b[0;36mtransform\u001b[0;34m(self, X, y, copy)\u001b[0m\n\u001b[1;32m    391\u001b[0m         \u001b[0;32melse\u001b[0m\u001b[0;34m:\u001b[0m\u001b[0;34m\u001b[0m\u001b[0m\n\u001b[1;32m    392\u001b[0m             \u001b[0;32mif\u001b[0m \u001b[0mself\u001b[0m\u001b[0;34m.\u001b[0m\u001b[0mwith_mean\u001b[0m\u001b[0;34m:\u001b[0m\u001b[0;34m\u001b[0m\u001b[0m\n\u001b[0;32m--> 393\u001b[0;31m                 \u001b[0mX\u001b[0m \u001b[0;34m-=\u001b[0m \u001b[0mself\u001b[0m\u001b[0;34m.\u001b[0m\u001b[0mmean_\u001b[0m\u001b[0;34m\u001b[0m\u001b[0m\n\u001b[0m\u001b[1;32m    394\u001b[0m             \u001b[0;32mif\u001b[0m \u001b[0mself\u001b[0m\u001b[0;34m.\u001b[0m\u001b[0mwith_std\u001b[0m\u001b[0;34m:\u001b[0m\u001b[0;34m\u001b[0m\u001b[0m\n\u001b[1;32m    395\u001b[0m                 \u001b[0mX\u001b[0m \u001b[0;34m/=\u001b[0m \u001b[0mself\u001b[0m\u001b[0;34m.\u001b[0m\u001b[0mstd_\u001b[0m\u001b[0;34m\u001b[0m\u001b[0m\n",
      "\u001b[0;31mValueError\u001b[0m: operands could not be broadcast together with shapes (31,42) (11,) (31,42) "
     ]
    }
   ],
   "source": [
    "new_pred = clf.predict(new_X)\n",
    "for i in xrange(len(tickers)):\n",
    "    print i, tickers[i], new_pred[i]\n",
    "    \n",
    "'''\n",
    "\n",
    "0 ARNA 0\n",
    "1 ATNM 0\n",
    "2 AVXL 0\n",
    "3 AXN 0\n",
    "4 BLFS 0\n",
    "5 BOTA 1\n",
    "6 CBLI 0\n",
    "7 CPRX 0\n",
    "8 DARA 0\n",
    "9 ECYT 0\n",
    "10 EDAP 0\n",
    "11 EXAS 0\n",
    "12 HALO 0\n",
    "13 IDRA 0\n",
    "14 INO 0\n",
    "15 LOXO 0\n",
    "16 LPCN 0\n",
    "17 MEIP 0\n",
    "18 MNKD 0\n",
    "19 OREX 0\n",
    "20 PGNX 1\n",
    "21 QLTI 0\n",
    "22 RMTI 0\n",
    "23 SGYP 0\n",
    "24 SNGX 0\n",
    "25 SPY 0\n",
    "26 SYN 1\n",
    "27 TENX 0\n",
    "28 THLD 0\n",
    "29 TNXP 0\n",
    "30 TPIV 1\n",
    "'''"
   ]
  }
 ],
 "metadata": {
  "kernelspec": {
   "display_name": "Python 2",
   "language": "python",
   "name": "python2"
  },
  "language_info": {
   "codemirror_mode": {
    "name": "ipython",
    "version": 2
   },
   "file_extension": ".py",
   "mimetype": "text/x-python",
   "name": "python",
   "nbconvert_exporter": "python",
   "pygments_lexer": "ipython2",
   "version": "2.7.10"
  }
 },
 "nbformat": 4,
 "nbformat_minor": 0
}
