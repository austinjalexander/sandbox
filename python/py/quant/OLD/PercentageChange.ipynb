{
 "cells": [
  {
   "cell_type": "code",
   "execution_count": 314,
   "metadata": {
    "collapsed": false
   },
   "outputs": [],
   "source": [
    "import requests\n",
    "import csv\n",
    "import numpy as np\n",
    "import pandas as pd\n",
    "import datetime\n",
    "import Quandl\n",
    "from matplotlib import pyplot as plt\n",
    "%matplotlib inline\n",
    "\n",
    "from sklearn.cross_validation import train_test_split\n",
    "from sklearn.cross_validation import StratifiedShuffleSplit\n",
    "from sklearn.metrics import accuracy_score\n",
    "\n",
    "from sklearn.pipeline import make_pipeline\n",
    "\n",
    "from sklearn.feature_selection import SelectKBest\n",
    "from sklearn.decomposition import RandomizedPCA \n",
    "\n",
    "from sklearn.preprocessing import PolynomialFeatures\n",
    "\n",
    "from sklearn.linear_model import LinearRegression\n",
    "from sklearn.linear_model import Ridge\n",
    "from sklearn.linear_model import Lasso\n",
    "from sklearn.linear_model import BayesianRidge\n",
    "from sklearn.linear_model import SGDRegressor \n",
    "from sklearn.naive_bayes import GaussianNB\n",
    "from sklearn.svm import SVR\n",
    "from sklearn.tree import DecisionTreeRegressor \n",
    "from sklearn.ensemble import GradientBoostingRegressor\n",
    "\n",
    "from sklearn.grid_search import GridSearchCV"
   ]
  },
  {
   "cell_type": "code",
   "execution_count": 213,
   "metadata": {
    "collapsed": false
   },
   "outputs": [],
   "source": [
    "def get_stock_data(ticker, seconds_interval, num_of_days, site):\n",
    "    \n",
    "    url = \"\"\n",
    "    if site == \"google\":\n",
    "        url = \"http://www.google.com/finance/getprices?q={0}&i={1}&p={2}d&f=d,o,h,l,c,v\".format(ticker, seconds_interval, num_of_days)\n",
    "    if site == \"yahoo\":\n",
    "        url = \"http://chartapi.finance.yahoo.com/instrument/1.0/{0}/chartdata;type=quote;range={1}d/csv\".format(ticker, num_of_days)\n",
    "    \n",
    "    #r = requests.get(url)\n",
    "    #print r.status_code\n",
    "    #print r.headers\n",
    "    #print r.content[:200]\n",
    "    \n",
    "    stock_df = []\n",
    "    if site == \"google\":\n",
    "        \n",
    "        # get data and convert to data frame\n",
    "        stock_df = pd.read_csv(url, skiprows=[0,1,2,3,5,6])\n",
    "        \n",
    "        # keep only 140 rows\n",
    "        stock_df = stock_df[:140]\n",
    "        \n",
    "        #if num_of_days == 10:\n",
    "        assert stock_df.shape[0] == 140, \"140 rows expected, instead received {0} rows for {1}\".format(stock_df.shape[0], ticker)\n",
    "        assert stock_df.shape[1] == 6, \"6 columns expected, instead received {0} columns for {1}\".format(stock_df.shape[1], ticker)\n",
    "        \n",
    "        # rename column name\n",
    "        stock_df.rename(columns={'COLUMNS=DATE':'time'}, inplace=True)\n",
    "        \n",
    "        # remove 'a' from unix timestamps\n",
    "        stock_df.replace(to_replace={'time':{'a':''}}, regex=True, inplace=True)\n",
    "        \n",
    "        # get entire column and convert to ints\n",
    "        time_indices = [int(x) for x in stock_df['time'].values]\n",
    "        \n",
    "        # keep track of current timestamp\n",
    "        last_timestamp = time_indices[0]\n",
    "        \n",
    "        # convert unix timestamp abbreviations into full unix timestamps\n",
    "        for i in range(len(time_indices)):\n",
    "            if time_indices[i] < last_timestamp:\n",
    "                time_indices[i] = last_timestamp + (time_indices[i] * seconds_interval)\n",
    "            else:\n",
    "                last_timestamp = time_indices[i]\n",
    "                \n",
    "        # convert unix timestamps to human-readable formats\n",
    "        time_indices = [datetime.datetime.fromtimestamp(x).strftime('%Y-%m-%d %H:%M:%S') for x in time_indices]\n",
    "        #print time_indices\n",
    "\n",
    "        # print first and last\n",
    "        #print \"first: {}\".format(time_indices[0]), \"last: {}\".format(time_indices[-1])\n",
    "\n",
    "        # keep 5-minute times (i.e., no dates)\n",
    "        times = [float(x[-8:-3].replace(':','.')) for x in time_indices]\n",
    "        \n",
    "        # create new column in data frame\n",
    "        stock_df['time'] = times\n",
    "\n",
    "        # keep date\n",
    "        #dates = [x[:10] for x in time_indices]\n",
    "        # create new column in data frame\n",
    "        #stock_df['DATE'] = dates    \n",
    "        \n",
    "        # remove values \n",
    "        #print \"remove lesser values after final (max): \", stock_df['TIMEINDEX'].unique()[-6:-1]\n",
    "        #for x in stock_df['TIMEINDEX'].unique()[-5:-1]:\n",
    "        #    stock_df = stock_df[stock_df['TIMEINDEX'] != x]\n",
    "        \n",
    "        # create features\n",
    "        stock_df['op_cl%'] = np.true_divide((stock_df['CLOSE'] - stock_df['OPEN']), stock_df['CLOSE'])\n",
    "        stock_df['lo_hi%'] = np.true_divide((stock_df['HIGH'] - stock_df['LOW']), stock_df['HIGH'])\n",
    "        stock_df['vol_norm'] = np.true_divide(stock_df['VOLUME'], np.max(stock_df['VOLUME']))\n",
    "        \n",
    "        # save for labels\n",
    "        labels_df = stock_df\n",
    "        #print labels_df[-15:]\n",
    "        \n",
    "        if labels_df.iloc[-15,0] == 16.0:\n",
    "            labels_df = labels_df[-15:]\n",
    "        elif labels_df.iloc[-15,0] == 9.3:\n",
    "            labels_df = labels_df[-16:-1]\n",
    "        elif labels_df.iloc[-15,0] == 10.0:\n",
    "            labels_df = labels_df[-17:-2]\n",
    "            \n",
    "        #print \"first: {}\".format(labels_df.iloc[0,0]), \"last: {}\".format(labels_df.iloc[-1,0])\n",
    "        time_check = 16.0\n",
    "        first_time = labels_df.iloc[0,0]\n",
    "        last_time = labels_df.iloc[-1,0]\n",
    "        assert first_time == time_check, \"first time should be {0}, instead received {1} for {2}\".format(time_check, first_time, ticker)\n",
    "        assert last_time == time_check, \"last time should be {0}, instead received {1} for {2}\".format(time_check, last_time, ticker)\n",
    "        \n",
    "        # remove columns\n",
    "        stock_df = stock_df.drop(['CLOSE', 'OPEN', 'LOW', 'HIGH', 'VOLUME'], axis=1)\n",
    "        \n",
    "        #print \"shape:\", stock_df.shape\n",
    "        \n",
    "    if site == \"yahoo\":\n",
    "        # get data and convert to data frame\n",
    "        stock_df = pd.read_csv(url, skiprows=27, header=None, names=['timestamp','close','high','low','open','volume'])\n",
    "        # convert unixtimestamp strings to ints\n",
    "        time_indices = [int(x) for x in stock_df['timestamp'].values]\n",
    "        # convert unix timestamps to human-readable format\n",
    "        time_indices = [datetime.datetime.fromtimestamp(x).strftime('%Y-%m-%d %H:%M:%S') for x in time_indices]\n",
    "        # get just the times\n",
    "        stock_df['time'] = [float(x[-8:-3].replace(':','.')) for x in time_indices]\n",
    "        # get weekday as int value\n",
    "        #stock_df['day'] = [datetime.datetime.strptime(x[:10], '%Y-%m-%d').weekday() for x in time_indices]\n",
    "    \n",
    "        # create features\n",
    "        stock_df['op_cl%'] = np.true_divide((stock_df['close'] - stock_df['open']), stock_df['close'])\n",
    "        stock_df['lo_hi%'] = np.true_divide((stock_df['high'] - stock_df['low']), stock_df['high'])\n",
    "        stock_df['vol_norm'] = np.true_divide(stock_df['volume'], np.max(stock_df['volume']))\n",
    "        \n",
    "        # remove columns\n",
    "        stock_df = stock_df.drop(['timestamp', 'close', 'open', 'low', 'high', 'volume'], axis=1)\n",
    "        \n",
    "        rows_exp = 770\n",
    "        cols_exp = 8\n",
    "        #assert stock_df.shape[0] == 770, \"{0} rows expected, instead received: {1}\".format(rows_exp, stock_df.shape[0])\n",
    "        #assert stock_df.shape[1] == 8, \"{0} columns expected, instead received: {1}\".format(cols_exp, stock_df.shape[1])\n",
    "        #print \"shape:\", stock_df.shape\n",
    "    \n",
    "    return stock_df, labels_df"
   ]
  },
  {
   "cell_type": "code",
   "execution_count": 214,
   "metadata": {
    "collapsed": false
   },
   "outputs": [
    {
     "data": {
      "text/html": [
       "<div style=\"max-height:1000px;max-width:1500px;overflow:auto;\">\n",
       "<table border=\"1\" class=\"dataframe\">\n",
       "  <thead>\n",
       "    <tr style=\"text-align: right;\">\n",
       "      <th></th>\n",
       "      <th>time</th>\n",
       "      <th>op_cl%</th>\n",
       "      <th>lo_hi%</th>\n",
       "      <th>vol_norm</th>\n",
       "    </tr>\n",
       "  </thead>\n",
       "  <tbody>\n",
       "    <tr>\n",
       "      <th>0</th>\n",
       "      <td>9.3</td>\n",
       "      <td>0.000000</td>\n",
       "      <td>0.000000</td>\n",
       "      <td>0.051638</td>\n",
       "    </tr>\n",
       "    <tr>\n",
       "      <th>1</th>\n",
       "      <td>10.0</td>\n",
       "      <td>-0.027344</td>\n",
       "      <td>0.034091</td>\n",
       "      <td>0.554593</td>\n",
       "    </tr>\n",
       "    <tr>\n",
       "      <th>2</th>\n",
       "      <td>10.3</td>\n",
       "      <td>0.001946</td>\n",
       "      <td>0.013566</td>\n",
       "      <td>0.321891</td>\n",
       "    </tr>\n",
       "    <tr>\n",
       "      <th>3</th>\n",
       "      <td>11.0</td>\n",
       "      <td>0.005983</td>\n",
       "      <td>0.011561</td>\n",
       "      <td>0.193901</td>\n",
       "    </tr>\n",
       "    <tr>\n",
       "      <th>4</th>\n",
       "      <td>11.3</td>\n",
       "      <td>-0.013699</td>\n",
       "      <td>0.023121</td>\n",
       "      <td>0.457012</td>\n",
       "    </tr>\n",
       "  </tbody>\n",
       "</table>\n",
       "</div>"
      ],
      "text/plain": [
       "   time    op_cl%    lo_hi%  vol_norm\n",
       "0   9.3  0.000000  0.000000  0.051638\n",
       "1  10.0 -0.027344  0.034091  0.554593\n",
       "2  10.3  0.001946  0.013566  0.321891\n",
       "3  11.0  0.005983  0.011561  0.193901\n",
       "4  11.3 -0.013699  0.023121  0.457012"
      ]
     },
     "execution_count": 214,
     "metadata": {},
     "output_type": "execute_result"
    }
   ],
   "source": [
    "ticker = \"CPRX\" # CPRX\n",
    "seconds_interval = 1800 # 300: 5-minute, 1800: 30-minute (seems the most consistent)\n",
    "num_of_days = 10 # 50 for google, 10 for yahoo\n",
    "site = \"google\" # google, yahoo\n",
    "stock_df, labels_df = get_stock_data(ticker, seconds_interval, num_of_days, site)\n",
    "stock_df.head()"
   ]
  },
  {
   "cell_type": "code",
   "execution_count": 215,
   "metadata": {
    "collapsed": false
   },
   "outputs": [
    {
     "data": {
      "text/html": [
       "<div style=\"max-height:1000px;max-width:1500px;overflow:auto;\">\n",
       "<table border=\"1\" class=\"dataframe\">\n",
       "  <thead>\n",
       "    <tr style=\"text-align: right;\">\n",
       "      <th></th>\n",
       "      <th>time</th>\n",
       "      <th>op_cl%</th>\n",
       "      <th>lo_hi%</th>\n",
       "      <th>vol_norm</th>\n",
       "    </tr>\n",
       "  </thead>\n",
       "  <tbody>\n",
       "    <tr>\n",
       "      <th>120</th>\n",
       "      <td>13.3</td>\n",
       "      <td>0.006579</td>\n",
       "      <td>0.010941</td>\n",
       "      <td>0.088052</td>\n",
       "    </tr>\n",
       "    <tr>\n",
       "      <th>121</th>\n",
       "      <td>14.0</td>\n",
       "      <td>-0.003956</td>\n",
       "      <td>0.012473</td>\n",
       "      <td>0.148771</td>\n",
       "    </tr>\n",
       "    <tr>\n",
       "      <th>122</th>\n",
       "      <td>14.3</td>\n",
       "      <td>-0.002208</td>\n",
       "      <td>0.024229</td>\n",
       "      <td>0.346880</td>\n",
       "    </tr>\n",
       "    <tr>\n",
       "      <th>123</th>\n",
       "      <td>15.0</td>\n",
       "      <td>-0.011161</td>\n",
       "      <td>0.022004</td>\n",
       "      <td>0.237874</td>\n",
       "    </tr>\n",
       "    <tr>\n",
       "      <th>124</th>\n",
       "      <td>15.3</td>\n",
       "      <td>0.003337</td>\n",
       "      <td>0.012155</td>\n",
       "      <td>0.359630</td>\n",
       "    </tr>\n",
       "    <tr>\n",
       "      <th>125</th>\n",
       "      <td>16.0</td>\n",
       "      <td>0.000000</td>\n",
       "      <td>0.011062</td>\n",
       "      <td>0.711875</td>\n",
       "    </tr>\n",
       "    <tr>\n",
       "      <th>126</th>\n",
       "      <td>9.3</td>\n",
       "      <td>0.000000</td>\n",
       "      <td>0.000000</td>\n",
       "      <td>0.041344</td>\n",
       "    </tr>\n",
       "    <tr>\n",
       "      <th>127</th>\n",
       "      <td>10.0</td>\n",
       "      <td>0.028384</td>\n",
       "      <td>0.034934</td>\n",
       "      <td>0.707511</td>\n",
       "    </tr>\n",
       "    <tr>\n",
       "      <th>128</th>\n",
       "      <td>10.3</td>\n",
       "      <td>-0.035225</td>\n",
       "      <td>0.036202</td>\n",
       "      <td>0.241405</td>\n",
       "    </tr>\n",
       "    <tr>\n",
       "      <th>129</th>\n",
       "      <td>11.0</td>\n",
       "      <td>0.017756</td>\n",
       "      <td>0.023118</td>\n",
       "      <td>0.117666</td>\n",
       "    </tr>\n",
       "    <tr>\n",
       "      <th>130</th>\n",
       "      <td>11.3</td>\n",
       "      <td>-0.008969</td>\n",
       "      <td>0.019690</td>\n",
       "      <td>0.174227</td>\n",
       "    </tr>\n",
       "    <tr>\n",
       "      <th>131</th>\n",
       "      <td>12.0</td>\n",
       "      <td>-0.009029</td>\n",
       "      <td>0.013423</td>\n",
       "      <td>0.148075</td>\n",
       "    </tr>\n",
       "    <tr>\n",
       "      <th>132</th>\n",
       "      <td>12.3</td>\n",
       "      <td>-0.009112</td>\n",
       "      <td>0.011287</td>\n",
       "      <td>0.373181</td>\n",
       "    </tr>\n",
       "    <tr>\n",
       "      <th>133</th>\n",
       "      <td>13.0</td>\n",
       "      <td>-0.004520</td>\n",
       "      <td>0.013636</td>\n",
       "      <td>0.281449</td>\n",
       "    </tr>\n",
       "    <tr>\n",
       "      <th>134</th>\n",
       "      <td>13.3</td>\n",
       "      <td>-0.011220</td>\n",
       "      <td>0.013349</td>\n",
       "      <td>0.154782</td>\n",
       "    </tr>\n",
       "    <tr>\n",
       "      <th>135</th>\n",
       "      <td>14.0</td>\n",
       "      <td>0.011416</td>\n",
       "      <td>0.024943</td>\n",
       "      <td>0.079567</td>\n",
       "    </tr>\n",
       "    <tr>\n",
       "      <th>136</th>\n",
       "      <td>14.3</td>\n",
       "      <td>0.006803</td>\n",
       "      <td>0.013536</td>\n",
       "      <td>0.096842</td>\n",
       "    </tr>\n",
       "    <tr>\n",
       "      <th>137</th>\n",
       "      <td>15.0</td>\n",
       "      <td>0.004515</td>\n",
       "      <td>0.022728</td>\n",
       "      <td>0.275873</td>\n",
       "    </tr>\n",
       "    <tr>\n",
       "      <th>138</th>\n",
       "      <td>15.3</td>\n",
       "      <td>0.004494</td>\n",
       "      <td>0.014535</td>\n",
       "      <td>0.204164</td>\n",
       "    </tr>\n",
       "    <tr>\n",
       "      <th>139</th>\n",
       "      <td>16.0</td>\n",
       "      <td>-0.001306</td>\n",
       "      <td>0.011208</td>\n",
       "      <td>0.578955</td>\n",
       "    </tr>\n",
       "  </tbody>\n",
       "</table>\n",
       "</div>"
      ],
      "text/plain": [
       "     time    op_cl%    lo_hi%  vol_norm\n",
       "120  13.3  0.006579  0.010941  0.088052\n",
       "121  14.0 -0.003956  0.012473  0.148771\n",
       "122  14.3 -0.002208  0.024229  0.346880\n",
       "123  15.0 -0.011161  0.022004  0.237874\n",
       "124  15.3  0.003337  0.012155  0.359630\n",
       "125  16.0  0.000000  0.011062  0.711875\n",
       "126   9.3  0.000000  0.000000  0.041344\n",
       "127  10.0  0.028384  0.034934  0.707511\n",
       "128  10.3 -0.035225  0.036202  0.241405\n",
       "129  11.0  0.017756  0.023118  0.117666\n",
       "130  11.3 -0.008969  0.019690  0.174227\n",
       "131  12.0 -0.009029  0.013423  0.148075\n",
       "132  12.3 -0.009112  0.011287  0.373181\n",
       "133  13.0 -0.004520  0.013636  0.281449\n",
       "134  13.3 -0.011220  0.013349  0.154782\n",
       "135  14.0  0.011416  0.024943  0.079567\n",
       "136  14.3  0.006803  0.013536  0.096842\n",
       "137  15.0  0.004515  0.022728  0.275873\n",
       "138  15.3  0.004494  0.014535  0.204164\n",
       "139  16.0 -0.001306  0.011208  0.578955"
      ]
     },
     "execution_count": 215,
     "metadata": {},
     "output_type": "execute_result"
    }
   ],
   "source": [
    "stock_df.tail(20)"
   ]
  },
  {
   "cell_type": "code",
   "execution_count": 216,
   "metadata": {
    "collapsed": false
   },
   "outputs": [
    {
     "data": {
      "text/plain": [
       "(504,)"
      ]
     },
     "execution_count": 216,
     "metadata": {},
     "output_type": "execute_result"
    }
   ],
   "source": [
    "X = stock_df.values[:-14].flatten()\n",
    "X.shape"
   ]
  },
  {
   "cell_type": "code",
   "execution_count": 217,
   "metadata": {
    "collapsed": false
   },
   "outputs": [
    {
     "data": {
      "text/html": [
       "<div style=\"max-height:1000px;max-width:1500px;overflow:auto;\">\n",
       "<table border=\"1\" class=\"dataframe\">\n",
       "  <thead>\n",
       "    <tr style=\"text-align: right;\">\n",
       "      <th></th>\n",
       "      <th>time</th>\n",
       "      <th>CLOSE</th>\n",
       "      <th>HIGH</th>\n",
       "      <th>LOW</th>\n",
       "      <th>OPEN</th>\n",
       "      <th>VOLUME</th>\n",
       "      <th>op_cl%</th>\n",
       "      <th>lo_hi%</th>\n",
       "      <th>vol_norm</th>\n",
       "    </tr>\n",
       "  </thead>\n",
       "  <tbody>\n",
       "    <tr>\n",
       "      <th>125</th>\n",
       "      <td>16.0</td>\n",
       "      <td>4.5000</td>\n",
       "      <td>4.5200</td>\n",
       "      <td>4.4700</td>\n",
       "      <td>4.5000</td>\n",
       "      <td>114520</td>\n",
       "      <td>0.000000</td>\n",
       "      <td>0.011062</td>\n",
       "      <td>0.711875</td>\n",
       "    </tr>\n",
       "    <tr>\n",
       "      <th>126</th>\n",
       "      <td>9.3</td>\n",
       "      <td>4.4600</td>\n",
       "      <td>4.4600</td>\n",
       "      <td>4.4600</td>\n",
       "      <td>4.4600</td>\n",
       "      <td>6651</td>\n",
       "      <td>0.000000</td>\n",
       "      <td>0.000000</td>\n",
       "      <td>0.041344</td>\n",
       "    </tr>\n",
       "    <tr>\n",
       "      <th>127</th>\n",
       "      <td>10.0</td>\n",
       "      <td>4.5800</td>\n",
       "      <td>4.5800</td>\n",
       "      <td>4.4200</td>\n",
       "      <td>4.4500</td>\n",
       "      <td>113818</td>\n",
       "      <td>0.028384</td>\n",
       "      <td>0.034934</td>\n",
       "      <td>0.707511</td>\n",
       "    </tr>\n",
       "    <tr>\n",
       "      <th>128</th>\n",
       "      <td>10.3</td>\n",
       "      <td>4.4400</td>\n",
       "      <td>4.5964</td>\n",
       "      <td>4.4300</td>\n",
       "      <td>4.5964</td>\n",
       "      <td>38835</td>\n",
       "      <td>-0.035225</td>\n",
       "      <td>0.036202</td>\n",
       "      <td>0.241405</td>\n",
       "    </tr>\n",
       "    <tr>\n",
       "      <th>129</th>\n",
       "      <td>11.0</td>\n",
       "      <td>4.5000</td>\n",
       "      <td>4.5247</td>\n",
       "      <td>4.4201</td>\n",
       "      <td>4.4201</td>\n",
       "      <td>18929</td>\n",
       "      <td>0.017756</td>\n",
       "      <td>0.023118</td>\n",
       "      <td>0.117666</td>\n",
       "    </tr>\n",
       "    <tr>\n",
       "      <th>130</th>\n",
       "      <td>11.3</td>\n",
       "      <td>4.4600</td>\n",
       "      <td>4.5200</td>\n",
       "      <td>4.4310</td>\n",
       "      <td>4.5000</td>\n",
       "      <td>28028</td>\n",
       "      <td>-0.008969</td>\n",
       "      <td>0.019690</td>\n",
       "      <td>0.174227</td>\n",
       "    </tr>\n",
       "    <tr>\n",
       "      <th>131</th>\n",
       "      <td>12.0</td>\n",
       "      <td>4.4300</td>\n",
       "      <td>4.4700</td>\n",
       "      <td>4.4100</td>\n",
       "      <td>4.4700</td>\n",
       "      <td>23821</td>\n",
       "      <td>-0.009029</td>\n",
       "      <td>0.013423</td>\n",
       "      <td>0.148075</td>\n",
       "    </tr>\n",
       "    <tr>\n",
       "      <th>132</th>\n",
       "      <td>12.3</td>\n",
       "      <td>4.3900</td>\n",
       "      <td>4.4300</td>\n",
       "      <td>4.3800</td>\n",
       "      <td>4.4300</td>\n",
       "      <td>60034</td>\n",
       "      <td>-0.009112</td>\n",
       "      <td>0.011287</td>\n",
       "      <td>0.373181</td>\n",
       "    </tr>\n",
       "    <tr>\n",
       "      <th>133</th>\n",
       "      <td>13.0</td>\n",
       "      <td>4.3801</td>\n",
       "      <td>4.4000</td>\n",
       "      <td>4.3400</td>\n",
       "      <td>4.3999</td>\n",
       "      <td>45277</td>\n",
       "      <td>-0.004520</td>\n",
       "      <td>0.013636</td>\n",
       "      <td>0.281449</td>\n",
       "    </tr>\n",
       "    <tr>\n",
       "      <th>134</th>\n",
       "      <td>13.3</td>\n",
       "      <td>4.3314</td>\n",
       "      <td>4.3900</td>\n",
       "      <td>4.3314</td>\n",
       "      <td>4.3800</td>\n",
       "      <td>24900</td>\n",
       "      <td>-0.011220</td>\n",
       "      <td>0.013349</td>\n",
       "      <td>0.154782</td>\n",
       "    </tr>\n",
       "    <tr>\n",
       "      <th>135</th>\n",
       "      <td>14.0</td>\n",
       "      <td>4.3800</td>\n",
       "      <td>4.4100</td>\n",
       "      <td>4.3000</td>\n",
       "      <td>4.3300</td>\n",
       "      <td>12800</td>\n",
       "      <td>0.011416</td>\n",
       "      <td>0.024943</td>\n",
       "      <td>0.079567</td>\n",
       "    </tr>\n",
       "    <tr>\n",
       "      <th>136</th>\n",
       "      <td>14.3</td>\n",
       "      <td>4.4100</td>\n",
       "      <td>4.4400</td>\n",
       "      <td>4.3799</td>\n",
       "      <td>4.3800</td>\n",
       "      <td>15579</td>\n",
       "      <td>0.006803</td>\n",
       "      <td>0.013536</td>\n",
       "      <td>0.096842</td>\n",
       "    </tr>\n",
       "    <tr>\n",
       "      <th>137</th>\n",
       "      <td>15.0</td>\n",
       "      <td>4.4300</td>\n",
       "      <td>4.4614</td>\n",
       "      <td>4.3600</td>\n",
       "      <td>4.4100</td>\n",
       "      <td>44380</td>\n",
       "      <td>0.004515</td>\n",
       "      <td>0.022728</td>\n",
       "      <td>0.275873</td>\n",
       "    </tr>\n",
       "    <tr>\n",
       "      <th>138</th>\n",
       "      <td>15.3</td>\n",
       "      <td>4.4500</td>\n",
       "      <td>4.4650</td>\n",
       "      <td>4.4001</td>\n",
       "      <td>4.4300</td>\n",
       "      <td>32844</td>\n",
       "      <td>0.004494</td>\n",
       "      <td>0.014535</td>\n",
       "      <td>0.204164</td>\n",
       "    </tr>\n",
       "    <tr>\n",
       "      <th>139</th>\n",
       "      <td>16.0</td>\n",
       "      <td>4.4400</td>\n",
       "      <td>4.4700</td>\n",
       "      <td>4.4199</td>\n",
       "      <td>4.4458</td>\n",
       "      <td>93137</td>\n",
       "      <td>-0.001306</td>\n",
       "      <td>0.011208</td>\n",
       "      <td>0.578955</td>\n",
       "    </tr>\n",
       "  </tbody>\n",
       "</table>\n",
       "</div>"
      ],
      "text/plain": [
       "     time   CLOSE    HIGH     LOW    OPEN  VOLUME    op_cl%    lo_hi%  \\\n",
       "125  16.0  4.5000  4.5200  4.4700  4.5000  114520  0.000000  0.011062   \n",
       "126   9.3  4.4600  4.4600  4.4600  4.4600    6651  0.000000  0.000000   \n",
       "127  10.0  4.5800  4.5800  4.4200  4.4500  113818  0.028384  0.034934   \n",
       "128  10.3  4.4400  4.5964  4.4300  4.5964   38835 -0.035225  0.036202   \n",
       "129  11.0  4.5000  4.5247  4.4201  4.4201   18929  0.017756  0.023118   \n",
       "130  11.3  4.4600  4.5200  4.4310  4.5000   28028 -0.008969  0.019690   \n",
       "131  12.0  4.4300  4.4700  4.4100  4.4700   23821 -0.009029  0.013423   \n",
       "132  12.3  4.3900  4.4300  4.3800  4.4300   60034 -0.009112  0.011287   \n",
       "133  13.0  4.3801  4.4000  4.3400  4.3999   45277 -0.004520  0.013636   \n",
       "134  13.3  4.3314  4.3900  4.3314  4.3800   24900 -0.011220  0.013349   \n",
       "135  14.0  4.3800  4.4100  4.3000  4.3300   12800  0.011416  0.024943   \n",
       "136  14.3  4.4100  4.4400  4.3799  4.3800   15579  0.006803  0.013536   \n",
       "137  15.0  4.4300  4.4614  4.3600  4.4100   44380  0.004515  0.022728   \n",
       "138  15.3  4.4500  4.4650  4.4001  4.4300   32844  0.004494  0.014535   \n",
       "139  16.0  4.4400  4.4700  4.4199  4.4458   93137 -0.001306  0.011208   \n",
       "\n",
       "     vol_norm  \n",
       "125  0.711875  \n",
       "126  0.041344  \n",
       "127  0.707511  \n",
       "128  0.241405  \n",
       "129  0.117666  \n",
       "130  0.174227  \n",
       "131  0.148075  \n",
       "132  0.373181  \n",
       "133  0.281449  \n",
       "134  0.154782  \n",
       "135  0.079567  \n",
       "136  0.096842  \n",
       "137  0.275873  \n",
       "138  0.204164  \n",
       "139  0.578955  "
      ]
     },
     "execution_count": 217,
     "metadata": {},
     "output_type": "execute_result"
    }
   ],
   "source": [
    "labels_df"
   ]
  },
  {
   "cell_type": "code",
   "execution_count": 218,
   "metadata": {
    "collapsed": false
   },
   "outputs": [],
   "source": [
    "# (today's close - yesterday's close) / yesterday's close\n",
    "y = np.round(np.true_divide((labels_df.iloc[-1].values[1] - labels_df.iloc[0].values[1]), labels_df.iloc[0].values[1]), 3)"
   ]
  },
  {
   "cell_type": "code",
   "execution_count": 219,
   "metadata": {
    "collapsed": false
   },
   "outputs": [
    {
     "data": {
      "text/plain": [
       "-0.012999999999999999"
      ]
     },
     "execution_count": 219,
     "metadata": {},
     "output_type": "execute_result"
    }
   ],
   "source": [
    "y"
   ]
  },
  {
   "cell_type": "markdown",
   "metadata": {},
   "source": [
    "---"
   ]
  },
  {
   "cell_type": "code",
   "execution_count": 235,
   "metadata": {
    "collapsed": false
   },
   "outputs": [],
   "source": [
    "tickers = ['ARNA',\n",
    "           #'ATNM',\n",
    "           #'AVXL',\n",
    "           #'AXN',\n",
    "           #'BLFS',\n",
    "           #'BOTA',\n",
    "           #'CBLI',\n",
    "           'CPRX', \n",
    "           #'DARA',\n",
    "           'ECYT',\n",
    "           #'EDAP',\n",
    "           'EXAS',\n",
    "           'HALO',\n",
    "           'IDRA',\n",
    "           'INO',\n",
    "           #'LOXO',\n",
    "           'LPCN',\n",
    "           'MEIP',\n",
    "           'MNKD',\n",
    "           'OREX',\n",
    "           'PGNX',\n",
    "           #'QLTI',\n",
    "           'RMTI',\n",
    "           'SGYP',\n",
    "           #'SNGX',\n",
    "           'SPY',\n",
    "           'SYN', \n",
    "           #'TENX',\n",
    "           'THLD',\n",
    "           'TNXP'\n",
    "           #'TPIV'\n",
    "          ]"
   ]
  },
  {
   "cell_type": "code",
   "execution_count": 225,
   "metadata": {
    "collapsed": false
   },
   "outputs": [],
   "source": [
    "days = [x for x in xrange(10,21)]"
   ]
  },
  {
   "cell_type": "code",
   "execution_count": 236,
   "metadata": {
    "collapsed": false
   },
   "outputs": [],
   "source": [
    "# download data\n",
    "\n",
    "for ticker in tickers:\n",
    "    \n",
    "    for num_of_days in days:\n",
    "        seconds_interval = 1800 # 300: 5-minute, 1800: 30-minute (seems the most consistent)\n",
    "        site = \"google\" # google, yahoo\n",
    "        stock_df, labels_df = get_stock_data(ticker, seconds_interval, num_of_days, site)\n",
    "        \n",
    "        stock_df.to_csv(\"goog_data/{}_features.csv\".format(ticker), index=False)\n",
    "        labels_df.to_csv(\"goog_data/{}_labels.csv\".format(ticker), index=False)"
   ]
  },
  {
   "cell_type": "code",
   "execution_count": 237,
   "metadata": {
    "collapsed": false
   },
   "outputs": [
    {
     "name": "stdout",
     "output_type": "stream",
     "text": [
      "\n",
      "********** \n",
      "final shapes:  (18, 504) (18,)\n"
     ]
    }
   ],
   "source": [
    "# import data\n",
    "\n",
    "X = []\n",
    "y = []\n",
    "\n",
    "for ticker in tickers:\n",
    "\n",
    "        stock_df = pd.read_csv(\"goog_data/{}_features.csv\".format(ticker))\n",
    "        labels_df = pd.read_csv(\"goog_data/{}_labels.csv\".format(ticker))\n",
    "    \n",
    "        features = stock_df.values[:-14].flatten()\n",
    "        features = np.expand_dims(features, axis=0)\n",
    "\n",
    "        if X == []:\n",
    "            X = features\n",
    "        else: \n",
    "            X = np.vstack((X, features))\n",
    "\n",
    "        # (today's close - yesterday's close) / yesterday's close\n",
    "        label = np.round(np.true_divide((labels_df.iloc[-1].values[1] - labels_df.iloc[0].values[1]), labels_df.iloc[0].values[1]), 3)\n",
    "\n",
    "        if y == []:\n",
    "            y = np.array([label])\n",
    "        else:\n",
    "            y = np.append(y, np.array(label))\n",
    "        \n",
    "print \"\\n\", \"*\"*10, \"\\nfinal shapes: \", X.shape, y.shape"
   ]
  },
  {
   "cell_type": "code",
   "execution_count": 317,
   "metadata": {
    "collapsed": false
   },
   "outputs": [
    {
     "data": {
      "text/plain": [
       "array([-0.024, -0.013, -0.032, -0.036, -0.032, -0.048, -0.024, -0.045,\n",
       "       -0.03 , -0.081,  0.097,  0.071, -0.051, -0.061, -0.01 , -0.052,\n",
       "        0.002, -0.056])"
      ]
     },
     "execution_count": 317,
     "metadata": {},
     "output_type": "execute_result"
    }
   ],
   "source": [
    "y"
   ]
  },
  {
   "cell_type": "code",
   "execution_count": 318,
   "metadata": {
    "collapsed": false
   },
   "outputs": [
    {
     "data": {
      "image/png": "[encoded data removed]",
      "text/plain": [
       "<matplotlib.figure.Figure at 0x10e1c7310>"
      ]
     },
     "metadata": {},
     "output_type": "display_data"
    }
   ],
   "source": [
    "plt.hist(y, bins=20, alpha=0.7)\n",
    "plt.show()"
   ]
  },
  {
   "cell_type": "markdown",
   "metadata": {},
   "source": [
    "---"
   ]
  },
  {
   "cell_type": "code",
   "execution_count": null,
   "metadata": {
    "collapsed": false
   },
   "outputs": [],
   "source": [
    "#poly = PolynomialFeatures(degree=3)\n",
    "#X_poly = poly.fit_transform(X)"
   ]
  },
  {
   "cell_type": "code",
   "execution_count": 334,
   "metadata": {
    "collapsed": false
   },
   "outputs": [
    {
     "name": "stdout",
     "output_type": "stream",
     "text": [
      "-1.17356192672\n",
      "-1.17356192672\n",
      "-1.17356192672\n",
      "-2.14318125511\n",
      "-2.74330794604\n",
      "-5.1695040098\n",
      "-1.65171886321\n",
      "-1.63015193457\n"
     ]
    }
   ],
   "source": [
    "for regr in [LinearRegression(), Ridge(), Lasso(), BayesianRidge(), SGDRegressor(), SVR(), DecisionTreeRegressor(), GradientBoostingRegressor()]:\n",
    "    \n",
    "    X_train, X_test, y_train, y_test = train_test_split(X, y, test_size=0.20, random_state=42)\n",
    "    \n",
    "    skb = SelectKBest()\n",
    "    skb.fit(X_train,y_train)\n",
    "    X_train = skb.transform(X_train)\n",
    "    X_test = skb.transform(X_test)\n",
    "    \n",
    "    pca = RandomizedPCA(n_components=2)\n",
    "    pca.fit(X_train,y_train)\n",
    "    X_train = pca.transform(X_train)\n",
    "    X_test = pca.transform(X_test)\n",
    "    \n",
    "    pipeline = make_pipeline(regr)\n",
    "    \n",
    "    params = dict()\n",
    "    \n",
    "    booleans = [True, False]\n",
    "    alphas = [3, 1, 0.3, 0.1, 0.03, 0.01, 0.003, 0.001, 0]\n",
    "    max_iter = [1500]\n",
    "    \n",
    "    if pipeline.steps[0][0] == 'linearregression':\n",
    "        params['linearregression__fit_intercept'] = booleans\n",
    "        params['linearregression__normalize'] = booleans\n",
    "    if pipeline.steps[0][0] == 'ridge':\n",
    "        params['ridge__alpha'] = alphas\n",
    "        params['ridge__fit_intercept'] = booleans\n",
    "        params['ridge__max_iter'] = max_iter\n",
    "    if pipeline.steps[0][0] == 'lasso':\n",
    "        params['lasso__alpha'] = alphas\n",
    "        params['lasso__fit_intercept'] = booleans\n",
    "        params['lasso__max_iter'] = max_iter\n",
    "    if pipeline.steps[0][0] == 'bayesianridge':\n",
    "        pass\n",
    "    if pipeline.steps[0][0] == 'sgdregressor':\n",
    "        pass    \n",
    "    if pipeline.steps[0][0] == 'svr':\n",
    "        pass    \n",
    "    if pipeline.steps[0][0] == 'decisiontreeregressor':\n",
    "        pass  \n",
    "    if pipeline.steps[0][0] == 'gradientboostingregressor':\n",
    "        pass  \n",
    "    \n",
    "    #regr = regr.fit(X_train, y_train)\n",
    "    #print regr.score(X_test, y_test)\n",
    "    #if regr.score(X_test, y_test) > 0:\n",
    "    #    print regr\n",
    "    #    print regr.score(X_test, y_test)\n",
    "\n",
    "    # tune parameters\n",
    "    grid_search = GridSearchCV(pipeline, param_grid=params, n_jobs=1)\n",
    "\n",
    "    grid_search.fit(X_train, y_train)\n",
    "\n",
    "    print grid_search.best_score_"
   ]
  },
  {
   "cell_type": "code",
   "execution_count": null,
   "metadata": {
    "collapsed": true
   },
   "outputs": [],
   "source": []
  },
  {
   "cell_type": "markdown",
   "metadata": {},
   "source": [
    "---"
   ]
  },
  {
   "cell_type": "code",
   "execution_count": 280,
   "metadata": {
    "collapsed": false
   },
   "outputs": [
    {
     "name": "stdout",
     "output_type": "stream",
     "text": [
      "-1.39037574703\n"
     ]
    }
   ],
   "source": [
    "regr = LinearRegression()\n",
    "regr = regr.fit(X_train, y_train)\n",
    "print regr.score(X_test, y_test)\n",
    "y_pred = regr.predict(X_test)"
   ]
  },
  {
   "cell_type": "code",
   "execution_count": 265,
   "metadata": {
    "collapsed": false
   },
   "outputs": [
    {
     "data": {
      "text/plain": [
       "array([-0.03393555, -0.04443359,  0.04870605, -0.0423584 ])"
      ]
     },
     "execution_count": 265,
     "metadata": {},
     "output_type": "execute_result"
    }
   ],
   "source": [
    "y_pred"
   ]
  },
  {
   "cell_type": "code",
   "execution_count": 266,
   "metadata": {
    "collapsed": false
   },
   "outputs": [
    {
     "data": {
      "text/plain": [
       "array([-0.03 , -0.024,  0.071, -0.013])"
      ]
     },
     "execution_count": 266,
     "metadata": {},
     "output_type": "execute_result"
    }
   ],
   "source": [
    "y_test"
   ]
  },
  {
   "cell_type": "code",
   "execution_count": null,
   "metadata": {
    "collapsed": true
   },
   "outputs": [],
   "source": []
  },
  {
   "cell_type": "code",
   "execution_count": null,
   "metadata": {
    "collapsed": true
   },
   "outputs": [],
   "source": []
  },
  {
   "cell_type": "code",
   "execution_count": null,
   "metadata": {
    "collapsed": true
   },
   "outputs": [],
   "source": []
  },
  {
   "cell_type": "code",
   "execution_count": null,
   "metadata": {
    "collapsed": true
   },
   "outputs": [],
   "source": []
  },
  {
   "cell_type": "code",
   "execution_count": null,
   "metadata": {
    "collapsed": true
   },
   "outputs": [],
   "source": []
  },
  {
   "cell_type": "code",
   "execution_count": null,
   "metadata": {
    "collapsed": true
   },
   "outputs": [],
   "source": []
  },
  {
   "cell_type": "code",
   "execution_count": null,
   "metadata": {
    "collapsed": true
   },
   "outputs": [],
   "source": []
  },
  {
   "cell_type": "code",
   "execution_count": null,
   "metadata": {
    "collapsed": true
   },
   "outputs": [],
   "source": []
  },
  {
   "cell_type": "code",
   "execution_count": null,
   "metadata": {
    "collapsed": true
   },
   "outputs": [],
   "source": []
  },
  {
   "cell_type": "code",
   "execution_count": null,
   "metadata": {
    "collapsed": true
   },
   "outputs": [],
   "source": []
  },
  {
   "cell_type": "code",
   "execution_count": null,
   "metadata": {
    "collapsed": true
   },
   "outputs": [],
   "source": []
  },
  {
   "cell_type": "code",
   "execution_count": null,
   "metadata": {
    "collapsed": true
   },
   "outputs": [],
   "source": []
  },
  {
   "cell_type": "code",
   "execution_count": null,
   "metadata": {
    "collapsed": true
   },
   "outputs": [],
   "source": []
  },
  {
   "cell_type": "code",
   "execution_count": null,
   "metadata": {
    "collapsed": true
   },
   "outputs": [],
   "source": []
  },
  {
   "cell_type": "code",
   "execution_count": null,
   "metadata": {
    "collapsed": true
   },
   "outputs": [],
   "source": []
  },
  {
   "cell_type": "code",
   "execution_count": null,
   "metadata": {
    "collapsed": true
   },
   "outputs": [],
   "source": []
  },
  {
   "cell_type": "code",
   "execution_count": null,
   "metadata": {
    "collapsed": true
   },
   "outputs": [],
   "source": []
  },
  {
   "cell_type": "code",
   "execution_count": null,
   "metadata": {
    "collapsed": true
   },
   "outputs": [],
   "source": []
  }
 ],
 "metadata": {
  "kernelspec": {
   "display_name": "Python 2",
   "language": "python",
   "name": "python2"
  },
  "language_info": {
   "codemirror_mode": {
    "name": "ipython",
    "version": 2
   },
   "file_extension": ".py",
   "mimetype": "text/x-python",
   "name": "python",
   "nbconvert_exporter": "python",
   "pygments_lexer": "ipython2",
   "version": "2.7.10"
  }
 },
 "nbformat": 4,
 "nbformat_minor": 0
}
