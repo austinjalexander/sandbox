{
 "cells": [
  {
   "cell_type": "code",
   "execution_count": 1,
   "metadata": {
    "collapsed": true
   },
   "outputs": [],
   "source": [
    "import os\n",
    "import requests\n",
    "import csv\n",
    "import re\n",
    "import numpy as np\n",
    "import pandas as pd\n",
    "from scipy import stats\n",
    "import datetime\n",
    "from matplotlib import pyplot as plt\n",
    "import seaborn as sns\n",
    "\n",
    "%matplotlib inline"
   ]
  },
  {
   "cell_type": "markdown",
   "metadata": {},
   "source": [
    "---"
   ]
  },
  {
   "cell_type": "code",
   "execution_count": 2,
   "metadata": {
    "collapsed": false
   },
   "outputs": [],
   "source": [
    "def get_stock_data(ticker, seconds_interval, num_of_days):\n",
    "    \n",
    "    url = \"http://www.google.com/finance/getprices?q={0}&i={1}&p={2}d&f=d,o,h,l,c,v\".format(ticker, seconds_interval, num_of_days)\n",
    "\n",
    "    # get data and convert to data frame\n",
    "    stock_df = pd.read_csv(url, skiprows=[0,1,2,3,5,6])\n",
    "\n",
    "    # rename column name\n",
    "    stock_df.rename(columns={'COLUMNS=DATE':'time'}, inplace=True)\n",
    "\n",
    "    # remove 'a' from unix timestamps\n",
    "    stock_df.replace(to_replace={'time':{'a':''}}, regex=True, inplace=True)\n",
    "\n",
    "    # get entire column and convert to ints\n",
    "    time_indices = [int(x) for x in stock_df['time'].values]\n",
    "\n",
    "    # keep track of current timestamp\n",
    "    last_timestamp = time_indices[0]\n",
    "\n",
    "    # convert unix timestamp abbreviations into full unix timestamps\n",
    "    for i in range(len(time_indices)):\n",
    "        if time_indices[i] < last_timestamp:\n",
    "            time_indices[i] = last_timestamp + (time_indices[i] * seconds_interval)\n",
    "        else:\n",
    "            last_timestamp = time_indices[i]\n",
    "\n",
    "    # convert unix timestamps to human-readable formats\n",
    "    time_indices = [datetime.datetime.fromtimestamp(x).strftime('%Y-%m-%d %H:%M:%S') for x in time_indices]\n",
    "    \n",
    "    # keep times (i.e., not dates)\n",
    "    times = [float(x[-8:-3].replace(':','.')) for x in time_indices]\n",
    "\n",
    "    # create new column in data frame\n",
    "    stock_df['time'] = times\n",
    "\n",
    "    # keep day of month\n",
    "    #dates = [int(x[:10].split('-')[2]) for x in time_indices]\n",
    "    # create new column in data frame\n",
    "    #stock_df['month_date'] = dates\n",
    "\n",
    "    # get weekday as int value\n",
    "    #stock_df['week_day'] = [datetime.datetime.strptime(x[:10], '%Y-%m-%d').weekday() for x in time_indices]\n",
    "\n",
    "    # create features\n",
    "    stock_df['op_cl%'] = np.true_divide((stock_df['CLOSE'] - stock_df['OPEN']), stock_df['CLOSE'])\n",
    "    stock_df['lo_hi%'] = np.true_divide((stock_df['HIGH'] - stock_df['LOW']), stock_df['HIGH'])\n",
    "    stock_df['vol_norm'] = np.true_divide(stock_df['VOLUME'], np.max(stock_df['VOLUME']))\n",
    "\n",
    "    # create labels dataframe\n",
    "    labels_df = stock_df.copy(deep=True)\n",
    "\n",
    "    # remove columns\n",
    "    stock_df = stock_df.drop(['CLOSE', 'OPEN', 'LOW', 'HIGH', 'VOLUME'], axis=1)\n",
    "\n",
    "    #print stock_df.shape\n",
    "    #stock_df.head()\n",
    "    \n",
    "    return stock_df, labels_df"
   ]
  },
  {
   "cell_type": "code",
   "execution_count": 3,
   "metadata": {
    "collapsed": false
   },
   "outputs": [],
   "source": [
    "tickers = [filename[:-4] for filename in os.listdir('quandl_data')]"
   ]
  },
  {
   "cell_type": "code",
   "execution_count": 4,
   "metadata": {
    "collapsed": false
   },
   "outputs": [
    {
     "name": "stdout",
     "output_type": "stream",
     "text": [
      "problem with IMRS\n"
     ]
    }
   ],
   "source": [
    "# download data\n",
    "\n",
    "remove_tickers = []\n",
    "\n",
    "for ticker in tickers:\n",
    "    \n",
    "    seconds_interval = 1800 # 1800: 30-minute (seems the most consistent)\n",
    "    try:\n",
    "        stock_df, labels_df = get_stock_data(ticker, seconds_interval, 1000)\n",
    "        \n",
    "        stock_df.to_csv(\"goog_data/{}_features.csv\".format(ticker), index=False)\n",
    "        labels_df.to_csv(\"goog_data/{}_labels.csv\".format(ticker), index=False)\n",
    "    except: \n",
    "        print \"problem with\", ticker\n",
    "        remove_tickers.append(ticker)"
   ]
  },
  {
   "cell_type": "code",
   "execution_count": 5,
   "metadata": {
    "collapsed": false
   },
   "outputs": [
    {
     "name": "stdout",
     "output_type": "stream",
     "text": [
      "84 ['ABIO', 'ACOR', 'ADMA', 'AERI', 'AFFX', 'AGEN', 'APPY', 'ARDM', 'ARIA', 'ARNA', 'ARWR', 'ATNM', 'AVXL', 'AXDX', 'AXGN', 'AXN', 'BABY', 'BASI', 'BCLI', 'BCRX', 'BGMD', 'BIIB', 'BLUE', 'BOTA', 'BRKR', 'CBLI', 'CBMG', 'CBMX', 'CBPO', 'CGEN', 'CLDN', 'CLDX', 'CNMD', 'COHR', 'CPHD', 'CPRX', 'CRIS', 'CUTR', 'CYBX', 'CYNO', 'CYTR', 'DARA', 'DRAD', 'DSCO', 'DYAX', 'ECTE', 'ECYT', 'ELOS', 'ENZN', 'ESMC', 'ETRM', 'EXAS', 'EXEL', 'FATE', 'FEIC', 'FLDM', 'FONR', 'GEVA', 'GILD', 'GNCA', 'HALO', 'HSKA', 'IART', 'ICCC', 'IDRA', 'IDXX', 'ILMN', 'IMMU', 'INCY', 'INO', 'IRIX', 'LPCN', 'MEIP', 'MNKD', 'OREX', 'PGNX', 'QLTI', 'RMTI', 'SGYP', 'SNGX', 'SYN', 'THLD', 'TNXP', 'TPIV']\n"
     ]
    }
   ],
   "source": [
    "[tickers.remove(ticker) for ticker in remove_tickers]\n",
    "print len(tickers), tickers"
   ]
  },
  {
   "cell_type": "code",
   "execution_count": 6,
   "metadata": {
    "collapsed": false
   },
   "outputs": [
    {
     "name": "stdout",
     "output_type": "stream",
     "text": [
      "   time    op_cl%    lo_hi%  vol_norm\n",
      "0   9.3  0.000000  0.000000  0.000097\n",
      "1  10.0 -0.010707  0.010594  0.001126\n",
      "2  10.3 -0.011683  0.011548  0.002789\n",
      "3  11.0 -0.011806  0.011786  0.004092\n",
      "4  11.3 -0.000120  0.000120  0.000307\n",
      "     time    op_cl%    lo_hi%  vol_norm\n",
      "689  14.0  0.005444  0.032609  0.005680\n",
      "690  14.3  0.032258  0.032258  0.000205\n",
      "691  15.0 -0.044944  0.043011  0.002278\n",
      "692  15.3  0.032609  0.032609  0.000711\n",
      "693  16.0  0.000000  0.018261  0.000768\n",
      "\n",
      "********** \n",
      "final shapes:  (3781, 42) (3781,) (84, 42)\n"
     ]
    }
   ],
   "source": [
    "# import data\n",
    "\n",
    "X = []\n",
    "y = []\n",
    "\n",
    "pred_X = []\n",
    "\n",
    "for ticker in tickers:\n",
    "\n",
    "    stock_df = pd.read_csv(\"goog_data/{}_features.csv\".format(ticker))\n",
    "    labels_df = pd.read_csv(\"goog_data/{}_labels.csv\".format(ticker))\n",
    "    \n",
    "    if ticker == tickers[0]:\n",
    "        print stock_df.head()\n",
    "        print stock_df.tail()\n",
    "\n",
    "    num_of_times = stock_df['time'].unique().shape[0]\n",
    "    stock_df = stock_df.drop('time', axis=1)\n",
    "    assert num_of_times == 14, \"wrong number of times, got {0} for {1}\".format(num_of_times, ticker)\n",
    "    #print \"number of times in a day: {}\".format(num_of_times)\n",
    "\n",
    "    num_of_days = stock_df.shape[0]/num_of_times\n",
    "    #print \"number of days: {}\".format(num_of_days)\n",
    "\n",
    "    for i in xrange(num_of_days):\n",
    "\n",
    "        # features\n",
    "        features = stock_df.values[:num_of_times].flatten()\n",
    "        features = np.expand_dims(features, axis=0)\n",
    "        #assert features.shape[1] == 84, \"wrong number of columns\"\n",
    "\n",
    "        # combine features into rows of X\n",
    "        if X == []:\n",
    "            X = features\n",
    "        else: \n",
    "            X = np.vstack((X, features))\n",
    "\n",
    "        # labels\n",
    "        labels = labels_df.values[:num_of_times].flatten()\n",
    "        # (last - open) / last\n",
    "        label = np.true_divide((labels[-8] - labels[1]), labels[-8])\n",
    "        # make class\n",
    "        label = int(label*100)\n",
    "        \n",
    "        # make binary class\n",
    "        def binarize(label):\n",
    "            if label >= 5.0:\n",
    "                label = 1\n",
    "            else:\n",
    "                label = 0\n",
    "            return label\n",
    "        \n",
    "        label = binarize(label)\n",
    "\n",
    "        if y == []:\n",
    "            y = np.array([label])\n",
    "        else:\n",
    "            y = np.append(y, np.array(label))  \n",
    "\n",
    "        # remove used rows (go to next day)\n",
    "        stock_df = stock_df[num_of_times:]\n",
    "        labels_df = labels_df[num_of_times:]\n",
    "\n",
    "    # keep last for prediction\n",
    "    if pred_X == []:\n",
    "        pred_X = X[-1:]\n",
    "    else: \n",
    "        pred_X = np.vstack((pred_X, X[-1:]))\n",
    "\n",
    "    # rotate/discard rows\n",
    "    X = X[:-1]\n",
    "    y = y[1:]\n",
    "\n",
    "print \"\\n\", \"*\"*10, \"\\nfinal shapes: \", X.shape, y.shape, pred_X.shape"
   ]
  },
  {
   "cell_type": "markdown",
   "metadata": {},
   "source": [
    "---"
   ]
  },
  {
   "cell_type": "code",
   "execution_count": 7,
   "metadata": {
    "collapsed": false
   },
   "outputs": [
    {
     "data": {
      "text/plain": [
       "array([ 0.     ,  0.     ,  0.0001 , -0.01071,  0.01059,  0.00113,\n",
       "       -0.01168,  0.01155,  0.00279, -0.01181,  0.01179,  0.00409,\n",
       "       -0.00012,  0.00012,  0.00031,  0.01179,  0.01179,  0.0002 ,\n",
       "        0.00774,  0.01119,  0.00205,  0.00129,  0.02106,  0.00513,\n",
       "       -0.02348,  0.02294,  0.00041, -0.02348,  0.02294,  0.00517,\n",
       "        0.     ,  0.     ,  0.00052,  0.00905,  0.02294,  0.00624,\n",
       "       -0.01144,  0.0119 ,  0.00399,  0.     ,  0.     ,  0.00125])"
      ]
     },
     "execution_count": 7,
     "metadata": {},
     "output_type": "execute_result"
    }
   ],
   "source": [
    "np.round(X[0], 5)"
   ]
  },
  {
   "cell_type": "code",
   "execution_count": 8,
   "metadata": {
    "collapsed": false
   },
   "outputs": [
    {
     "data": {
      "image/png": "[encoded data removed]",
      "text/plain": [
       "<matplotlib.figure.Figure at 0x1108822d0>"
      ]
     },
     "metadata": {},
     "output_type": "display_data"
    }
   ],
   "source": [
    "plt.hist(y, bins=20, alpha=0.7, color='r')\n",
    "plt.show()"
   ]
  },
  {
   "cell_type": "code",
   "execution_count": 9,
   "metadata": {
    "collapsed": false
   },
   "outputs": [
    {
     "data": {
      "text/plain": [
       "array([-0.02109515,  0.02197802,  0.00506599,  0.01654898,  0.03130435,\n",
       "        0.00184934,  0.        ,  0.00380435,  0.00030703,  0.        ,\n",
       "        0.        ,  0.00030703, -0.00645444,  0.0101087 ,  0.00153515,\n",
       "        0.01086957,  0.02173913,  0.00639646, -0.00010871,  0.01086957,\n",
       "        0.00080135, -0.01087912,  0.04413043,  0.01955115,  0.        ,\n",
       "        0.        ,  0.01023433,  0.03225806,  0.04255319,  0.00301913,\n",
       "       -0.04409641,  0.0516333 ,  0.0199375 ,  0.00299036,  0.05242105,\n",
       "        0.00234571,  0.01119035,  0.01119035,  0.0007164 , -0.01111111,\n",
       "        0.01098901,  0.00830516])"
      ]
     },
     "execution_count": 9,
     "metadata": {},
     "output_type": "execute_result"
    }
   ],
   "source": [
    "pred_X[0]"
   ]
  },
  {
   "cell_type": "markdown",
   "metadata": {},
   "source": [
    "---"
   ]
  },
  {
   "cell_type": "code",
   "execution_count": 10,
   "metadata": {
    "collapsed": false
   },
   "outputs": [],
   "source": [
    "def add_bias(matrix):\n",
    "    if matrix.ndim == 1:\n",
    "        matrix = matrix.reshape(matrix.shape[0], 1)\n",
    "    return np.hstack((np.ones((matrix.shape[0], 1)), matrix))"
   ]
  },
  {
   "cell_type": "code",
   "execution_count": 11,
   "metadata": {
    "collapsed": true
   },
   "outputs": [],
   "source": [
    "def g(z):\n",
    "    return np.true_divide(1, (1+np.exp(-z)))"
   ]
  },
  {
   "cell_type": "code",
   "execution_count": 12,
   "metadata": {
    "collapsed": true
   },
   "outputs": [],
   "source": [
    "def g_prime(z):\n",
    "    return np.multiply(z, (1 - z))"
   ]
  },
  {
   "cell_type": "code",
   "execution_count": 13,
   "metadata": {
    "collapsed": false
   },
   "outputs": [],
   "source": [
    "def J(m, L, s, thetas, predictions, y, lambda_reg):\n",
    "    J_sum = 0\n",
    "    for i in xrange(m):\n",
    "        J_sum += y[i] * np.log(predictions[i]) + (1 - y[i]) * np.log(1 - predictions[i])\n",
    "        \n",
    "    left_side = np.true_divide(J_sum, -m)\n",
    "    \n",
    "    theta_sums = 0\n",
    "    for l in xrange(L-1):\n",
    "        # s_j\n",
    "        for i in xrange(s[l]):\n",
    "            # s_jplus1\n",
    "            for j in xrange(s[l+1]):\n",
    "                # (skip bias term)\n",
    "                theta_sums += thetas[l][:,1:][j][i]**2\n",
    "                \n",
    "    right_side = np.true_divide(lambda_reg, 2.0*m) * theta_sums\n",
    "    \n",
    "    return left_side + right_side\n",
    "\n",
    "lambda_reg = 100\n",
    "#J(m, L, s, thetas, predictions, y, lambda_reg)"
   ]
  },
  {
   "cell_type": "code",
   "execution_count": 14,
   "metadata": {
    "collapsed": false
   },
   "outputs": [],
   "source": [
    "def create_thetas(L, s):\n",
    "    init_seed_value = 42\n",
    "    thetas = []\n",
    "    for l in xrange(L-1):\n",
    "        np.random.seed(init_seed_value+1)\n",
    "        s_j = s[l]\n",
    "        s_jplus1 = s[l+1]\n",
    "        theta = np.random.standard_normal((s_jplus1,s_j+1))\n",
    "        thetas.append(theta)\n",
    "        \n",
    "    return thetas"
   ]
  },
  {
   "cell_type": "code",
   "execution_count": 15,
   "metadata": {
    "collapsed": true
   },
   "outputs": [],
   "source": [
    "X = add_bias(X)"
   ]
  },
  {
   "cell_type": "code",
   "execution_count": 17,
   "metadata": {
    "collapsed": false
   },
   "outputs": [
    {
     "data": {
      "text/plain": [
       "[(42, 43), (42, 43), (1, 43)]"
      ]
     },
     "execution_count": 17,
     "metadata": {},
     "output_type": "execute_result"
    }
   ],
   "source": [
    "n = X.shape[1]-1\n",
    "# number of layers\n",
    "L = 4\n",
    "# number of units in each layer\n",
    "s = [n, n, n, 1]\n",
    "thetas = create_thetas(L, s)\n",
    "[theta.shape for theta in thetas]"
   ]
  },
  {
   "cell_type": "code",
   "execution_count": 31,
   "metadata": {
    "collapsed": false
   },
   "outputs": [],
   "source": [
    "def forward_propagation(a1, thetas):\n",
    "    a2 = g(a1.dot(thetas[0].T))\n",
    "    a2 = add_bias(a2)\n",
    "    z2 = a2.dot(thetas[1].T)\n",
    "    \n",
    "    a3 = g(z2)\n",
    "    a3 = add_bias(a3)\n",
    "    z3 = a3.dot(thetas[2].T)\n",
    "    \n",
    "    a4 = g(z3)\n",
    "    \n",
    "    return a2, z2, a3, z3, a4"
   ]
  },
  {
   "cell_type": "code",
   "execution_count": 41,
   "metadata": {
    "collapsed": false
   },
   "outputs": [],
   "source": [
    "def back_propagation(m, X, thetas, y, lambda_reg):\n",
    "    predictions = []\n",
    "    \n",
    "    layers = []\n",
    "    \n",
    "    Delta2 = []\n",
    "    Delta3 = []\n",
    "    for i in xrange(m):\n",
    "        a1 = X[i,:].reshape(1,n+1)\n",
    "        a2, z2, a3, z3, a4 = forward_propagation(a1, thetas)\n",
    "        \n",
    "        predictions.append(a4)\n",
    "    \n",
    "        d4 = a4 - y[i]\n",
    "        \n",
    "        d3 = np.multiply(thetas[2].T.dot(d4), g_prime(z3))\n",
    "        d2 = np.multiply(thetas[1].dot(d3), g_prime(z2))\n",
    "    \n",
    "        if Delta2 == []:\n",
    "            Delta2 = (d3 * a2.T)\n",
    "        else:\n",
    "            Delta2 = Delta2 + (d3 * a2.T)\n",
    "            \n",
    "        if Delta3 == []:\n",
    "            Delta3 = (d4 * a3.T)\n",
    "        else:\n",
    "            Delta3 = Delta3 + (d4 * a3.T)\n",
    "        \n",
    "    D2 = np.true_divide(Delta2, m)\n",
    "    D3 = np.true_divide(Delta3, m)\n",
    "    \n",
    "    # (skip bias term for regularization)\n",
    "    #D2[:,1:] = D2[:,1:] + (lambda_reg * thetas[1][:,1:])\n",
    "                \n",
    "    return D2, D3, predictions\n",
    "\n",
    "#back_propagation(m, X, thetas, predictions, y, lambda_reg)"
   ]
  },
  {
   "cell_type": "code",
   "execution_count": 46,
   "metadata": {
    "collapsed": false
   },
   "outputs": [
    {
     "name": "stdout",
     "output_type": "stream",
     "text": [
      "0\n",
      "10\n",
      "20\n",
      "30\n",
      "40\n"
     ]
    },
    {
     "data": {
      "image/png": "[encoded data removed]",
      "text/plain": [
       "<matplotlib.figure.Figure at 0x111d5b590>"
      ]
     },
     "metadata": {},
     "output_type": "display_data"
    }
   ],
   "source": [
    "m = X.shape[0]\n",
    "\n",
    "thetas = create_thetas(L, s)\n",
    "#print [theta.shape for theta in thetas]\n",
    "\n",
    "costs = []\n",
    "alpha = -0.3\n",
    "iterations = 50\n",
    "\n",
    "# gradient descent\n",
    "for i in xrange(iterations):\n",
    "    if i % 10 == 0:\n",
    "        print i\n",
    "\n",
    "    D2, D3, predictions = back_propagation(m, X, thetas, y, lambda_reg)\n",
    "    \n",
    "    cost = J(m, L, s, thetas, predictions, y, lambda_reg)\n",
    "    costs.append(cost[0])\n",
    "\n",
    "    thetas[1] = np.subtract(thetas[1], np.multiply(alpha, D2).T)\n",
    "    thetas[2] = np.subtract(thetas[2], np.multiply(alpha, D3).T)\n",
    "\n",
    "plt.plot([x for x in xrange(iterations)], costs)\n",
    "plt.show()"
   ]
  },
  {
   "cell_type": "markdown",
   "metadata": {},
   "source": [
    "---"
   ]
  },
  {
   "cell_type": "code",
   "execution_count": 20,
   "metadata": {
    "collapsed": false
   },
   "outputs": [
    {
     "name": "stdout",
     "output_type": "stream",
     "text": [
      "[(42, 43), (1, 43)]\n"
     ]
    },
    {
     "data": {
      "text/plain": [
       "[array([[ 0.25739993, -0.90848143, -0.37850311, ...,  1.22121596,\n",
       "          1.01498852,  0.82812998],\n",
       "        [ 2.26629271, -0.59495567, -0.58126954, ...,  0.17979165,\n",
       "          1.51644162, -1.63403202],\n",
       "        [ 1.7819709 , -0.6177277 , -1.08639929, ...,  1.77318123,\n",
       "         -0.44662929,  1.48937458],\n",
       "        ..., \n",
       "        [ 1.33135503,  0.2862364 ,  1.94424814, ...,  0.61458671,\n",
       "          1.48022868,  1.45106538],\n",
       "        [ 2.74556654, -1.08520701,  0.78197623, ..., -0.08504605,\n",
       "         -0.65795505,  0.01198371],\n",
       "        [ 0.85963477, -0.2912263 , -0.05077664, ...,  0.30135887,\n",
       "          0.77119717,  0.24499227]]),\n",
       " array([[-0.11200559, -1.10711303, -0.69952667, -0.84485495,  0.55601905,\n",
       "         -0.68426512,  0.4366963 ,  1.8791015 ,  0.98703586, -0.72979725,\n",
       "         -0.5278974 ,  0.27861152, -1.95997618, -0.934419  ,  0.4635056 ,\n",
       "         -0.21157583,  1.81914057, -0.83829337, -1.20505664, -1.02699131,\n",
       "         -0.18207779, -0.25026761,  1.93776707, -0.72658554, -0.2342478 ,\n",
       "          0.58479575, -0.38503379,  0.43135982,  0.27979521,  0.73545899,\n",
       "         -1.72609199,  0.60612808, -0.32942342,  0.08419789, -0.53670589,\n",
       "          1.55636143, -2.31298619,  1.07868333, -0.78432741,  1.48966996,\n",
       "          0.91051053,  0.66691877,  0.57025873]])]"
      ]
     },
     "execution_count": 20,
     "metadata": {},
     "output_type": "execute_result"
    }
   ],
   "source": [
    "print [theta.shape for theta in thetas]\n",
    "thetas"
   ]
  },
  {
   "cell_type": "code",
   "execution_count": 21,
   "metadata": {
    "collapsed": false
   },
   "outputs": [
    {
     "data": {
      "text/plain": [
       "array([  1.00000000e+00,  -2.10951526e-02,   2.19780220e-02,\n",
       "         5.06599352e-03,   1.65489850e-02,   3.13043478e-02,\n",
       "         1.84934349e-03,   0.00000000e+00,   3.80434783e-03,\n",
       "         3.07029910e-04,   0.00000000e+00,   0.00000000e+00,\n",
       "         3.07029910e-04,  -6.45443606e-03,   1.01086957e-02,\n",
       "         1.53514955e-03,   1.08695652e-02,   2.17391304e-02,\n",
       "         6.39645647e-03,  -1.08707468e-04,   1.08695652e-02,\n",
       "         8.01348066e-04,  -1.08791209e-02,   4.41304348e-02,\n",
       "         1.95511530e-02,   0.00000000e+00,   0.00000000e+00,\n",
       "         1.02343303e-02,   3.22580645e-02,   4.25531915e-02,\n",
       "         3.01912745e-03,  -4.40964123e-02,   5.16332982e-02,\n",
       "         1.99374989e-02,   2.99036438e-03,   5.24210526e-02,\n",
       "         2.34570852e-03,   1.11903456e-02,   1.11903456e-02,\n",
       "         7.16403124e-04,  -1.11111111e-02,   1.09890110e-02,\n",
       "         8.30515907e-03])"
      ]
     },
     "execution_count": 21,
     "metadata": {},
     "output_type": "execute_result"
    }
   ],
   "source": [
    "pred_X = add_bias(pred_X)\n",
    "pred_X[0]"
   ]
  },
  {
   "cell_type": "code",
   "execution_count": 22,
   "metadata": {
    "collapsed": false
   },
   "outputs": [
    {
     "name": "stdout",
     "output_type": "stream",
     "text": [
      " 0 ABIO 0.04\n",
      " 1 ACOR 0.04\n",
      " 2 ADMA 0.05\n",
      " 3 AERI 0.04\n",
      " 4 AFFX 0.05\n",
      " 5 AGEN 0.05\n",
      " 6 APPY 0.04\n",
      " 7 ARDM 0.05\n",
      " 8 ARIA 0.04\n",
      " 9 ARNA 0.05\n",
      "10 ARWR 0.05\n",
      "11 ATNM 0.15\n",
      "12 AVXL 0.05\n",
      "13 AXDX 0.05\n",
      "14 AXGN 0.04\n",
      "15  AXN 0.05\n",
      "16 BABY 0.05\n",
      "17 BASI 0.04\n",
      "18 BCLI 0.05\n",
      "19 BCRX 0.05\n",
      "20 BGMD 0.04\n",
      "21 BIIB 0.04\n",
      "22 BLUE 0.04\n",
      "23 BOTA 0.05\n",
      "24 BRKR 0.04\n",
      "25 CBLI 0.05\n",
      "26 CBMG 0.05\n",
      "27 CBMX 0.05\n",
      "28 CBPO 0.05\n",
      "29 CGEN 0.05\n",
      "30 CLDN 0.05\n",
      "31 CLDX 0.05\n",
      "32 CNMD 0.04\n",
      "33 COHR 0.04\n",
      "34 CPHD 0.04\n",
      "35 CPRX 0.04\n",
      "36 CRIS 0.04\n",
      "37 CUTR 0.04\n",
      "38 CYBX 0.04\n",
      "39 CYNO 0.05\n",
      "40 CYTR 0.06\n",
      "41 DARA 0.05\n",
      "42 DRAD 0.05\n",
      "43 DSCO 0.05\n",
      "44 DYAX 0.05\n",
      "45 ECTE 0.06\n",
      "46 ECYT 0.05\n",
      "47 ELOS 0.04\n",
      "48 ENZN 0.06\n",
      "49 ESMC 0.07\n",
      "50 ETRM 0.07\n",
      "51 EXAS 0.04\n",
      "52 EXEL 0.06\n",
      "53 FATE 0.07\n",
      "54 FEIC 0.13\n",
      "55 FLDM 0.03\n",
      "56 FONR 0.11\n",
      "57 GEVA 0.06\n",
      "58 GILD 0.09\n",
      "59 GNCA 0.07\n",
      "60 HALO 0.05\n",
      "61 HSKA 0.11\n",
      "62 IART 0.11\n",
      "63 ICCC 0.13\n",
      "64 IDRA 0.06\n",
      "65 IDXX 0.03\n",
      "66 ILMN 0.04\n",
      "67 IMMU 0.03\n",
      "68 INCY 0.03\n",
      "69  INO 0.04\n",
      "70 IRIX 0.04\n",
      "71 LPCN 0.04\n",
      "72 MEIP 0.03\n",
      "73 MNKD 0.04\n",
      "74 OREX 0.04\n",
      "75 PGNX 0.04\n",
      "76 QLTI 0.05\n",
      "77 RMTI 0.03\n",
      "78 SGYP 0.06\n",
      "79 SNGX 0.04\n",
      "80  SYN 0.04\n",
      "81 THLD 0.04\n",
      "82 TNXP 0.02\n",
      "83 TPIV 0.05\n"
     ]
    }
   ],
   "source": [
    "for i in xrange(pred_X.shape[0]):\n",
    "    a1 = X[i,:].reshape(1,n+1)\n",
    "    a2, a3 = forward_propagation(a1, thetas)\n",
    "    print str(i).rjust(2), str(tickers[i]).rjust(4), np.round(a3[0][0], 2)"
   ]
  },
  {
   "cell_type": "code",
   "execution_count": null,
   "metadata": {
    "collapsed": true
   },
   "outputs": [],
   "source": []
  },
  {
   "cell_type": "code",
   "execution_count": null,
   "metadata": {
    "collapsed": true
   },
   "outputs": [],
   "source": []
  },
  {
   "cell_type": "code",
   "execution_count": null,
   "metadata": {
    "collapsed": true
   },
   "outputs": [],
   "source": []
  },
  {
   "cell_type": "code",
   "execution_count": null,
   "metadata": {
    "collapsed": true
   },
   "outputs": [],
   "source": []
  },
  {
   "cell_type": "code",
   "execution_count": null,
   "metadata": {
    "collapsed": true
   },
   "outputs": [],
   "source": []
  },
  {
   "cell_type": "code",
   "execution_count": null,
   "metadata": {
    "collapsed": true
   },
   "outputs": [],
   "source": []
  },
  {
   "cell_type": "code",
   "execution_count": null,
   "metadata": {
    "collapsed": true
   },
   "outputs": [],
   "source": [
    "positive_tickers = []\n",
    "for i in xrange(len(pred_tickers)):\n",
    "    print i, pred_tickers[i], y_predictions[i]\n",
    "    if y_predictions[i] == 1:\n",
    "        positive_tickers.append(pred_tickers[i])"
   ]
  },
  {
   "cell_type": "code",
   "execution_count": null,
   "metadata": {
    "collapsed": true
   },
   "outputs": [],
   "source": [
    "for ticker in positive_tickers:\n",
    "    \n",
    "    past_days = 100\n",
    "    \n",
    "    oc = prediction_df[prediction_df['ticker'] == ticker][\"OC%\"][-past_days:]\n",
    "    \n",
    "    num_days = oc.shape[0]\n",
    "    \n",
    "    day_range = np.arange(num_days)\n",
    "    \n",
    "    plt.plot(day_range, oc, alpha=0.5)\n",
    "    plt.plot(day_range, [0.05 for x in day_range], color='r')\n",
    "    plt.title(\"{0} (previous {1} days)\".format(ticker, num_days))\n",
    "    plt.show()\n",
    "\n",
    "    print \"\\t\", ticker, \"{}-day freq probability:\".format(past_days), np.true_divide(np.sum(oc.values > 0.05), past_days)\n",
    "    print \"~\"*50, \"\\n\"  "
   ]
  },
  {
   "cell_type": "code",
   "execution_count": null,
   "metadata": {
    "collapsed": true
   },
   "outputs": [],
   "source": []
  },
  {
   "cell_type": "code",
   "execution_count": null,
   "metadata": {
    "collapsed": true
   },
   "outputs": [],
   "source": []
  },
  {
   "cell_type": "code",
   "execution_count": null,
   "metadata": {
    "collapsed": true
   },
   "outputs": [],
   "source": []
  },
  {
   "cell_type": "code",
   "execution_count": null,
   "metadata": {
    "collapsed": true
   },
   "outputs": [],
   "source": []
  },
  {
   "cell_type": "code",
   "execution_count": null,
   "metadata": {
    "collapsed": true
   },
   "outputs": [],
   "source": []
  },
  {
   "cell_type": "code",
   "execution_count": null,
   "metadata": {
    "collapsed": true
   },
   "outputs": [],
   "source": []
  },
  {
   "cell_type": "code",
   "execution_count": null,
   "metadata": {
    "collapsed": true
   },
   "outputs": [],
   "source": []
  },
  {
   "cell_type": "code",
   "execution_count": null,
   "metadata": {
    "collapsed": false
   },
   "outputs": [],
   "source": [
    "#errors = []\n",
    "iterations = 1\n",
    "\n",
    "for i in xrange(iterations):\n",
    "\n",
    "    \n",
    "#plt.plot([x for x in xrange(iterations)], errors)\n",
    "#plt.show()"
   ]
  },
  {
   "cell_type": "code",
   "execution_count": 36,
   "metadata": {
    "collapsed": false
   },
   "outputs": [
    {
     "name": "stdout",
     "output_type": "stream",
     "text": [
      "(5, 4)\n",
      "[[2 4 6]\n",
      " [2 3 6]\n",
      " [3 4 7]\n",
      " [4 5 8]]\n",
      "(3, 4)\n",
      "[[ 31  42  71]\n",
      " [ 40  54  92]\n",
      " [ 67  90 155]\n",
      " [ 36  50  88]\n",
      " [ 27  37  63]]\n",
      "(5, 3)\n"
     ]
    }
   ],
   "source": [
    "X = np.array([[1,2,3,4],\n",
    "              [1,3,4,5],\n",
    "              [1,6,7,8],\n",
    "              [1,5,4,3],\n",
    "              [1,2,3,3]])\n",
    "print X.shape\n",
    "\n",
    "theta1 = np.array([[2,2,3,4],\n",
    "                   [4,3,4,5],\n",
    "                   [6,6,7,8]])\n",
    "\n",
    "print theta1.T\n",
    "print theta1.shape\n",
    "\n",
    "print X.dot(theta1.T)\n",
    "print X.dot(theta1.T).shape"
   ]
  }
 ],
 "metadata": {
  "kernelspec": {
   "display_name": "Python 2",
   "language": "python",
   "name": "python2"
  },
  "language_info": {
   "codemirror_mode": {
    "name": "ipython",
    "version": 2
   },
   "file_extension": ".py",
   "mimetype": "text/x-python",
   "name": "python",
   "nbconvert_exporter": "python",
   "pygments_lexer": "ipython2",
   "version": "2.7.10"
  }
 },
 "nbformat": 4,
 "nbformat_minor": 0
}
