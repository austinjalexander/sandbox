{
 "cells": [
  {
   "cell_type": "code",
   "execution_count": 1,
   "metadata": {
    "collapsed": true
   },
   "outputs": [],
   "source": [
    "from imports import *\n",
    "import avg_clf_train\n",
    "import import_data\n",
    "from theano import *\n",
    "from theano import tensor as T\n",
    "\n",
    "%matplotlib inline"
   ]
  },
  {
   "cell_type": "markdown",
   "metadata": {},
   "source": [
    "---"
   ]
  },
  {
   "cell_type": "code",
   "execution_count": 2,
   "metadata": {
    "collapsed": false
   },
   "outputs": [
    {
     "data": {
      "text/plain": [
       "'\\nX = np.array([[0,0,1],\\n              [0,1,1],\\n              [1,0,1],\\n              [1,1,1]])\\n\\nprint X.shape\\n\\ny = np.array([[0,0,1,1]]).T\\n\\nprint y.shape\\n'"
      ]
     },
     "execution_count": 2,
     "metadata": {},
     "output_type": "execute_result"
    }
   ],
   "source": [
    "'''\n",
    "X = np.array([[0,0,1],\n",
    "              [0,1,1],\n",
    "              [1,0,1],\n",
    "              [1,1,1]])\n",
    "\n",
    "print X.shape\n",
    "\n",
    "y = np.array([[0,0,1,1]]).T\n",
    "\n",
    "print y.shape\n",
    "'''"
   ]
  },
  {
   "cell_type": "code",
   "execution_count": 3,
   "metadata": {
    "collapsed": false
   },
   "outputs": [
    {
     "data": {
      "text/plain": [
       "'\\nX = T.dmatrix()\\nw = T.vector()\\ny = T.vector()\\n\\nXw = X * w\\nsigmoid = 1 / (1+T.exp(-Xw))\\n\\nlayer1 = function([Xw], sigmoid)\\n'"
      ]
     },
     "execution_count": 3,
     "metadata": {},
     "output_type": "execute_result"
    }
   ],
   "source": [
    "'''\n",
    "X = T.dmatrix()\n",
    "w = T.vector()\n",
    "y = T.vector()\n",
    "\n",
    "Xw = X * w\n",
    "sigmoid = 1 / (1+T.exp(-Xw))\n",
    "\n",
    "layer1 = function([Xw], sigmoid)\n",
    "'''"
   ]
  },
  {
   "cell_type": "markdown",
   "metadata": {},
   "source": [
    "---"
   ]
  },
  {
   "cell_type": "code",
   "execution_count": 4,
   "metadata": {
    "collapsed": false
   },
   "outputs": [
    {
     "name": "stdout",
     "output_type": "stream",
     "text": [
      "(134093, 10)\n"
     ]
    },
    {
     "data": {
      "text/html": [
       "<div style=\"max-height:1000px;max-width:1500px;overflow:auto;\">\n",
       "<table border=\"1\" class=\"dataframe\">\n",
       "  <thead>\n",
       "    <tr style=\"text-align: right;\">\n",
       "      <th></th>\n",
       "      <th>Open</th>\n",
       "      <th>High</th>\n",
       "      <th>Low</th>\n",
       "      <th>Close</th>\n",
       "      <th>Volume</th>\n",
       "      <th>50dravg</th>\n",
       "      <th>200dravg</th>\n",
       "      <th>OC%</th>\n",
       "      <th>HL%</th>\n",
       "      <th>label</th>\n",
       "    </tr>\n",
       "  </thead>\n",
       "  <tbody>\n",
       "    <tr>\n",
       "      <th>4096</th>\n",
       "      <td>0.52</td>\n",
       "      <td>0.53</td>\n",
       "      <td>0.50</td>\n",
       "      <td>0.52</td>\n",
       "      <td>1093100</td>\n",
       "      <td>0.7780</td>\n",
       "      <td>0.38757</td>\n",
       "      <td>0.000000</td>\n",
       "      <td>0.060</td>\n",
       "      <td>0</td>\n",
       "    </tr>\n",
       "    <tr>\n",
       "      <th>4097</th>\n",
       "      <td>0.52</td>\n",
       "      <td>0.52</td>\n",
       "      <td>0.50</td>\n",
       "      <td>0.52</td>\n",
       "      <td>226000</td>\n",
       "      <td>0.7808</td>\n",
       "      <td>0.38852</td>\n",
       "      <td>0.000000</td>\n",
       "      <td>0.040</td>\n",
       "      <td>0</td>\n",
       "    </tr>\n",
       "    <tr>\n",
       "      <th>4098</th>\n",
       "      <td>0.51</td>\n",
       "      <td>0.52</td>\n",
       "      <td>0.50</td>\n",
       "      <td>0.51</td>\n",
       "      <td>583300</td>\n",
       "      <td>0.7838</td>\n",
       "      <td>0.38927</td>\n",
       "      <td>0.000000</td>\n",
       "      <td>0.040</td>\n",
       "      <td>1</td>\n",
       "    </tr>\n",
       "    <tr>\n",
       "      <th>4099</th>\n",
       "      <td>0.51</td>\n",
       "      <td>0.56</td>\n",
       "      <td>0.50</td>\n",
       "      <td>0.56</td>\n",
       "      <td>475900</td>\n",
       "      <td>0.7884</td>\n",
       "      <td>0.39017</td>\n",
       "      <td>0.098039</td>\n",
       "      <td>0.120</td>\n",
       "      <td>0</td>\n",
       "    </tr>\n",
       "    <tr>\n",
       "      <th>4100</th>\n",
       "      <td>0.57</td>\n",
       "      <td>0.63</td>\n",
       "      <td>0.56</td>\n",
       "      <td>0.57</td>\n",
       "      <td>1537100</td>\n",
       "      <td>0.7928</td>\n",
       "      <td>0.39107</td>\n",
       "      <td>0.000000</td>\n",
       "      <td>0.125</td>\n",
       "      <td>0</td>\n",
       "    </tr>\n",
       "  </tbody>\n",
       "</table>\n",
       "</div>"
      ],
      "text/plain": [
       "      Open  High   Low  Close   Volume  50dravg  200dravg       OC%    HL%  \\\n",
       "4096  0.52  0.53  0.50   0.52  1093100   0.7780   0.38757  0.000000  0.060   \n",
       "4097  0.52  0.52  0.50   0.52   226000   0.7808   0.38852  0.000000  0.040   \n",
       "4098  0.51  0.52  0.50   0.51   583300   0.7838   0.38927  0.000000  0.040   \n",
       "4099  0.51  0.56  0.50   0.56   475900   0.7884   0.39017  0.098039  0.120   \n",
       "4100  0.57  0.63  0.56   0.57  1537100   0.7928   0.39107  0.000000  0.125   \n",
       "\n",
       "      label  \n",
       "4096      0  \n",
       "4097      0  \n",
       "4098      1  \n",
       "4099      0  \n",
       "4100      0  "
      ]
     },
     "execution_count": 4,
     "metadata": {},
     "output_type": "execute_result"
    }
   ],
   "source": [
    "tickers = [filename[:-4] for filename in os.listdir('quandl_data')]\n",
    "\n",
    "stock_df, prediction_df = import_data.import_data(tickers)\n",
    "print stock_df.shape\n",
    "stock_df.tail()"
   ]
  },
  {
   "cell_type": "code",
   "execution_count": 5,
   "metadata": {
    "collapsed": false
   },
   "outputs": [
    {
     "name": "stdout",
     "output_type": "stream",
     "text": [
      "(134093, 9) (134093, 1)\n"
     ]
    }
   ],
   "source": [
    "y = stock_df['label'].values\n",
    "y = y.reshape(y.shape[0], 1)\n",
    "\n",
    "stock_df = stock_df.drop('label', axis=1)\n",
    "X = stock_df.values\n",
    "\n",
    "print X.shape, y.shape"
   ]
  },
  {
   "cell_type": "code",
   "execution_count": 6,
   "metadata": {
    "collapsed": false
   },
   "outputs": [],
   "source": [
    "new_y = []\n",
    "for i in xrange(y.shape[0]):\n",
    "    if y[i] == 0:\n",
    "        new_y.append(np.array([[1],[0]]))\n",
    "    elif y[i] == 1:\n",
    "        new_y.append(np.array([[0],[1]]))\n",
    "        \n",
    "y = new_y"
   ]
  },
  {
   "cell_type": "code",
   "execution_count": 7,
   "metadata": {
    "collapsed": false
   },
   "outputs": [
    {
     "data": {
      "text/plain": [
       "array([[ 0.0076876 ,  0.00847293,  0.00725023, ...,  0.04623293,\n",
       "         0.21619189,  0.04217096],\n",
       "       [ 0.00869581,  0.00930566,  0.00881316, ...,  0.04605935,\n",
       "         0.1874379 ,  0.01970069],\n",
       "       [ 0.00919992,  0.00918075,  0.00887828, ...,  0.04587912,\n",
       "         0.18168801,  0.01536585],\n",
       "       ..., \n",
       "       [ 0.00102963,  0.00104132,  0.00106408, ...,  0.00087466,\n",
       "         0.19205459,  0.00763636],\n",
       "       [ 0.00102963,  0.00112463,  0.00106408, ...,  0.00087706,\n",
       "         0.2155907 ,  0.02290909],\n",
       "       [ 0.0011557 ,  0.00127041,  0.00119438, ...,  0.00087945,\n",
       "         0.19205459,  0.02386364]])"
      ]
     },
     "execution_count": 7,
     "metadata": {},
     "output_type": "execute_result"
    }
   ],
   "source": [
    "scaler = MinMaxScaler()\n",
    "X = scaler.fit_transform(X)\n",
    "X"
   ]
  },
  {
   "cell_type": "markdown",
   "metadata": {},
   "source": [
    "---"
   ]
  },
  {
   "cell_type": "code",
   "execution_count": 8,
   "metadata": {
    "collapsed": false
   },
   "outputs": [],
   "source": [
    "def add_bias(matrix):\n",
    "    if matrix.ndim == 1:\n",
    "        matrix = matrix.reshape(matrix.shape[0], 1)\n",
    "    else:    \n",
    "        if matrix.shape[1] == 1:\n",
    "            matrix = np.insert(matrix, 0, 1, axis=0)\n",
    "        else: \n",
    "            matrix = np.hstack((np.ones((matrix.shape[0], 1)), matrix))\n",
    "    return matrix"
   ]
  },
  {
   "cell_type": "code",
   "execution_count": 9,
   "metadata": {
    "collapsed": true
   },
   "outputs": [],
   "source": [
    "def g(z):\n",
    "    return np.true_divide(1, (1+np.exp(-z)))"
   ]
  },
  {
   "cell_type": "code",
   "execution_count": 40,
   "metadata": {
    "collapsed": false
   },
   "outputs": [],
   "source": [
    "def create_thetas(L, s):\n",
    "    init_seed_value = 42\n",
    "    thetas = []\n",
    "    \n",
    "    # skip last (output layer)\n",
    "    for l in xrange(L-1):\n",
    "        np.random.seed(init_seed_value+1)\n",
    "        \n",
    "        s_j = s[l]\n",
    "        s_jplus1 = s[l+1]\n",
    "        \n",
    "        theta = np.random.standard_normal((s_jplus1,s_j+1))\n",
    "        \n",
    "        thetas.append(theta)\n",
    "        \n",
    "    return thetas"
   ]
  },
  {
   "cell_type": "code",
   "execution_count": 308,
   "metadata": {
    "collapsed": false
   },
   "outputs": [
    {
     "name": "stdout",
     "output_type": "stream",
     "text": [
      "\n"
     ]
    }
   ],
   "source": [
    "def J(m, K, thetas, h_thetas, y):\n",
    "    summations = 0\n",
    "    \n",
    "    for i in xrange(m):\n",
    "        for k in xrange(K):\n",
    "            summations += y[i][k] * np.log(h_thetas[i][k]) + (1 - y[i][k]) * np.log(1 - h_thetas[i][k])\n",
    "\n",
    "        left_J = np.true_divide(summations, -m)\n",
    "\n",
    "        theta_sums = 0\n",
    "        for l in xrange(L-1):\n",
    "            for i in xrange(1,s[l]):\n",
    "                for j in xrange(1,s[l+1]):\n",
    "                    # skip bias-related weights\n",
    "                    theta_sums = thetas[l][j][i]**2\n",
    "\n",
    "        right_J = np.true_divide(lambda_reg,(2.0*m)) * theta_sums\n",
    "\n",
    "        return left_J + right_J"
   ]
  },
  {
   "cell_type": "code",
   "execution_count": 430,
   "metadata": {
    "collapsed": false
   },
   "outputs": [],
   "source": [
    "def forward_propagation(L, x, thetas):\n",
    "    \n",
    "    # a1\n",
    "    a = [x.reshape(x.shape[0], 1)]\n",
    "    \n",
    "    for l in xrange(L-1):\n",
    "        print l\n",
    "        \n",
    "        a_l = a[l]\n",
    "        \n",
    "        # if not on first level, add bias\n",
    "        if l != 0:\n",
    "            a_l = add_bias(a_l)\n",
    "            \n",
    "        # z2, z3, z4, ...\n",
    "        z = thetas[l].dot(a_l)\n",
    "        \n",
    "        # a2, a3, a4, ...\n",
    "        a_l = g(z)\n",
    "        \n",
    "        # keep a_l for next iteration\n",
    "        a.append(a_l)\n",
    "    \n",
    "    print \"a shapes:\", [a_l.shape for a_l in a]\n",
    "    return a"
   ]
  },
  {
   "cell_type": "markdown",
   "metadata": {},
   "source": [
    "---"
   ]
  },
  {
   "cell_type": "code",
   "execution_count": 13,
   "metadata": {
    "collapsed": true
   },
   "outputs": [],
   "source": [
    "X = add_bias(X)"
   ]
  },
  {
   "cell_type": "code",
   "execution_count": 39,
   "metadata": {
    "collapsed": false
   },
   "outputs": [
    {
     "data": {
      "text/plain": [
       "[(9, 10), (9, 10), (2, 10)]"
      ]
     },
     "execution_count": 39,
     "metadata": {},
     "output_type": "execute_result"
    }
   ],
   "source": [
    "# number of features (minus bias)\n",
    "n = X.shape[1]-1\n",
    "\n",
    "# number of output classes\n",
    "K = 2\n",
    "\n",
    "# number of layers\n",
    "L = 4\n",
    "# number of units in each layer\n",
    "s = [n if (l < (L-1)) else K for l in xrange(L)]\n",
    "\n",
    "# create thetas based on L and s\n",
    "thetas = create_thetas(L, s)\n",
    "[theta.shape for theta in thetas]"
   ]
  },
  {
   "cell_type": "code",
   "execution_count": 15,
   "metadata": {
    "collapsed": false
   },
   "outputs": [],
   "source": [
    "#indices = np.random.choice(X.shape[0], 200)\n",
    "#input_X = X[indices,:]\n",
    "#output_y = y[indices, :]\n",
    "#print input_X.shape, output_y.shape"
   ]
  },
  {
   "cell_type": "code",
   "execution_count": 418,
   "metadata": {
    "collapsed": false
   },
   "outputs": [],
   "source": [
    "def back_propagation(L, thetas, a, y_i, Deltas):\n",
    "    \n",
    "    deltas = []\n",
    "    \n",
    "    # output layer error\n",
    "    deltas.append(a[L-1] - y_i)\n",
    "    \n",
    "    # indexes are weird\n",
    "    for l in xrange(L-2, 0, -1):\n",
    "        a_l = a[l]\n",
    "\n",
    "        # skip bias\n",
    "        theta_l_T = thetas[l][:,1:].T\n",
    "        \n",
    "        # elementwise multiplication\n",
    "        g_prime = np.multiply(a_l, (1 - a_l))\n",
    "        \n",
    "        d = np.multiply(theta_l_T.dot(deltas[0]), g_prime)\n",
    "        deltas.insert(0,d)\n",
    "        \n",
    "    for l in xrange(len(deltas)):\n",
    "        a_l = a[l]\n",
    "        print Deltas[l].shape, deltas[l].dot(a_l.T).shape\n",
    "        # start with a1 and d2\n",
    "        Deltas[l] += deltas[l].dot(a_l.T)\n",
    "        \n",
    "    return Deltas"
   ]
  },
  {
   "cell_type": "code",
   "execution_count": 431,
   "metadata": {
    "collapsed": false
   },
   "outputs": [
    {
     "name": "stdout",
     "output_type": "stream",
     "text": [
      "Delta shapes: [(9, 10), (9, 10), (2, 10)]\n",
      "0\n",
      "1\n",
      "2\n",
      "a shapes: [(10, 1), (9, 1), (9, 1), (2, 1)]\n",
      "(9, 10) (9, 10)\n",
      "(9, 10) (9, 9)\n"
     ]
    },
    {
     "ename": "ValueError",
     "evalue": "operands could not be broadcast together with shapes (9,10) (9,9) (9,10) ",
     "output_type": "error",
     "traceback": [
      "\u001b[0;31m---------------------------------------------------------------------------\u001b[0m",
      "\u001b[0;31mValueError\u001b[0m                                Traceback (most recent call last)",
      "\u001b[0;32m<ipython-input-431-be77e97ffb8b>\u001b[0m in \u001b[0;36m<module>\u001b[0;34m()\u001b[0m\n\u001b[1;32m     18\u001b[0m     \u001b[0mh_thetas\u001b[0m\u001b[0;34m.\u001b[0m\u001b[0mappend\u001b[0m\u001b[0;34m(\u001b[0m\u001b[0mh_theta_i\u001b[0m\u001b[0;34m)\u001b[0m\u001b[0;34m\u001b[0m\u001b[0m\n\u001b[1;32m     19\u001b[0m \u001b[0;34m\u001b[0m\u001b[0m\n\u001b[0;32m---> 20\u001b[0;31m     \u001b[0mDeltas\u001b[0m \u001b[0;34m=\u001b[0m \u001b[0mback_propagation\u001b[0m\u001b[0;34m(\u001b[0m\u001b[0mL\u001b[0m\u001b[0;34m,\u001b[0m \u001b[0mthetas\u001b[0m\u001b[0;34m,\u001b[0m \u001b[0ma\u001b[0m\u001b[0;34m,\u001b[0m \u001b[0my\u001b[0m\u001b[0;34m[\u001b[0m\u001b[0mi\u001b[0m\u001b[0;34m]\u001b[0m\u001b[0;34m,\u001b[0m \u001b[0mDeltas\u001b[0m\u001b[0;34m)\u001b[0m\u001b[0;34m\u001b[0m\u001b[0m\n\u001b[0m\u001b[1;32m     21\u001b[0m \u001b[0;34m\u001b[0m\u001b[0m\n\u001b[1;32m     22\u001b[0m \u001b[0;31m#for l in xrange(L-1):\u001b[0m\u001b[0;34m\u001b[0m\u001b[0;34m\u001b[0m\u001b[0m\n",
      "\u001b[0;32m<ipython-input-418-f48296d8c472>\u001b[0m in \u001b[0;36mback_propagation\u001b[0;34m(L, thetas, a, y_i, Deltas)\u001b[0m\n\u001b[1;32m     23\u001b[0m         \u001b[0;32mprint\u001b[0m \u001b[0mDeltas\u001b[0m\u001b[0;34m[\u001b[0m\u001b[0ml\u001b[0m\u001b[0;34m]\u001b[0m\u001b[0;34m.\u001b[0m\u001b[0mshape\u001b[0m\u001b[0;34m,\u001b[0m \u001b[0mdeltas\u001b[0m\u001b[0;34m[\u001b[0m\u001b[0ml\u001b[0m\u001b[0;34m]\u001b[0m\u001b[0;34m.\u001b[0m\u001b[0mdot\u001b[0m\u001b[0;34m(\u001b[0m\u001b[0ma_l\u001b[0m\u001b[0;34m.\u001b[0m\u001b[0mT\u001b[0m\u001b[0;34m)\u001b[0m\u001b[0;34m.\u001b[0m\u001b[0mshape\u001b[0m\u001b[0;34m\u001b[0m\u001b[0m\n\u001b[1;32m     24\u001b[0m         \u001b[0;31m# start with a1 and d2\u001b[0m\u001b[0;34m\u001b[0m\u001b[0;34m\u001b[0m\u001b[0m\n\u001b[0;32m---> 25\u001b[0;31m         \u001b[0mDeltas\u001b[0m\u001b[0;34m[\u001b[0m\u001b[0ml\u001b[0m\u001b[0;34m]\u001b[0m \u001b[0;34m+=\u001b[0m \u001b[0mdeltas\u001b[0m\u001b[0;34m[\u001b[0m\u001b[0ml\u001b[0m\u001b[0;34m]\u001b[0m\u001b[0;34m.\u001b[0m\u001b[0mdot\u001b[0m\u001b[0;34m(\u001b[0m\u001b[0ma_l\u001b[0m\u001b[0;34m.\u001b[0m\u001b[0mT\u001b[0m\u001b[0;34m)\u001b[0m\u001b[0;34m\u001b[0m\u001b[0m\n\u001b[0m\u001b[1;32m     26\u001b[0m \u001b[0;34m\u001b[0m\u001b[0m\n\u001b[1;32m     27\u001b[0m     \u001b[0;32mreturn\u001b[0m \u001b[0mDeltas\u001b[0m\u001b[0;34m\u001b[0m\u001b[0m\n",
      "\u001b[0;31mValueError\u001b[0m: operands could not be broadcast together with shapes (9,10) (9,9) (9,10) "
     ]
    }
   ],
   "source": [
    "lambda_reg = 100\n",
    "\n",
    "h_thetas = []\n",
    "\n",
    "Deltas = []\n",
    "for theta in thetas:\n",
    "    Deltas.append(np.zeros(theta.shape))\n",
    "print \"Delta shapes:\", [Delta.shape for Delta in Deltas]\n",
    "\n",
    "D = []\n",
    "\n",
    "m = 1\n",
    "\n",
    "# train NN via gradient descent\n",
    "for i in xrange(m):\n",
    "    a = forward_propagation(L, X[i], thetas)\n",
    "    h_theta_i = a[L-1]\n",
    "    h_thetas.append(h_theta_i)\n",
    "    \n",
    "    Deltas = back_propagation(L, thetas, a, y[i], Deltas)\n",
    "    \n",
    "#for l in xrange(L-1):\n",
    "    #print np.true_divide(Deltas[l], (lambda_reg * thetas[l][:,1:])).shape\n",
    "    #reg_D = np.true_divide(Deltas[l][:,1:] + (lambda_reg * thetas[l][:,1:]), m)\n",
    "    #noreg_D = np.true_divide(Deltas[l][:,0] + (lambda_reg * thetas[l][:,0]), m)\n",
    "    #D[l] = np.vstack(noreg_D, reg_D)\n",
    "    \n",
    "print \"cost:\", J(m, K, thetas, h_thetas, y)"
   ]
  },
  {
   "cell_type": "markdown",
   "metadata": {},
   "source": [
    "---"
   ]
  },
  {
   "cell_type": "code",
   "execution_count": 19,
   "metadata": {
    "collapsed": false
   },
   "outputs": [
    {
     "name": "stdout",
     "output_type": "stream",
     "text": [
      "[(9, 10), (1, 10)]\n"
     ]
    },
    {
     "data": {
      "text/plain": [
       "[array([[ 0.25739993, -0.90848143, -0.37850311, -0.5349156 ,  0.85807335,\n",
       "         -0.41300998,  0.49818858,  2.01019925,  1.26286154, -0.43921486],\n",
       "        [-0.34643789,  0.45531966, -1.66866271, -0.8620855 ,  0.49291085,\n",
       "         -0.1243134 ,  1.93513629, -0.61844265, -1.04683899, -0.88961759],\n",
       "        [ 0.01404054, -0.16082969,  2.23035965, -0.39911572,  0.05444456,\n",
       "          0.88418182, -0.10798056,  0.55560698,  0.39490664,  0.83720502],\n",
       "        [-1.40787817,  0.80784941, -0.13828364,  0.18717859, -0.38665814,\n",
       "          1.65904873, -2.04706913,  1.39931699, -0.67900712,  1.52898513],\n",
       "        [ 1.22121596,  1.01498852,  0.82812998,  2.26629271, -0.59495567,\n",
       "         -0.58126954, -0.65589415,  0.92514885, -1.29916134,  1.01116687],\n",
       "        [-0.28844018, -1.06771307, -1.0776009 , -0.79677376, -1.48604258,\n",
       "          0.51412877,  0.85179086,  0.95867344, -0.62648405,  0.30793101],\n",
       "        [ 0.00520568,  0.69153191,  0.44486216,  0.09027953, -1.8583429 ,\n",
       "         -0.16658004,  0.11087648, -0.69477264, -0.26917557, -1.29922515],\n",
       "        [-0.32110545,  0.50586874,  2.08905957, -1.01270925, -0.02397407,\n",
       "         -0.96146905, -0.09256619, -0.22373208,  0.83289216,  0.97411958],\n",
       "        [ 0.16281816, -0.11449202,  1.18646843,  0.17979165,  1.51644162,\n",
       "         -1.63403202,  1.7819709 , -0.6177277 , -1.08639929, -0.04475333]]),\n",
       " array([[-0.56126641, -1.43341151, -0.67526193, -0.9851564 ,  0.71181553,\n",
       "         -1.03376972,  0.19049115,  1.62496957,  0.87437877, -0.87397192]])]"
      ]
     },
     "execution_count": 19,
     "metadata": {},
     "output_type": "execute_result"
    }
   ],
   "source": [
    "print [theta.shape for theta in thetas]\n",
    "thetas"
   ]
  },
  {
   "cell_type": "code",
   "execution_count": 20,
   "metadata": {
    "collapsed": true
   },
   "outputs": [],
   "source": [
    "pred_df = prediction_df[prediction_df['label'].apply(np.isnan) == True]"
   ]
  },
  {
   "cell_type": "code",
   "execution_count": 21,
   "metadata": {
    "collapsed": true
   },
   "outputs": [],
   "source": [
    "pred_tickers = pred_df['ticker'].unique()"
   ]
  },
  {
   "cell_type": "code",
   "execution_count": 22,
   "metadata": {
    "collapsed": false
   },
   "outputs": [
    {
     "name": "stdout",
     "output_type": "stream",
     "text": [
      "(63, 9)\n",
      "[  9.30000000e-01   9.50000000e-01   8.90000000e-01   9.20000000e-01\n",
      "   1.23900000e+05   1.06900000e+00   8.92050000e-01  -1.07526882e-02\n",
      "   6.74157303e-02]\n"
     ]
    }
   ],
   "source": [
    "pred_X = pred_df.drop(['ticker','label'], axis=1).values\n",
    "print pred_X.shape\n",
    "print pred_X[0]"
   ]
  },
  {
   "cell_type": "code",
   "execution_count": 23,
   "metadata": {
    "collapsed": false
   },
   "outputs": [
    {
     "data": {
      "text/plain": [
       "array([  1.00000000e+00,   9.30000000e-01,   9.50000000e-01,\n",
       "         8.90000000e-01,   9.20000000e-01,   1.23900000e+05,\n",
       "         1.06900000e+00,   8.92050000e-01,  -1.07526882e-02,\n",
       "         6.74157303e-02])"
      ]
     },
     "execution_count": 23,
     "metadata": {},
     "output_type": "execute_result"
    }
   ],
   "source": [
    "pred_X = add_bias(pred_X)\n",
    "pred_X[0]"
   ]
  },
  {
   "cell_type": "code",
   "execution_count": 24,
   "metadata": {
    "collapsed": false
   },
   "outputs": [
    {
     "name": "stdout",
     "output_type": "stream",
     "text": [
      " 0 ABIO 0.11\n",
      " 1 ACOR 0.11\n",
      " 2 AERI 0.11\n",
      " 3 AFFX 0.11\n",
      " 4 AGEN 0.11\n",
      " 5 APPY 0.11\n",
      " 6 ARIA 0.11\n",
      " 7 ARNA 0.11\n",
      " 8 ARWR 0.11\n",
      " 9 ATNM 0.11\n",
      "10 AVXL 0.12\n",
      "11 AXDX 0.11\n",
      "12  AXN 0.11\n",
      "13 BABY 0.12\n",
      "14 BCRX 0.11\n",
      "15 BGMD 0.11\n",
      "16 BIIB 0.12\n",
      "17 BLUE 0.12\n",
      "18 BRKR 0.12\n",
      "19 CBPO 0.12\n",
      "20 CGEN 0.12\n",
      "21 CLDN 0.12\n",
      "22 CLDX 0.12\n",
      "23 COHR 0.12\n",
      "24 CPHD 0.12\n",
      "25 CPRX 0.12\n",
      "26 CRIS 0.12\n",
      "27 CYBX 0.12\n",
      "28 CYNO 0.12\n",
      "29 CYTR 0.12\n",
      "30 DARA 0.12\n",
      "31 DSCO 0.12\n",
      "32 DYAX 0.12\n",
      "33 ECYT 0.12\n",
      "34 ENZN 0.12\n",
      "35 ETRM 0.12\n",
      "36 EXAS 0.12\n",
      "37 EXEL 0.12\n",
      "38 FATE 0.12\n",
      "39 FEIC 0.12\n",
      "40 FLDM 0.12\n",
      "41 GILD 0.12\n",
      "42 GNCA 0.12\n",
      "43 HALO 0.12\n",
      "44 IART 0.12\n",
      "45 IDRA 0.11\n",
      "46 IDXX 0.12\n",
      "47 ILMN 0.12\n",
      "48 IMMU 0.12\n",
      "49 IMRS 0.12\n",
      "50 INCY 0.12\n",
      "51  INO 0.12\n",
      "52 LPCN 0.12\n",
      "53 MEIP 0.12\n",
      "54 MNKD 0.12\n",
      "55 OREX 0.12\n",
      "56 PGNX 0.12\n",
      "57 RMTI 0.12\n",
      "58 SGYP 0.12\n",
      "59  SYN 0.12\n",
      "60 THLD 0.12\n",
      "61 TNXP 0.12\n",
      "62 TPIV 0.12\n"
     ]
    }
   ],
   "source": [
    "for i in xrange(pred_X.shape[0]):\n",
    "    a1 = X[i,:].reshape(1,n+1)\n",
    "    a2, a3 = forward_propagation(a1, thetas)\n",
    "    print str(i).rjust(2), str(pred_tickers[i]).rjust(4), np.round(a3[0][0], 2)"
   ]
  },
  {
   "cell_type": "code",
   "execution_count": null,
   "metadata": {
    "collapsed": true
   },
   "outputs": [],
   "source": []
  },
  {
   "cell_type": "code",
   "execution_count": null,
   "metadata": {
    "collapsed": true
   },
   "outputs": [],
   "source": []
  },
  {
   "cell_type": "code",
   "execution_count": null,
   "metadata": {
    "collapsed": true
   },
   "outputs": [],
   "source": []
  },
  {
   "cell_type": "code",
   "execution_count": null,
   "metadata": {
    "collapsed": true
   },
   "outputs": [],
   "source": []
  },
  {
   "cell_type": "code",
   "execution_count": null,
   "metadata": {
    "collapsed": true
   },
   "outputs": [],
   "source": []
  },
  {
   "cell_type": "code",
   "execution_count": null,
   "metadata": {
    "collapsed": true
   },
   "outputs": [],
   "source": []
  },
  {
   "cell_type": "code",
   "execution_count": 25,
   "metadata": {
    "collapsed": false
   },
   "outputs": [
    {
     "name": "stdout",
     "output_type": "stream",
     "text": [
      "0 ABIO"
     ]
    },
    {
     "ename": "NameError",
     "evalue": "name 'y_predictions' is not defined",
     "output_type": "error",
     "traceback": [
      "\u001b[0;31m---------------------------------------------------------------------------\u001b[0m",
      "\u001b[0;31mNameError\u001b[0m                                 Traceback (most recent call last)",
      "\u001b[0;32m<ipython-input-25-424c0eed27cc>\u001b[0m in \u001b[0;36m<module>\u001b[0;34m()\u001b[0m\n\u001b[1;32m      1\u001b[0m \u001b[0mpositive_tickers\u001b[0m \u001b[0;34m=\u001b[0m \u001b[0;34m[\u001b[0m\u001b[0;34m]\u001b[0m\u001b[0;34m\u001b[0m\u001b[0m\n\u001b[1;32m      2\u001b[0m \u001b[0;32mfor\u001b[0m \u001b[0mi\u001b[0m \u001b[0;32min\u001b[0m \u001b[0mxrange\u001b[0m\u001b[0;34m(\u001b[0m\u001b[0mlen\u001b[0m\u001b[0;34m(\u001b[0m\u001b[0mpred_tickers\u001b[0m\u001b[0;34m)\u001b[0m\u001b[0;34m)\u001b[0m\u001b[0;34m:\u001b[0m\u001b[0;34m\u001b[0m\u001b[0m\n\u001b[0;32m----> 3\u001b[0;31m     \u001b[0;32mprint\u001b[0m \u001b[0mi\u001b[0m\u001b[0;34m,\u001b[0m \u001b[0mpred_tickers\u001b[0m\u001b[0;34m[\u001b[0m\u001b[0mi\u001b[0m\u001b[0;34m]\u001b[0m\u001b[0;34m,\u001b[0m \u001b[0my_predictions\u001b[0m\u001b[0;34m[\u001b[0m\u001b[0mi\u001b[0m\u001b[0;34m]\u001b[0m\u001b[0;34m\u001b[0m\u001b[0m\n\u001b[0m\u001b[1;32m      4\u001b[0m     \u001b[0;32mif\u001b[0m \u001b[0my_predictions\u001b[0m\u001b[0;34m[\u001b[0m\u001b[0mi\u001b[0m\u001b[0;34m]\u001b[0m \u001b[0;34m==\u001b[0m \u001b[0;36m1\u001b[0m\u001b[0;34m:\u001b[0m\u001b[0;34m\u001b[0m\u001b[0m\n\u001b[1;32m      5\u001b[0m         \u001b[0mpositive_tickers\u001b[0m\u001b[0;34m.\u001b[0m\u001b[0mappend\u001b[0m\u001b[0;34m(\u001b[0m\u001b[0mpred_tickers\u001b[0m\u001b[0;34m[\u001b[0m\u001b[0mi\u001b[0m\u001b[0;34m]\u001b[0m\u001b[0;34m)\u001b[0m\u001b[0;34m\u001b[0m\u001b[0m\n",
      "\u001b[0;31mNameError\u001b[0m: name 'y_predictions' is not defined"
     ]
    }
   ],
   "source": [
    "positive_tickers = []\n",
    "for i in xrange(len(pred_tickers)):\n",
    "    print i, pred_tickers[i], y_predictions[i]\n",
    "    if y_predictions[i] == 1:\n",
    "        positive_tickers.append(pred_tickers[i])"
   ]
  },
  {
   "cell_type": "code",
   "execution_count": null,
   "metadata": {
    "collapsed": true
   },
   "outputs": [],
   "source": [
    "for ticker in positive_tickers:\n",
    "    \n",
    "    past_days = 100\n",
    "    \n",
    "    oc = prediction_df[prediction_df['ticker'] == ticker][\"OC%\"][-past_days:]\n",
    "    \n",
    "    num_days = oc.shape[0]\n",
    "    \n",
    "    day_range = np.arange(num_days)\n",
    "    \n",
    "    plt.plot(day_range, oc, alpha=0.5)\n",
    "    plt.plot(day_range, [0.05 for x in day_range], color='r')\n",
    "    plt.title(\"{0} (previous {1} days)\".format(ticker, num_days))\n",
    "    plt.show()\n",
    "\n",
    "    print \"\\t\", ticker, \"{}-day freq probability:\".format(past_days), np.true_divide(np.sum(oc.values > 0.05), past_days)\n",
    "    print \"~\"*50, \"\\n\"  "
   ]
  },
  {
   "cell_type": "code",
   "execution_count": null,
   "metadata": {
    "collapsed": true
   },
   "outputs": [],
   "source": []
  },
  {
   "cell_type": "code",
   "execution_count": null,
   "metadata": {
    "collapsed": true
   },
   "outputs": [],
   "source": []
  },
  {
   "cell_type": "code",
   "execution_count": null,
   "metadata": {
    "collapsed": true
   },
   "outputs": [],
   "source": []
  },
  {
   "cell_type": "code",
   "execution_count": null,
   "metadata": {
    "collapsed": true
   },
   "outputs": [],
   "source": []
  },
  {
   "cell_type": "code",
   "execution_count": null,
   "metadata": {
    "collapsed": true
   },
   "outputs": [],
   "source": []
  },
  {
   "cell_type": "code",
   "execution_count": null,
   "metadata": {
    "collapsed": true
   },
   "outputs": [],
   "source": []
  },
  {
   "cell_type": "code",
   "execution_count": null,
   "metadata": {
    "collapsed": true
   },
   "outputs": [],
   "source": []
  },
  {
   "cell_type": "code",
   "execution_count": null,
   "metadata": {
    "collapsed": false
   },
   "outputs": [],
   "source": [
    "'''\n",
    "#errors = []\n",
    "iterations = 1\n",
    "\n",
    "for i in xrange(iterations):\n",
    "\n",
    "    \n",
    "#plt.plot([x for x in xrange(iterations)], errors)\n",
    "#plt.show()\n",
    "'''"
   ]
  },
  {
   "cell_type": "code",
   "execution_count": null,
   "metadata": {
    "collapsed": false
   },
   "outputs": [],
   "source": [
    "'''\n",
    "X = np.array([[1,2,3,4],\n",
    "              [1,3,4,5],\n",
    "              [1,6,7,8],\n",
    "              [1,5,4,3],\n",
    "              [1,2,3,3]])\n",
    "print X.shape\n",
    "\n",
    "theta1 = np.array([[2,2,3,4],\n",
    "                   [4,3,4,5],\n",
    "                   [6,6,7,8]])\n",
    "\n",
    "print theta1.T\n",
    "print theta1.shape\n",
    "\n",
    "print X.dot(theta1.T)\n",
    "print X.dot(theta1.T).shape\n",
    "'''"
   ]
  }
 ],
 "metadata": {
  "kernelspec": {
   "display_name": "Python 2",
   "language": "python",
   "name": "python2"
  },
  "language_info": {
   "codemirror_mode": {
    "name": "ipython",
    "version": 2
   },
   "file_extension": ".py",
   "mimetype": "text/x-python",
   "name": "python",
   "nbconvert_exporter": "python",
   "pygments_lexer": "ipython2",
   "version": "2.7.10"
  }
 },
 "nbformat": 4,
 "nbformat_minor": 0
}
