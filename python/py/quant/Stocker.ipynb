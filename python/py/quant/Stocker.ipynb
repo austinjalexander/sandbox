{
 "cells": [
  {
   "cell_type": "code",
   "execution_count": 556,
   "metadata": {
    "collapsed": true
   },
   "outputs": [],
   "source": [
    "import requests\n",
    "import csv\n",
    "import re\n",
    "import numpy as np\n",
    "import pandas as pd\n",
    "from scipy import stats\n",
    "import datetime\n",
    "import Quandl\n",
    "from matplotlib import pyplot as plt\n",
    "import seaborn as sns\n",
    "%matplotlib inline\n",
    "\n",
    "from sklearn.cross_validation import train_test_split\n",
    "from sklearn.cross_validation import StratifiedShuffleSplit\n",
    "from sklearn.metrics import accuracy_score\n",
    "\n",
    "from sklearn.pipeline import make_pipeline\n",
    "\n",
    "from sklearn.preprocessing import MinMaxScaler\n",
    "from sklearn.preprocessing import StandardScaler\n",
    "\n",
    "from sklearn.feature_selection import SelectKBest\n",
    "from sklearn.decomposition import RandomizedPCA \n",
    "\n",
    "from sklearn.preprocessing import PolynomialFeatures\n",
    " \n",
    "from sklearn.naive_bayes import GaussianNB\n",
    "from sklearn.tree import DecisionTreeClassifier\n",
    "from sklearn.ensemble import RandomForestClassifier \n",
    "from sklearn.svm import SVC\n",
    "from sklearn.linear_model import LogisticRegression\n",
    "\n",
    "from sklearn.linear_model import LinearRegression\n",
    "from sklearn.linear_model import Ridge\n",
    "from sklearn.linear_model import Lasso\n",
    "from sklearn.linear_model import BayesianRidge\n",
    "from sklearn.linear_model import SGDRegressor \n",
    "from sklearn.svm import SVR\n",
    "from sklearn.tree import DecisionTreeRegressor \n",
    "from sklearn.ensemble import GradientBoostingRegressor\n",
    "\n",
    "from sklearn.grid_search import GridSearchCV\n",
    "\n",
    "from sklearn.metrics import precision_score\n",
    "from sklearn.metrics import recall_score\n",
    "from sklearn.metrics import classification_report\n",
    "from sklearn.metrics import confusion_matrix"
   ]
  },
  {
   "cell_type": "markdown",
   "metadata": {},
   "source": [
    "---"
   ]
  },
  {
   "cell_type": "code",
   "execution_count": 530,
   "metadata": {
    "collapsed": false
   },
   "outputs": [],
   "source": [
    "def get_stock_data(ticker, seconds_interval, num_of_days):\n",
    "    \n",
    "    url = \"http://www.google.com/finance/getprices?q={0}&i={1}&p={2}d&f=d,o,h,l,c,v\".format(ticker, seconds_interval, num_of_days)\n",
    "\n",
    "    # get data and convert to data frame\n",
    "    stock_df = pd.read_csv(url, skiprows=[0,1,2,3,5,6])\n",
    "\n",
    "    # rename column name\n",
    "    stock_df.rename(columns={'COLUMNS=DATE':'time'}, inplace=True)\n",
    "\n",
    "    # remove 'a' from unix timestamps\n",
    "    stock_df.replace(to_replace={'time':{'a':''}}, regex=True, inplace=True)\n",
    "\n",
    "    # get entire column and convert to ints\n",
    "    time_indices = [int(x) for x in stock_df['time'].values]\n",
    "\n",
    "    # keep track of current timestamp\n",
    "    last_timestamp = time_indices[0]\n",
    "\n",
    "    # convert unix timestamp abbreviations into full unix timestamps\n",
    "    for i in range(len(time_indices)):\n",
    "        if time_indices[i] < last_timestamp:\n",
    "            time_indices[i] = last_timestamp + (time_indices[i] * seconds_interval)\n",
    "        else:\n",
    "            last_timestamp = time_indices[i]\n",
    "\n",
    "    # convert unix timestamps to human-readable formats\n",
    "    time_indices = [datetime.datetime.fromtimestamp(x).strftime('%Y-%m-%d %H:%M:%S') for x in time_indices]\n",
    "    \n",
    "    # keep times (i.e., not dates)\n",
    "    times = [float(x[-8:-3].replace(':','.')) for x in time_indices]\n",
    "\n",
    "    # create new column in data frame\n",
    "    stock_df['time'] = times\n",
    "\n",
    "    # keep day of month\n",
    "    #dates = [int(x[:10].split('-')[2]) for x in time_indices]\n",
    "    # create new column in data frame\n",
    "    #stock_df['month_date'] = dates\n",
    "\n",
    "    # get weekday as int value\n",
    "    #stock_df['week_day'] = [datetime.datetime.strptime(x[:10], '%Y-%m-%d').weekday() for x in time_indices]\n",
    "\n",
    "    # create features\n",
    "    stock_df['op_cl%'] = np.true_divide((stock_df['CLOSE'] - stock_df['OPEN']), stock_df['CLOSE'])\n",
    "    stock_df['lo_hi%'] = np.true_divide((stock_df['HIGH'] - stock_df['LOW']), stock_df['HIGH'])\n",
    "    stock_df['vol_norm'] = np.true_divide(stock_df['VOLUME'], np.max(stock_df['VOLUME']))\n",
    "\n",
    "    # create labels dataframe\n",
    "    labels_df = stock_df.copy(deep=True)\n",
    "\n",
    "    # remove columns\n",
    "    stock_df = stock_df.drop(['CLOSE', 'OPEN', 'LOW', 'HIGH', 'VOLUME'], axis=1)\n",
    "\n",
    "    #print stock_df.shape\n",
    "    #stock_df.head()\n",
    "    \n",
    "    return stock_df, labels_df"
   ]
  },
  {
   "cell_type": "code",
   "execution_count": 531,
   "metadata": {
    "collapsed": true
   },
   "outputs": [],
   "source": [
    "tickers = ['ARNA',\n",
    "           'ATNM',\n",
    "           'AVXL',\n",
    "           'AXN',\n",
    "           'BLFS',\n",
    "           'BOTA',\n",
    "           'CBLI',\n",
    "           'CPRX', \n",
    "           'DARA',\n",
    "           'ECYT',\n",
    "           'EDAP',\n",
    "           'EXAS',\n",
    "           'HALO',\n",
    "           'IDRA',\n",
    "           'INO',\n",
    "           'LOXO',\n",
    "           'LPCN',\n",
    "           'MEIP',\n",
    "           'MNKD',\n",
    "           'OREX',\n",
    "           'PGNX',\n",
    "           'QLTI',\n",
    "           'RMTI',\n",
    "           'SGYP',\n",
    "           'SNGX',\n",
    "           'SPY',\n",
    "           'SYN', \n",
    "           'TENX',\n",
    "           'THLD',\n",
    "           'TNXP',\n",
    "           'TPIV']"
   ]
  },
  {
   "cell_type": "markdown",
   "metadata": {},
   "source": [
    "---"
   ]
  },
  {
   "cell_type": "code",
   "execution_count": 532,
   "metadata": {
    "collapsed": false
   },
   "outputs": [],
   "source": [
    "# download data\n",
    "\n",
    "for ticker in tickers:\n",
    "    \n",
    "    seconds_interval = 1800 # 1800: 30-minute (seems the most consistent)\n",
    "    stock_df, labels_df = get_stock_data(ticker, seconds_interval, 1000)\n",
    "        \n",
    "    stock_df.to_csv(\"goog_data/{}_features.csv\".format(ticker), index=False)\n",
    "    labels_df.to_csv(\"goog_data/{}_labels.csv\".format(ticker), index=False)"
   ]
  },
  {
   "cell_type": "markdown",
   "metadata": {},
   "source": [
    "---"
   ]
  },
  {
   "cell_type": "code",
   "execution_count": 652,
   "metadata": {
    "collapsed": false
   },
   "outputs": [
    {
     "name": "stdout",
     "output_type": "stream",
     "text": [
      "\n",
      "********** \n",
      "final shapes:  (1423, 42) (1423,)\n"
     ]
    }
   ],
   "source": [
    "# import data\n",
    "\n",
    "X = []\n",
    "y = []\n",
    "\n",
    "for ticker in tickers:\n",
    "\n",
    "    stock_df = pd.read_csv(\"goog_data/{}_features.csv\".format(ticker))\n",
    "    labels_df = pd.read_csv(\"goog_data/{}_labels.csv\".format(ticker))\n",
    "\n",
    "    num_of_times = stock_df['time'].unique().shape[0]\n",
    "    stock_df = stock_df.drop('time', axis=1)\n",
    "    assert num_of_times == 14, \"wrong number of times\"\n",
    "    #print \"number of times in a day: {}\".format(num_of_times)\n",
    "\n",
    "    num_of_days = stock_df.shape[0]/num_of_times\n",
    "    #print \"number of days: {}\".format(num_of_days)\n",
    "\n",
    "    for i in xrange(num_of_days):\n",
    "\n",
    "        # features\n",
    "        features = stock_df.values[:num_of_times].flatten()\n",
    "        features = np.expand_dims(features, axis=0)\n",
    "        #assert features.shape[1] == 84, \"wrong number of columns\"\n",
    "\n",
    "        # combine features into rows of X\n",
    "        if X == []:\n",
    "            X = features\n",
    "        else: \n",
    "            X = np.vstack((X, features))\n",
    "\n",
    "        # labels\n",
    "        labels = labels_df.values[:num_of_times].flatten()\n",
    "        # (last - open) / last\n",
    "        label = np.true_divide((labels[-8] - labels[1]), labels[-8])\n",
    "        # make class\n",
    "        label = int(label*100)\n",
    "        \n",
    "        # make binary class\n",
    "        def binarize(label):\n",
    "            if label >= 5:\n",
    "                label = 1\n",
    "            else:\n",
    "                label = 0\n",
    "            return label\n",
    "        \n",
    "        #label = binarize(label)\n",
    "\n",
    "        if y == []:\n",
    "            y = np.array([label])\n",
    "        else:\n",
    "            y = np.append(y, np.array(label))  \n",
    "\n",
    "        # remove used rows (go to next day)\n",
    "        stock_df = stock_df[num_of_times:]\n",
    "        labels_df = labels_df[num_of_times:]\n",
    "\n",
    "    # rotate/discard rows\n",
    "    X = X[:-1]\n",
    "    y = y[1:]\n",
    "\n",
    "print \"\\n\", \"*\"*10, \"\\nfinal shapes: \", X.shape, y.shape"
   ]
  },
  {
   "cell_type": "code",
   "execution_count": 653,
   "metadata": {
    "collapsed": false,
    "scrolled": true
   },
   "outputs": [
    {
     "data": {
      "image/png": "[encoded data removed]",
      "text/plain": [
       "<matplotlib.figure.Figure at 0x117ac8450>"
      ]
     },
     "metadata": {},
     "output_type": "display_data"
    }
   ],
   "source": [
    "plt.hist(y, bins=20, alpha=0.7, color='r')\n",
    "plt.show()"
   ]
  },
  {
   "cell_type": "code",
   "execution_count": 654,
   "metadata": {
    "collapsed": false
   },
   "outputs": [
    {
     "name": "stdout",
     "output_type": "stream",
     "text": [
      "[-30 -28 -26 -22 -21 -17 -16 -15 -14 -13 -12 -11 -10  -9  -8  -7  -6  -5\n",
      "  -4  -3  -2  -1   0   1   2   3   4   5   6   7   8   9  10  11  12  13\n",
      "  14  15  16  18  19  20  21  22  24  27  33  44  50]\n"
     ]
    }
   ],
   "source": [
    "y_values = np.unique(y, return_counts=True)[0]\n",
    "print y_values"
   ]
  },
  {
   "cell_type": "code",
   "execution_count": 655,
   "metadata": {
    "collapsed": false
   },
   "outputs": [
    {
     "name": "stdout",
     "output_type": "stream",
     "text": [
      "[  1   1   1   1   4   1   1   3   1   4   4   4   9   9  16  19  24  33\n",
      "  46  82 104 156 414 144 102  83  36  28  21  15  11   5   8   5   5   5\n",
      "   1   1   1   2   2   3   1   1   1   1   1   1   1]\n"
     ]
    }
   ],
   "source": [
    "num_of_classes = np.unique(y, return_counts=True)[1]\n",
    "print num_of_classes"
   ]
  },
  {
   "cell_type": "code",
   "execution_count": 656,
   "metadata": {
    "collapsed": false
   },
   "outputs": [
    {
     "name": "stdout",
     "output_type": "stream",
     "text": [
      "[-30, -28, -26, -22, -17, -16, -14, 14, 15, 16, 21, 22, 24, 27, 33, 44, 50]\n"
     ]
    }
   ],
   "source": [
    "classes_to_remove = []\n",
    "for i in np.where(num_of_classes == 1)[0]:\n",
    "    classes_to_remove.append(y_values[i])\n",
    "\n",
    "print classes_to_remove"
   ]
  },
  {
   "cell_type": "code",
   "execution_count": 657,
   "metadata": {
    "collapsed": false
   },
   "outputs": [
    {
     "name": "stdout",
     "output_type": "stream",
     "text": [
      "(1406, 42) (1406,)\n"
     ]
    }
   ],
   "source": [
    "# single-class removal\n",
    "rows_to_remove = []\n",
    "for i in xrange(len(y)):\n",
    "    if y[i] in classes_to_remove:\n",
    "        rows_to_remove.append(i)\n",
    "    \n",
    "X = np.delete(X, rows_to_remove, axis=0)\n",
    "y = np.delete(y, rows_to_remove)\n",
    "\n",
    "print X.shape, y.shape"
   ]
  },
  {
   "cell_type": "code",
   "execution_count": 658,
   "metadata": {
    "collapsed": false
   },
   "outputs": [
    {
     "data": {
      "text/plain": [
       "'\\nrows_to_remove = []\\nfor i in xrange(len(y)):\\n    if y[i] < -10 or y[i] > 10:\\n        rows_to_remove.append(i)\\n    \\nX = np.delete(X, rows_to_remove, axis=0)\\ny = np.delete(y, rows_to_remove)\\n\\nprint X.shape, y.shape\\n'"
      ]
     },
     "execution_count": 658,
     "metadata": {},
     "output_type": "execute_result"
    }
   ],
   "source": [
    "# outlier-label removal\n",
    "'''\n",
    "rows_to_remove = []\n",
    "for i in xrange(len(y)):\n",
    "    if y[i] < -10 or y[i] > 10:\n",
    "        rows_to_remove.append(i)\n",
    "    \n",
    "X = np.delete(X, rows_to_remove, axis=0)\n",
    "y = np.delete(y, rows_to_remove)\n",
    "\n",
    "print X.shape, y.shape\n",
    "'''"
   ]
  },
  {
   "cell_type": "code",
   "execution_count": 659,
   "metadata": {
    "collapsed": false
   },
   "outputs": [
    {
     "name": "stdout",
     "output_type": "stream",
     "text": [
      "number of labels:  32\n"
     ]
    }
   ],
   "source": [
    "print \"number of labels: \", np.unique(y, return_counts=True)[0].shape[0]"
   ]
  },
  {
   "cell_type": "code",
   "execution_count": 660,
   "metadata": {
    "collapsed": false
   },
   "outputs": [
    {
     "data": {
      "text/plain": [
       "0.095664359452292222"
      ]
     },
     "execution_count": 660,
     "metadata": {},
     "output_type": "execute_result"
    }
   ],
   "source": [
    "corr_df = pd.DataFrame(X)\n",
    "corr_df['label'] = y\n",
    "np.max(corr_df.corr()['label'].values[:-1])"
   ]
  },
  {
   "cell_type": "code",
   "execution_count": 661,
   "metadata": {
    "collapsed": false
   },
   "outputs": [],
   "source": [
    "#for i in xrange(X.shape[1]):\n",
    "#    plt.scatter(X[:,i], y)\n",
    "#    plt.show()"
   ]
  },
  {
   "cell_type": "markdown",
   "metadata": {},
   "source": [
    "---"
   ]
  },
  {
   "cell_type": "code",
   "execution_count": 662,
   "metadata": {
    "collapsed": false
   },
   "outputs": [
    {
     "name": "stdout",
     "output_type": "stream",
     "text": [
      "1 3.00740560307\n",
      "13 3.35467847775\n",
      "16 3.32084368572\n",
      "19 5.06108323316\n",
      "28 3.17564352806\n",
      "31 3.67559019493\n",
      "37 4.07442785701\n",
      "40 3.96192637958\n",
      "\n",
      "features scoring higher than 3:  8\n"
     ]
    }
   ],
   "source": [
    "threshold = 20\n",
    "if np.unique(y, return_counts=True)[0].shape[0] > 2:\n",
    "    threshold = 3\n",
    "\n",
    "skb = SelectKBest()\n",
    "skb = skb.fit(X,y)\n",
    "counter = 0\n",
    "for i in xrange(skb.scores_.shape[0]):\n",
    "    if skb.scores_[i] > threshold:\n",
    "        counter += 1\n",
    "        print i, skb.scores_[i]\n",
    "        \n",
    "print \"\\nfeatures scoring higher than {}: \".format(threshold), counter"
   ]
  },
  {
   "cell_type": "code",
   "execution_count": 663,
   "metadata": {
    "collapsed": false
   },
   "outputs": [
    {
     "data": {
      "text/plain": [
       "(1406, 8)"
      ]
     },
     "execution_count": 663,
     "metadata": {},
     "output_type": "execute_result"
    }
   ],
   "source": [
    "skb = SelectKBest(k=counter)\n",
    "skb = skb.fit(X,y)\n",
    "X = skb.transform(X)\n",
    "X.shape"
   ]
  },
  {
   "cell_type": "markdown",
   "metadata": {},
   "source": [
    "---"
   ]
  },
  {
   "cell_type": "code",
   "execution_count": 664,
   "metadata": {
    "collapsed": false
   },
   "outputs": [
    {
     "name": "stdout",
     "output_type": "stream",
     "text": [
      "Pipeline(steps=[('linearregression', LinearRegression(copy_X=True, fit_intercept=True, n_jobs=1, normalize=False))])\n",
      "\n",
      "score:  -0.0097979825141\n"
     ]
    }
   ],
   "source": [
    "clf_or_regr = \"regr\"\n",
    "pca = False\n",
    "\n",
    "learner = []\n",
    "\n",
    "pipeline = []\n",
    "\n",
    "############################################################################\n",
    "\n",
    "if clf_or_regr == \"clf\":\n",
    "    learner = GaussianNB()\n",
    "    #learner = DecisionTreeClassifier()\n",
    "    #learner = RandomForestClassifier()\n",
    "    #learner = SVC()\n",
    "    #learner = LogisticRegression()\n",
    "        \n",
    "if clf_or_regr == \"regr\":\n",
    "    learner = LinearRegression()\n",
    "    #(), Ridge(), Lasso(), BayesianRidge(), SGDRegressor(), SVR(), DecisionTreeRegressor(), GradientBoostingRegressor()\n",
    "        \n",
    "############################################################################\n",
    "\n",
    "if pca == False:\n",
    "    pipeline = make_pipeline(learner)\n",
    "elif pca == True:\n",
    "    pipeline = make_pipeline(StandardScaler(), RandomizedPCA(), learner)\n",
    "\n",
    "# cross validation    \n",
    "cv = StratifiedShuffleSplit(y, test_size=0.2, random_state=42)\n",
    "\n",
    "# tune parameters\n",
    "params = dict()\n",
    "\n",
    "# for PCA\n",
    "if pca == True:\n",
    "    params['randomizedpca__iterated_power'] = [1, 2, 3]\n",
    "    params['randomizedpca__n_components'] = [2, 4, 6, 8, 10]\n",
    "    params['randomizedpca__random_state'] = [42]\n",
    "    params['randomizedpca__whiten'] = [True, False]\n",
    "    \n",
    "############################################################################\n",
    "\n",
    "if clf_or_regr == \"clf\":\n",
    "    if str(learner)[0] == 'X':\n",
    "        params['decisiontreeclassifier__criterion'] = ['gini', 'entropy']\n",
    "        params['decisiontreeclassifier__max_features'] = ['auto', 'sqrt', 'log2', None]\n",
    "        params['decisiontreeclassifier__class_weight'] = ['auto', None]\n",
    "        params['decisiontreeclassifier__random_state'] = [42]\n",
    "\n",
    "    if str(learner)[0] == 'X':\n",
    "        # [2**x for x in np.arange(-15, 15+1, 3)]\n",
    "        params['svc__C'] = [2**x for x in np.arange(-15, 15+1, 3)]\n",
    "        params['svc__gamma'] = [2**x for x in np.arange(-15, 15+1, 3)]\n",
    "        params['svc__random_state'] = [42]\n",
    "\n",
    "############################################################################        \n",
    "        \n",
    "grid_search = GridSearchCV(pipeline, param_grid=params, n_jobs=1, cv=cv)\n",
    "\n",
    "grid_search.fit(X, y)\n",
    "\n",
    "learner = grid_search.best_estimator_\n",
    "print learner\n",
    "print \"\\nscore: \", grid_search.best_score_\n",
    "\n",
    "learner = learner.fit(X,y)\n",
    "y_pred = learner.predict(X)\n",
    "\n",
    "############################################################################\n",
    "\n",
    "if clf_or_regr == \"clf\":\n",
    "    print \"\\nconfusion matrix:\\n\", \"     FALSE   TRUE\\n\", \"FALSE\", confusion_matrix(y, y_pred)[0], \"\\nTRUE \", confusion_matrix(y, y_pred)[1]\n",
    "    print \"\\n\", classification_report(y, y_pred)"
   ]
  },
  {
   "cell_type": "code",
   "execution_count": 665,
   "metadata": {
    "collapsed": false
   },
   "outputs": [],
   "source": [
    "#for i in xrange(X.shape[1]):\n",
    "#    plt.scatter(X[:,i], y)\n",
    "#    plt.show()"
   ]
  },
  {
   "cell_type": "markdown",
   "metadata": {},
   "source": [
    "---"
   ]
  },
  {
   "cell_type": "code",
   "execution_count": 666,
   "metadata": {
    "collapsed": false
   },
   "outputs": [],
   "source": [
    "if X.shape[1] <= 5:\n",
    "    X_df = pd.DataFrame(X[:,:4])\n",
    "    X_df['labels'] = y\n",
    "    sns.pairplot(X_df, hue='labels')\n",
    "    plt.show()"
   ]
  },
  {
   "cell_type": "code",
   "execution_count": 667,
   "metadata": {
    "collapsed": false
   },
   "outputs": [
    {
     "data": {
      "image/png": "[encoded data removed]",
      "text/plain": [
       "<matplotlib.figure.Figure at 0x1179b4f10>"
      ]
     },
     "metadata": {},
     "output_type": "display_data"
    }
   ],
   "source": [
    "plt.hist(y, color='b', alpha=0.7)\n",
    "plt.hist(y_pred, color='y', alpha=0.7)\n",
    "plt.show()"
   ]
  },
  {
   "cell_type": "code",
   "execution_count": 668,
   "metadata": {
    "collapsed": false
   },
   "outputs": [
    {
     "data": {
      "image/png": "[encoded data removed]",
      "text/plain": [
       "<matplotlib.figure.Figure at 0x116680e10>"
      ]
     },
     "metadata": {},
     "output_type": "display_data"
    }
   ],
   "source": [
    "plt.scatter(np.arange(y.shape[0]), y, color='b', alpha=0.7)\n",
    "plt.scatter(np.arange(y_pred.shape[0]), y_pred, color='y', alpha=0.7)\n",
    "plt.show()"
   ]
  },
  {
   "cell_type": "code",
   "execution_count": 669,
   "metadata": {
    "collapsed": false
   },
   "outputs": [
    {
     "data": {
      "text/plain": [
       "array([  0.78161612,   2.78289156,   3.87907456, ...,   0.15910416,\n",
       "        -1.1897841 , -13.08724493])"
      ]
     },
     "execution_count": 669,
     "metadata": {},
     "output_type": "execute_result"
    }
   ],
   "source": [
    "y_pred - y"
   ]
  },
  {
   "cell_type": "code",
   "execution_count": 670,
   "metadata": {
    "collapsed": false
   },
   "outputs": [
    {
     "data": {
      "text/plain": [
       "-169"
      ]
     },
     "execution_count": 670,
     "metadata": {},
     "output_type": "execute_result"
    }
   ],
   "source": [
    "np.sum(y)"
   ]
  },
  {
   "cell_type": "code",
   "execution_count": 671,
   "metadata": {
    "collapsed": false
   },
   "outputs": [
    {
     "name": "stdout",
     "output_type": "stream",
     "text": [
      "1406  /  1406\n"
     ]
    }
   ],
   "source": [
    "error_count = 0\n",
    "for i in xrange(len(y)):\n",
    "    if y_pred[i] != y[i]:\n",
    "        error_count += 1\n",
    "        \n",
    "print error_count, \" / \", len(y) "
   ]
  },
  {
   "cell_type": "markdown",
   "metadata": {},
   "source": [
    "---"
   ]
  },
  {
   "cell_type": "code",
   "execution_count": 672,
   "metadata": {
    "collapsed": false
   },
   "outputs": [
    {
     "name": "stdout",
     "output_type": "stream",
     "text": [
      "\n",
      "********** \n",
      "final shapes:  (31, 42)\n"
     ]
    }
   ],
   "source": [
    "# import data\n",
    "\n",
    "new_X = []\n",
    "\n",
    "for ticker in tickers:\n",
    "\n",
    "    stock_df = pd.read_csv(\"goog_data/{}_features.csv\".format(ticker))\n",
    "    labels_df = pd.read_csv(\"goog_data/{}_labels.csv\".format(ticker))\n",
    "\n",
    "    num_of_times = stock_df['time'].unique().shape[0]\n",
    "\n",
    "    stock_df = stock_df.drop('time', axis=1)\n",
    "    assert num_of_times == 14, \"wrong number of times\"\n",
    "    #print \"number of times in a day: {}\".format(num_of_times)\n",
    "\n",
    "    # features\n",
    "    features = stock_df.values[(-1*num_of_times):].flatten()\n",
    "    features = np.expand_dims(features, axis=0)\n",
    "\n",
    "    # combine features into rows of X\n",
    "    if new_X == []:\n",
    "        new_X = features\n",
    "    else: \n",
    "        new_X = np.vstack((new_X, features)) \n",
    "\n",
    "print \"\\n\", \"*\"*10, \"\\nfinal shapes: \", new_X.shape"
   ]
  },
  {
   "cell_type": "code",
   "execution_count": 674,
   "metadata": {
    "collapsed": false
   },
   "outputs": [
    {
     "name": "stdout",
     "output_type": "stream",
     "text": [
      "[0] ARNA -0.849653687177\n",
      "[1] ATNM 0.318309018805\n",
      "[2] AVXL 1.42291398684\n",
      "[3] AXN -0.298392966221\n",
      "[4] BLFS -0.146941617147\n",
      "[5] BOTA -0.402527687756\n",
      "[6] CBLI -1.39959266878\n",
      "[7] CPRX -0.62921151297\n",
      "[8] DARA -0.204179245471\n",
      "[9] ECYT -0.670358334397\n",
      "[10] EDAP -0.220096658929\n",
      "[11] EXAS -0.645469659188\n",
      "[12] HALO -0.610826186544\n",
      "[13] IDRA -1.00745932329\n",
      "[14] INO -1.05229115258\n",
      "[15] LOXO -0.530890119979\n",
      "[16] LPCN -0.33132492525\n",
      "[17] MEIP -1.58807448338\n",
      "[18] MNKD -0.826084502926\n",
      "[19] OREX -0.548940620564\n",
      "[20] PGNX -0.749969665619\n",
      "[21] QLTI -0.364692269568\n",
      "[22] RMTI -0.639507339215\n",
      "[23] SGYP -0.683468167484\n",
      "[24] SNGX -0.642596843544\n",
      "[25] SPY -0.33497476569\n",
      "[26] SYN -0.562766803252\n",
      "[27] TENX -0.593800024829\n",
      "[28] THLD -0.614860726467\n",
      "[29] TNXP -0.834714140737\n",
      "[30] TPIV -0.281729948618\n"
     ]
    }
   ],
   "source": [
    "if X.shape[1] <= 5 or X.shape[1] <= counter:\n",
    "    new_X = skb.transform(new_X)\n",
    "\n",
    "new_pred = learner.predict(new_X)\n",
    "for i in xrange(len(tickers)):\n",
    "    print \"[{}]\".format(i), tickers[i], new_pred[i]\n",
    "    "
   ]
  }
 ],
 "metadata": {
  "kernelspec": {
   "display_name": "Python 2",
   "language": "python",
   "name": "python2"
  },
  "language_info": {
   "codemirror_mode": {
    "name": "ipython",
    "version": 2
   },
   "file_extension": ".py",
   "mimetype": "text/x-python",
   "name": "python",
   "nbconvert_exporter": "python",
   "pygments_lexer": "ipython2",
   "version": "2.7.10"
  }
 },
 "nbformat": 4,
 "nbformat_minor": 0
}
