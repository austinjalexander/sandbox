{
 "cells": [
  {
   "cell_type": "code",
   "execution_count": 270,
   "metadata": {
    "collapsed": true
   },
   "outputs": [],
   "source": [
    "import numpy as np\n",
    "from scipy import optimize\n",
    "from sklearn.cross_validation import train_test_split\n",
    "from sklearn.preprocessing import StandardScaler\n",
    "from matplotlib import pyplot as plt\n",
    "%matplotlib inline"
   ]
  },
  {
   "cell_type": "markdown",
   "metadata": {},
   "source": [
    "---"
   ]
  },
  {
   "cell_type": "code",
   "execution_count": 271,
   "metadata": {
    "collapsed": false
   },
   "outputs": [],
   "source": [
    "# scale\n",
    "def scale(X,y,y_max):\n",
    "    #X = np.true_divide(np.subtract(X, np.mean(X, axis=0)), np.std(X, axis=0))\n",
    "    X = StandardScaler().fit_transform(X) \n",
    "    y = np.true_divide(y,y_max)\n",
    "    \n",
    "    return X,y\n",
    "#X,y = scale(X,y,100.0)"
   ]
  },
  {
   "cell_type": "code",
   "execution_count": 272,
   "metadata": {
    "collapsed": false
   },
   "outputs": [],
   "source": [
    "# train_X, test_X, train_y, test_y = train_test_split(train_df, train_y, test_size=0.20, random_state=1)\n",
    "train_X = np.array(([3,5], [5,1], [10,2], [6,1.5]), dtype=float)\n",
    "train_y = np.array(([75], [82], [93], [70]), dtype=float)\n",
    "\n",
    "test_X = np.array(([4, 5.5], [4.5,1], [9,2.5], [6, 2]), dtype=float)\n",
    "test_y = np.array(([70], [89], [85], [75]), dtype=float)\n",
    "\n",
    "train_X,train_y = scale(train_X,train_y,100.0)\n",
    "test_X,test_y = scale(test_X,test_y,100.0)"
   ]
  },
  {
   "cell_type": "markdown",
   "metadata": {},
   "source": [
    "---"
   ]
  },
  {
   "cell_type": "code",
   "execution_count": 273,
   "metadata": {
    "collapsed": false
   },
   "outputs": [],
   "source": [
    "class NN(object):\n",
    "    \n",
    "    def __init__(self, Lambda=0):\n",
    "        \n",
    "        # hyperparameters\n",
    "        self.input_layer_size = 2\n",
    "        self.hidden_layer_size = 3\n",
    "        self.output_layer_size = 1\n",
    "        \n",
    "        # weights\n",
    "        self.W1 = np.random.randn(self.input_layer_size, self.hidden_layer_size)\n",
    "        self.W2 = np.random.randn(self.hidden_layer_size, self.output_layer_size)\n",
    "        \n",
    "        # regularization\n",
    "        self.Lambda = Lambda\n",
    "        \n",
    "    def get_weights(self):\n",
    "        return np.concatenate((self.W1.ravel(), self.W2.ravel()))\n",
    "    \n",
    "    def set_weights(self, weights):\n",
    "        W1_start  = 0\n",
    "        \n",
    "        W1_end = (self.hidden_layer_size * self.input_layer_size)\n",
    "        self.W1 = np.reshape(weights[W1_start:W1_end], (self.input_layer_size,self.hidden_layer_size))\n",
    "        \n",
    "        W2_end = W1_end + (self.hidden_layer_size * self.output_layer_size)\n",
    "        self.W2 = np.reshape(weights[W1_end:W2_end], (self.hidden_layer_size,self.output_layer_size))\n",
    "    \n",
    "    def forward_propagate(self, X):\n",
    "        self.z2 = np.dot(X, self.W1)\n",
    "        self.a2 = self.activation(self.z2)\n",
    "        self.z3 = np.dot(self.a2, self.W2)\n",
    "        y_hat = self.activation(self.z3)\n",
    "        return y_hat\n",
    "    \n",
    "    def activation(self, z):\n",
    "        return np.true_divide(1, (1 + np.exp(-z)))\n",
    "\n",
    "    def visualize_activation(self):\n",
    "        inputs = np.arange(-6,6,0.01)\n",
    "        plt.plot(inputs, self.activation(inputs))\n",
    "        plt.show()\n",
    "        \n",
    "    def activation_prime(self, z):\n",
    "        return np.true_divide(np.exp(-z), ((1 + np.exp(-z))**2))\n",
    "    \n",
    "    def visualize_activation_prime(self):\n",
    "        inputs = np.arange(-6,6,0.01)\n",
    "        plt.plot(inputs, self.activation(inputs))\n",
    "        plt.plot(inputs, self.activation_prime(inputs))\n",
    "        plt.show()\n",
    "        \n",
    "    def cost(self, X, y):\n",
    "        self.y_hat = self.forward_propagate(X)\n",
    "        left = 0.5 * np.sum((y - self.y_hat)**2)/X.shape[0]\n",
    "        right = (self.Lambda/2.0)*(np.sum(self.W1**2) + np.sum(self.W2**2))\n",
    "        return left + right\n",
    "        \n",
    "    def cost_prime(self, X, y):\n",
    "        self.y_hat = self.forward_propagate(X)\n",
    "        \n",
    "        delta3 =  np.multiply(-(y - self.y_hat), self.activation_prime(self.z3))\n",
    "        dJdW2 = np.dot(self.a2.T, delta3)/X.shape[0] + (self.Lambda*self.W2)\n",
    "        \n",
    "        delta2 = np.dot(delta3, self.W2.T) * self.activation_prime(self.z2)\n",
    "        dJdW1 = np.dot(X.T, delta2)/X.shape[0] + (self.Lambda*self.W1)\n",
    "        \n",
    "        return dJdW1, dJdW2\n",
    "                           \n",
    "    def compute_gradient(self, X, y):\n",
    "        dJdW1, dJdW2 = self.cost_prime(X, y)\n",
    "        return np.concatenate((dJdW1.ravel(), dJdW2.ravel()))"
   ]
  },
  {
   "cell_type": "code",
   "execution_count": 274,
   "metadata": {
    "collapsed": false
   },
   "outputs": [],
   "source": [
    "def test_activation():\n",
    "    nn = NN()\n",
    "    nn.visualize_activation_prime()\n",
    "#test_activation()"
   ]
  },
  {
   "cell_type": "code",
   "execution_count": 275,
   "metadata": {
    "collapsed": false
   },
   "outputs": [],
   "source": [
    "def testNN():\n",
    "    nn = NN()\n",
    "    y_hat = nn.forward_propagate(X)\n",
    "    print y_hat, \"\\n\"\n",
    "    print y, \"\\n\"\n",
    "    \n",
    "    cost1 = nn.cost(X,y)\n",
    "    print cost1, \"\\n\"\n",
    "\n",
    "    dJdW1, dJdW2 = nn.cost_prime(X,y)\n",
    "    print dJdW1, \"\\n\"\n",
    "    print dJdW2\n",
    "#testNN()"
   ]
  },
  {
   "cell_type": "markdown",
   "metadata": {},
   "source": [
    "---"
   ]
  },
  {
   "cell_type": "code",
   "execution_count": 276,
   "metadata": {
    "collapsed": false
   },
   "outputs": [],
   "source": [
    "def estimate_gradient(N, X, y):\n",
    "    weights = N.get_weights()\n",
    "    estimated_gradient = np.zeros(weights.shape)\n",
    "    perturb = np.zeros(weights.shape)\n",
    "    epsilon = 1e-4\n",
    "    \n",
    "    for i in xrange(len(weights)):\n",
    "        perturb[i] = epsilon\n",
    "        \n",
    "        N.set_weights(weights + perturb)\n",
    "        loss2 = N.cost(X,y)\n",
    "        \n",
    "        N.set_weights(weights - perturb)\n",
    "        loss1 = N.cost(X,y)\n",
    "        \n",
    "        estimated_gradient[i] = (loss2 - loss1) / (2 * epsilon)\n",
    "        \n",
    "        perturb[i] = 0\n",
    "    \n",
    "    N.set_weights(weights)\n",
    "        \n",
    "    return estimated_gradient"
   ]
  },
  {
   "cell_type": "code",
   "execution_count": 277,
   "metadata": {
    "collapsed": false
   },
   "outputs": [],
   "source": [
    "def test_gradient_estimation():\n",
    "    nn = NN()\n",
    "    estimated_gradient = estimate_gradient(nn,X,y)\n",
    "    gradient = nn.compute_gradient(X,y)\n",
    "\n",
    "    print estimated_gradient[:3]\n",
    "    print gradient[:3]\n",
    "    print\n",
    "    print np.linalg.norm(gradient-estimated_gradient)/np.linalg.norm(gradient+estimated_gradient)   \n",
    "#test_gradient_estimation()"
   ]
  },
  {
   "cell_type": "markdown",
   "metadata": {},
   "source": [
    "---"
   ]
  },
  {
   "cell_type": "code",
   "execution_count": 278,
   "metadata": {
    "collapsed": true
   },
   "outputs": [],
   "source": [
    "class trainer(object):\n",
    "    \n",
    "    def __init__(self, N):\n",
    "        self.N = N\n",
    "        \n",
    "    def callback(self, weights):\n",
    "        self.N.set_weights(weights)\n",
    "        self.J.append(self.N.cost(self.train_X, self.train_y))\n",
    "        self.test_J.append(self.N.cost(self.test_X, self.test_y))\n",
    "        \n",
    "    def cost_wrapper(self, weights, X, y):\n",
    "        self.N.set_weights(weights)\n",
    "        c = self.N.cost(X, y)\n",
    "        g = self.N.compute_gradient(X,y)\n",
    "        \n",
    "        return c, g\n",
    "    \n",
    "    def train(self, train_X, test_X, train_y, test_y):\n",
    "        self.train_X = train_X\n",
    "        self.train_y = train_y\n",
    "        \n",
    "        self.test_X = test_X\n",
    "        self.test_y = test_y\n",
    "        \n",
    "        self.J = []\n",
    "        self.test_J = []\n",
    "        \n",
    "        weights0 = self.N.get_weights()\n",
    "        \n",
    "        options = {'maxiter':200, 'disp':True}\n",
    "        _res = optimize.minimize(self.cost_wrapper, weights0, jac=True, method='BFGS', args=(self.train_X,self.train_y), options=options, callback=self.callback)\n",
    "        \n",
    "        self.N.set_weights(_res.x)\n",
    "        self.optimization_results = _res"
   ]
  },
  {
   "cell_type": "code",
   "execution_count": 279,
   "metadata": {
    "collapsed": false
   },
   "outputs": [
    {
     "name": "stdout",
     "output_type": "stream",
     "text": [
      "Optimization terminated successfully.\n",
      "         Current function value: 0.002023\n",
      "         Iterations: 74\n",
      "         Function evaluations: 77\n",
      "         Gradient evaluations: 77\n"
     ]
    }
   ],
   "source": [
    "nn = NN(Lambda=0.0001)\n",
    "Trainer = trainer(nn)\n",
    "Trainer.train(train_X, test_X, train_y, test_y)"
   ]
  },
  {
   "cell_type": "code",
   "execution_count": 284,
   "metadata": {
    "collapsed": false
   },
   "outputs": [
    {
     "data": {
      "image/png": "[encoded data removed]",
      "text/plain": [
       "<matplotlib.figure.Figure at 0x105276cd0>"
      ]
     },
     "metadata": {},
     "output_type": "display_data"
    }
   ],
   "source": [
    "plt.plot(Trainer.J)\n",
    "plt.plot(Trainer.test_J)\n",
    "plt.legend(['J', 'test_J'])\n",
    "plt.show()"
   ]
  },
  {
   "cell_type": "code",
   "execution_count": 286,
   "metadata": {
    "collapsed": false
   },
   "outputs": [
    {
     "data": {
      "text/plain": [
       "array([[ 0.75655327],\n",
       "       [ 0.75318643],\n",
       "       [ 0.89544847],\n",
       "       [ 0.78965332]])"
      ]
     },
     "execution_count": 286,
     "metadata": {},
     "output_type": "execute_result"
    }
   ],
   "source": [
    "nn.forward_propagate(test_X)"
   ]
  },
  {
   "cell_type": "code",
   "execution_count": 287,
   "metadata": {
    "collapsed": false
   },
   "outputs": [
    {
     "data": {
      "text/plain": [
       "array([[ 0.7 ],\n",
       "       [ 0.89],\n",
       "       [ 0.85],\n",
       "       [ 0.75]])"
      ]
     },
     "execution_count": 287,
     "metadata": {},
     "output_type": "execute_result"
    }
   ],
   "source": [
    "test_y"
   ]
  }
 ],
 "metadata": {
  "kernelspec": {
   "display_name": "Python 2",
   "language": "python",
   "name": "python2"
  },
  "language_info": {
   "codemirror_mode": {
    "name": "ipython",
    "version": 2
   },
   "file_extension": ".py",
   "mimetype": "text/x-python",
   "name": "python",
   "nbconvert_exporter": "python",
   "pygments_lexer": "ipython2",
   "version": "2.7.10"
  }
 },
 "nbformat": 4,
 "nbformat_minor": 0
}
