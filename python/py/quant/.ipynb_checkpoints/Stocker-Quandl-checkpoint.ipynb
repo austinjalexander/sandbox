{
 "cells": [
  {
   "cell_type": "code",
   "execution_count": 1,
   "metadata": {
    "collapsed": false
   },
   "outputs": [],
   "source": [
    "from imports import *\n",
    "import avg_clf_train\n",
    "import import_data\n",
    "\n",
    "%matplotlib inline"
   ]
  },
  {
   "cell_type": "markdown",
   "metadata": {},
   "source": [
    "---"
   ]
  },
  {
   "cell_type": "code",
   "execution_count": 2,
   "metadata": {
    "collapsed": false
   },
   "outputs": [
    {
     "name": "stdout",
     "output_type": "stream",
     "text": [
      "                 Open       High  Low      Close   Volume  Adjusted Close\n",
      "Date                                                                     \n",
      "2015-08-18  19.809999  19.809999   19  19.030001  1101800       19.030001\n"
     ]
    }
   ],
   "source": [
    "check = True\n",
    "\n",
    "if check == True:\n",
    "    # check if last day's data is available\n",
    "    print Quandl.get(\"YAHOO/HALO\", authtoken='DVhizWXNTePyzzy1eHWR').tail(1)"
   ]
  },
  {
   "cell_type": "markdown",
   "metadata": {},
   "source": [
    "---"
   ]
  },
  {
   "cell_type": "code",
   "execution_count": 3,
   "metadata": {
    "collapsed": false
   },
   "outputs": [
    {
     "name": "stdout",
     "output_type": "stream",
     "text": [
      "97 total tickers to start\n",
      "\n",
      "\n",
      "85 available tickers:\n",
      "['ABIO', 'ACOR', 'ADMA', 'AERI', 'AFFX', 'AGEN', 'APPY', 'ARDM', 'ARIA', 'ARNA', 'ARWR', 'ATNM', 'AVXL', 'AXDX', 'AXGN', 'AXN', 'BABY', 'BASI', 'BCLI', 'BCRX', 'BGMD', 'BIIB', 'BLUE', 'BOTA', 'BRKR', 'CBLI', 'CBMG', 'CBMX', 'CBPO', 'CGEN', 'CLDN', 'CLDX', 'CNMD', 'COHR', 'CPHD', 'CPRX', 'CRIS', 'CUTR', 'CYBX', 'CYNO', 'CYTR', 'DARA', 'DRAD', 'DSCO', 'DYAX', 'ECTE', 'ECYT', 'ELOS', 'ENZN', 'ESMC', 'ETRM', 'EXAS', 'EXEL', 'FATE', 'FEIC', 'FLDM', 'FONR', 'GEVA', 'GILD', 'GNCA', 'HALO', 'HSKA', 'IART', 'ICCC', 'IDRA', 'IDXX', 'ILMN', 'IMMU', 'IMRS', 'INCY', 'INO', 'IRIX', 'LPCN', 'MEIP', 'MNKD', 'OREX', 'PGNX', 'QLTI', 'RMTI', 'SGYP', 'SNGX', 'SYN', 'THLD', 'TNXP', 'TPIV']\n"
     ]
    }
   ],
   "source": [
    "download = False\n",
    "\n",
    "start_tickers = ticker_list.tickers\n",
    "tickers = []\n",
    "\n",
    "print len(start_tickers), \"total tickers to start\\n\"\n",
    "\n",
    "if download == True:\n",
    "    # download data\n",
    "    for ticker in start_tickers:\n",
    "        try:\n",
    "            stock_df = Quandl.get(\"YAHOO/{}\".format(ticker), authtoken='DVhizWXNTePyzzy1eHWR')\n",
    "            stock_df.to_csv(\"quandl_data/{}.csv\".format(ticker), index=False)\n",
    "            tickers.append(ticker)\n",
    "        except:\n",
    "            print \"removed:\", ticker\n",
    "            \n",
    "elif download == False:\n",
    "    tickers = [filename[:-4] for filename in os.listdir('quandl_data')]\n",
    "            \n",
    "print \"\\n\", len(tickers), \"available tickers:\"\n",
    "print tickers"
   ]
  },
  {
   "cell_type": "markdown",
   "metadata": {},
   "source": [
    "---"
   ]
  },
  {
   "cell_type": "code",
   "execution_count": 4,
   "metadata": {
    "collapsed": false
   },
   "outputs": [
    {
     "name": "stdout",
     "output_type": "stream",
     "text": [
      "(134034, 10)\n"
     ]
    },
    {
     "data": {
      "text/html": [
       "<div style=\"max-height:1000px;max-width:1500px;overflow:auto;\">\n",
       "<table border=\"1\" class=\"dataframe\">\n",
       "  <thead>\n",
       "    <tr style=\"text-align: right;\">\n",
       "      <th></th>\n",
       "      <th>Open</th>\n",
       "      <th>High</th>\n",
       "      <th>Low</th>\n",
       "      <th>Close</th>\n",
       "      <th>Volume</th>\n",
       "      <th>50dravg</th>\n",
       "      <th>200dravg</th>\n",
       "      <th>OC%</th>\n",
       "      <th>HL%</th>\n",
       "      <th>label</th>\n",
       "    </tr>\n",
       "  </thead>\n",
       "  <tbody>\n",
       "    <tr>\n",
       "      <th>4096</th>\n",
       "      <td>0.52</td>\n",
       "      <td>0.53</td>\n",
       "      <td>0.50</td>\n",
       "      <td>0.52</td>\n",
       "      <td>1093100</td>\n",
       "      <td>0.7780</td>\n",
       "      <td>0.38757</td>\n",
       "      <td>0.000000</td>\n",
       "      <td>0.060</td>\n",
       "      <td>0</td>\n",
       "    </tr>\n",
       "    <tr>\n",
       "      <th>4097</th>\n",
       "      <td>0.52</td>\n",
       "      <td>0.52</td>\n",
       "      <td>0.50</td>\n",
       "      <td>0.52</td>\n",
       "      <td>226000</td>\n",
       "      <td>0.7808</td>\n",
       "      <td>0.38852</td>\n",
       "      <td>0.000000</td>\n",
       "      <td>0.040</td>\n",
       "      <td>0</td>\n",
       "    </tr>\n",
       "    <tr>\n",
       "      <th>4098</th>\n",
       "      <td>0.51</td>\n",
       "      <td>0.52</td>\n",
       "      <td>0.50</td>\n",
       "      <td>0.51</td>\n",
       "      <td>583300</td>\n",
       "      <td>0.7838</td>\n",
       "      <td>0.38927</td>\n",
       "      <td>0.000000</td>\n",
       "      <td>0.040</td>\n",
       "      <td>1</td>\n",
       "    </tr>\n",
       "    <tr>\n",
       "      <th>4099</th>\n",
       "      <td>0.51</td>\n",
       "      <td>0.56</td>\n",
       "      <td>0.50</td>\n",
       "      <td>0.56</td>\n",
       "      <td>475900</td>\n",
       "      <td>0.7884</td>\n",
       "      <td>0.39017</td>\n",
       "      <td>0.098039</td>\n",
       "      <td>0.120</td>\n",
       "      <td>0</td>\n",
       "    </tr>\n",
       "    <tr>\n",
       "      <th>4100</th>\n",
       "      <td>0.57</td>\n",
       "      <td>0.63</td>\n",
       "      <td>0.56</td>\n",
       "      <td>0.57</td>\n",
       "      <td>1537100</td>\n",
       "      <td>0.7928</td>\n",
       "      <td>0.39107</td>\n",
       "      <td>0.000000</td>\n",
       "      <td>0.125</td>\n",
       "      <td>0</td>\n",
       "    </tr>\n",
       "  </tbody>\n",
       "</table>\n",
       "</div>"
      ],
      "text/plain": [
       "      Open  High   Low  Close   Volume  50dravg  200dravg       OC%    HL%  \\\n",
       "4096  0.52  0.53  0.50   0.52  1093100   0.7780   0.38757  0.000000  0.060   \n",
       "4097  0.52  0.52  0.50   0.52   226000   0.7808   0.38852  0.000000  0.040   \n",
       "4098  0.51  0.52  0.50   0.51   583300   0.7838   0.38927  0.000000  0.040   \n",
       "4099  0.51  0.56  0.50   0.56   475900   0.7884   0.39017  0.098039  0.120   \n",
       "4100  0.57  0.63  0.56   0.57  1537100   0.7928   0.39107  0.000000  0.125   \n",
       "\n",
       "      label  \n",
       "4096      0  \n",
       "4097      0  \n",
       "4098      1  \n",
       "4099      0  \n",
       "4100      0  "
      ]
     },
     "execution_count": 4,
     "metadata": {},
     "output_type": "execute_result"
    }
   ],
   "source": [
    "stock_df, prediction_df = import_data.import_data(tickers)\n",
    "print stock_df.shape\n",
    "stock_df.tail()"
   ]
  },
  {
   "cell_type": "markdown",
   "metadata": {},
   "source": [
    "---"
   ]
  },
  {
   "cell_type": "code",
   "execution_count": 5,
   "metadata": {
    "collapsed": false
   },
   "outputs": [],
   "source": [
    "#stock_df[stock_df['Open'] > 5.0]"
   ]
  },
  {
   "cell_type": "code",
   "execution_count": 6,
   "metadata": {
    "collapsed": false
   },
   "outputs": [],
   "source": [
    "#prediction_df[prediction_df['Open'] > 5.0]"
   ]
  },
  {
   "cell_type": "code",
   "execution_count": 7,
   "metadata": {
    "collapsed": false
   },
   "outputs": [
    {
     "data": {
      "text/html": [
       "<div style=\"max-height:1000px;max-width:1500px;overflow:auto;\">\n",
       "<table border=\"1\" class=\"dataframe\">\n",
       "  <thead>\n",
       "    <tr style=\"text-align: right;\">\n",
       "      <th></th>\n",
       "      <th>Open</th>\n",
       "      <th>High</th>\n",
       "      <th>Low</th>\n",
       "      <th>Close</th>\n",
       "      <th>Volume</th>\n",
       "      <th>50dravg</th>\n",
       "      <th>200dravg</th>\n",
       "      <th>OC%</th>\n",
       "      <th>HL%</th>\n",
       "      <th>label</th>\n",
       "    </tr>\n",
       "  </thead>\n",
       "  <tbody>\n",
       "    <tr>\n",
       "      <th>count</th>\n",
       "      <td>134034.000000</td>\n",
       "      <td>134034.000000</td>\n",
       "      <td>134034.000000</td>\n",
       "      <td>134034.000000</td>\n",
       "      <td>1.340340e+05</td>\n",
       "      <td>134034.000000</td>\n",
       "      <td>134034.000000</td>\n",
       "      <td>134034.000000</td>\n",
       "      <td>134034.000000</td>\n",
       "      <td>134034.000000</td>\n",
       "    </tr>\n",
       "    <tr>\n",
       "      <th>mean</th>\n",
       "      <td>22.272779</td>\n",
       "      <td>22.743264</td>\n",
       "      <td>21.790341</td>\n",
       "      <td>22.274280</td>\n",
       "      <td>1.635363e+06</td>\n",
       "      <td>21.982453</td>\n",
       "      <td>21.130649</td>\n",
       "      <td>0.000384</td>\n",
       "      <td>0.060502</td>\n",
       "      <td>0.066423</td>\n",
       "    </tr>\n",
       "    <tr>\n",
       "      <th>std</th>\n",
       "      <td>32.478383</td>\n",
       "      <td>33.028408</td>\n",
       "      <td>31.902986</td>\n",
       "      <td>32.470319</td>\n",
       "      <td>5.146146e+06</td>\n",
       "      <td>31.559408</td>\n",
       "      <td>28.843041</td>\n",
       "      <td>0.048146</td>\n",
       "      <td>0.067330</td>\n",
       "      <td>0.249022</td>\n",
       "    </tr>\n",
       "    <tr>\n",
       "      <th>min</th>\n",
       "      <td>0.020000</td>\n",
       "      <td>0.020000</td>\n",
       "      <td>0.010000</td>\n",
       "      <td>0.010000</td>\n",
       "      <td>1.001000e+05</td>\n",
       "      <td>0.013040</td>\n",
       "      <td>0.060366</td>\n",
       "      <td>-0.800000</td>\n",
       "      <td>0.000000</td>\n",
       "      <td>0.000000</td>\n",
       "    </tr>\n",
       "    <tr>\n",
       "      <th>25%</th>\n",
       "      <td>4.660000</td>\n",
       "      <td>4.810000</td>\n",
       "      <td>4.500000</td>\n",
       "      <td>4.650000</td>\n",
       "      <td>2.079000e+05</td>\n",
       "      <td>4.660000</td>\n",
       "      <td>4.751600</td>\n",
       "      <td>-0.019231</td>\n",
       "      <td>0.029259</td>\n",
       "      <td>0.000000</td>\n",
       "    </tr>\n",
       "    <tr>\n",
       "      <th>50%</th>\n",
       "      <td>11.249920</td>\n",
       "      <td>11.540000</td>\n",
       "      <td>10.960000</td>\n",
       "      <td>11.249920</td>\n",
       "      <td>4.372000e+05</td>\n",
       "      <td>11.165500</td>\n",
       "      <td>11.036425</td>\n",
       "      <td>0.000000</td>\n",
       "      <td>0.045288</td>\n",
       "      <td>0.000000</td>\n",
       "    </tr>\n",
       "    <tr>\n",
       "      <th>75%</th>\n",
       "      <td>28.400000</td>\n",
       "      <td>29.000000</td>\n",
       "      <td>27.750000</td>\n",
       "      <td>28.430000</td>\n",
       "      <td>1.072000e+06</td>\n",
       "      <td>28.033925</td>\n",
       "      <td>27.298400</td>\n",
       "      <td>0.017167</td>\n",
       "      <td>0.071429</td>\n",
       "      <td>0.000000</td>\n",
       "    </tr>\n",
       "    <tr>\n",
       "      <th>max</th>\n",
       "      <td>475.920013</td>\n",
       "      <td>480.179993</td>\n",
       "      <td>460.500000</td>\n",
       "      <td>475.980011</td>\n",
       "      <td>4.553760e+08</td>\n",
       "      <td>419.842800</td>\n",
       "      <td>376.095399</td>\n",
       "      <td>3.365482</td>\n",
       "      <td>5.238095</td>\n",
       "      <td>1.000000</td>\n",
       "    </tr>\n",
       "  </tbody>\n",
       "</table>\n",
       "</div>"
      ],
      "text/plain": [
       "                Open           High            Low          Close  \\\n",
       "count  134034.000000  134034.000000  134034.000000  134034.000000   \n",
       "mean       22.272779      22.743264      21.790341      22.274280   \n",
       "std        32.478383      33.028408      31.902986      32.470319   \n",
       "min         0.020000       0.020000       0.010000       0.010000   \n",
       "25%         4.660000       4.810000       4.500000       4.650000   \n",
       "50%        11.249920      11.540000      10.960000      11.249920   \n",
       "75%        28.400000      29.000000      27.750000      28.430000   \n",
       "max       475.920013     480.179993     460.500000     475.980011   \n",
       "\n",
       "             Volume        50dravg       200dravg            OC%  \\\n",
       "count  1.340340e+05  134034.000000  134034.000000  134034.000000   \n",
       "mean   1.635363e+06      21.982453      21.130649       0.000384   \n",
       "std    5.146146e+06      31.559408      28.843041       0.048146   \n",
       "min    1.001000e+05       0.013040       0.060366      -0.800000   \n",
       "25%    2.079000e+05       4.660000       4.751600      -0.019231   \n",
       "50%    4.372000e+05      11.165500      11.036425       0.000000   \n",
       "75%    1.072000e+06      28.033925      27.298400       0.017167   \n",
       "max    4.553760e+08     419.842800     376.095399       3.365482   \n",
       "\n",
       "                 HL%          label  \n",
       "count  134034.000000  134034.000000  \n",
       "mean        0.060502       0.066423  \n",
       "std         0.067330       0.249022  \n",
       "min         0.000000       0.000000  \n",
       "25%         0.029259       0.000000  \n",
       "50%         0.045288       0.000000  \n",
       "75%         0.071429       0.000000  \n",
       "max         5.238095       1.000000  "
      ]
     },
     "execution_count": 7,
     "metadata": {},
     "output_type": "execute_result"
    }
   ],
   "source": [
    "stock_df.describe()"
   ]
  },
  {
   "cell_type": "code",
   "execution_count": 8,
   "metadata": {
    "collapsed": false
   },
   "outputs": [
    {
     "data": {
      "image/png": "[encoded data removed]",
      "text/plain": [
       "<matplotlib.figure.Figure at 0x10a4c4ad0>"
      ]
     },
     "metadata": {},
     "output_type": "display_data"
    }
   ],
   "source": [
    "stock_df.Volume.hist(bins=50)\n",
    "plt.show()"
   ]
  },
  {
   "cell_type": "code",
   "execution_count": 9,
   "metadata": {
    "collapsed": false
   },
   "outputs": [
    {
     "name": "stdout",
     "output_type": "stream",
     "text": [
      "0 Open -0.061916978716\n",
      "1 High -0.0601920154086\n",
      "2 Low -0.0639046497747\n",
      "3 Close -0.0618858811241\n",
      "4 Volume 0.00615471355362\n",
      "5 50dravg -0.0586777777832\n",
      "6 200dravg -0.0560666480781\n",
      "7 OC% 0.00776985827436\n",
      "8 HL% 0.143478463072\n",
      "9 label 1.0\n"
     ]
    }
   ],
   "source": [
    "for i in xrange(len(stock_df.columns)):\n",
    "    print i, stock_df.columns[i], stock_df.corr()['label'].values[i]"
   ]
  },
  {
   "cell_type": "code",
   "execution_count": 10,
   "metadata": {
    "collapsed": false
   },
   "outputs": [
    {
     "data": {
      "image/png": "[encoded data removed]",
      "text/plain": [
       "<matplotlib.figure.Figure at 0x10c006f50>"
      ]
     },
     "metadata": {},
     "output_type": "display_data"
    }
   ],
   "source": [
    "negative_df = stock_df[stock_df['label'] == 0]\n",
    "positive_df = stock_df[stock_df['label'] == 1]\n",
    "\n",
    "plt.scatter(negative_df['200dravg'], negative_df['Volume'])\n",
    "plt.scatter(positive_df['200dravg'], positive_df['Volume'], color='r')\n",
    "plt.show()"
   ]
  },
  {
   "cell_type": "code",
   "execution_count": 11,
   "metadata": {
    "collapsed": false
   },
   "outputs": [
    {
     "data": {
      "image/png": "[encoded data removed]",
      "text/plain": [
       "<matplotlib.figure.Figure at 0x10c408790>"
      ]
     },
     "metadata": {},
     "output_type": "display_data"
    }
   ],
   "source": [
    "x, y, z = 'HL%', 'Low', 'Open'\n",
    "\n",
    "fig = plt.figure()\n",
    "ax = fig.gca(projection='3d')\n",
    "ax.scatter(negative_df[x], negative_df[y], negative_df[z], alpha=0.5, color='y')\n",
    "ax.scatter(positive_df[x], positive_df[y], positive_df[z], color='r')\n",
    "ax.set_xlabel(x)\n",
    "ax.set_ylabel(y)\n",
    "ax.set_zlabel(z)\n",
    "ax.view_init(azim=250)\n",
    "plt.show()"
   ]
  },
  {
   "cell_type": "code",
   "execution_count": 12,
   "metadata": {
    "collapsed": false
   },
   "outputs": [
    {
     "name": "stdout",
     "output_type": "stream",
     "text": [
      "(134034, 9) (134034,)\n"
     ]
    }
   ],
   "source": [
    "y = stock_df['label'].values\n",
    "stock_df = stock_df.drop('label', axis=1)\n",
    "X = stock_df.values\n",
    "\n",
    "print X.shape, y.shape"
   ]
  },
  {
   "cell_type": "code",
   "execution_count": 13,
   "metadata": {
    "collapsed": false
   },
   "outputs": [
    {
     "data": {
      "image/png": "[encoded data removed]",
      "text/plain": [
       "<matplotlib.figure.Figure at 0x10c3fae90>"
      ]
     },
     "metadata": {},
     "output_type": "display_data"
    }
   ],
   "source": [
    "plt.hist(y, bins=50, alpha=0.7, color='r')\n",
    "plt.show()"
   ]
  },
  {
   "cell_type": "code",
   "execution_count": 14,
   "metadata": {
    "collapsed": false
   },
   "outputs": [
    {
     "name": "stdout",
     "output_type": "stream",
     "text": [
      "(2,) \n",
      "\n",
      "[0 1]\n"
     ]
    }
   ],
   "source": [
    "y_values = np.unique(y, return_counts=True)[0]\n",
    "print y_values.shape, \"\\n\"\n",
    "print y_values"
   ]
  },
  {
   "cell_type": "code",
   "execution_count": 15,
   "metadata": {
    "collapsed": false
   },
   "outputs": [
    {
     "name": "stdout",
     "output_type": "stream",
     "text": [
      "[125131   8903]\n",
      "percent 1:  0.0664234447976\n"
     ]
    }
   ],
   "source": [
    "num_of_classes = np.unique(y, return_counts=True)[1]\n",
    "print num_of_classes\n",
    "print \"percent 1: \", np.true_divide(num_of_classes[1],np.sum(num_of_classes))"
   ]
  },
  {
   "cell_type": "code",
   "execution_count": 16,
   "metadata": {
    "collapsed": false
   },
   "outputs": [
    {
     "name": "stdout",
     "output_type": "stream",
     "text": [
      "0\n",
      "[]\n",
      "[]\n"
     ]
    }
   ],
   "source": [
    "classes_to_remove = []\n",
    "for i in np.where(num_of_classes == 1)[0]:\n",
    "    classes_to_remove.append(y_values[i])\n",
    "\n",
    "print len(classes_to_remove)\n",
    "print classes_to_remove[:5]\n",
    "print classes_to_remove[-5:]"
   ]
  },
  {
   "cell_type": "code",
   "execution_count": 17,
   "metadata": {
    "collapsed": false
   },
   "outputs": [
    {
     "name": "stdout",
     "output_type": "stream",
     "text": [
      "number of labels:  2\n"
     ]
    }
   ],
   "source": [
    "print \"number of labels: \", np.unique(y, return_counts=True)[0].shape[0]"
   ]
  },
  {
   "cell_type": "code",
   "execution_count": 18,
   "metadata": {
    "collapsed": false
   },
   "outputs": [],
   "source": [
    "#for i in xrange(X.shape[1]):\n",
    "#    plt.scatter(X[:,i], y)\n",
    "#    plt.show()"
   ]
  },
  {
   "cell_type": "code",
   "execution_count": 19,
   "metadata": {
    "collapsed": false
   },
   "outputs": [],
   "source": [
    "#for i in xrange(X.shape[1]):\n",
    "#    plt.hist(X[:,i])\n",
    "#    plt.show()"
   ]
  },
  {
   "cell_type": "markdown",
   "metadata": {},
   "source": [
    "---"
   ]
  },
  {
   "cell_type": "code",
   "execution_count": 20,
   "metadata": {
    "collapsed": false,
    "scrolled": false
   },
   "outputs": [
    {
     "name": "stdout",
     "output_type": "stream",
     "text": [
      "k = 4\n",
      "Open 393.82\n",
      "High 371.29\n",
      "Low 420.72\n",
      "Close 393.49\n",
      "Volume 3.86\n",
      "50dravg 352.77\n",
      "200dravg 329.33\n",
      "OC% 9.75\n",
      "HL% 2204.59\n",
      "\n",
      "DecisionTreeClassifier(class_weight='auto', criterion='gini', max_depth=None,\n",
      "            max_features='auto', max_leaf_nodes=None, min_samples_leaf=1,\n",
      "            min_samples_split=2, min_weight_fraction_leaf=0.0,\n",
      "            random_state=42, splitter='best')\n",
      "0.879247957623\n",
      "\n",
      "confusion matrix:\n",
      "     FALSE   TRUE\n",
      "FALSE [23411  1541] \n",
      "TRUE  [1696  159]\n",
      "\n",
      "             precision    recall  f1-score   support\n",
      "\n",
      "          0       0.93      0.94      0.94     24952\n",
      "          1       0.09      0.09      0.09      1855\n",
      "\n",
      "avg / total       0.87      0.88      0.88     26807\n",
      "\n",
      "\n",
      "minutes for learner to run: 0.011\n",
      "\n"
     ]
    },
    {
     "data": {
      "text/plain": [
       "'\\ndef avg_clf_train_func(X, y, k, stock_df): \\n\\n    clf_or_regr = \"clf\"\\n\\n    t0 = time()\\n\\n\\n    ############################################################################ \\n\\n    pipeline = make_pipeline(DecisionTreeClassifier())\\n\\n        # cross validation    \\n    cv = StratifiedShuffleSplit(y, test_size=0.2, random_state=42)\\n\\n    # tune parameters\\n    params = dict()\\n\\n    params[\\'decisiontreeclassifier__criterion\\'] = [\\'gini\\', \\'entropy\\']\\n    params[\\'decisiontreeclassifier__max_features\\'] = [\\'auto\\', \\'sqrt\\', \\'log2\\', None]\\n    params[\\'decisiontreeclassifier__class_weight\\'] = [\\'auto\\', None]\\n    params[\\'decisiontreeclassifier__random_state\\'] = [42]\\n\\n    grid_search = GridSearchCV(pipeline, param_grid=params, n_jobs=1, cv=cv)\\n\\n    grid_search.fit(X, y)\\n\\n    print grid_search.best_estimator_\\n\\n\\n    return skb, learners\\n\\nskb, learners = avg_clf_train_func(X, y, 4, stock_df)\\n'"
      ]
     },
     "execution_count": 20,
     "metadata": {},
     "output_type": "execute_result"
    }
   ],
   "source": [
    "skb, learners = avg_clf_train.avg_clf_train(X, y, 4, 100.0, 0.1, stock_df)\n",
    "\n",
    "'''\n",
    "def avg_clf_train_func(X, y, k, stock_df): \n",
    "\n",
    "    clf_or_regr = \"clf\"\n",
    "\n",
    "    t0 = time()\n",
    "\n",
    "\n",
    "    ############################################################################ \n",
    "\n",
    "    pipeline = make_pipeline(DecisionTreeClassifier())\n",
    "\n",
    "        # cross validation    \n",
    "    cv = StratifiedShuffleSplit(y, test_size=0.2, random_state=42)\n",
    "\n",
    "    # tune parameters\n",
    "    params = dict()\n",
    "\n",
    "    params['decisiontreeclassifier__criterion'] = ['gini', 'entropy']\n",
    "    params['decisiontreeclassifier__max_features'] = ['auto', 'sqrt', 'log2', None]\n",
    "    params['decisiontreeclassifier__class_weight'] = ['auto', None]\n",
    "    params['decisiontreeclassifier__random_state'] = [42]\n",
    "\n",
    "    grid_search = GridSearchCV(pipeline, param_grid=params, n_jobs=1, cv=cv)\n",
    "\n",
    "    grid_search.fit(X, y)\n",
    "\n",
    "    print grid_search.best_estimator_\n",
    "\n",
    "\n",
    "    return skb, learners\n",
    "\n",
    "skb, learners = avg_clf_train_func(X, y, 4, stock_df)\n",
    "'''"
   ]
  },
  {
   "cell_type": "markdown",
   "metadata": {},
   "source": [
    "---"
   ]
  },
  {
   "cell_type": "code",
   "execution_count": 21,
   "metadata": {
    "collapsed": false
   },
   "outputs": [],
   "source": [
    "#X_df = pd.DataFrame(X[:,:4])\n",
    "#X_df = pd.DataFrame(X)\n",
    "#X_df['labels'] = y\n",
    "#sns.pairplot(X_df, hue='labels')\n",
    "#plt.show()"
   ]
  },
  {
   "cell_type": "code",
   "execution_count": 22,
   "metadata": {
    "collapsed": false
   },
   "outputs": [],
   "source": [
    "#plt.hist(y, color='b', alpha=0.7)\n",
    "#plt.hist(y_pred, color='y', alpha=0.7)\n",
    "#plt.show()"
   ]
  },
  {
   "cell_type": "code",
   "execution_count": 23,
   "metadata": {
    "collapsed": false
   },
   "outputs": [],
   "source": [
    "#plt.scatter(np.arange(y.shape[0]), y, color='b', alpha=0.7)\n",
    "#plt.scatter(np.arange(y_pred.shape[0]), y_pred, color='y', alpha=0.7)\n",
    "#plt.show()"
   ]
  },
  {
   "cell_type": "code",
   "execution_count": 24,
   "metadata": {
    "collapsed": false
   },
   "outputs": [],
   "source": [
    "#y_pred - y"
   ]
  },
  {
   "cell_type": "code",
   "execution_count": 25,
   "metadata": {
    "collapsed": false
   },
   "outputs": [],
   "source": [
    "#np.sum(y)"
   ]
  },
  {
   "cell_type": "code",
   "execution_count": 26,
   "metadata": {
    "collapsed": false
   },
   "outputs": [],
   "source": [
    "#error_count = 0\n",
    "#for i in xrange(len(y)):\n",
    "#    if y_pred[i] != y[i]:\n",
    "#        error_count += 1\n",
    "#        \n",
    "#print error_count, \" / \", len(y) "
   ]
  },
  {
   "cell_type": "markdown",
   "metadata": {},
   "source": [
    "---"
   ]
  },
  {
   "cell_type": "code",
   "execution_count": 27,
   "metadata": {
    "collapsed": false
   },
   "outputs": [],
   "source": [
    "pred_df = prediction_df[prediction_df['label'].apply(np.isnan) == True]"
   ]
  },
  {
   "cell_type": "code",
   "execution_count": 28,
   "metadata": {
    "collapsed": true
   },
   "outputs": [],
   "source": [
    "pred_tickers = pred_df['ticker'].unique()"
   ]
  },
  {
   "cell_type": "code",
   "execution_count": 29,
   "metadata": {
    "collapsed": false
   },
   "outputs": [
    {
     "name": "stdout",
     "output_type": "stream",
     "text": [
      "(65, 9)\n",
      "[  9.30000000e-01   9.30000000e-01   8.60000000e-01   9.10000000e-01\n",
      "   1.47000000e+05   1.06760000e+00   8.93050000e-01  -2.15053763e-02\n",
      "   8.13953488e-02]\n"
     ]
    }
   ],
   "source": [
    "pred_X = pred_df.drop(['ticker','label'], axis=1).values\n",
    "print pred_X.shape\n",
    "print pred_X[0]"
   ]
  },
  {
   "cell_type": "code",
   "execution_count": 30,
   "metadata": {
    "collapsed": false
   },
   "outputs": [
    {
     "name": "stdout",
     "output_type": "stream",
     "text": [
      "(65, 4)\n"
     ]
    }
   ],
   "source": [
    "pred_X = skb.transform(pred_X)\n",
    "print pred_X.shape"
   ]
  },
  {
   "cell_type": "code",
   "execution_count": 31,
   "metadata": {
    "collapsed": false
   },
   "outputs": [
    {
     "name": "stdout",
     "output_type": "stream",
     "text": [
      "(65,)\n"
     ]
    }
   ],
   "source": [
    "y_predictions = []\n",
    "for learner in learners:\n",
    "    y_pred = learner.predict(pred_X)\n",
    "    print y_pred.shape\n",
    "    y_predictions.append(y_pred)"
   ]
  },
  {
   "cell_type": "code",
   "execution_count": 32,
   "metadata": {
    "collapsed": false
   },
   "outputs": [
    {
     "name": "stdout",
     "output_type": "stream",
     "text": [
      "1\n"
     ]
    }
   ],
   "source": [
    "print len(y_predictions)\n",
    "y_predictions = y_predictions[0]"
   ]
  },
  {
   "cell_type": "code",
   "execution_count": 33,
   "metadata": {
    "collapsed": false
   },
   "outputs": [],
   "source": [
    "#y_pred_avg = np.mean(y_predictions, axis=1)\n",
    "#print y_pred_avg.shape"
   ]
  },
  {
   "cell_type": "code",
   "execution_count": 34,
   "metadata": {
    "collapsed": false
   },
   "outputs": [
    {
     "name": "stdout",
     "output_type": "stream",
     "text": [
      "0 ABIO 0\n",
      "1 ACOR 0\n",
      "2 AERI 0\n",
      "3 AFFX 0\n",
      "4 AGEN 1\n",
      "5 ARIA 0\n",
      "6 ARNA 1\n",
      "7 ARWR 0\n",
      "8 ATNM 0\n",
      "9 AVXL 0\n",
      "10 AXDX 0\n",
      "11 AXN 0\n",
      "12 BABY 0\n",
      "13 BCLI 1\n",
      "14 BCRX 0\n",
      "15 BGMD 0\n",
      "16 BIIB 0\n",
      "17 BLUE 0\n",
      "18 BRKR 0\n",
      "19 CBMG 0\n",
      "20 CBPO 0\n",
      "21 CGEN 0\n",
      "22 CLDN 0\n",
      "23 CLDX 0\n",
      "24 CNMD 0\n",
      "25 COHR 0\n",
      "26 CPHD 0\n",
      "27 CPRX 0\n",
      "28 CRIS 0\n",
      "29 CYBX 0\n",
      "30 CYNO 0\n",
      "31 CYTR 0\n",
      "32 DSCO 1\n",
      "33 DYAX 0\n",
      "34 ECYT 0\n",
      "35 ELOS 0\n",
      "36 ENZN 0\n",
      "37 ETRM 0\n",
      "38 EXAS 0\n",
      "39 EXEL 0\n",
      "40 FATE 0\n",
      "41 FEIC 0\n",
      "42 FLDM 0\n",
      "43 GILD 0\n",
      "44 GNCA 0\n",
      "45 HALO 0\n",
      "46 IART 0\n",
      "47 IDRA 0\n",
      "48 IDXX 0\n",
      "49 ILMN 0\n",
      "50 IMMU 1\n",
      "51 IMRS 0\n",
      "52 INCY 0\n",
      "53 INO 0\n",
      "54 LPCN 0\n",
      "55 MEIP 0\n",
      "56 MNKD 0\n",
      "57 OREX 0\n",
      "58 PGNX 0\n",
      "59 RMTI 0\n",
      "60 SGYP 0\n",
      "61 SYN 0\n",
      "62 THLD 0\n",
      "63 TNXP 0\n",
      "64 TPIV 0\n"
     ]
    }
   ],
   "source": [
    "positive_tickers = []\n",
    "for i in xrange(len(pred_tickers)):\n",
    "    print i, pred_tickers[i], y_predictions[i]\n",
    "    if y_predictions[i] == 1:\n",
    "        positive_tickers.append(pred_tickers[i])"
   ]
  },
  {
   "cell_type": "code",
   "execution_count": 35,
   "metadata": {
    "collapsed": false
   },
   "outputs": [
    {
     "data": {
      "image/png": "[encoded data removed]",
      "text/plain": [
       "<matplotlib.figure.Figure at 0x10a4c4450>"
      ]
     },
     "metadata": {},
     "output_type": "display_data"
    },
    {
     "name": "stdout",
     "output_type": "stream",
     "text": [
      "\tAGEN 100-day freq probability: 0.11\n",
      "~~~~~~~~~~~~~~~~~~~~~~~~~~~~~~~~~~~~~~~~~~~~~~~~~~ \n",
      "\n"
     ]
    },
    {
     "data": {
      "image/png": "[encoded data removed]",
      "text/plain": [
       "<matplotlib.figure.Figure at 0x10a4c4ad0>"
      ]
     },
     "metadata": {},
     "output_type": "display_data"
    },
    {
     "name": "stdout",
     "output_type": "stream",
     "text": [
      "\tARNA 100-day freq probability: 0.02\n",
      "~~~~~~~~~~~~~~~~~~~~~~~~~~~~~~~~~~~~~~~~~~~~~~~~~~ \n",
      "\n"
     ]
    },
    {
     "data": {
      "image/png": "[encoded data removed]",
      "text/plain": [
       "<matplotlib.figure.Figure at 0x10e4214d0>"
      ]
     },
     "metadata": {},
     "output_type": "display_data"
    },
    {
     "name": "stdout",
     "output_type": "stream",
     "text": [
      "\tBCLI 100-day freq probability: 0.05\n",
      "~~~~~~~~~~~~~~~~~~~~~~~~~~~~~~~~~~~~~~~~~~~~~~~~~~ \n",
      "\n"
     ]
    },
    {
     "data": {
      "image/png": "[encoded data removed]",
      "text/plain": [
       "<matplotlib.figure.Figure at 0x10c8fead0>"
      ]
     },
     "metadata": {},
     "output_type": "display_data"
    },
    {
     "name": "stdout",
     "output_type": "stream",
     "text": [
      "\tDSCO 100-day freq probability: 0.08\n",
      "~~~~~~~~~~~~~~~~~~~~~~~~~~~~~~~~~~~~~~~~~~~~~~~~~~ \n",
      "\n"
     ]
    },
    {
     "data": {
      "image/png": "[encoded data removed]",
      "text/plain": [
       "<matplotlib.figure.Figure at 0x10c8fe410>"
      ]
     },
     "metadata": {},
     "output_type": "display_data"
    },
    {
     "name": "stdout",
     "output_type": "stream",
     "text": [
      "\tIMMU 100-day freq probability: 0.06\n",
      "~~~~~~~~~~~~~~~~~~~~~~~~~~~~~~~~~~~~~~~~~~~~~~~~~~ \n",
      "\n"
     ]
    }
   ],
   "source": [
    "for ticker in positive_tickers:\n",
    "    \n",
    "    past_days = 100\n",
    "    \n",
    "    oc = prediction_df[prediction_df['ticker'] == ticker][\"OC%\"][-past_days:]\n",
    "    \n",
    "    num_days = oc.shape[0]\n",
    "    \n",
    "    day_range = np.arange(num_days)\n",
    "    \n",
    "    plt.plot(day_range, oc, alpha=0.5)\n",
    "    plt.plot(day_range, [0.05 for x in day_range], color='r')\n",
    "    plt.title(\"{0} (previous {1} days)\".format(ticker, num_days))\n",
    "    plt.show()\n",
    "\n",
    "    print \"\\t\", ticker, \"{}-day freq probability:\".format(past_days), np.true_divide(np.sum(oc.values > 0.05), past_days)\n",
    "    print \"~\"*50, \"\\n\"  "
   ]
  }
 ],
 "metadata": {
  "kernelspec": {
   "display_name": "Python 2",
   "language": "python",
   "name": "python2"
  },
  "language_info": {
   "codemirror_mode": {
    "name": "ipython",
    "version": 2
   },
   "file_extension": ".py",
   "mimetype": "text/x-python",
   "name": "python",
   "nbconvert_exporter": "python",
   "pygments_lexer": "ipython2",
   "version": "2.7.10"
  }
 },
 "nbformat": 4,
 "nbformat_minor": 0
}
