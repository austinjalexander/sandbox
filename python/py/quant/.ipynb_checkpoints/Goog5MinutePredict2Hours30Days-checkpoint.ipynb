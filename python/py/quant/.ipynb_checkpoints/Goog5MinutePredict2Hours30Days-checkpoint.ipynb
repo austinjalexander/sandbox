{
 "cells": [
  {
   "cell_type": "code",
   "execution_count": 569,
   "metadata": {
    "collapsed": true
   },
   "outputs": [],
   "source": [
    "import numpy as np\n",
    "import pandas as pd\n",
    "import datetime\n",
    "import Quandl\n",
    "from matplotlib import pyplot as plt\n",
    "from sklearn.linear_model import BayesianRidge\n",
    "%matplotlib inline"
   ]
  },
  {
   "cell_type": "code",
   "execution_count": 570,
   "metadata": {
    "collapsed": true
   },
   "outputs": [],
   "source": [
    "# http://trading.cheno.net/downloading-google-intraday-historical-data-with-python/"
   ]
  },
  {
   "cell_type": "code",
   "execution_count": 571,
   "metadata": {
    "collapsed": true
   },
   "outputs": [],
   "source": [
    "# http://www.google.com/finance/getprices?q=TNXP&i=300&p=10d&f=d,o,h,l,c,v"
   ]
  },
  {
   "cell_type": "code",
   "execution_count": 572,
   "metadata": {
    "collapsed": false
   },
   "outputs": [
    {
     "name": "stdout",
     "output_type": "stream",
     "text": [
      "Goog1MinuteData-Revised.ipynb\r\n",
      "Goog5MinutePredict2Hours10days.ipynb\r\n",
      "Goog5MinutePredict2Hours30Days.ipynb\r\n",
      "Goog5MinutePredict2Hours30DaysOld.ipynb\r\n",
      "Goog5MinutePredict30Mins.ipynb\r\n",
      "GoogMinuteData.ipynb\r\n",
      "Quandl.ipynb\r\n",
      "WIKI_tickers.csv\r\n",
      "authtoken.p\r\n",
      "data.csv\r\n",
      "tnxp_100days.csv\r\n",
      "tnxp_goog_5min_10day.csv\r\n",
      "tnxp_goog_5min_10day_clean.csv\r\n",
      "tnxp_goog_5min_10day_fromJun18.csv\r\n",
      "tnxp_goog_5min_30days_clean.csv\r\n",
      "tnxp_goog_intraday_60sec_10days.csv\r\n",
      "tnxp_goog_intraday_60sec_10days_clean.csv\r\n",
      "tnxp_yahoo_10day_intraday.csv\r\n"
     ]
    }
   ],
   "source": [
    "!ls"
   ]
  },
  {
   "cell_type": "code",
   "execution_count": 573,
   "metadata": {
    "collapsed": false
   },
   "outputs": [
    {
     "name": "stdout",
     "output_type": "stream",
     "text": [
      "EXCHANGE%3DNASDAQ\r\n",
      "MARKET_OPEN_MINUTE=570\r\n",
      "MARKET_CLOSE_MINUTE=960\r\n",
      "INTERVAL=300\r\n",
      "COLUMNS=DATE,CLOSE,HIGH,LOW,OPEN,VOLUME\r\n",
      "DATA=\r\n",
      "TIMEZONE_OFFSET=-240\r\n",
      "a1433511000,7.85,7.85,7.85,7.85,2575\r\n",
      "1,7.8389,7.85,7.8224,7.8457,3475\r\n",
      "2,7.91,7.93,7.8004,7.83,11892\r\n"
     ]
    }
   ],
   "source": [
    "!head tnxp_goog_5min_10day_fromJun18.csv"
   ]
  },
  {
   "cell_type": "code",
   "execution_count": 574,
   "metadata": {
    "collapsed": false
   },
   "outputs": [],
   "source": [
    "stock_df = pd.read_csv(\"tnxp_100days.csv\", skiprows=[0,1,2,3,5,6])"
   ]
  },
  {
   "cell_type": "code",
   "execution_count": 575,
   "metadata": {
    "collapsed": false
   },
   "outputs": [
    {
     "name": "stdout",
     "output_type": "stream",
     "text": [
      "(2923, 6)\n"
     ]
    },
    {
     "data": {
      "text/html": [
       "<div style=\"max-height:1000px;max-width:1500px;overflow:auto;\">\n",
       "<table border=\"1\" class=\"dataframe\">\n",
       "  <thead>\n",
       "    <tr style=\"text-align: right;\">\n",
       "      <th></th>\n",
       "      <th>COLUMNS=DATE</th>\n",
       "      <th>CLOSE</th>\n",
       "      <th>HIGH</th>\n",
       "      <th>LOW</th>\n",
       "      <th>OPEN</th>\n",
       "      <th>VOLUME</th>\n",
       "    </tr>\n",
       "  </thead>\n",
       "  <tbody>\n",
       "    <tr>\n",
       "      <th>0</th>\n",
       "      <td>a1428586200</td>\n",
       "      <td>6.08</td>\n",
       "      <td>6.08</td>\n",
       "      <td>6.0800</td>\n",
       "      <td>6.0800</td>\n",
       "      <td>2500</td>\n",
       "    </tr>\n",
       "    <tr>\n",
       "      <th>1</th>\n",
       "      <td>2</td>\n",
       "      <td>6.15</td>\n",
       "      <td>6.15</td>\n",
       "      <td>6.1156</td>\n",
       "      <td>6.1156</td>\n",
       "      <td>970</td>\n",
       "    </tr>\n",
       "    <tr>\n",
       "      <th>2</th>\n",
       "      <td>3</td>\n",
       "      <td>6.18</td>\n",
       "      <td>6.19</td>\n",
       "      <td>6.1700</td>\n",
       "      <td>6.1700</td>\n",
       "      <td>300</td>\n",
       "    </tr>\n",
       "    <tr>\n",
       "      <th>3</th>\n",
       "      <td>4</td>\n",
       "      <td>6.10</td>\n",
       "      <td>6.10</td>\n",
       "      <td>6.1000</td>\n",
       "      <td>6.1000</td>\n",
       "      <td>100</td>\n",
       "    </tr>\n",
       "    <tr>\n",
       "      <th>4</th>\n",
       "      <td>5</td>\n",
       "      <td>6.07</td>\n",
       "      <td>6.07</td>\n",
       "      <td>6.0700</td>\n",
       "      <td>6.0700</td>\n",
       "      <td>100</td>\n",
       "    </tr>\n",
       "  </tbody>\n",
       "</table>\n",
       "</div>"
      ],
      "text/plain": [
       "  COLUMNS=DATE  CLOSE  HIGH     LOW    OPEN  VOLUME\n",
       "0  a1428586200   6.08  6.08  6.0800  6.0800    2500\n",
       "1            2   6.15  6.15  6.1156  6.1156     970\n",
       "2            3   6.18  6.19  6.1700  6.1700     300\n",
       "3            4   6.10  6.10  6.1000  6.1000     100\n",
       "4            5   6.07  6.07  6.0700  6.0700     100"
      ]
     },
     "execution_count": 575,
     "metadata": {},
     "output_type": "execute_result"
    }
   ],
   "source": [
    "print stock_df.shape\n",
    "stock_df.head()"
   ]
  },
  {
   "cell_type": "code",
   "execution_count": 576,
   "metadata": {
    "collapsed": false
   },
   "outputs": [],
   "source": [
    "stock_df.rename(columns={'COLUMNS=DATE':'TIMEINDEX'}, inplace=True)"
   ]
  },
  {
   "cell_type": "code",
   "execution_count": 577,
   "metadata": {
    "collapsed": false
   },
   "outputs": [],
   "source": [
    "stock_df.replace(to_replace={'TIMEINDEX':{'a':''}}, regex=True, inplace=True)"
   ]
  },
  {
   "cell_type": "code",
   "execution_count": 578,
   "metadata": {
    "collapsed": false
   },
   "outputs": [
    {
     "data": {
      "text/html": [
       "<div style=\"max-height:1000px;max-width:1500px;overflow:auto;\">\n",
       "<table border=\"1\" class=\"dataframe\">\n",
       "  <thead>\n",
       "    <tr style=\"text-align: right;\">\n",
       "      <th></th>\n",
       "      <th>TIMEINDEX</th>\n",
       "      <th>CLOSE</th>\n",
       "      <th>HIGH</th>\n",
       "      <th>LOW</th>\n",
       "      <th>OPEN</th>\n",
       "      <th>VOLUME</th>\n",
       "    </tr>\n",
       "  </thead>\n",
       "  <tbody>\n",
       "    <tr>\n",
       "      <th>0</th>\n",
       "      <td>1428586200</td>\n",
       "      <td>6.08</td>\n",
       "      <td>6.08</td>\n",
       "      <td>6.0800</td>\n",
       "      <td>6.0800</td>\n",
       "      <td>2500</td>\n",
       "    </tr>\n",
       "    <tr>\n",
       "      <th>1</th>\n",
       "      <td>2</td>\n",
       "      <td>6.15</td>\n",
       "      <td>6.15</td>\n",
       "      <td>6.1156</td>\n",
       "      <td>6.1156</td>\n",
       "      <td>970</td>\n",
       "    </tr>\n",
       "    <tr>\n",
       "      <th>2</th>\n",
       "      <td>3</td>\n",
       "      <td>6.18</td>\n",
       "      <td>6.19</td>\n",
       "      <td>6.1700</td>\n",
       "      <td>6.1700</td>\n",
       "      <td>300</td>\n",
       "    </tr>\n",
       "    <tr>\n",
       "      <th>3</th>\n",
       "      <td>4</td>\n",
       "      <td>6.10</td>\n",
       "      <td>6.10</td>\n",
       "      <td>6.1000</td>\n",
       "      <td>6.1000</td>\n",
       "      <td>100</td>\n",
       "    </tr>\n",
       "    <tr>\n",
       "      <th>4</th>\n",
       "      <td>5</td>\n",
       "      <td>6.07</td>\n",
       "      <td>6.07</td>\n",
       "      <td>6.0700</td>\n",
       "      <td>6.0700</td>\n",
       "      <td>100</td>\n",
       "    </tr>\n",
       "  </tbody>\n",
       "</table>\n",
       "</div>"
      ],
      "text/plain": [
       "    TIMEINDEX  CLOSE  HIGH     LOW    OPEN  VOLUME\n",
       "0  1428586200   6.08  6.08  6.0800  6.0800    2500\n",
       "1           2   6.15  6.15  6.1156  6.1156     970\n",
       "2           3   6.18  6.19  6.1700  6.1700     300\n",
       "3           4   6.10  6.10  6.1000  6.1000     100\n",
       "4           5   6.07  6.07  6.0700  6.0700     100"
      ]
     },
     "execution_count": 578,
     "metadata": {},
     "output_type": "execute_result"
    }
   ],
   "source": [
    "stock_df.head()"
   ]
  },
  {
   "cell_type": "code",
   "execution_count": 579,
   "metadata": {
    "collapsed": false
   },
   "outputs": [],
   "source": [
    "time_indices = stock_df['TIMEINDEX'].values"
   ]
  },
  {
   "cell_type": "code",
   "execution_count": 580,
   "metadata": {
    "collapsed": false
   },
   "outputs": [],
   "source": [
    "time_indices = [int(x) for x in time_indices]"
   ]
  },
  {
   "cell_type": "code",
   "execution_count": 581,
   "metadata": {
    "collapsed": false
   },
   "outputs": [
    {
     "name": "stdout",
     "output_type": "stream",
     "text": [
      "[1428586200, 1428586800, 1428587100, 1428587400, 1428587700]\n",
      "[1434656100, 1434656400, 1434656700, 1434657000, 1434657300]\n"
     ]
    }
   ],
   "source": [
    "last_timestamp = time_indices[0]\n",
    "for i in range(len(time_indices)):\n",
    "    if time_indices[i] < last_timestamp:\n",
    "        time_indices[i] = last_timestamp + (time_indices[i] * 300)\n",
    "    else:\n",
    "        last_timestamp = time_indices[i]\n",
    "        \n",
    "print time_indices[0:5]\n",
    "print time_indices[-6:-1]"
   ]
  },
  {
   "cell_type": "code",
   "execution_count": 582,
   "metadata": {
    "collapsed": false
   },
   "outputs": [
    {
     "name": "stdout",
     "output_type": "stream",
     "text": [
      "['2015-04-09 09:30:00', '2015-04-09 09:40:00', '2015-04-09 09:45:00', '2015-04-09 09:50:00', '2015-04-09 09:55:00']\n",
      "['2015-06-18 15:35:00', '2015-06-18 15:40:00', '2015-06-18 15:45:00', '2015-06-18 15:50:00', '2015-06-18 15:55:00']\n"
     ]
    }
   ],
   "source": [
    "time_indices = [datetime.datetime.fromtimestamp(x).strftime('%Y-%m-%d %H:%M:%S') for x in time_indices]\n",
    "print time_indices[0:5]\n",
    "print time_indices[-6:-1]"
   ]
  },
  {
   "cell_type": "code",
   "execution_count": 583,
   "metadata": {
    "collapsed": false
   },
   "outputs": [],
   "source": [
    "time_indices = [float(x[-8:-3].replace(':','.')) for x in time_indices]"
   ]
  },
  {
   "cell_type": "code",
   "execution_count": 584,
   "metadata": {
    "collapsed": true
   },
   "outputs": [],
   "source": [
    "stock_df['TIMEINDEX'] = time_indices"
   ]
  },
  {
   "cell_type": "code",
   "execution_count": 585,
   "metadata": {
    "collapsed": false
   },
   "outputs": [],
   "source": [
    "stock_df['MEDIAN_PRICE'] = stock_df[['CLOSE', 'HIGH', 'LOW', 'OPEN']].median(axis=1)"
   ]
  },
  {
   "cell_type": "code",
   "execution_count": 586,
   "metadata": {
    "collapsed": false
   },
   "outputs": [
    {
     "data": {
      "text/html": [
       "<div style=\"max-height:1000px;max-width:1500px;overflow:auto;\">\n",
       "<table border=\"1\" class=\"dataframe\">\n",
       "  <thead>\n",
       "    <tr style=\"text-align: right;\">\n",
       "      <th></th>\n",
       "      <th>TIMEINDEX</th>\n",
       "      <th>CLOSE</th>\n",
       "      <th>HIGH</th>\n",
       "      <th>LOW</th>\n",
       "      <th>OPEN</th>\n",
       "      <th>VOLUME</th>\n",
       "      <th>MEDIAN_PRICE</th>\n",
       "    </tr>\n",
       "  </thead>\n",
       "  <tbody>\n",
       "    <tr>\n",
       "      <th>count</th>\n",
       "      <td>2923.000000</td>\n",
       "      <td>2923.000000</td>\n",
       "      <td>2923.000000</td>\n",
       "      <td>2923.000000</td>\n",
       "      <td>2923.000000</td>\n",
       "      <td>2923.000000</td>\n",
       "      <td>2923.000000</td>\n",
       "    </tr>\n",
       "    <tr>\n",
       "      <th>mean</th>\n",
       "      <td>12.603797</td>\n",
       "      <td>7.134925</td>\n",
       "      <td>7.151178</td>\n",
       "      <td>7.117745</td>\n",
       "      <td>7.134382</td>\n",
       "      <td>3202.341772</td>\n",
       "      <td>7.134653</td>\n",
       "    </tr>\n",
       "    <tr>\n",
       "      <th>std</th>\n",
       "      <td>1.966688</td>\n",
       "      <td>1.204618</td>\n",
       "      <td>1.213048</td>\n",
       "      <td>1.194666</td>\n",
       "      <td>1.204273</td>\n",
       "      <td>6251.318773</td>\n",
       "      <td>1.204287</td>\n",
       "    </tr>\n",
       "    <tr>\n",
       "      <th>min</th>\n",
       "      <td>9.300000</td>\n",
       "      <td>5.881000</td>\n",
       "      <td>5.900000</td>\n",
       "      <td>5.881000</td>\n",
       "      <td>5.900000</td>\n",
       "      <td>100.000000</td>\n",
       "      <td>5.900000</td>\n",
       "    </tr>\n",
       "    <tr>\n",
       "      <th>25%</th>\n",
       "      <td>11.050000</td>\n",
       "      <td>6.200000</td>\n",
       "      <td>6.210000</td>\n",
       "      <td>6.196800</td>\n",
       "      <td>6.200000</td>\n",
       "      <td>300.000000</td>\n",
       "      <td>6.200000</td>\n",
       "    </tr>\n",
       "    <tr>\n",
       "      <th>50%</th>\n",
       "      <td>12.500000</td>\n",
       "      <td>6.620000</td>\n",
       "      <td>6.640000</td>\n",
       "      <td>6.600000</td>\n",
       "      <td>6.620000</td>\n",
       "      <td>1083.000000</td>\n",
       "      <td>6.620000</td>\n",
       "    </tr>\n",
       "    <tr>\n",
       "      <th>75%</th>\n",
       "      <td>14.350000</td>\n",
       "      <td>7.750000</td>\n",
       "      <td>7.769900</td>\n",
       "      <td>7.740000</td>\n",
       "      <td>7.750000</td>\n",
       "      <td>3349.500000</td>\n",
       "      <td>7.751500</td>\n",
       "    </tr>\n",
       "    <tr>\n",
       "      <th>max</th>\n",
       "      <td>16.000000</td>\n",
       "      <td>10.430000</td>\n",
       "      <td>10.450000</td>\n",
       "      <td>10.415000</td>\n",
       "      <td>10.430000</td>\n",
       "      <td>107980.000000</td>\n",
       "      <td>10.425000</td>\n",
       "    </tr>\n",
       "  </tbody>\n",
       "</table>\n",
       "</div>"
      ],
      "text/plain": [
       "         TIMEINDEX        CLOSE         HIGH          LOW         OPEN  \\\n",
       "count  2923.000000  2923.000000  2923.000000  2923.000000  2923.000000   \n",
       "mean     12.603797     7.134925     7.151178     7.117745     7.134382   \n",
       "std       1.966688     1.204618     1.213048     1.194666     1.204273   \n",
       "min       9.300000     5.881000     5.900000     5.881000     5.900000   \n",
       "25%      11.050000     6.200000     6.210000     6.196800     6.200000   \n",
       "50%      12.500000     6.620000     6.640000     6.600000     6.620000   \n",
       "75%      14.350000     7.750000     7.769900     7.740000     7.750000   \n",
       "max      16.000000    10.430000    10.450000    10.415000    10.430000   \n",
       "\n",
       "              VOLUME  MEDIAN_PRICE  \n",
       "count    2923.000000   2923.000000  \n",
       "mean     3202.341772      7.134653  \n",
       "std      6251.318773      1.204287  \n",
       "min       100.000000      5.900000  \n",
       "25%       300.000000      6.200000  \n",
       "50%      1083.000000      6.620000  \n",
       "75%      3349.500000      7.751500  \n",
       "max    107980.000000     10.425000  "
      ]
     },
     "execution_count": 586,
     "metadata": {},
     "output_type": "execute_result"
    }
   ],
   "source": [
    "stock_df.describe()"
   ]
  },
  {
   "cell_type": "code",
   "execution_count": 587,
   "metadata": {
    "collapsed": false
   },
   "outputs": [
    {
     "data": {
      "image/png": "[encoded data removed]",
      "text/plain": [
       "<matplotlib.figure.Figure at 0x116400d50>"
      ]
     },
     "metadata": {},
     "output_type": "display_data"
    }
   ],
   "source": [
    "stock_df['CLOSE'].plot()\n",
    "plt.show()"
   ]
  },
  {
   "cell_type": "markdown",
   "metadata": {},
   "source": [
    "---"
   ]
  },
  {
   "cell_type": "code",
   "execution_count": 588,
   "metadata": {
    "collapsed": false
   },
   "outputs": [
    {
     "data": {
      "text/html": [
       "<div style=\"max-height:1000px;max-width:1500px;overflow:auto;\">\n",
       "<table border=\"1\" class=\"dataframe\">\n",
       "  <thead>\n",
       "    <tr style=\"text-align: right;\">\n",
       "      <th></th>\n",
       "      <th>TIMEINDEX</th>\n",
       "      <th>CLOSE</th>\n",
       "      <th>HIGH</th>\n",
       "      <th>LOW</th>\n",
       "      <th>OPEN</th>\n",
       "      <th>VOLUME</th>\n",
       "      <th>MEDIAN_PRICE</th>\n",
       "    </tr>\n",
       "  </thead>\n",
       "  <tbody>\n",
       "    <tr>\n",
       "      <th>0</th>\n",
       "      <td>9.30</td>\n",
       "      <td>6.08</td>\n",
       "      <td>6.08</td>\n",
       "      <td>6.0800</td>\n",
       "      <td>6.0800</td>\n",
       "      <td>2500</td>\n",
       "      <td>6.0800</td>\n",
       "    </tr>\n",
       "    <tr>\n",
       "      <th>1</th>\n",
       "      <td>9.40</td>\n",
       "      <td>6.15</td>\n",
       "      <td>6.15</td>\n",
       "      <td>6.1156</td>\n",
       "      <td>6.1156</td>\n",
       "      <td>970</td>\n",
       "      <td>6.1328</td>\n",
       "    </tr>\n",
       "    <tr>\n",
       "      <th>2</th>\n",
       "      <td>9.45</td>\n",
       "      <td>6.18</td>\n",
       "      <td>6.19</td>\n",
       "      <td>6.1700</td>\n",
       "      <td>6.1700</td>\n",
       "      <td>300</td>\n",
       "      <td>6.1750</td>\n",
       "    </tr>\n",
       "    <tr>\n",
       "      <th>3</th>\n",
       "      <td>9.50</td>\n",
       "      <td>6.10</td>\n",
       "      <td>6.10</td>\n",
       "      <td>6.1000</td>\n",
       "      <td>6.1000</td>\n",
       "      <td>100</td>\n",
       "      <td>6.1000</td>\n",
       "    </tr>\n",
       "    <tr>\n",
       "      <th>4</th>\n",
       "      <td>9.55</td>\n",
       "      <td>6.07</td>\n",
       "      <td>6.07</td>\n",
       "      <td>6.0700</td>\n",
       "      <td>6.0700</td>\n",
       "      <td>100</td>\n",
       "      <td>6.0700</td>\n",
       "    </tr>\n",
       "  </tbody>\n",
       "</table>\n",
       "</div>"
      ],
      "text/plain": [
       "   TIMEINDEX  CLOSE  HIGH     LOW    OPEN  VOLUME  MEDIAN_PRICE\n",
       "0       9.30   6.08  6.08  6.0800  6.0800    2500        6.0800\n",
       "1       9.40   6.15  6.15  6.1156  6.1156     970        6.1328\n",
       "2       9.45   6.18  6.19  6.1700  6.1700     300        6.1750\n",
       "3       9.50   6.10  6.10  6.1000  6.1000     100        6.1000\n",
       "4       9.55   6.07  6.07  6.0700  6.0700     100        6.0700"
      ]
     },
     "execution_count": 588,
     "metadata": {},
     "output_type": "execute_result"
    }
   ],
   "source": [
    "stock_df.head()"
   ]
  },
  {
   "cell_type": "code",
   "execution_count": 589,
   "metadata": {
    "collapsed": false
   },
   "outputs": [],
   "source": [
    "for col in stock_df.columns:\n",
    "    stock_df[\"PREV\" + col] = np.insert(stock_df[col].values[:-1], 0, stock_df[col][0])"
   ]
  },
  {
   "cell_type": "code",
   "execution_count": 590,
   "metadata": {
    "collapsed": false
   },
   "outputs": [
    {
     "name": "stdout",
     "output_type": "stream",
     "text": [
      "(2923, 14)\n"
     ]
    },
    {
     "data": {
      "text/html": [
       "<div style=\"max-height:1000px;max-width:1500px;overflow:auto;\">\n",
       "<table border=\"1\" class=\"dataframe\">\n",
       "  <thead>\n",
       "    <tr style=\"text-align: right;\">\n",
       "      <th></th>\n",
       "      <th>TIMEINDEX</th>\n",
       "      <th>CLOSE</th>\n",
       "      <th>HIGH</th>\n",
       "      <th>LOW</th>\n",
       "      <th>OPEN</th>\n",
       "      <th>VOLUME</th>\n",
       "      <th>MEDIAN_PRICE</th>\n",
       "      <th>PREVTIMEINDEX</th>\n",
       "      <th>PREVCLOSE</th>\n",
       "      <th>PREVHIGH</th>\n",
       "      <th>PREVLOW</th>\n",
       "      <th>PREVOPEN</th>\n",
       "      <th>PREVVOLUME</th>\n",
       "      <th>PREVMEDIAN_PRICE</th>\n",
       "    </tr>\n",
       "  </thead>\n",
       "  <tbody>\n",
       "    <tr>\n",
       "      <th>0</th>\n",
       "      <td>9.30</td>\n",
       "      <td>6.08</td>\n",
       "      <td>6.08</td>\n",
       "      <td>6.0800</td>\n",
       "      <td>6.0800</td>\n",
       "      <td>2500</td>\n",
       "      <td>6.0800</td>\n",
       "      <td>9.30</td>\n",
       "      <td>6.08</td>\n",
       "      <td>6.08</td>\n",
       "      <td>6.0800</td>\n",
       "      <td>6.0800</td>\n",
       "      <td>2500</td>\n",
       "      <td>6.0800</td>\n",
       "    </tr>\n",
       "    <tr>\n",
       "      <th>1</th>\n",
       "      <td>9.40</td>\n",
       "      <td>6.15</td>\n",
       "      <td>6.15</td>\n",
       "      <td>6.1156</td>\n",
       "      <td>6.1156</td>\n",
       "      <td>970</td>\n",
       "      <td>6.1328</td>\n",
       "      <td>9.30</td>\n",
       "      <td>6.08</td>\n",
       "      <td>6.08</td>\n",
       "      <td>6.0800</td>\n",
       "      <td>6.0800</td>\n",
       "      <td>2500</td>\n",
       "      <td>6.0800</td>\n",
       "    </tr>\n",
       "    <tr>\n",
       "      <th>2</th>\n",
       "      <td>9.45</td>\n",
       "      <td>6.18</td>\n",
       "      <td>6.19</td>\n",
       "      <td>6.1700</td>\n",
       "      <td>6.1700</td>\n",
       "      <td>300</td>\n",
       "      <td>6.1750</td>\n",
       "      <td>9.40</td>\n",
       "      <td>6.15</td>\n",
       "      <td>6.15</td>\n",
       "      <td>6.1156</td>\n",
       "      <td>6.1156</td>\n",
       "      <td>970</td>\n",
       "      <td>6.1328</td>\n",
       "    </tr>\n",
       "    <tr>\n",
       "      <th>3</th>\n",
       "      <td>9.50</td>\n",
       "      <td>6.10</td>\n",
       "      <td>6.10</td>\n",
       "      <td>6.1000</td>\n",
       "      <td>6.1000</td>\n",
       "      <td>100</td>\n",
       "      <td>6.1000</td>\n",
       "      <td>9.45</td>\n",
       "      <td>6.18</td>\n",
       "      <td>6.19</td>\n",
       "      <td>6.1700</td>\n",
       "      <td>6.1700</td>\n",
       "      <td>300</td>\n",
       "      <td>6.1750</td>\n",
       "    </tr>\n",
       "    <tr>\n",
       "      <th>4</th>\n",
       "      <td>9.55</td>\n",
       "      <td>6.07</td>\n",
       "      <td>6.07</td>\n",
       "      <td>6.0700</td>\n",
       "      <td>6.0700</td>\n",
       "      <td>100</td>\n",
       "      <td>6.0700</td>\n",
       "      <td>9.50</td>\n",
       "      <td>6.10</td>\n",
       "      <td>6.10</td>\n",
       "      <td>6.1000</td>\n",
       "      <td>6.1000</td>\n",
       "      <td>100</td>\n",
       "      <td>6.1000</td>\n",
       "    </tr>\n",
       "  </tbody>\n",
       "</table>\n",
       "</div>"
      ],
      "text/plain": [
       "   TIMEINDEX  CLOSE  HIGH     LOW    OPEN  VOLUME  MEDIAN_PRICE  \\\n",
       "0       9.30   6.08  6.08  6.0800  6.0800    2500        6.0800   \n",
       "1       9.40   6.15  6.15  6.1156  6.1156     970        6.1328   \n",
       "2       9.45   6.18  6.19  6.1700  6.1700     300        6.1750   \n",
       "3       9.50   6.10  6.10  6.1000  6.1000     100        6.1000   \n",
       "4       9.55   6.07  6.07  6.0700  6.0700     100        6.0700   \n",
       "\n",
       "   PREVTIMEINDEX  PREVCLOSE  PREVHIGH  PREVLOW  PREVOPEN  PREVVOLUME  \\\n",
       "0           9.30       6.08      6.08   6.0800    6.0800        2500   \n",
       "1           9.30       6.08      6.08   6.0800    6.0800        2500   \n",
       "2           9.40       6.15      6.15   6.1156    6.1156         970   \n",
       "3           9.45       6.18      6.19   6.1700    6.1700         300   \n",
       "4           9.50       6.10      6.10   6.1000    6.1000         100   \n",
       "\n",
       "   PREVMEDIAN_PRICE  \n",
       "0            6.0800  \n",
       "1            6.0800  \n",
       "2            6.1328  \n",
       "3            6.1750  \n",
       "4            6.1000  "
      ]
     },
     "execution_count": 590,
     "metadata": {},
     "output_type": "execute_result"
    }
   ],
   "source": [
    "print stock_df.shape\n",
    "stock_df.head()"
   ]
  },
  {
   "cell_type": "code",
   "execution_count": 591,
   "metadata": {
    "collapsed": false
   },
   "outputs": [
    {
     "data": {
      "text/html": [
       "<div style=\"max-height:1000px;max-width:1500px;overflow:auto;\">\n",
       "<table border=\"1\" class=\"dataframe\">\n",
       "  <thead>\n",
       "    <tr style=\"text-align: right;\">\n",
       "      <th></th>\n",
       "      <th>TIMEINDEX</th>\n",
       "      <th>CLOSE</th>\n",
       "      <th>HIGH</th>\n",
       "      <th>LOW</th>\n",
       "      <th>OPEN</th>\n",
       "      <th>VOLUME</th>\n",
       "      <th>MEDIAN_PRICE</th>\n",
       "      <th>PREVTIMEINDEX</th>\n",
       "      <th>PREVCLOSE</th>\n",
       "      <th>PREVHIGH</th>\n",
       "      <th>PREVLOW</th>\n",
       "      <th>PREVOPEN</th>\n",
       "      <th>PREVVOLUME</th>\n",
       "      <th>PREVMEDIAN_PRICE</th>\n",
       "    </tr>\n",
       "  </thead>\n",
       "  <tbody>\n",
       "    <tr>\n",
       "      <th>2918</th>\n",
       "      <td>15.40</td>\n",
       "      <td>10.26</td>\n",
       "      <td>10.26</td>\n",
       "      <td>10.2400</td>\n",
       "      <td>10.24</td>\n",
       "      <td>700</td>\n",
       "      <td>10.250</td>\n",
       "      <td>15.35</td>\n",
       "      <td>10.24</td>\n",
       "      <td>10.24</td>\n",
       "      <td>10.2400</td>\n",
       "      <td>10.24</td>\n",
       "      <td>100</td>\n",
       "      <td>10.240</td>\n",
       "    </tr>\n",
       "    <tr>\n",
       "      <th>2919</th>\n",
       "      <td>15.45</td>\n",
       "      <td>10.28</td>\n",
       "      <td>10.29</td>\n",
       "      <td>10.2700</td>\n",
       "      <td>10.29</td>\n",
       "      <td>2200</td>\n",
       "      <td>10.285</td>\n",
       "      <td>15.40</td>\n",
       "      <td>10.26</td>\n",
       "      <td>10.26</td>\n",
       "      <td>10.2400</td>\n",
       "      <td>10.24</td>\n",
       "      <td>700</td>\n",
       "      <td>10.250</td>\n",
       "    </tr>\n",
       "    <tr>\n",
       "      <th>2920</th>\n",
       "      <td>15.50</td>\n",
       "      <td>10.28</td>\n",
       "      <td>10.28</td>\n",
       "      <td>10.2700</td>\n",
       "      <td>10.28</td>\n",
       "      <td>2876</td>\n",
       "      <td>10.280</td>\n",
       "      <td>15.45</td>\n",
       "      <td>10.28</td>\n",
       "      <td>10.29</td>\n",
       "      <td>10.2700</td>\n",
       "      <td>10.29</td>\n",
       "      <td>2200</td>\n",
       "      <td>10.285</td>\n",
       "    </tr>\n",
       "    <tr>\n",
       "      <th>2921</th>\n",
       "      <td>15.55</td>\n",
       "      <td>10.26</td>\n",
       "      <td>10.28</td>\n",
       "      <td>10.2401</td>\n",
       "      <td>10.28</td>\n",
       "      <td>1488</td>\n",
       "      <td>10.270</td>\n",
       "      <td>15.50</td>\n",
       "      <td>10.28</td>\n",
       "      <td>10.28</td>\n",
       "      <td>10.2700</td>\n",
       "      <td>10.28</td>\n",
       "      <td>2876</td>\n",
       "      <td>10.280</td>\n",
       "    </tr>\n",
       "    <tr>\n",
       "      <th>2922</th>\n",
       "      <td>16.00</td>\n",
       "      <td>10.28</td>\n",
       "      <td>10.29</td>\n",
       "      <td>10.2300</td>\n",
       "      <td>10.29</td>\n",
       "      <td>14318</td>\n",
       "      <td>10.285</td>\n",
       "      <td>15.55</td>\n",
       "      <td>10.26</td>\n",
       "      <td>10.28</td>\n",
       "      <td>10.2401</td>\n",
       "      <td>10.28</td>\n",
       "      <td>1488</td>\n",
       "      <td>10.270</td>\n",
       "    </tr>\n",
       "  </tbody>\n",
       "</table>\n",
       "</div>"
      ],
      "text/plain": [
       "      TIMEINDEX  CLOSE   HIGH      LOW   OPEN  VOLUME  MEDIAN_PRICE  \\\n",
       "2918      15.40  10.26  10.26  10.2400  10.24     700        10.250   \n",
       "2919      15.45  10.28  10.29  10.2700  10.29    2200        10.285   \n",
       "2920      15.50  10.28  10.28  10.2700  10.28    2876        10.280   \n",
       "2921      15.55  10.26  10.28  10.2401  10.28    1488        10.270   \n",
       "2922      16.00  10.28  10.29  10.2300  10.29   14318        10.285   \n",
       "\n",
       "      PREVTIMEINDEX  PREVCLOSE  PREVHIGH  PREVLOW  PREVOPEN  PREVVOLUME  \\\n",
       "2918          15.35      10.24     10.24  10.2400     10.24         100   \n",
       "2919          15.40      10.26     10.26  10.2400     10.24         700   \n",
       "2920          15.45      10.28     10.29  10.2700     10.29        2200   \n",
       "2921          15.50      10.28     10.28  10.2700     10.28        2876   \n",
       "2922          15.55      10.26     10.28  10.2401     10.28        1488   \n",
       "\n",
       "      PREVMEDIAN_PRICE  \n",
       "2918            10.240  \n",
       "2919            10.250  \n",
       "2920            10.285  \n",
       "2921            10.280  \n",
       "2922            10.270  "
      ]
     },
     "execution_count": 591,
     "metadata": {},
     "output_type": "execute_result"
    }
   ],
   "source": [
    "stock_df.tail()"
   ]
  },
  {
   "cell_type": "code",
   "execution_count": 592,
   "metadata": {
    "collapsed": false
   },
   "outputs": [
    {
     "name": "stdout",
     "output_type": "stream",
     "text": [
      "['TIMEINDEX', 'CLOSE', 'HIGH', 'LOW', 'OPEN', 'VOLUME', 'MEDIAN_PRICE', 'PREVTIMEINDEX', 'PREVCLOSE', 'PREVHIGH', 'PREVLOW', 'PREVOPEN', 'PREVVOLUME', 'PREVMEDIAN_PRICE']\n"
     ]
    }
   ],
   "source": [
    "print [col for col in stock_df.columns]"
   ]
  },
  {
   "cell_type": "code",
   "execution_count": 593,
   "metadata": {
    "collapsed": true
   },
   "outputs": [],
   "source": [
    "stock_df[\"FUTURE(2HRS)MED_PRICE\"] = np.append(stock_df['MEDIAN_PRICE'].values[24:], np.zeros(24))"
   ]
  },
  {
   "cell_type": "code",
   "execution_count": 594,
   "metadata": {
    "collapsed": false
   },
   "outputs": [
    {
     "name": "stdout",
     "output_type": "stream",
     "text": [
      "(2923, 15)\n"
     ]
    },
    {
     "data": {
      "text/html": [
       "<div style=\"max-height:1000px;max-width:1500px;overflow:auto;\">\n",
       "<table border=\"1\" class=\"dataframe\">\n",
       "  <thead>\n",
       "    <tr style=\"text-align: right;\">\n",
       "      <th></th>\n",
       "      <th>TIMEINDEX</th>\n",
       "      <th>CLOSE</th>\n",
       "      <th>HIGH</th>\n",
       "      <th>LOW</th>\n",
       "      <th>OPEN</th>\n",
       "      <th>VOLUME</th>\n",
       "      <th>MEDIAN_PRICE</th>\n",
       "      <th>PREVTIMEINDEX</th>\n",
       "      <th>PREVCLOSE</th>\n",
       "      <th>PREVHIGH</th>\n",
       "      <th>PREVLOW</th>\n",
       "      <th>PREVOPEN</th>\n",
       "      <th>PREVVOLUME</th>\n",
       "      <th>PREVMEDIAN_PRICE</th>\n",
       "      <th>FUTURE(2HRS)MED_PRICE</th>\n",
       "    </tr>\n",
       "  </thead>\n",
       "  <tbody>\n",
       "    <tr>\n",
       "      <th>0</th>\n",
       "      <td>9.30</td>\n",
       "      <td>6.0800</td>\n",
       "      <td>6.0800</td>\n",
       "      <td>6.0800</td>\n",
       "      <td>6.0800</td>\n",
       "      <td>2500</td>\n",
       "      <td>6.0800</td>\n",
       "      <td>9.30</td>\n",
       "      <td>6.0800</td>\n",
       "      <td>6.0800</td>\n",
       "      <td>6.0800</td>\n",
       "      <td>6.0800</td>\n",
       "      <td>2500</td>\n",
       "      <td>6.0800</td>\n",
       "      <td>6.1300</td>\n",
       "    </tr>\n",
       "    <tr>\n",
       "      <th>1</th>\n",
       "      <td>9.40</td>\n",
       "      <td>6.1500</td>\n",
       "      <td>6.1500</td>\n",
       "      <td>6.1156</td>\n",
       "      <td>6.1156</td>\n",
       "      <td>970</td>\n",
       "      <td>6.1328</td>\n",
       "      <td>9.30</td>\n",
       "      <td>6.0800</td>\n",
       "      <td>6.0800</td>\n",
       "      <td>6.0800</td>\n",
       "      <td>6.0800</td>\n",
       "      <td>2500</td>\n",
       "      <td>6.0800</td>\n",
       "      <td>6.1200</td>\n",
       "    </tr>\n",
       "    <tr>\n",
       "      <th>2</th>\n",
       "      <td>9.45</td>\n",
       "      <td>6.1800</td>\n",
       "      <td>6.1900</td>\n",
       "      <td>6.1700</td>\n",
       "      <td>6.1700</td>\n",
       "      <td>300</td>\n",
       "      <td>6.1750</td>\n",
       "      <td>9.40</td>\n",
       "      <td>6.1500</td>\n",
       "      <td>6.1500</td>\n",
       "      <td>6.1156</td>\n",
       "      <td>6.1156</td>\n",
       "      <td>970</td>\n",
       "      <td>6.1328</td>\n",
       "      <td>6.1300</td>\n",
       "    </tr>\n",
       "    <tr>\n",
       "      <th>3</th>\n",
       "      <td>9.50</td>\n",
       "      <td>6.1000</td>\n",
       "      <td>6.1000</td>\n",
       "      <td>6.1000</td>\n",
       "      <td>6.1000</td>\n",
       "      <td>100</td>\n",
       "      <td>6.1000</td>\n",
       "      <td>9.45</td>\n",
       "      <td>6.1800</td>\n",
       "      <td>6.1900</td>\n",
       "      <td>6.1700</td>\n",
       "      <td>6.1700</td>\n",
       "      <td>300</td>\n",
       "      <td>6.1750</td>\n",
       "      <td>6.1250</td>\n",
       "    </tr>\n",
       "    <tr>\n",
       "      <th>4</th>\n",
       "      <td>9.55</td>\n",
       "      <td>6.0700</td>\n",
       "      <td>6.0700</td>\n",
       "      <td>6.0700</td>\n",
       "      <td>6.0700</td>\n",
       "      <td>100</td>\n",
       "      <td>6.0700</td>\n",
       "      <td>9.50</td>\n",
       "      <td>6.1000</td>\n",
       "      <td>6.1000</td>\n",
       "      <td>6.1000</td>\n",
       "      <td>6.1000</td>\n",
       "      <td>100</td>\n",
       "      <td>6.1000</td>\n",
       "      <td>6.1100</td>\n",
       "    </tr>\n",
       "    <tr>\n",
       "      <th>5</th>\n",
       "      <td>10.05</td>\n",
       "      <td>6.0700</td>\n",
       "      <td>6.0700</td>\n",
       "      <td>6.0700</td>\n",
       "      <td>6.0700</td>\n",
       "      <td>100</td>\n",
       "      <td>6.0700</td>\n",
       "      <td>9.55</td>\n",
       "      <td>6.0700</td>\n",
       "      <td>6.0700</td>\n",
       "      <td>6.0700</td>\n",
       "      <td>6.0700</td>\n",
       "      <td>100</td>\n",
       "      <td>6.0700</td>\n",
       "      <td>6.1150</td>\n",
       "    </tr>\n",
       "    <tr>\n",
       "      <th>6</th>\n",
       "      <td>10.10</td>\n",
       "      <td>6.0700</td>\n",
       "      <td>6.0700</td>\n",
       "      <td>6.0700</td>\n",
       "      <td>6.0700</td>\n",
       "      <td>100</td>\n",
       "      <td>6.0700</td>\n",
       "      <td>10.05</td>\n",
       "      <td>6.0700</td>\n",
       "      <td>6.0700</td>\n",
       "      <td>6.0700</td>\n",
       "      <td>6.0700</td>\n",
       "      <td>100</td>\n",
       "      <td>6.0700</td>\n",
       "      <td>6.1200</td>\n",
       "    </tr>\n",
       "    <tr>\n",
       "      <th>7</th>\n",
       "      <td>10.25</td>\n",
       "      <td>6.0816</td>\n",
       "      <td>6.1400</td>\n",
       "      <td>6.0700</td>\n",
       "      <td>6.0800</td>\n",
       "      <td>6010</td>\n",
       "      <td>6.0808</td>\n",
       "      <td>10.10</td>\n",
       "      <td>6.0700</td>\n",
       "      <td>6.0700</td>\n",
       "      <td>6.0700</td>\n",
       "      <td>6.0700</td>\n",
       "      <td>100</td>\n",
       "      <td>6.0700</td>\n",
       "      <td>6.1000</td>\n",
       "    </tr>\n",
       "    <tr>\n",
       "      <th>8</th>\n",
       "      <td>10.35</td>\n",
       "      <td>6.0800</td>\n",
       "      <td>6.0800</td>\n",
       "      <td>6.0800</td>\n",
       "      <td>6.0800</td>\n",
       "      <td>200</td>\n",
       "      <td>6.0800</td>\n",
       "      <td>10.25</td>\n",
       "      <td>6.0816</td>\n",
       "      <td>6.1400</td>\n",
       "      <td>6.0700</td>\n",
       "      <td>6.0800</td>\n",
       "      <td>6010</td>\n",
       "      <td>6.0808</td>\n",
       "      <td>6.0900</td>\n",
       "    </tr>\n",
       "    <tr>\n",
       "      <th>9</th>\n",
       "      <td>10.45</td>\n",
       "      <td>6.0700</td>\n",
       "      <td>6.0700</td>\n",
       "      <td>6.0700</td>\n",
       "      <td>6.0700</td>\n",
       "      <td>400</td>\n",
       "      <td>6.0700</td>\n",
       "      <td>10.35</td>\n",
       "      <td>6.0800</td>\n",
       "      <td>6.0800</td>\n",
       "      <td>6.0800</td>\n",
       "      <td>6.0800</td>\n",
       "      <td>200</td>\n",
       "      <td>6.0800</td>\n",
       "      <td>6.1300</td>\n",
       "    </tr>\n",
       "    <tr>\n",
       "      <th>10</th>\n",
       "      <td>10.50</td>\n",
       "      <td>6.0700</td>\n",
       "      <td>6.0700</td>\n",
       "      <td>6.0700</td>\n",
       "      <td>6.0700</td>\n",
       "      <td>300</td>\n",
       "      <td>6.0700</td>\n",
       "      <td>10.45</td>\n",
       "      <td>6.0700</td>\n",
       "      <td>6.0700</td>\n",
       "      <td>6.0700</td>\n",
       "      <td>6.0700</td>\n",
       "      <td>400</td>\n",
       "      <td>6.0700</td>\n",
       "      <td>6.1157</td>\n",
       "    </tr>\n",
       "    <tr>\n",
       "      <th>11</th>\n",
       "      <td>10.55</td>\n",
       "      <td>6.1000</td>\n",
       "      <td>6.1000</td>\n",
       "      <td>6.0700</td>\n",
       "      <td>6.0700</td>\n",
       "      <td>1770</td>\n",
       "      <td>6.0850</td>\n",
       "      <td>10.50</td>\n",
       "      <td>6.0700</td>\n",
       "      <td>6.0700</td>\n",
       "      <td>6.0700</td>\n",
       "      <td>6.0700</td>\n",
       "      <td>300</td>\n",
       "      <td>6.0700</td>\n",
       "      <td>6.1295</td>\n",
       "    </tr>\n",
       "    <tr>\n",
       "      <th>12</th>\n",
       "      <td>11.00</td>\n",
       "      <td>6.1250</td>\n",
       "      <td>6.1500</td>\n",
       "      <td>6.1250</td>\n",
       "      <td>6.1300</td>\n",
       "      <td>3000</td>\n",
       "      <td>6.1275</td>\n",
       "      <td>10.55</td>\n",
       "      <td>6.1000</td>\n",
       "      <td>6.1000</td>\n",
       "      <td>6.0700</td>\n",
       "      <td>6.0700</td>\n",
       "      <td>1770</td>\n",
       "      <td>6.0850</td>\n",
       "      <td>6.1200</td>\n",
       "    </tr>\n",
       "    <tr>\n",
       "      <th>13</th>\n",
       "      <td>11.05</td>\n",
       "      <td>6.1400</td>\n",
       "      <td>6.1400</td>\n",
       "      <td>6.1400</td>\n",
       "      <td>6.1400</td>\n",
       "      <td>500</td>\n",
       "      <td>6.1400</td>\n",
       "      <td>11.00</td>\n",
       "      <td>6.1250</td>\n",
       "      <td>6.1500</td>\n",
       "      <td>6.1250</td>\n",
       "      <td>6.1300</td>\n",
       "      <td>3000</td>\n",
       "      <td>6.1275</td>\n",
       "      <td>6.1000</td>\n",
       "    </tr>\n",
       "    <tr>\n",
       "      <th>14</th>\n",
       "      <td>11.10</td>\n",
       "      <td>6.1400</td>\n",
       "      <td>6.1400</td>\n",
       "      <td>6.1400</td>\n",
       "      <td>6.1400</td>\n",
       "      <td>1000</td>\n",
       "      <td>6.1400</td>\n",
       "      <td>11.05</td>\n",
       "      <td>6.1400</td>\n",
       "      <td>6.1400</td>\n",
       "      <td>6.1400</td>\n",
       "      <td>6.1400</td>\n",
       "      <td>500</td>\n",
       "      <td>6.1400</td>\n",
       "      <td>6.1300</td>\n",
       "    </tr>\n",
       "    <tr>\n",
       "      <th>15</th>\n",
       "      <td>11.15</td>\n",
       "      <td>6.1000</td>\n",
       "      <td>6.1000</td>\n",
       "      <td>6.1000</td>\n",
       "      <td>6.1000</td>\n",
       "      <td>100</td>\n",
       "      <td>6.1000</td>\n",
       "      <td>11.10</td>\n",
       "      <td>6.1400</td>\n",
       "      <td>6.1400</td>\n",
       "      <td>6.1400</td>\n",
       "      <td>6.1400</td>\n",
       "      <td>1000</td>\n",
       "      <td>6.1400</td>\n",
       "      <td>6.1100</td>\n",
       "    </tr>\n",
       "    <tr>\n",
       "      <th>16</th>\n",
       "      <td>11.20</td>\n",
       "      <td>6.1000</td>\n",
       "      <td>6.1000</td>\n",
       "      <td>6.1000</td>\n",
       "      <td>6.1000</td>\n",
       "      <td>100</td>\n",
       "      <td>6.1000</td>\n",
       "      <td>11.15</td>\n",
       "      <td>6.1000</td>\n",
       "      <td>6.1000</td>\n",
       "      <td>6.1000</td>\n",
       "      <td>6.1000</td>\n",
       "      <td>100</td>\n",
       "      <td>6.1000</td>\n",
       "      <td>6.1296</td>\n",
       "    </tr>\n",
       "    <tr>\n",
       "      <th>17</th>\n",
       "      <td>11.25</td>\n",
       "      <td>6.0900</td>\n",
       "      <td>6.0900</td>\n",
       "      <td>6.0900</td>\n",
       "      <td>6.0900</td>\n",
       "      <td>100</td>\n",
       "      <td>6.0900</td>\n",
       "      <td>11.20</td>\n",
       "      <td>6.1000</td>\n",
       "      <td>6.1000</td>\n",
       "      <td>6.1000</td>\n",
       "      <td>6.1000</td>\n",
       "      <td>100</td>\n",
       "      <td>6.1000</td>\n",
       "      <td>6.1300</td>\n",
       "    </tr>\n",
       "    <tr>\n",
       "      <th>18</th>\n",
       "      <td>11.30</td>\n",
       "      <td>6.0900</td>\n",
       "      <td>6.0900</td>\n",
       "      <td>6.0900</td>\n",
       "      <td>6.0900</td>\n",
       "      <td>200</td>\n",
       "      <td>6.0900</td>\n",
       "      <td>11.25</td>\n",
       "      <td>6.0900</td>\n",
       "      <td>6.0900</td>\n",
       "      <td>6.0900</td>\n",
       "      <td>6.0900</td>\n",
       "      <td>100</td>\n",
       "      <td>6.0900</td>\n",
       "      <td>6.1200</td>\n",
       "    </tr>\n",
       "    <tr>\n",
       "      <th>19</th>\n",
       "      <td>11.35</td>\n",
       "      <td>6.0900</td>\n",
       "      <td>6.0900</td>\n",
       "      <td>6.0900</td>\n",
       "      <td>6.0900</td>\n",
       "      <td>100</td>\n",
       "      <td>6.0900</td>\n",
       "      <td>11.30</td>\n",
       "      <td>6.0900</td>\n",
       "      <td>6.0900</td>\n",
       "      <td>6.0900</td>\n",
       "      <td>6.0900</td>\n",
       "      <td>200</td>\n",
       "      <td>6.0900</td>\n",
       "      <td>6.1000</td>\n",
       "    </tr>\n",
       "    <tr>\n",
       "      <th>20</th>\n",
       "      <td>11.40</td>\n",
       "      <td>6.0900</td>\n",
       "      <td>6.0900</td>\n",
       "      <td>6.0900</td>\n",
       "      <td>6.0900</td>\n",
       "      <td>400</td>\n",
       "      <td>6.0900</td>\n",
       "      <td>11.35</td>\n",
       "      <td>6.0900</td>\n",
       "      <td>6.0900</td>\n",
       "      <td>6.0900</td>\n",
       "      <td>6.0900</td>\n",
       "      <td>100</td>\n",
       "      <td>6.0900</td>\n",
       "      <td>6.1200</td>\n",
       "    </tr>\n",
       "    <tr>\n",
       "      <th>21</th>\n",
       "      <td>11.55</td>\n",
       "      <td>6.0900</td>\n",
       "      <td>6.0900</td>\n",
       "      <td>6.0900</td>\n",
       "      <td>6.0900</td>\n",
       "      <td>100</td>\n",
       "      <td>6.0900</td>\n",
       "      <td>11.40</td>\n",
       "      <td>6.0900</td>\n",
       "      <td>6.0900</td>\n",
       "      <td>6.0900</td>\n",
       "      <td>6.0900</td>\n",
       "      <td>400</td>\n",
       "      <td>6.0900</td>\n",
       "      <td>6.1150</td>\n",
       "    </tr>\n",
       "    <tr>\n",
       "      <th>22</th>\n",
       "      <td>12.00</td>\n",
       "      <td>6.0900</td>\n",
       "      <td>6.0900</td>\n",
       "      <td>6.0900</td>\n",
       "      <td>6.0900</td>\n",
       "      <td>300</td>\n",
       "      <td>6.0900</td>\n",
       "      <td>11.55</td>\n",
       "      <td>6.0900</td>\n",
       "      <td>6.0900</td>\n",
       "      <td>6.0900</td>\n",
       "      <td>6.0900</td>\n",
       "      <td>100</td>\n",
       "      <td>6.0900</td>\n",
       "      <td>6.1100</td>\n",
       "    </tr>\n",
       "    <tr>\n",
       "      <th>23</th>\n",
       "      <td>12.05</td>\n",
       "      <td>6.1215</td>\n",
       "      <td>6.1215</td>\n",
       "      <td>6.1215</td>\n",
       "      <td>6.1215</td>\n",
       "      <td>250</td>\n",
       "      <td>6.1215</td>\n",
       "      <td>12.00</td>\n",
       "      <td>6.0900</td>\n",
       "      <td>6.0900</td>\n",
       "      <td>6.0900</td>\n",
       "      <td>6.0900</td>\n",
       "      <td>300</td>\n",
       "      <td>6.0900</td>\n",
       "      <td>6.1200</td>\n",
       "    </tr>\n",
       "    <tr>\n",
       "      <th>24</th>\n",
       "      <td>12.20</td>\n",
       "      <td>6.1300</td>\n",
       "      <td>6.1300</td>\n",
       "      <td>6.1300</td>\n",
       "      <td>6.1300</td>\n",
       "      <td>100</td>\n",
       "      <td>6.1300</td>\n",
       "      <td>12.05</td>\n",
       "      <td>6.1215</td>\n",
       "      <td>6.1215</td>\n",
       "      <td>6.1215</td>\n",
       "      <td>6.1215</td>\n",
       "      <td>250</td>\n",
       "      <td>6.1215</td>\n",
       "      <td>6.1100</td>\n",
       "    </tr>\n",
       "  </tbody>\n",
       "</table>\n",
       "</div>"
      ],
      "text/plain": [
       "    TIMEINDEX   CLOSE    HIGH     LOW    OPEN  VOLUME  MEDIAN_PRICE  \\\n",
       "0        9.30  6.0800  6.0800  6.0800  6.0800    2500        6.0800   \n",
       "1        9.40  6.1500  6.1500  6.1156  6.1156     970        6.1328   \n",
       "2        9.45  6.1800  6.1900  6.1700  6.1700     300        6.1750   \n",
       "3        9.50  6.1000  6.1000  6.1000  6.1000     100        6.1000   \n",
       "4        9.55  6.0700  6.0700  6.0700  6.0700     100        6.0700   \n",
       "5       10.05  6.0700  6.0700  6.0700  6.0700     100        6.0700   \n",
       "6       10.10  6.0700  6.0700  6.0700  6.0700     100        6.0700   \n",
       "7       10.25  6.0816  6.1400  6.0700  6.0800    6010        6.0808   \n",
       "8       10.35  6.0800  6.0800  6.0800  6.0800     200        6.0800   \n",
       "9       10.45  6.0700  6.0700  6.0700  6.0700     400        6.0700   \n",
       "10      10.50  6.0700  6.0700  6.0700  6.0700     300        6.0700   \n",
       "11      10.55  6.1000  6.1000  6.0700  6.0700    1770        6.0850   \n",
       "12      11.00  6.1250  6.1500  6.1250  6.1300    3000        6.1275   \n",
       "13      11.05  6.1400  6.1400  6.1400  6.1400     500        6.1400   \n",
       "14      11.10  6.1400  6.1400  6.1400  6.1400    1000        6.1400   \n",
       "15      11.15  6.1000  6.1000  6.1000  6.1000     100        6.1000   \n",
       "16      11.20  6.1000  6.1000  6.1000  6.1000     100        6.1000   \n",
       "17      11.25  6.0900  6.0900  6.0900  6.0900     100        6.0900   \n",
       "18      11.30  6.0900  6.0900  6.0900  6.0900     200        6.0900   \n",
       "19      11.35  6.0900  6.0900  6.0900  6.0900     100        6.0900   \n",
       "20      11.40  6.0900  6.0900  6.0900  6.0900     400        6.0900   \n",
       "21      11.55  6.0900  6.0900  6.0900  6.0900     100        6.0900   \n",
       "22      12.00  6.0900  6.0900  6.0900  6.0900     300        6.0900   \n",
       "23      12.05  6.1215  6.1215  6.1215  6.1215     250        6.1215   \n",
       "24      12.20  6.1300  6.1300  6.1300  6.1300     100        6.1300   \n",
       "\n",
       "    PREVTIMEINDEX  PREVCLOSE  PREVHIGH  PREVLOW  PREVOPEN  PREVVOLUME  \\\n",
       "0            9.30     6.0800    6.0800   6.0800    6.0800        2500   \n",
       "1            9.30     6.0800    6.0800   6.0800    6.0800        2500   \n",
       "2            9.40     6.1500    6.1500   6.1156    6.1156         970   \n",
       "3            9.45     6.1800    6.1900   6.1700    6.1700         300   \n",
       "4            9.50     6.1000    6.1000   6.1000    6.1000         100   \n",
       "5            9.55     6.0700    6.0700   6.0700    6.0700         100   \n",
       "6           10.05     6.0700    6.0700   6.0700    6.0700         100   \n",
       "7           10.10     6.0700    6.0700   6.0700    6.0700         100   \n",
       "8           10.25     6.0816    6.1400   6.0700    6.0800        6010   \n",
       "9           10.35     6.0800    6.0800   6.0800    6.0800         200   \n",
       "10          10.45     6.0700    6.0700   6.0700    6.0700         400   \n",
       "11          10.50     6.0700    6.0700   6.0700    6.0700         300   \n",
       "12          10.55     6.1000    6.1000   6.0700    6.0700        1770   \n",
       "13          11.00     6.1250    6.1500   6.1250    6.1300        3000   \n",
       "14          11.05     6.1400    6.1400   6.1400    6.1400         500   \n",
       "15          11.10     6.1400    6.1400   6.1400    6.1400        1000   \n",
       "16          11.15     6.1000    6.1000   6.1000    6.1000         100   \n",
       "17          11.20     6.1000    6.1000   6.1000    6.1000         100   \n",
       "18          11.25     6.0900    6.0900   6.0900    6.0900         100   \n",
       "19          11.30     6.0900    6.0900   6.0900    6.0900         200   \n",
       "20          11.35     6.0900    6.0900   6.0900    6.0900         100   \n",
       "21          11.40     6.0900    6.0900   6.0900    6.0900         400   \n",
       "22          11.55     6.0900    6.0900   6.0900    6.0900         100   \n",
       "23          12.00     6.0900    6.0900   6.0900    6.0900         300   \n",
       "24          12.05     6.1215    6.1215   6.1215    6.1215         250   \n",
       "\n",
       "    PREVMEDIAN_PRICE  FUTURE(2HRS)MED_PRICE  \n",
       "0             6.0800                 6.1300  \n",
       "1             6.0800                 6.1200  \n",
       "2             6.1328                 6.1300  \n",
       "3             6.1750                 6.1250  \n",
       "4             6.1000                 6.1100  \n",
       "5             6.0700                 6.1150  \n",
       "6             6.0700                 6.1200  \n",
       "7             6.0700                 6.1000  \n",
       "8             6.0808                 6.0900  \n",
       "9             6.0800                 6.1300  \n",
       "10            6.0700                 6.1157  \n",
       "11            6.0700                 6.1295  \n",
       "12            6.0850                 6.1200  \n",
       "13            6.1275                 6.1000  \n",
       "14            6.1400                 6.1300  \n",
       "15            6.1400                 6.1100  \n",
       "16            6.1000                 6.1296  \n",
       "17            6.1000                 6.1300  \n",
       "18            6.0900                 6.1200  \n",
       "19            6.0900                 6.1000  \n",
       "20            6.0900                 6.1200  \n",
       "21            6.0900                 6.1150  \n",
       "22            6.0900                 6.1100  \n",
       "23            6.0900                 6.1200  \n",
       "24            6.1215                 6.1100  "
      ]
     },
     "execution_count": 594,
     "metadata": {},
     "output_type": "execute_result"
    }
   ],
   "source": [
    "print stock_df.shape\n",
    "stock_df.head(25)"
   ]
  },
  {
   "cell_type": "code",
   "execution_count": 595,
   "metadata": {
    "collapsed": false
   },
   "outputs": [
    {
     "data": {
      "text/html": [
       "<div style=\"max-height:1000px;max-width:1500px;overflow:auto;\">\n",
       "<table border=\"1\" class=\"dataframe\">\n",
       "  <thead>\n",
       "    <tr style=\"text-align: right;\">\n",
       "      <th></th>\n",
       "      <th>TIMEINDEX</th>\n",
       "      <th>CLOSE</th>\n",
       "      <th>HIGH</th>\n",
       "      <th>LOW</th>\n",
       "      <th>OPEN</th>\n",
       "      <th>VOLUME</th>\n",
       "      <th>MEDIAN_PRICE</th>\n",
       "      <th>PREVTIMEINDEX</th>\n",
       "      <th>PREVCLOSE</th>\n",
       "      <th>PREVHIGH</th>\n",
       "      <th>PREVLOW</th>\n",
       "      <th>PREVOPEN</th>\n",
       "      <th>PREVVOLUME</th>\n",
       "      <th>PREVMEDIAN_PRICE</th>\n",
       "      <th>FUTURE(2HRS)MED_PRICE</th>\n",
       "    </tr>\n",
       "  </thead>\n",
       "  <tbody>\n",
       "    <tr>\n",
       "      <th>2918</th>\n",
       "      <td>15.40</td>\n",
       "      <td>10.26</td>\n",
       "      <td>10.26</td>\n",
       "      <td>10.2400</td>\n",
       "      <td>10.24</td>\n",
       "      <td>700</td>\n",
       "      <td>10.250</td>\n",
       "      <td>15.35</td>\n",
       "      <td>10.24</td>\n",
       "      <td>10.24</td>\n",
       "      <td>10.2400</td>\n",
       "      <td>10.24</td>\n",
       "      <td>100</td>\n",
       "      <td>10.240</td>\n",
       "      <td>0</td>\n",
       "    </tr>\n",
       "    <tr>\n",
       "      <th>2919</th>\n",
       "      <td>15.45</td>\n",
       "      <td>10.28</td>\n",
       "      <td>10.29</td>\n",
       "      <td>10.2700</td>\n",
       "      <td>10.29</td>\n",
       "      <td>2200</td>\n",
       "      <td>10.285</td>\n",
       "      <td>15.40</td>\n",
       "      <td>10.26</td>\n",
       "      <td>10.26</td>\n",
       "      <td>10.2400</td>\n",
       "      <td>10.24</td>\n",
       "      <td>700</td>\n",
       "      <td>10.250</td>\n",
       "      <td>0</td>\n",
       "    </tr>\n",
       "    <tr>\n",
       "      <th>2920</th>\n",
       "      <td>15.50</td>\n",
       "      <td>10.28</td>\n",
       "      <td>10.28</td>\n",
       "      <td>10.2700</td>\n",
       "      <td>10.28</td>\n",
       "      <td>2876</td>\n",
       "      <td>10.280</td>\n",
       "      <td>15.45</td>\n",
       "      <td>10.28</td>\n",
       "      <td>10.29</td>\n",
       "      <td>10.2700</td>\n",
       "      <td>10.29</td>\n",
       "      <td>2200</td>\n",
       "      <td>10.285</td>\n",
       "      <td>0</td>\n",
       "    </tr>\n",
       "    <tr>\n",
       "      <th>2921</th>\n",
       "      <td>15.55</td>\n",
       "      <td>10.26</td>\n",
       "      <td>10.28</td>\n",
       "      <td>10.2401</td>\n",
       "      <td>10.28</td>\n",
       "      <td>1488</td>\n",
       "      <td>10.270</td>\n",
       "      <td>15.50</td>\n",
       "      <td>10.28</td>\n",
       "      <td>10.28</td>\n",
       "      <td>10.2700</td>\n",
       "      <td>10.28</td>\n",
       "      <td>2876</td>\n",
       "      <td>10.280</td>\n",
       "      <td>0</td>\n",
       "    </tr>\n",
       "    <tr>\n",
       "      <th>2922</th>\n",
       "      <td>16.00</td>\n",
       "      <td>10.28</td>\n",
       "      <td>10.29</td>\n",
       "      <td>10.2300</td>\n",
       "      <td>10.29</td>\n",
       "      <td>14318</td>\n",
       "      <td>10.285</td>\n",
       "      <td>15.55</td>\n",
       "      <td>10.26</td>\n",
       "      <td>10.28</td>\n",
       "      <td>10.2401</td>\n",
       "      <td>10.28</td>\n",
       "      <td>1488</td>\n",
       "      <td>10.270</td>\n",
       "      <td>0</td>\n",
       "    </tr>\n",
       "  </tbody>\n",
       "</table>\n",
       "</div>"
      ],
      "text/plain": [
       "      TIMEINDEX  CLOSE   HIGH      LOW   OPEN  VOLUME  MEDIAN_PRICE  \\\n",
       "2918      15.40  10.26  10.26  10.2400  10.24     700        10.250   \n",
       "2919      15.45  10.28  10.29  10.2700  10.29    2200        10.285   \n",
       "2920      15.50  10.28  10.28  10.2700  10.28    2876        10.280   \n",
       "2921      15.55  10.26  10.28  10.2401  10.28    1488        10.270   \n",
       "2922      16.00  10.28  10.29  10.2300  10.29   14318        10.285   \n",
       "\n",
       "      PREVTIMEINDEX  PREVCLOSE  PREVHIGH  PREVLOW  PREVOPEN  PREVVOLUME  \\\n",
       "2918          15.35      10.24     10.24  10.2400     10.24         100   \n",
       "2919          15.40      10.26     10.26  10.2400     10.24         700   \n",
       "2920          15.45      10.28     10.29  10.2700     10.29        2200   \n",
       "2921          15.50      10.28     10.28  10.2700     10.28        2876   \n",
       "2922          15.55      10.26     10.28  10.2401     10.28        1488   \n",
       "\n",
       "      PREVMEDIAN_PRICE  FUTURE(2HRS)MED_PRICE  \n",
       "2918            10.240                      0  \n",
       "2919            10.250                      0  \n",
       "2920            10.285                      0  \n",
       "2921            10.280                      0  \n",
       "2922            10.270                      0  "
      ]
     },
     "execution_count": 595,
     "metadata": {},
     "output_type": "execute_result"
    }
   ],
   "source": [
    "stock_df.tail()"
   ]
  },
  {
   "cell_type": "markdown",
   "metadata": {},
   "source": [
    "---"
   ]
  },
  {
   "cell_type": "code",
   "execution_count": 596,
   "metadata": {
    "collapsed": false
   },
   "outputs": [
    {
     "name": "stdout",
     "output_type": "stream",
     "text": [
      "(2846, 15)\n"
     ]
    }
   ],
   "source": [
    "train_df = stock_df.ix[:stock_df.shape[0]-78]\n",
    "print train_df.shape"
   ]
  },
  {
   "cell_type": "code",
   "execution_count": 597,
   "metadata": {
    "collapsed": false
   },
   "outputs": [
    {
     "data": {
      "text/plain": [
       "(78, 15)"
      ]
     },
     "execution_count": 597,
     "metadata": {},
     "output_type": "execute_result"
    }
   ],
   "source": [
    "test_df = stock_df.ix[stock_df.shape[0]-78:]\n",
    "test_df.shape"
   ]
  },
  {
   "cell_type": "code",
   "execution_count": 598,
   "metadata": {
    "collapsed": false
   },
   "outputs": [
    {
     "name": "stdout",
     "output_type": "stream",
     "text": [
      "['TIMEINDEX', 'CLOSE', 'HIGH', 'LOW', 'OPEN', 'VOLUME', 'MEDIAN_PRICE', 'PREVTIMEINDEX', 'PREVCLOSE', 'PREVHIGH', 'PREVLOW', 'PREVOPEN', 'PREVVOLUME', 'PREVMEDIAN_PRICE', 'FUTURE(2HRS)MED_PRICE']\n"
     ]
    }
   ],
   "source": [
    "print [col for col in train_df.columns]"
   ]
  },
  {
   "cell_type": "code",
   "execution_count": 599,
   "metadata": {
    "collapsed": false
   },
   "outputs": [
    {
     "name": "stdout",
     "output_type": "stream",
     "text": [
      "(2846, 14)\n",
      "(2846,)\n"
     ]
    }
   ],
   "source": [
    "X_train = train_df[['TIMEINDEX', 'CLOSE', 'HIGH', 'LOW', 'OPEN', 'VOLUME', 'MEDIAN_PRICE', 'PREVTIMEINDEX', 'PREVCLOSE', 'PREVHIGH', 'PREVLOW', 'PREVOPEN', 'PREVVOLUME', 'PREVMEDIAN_PRICE']]\n",
    "print X_train.shape\n",
    "y_train = train_df[['FUTURE(2HRS)MED_PRICE']].values.flatten()\n",
    "print y_train.shape"
   ]
  },
  {
   "cell_type": "code",
   "execution_count": 600,
   "metadata": {
    "collapsed": false
   },
   "outputs": [
    {
     "name": "stdout",
     "output_type": "stream",
     "text": [
      "(78, 14)\n",
      "(78,)\n"
     ]
    }
   ],
   "source": [
    "X_test = test_df[['TIMEINDEX', 'CLOSE', 'HIGH', 'LOW', 'OPEN', 'VOLUME', 'MEDIAN_PRICE', 'PREVTIMEINDEX', 'PREVCLOSE', 'PREVHIGH', 'PREVLOW', 'PREVOPEN', 'PREVVOLUME', 'PREVMEDIAN_PRICE']]\n",
    "print X_test.shape\n",
    "y_test = test_df[['FUTURE(2HRS)MED_PRICE']].values.flatten()\n",
    "print y_test.shape"
   ]
  },
  {
   "cell_type": "code",
   "execution_count": 601,
   "metadata": {
    "collapsed": false
   },
   "outputs": [
    {
     "data": {
      "text/plain": [
       "BayesianRidge(alpha_1=1e-06, alpha_2=1e-06, compute_score=True, copy_X=True,\n",
       "       fit_intercept=True, lambda_1=1e-06, lambda_2=1e-06, n_iter=300,\n",
       "       normalize=False, tol=0.001, verbose=False)"
      ]
     },
     "execution_count": 601,
     "metadata": {},
     "output_type": "execute_result"
    }
   ],
   "source": [
    "clf = BayesianRidge(compute_score=True)\n",
    "clf.fit(X_train, y_train)"
   ]
  },
  {
   "cell_type": "code",
   "execution_count": 602,
   "metadata": {
    "collapsed": false
   },
   "outputs": [
    {
     "name": "stdout",
     "output_type": "stream",
     "text": [
      "Prediction: [ 10.52921624] \n",
      "\n",
      "TIMEINDEX                  15.5500\n",
      "CLOSE                      10.4000\n",
      "HIGH                       10.4000\n",
      "LOW                        10.3564\n",
      "OPEN                       10.3916\n",
      "VOLUME                   7957.0000\n",
      "MEDIAN_PRICE               10.3958\n",
      "PREVTIMEINDEX              15.5000\n",
      "PREVCLOSE                  10.3800\n",
      "PREVHIGH                   10.4200\n",
      "PREVLOW                    10.3600\n",
      "PREVOPEN                   10.3918\n",
      "PREVVOLUME               8546.0000\n",
      "PREVMEDIAN_PRICE           10.3859\n",
      "FUTURE(2HRS)MED_PRICE      10.2835\n",
      "Name: 2845, dtype: float64\n"
     ]
    }
   ],
   "source": [
    "test_index = stock_df.shape[0]-78\n",
    "print \"Prediction: \" + str(clf.predict(test_df.ix[test_index].values[:-1])), \"\\n\"\n",
    "print test_df.ix[test_index]"
   ]
  },
  {
   "cell_type": "code",
   "execution_count": 603,
   "metadata": {
    "collapsed": false
   },
   "outputs": [
    {
     "name": "stdout",
     "output_type": "stream",
     "text": [
      "Prediction: [ 10.19468803] \n",
      "\n",
      "TIMEINDEX                   13.30000\n",
      "CLOSE                       10.10000\n",
      "HIGH                        10.15000\n",
      "LOW                         10.07000\n",
      "OPEN                        10.07000\n",
      "VOLUME                     800.00000\n",
      "MEDIAN_PRICE                10.08500\n",
      "PREVTIMEINDEX               13.25000\n",
      "PREVCLOSE                   10.05550\n",
      "PREVHIGH                    10.14000\n",
      "PREVLOW                     10.05000\n",
      "PREVOPEN                    10.14000\n",
      "PREVVOLUME               12061.00000\n",
      "PREVMEDIAN_PRICE            10.09775\n",
      "FUTURE(2HRS)MED_PRICE       10.24000\n",
      "Name: 2893, dtype: float64\n"
     ]
    }
   ],
   "source": [
    "test_index = stock_df.shape[0]-30\n",
    "print \"Prediction: \" + str(clf.predict(test_df.ix[test_index].values[:-1])), \"\\n\"\n",
    "print test_df.ix[test_index]"
   ]
  },
  {
   "cell_type": "code",
   "execution_count": 604,
   "metadata": {
    "collapsed": false
   },
   "outputs": [
    {
     "name": "stdout",
     "output_type": "stream",
     "text": [
      "[10.529, 10.553, 10.474, 10.294, 10.326, 10.342, 10.369, 10.405, 10.375, 10.349, 10.249, 10.295, 10.282, 10.284, 10.286, 10.194, 10.189, 10.245, 10.284, 10.221, 10.262, 10.247, 10.254, 10.311, 10.336, 10.328, 10.339, 10.354, 10.343, 10.329, 10.299, 10.325, 10.297, 10.289, 10.307, 10.316, 10.346, 10.352, 10.341, 10.349, 10.305, 10.284, 10.229, 10.261, 10.253, 10.244, 10.237, 10.183, 10.195, 10.208, 10.279, 10.253, 10.143, 10.247, 10.24, 10.216, 10.236, 10.288, 10.296, 10.289, 10.294, 10.3, 10.301, 10.292, 10.308, 10.322, 10.314, 10.295, 10.322, 10.336, 10.4, 10.433, 10.379, 10.367, 10.391, 10.402, 10.385, 10.411]\n"
     ]
    }
   ],
   "source": [
    "predictions = [round(x, 3) for x in clf.predict(X_test)]\n",
    "print predictions"
   ]
  },
  {
   "cell_type": "code",
   "execution_count": 605,
   "metadata": {
    "collapsed": false
   },
   "outputs": [
    {
     "name": "stdout",
     "output_type": "stream",
     "text": [
      "[10.284, 10.275, 10.292, 10.293, 10.275, 10.245, 10.24, 10.258, 10.23, 10.225, 10.245, 10.24, 10.281, 10.278, 10.275, 10.278, 10.24, 10.204, 10.165, 10.19, 10.17, 10.16, 10.15, 10.098, 10.085, 10.125, 10.19, 10.151, 10.04, 10.107, 10.155, 10.11, 10.14, 10.2, 10.19, 10.185, 10.2, 10.203, 10.2, 10.199, 10.195, 10.2, 10.195, 10.185, 10.21, 10.215, 10.233, 10.255, 10.24, 10.25, 10.285, 10.28, 10.27, 10.285, 0.0, 0.0, 0.0, 0.0, 0.0, 0.0, 0.0, 0.0, 0.0, 0.0, 0.0, 0.0, 0.0, 0.0, 0.0, 0.0, 0.0, 0.0, 0.0, 0.0, 0.0, 0.0, 0.0, 0.0]\n"
     ]
    }
   ],
   "source": [
    "y_test = [round(x, 3) for x in y_test]\n",
    "print y_test"
   ]
  },
  {
   "cell_type": "code",
   "execution_count": 606,
   "metadata": {
    "collapsed": false
   },
   "outputs": [
    {
     "name": "stdout",
     "output_type": "stream",
     "text": [
      "[0.245, 0.278, 0.182, 0.001, 0.051, 0.097, 0.129, 0.147, 0.145, 0.124, 0.004, 0.055, 0.001, 0.006, 0.011, -0.084, -0.051, 0.041, 0.119, 0.031, 0.092, 0.087, 0.104, 0.213, 0.251, 0.203, 0.149, 0.203, 0.303, 0.222, 0.144, 0.215, 0.157, 0.089, 0.117, 0.131, 0.146, 0.149, 0.141, 0.15, 0.11, 0.084, 0.034, 0.076, 0.043, 0.029, 0.004, -0.072, -0.045, -0.042, -0.006, -0.027, -0.127, -0.038]\n"
     ]
    }
   ],
   "source": [
    "diff = [round(x, 3) for x in (np.array(predictions) - np.array(y_test))]\n",
    "print diff[:-24]"
   ]
  },
  {
   "cell_type": "code",
   "execution_count": 607,
   "metadata": {
    "collapsed": false
   },
   "outputs": [
    {
     "name": "stdout",
     "output_type": "stream",
     "text": [
      "78 9\n"
     ]
    }
   ],
   "source": [
    "lower = 0\n",
    "for val in diff:\n",
    "    if val < 0:\n",
    "        lower += 1\n",
    "    \n",
    "print len(diff), lower"
   ]
  },
  {
   "cell_type": "code",
   "execution_count": null,
   "metadata": {
    "collapsed": true
   },
   "outputs": [],
   "source": []
  },
  {
   "cell_type": "code",
   "execution_count": null,
   "metadata": {
    "collapsed": true
   },
   "outputs": [],
   "source": []
  },
  {
   "cell_type": "code",
   "execution_count": null,
   "metadata": {
    "collapsed": true
   },
   "outputs": [],
   "source": []
  },
  {
   "cell_type": "code",
   "execution_count": null,
   "metadata": {
    "collapsed": true
   },
   "outputs": [],
   "source": []
  },
  {
   "cell_type": "code",
   "execution_count": null,
   "metadata": {
    "collapsed": true
   },
   "outputs": [],
   "source": []
  }
 ],
 "metadata": {
  "kernelspec": {
   "display_name": "Python 2",
   "language": "python",
   "name": "python2"
  },
  "language_info": {
   "codemirror_mode": {
    "name": "ipython",
    "version": 2
   },
   "file_extension": ".py",
   "mimetype": "text/x-python",
   "name": "python",
   "nbconvert_exporter": "python",
   "pygments_lexer": "ipython2",
   "version": "2.7.10"
  }
 },
 "nbformat": 4,
 "nbformat_minor": 0
}
