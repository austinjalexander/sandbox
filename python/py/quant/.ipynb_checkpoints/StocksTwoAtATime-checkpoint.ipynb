{
 "cells": [
  {
   "cell_type": "code",
   "execution_count": 153,
   "metadata": {
    "collapsed": true
   },
   "outputs": [],
   "source": [
    "import requests\n",
    "import csv\n",
    "import numpy as np\n",
    "import pandas as pd\n",
    "import datetime\n",
    "import Quandl\n",
    "from matplotlib import pyplot as plt\n",
    "from sklearn.cross_validation import train_test_split\n",
    "from sklearn.metrics import accuracy_score\n",
    "from sklearn.linear_model import BayesianRidge\n",
    "from sklearn.naive_bayes import GaussianNB\n",
    "from sklearn.svm import SVC\n",
    "from sklearn.svm import SVR\n",
    "from sklearn import tree\n",
    "%matplotlib inline"
   ]
  },
  {
   "cell_type": "code",
   "execution_count": 154,
   "metadata": {
    "collapsed": false
   },
   "outputs": [],
   "source": [
    "def get_stock_data(ticker, seconds_interval, num_of_days):\n",
    "    goog_fin_url = \"http://www.google.com/finance/getprices?q={0}&i={1}&p={2}d&f=d,o,h,l,c,v\".format(ticker, seconds_interval, num_of_days)\n",
    "\n",
    "    r = requests.get(goog_fin_url)\n",
    "    #print r.status_code\n",
    "    #print r.headers\n",
    "    #print r.content[:200]\n",
    "\n",
    "    # get data and convert to data frame\n",
    "    stock_df = pd.read_csv(goog_fin_url, skiprows=[0,1,2,3,5,6])\n",
    "    # rename column name\n",
    "    stock_df.rename(columns={'COLUMNS=DATE':'TIMEINDEX'}, inplace=True)\n",
    "    # remove 'a' from unix timestamps\n",
    "    stock_df.replace(to_replace={'TIMEINDEX':{'a':''}}, regex=True, inplace=True)\n",
    "    # get entire column and convert to ints\n",
    "    time_indices = [int(x) for x in stock_df['TIMEINDEX'].values]\n",
    "    # keep track of current timestamp\n",
    "    last_timestamp = time_indices[0]\n",
    "    # convert unix timestamp abbreviations into full unix timestamps\n",
    "    for i in range(len(time_indices)):\n",
    "        if time_indices[i] < last_timestamp:\n",
    "            time_indices[i] = last_timestamp + (time_indices[i] * int(seconds_interval))\n",
    "        else:\n",
    "            last_timestamp = time_indices[i]\n",
    "    # convert unix timestamps to human-readable formats\n",
    "    time_indices = [datetime.datetime.fromtimestamp(x).strftime('%Y-%m-%d %H:%M:%S') for x in time_indices]\n",
    "    # print first and last\n",
    "    print \"first: {}\".format(time_indices[0]), \"last: {}\".format(time_indices[-1])\n",
    "    \n",
    "    # keep 5-minute times (i.e., no dates)\n",
    "    times = [float(x[-8:-3].replace(':','.')) for x in time_indices]\n",
    "    # create new column in data frame\n",
    "    stock_df['TIMEINDEX'] = times\n",
    "    \n",
    "    # keep date\n",
    "    dates = [x[:10] for x in time_indices]\n",
    "    # create new column in data frame\n",
    "    stock_df['DATE'] = dates\n",
    "    \n",
    "    # remove values \n",
    "    #print \"remove lesser values after final (max): \", stock_df['TIMEINDEX'].unique()[-6:-1]\n",
    "    #for x in stock_df['TIMEINDEX'].unique()[-5:-1]:\n",
    "    #    stock_df = stock_df[stock_df['TIMEINDEX'] != x]\n",
    "    print \"shape:\", stock_df.shape\n",
    "    \n",
    "    return stock_df"
   ]
  },
  {
   "cell_type": "code",
   "execution_count": 155,
   "metadata": {
    "collapsed": false
   },
   "outputs": [
    {
     "name": "stdout",
     "output_type": "stream",
     "text": [
      "first: 2015-04-10 09:30:00 last: 2015-06-19 16:00:00\n",
      "shape: (693, 7)\n"
     ]
    },
    {
     "data": {
      "text/html": [
       "<div style=\"max-height:1000px;max-width:1500px;overflow:auto;\">\n",
       "<table border=\"1\" class=\"dataframe\">\n",
       "  <thead>\n",
       "    <tr style=\"text-align: right;\">\n",
       "      <th></th>\n",
       "      <th>TIMEINDEX</th>\n",
       "      <th>CLOSE</th>\n",
       "      <th>HIGH</th>\n",
       "      <th>LOW</th>\n",
       "      <th>OPEN</th>\n",
       "      <th>VOLUME</th>\n",
       "      <th>DATE</th>\n",
       "    </tr>\n",
       "  </thead>\n",
       "  <tbody>\n",
       "    <tr>\n",
       "      <th>0</th>\n",
       "      <td>9.3</td>\n",
       "      <td>6.1100</td>\n",
       "      <td>6.11</td>\n",
       "      <td>6.1100</td>\n",
       "      <td>6.11</td>\n",
       "      <td>250</td>\n",
       "      <td>2015-04-10</td>\n",
       "    </tr>\n",
       "    <tr>\n",
       "      <th>1</th>\n",
       "      <td>10.0</td>\n",
       "      <td>6.1200</td>\n",
       "      <td>6.13</td>\n",
       "      <td>6.1100</td>\n",
       "      <td>6.12</td>\n",
       "      <td>1400</td>\n",
       "      <td>2015-04-10</td>\n",
       "    </tr>\n",
       "    <tr>\n",
       "      <th>2</th>\n",
       "      <td>10.3</td>\n",
       "      <td>6.0999</td>\n",
       "      <td>6.12</td>\n",
       "      <td>6.0901</td>\n",
       "      <td>6.12</td>\n",
       "      <td>5087</td>\n",
       "      <td>2015-04-10</td>\n",
       "    </tr>\n",
       "    <tr>\n",
       "      <th>3</th>\n",
       "      <td>11.0</td>\n",
       "      <td>6.1000</td>\n",
       "      <td>6.12</td>\n",
       "      <td>6.1000</td>\n",
       "      <td>6.10</td>\n",
       "      <td>2640</td>\n",
       "      <td>2015-04-10</td>\n",
       "    </tr>\n",
       "    <tr>\n",
       "      <th>4</th>\n",
       "      <td>11.3</td>\n",
       "      <td>6.1200</td>\n",
       "      <td>6.13</td>\n",
       "      <td>6.1200</td>\n",
       "      <td>6.13</td>\n",
       "      <td>300</td>\n",
       "      <td>2015-04-10</td>\n",
       "    </tr>\n",
       "  </tbody>\n",
       "</table>\n",
       "</div>"
      ],
      "text/plain": [
       "   TIMEINDEX   CLOSE  HIGH     LOW  OPEN  VOLUME        DATE\n",
       "0        9.3  6.1100  6.11  6.1100  6.11     250  2015-04-10\n",
       "1       10.0  6.1200  6.13  6.1100  6.12    1400  2015-04-10\n",
       "2       10.3  6.0999  6.12  6.0901  6.12    5087  2015-04-10\n",
       "3       11.0  6.1000  6.12  6.1000  6.10    2640  2015-04-10\n",
       "4       11.3  6.1200  6.13  6.1200  6.13     300  2015-04-10"
      ]
     },
     "execution_count": 155,
     "metadata": {},
     "output_type": "execute_result"
    }
   ],
   "source": [
    "ticker = \"TNXP\" # TNXP, LPTH, NVDA, BLFS\n",
    "seconds_interval = \"1800\" # 300: 5-minute\n",
    "num_of_days = \"50\"\n",
    "stock_X_df = get_stock_data(ticker, seconds_interval, num_of_days)\n",
    "stock_X_df.head()"
   ]
  },
  {
   "cell_type": "code",
   "execution_count": 156,
   "metadata": {
    "collapsed": true
   },
   "outputs": [],
   "source": [
    "def create_data(ticker):\n",
    "    seconds_interval = \"1800\" # 300: 5-minute\n",
    "    num_of_days = \"50\"\n",
    "    stock_X_df = get_stock_data(ticker, seconds_interval, num_of_days)\n",
    "\n",
    "    num_of_cols = set()\n",
    "    for date in stock_X_df['DATE'].unique():\n",
    "        num_of_cols.add(stock_X_df[stock_X_df['DATE'] == date].drop('DATE', axis=1).values.flatten().shape[0])\n",
    "    min_num_of_cols = min(num_of_cols)\n",
    "    print min_num_of_cols\n",
    "\n",
    "    X = np.array([])\n",
    "    for date in stock_X_df['DATE'].unique():\n",
    "        if X.shape[0] == 0:\n",
    "            X = stock_X_df[stock_X_df['DATE'] == date].drop('DATE', axis=1).values.flatten()[:min_num_of_cols]\n",
    "        else:\n",
    "            X = np.vstack([X, stock_X_df[stock_X_df['DATE'] == date].drop('DATE', axis=1).values.flatten()[:min_num_of_cols]])\n",
    "\n",
    "    X = np.delete(X, -1, axis=0)\n",
    "    #print X.shape\n",
    "    #print pd.DataFrame(X).head()\n",
    "\n",
    "    seconds_interval = \"86400\" # daily: 86400\n",
    "    stock_y_df = get_stock_data(ticker, seconds_interval, num_of_days)\n",
    "\n",
    "    y = (stock_y_df['HIGH'].values)\n",
    "    #y = (stock_y_df['HIGH'].values - stock_y_df['OPEN'].values)\n",
    "    y = y[1:]\n",
    "    #print y.shape\n",
    "    #print y[:5]\n",
    "    \n",
    "    return X, y"
   ]
  },
  {
   "cell_type": "code",
   "execution_count": 157,
   "metadata": {
    "collapsed": false
   },
   "outputs": [
    {
     "name": "stdout",
     "output_type": "stream",
     "text": [
      "first: 2015-04-10 09:30:00 last: 2015-06-19 16:00:00\n",
      "shape: (693, 7)\n",
      "78\n",
      "first: 2015-04-10 16:00:00 last: 2015-06-19 16:00:00\n",
      "shape: (50, 7)\n",
      "first: 2015-04-10 09:30:00 last: 2015-06-19 16:00:00\n",
      "shape: (699, 7)\n",
      "78\n",
      "first: 2015-04-10 16:00:00 last: 2015-06-19 16:00:00\n",
      "shape: (50, 7)\n"
     ]
    }
   ],
   "source": [
    "tickers = [\"TNXP\", \"NVDA\"] # TNXP, LPTH, NVDA, BLFS\n",
    "X = np.array([])\n",
    "y = np.array([])\n",
    "for ticker in tickers:\n",
    "    if X.shape[0] == 0:\n",
    "        X, y = create_data(ticker)\n",
    "    else:\n",
    "        newX, newy = create_data(ticker)\n",
    "        X = np.vstack([X, newX])\n",
    "        y = np.hstack([y, newy])"
   ]
  },
  {
   "cell_type": "code",
   "execution_count": 158,
   "metadata": {
    "collapsed": false
   },
   "outputs": [],
   "source": [
    "features_train, features_test, labels_train, labels_test = train_test_split(X, y, test_size=0.2, random_state=42)"
   ]
  },
  {
   "cell_type": "code",
   "execution_count": 159,
   "metadata": {
    "collapsed": false
   },
   "outputs": [
    {
     "data": {
      "text/plain": [
       "0.99845958254593303"
      ]
     },
     "execution_count": 159,
     "metadata": {},
     "output_type": "execute_result"
    }
   ],
   "source": [
    "clf = BayesianRidge()\n",
    "clf.fit(features_train, labels_train)\n",
    "pred = clf.predict(features_test)\n",
    "clf.score(features_test, labels_test)"
   ]
  },
  {
   "cell_type": "code",
   "execution_count": 160,
   "metadata": {
    "collapsed": false
   },
   "outputs": [],
   "source": [
    "#clf = GaussianNB()\n",
    "#clf.fit(features_train, labels_train)\n",
    "#pred = clf.predict(features_test)\n",
    "#acc = accuracy_score(pred, labels_test)\n",
    "#print acc, pred"
   ]
  },
  {
   "cell_type": "code",
   "execution_count": 161,
   "metadata": {
    "collapsed": false
   },
   "outputs": [],
   "source": [
    "#clf = SVC(kernel=\"linear\")\n",
    "#clf.fit(features_train, labels_train)\n",
    "#pred = clf.predict(features_test)\n",
    "#acc = accuracy_score(pred, labels_test)\n",
    "#print acc, pred"
   ]
  },
  {
   "cell_type": "code",
   "execution_count": 162,
   "metadata": {
    "collapsed": false
   },
   "outputs": [],
   "source": [
    "#clf = SVR(kernel='rbf', C=10000.0)\n",
    "#clf.fit(features_train, labels_train)\n",
    "#pred = clf.predict(features_test)\n",
    "#clf.score(features_test, labels_test)"
   ]
  },
  {
   "cell_type": "code",
   "execution_count": 163,
   "metadata": {
    "collapsed": false
   },
   "outputs": [],
   "source": [
    "#clf = tree.DecisionTreeClassifier()\n",
    "#clf.fit(features_train, labels_train)\n",
    "#pred = clf.predict(features_test)\n",
    "#clf.score(features_test, labels_test)"
   ]
  },
  {
   "cell_type": "code",
   "execution_count": 164,
   "metadata": {
    "collapsed": false
   },
   "outputs": [
    {
     "data": {
      "text/plain": [
       "0.99116887537044107"
      ]
     },
     "execution_count": 164,
     "metadata": {},
     "output_type": "execute_result"
    }
   ],
   "source": [
    "clf = tree.DecisionTreeRegressor()\n",
    "clf.fit(features_train, labels_train)\n",
    "pred = clf.predict(features_test)\n",
    "clf.score(features_test, labels_test)"
   ]
  },
  {
   "cell_type": "code",
   "execution_count": 165,
   "metadata": {
    "collapsed": false
   },
   "outputs": [
    {
     "data": {
      "text/html": [
       "<div style=\"max-height:1000px;max-width:1500px;overflow:auto;\">\n",
       "<table border=\"1\" class=\"dataframe\">\n",
       "  <thead>\n",
       "    <tr style=\"text-align: right;\">\n",
       "      <th></th>\n",
       "      <th>0</th>\n",
       "      <th>1</th>\n",
       "      <th>2</th>\n",
       "      <th>3</th>\n",
       "      <th>4</th>\n",
       "      <th>5</th>\n",
       "      <th>6</th>\n",
       "      <th>7</th>\n",
       "      <th>8</th>\n",
       "      <th>9</th>\n",
       "      <th>...</th>\n",
       "      <th>68</th>\n",
       "      <th>69</th>\n",
       "      <th>70</th>\n",
       "      <th>71</th>\n",
       "      <th>72</th>\n",
       "      <th>73</th>\n",
       "      <th>74</th>\n",
       "      <th>75</th>\n",
       "      <th>76</th>\n",
       "      <th>77</th>\n",
       "    </tr>\n",
       "  </thead>\n",
       "  <tbody>\n",
       "    <tr>\n",
       "      <th>0</th>\n",
       "      <td>9.3</td>\n",
       "      <td>22.14</td>\n",
       "      <td>22.15</td>\n",
       "      <td>22.14</td>\n",
       "      <td>22.15</td>\n",
       "      <td>29741</td>\n",
       "      <td>10</td>\n",
       "      <td>22.2700</td>\n",
       "      <td>22.3600</td>\n",
       "      <td>22.05</td>\n",
       "      <td>...</td>\n",
       "      <td>22.295</td>\n",
       "      <td>22.210</td>\n",
       "      <td>22.22</td>\n",
       "      <td>247314</td>\n",
       "      <td>15.3</td>\n",
       "      <td>22.180</td>\n",
       "      <td>22.260</td>\n",
       "      <td>22.13</td>\n",
       "      <td>22.260</td>\n",
       "      <td>339140</td>\n",
       "    </tr>\n",
       "    <tr>\n",
       "      <th>1</th>\n",
       "      <td>9.3</td>\n",
       "      <td>7.71</td>\n",
       "      <td>7.71</td>\n",
       "      <td>7.71</td>\n",
       "      <td>7.71</td>\n",
       "      <td>1571</td>\n",
       "      <td>10</td>\n",
       "      <td>7.9400</td>\n",
       "      <td>7.9471</td>\n",
       "      <td>7.77</td>\n",
       "      <td>...</td>\n",
       "      <td>8.150</td>\n",
       "      <td>8.040</td>\n",
       "      <td>8.05</td>\n",
       "      <td>26390</td>\n",
       "      <td>15.3</td>\n",
       "      <td>8.170</td>\n",
       "      <td>8.180</td>\n",
       "      <td>8.12</td>\n",
       "      <td>8.120</td>\n",
       "      <td>20036</td>\n",
       "    </tr>\n",
       "    <tr>\n",
       "      <th>2</th>\n",
       "      <td>9.3</td>\n",
       "      <td>21.00</td>\n",
       "      <td>21.01</td>\n",
       "      <td>21.00</td>\n",
       "      <td>21.00</td>\n",
       "      <td>78069</td>\n",
       "      <td>10</td>\n",
       "      <td>20.8700</td>\n",
       "      <td>21.0500</td>\n",
       "      <td>20.87</td>\n",
       "      <td>...</td>\n",
       "      <td>21.060</td>\n",
       "      <td>20.990</td>\n",
       "      <td>21.05</td>\n",
       "      <td>284326</td>\n",
       "      <td>15.3</td>\n",
       "      <td>20.995</td>\n",
       "      <td>21.005</td>\n",
       "      <td>20.96</td>\n",
       "      <td>21.000</td>\n",
       "      <td>360872</td>\n",
       "    </tr>\n",
       "    <tr>\n",
       "      <th>3</th>\n",
       "      <td>9.3</td>\n",
       "      <td>6.13</td>\n",
       "      <td>6.13</td>\n",
       "      <td>6.13</td>\n",
       "      <td>6.13</td>\n",
       "      <td>7000</td>\n",
       "      <td>10</td>\n",
       "      <td>6.1000</td>\n",
       "      <td>6.1000</td>\n",
       "      <td>6.04</td>\n",
       "      <td>...</td>\n",
       "      <td>5.920</td>\n",
       "      <td>5.881</td>\n",
       "      <td>5.92</td>\n",
       "      <td>2193</td>\n",
       "      <td>15.3</td>\n",
       "      <td>5.940</td>\n",
       "      <td>5.940</td>\n",
       "      <td>5.92</td>\n",
       "      <td>5.920</td>\n",
       "      <td>602</td>\n",
       "    </tr>\n",
       "    <tr>\n",
       "      <th>4</th>\n",
       "      <td>9.3</td>\n",
       "      <td>20.87</td>\n",
       "      <td>20.87</td>\n",
       "      <td>20.87</td>\n",
       "      <td>20.87</td>\n",
       "      <td>68318</td>\n",
       "      <td>10</td>\n",
       "      <td>21.0999</td>\n",
       "      <td>21.1600</td>\n",
       "      <td>20.80</td>\n",
       "      <td>...</td>\n",
       "      <td>21.860</td>\n",
       "      <td>21.650</td>\n",
       "      <td>21.75</td>\n",
       "      <td>1639869</td>\n",
       "      <td>15.3</td>\n",
       "      <td>21.849</td>\n",
       "      <td>21.935</td>\n",
       "      <td>21.73</td>\n",
       "      <td>21.795</td>\n",
       "      <td>1487868</td>\n",
       "    </tr>\n",
       "  </tbody>\n",
       "</table>\n",
       "<p>5 rows × 78 columns</p>\n",
       "</div>"
      ],
      "text/plain": [
       "    0      1      2      3      4      5   6        7        8      9   \\\n",
       "0  9.3  22.14  22.15  22.14  22.15  29741  10  22.2700  22.3600  22.05   \n",
       "1  9.3   7.71   7.71   7.71   7.71   1571  10   7.9400   7.9471   7.77   \n",
       "2  9.3  21.00  21.01  21.00  21.00  78069  10  20.8700  21.0500  20.87   \n",
       "3  9.3   6.13   6.13   6.13   6.13   7000  10   6.1000   6.1000   6.04   \n",
       "4  9.3  20.87  20.87  20.87  20.87  68318  10  21.0999  21.1600  20.80   \n",
       "\n",
       "    ...         68      69     70       71    72      73      74     75  \\\n",
       "0   ...     22.295  22.210  22.22   247314  15.3  22.180  22.260  22.13   \n",
       "1   ...      8.150   8.040   8.05    26390  15.3   8.170   8.180   8.12   \n",
       "2   ...     21.060  20.990  21.05   284326  15.3  20.995  21.005  20.96   \n",
       "3   ...      5.920   5.881   5.92     2193  15.3   5.940   5.940   5.92   \n",
       "4   ...     21.860  21.650  21.75  1639869  15.3  21.849  21.935  21.73   \n",
       "\n",
       "       76       77  \n",
       "0  22.260   339140  \n",
       "1   8.120    20036  \n",
       "2  21.000   360872  \n",
       "3   5.920      602  \n",
       "4  21.795  1487868  \n",
       "\n",
       "[5 rows x 78 columns]"
      ]
     },
     "execution_count": 165,
     "metadata": {},
     "output_type": "execute_result"
    }
   ],
   "source": [
    "pd.DataFrame(features_test).head()"
   ]
  },
  {
   "cell_type": "code",
   "execution_count": 166,
   "metadata": {
    "collapsed": false
   },
   "outputs": [
    {
     "data": {
      "text/html": [
       "<div style=\"max-height:1000px;max-width:1500px;overflow:auto;\">\n",
       "<table border=\"1\" class=\"dataframe\">\n",
       "  <thead>\n",
       "    <tr style=\"text-align: right;\">\n",
       "      <th></th>\n",
       "      <th>0</th>\n",
       "    </tr>\n",
       "  </thead>\n",
       "  <tbody>\n",
       "    <tr>\n",
       "      <th>0</th>\n",
       "      <td>22.3050</td>\n",
       "    </tr>\n",
       "    <tr>\n",
       "      <th>1</th>\n",
       "      <td>8.6000</td>\n",
       "    </tr>\n",
       "    <tr>\n",
       "      <th>2</th>\n",
       "      <td>21.3600</td>\n",
       "    </tr>\n",
       "    <tr>\n",
       "      <th>3</th>\n",
       "      <td>6.2100</td>\n",
       "    </tr>\n",
       "    <tr>\n",
       "      <th>4</th>\n",
       "      <td>22.2139</td>\n",
       "    </tr>\n",
       "  </tbody>\n",
       "</table>\n",
       "</div>"
      ],
      "text/plain": [
       "         0\n",
       "0  22.3050\n",
       "1   8.6000\n",
       "2  21.3600\n",
       "3   6.2100\n",
       "4  22.2139"
      ]
     },
     "execution_count": 166,
     "metadata": {},
     "output_type": "execute_result"
    }
   ],
   "source": [
    "pd.DataFrame(labels_test).head()"
   ]
  },
  {
   "cell_type": "code",
   "execution_count": 167,
   "metadata": {
    "collapsed": false
   },
   "outputs": [
    {
     "data": {
      "text/html": [
       "<div style=\"max-height:1000px;max-width:1500px;overflow:auto;\">\n",
       "<table border=\"1\" class=\"dataframe\">\n",
       "  <thead>\n",
       "    <tr style=\"text-align: right;\">\n",
       "      <th></th>\n",
       "      <th>0</th>\n",
       "    </tr>\n",
       "  </thead>\n",
       "  <tbody>\n",
       "    <tr>\n",
       "      <th>0</th>\n",
       "      <td>22.360</td>\n",
       "    </tr>\n",
       "    <tr>\n",
       "      <th>1</th>\n",
       "      <td>10.450</td>\n",
       "    </tr>\n",
       "    <tr>\n",
       "      <th>2</th>\n",
       "      <td>21.140</td>\n",
       "    </tr>\n",
       "    <tr>\n",
       "      <th>3</th>\n",
       "      <td>6.130</td>\n",
       "    </tr>\n",
       "    <tr>\n",
       "      <th>4</th>\n",
       "      <td>21.165</td>\n",
       "    </tr>\n",
       "  </tbody>\n",
       "</table>\n",
       "</div>"
      ],
      "text/plain": [
       "        0\n",
       "0  22.360\n",
       "1  10.450\n",
       "2  21.140\n",
       "3   6.130\n",
       "4  21.165"
      ]
     },
     "execution_count": 167,
     "metadata": {},
     "output_type": "execute_result"
    }
   ],
   "source": [
    "pd.DataFrame(pred).head()"
   ]
  },
  {
   "cell_type": "code",
   "execution_count": 168,
   "metadata": {
    "collapsed": false
   },
   "outputs": [
    {
     "data": {
      "text/plain": [
       "array([-0.055 , -1.85  ,  0.22  ,  0.08  ,  1.0489,  0.2401,  0.19  ,\n",
       "       -1.7   , -0.758 ,  0.07  ,  0.13  ,  0.105 ,  0.4501,  0.1084,\n",
       "       -0.6099, -0.11  ,  0.05  , -0.3819, -0.42  ,  0.315 ])"
      ]
     },
     "execution_count": 168,
     "metadata": {},
     "output_type": "execute_result"
    }
   ],
   "source": [
    "labels_test - pred"
   ]
  }
 ],
 "metadata": {
  "kernelspec": {
   "display_name": "Python 2",
   "language": "python",
   "name": "python2"
  },
  "language_info": {
   "codemirror_mode": {
    "name": "ipython",
    "version": 2
   },
   "file_extension": ".py",
   "mimetype": "text/x-python",
   "name": "python",
   "nbconvert_exporter": "python",
   "pygments_lexer": "ipython2",
   "version": "2.7.10"
  }
 },
 "nbformat": 4,
 "nbformat_minor": 0
}
