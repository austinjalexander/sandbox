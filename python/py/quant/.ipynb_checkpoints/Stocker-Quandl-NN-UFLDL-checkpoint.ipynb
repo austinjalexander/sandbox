{
 "cells": [
  {
   "cell_type": "code",
   "execution_count": 1,
   "metadata": {
    "collapsed": true
   },
   "outputs": [],
   "source": [
    "from imports import *\n",
    "import avg_clf_train\n",
    "import import_data\n",
    "from theano import *\n",
    "from theano import tensor as T\n",
    "\n",
    "%matplotlib inline"
   ]
  },
  {
   "cell_type": "markdown",
   "metadata": {},
   "source": [
    "---"
   ]
  },
  {
   "cell_type": "code",
   "execution_count": 2,
   "metadata": {
    "collapsed": false
   },
   "outputs": [
    {
     "data": {
      "text/plain": [
       "'\\nX = np.array([[0,0,1],\\n              [0,1,1],\\n              [1,0,1],\\n              [1,1,1]])\\n\\nprint X.shape\\n\\ny = np.array([[0,0,1,1]]).T\\n\\nprint y.shape\\n'"
      ]
     },
     "execution_count": 2,
     "metadata": {},
     "output_type": "execute_result"
    }
   ],
   "source": [
    "'''\n",
    "X = np.array([[0,0,1],\n",
    "              [0,1,1],\n",
    "              [1,0,1],\n",
    "              [1,1,1]])\n",
    "\n",
    "print X.shape\n",
    "\n",
    "y = np.array([[0,0,1,1]]).T\n",
    "\n",
    "print y.shape\n",
    "'''"
   ]
  },
  {
   "cell_type": "code",
   "execution_count": 3,
   "metadata": {
    "collapsed": false
   },
   "outputs": [
    {
     "data": {
      "text/plain": [
       "'\\nX = T.dmatrix()\\nw = T.vector()\\ny = T.vector()\\n\\nXw = X * w\\nsigmoid = 1 / (1+T.exp(-Xw))\\n\\nlayer1 = function([Xw], sigmoid)\\n'"
      ]
     },
     "execution_count": 3,
     "metadata": {},
     "output_type": "execute_result"
    }
   ],
   "source": [
    "'''\n",
    "X = T.dmatrix()\n",
    "w = T.vector()\n",
    "y = T.vector()\n",
    "\n",
    "Xw = X * w\n",
    "sigmoid = 1 / (1+T.exp(-Xw))\n",
    "\n",
    "layer1 = function([Xw], sigmoid)\n",
    "'''"
   ]
  },
  {
   "cell_type": "markdown",
   "metadata": {},
   "source": [
    "---"
   ]
  },
  {
   "cell_type": "code",
   "execution_count": 4,
   "metadata": {
    "collapsed": false
   },
   "outputs": [
    {
     "name": "stdout",
     "output_type": "stream",
     "text": [
      "(134150, 10)\n"
     ]
    },
    {
     "data": {
      "text/html": [
       "<div style=\"max-height:1000px;max-width:1500px;overflow:auto;\">\n",
       "<table border=\"1\" class=\"dataframe\">\n",
       "  <thead>\n",
       "    <tr style=\"text-align: right;\">\n",
       "      <th></th>\n",
       "      <th>Open</th>\n",
       "      <th>High</th>\n",
       "      <th>Low</th>\n",
       "      <th>Close</th>\n",
       "      <th>Volume</th>\n",
       "      <th>50dravg</th>\n",
       "      <th>200dravg</th>\n",
       "      <th>OC%</th>\n",
       "      <th>HL%</th>\n",
       "      <th>label</th>\n",
       "    </tr>\n",
       "  </thead>\n",
       "  <tbody>\n",
       "    <tr>\n",
       "      <th>4096</th>\n",
       "      <td>0.52</td>\n",
       "      <td>0.53</td>\n",
       "      <td>0.50</td>\n",
       "      <td>0.52</td>\n",
       "      <td>1093100</td>\n",
       "      <td>0.7780</td>\n",
       "      <td>0.38757</td>\n",
       "      <td>0.000000</td>\n",
       "      <td>0.060</td>\n",
       "      <td>0</td>\n",
       "    </tr>\n",
       "    <tr>\n",
       "      <th>4097</th>\n",
       "      <td>0.52</td>\n",
       "      <td>0.52</td>\n",
       "      <td>0.50</td>\n",
       "      <td>0.52</td>\n",
       "      <td>226000</td>\n",
       "      <td>0.7808</td>\n",
       "      <td>0.38852</td>\n",
       "      <td>0.000000</td>\n",
       "      <td>0.040</td>\n",
       "      <td>0</td>\n",
       "    </tr>\n",
       "    <tr>\n",
       "      <th>4098</th>\n",
       "      <td>0.51</td>\n",
       "      <td>0.52</td>\n",
       "      <td>0.50</td>\n",
       "      <td>0.51</td>\n",
       "      <td>583300</td>\n",
       "      <td>0.7838</td>\n",
       "      <td>0.38927</td>\n",
       "      <td>0.000000</td>\n",
       "      <td>0.040</td>\n",
       "      <td>1</td>\n",
       "    </tr>\n",
       "    <tr>\n",
       "      <th>4099</th>\n",
       "      <td>0.51</td>\n",
       "      <td>0.56</td>\n",
       "      <td>0.50</td>\n",
       "      <td>0.56</td>\n",
       "      <td>475900</td>\n",
       "      <td>0.7884</td>\n",
       "      <td>0.39017</td>\n",
       "      <td>0.098039</td>\n",
       "      <td>0.120</td>\n",
       "      <td>0</td>\n",
       "    </tr>\n",
       "    <tr>\n",
       "      <th>4100</th>\n",
       "      <td>0.57</td>\n",
       "      <td>0.63</td>\n",
       "      <td>0.56</td>\n",
       "      <td>0.57</td>\n",
       "      <td>1537100</td>\n",
       "      <td>0.7928</td>\n",
       "      <td>0.39107</td>\n",
       "      <td>0.000000</td>\n",
       "      <td>0.125</td>\n",
       "      <td>0</td>\n",
       "    </tr>\n",
       "  </tbody>\n",
       "</table>\n",
       "</div>"
      ],
      "text/plain": [
       "      Open  High   Low  Close   Volume  50dravg  200dravg       OC%    HL%  \\\n",
       "4096  0.52  0.53  0.50   0.52  1093100   0.7780   0.38757  0.000000  0.060   \n",
       "4097  0.52  0.52  0.50   0.52   226000   0.7808   0.38852  0.000000  0.040   \n",
       "4098  0.51  0.52  0.50   0.51   583300   0.7838   0.38927  0.000000  0.040   \n",
       "4099  0.51  0.56  0.50   0.56   475900   0.7884   0.39017  0.098039  0.120   \n",
       "4100  0.57  0.63  0.56   0.57  1537100   0.7928   0.39107  0.000000  0.125   \n",
       "\n",
       "      label  \n",
       "4096      0  \n",
       "4097      0  \n",
       "4098      1  \n",
       "4099      0  \n",
       "4100      0  "
      ]
     },
     "execution_count": 4,
     "metadata": {},
     "output_type": "execute_result"
    }
   ],
   "source": [
    "tickers = [filename[:-4] for filename in os.listdir('quandl_data')]\n",
    "\n",
    "stock_df, prediction_df = import_data.import_data(tickers)\n",
    "print stock_df.shape\n",
    "stock_df.tail()"
   ]
  },
  {
   "cell_type": "code",
   "execution_count": 5,
   "metadata": {
    "collapsed": false
   },
   "outputs": [
    {
     "name": "stdout",
     "output_type": "stream",
     "text": [
      "(134150, 9) (134150, 1)\n"
     ]
    }
   ],
   "source": [
    "y = stock_df['label'].values\n",
    "y = y.reshape(y.shape[0], 1)\n",
    "\n",
    "stock_df = stock_df.drop('label', axis=1)\n",
    "X = stock_df.values\n",
    "\n",
    "print X.shape, y.shape"
   ]
  },
  {
   "cell_type": "code",
   "execution_count": 6,
   "metadata": {
    "collapsed": false
   },
   "outputs": [],
   "source": [
    "new_y = []\n",
    "for i in xrange(y.shape[0]):\n",
    "    if y[i] == 0:\n",
    "        new_y.append(np.array([[1],[0]]))\n",
    "    elif y[i] == 1:\n",
    "        new_y.append(np.array([[0],[1]]))\n",
    "        \n",
    "y = new_y"
   ]
  },
  {
   "cell_type": "code",
   "execution_count": 7,
   "metadata": {
    "collapsed": false
   },
   "outputs": [
    {
     "data": {
      "text/plain": [
       "array([[ 0.0076876 ,  0.00847293,  0.00725023, ...,  0.04623293,\n",
       "         0.21619189,  0.04217096],\n",
       "       [ 0.00869581,  0.00930566,  0.00881316, ...,  0.04605935,\n",
       "         0.1874379 ,  0.01970069],\n",
       "       [ 0.00919992,  0.00918075,  0.00887828, ...,  0.04587912,\n",
       "         0.18168801,  0.01536585],\n",
       "       ..., \n",
       "       [ 0.00102963,  0.00104132,  0.00106408, ...,  0.00087466,\n",
       "         0.19205459,  0.00763636],\n",
       "       [ 0.00102963,  0.00112463,  0.00106408, ...,  0.00087706,\n",
       "         0.2155907 ,  0.02290909],\n",
       "       [ 0.0011557 ,  0.00127041,  0.00119438, ...,  0.00087945,\n",
       "         0.19205459,  0.02386364]])"
      ]
     },
     "execution_count": 7,
     "metadata": {},
     "output_type": "execute_result"
    }
   ],
   "source": [
    "scaler = MinMaxScaler()\n",
    "X = scaler.fit_transform(X)\n",
    "X"
   ]
  },
  {
   "cell_type": "markdown",
   "metadata": {},
   "source": [
    "---"
   ]
  },
  {
   "cell_type": "code",
   "execution_count": 8,
   "metadata": {
    "collapsed": false
   },
   "outputs": [],
   "source": [
    "# number of layers\n",
    "L = 4\n",
    "# number of nodes per layer\n",
    "s = [9, 9, 9, 2]"
   ]
  },
  {
   "cell_type": "code",
   "execution_count": 9,
   "metadata": {
    "collapsed": false
   },
   "outputs": [],
   "source": [
    "def create_W_and_b(L,s):\n",
    "    # weight matrices\n",
    "    W = []\n",
    "    for l in xrange(L-1):\n",
    "        np.random.seed(l)\n",
    "\n",
    "        W.append(np.random.standard_normal((s[l+1],s[l])))\n",
    "        W[l] = W[l] * 0.01\n",
    "\n",
    "    # biases\n",
    "    b = []\n",
    "    for w in W:\n",
    "        b.append(np.ones((w.shape[0],1)))\n",
    "    \n",
    "    return W, b\n",
    "#W, b = create_W_and_b(L,s)\n",
    "#print \"W:\", [w.shape for w in W]\n",
    "#print W[0]\n",
    "#print \"b:\", [b_l.shape for b_l in b]"
   ]
  },
  {
   "cell_type": "code",
   "execution_count": 10,
   "metadata": {
    "collapsed": true
   },
   "outputs": [],
   "source": [
    "def f(z):\n",
    "    return np.true_divide(1, (1+np.exp(-z)))"
   ]
  },
  {
   "cell_type": "code",
   "execution_count": 11,
   "metadata": {
    "collapsed": true
   },
   "outputs": [],
   "source": [
    "def f_prime(z):\n",
    "    return np.multiply(z, (1 - z))"
   ]
  },
  {
   "cell_type": "code",
   "execution_count": 12,
   "metadata": {
    "collapsed": false
   },
   "outputs": [],
   "source": [
    "# static version\n",
    "'''\n",
    "def forward_propagation(W,x,b):\n",
    "    x = x.reshape(9,1)\n",
    "    a0 = x\n",
    "    z1 = W[0].dot(a0) + b[0]\n",
    "    a1 = f(z1)\n",
    "    z2 = W[1].dot(a1) + b[1]\n",
    "    a2 = f(z2)\n",
    "    z3 = W[2].dot(a2) + b[2]\n",
    "    a3 = f(z3)\n",
    "    \n",
    "    return [z1,z2,z3], [a1, a1,a2,a3]\n",
    "'''\n",
    "# dynamic version\n",
    "def forward_propagation(W,x_i,b):\n",
    "    a0 = x_i.reshape(9,1)\n",
    "    a = [a0]\n",
    "    z = []\n",
    "\n",
    "    for l in xrange(len(W)):\n",
    "        \n",
    "        z_l = W[l].dot(a[l]) + b[l]\n",
    "        z.append(z_l)\n",
    "\n",
    "        a_l = f(z[l])\n",
    "        a.append(a_l)\n",
    "    \n",
    "    return z, a\n",
    "#i = 399\n",
    "#z, a = forward_propagation(W,X[i,:],b)\n",
    "#print len(z), len(a)\n",
    "#print [a_l.shape for a_l in a]\n",
    "#print a[-1]\n",
    "#print z"
   ]
  },
  {
   "cell_type": "code",
   "execution_count": 13,
   "metadata": {
    "collapsed": false
   },
   "outputs": [],
   "source": [
    "def back_propagation(z,a,W,y_i):\n",
    "    z.insert(0,0) # 0 as a first-element placeholder to align z and a\n",
    "    \n",
    "    # output layer error\n",
    "    d3 = np.multiply(-(y_i - a[3]), f_prime(z[3]))\n",
    "    \n",
    "    # hidden layers\n",
    "    d2 = np.multiply(W[2].T.dot(d3), f_prime(z[2]))\n",
    "    d1 = np.multiply(W[1].T.dot(d2), f_prime(z[1]))\n",
    "    \n",
    "    return d1, d2, d3\n",
    "#back_propagation(z,a,W,y[0])"
   ]
  },
  {
   "cell_type": "code",
   "execution_count": 14,
   "metadata": {
    "collapsed": true
   },
   "outputs": [],
   "source": [
    "def J(m, lambda_reg, W, h_Wb, y):\n",
    "    left_sum = 0\n",
    "    for i in xrange(m):\n",
    "        left_sum += np.true_divide((np.linalg.norm(h_Wb[i] - y[i])**2),2)\n",
    "    cost = np.true_divide(left_sum, m) \n",
    "    \n",
    "    right_sum = 0\n",
    "    for w in W:\n",
    "        right_sum += np.sum(np.square(w))\n",
    "    reg = np.true_divide(lambda_reg, 2) * right_sum\n",
    "    \n",
    "    return cost + reg"
   ]
  },
  {
   "cell_type": "code",
   "execution_count": 44,
   "metadata": {
    "collapsed": false
   },
   "outputs": [],
   "source": [
    "def gradient_checking(m, lambda_reg, w, h_Wb, y):\n",
    "    \n",
    "    epsilon = 10**-4\n",
    "    \n",
    "    theta = np.ravel(w)\n",
    "    theta = theta.reshape(theta.shape[0],1)\n",
    "    \n",
    "    grad_approx = np.zeros((theta.shape))\n",
    "    \n",
    "    e = np.zeros((theta.shape))\n",
    "    \n",
    "    theta_pos = theta\n",
    "    theta_neg = theta\n",
    "    \n",
    "    for i in xrange(theta.shape[0]):\n",
    "        e[i] = 1\n",
    "    \n",
    "        theta_pos[i] = theta_pos[i] + epsilon#(epsilon * e[i])\n",
    "        theta_neg[i] = theta_neg[i] - epsilon#(epsilon * e[i])\n",
    "    \n",
    "        g = np.true_divide((J(m, lambda_reg, theta_pos, h_Wb, y) - J(m, lambda_reg, theta_neg, h_Wb, y)), (2 * epsilon))\n",
    "\n",
    "        grad_approx[i] = g\n",
    "        \n",
    "    return grad_approx\n",
    "#gradient_checking(m, lambda_reg, W[0], h_Wb, y)"
   ]
  },
  {
   "cell_type": "code",
   "execution_count": 43,
   "metadata": {
    "collapsed": false,
    "scrolled": false
   },
   "outputs": [
    {
     "data": {
      "image/png": "[encoded data removed]",
      "text/plain": [
       "<matplotlib.figure.Figure at 0x11f6ef050>"
      ]
     },
     "metadata": {},
     "output_type": "display_data"
    }
   ],
   "source": [
    "W, b = create_W_and_b(L,s)\n",
    "\n",
    "Delta_W_0 = np.zeros(W[0].shape)\n",
    "Delta_b_0 = np.zeros(b[0].shape)\n",
    "\n",
    "Delta_W_1 = np.zeros(W[1].shape)\n",
    "Delta_b_1 = np.zeros(b[1].shape)\n",
    "\n",
    "Delta_W_2 = np.zeros(W[2].shape)\n",
    "Delta_b_2 = np.zeros(b[2].shape)\n",
    "\n",
    "h_Wb = []\n",
    "\n",
    "alpha = 0.1\n",
    "lambda_reg = 10.0\n",
    "\n",
    "costs = []\n",
    "\n",
    "batches = 10\n",
    "\n",
    "m = 100\n",
    "\n",
    "for batch in xrange(batches):\n",
    "    for i in xrange(m):\n",
    "        z,a = forward_propagation(W,X[i,:],b)\n",
    "\n",
    "        h_Wb.append(a[-1])\n",
    "\n",
    "        d1,d2,d3 = back_propagation(z,a,W,y[i])\n",
    "\n",
    "        # partial derivatives\n",
    "        Delta_W_0 += d1.dot(a[0].T)\n",
    "        Delta_b_0 += d1\n",
    "\n",
    "        Delta_W_1 += d2.dot(a[1].T)\n",
    "        Delta_b_1 += d2\n",
    "\n",
    "        Delta_W_2 += d3.dot(a[2].T)\n",
    "        Delta_b_2 += d3\n",
    "\n",
    "    #print np.sum(Delta_W_0)\n",
    "    #print np.sum(gradient_checking(m, lambda_reg, W[0], h_Wb[:m], y[:m]))\n",
    "\n",
    "    W[0] -= alpha * ((np.true_divide(Delta_W_0, m) * (lambda_reg * W[0])))\n",
    "    b[0] -= alpha * (np.true_divide(Delta_b_0, m))\n",
    "\n",
    "    W[1] -= alpha * ((np.true_divide(Delta_W_1, m) * (lambda_reg * W[1])))\n",
    "    b[1] -= alpha * (np.true_divide(Delta_b_1, m))\n",
    "\n",
    "    W[2] -= alpha * ((np.true_divide(Delta_W_2, m) * (lambda_reg * W[2])))\n",
    "    b[2] -= alpha * (np.true_divide(Delta_b_2, m))\n",
    "    \n",
    "    costs.append(J(i, lambda_reg, W, h_Wb, y))\n",
    "    \n",
    "\n",
    "\n",
    "plt.plot([x for x in xrange(batches)], costs)\n",
    "plt.show()"
   ]
  },
  {
   "cell_type": "code",
   "execution_count": 36,
   "metadata": {
    "collapsed": false
   },
   "outputs": [
    {
     "data": {
      "text/plain": [
       "array([[ -3.06561573e-05,  -3.98447659e-06,  -1.66187494e-04,\n",
       "          1.12678620e-04,  -1.37598280e-04,  -6.38599273e-05,\n",
       "          4.07134475e-05,  -9.58621574e-05,  -7.99128002e-05],\n",
       "       [ -7.28754782e-03,   4.42497084e-03,   1.83514477e-02,\n",
       "          3.33550253e-04,  -8.95321616e-03,   4.31840718e-03,\n",
       "         -4.76790002e-03,  -1.53199198e-04,   9.41397317e-03]])"
      ]
     },
     "execution_count": 36,
     "metadata": {},
     "output_type": "execute_result"
    }
   ],
   "source": [
    "W[2]"
   ]
  },
  {
   "cell_type": "code",
   "execution_count": 37,
   "metadata": {
    "collapsed": true
   },
   "outputs": [],
   "source": [
    "pred_df = prediction_df[prediction_df['label'].apply(np.isnan) == True]"
   ]
  },
  {
   "cell_type": "code",
   "execution_count": 38,
   "metadata": {
    "collapsed": true
   },
   "outputs": [],
   "source": [
    "pred_tickers = pred_df['ticker'].unique()"
   ]
  },
  {
   "cell_type": "code",
   "execution_count": 39,
   "metadata": {
    "collapsed": false
   },
   "outputs": [
    {
     "name": "stdout",
     "output_type": "stream",
     "text": [
      "(63, 9)\n",
      "[  9.20000000e-01   9.20000000e-01   8.70000000e-01   9.00000000e-01\n",
      "   1.93900000e+05   1.07040000e+00   8.91100000e-01  -2.17391304e-02\n",
      "   5.74712644e-02]\n"
     ]
    }
   ],
   "source": [
    "pred_X = pred_df.drop(['ticker','label'], axis=1).values\n",
    "print pred_X.shape\n",
    "print pred_X[0]"
   ]
  },
  {
   "cell_type": "code",
   "execution_count": 41,
   "metadata": {
    "collapsed": false
   },
   "outputs": [
    {
     "name": "stdout",
     "output_type": "stream",
     "text": [
      " 0 ABIO [[ 0.43]\n",
      " [ 0.73]]\n",
      " 1 ACOR [[ 0.43]\n",
      " [ 0.73]]\n",
      " 2 AERI [[ 0.43]\n",
      " [ 0.73]]\n",
      " 3 AFFX [[ 0.43]\n",
      " [ 0.73]]\n",
      " 4 AGEN [[ 0.43]\n",
      " [ 0.73]]\n",
      " 5 ARIA [[ 0.43]\n",
      " [ 0.73]]\n",
      " 6 ARNA [[ 0.43]\n",
      " [ 0.73]]\n",
      " 7 ARWR [[ 0.43]\n",
      " [ 0.73]]\n",
      " 8 ATNM [[ 0.43]\n",
      " [ 0.73]]\n",
      " 9 AVXL [[ 0.43]\n",
      " [ 0.73]]\n",
      "10 AXDX [[ 0.43]\n",
      " [ 0.73]]\n",
      "11  AXN [[ 0.43]\n",
      " [ 0.73]]\n",
      "12 BABY [[ 0.43]\n",
      " [ 0.73]]\n",
      "13 BCRX [[ 0.43]\n",
      " [ 0.73]]\n",
      "14 BGMD [[ 0.43]\n",
      " [ 0.73]]\n",
      "15 BIIB [[ 0.43]\n",
      " [ 0.73]]\n",
      "16 BLUE [[ 0.43]\n",
      " [ 0.73]]\n",
      "17 BRKR [[ 0.43]\n",
      " [ 0.73]]\n",
      "18 CBMG [[ 0.43]\n",
      " [ 0.73]]\n",
      "19 CBPO [[ 0.43]\n",
      " [ 0.73]]\n",
      "20 CGEN [[ 0.43]\n",
      " [ 0.73]]\n",
      "21 CLDN [[ 0.43]\n",
      " [ 0.73]]\n",
      "22 CLDX [[ 0.43]\n",
      " [ 0.73]]\n",
      "23 COHR [[ 0.43]\n",
      " [ 0.73]]\n",
      "24 CPHD [[ 0.43]\n",
      " [ 0.73]]\n",
      "25 CPRX [[ 0.43]\n",
      " [ 0.73]]\n",
      "26 CRIS [[ 0.43]\n",
      " [ 0.73]]\n",
      "27 CYBX [[ 0.43]\n",
      " [ 0.73]]\n",
      "28 CYNO [[ 0.43]\n",
      " [ 0.73]]\n",
      "29 CYTR [[ 0.43]\n",
      " [ 0.73]]\n",
      "30 DSCO [[ 0.43]\n",
      " [ 0.73]]\n",
      "31 DYAX [[ 0.43]\n",
      " [ 0.73]]\n",
      "32 ECYT [[ 0.43]\n",
      " [ 0.73]]\n",
      "33 ENZN [[ 0.43]\n",
      " [ 0.73]]\n",
      "34 ETRM [[ 0.43]\n",
      " [ 0.73]]\n",
      "35 EXAS [[ 0.43]\n",
      " [ 0.73]]\n",
      "36 EXEL [[ 0.43]\n",
      " [ 0.73]]\n",
      "37 FATE [[ 0.43]\n",
      " [ 0.73]]\n",
      "38 FEIC [[ 0.43]\n",
      " [ 0.73]]\n",
      "39 FLDM [[ 0.43]\n",
      " [ 0.73]]\n",
      "40 GILD [[ 0.43]\n",
      " [ 0.73]]\n",
      "41 GNCA [[ 0.43]\n",
      " [ 0.73]]\n",
      "42 HALO [[ 0.43]\n",
      " [ 0.73]]\n",
      "43 IART [[ 0.43]\n",
      " [ 0.73]]\n",
      "44 IDRA [[ 0.43]\n",
      " [ 0.73]]\n",
      "45 IDXX [[ 0.43]\n",
      " [ 0.73]]\n",
      "46 ILMN [[ 0.43]\n",
      " [ 0.73]]\n",
      "47 IMMU [[ 0.43]\n",
      " [ 0.73]]\n",
      "48 IMRS [[ 0.43]\n",
      " [ 0.73]]\n",
      "49 INCY [[ 0.43]\n",
      " [ 0.73]]\n",
      "50  INO [[ 0.43]\n",
      " [ 0.73]]\n",
      "51 LPCN [[ 0.43]\n",
      " [ 0.73]]\n",
      "52 MEIP [[ 0.43]\n",
      " [ 0.73]]\n",
      "53 MNKD [[ 0.43]\n",
      " [ 0.73]]\n",
      "54 OREX [[ 0.43]\n",
      " [ 0.73]]\n",
      "55 PGNX [[ 0.43]\n",
      " [ 0.73]]\n",
      "56 QLTI [[ 0.43]\n",
      " [ 0.73]]\n",
      "57 RMTI [[ 0.43]\n",
      " [ 0.73]]\n",
      "58 SGYP [[ 0.43]\n",
      " [ 0.73]]\n",
      "59  SYN [[ 0.43]\n",
      " [ 0.73]]\n",
      "60 THLD [[ 0.43]\n",
      " [ 0.73]]\n",
      "61 TNXP [[ 0.43]\n",
      " [ 0.73]]\n",
      "62 TPIV [[ 0.43]\n",
      " [ 0.73]]\n"
     ]
    }
   ],
   "source": [
    "for i in xrange(pred_X.shape[0]):\n",
    "    z,a = forward_propagation(W,pred_X[i,:],b)\n",
    "    print str(i).rjust(2), str(pred_tickers[i]).rjust(4), np.round(a[-1], 2)"
   ]
  },
  {
   "cell_type": "code",
   "execution_count": null,
   "metadata": {
    "collapsed": true
   },
   "outputs": [],
   "source": []
  },
  {
   "cell_type": "code",
   "execution_count": null,
   "metadata": {
    "collapsed": true
   },
   "outputs": [],
   "source": []
  },
  {
   "cell_type": "code",
   "execution_count": null,
   "metadata": {
    "collapsed": true
   },
   "outputs": [],
   "source": []
  },
  {
   "cell_type": "code",
   "execution_count": null,
   "metadata": {
    "collapsed": true
   },
   "outputs": [],
   "source": []
  },
  {
   "cell_type": "code",
   "execution_count": null,
   "metadata": {
    "collapsed": true
   },
   "outputs": [],
   "source": []
  },
  {
   "cell_type": "code",
   "execution_count": null,
   "metadata": {
    "collapsed": true
   },
   "outputs": [],
   "source": []
  },
  {
   "cell_type": "code",
   "execution_count": null,
   "metadata": {
    "collapsed": true
   },
   "outputs": [],
   "source": []
  },
  {
   "cell_type": "code",
   "execution_count": null,
   "metadata": {
    "collapsed": true
   },
   "outputs": [],
   "source": []
  },
  {
   "cell_type": "code",
   "execution_count": null,
   "metadata": {
    "collapsed": true
   },
   "outputs": [],
   "source": []
  },
  {
   "cell_type": "code",
   "execution_count": null,
   "metadata": {
    "collapsed": true
   },
   "outputs": [],
   "source": []
  },
  {
   "cell_type": "code",
   "execution_count": null,
   "metadata": {
    "collapsed": true
   },
   "outputs": [],
   "source": []
  },
  {
   "cell_type": "code",
   "execution_count": null,
   "metadata": {
    "collapsed": true
   },
   "outputs": [],
   "source": []
  },
  {
   "cell_type": "code",
   "execution_count": null,
   "metadata": {
    "collapsed": true
   },
   "outputs": [],
   "source": []
  },
  {
   "cell_type": "code",
   "execution_count": null,
   "metadata": {
    "collapsed": true
   },
   "outputs": [],
   "source": []
  },
  {
   "cell_type": "code",
   "execution_count": null,
   "metadata": {
    "collapsed": true
   },
   "outputs": [],
   "source": []
  },
  {
   "cell_type": "code",
   "execution_count": null,
   "metadata": {
    "collapsed": true
   },
   "outputs": [],
   "source": []
  },
  {
   "cell_type": "code",
   "execution_count": 25,
   "metadata": {
    "collapsed": false
   },
   "outputs": [
    {
     "name": "stdout",
     "output_type": "stream",
     "text": [
      "0 ABIO"
     ]
    },
    {
     "ename": "NameError",
     "evalue": "name 'y_predictions' is not defined",
     "output_type": "error",
     "traceback": [
      "\u001b[0;31m---------------------------------------------------------------------------\u001b[0m",
      "\u001b[0;31mNameError\u001b[0m                                 Traceback (most recent call last)",
      "\u001b[0;32m<ipython-input-25-424c0eed27cc>\u001b[0m in \u001b[0;36m<module>\u001b[0;34m()\u001b[0m\n\u001b[1;32m      1\u001b[0m \u001b[0mpositive_tickers\u001b[0m \u001b[0;34m=\u001b[0m \u001b[0;34m[\u001b[0m\u001b[0;34m]\u001b[0m\u001b[0;34m\u001b[0m\u001b[0m\n\u001b[1;32m      2\u001b[0m \u001b[0;32mfor\u001b[0m \u001b[0mi\u001b[0m \u001b[0;32min\u001b[0m \u001b[0mxrange\u001b[0m\u001b[0;34m(\u001b[0m\u001b[0mlen\u001b[0m\u001b[0;34m(\u001b[0m\u001b[0mpred_tickers\u001b[0m\u001b[0;34m)\u001b[0m\u001b[0;34m)\u001b[0m\u001b[0;34m:\u001b[0m\u001b[0;34m\u001b[0m\u001b[0m\n\u001b[0;32m----> 3\u001b[0;31m     \u001b[0;32mprint\u001b[0m \u001b[0mi\u001b[0m\u001b[0;34m,\u001b[0m \u001b[0mpred_tickers\u001b[0m\u001b[0;34m[\u001b[0m\u001b[0mi\u001b[0m\u001b[0;34m]\u001b[0m\u001b[0;34m,\u001b[0m \u001b[0my_predictions\u001b[0m\u001b[0;34m[\u001b[0m\u001b[0mi\u001b[0m\u001b[0;34m]\u001b[0m\u001b[0;34m\u001b[0m\u001b[0m\n\u001b[0m\u001b[1;32m      4\u001b[0m     \u001b[0;32mif\u001b[0m \u001b[0my_predictions\u001b[0m\u001b[0;34m[\u001b[0m\u001b[0mi\u001b[0m\u001b[0;34m]\u001b[0m \u001b[0;34m==\u001b[0m \u001b[0;36m1\u001b[0m\u001b[0;34m:\u001b[0m\u001b[0;34m\u001b[0m\u001b[0m\n\u001b[1;32m      5\u001b[0m         \u001b[0mpositive_tickers\u001b[0m\u001b[0;34m.\u001b[0m\u001b[0mappend\u001b[0m\u001b[0;34m(\u001b[0m\u001b[0mpred_tickers\u001b[0m\u001b[0;34m[\u001b[0m\u001b[0mi\u001b[0m\u001b[0;34m]\u001b[0m\u001b[0;34m)\u001b[0m\u001b[0;34m\u001b[0m\u001b[0m\n",
      "\u001b[0;31mNameError\u001b[0m: name 'y_predictions' is not defined"
     ]
    }
   ],
   "source": [
    "positive_tickers = []\n",
    "for i in xrange(len(pred_tickers)):\n",
    "    print i, pred_tickers[i], y_predictions[i]\n",
    "    if y_predictions[i] == 1:\n",
    "        positive_tickers.append(pred_tickers[i])"
   ]
  },
  {
   "cell_type": "code",
   "execution_count": null,
   "metadata": {
    "collapsed": true
   },
   "outputs": [],
   "source": [
    "for ticker in positive_tickers:\n",
    "    \n",
    "    past_days = 100\n",
    "    \n",
    "    oc = prediction_df[prediction_df['ticker'] == ticker][\"OC%\"][-past_days:]\n",
    "    \n",
    "    num_days = oc.shape[0]\n",
    "    \n",
    "    day_range = np.arange(num_days)\n",
    "    \n",
    "    plt.plot(day_range, oc, alpha=0.5)\n",
    "    plt.plot(day_range, [0.05 for x in day_range], color='r')\n",
    "    plt.title(\"{0} (previous {1} days)\".format(ticker, num_days))\n",
    "    plt.show()\n",
    "\n",
    "    print \"\\t\", ticker, \"{}-day freq probability:\".format(past_days), np.true_divide(np.sum(oc.values > 0.05), past_days)\n",
    "    print \"~\"*50, \"\\n\"  "
   ]
  },
  {
   "cell_type": "code",
   "execution_count": null,
   "metadata": {
    "collapsed": true
   },
   "outputs": [],
   "source": []
  },
  {
   "cell_type": "code",
   "execution_count": null,
   "metadata": {
    "collapsed": true
   },
   "outputs": [],
   "source": []
  },
  {
   "cell_type": "code",
   "execution_count": null,
   "metadata": {
    "collapsed": true
   },
   "outputs": [],
   "source": []
  },
  {
   "cell_type": "code",
   "execution_count": null,
   "metadata": {
    "collapsed": true
   },
   "outputs": [],
   "source": []
  },
  {
   "cell_type": "code",
   "execution_count": null,
   "metadata": {
    "collapsed": true
   },
   "outputs": [],
   "source": []
  },
  {
   "cell_type": "code",
   "execution_count": null,
   "metadata": {
    "collapsed": true
   },
   "outputs": [],
   "source": []
  },
  {
   "cell_type": "code",
   "execution_count": null,
   "metadata": {
    "collapsed": true
   },
   "outputs": [],
   "source": []
  },
  {
   "cell_type": "code",
   "execution_count": null,
   "metadata": {
    "collapsed": false
   },
   "outputs": [],
   "source": [
    "'''\n",
    "#errors = []\n",
    "iterations = 1\n",
    "\n",
    "for i in xrange(iterations):\n",
    "\n",
    "    \n",
    "#plt.plot([x for x in xrange(iterations)], errors)\n",
    "#plt.show()\n",
    "'''"
   ]
  },
  {
   "cell_type": "code",
   "execution_count": null,
   "metadata": {
    "collapsed": false
   },
   "outputs": [],
   "source": [
    "'''\n",
    "X = np.array([[1,2,3,4],\n",
    "              [1,3,4,5],\n",
    "              [1,6,7,8],\n",
    "              [1,5,4,3],\n",
    "              [1,2,3,3]])\n",
    "print X.shape\n",
    "\n",
    "theta1 = np.array([[2,2,3,4],\n",
    "                   [4,3,4,5],\n",
    "                   [6,6,7,8]])\n",
    "\n",
    "print theta1.T\n",
    "print theta1.shape\n",
    "\n",
    "print X.dot(theta1.T)\n",
    "print X.dot(theta1.T).shape\n",
    "'''"
   ]
  }
 ],
 "metadata": {
  "kernelspec": {
   "display_name": "Python 2",
   "language": "python",
   "name": "python2"
  },
  "language_info": {
   "codemirror_mode": {
    "name": "ipython",
    "version": 2
   },
   "file_extension": ".py",
   "mimetype": "text/x-python",
   "name": "python",
   "nbconvert_exporter": "python",
   "pygments_lexer": "ipython2",
   "version": "2.7.10"
  }
 },
 "nbformat": 4,
 "nbformat_minor": 0
}
