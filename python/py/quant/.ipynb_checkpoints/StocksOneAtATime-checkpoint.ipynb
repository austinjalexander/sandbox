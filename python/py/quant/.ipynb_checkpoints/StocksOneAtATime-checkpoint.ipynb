{
 "cells": [
  {
   "cell_type": "code",
   "execution_count": 724,
   "metadata": {
    "collapsed": true
   },
   "outputs": [],
   "source": [
    "import requests\n",
    "import csv\n",
    "import numpy as np\n",
    "import pandas as pd\n",
    "import datetime\n",
    "import Quandl\n",
    "from matplotlib import pyplot as plt\n",
    "from sklearn.cross_validation import train_test_split\n",
    "from sklearn.metrics import accuracy_score\n",
    "from sklearn.linear_model import BayesianRidge\n",
    "from sklearn.naive_bayes import GaussianNB\n",
    "from sklearn.svm import SVC\n",
    "from sklearn.svm import SVR\n",
    "from sklearn import tree\n",
    "%matplotlib inline"
   ]
  },
  {
   "cell_type": "code",
   "execution_count": 725,
   "metadata": {
    "collapsed": false
   },
   "outputs": [],
   "source": [
    "def get_stock_data(ticker, seconds_interval, num_of_days):\n",
    "    goog_fin_url = \"http://www.google.com/finance/getprices?q={0}&i={1}&p={2}d&f=d,o,h,l,c,v\".format(ticker, seconds_interval, num_of_days)\n",
    "\n",
    "    r = requests.get(goog_fin_url)\n",
    "    #print r.status_code\n",
    "    #print r.headers\n",
    "    #print r.content[:200]\n",
    "\n",
    "    # get data and convert to data frame\n",
    "    stock_df = pd.read_csv(goog_fin_url, skiprows=[0,1,2,3,5,6])\n",
    "    # rename column name\n",
    "    stock_df.rename(columns={'COLUMNS=DATE':'TIMEINDEX'}, inplace=True)\n",
    "    # remove 'a' from unix timestamps\n",
    "    stock_df.replace(to_replace={'TIMEINDEX':{'a':''}}, regex=True, inplace=True)\n",
    "    # get entire column and convert to ints\n",
    "    time_indices = [int(x) for x in stock_df['TIMEINDEX'].values]\n",
    "    # keep track of current timestamp\n",
    "    last_timestamp = time_indices[0]\n",
    "    # convert unix timestamp abbreviations into full unix timestamps\n",
    "    for i in range(len(time_indices)):\n",
    "        if time_indices[i] < last_timestamp:\n",
    "            time_indices[i] = last_timestamp + (time_indices[i] * int(seconds_interval))\n",
    "        else:\n",
    "            last_timestamp = time_indices[i]\n",
    "    # convert unix timestamps to human-readable formats\n",
    "    time_indices = [datetime.datetime.fromtimestamp(x).strftime('%Y-%m-%d %H:%M:%S') for x in time_indices]\n",
    "    # print first and last\n",
    "    print \"first: {}\".format(time_indices[0]), \"last: {}\".format(time_indices[-1])\n",
    "    \n",
    "    # keep 5-minute times (i.e., no dates)\n",
    "    times = [float(x[-8:-3].replace(':','.')) for x in time_indices]\n",
    "    # create new column in data frame\n",
    "    stock_df['TIMEINDEX'] = times\n",
    "    \n",
    "    # keep date\n",
    "    dates = [x[:10] for x in time_indices]\n",
    "    # create new column in data frame\n",
    "    stock_df['DATE'] = dates\n",
    "    \n",
    "    # remove values \n",
    "    #print \"remove lesser values after final (max): \", stock_df['TIMEINDEX'].unique()[-6:-1]\n",
    "    #for x in stock_df['TIMEINDEX'].unique()[-5:-1]:\n",
    "    #    stock_df = stock_df[stock_df['TIMEINDEX'] != x]\n",
    "    print \"shape:\", stock_df.shape\n",
    "    \n",
    "    return stock_df"
   ]
  },
  {
   "cell_type": "code",
   "execution_count": 726,
   "metadata": {
    "collapsed": false
   },
   "outputs": [
    {
     "name": "stdout",
     "output_type": "stream",
     "text": [
      "first: 2015-04-10 09:30:00 last: 2015-06-19 16:00:00\n",
      "shape: (693, 7)\n"
     ]
    },
    {
     "data": {
      "text/html": [
       "<div style=\"max-height:1000px;max-width:1500px;overflow:auto;\">\n",
       "<table border=\"1\" class=\"dataframe\">\n",
       "  <thead>\n",
       "    <tr style=\"text-align: right;\">\n",
       "      <th></th>\n",
       "      <th>TIMEINDEX</th>\n",
       "      <th>CLOSE</th>\n",
       "      <th>HIGH</th>\n",
       "      <th>LOW</th>\n",
       "      <th>OPEN</th>\n",
       "      <th>VOLUME</th>\n",
       "      <th>DATE</th>\n",
       "    </tr>\n",
       "  </thead>\n",
       "  <tbody>\n",
       "    <tr>\n",
       "      <th>0</th>\n",
       "      <td>9.3</td>\n",
       "      <td>6.1100</td>\n",
       "      <td>6.11</td>\n",
       "      <td>6.1100</td>\n",
       "      <td>6.11</td>\n",
       "      <td>250</td>\n",
       "      <td>2015-04-10</td>\n",
       "    </tr>\n",
       "    <tr>\n",
       "      <th>1</th>\n",
       "      <td>10.0</td>\n",
       "      <td>6.1200</td>\n",
       "      <td>6.13</td>\n",
       "      <td>6.1100</td>\n",
       "      <td>6.12</td>\n",
       "      <td>1400</td>\n",
       "      <td>2015-04-10</td>\n",
       "    </tr>\n",
       "    <tr>\n",
       "      <th>2</th>\n",
       "      <td>10.3</td>\n",
       "      <td>6.0999</td>\n",
       "      <td>6.12</td>\n",
       "      <td>6.0901</td>\n",
       "      <td>6.12</td>\n",
       "      <td>5087</td>\n",
       "      <td>2015-04-10</td>\n",
       "    </tr>\n",
       "    <tr>\n",
       "      <th>3</th>\n",
       "      <td>11.0</td>\n",
       "      <td>6.1000</td>\n",
       "      <td>6.12</td>\n",
       "      <td>6.1000</td>\n",
       "      <td>6.10</td>\n",
       "      <td>2640</td>\n",
       "      <td>2015-04-10</td>\n",
       "    </tr>\n",
       "    <tr>\n",
       "      <th>4</th>\n",
       "      <td>11.3</td>\n",
       "      <td>6.1200</td>\n",
       "      <td>6.13</td>\n",
       "      <td>6.1200</td>\n",
       "      <td>6.13</td>\n",
       "      <td>300</td>\n",
       "      <td>2015-04-10</td>\n",
       "    </tr>\n",
       "  </tbody>\n",
       "</table>\n",
       "</div>"
      ],
      "text/plain": [
       "   TIMEINDEX   CLOSE  HIGH     LOW  OPEN  VOLUME        DATE\n",
       "0        9.3  6.1100  6.11  6.1100  6.11     250  2015-04-10\n",
       "1       10.0  6.1200  6.13  6.1100  6.12    1400  2015-04-10\n",
       "2       10.3  6.0999  6.12  6.0901  6.12    5087  2015-04-10\n",
       "3       11.0  6.1000  6.12  6.1000  6.10    2640  2015-04-10\n",
       "4       11.3  6.1200  6.13  6.1200  6.13     300  2015-04-10"
      ]
     },
     "execution_count": 726,
     "metadata": {},
     "output_type": "execute_result"
    }
   ],
   "source": [
    "ticker = \"TNXP\" # TNXP, LPTH, NVDA, BLFS\n",
    "seconds_interval = \"1800\" # 300: 5-minute\n",
    "num_of_days = \"50\"\n",
    "stock_X_df = get_stock_data(ticker, seconds_interval, num_of_days)\n",
    "stock_X_df.head()"
   ]
  },
  {
   "cell_type": "code",
   "execution_count": 727,
   "metadata": {
    "collapsed": false
   },
   "outputs": [
    {
     "name": "stdout",
     "output_type": "stream",
     "text": [
      "78\n"
     ]
    }
   ],
   "source": [
    "num_of_cols = set()\n",
    "for date in stock_X_df['DATE'].unique():\n",
    "    num_of_cols.add(stock_X_df[stock_X_df['DATE'] == date].drop('DATE', axis=1).values.flatten().shape[0])\n",
    "min_num_of_cols = min(num_of_cols)\n",
    "print min_num_of_cols"
   ]
  },
  {
   "cell_type": "code",
   "execution_count": 728,
   "metadata": {
    "collapsed": false
   },
   "outputs": [
    {
     "name": "stdout",
     "output_type": "stream",
     "text": [
      "(49, 78)\n"
     ]
    },
    {
     "data": {
      "text/html": [
       "<div style=\"max-height:1000px;max-width:1500px;overflow:auto;\">\n",
       "<table border=\"1\" class=\"dataframe\">\n",
       "  <thead>\n",
       "    <tr style=\"text-align: right;\">\n",
       "      <th></th>\n",
       "      <th>0</th>\n",
       "      <th>1</th>\n",
       "      <th>2</th>\n",
       "      <th>3</th>\n",
       "      <th>4</th>\n",
       "      <th>5</th>\n",
       "      <th>6</th>\n",
       "      <th>7</th>\n",
       "      <th>8</th>\n",
       "      <th>9</th>\n",
       "      <th>...</th>\n",
       "      <th>68</th>\n",
       "      <th>69</th>\n",
       "      <th>70</th>\n",
       "      <th>71</th>\n",
       "      <th>72</th>\n",
       "      <th>73</th>\n",
       "      <th>74</th>\n",
       "      <th>75</th>\n",
       "      <th>76</th>\n",
       "      <th>77</th>\n",
       "    </tr>\n",
       "  </thead>\n",
       "  <tbody>\n",
       "    <tr>\n",
       "      <th>0</th>\n",
       "      <td>9.3</td>\n",
       "      <td>6.11</td>\n",
       "      <td>6.11</td>\n",
       "      <td>6.11</td>\n",
       "      <td>6.11</td>\n",
       "      <td>250</td>\n",
       "      <td>10.0</td>\n",
       "      <td>6.12</td>\n",
       "      <td>6.1300</td>\n",
       "      <td>6.110</td>\n",
       "      <td>...</td>\n",
       "      <td>6.210</td>\n",
       "      <td>6.19</td>\n",
       "      <td>6.19</td>\n",
       "      <td>1100</td>\n",
       "      <td>15.3</td>\n",
       "      <td>6.20</td>\n",
       "      <td>6.23</td>\n",
       "      <td>6.20</td>\n",
       "      <td>6.22</td>\n",
       "      <td>1400</td>\n",
       "    </tr>\n",
       "    <tr>\n",
       "      <th>1</th>\n",
       "      <td>9.3</td>\n",
       "      <td>6.22</td>\n",
       "      <td>6.22</td>\n",
       "      <td>6.22</td>\n",
       "      <td>6.22</td>\n",
       "      <td>1005</td>\n",
       "      <td>10.0</td>\n",
       "      <td>6.33</td>\n",
       "      <td>6.3300</td>\n",
       "      <td>6.141</td>\n",
       "      <td>...</td>\n",
       "      <td>6.233</td>\n",
       "      <td>6.16</td>\n",
       "      <td>6.23</td>\n",
       "      <td>6188</td>\n",
       "      <td>15.3</td>\n",
       "      <td>6.17</td>\n",
       "      <td>6.22</td>\n",
       "      <td>6.15</td>\n",
       "      <td>6.19</td>\n",
       "      <td>6900</td>\n",
       "    </tr>\n",
       "    <tr>\n",
       "      <th>2</th>\n",
       "      <td>9.3</td>\n",
       "      <td>6.18</td>\n",
       "      <td>6.18</td>\n",
       "      <td>6.18</td>\n",
       "      <td>6.18</td>\n",
       "      <td>957</td>\n",
       "      <td>10.0</td>\n",
       "      <td>6.20</td>\n",
       "      <td>6.2876</td>\n",
       "      <td>6.180</td>\n",
       "      <td>...</td>\n",
       "      <td>6.210</td>\n",
       "      <td>6.21</td>\n",
       "      <td>6.21</td>\n",
       "      <td>100</td>\n",
       "      <td>15.3</td>\n",
       "      <td>6.21</td>\n",
       "      <td>6.22</td>\n",
       "      <td>6.20</td>\n",
       "      <td>6.21</td>\n",
       "      <td>2900</td>\n",
       "    </tr>\n",
       "    <tr>\n",
       "      <th>3</th>\n",
       "      <td>10.0</td>\n",
       "      <td>6.18</td>\n",
       "      <td>6.18</td>\n",
       "      <td>6.18</td>\n",
       "      <td>6.18</td>\n",
       "      <td>200</td>\n",
       "      <td>10.3</td>\n",
       "      <td>6.21</td>\n",
       "      <td>6.2100</td>\n",
       "      <td>6.190</td>\n",
       "      <td>...</td>\n",
       "      <td>6.359</td>\n",
       "      <td>6.30</td>\n",
       "      <td>6.34</td>\n",
       "      <td>3250</td>\n",
       "      <td>16.0</td>\n",
       "      <td>6.25</td>\n",
       "      <td>6.33</td>\n",
       "      <td>6.25</td>\n",
       "      <td>6.33</td>\n",
       "      <td>4118</td>\n",
       "    </tr>\n",
       "    <tr>\n",
       "      <th>4</th>\n",
       "      <td>9.3</td>\n",
       "      <td>6.29</td>\n",
       "      <td>6.29</td>\n",
       "      <td>6.29</td>\n",
       "      <td>6.29</td>\n",
       "      <td>500</td>\n",
       "      <td>10.0</td>\n",
       "      <td>6.30</td>\n",
       "      <td>6.3000</td>\n",
       "      <td>6.270</td>\n",
       "      <td>...</td>\n",
       "      <td>6.200</td>\n",
       "      <td>6.18</td>\n",
       "      <td>6.19</td>\n",
       "      <td>2000</td>\n",
       "      <td>15.3</td>\n",
       "      <td>6.15</td>\n",
       "      <td>6.18</td>\n",
       "      <td>6.14</td>\n",
       "      <td>6.16</td>\n",
       "      <td>9369</td>\n",
       "    </tr>\n",
       "  </tbody>\n",
       "</table>\n",
       "<p>5 rows × 78 columns</p>\n",
       "</div>"
      ],
      "text/plain": [
       "     0     1     2     3     4     5     6     7       8      9   ...      68  \\\n",
       "0   9.3  6.11  6.11  6.11  6.11   250  10.0  6.12  6.1300  6.110  ...   6.210   \n",
       "1   9.3  6.22  6.22  6.22  6.22  1005  10.0  6.33  6.3300  6.141  ...   6.233   \n",
       "2   9.3  6.18  6.18  6.18  6.18   957  10.0  6.20  6.2876  6.180  ...   6.210   \n",
       "3  10.0  6.18  6.18  6.18  6.18   200  10.3  6.21  6.2100  6.190  ...   6.359   \n",
       "4   9.3  6.29  6.29  6.29  6.29   500  10.0  6.30  6.3000  6.270  ...   6.200   \n",
       "\n",
       "     69    70    71    72    73    74    75    76    77  \n",
       "0  6.19  6.19  1100  15.3  6.20  6.23  6.20  6.22  1400  \n",
       "1  6.16  6.23  6188  15.3  6.17  6.22  6.15  6.19  6900  \n",
       "2  6.21  6.21   100  15.3  6.21  6.22  6.20  6.21  2900  \n",
       "3  6.30  6.34  3250  16.0  6.25  6.33  6.25  6.33  4118  \n",
       "4  6.18  6.19  2000  15.3  6.15  6.18  6.14  6.16  9369  \n",
       "\n",
       "[5 rows x 78 columns]"
      ]
     },
     "execution_count": 728,
     "metadata": {},
     "output_type": "execute_result"
    }
   ],
   "source": [
    "X = np.array([])\n",
    "for date in stock_X_df['DATE'].unique():\n",
    "    if X.shape[0] == 0:\n",
    "        X = stock_X_df[stock_X_df['DATE'] == date].drop('DATE', axis=1).values.flatten()[:min_num_of_cols]\n",
    "    else:\n",
    "        X = np.vstack([X, stock_X_df[stock_X_df['DATE'] == date].drop('DATE', axis=1).values.flatten()[:min_num_of_cols]])\n",
    "\n",
    "X = np.delete(X, -1, axis=0)\n",
    "print X.shape\n",
    "pd.DataFrame(X).head()"
   ]
  },
  {
   "cell_type": "code",
   "execution_count": 729,
   "metadata": {
    "collapsed": false
   },
   "outputs": [
    {
     "name": "stdout",
     "output_type": "stream",
     "text": [
      "first: 2015-04-10 16:00:00 last: 2015-06-19 16:00:00\n",
      "shape: (50, 7)\n"
     ]
    },
    {
     "data": {
      "text/html": [
       "<div style=\"max-height:1000px;max-width:1500px;overflow:auto;\">\n",
       "<table border=\"1\" class=\"dataframe\">\n",
       "  <thead>\n",
       "    <tr style=\"text-align: right;\">\n",
       "      <th></th>\n",
       "      <th>TIMEINDEX</th>\n",
       "      <th>CLOSE</th>\n",
       "      <th>HIGH</th>\n",
       "      <th>LOW</th>\n",
       "      <th>OPEN</th>\n",
       "      <th>VOLUME</th>\n",
       "      <th>DATE</th>\n",
       "    </tr>\n",
       "  </thead>\n",
       "  <tbody>\n",
       "    <tr>\n",
       "      <th>0</th>\n",
       "      <td>16</td>\n",
       "      <td>6.19</td>\n",
       "      <td>6.2300</td>\n",
       "      <td>6.0900</td>\n",
       "      <td>6.11</td>\n",
       "      <td>46441</td>\n",
       "      <td>2015-04-10</td>\n",
       "    </tr>\n",
       "    <tr>\n",
       "      <th>1</th>\n",
       "      <td>16</td>\n",
       "      <td>6.15</td>\n",
       "      <td>6.4700</td>\n",
       "      <td>6.1410</td>\n",
       "      <td>6.22</td>\n",
       "      <td>80132</td>\n",
       "      <td>2015-04-13</td>\n",
       "    </tr>\n",
       "    <tr>\n",
       "      <th>2</th>\n",
       "      <td>16</td>\n",
       "      <td>6.21</td>\n",
       "      <td>6.2876</td>\n",
       "      <td>6.1700</td>\n",
       "      <td>6.18</td>\n",
       "      <td>28147</td>\n",
       "      <td>2015-04-14</td>\n",
       "    </tr>\n",
       "    <tr>\n",
       "      <th>3</th>\n",
       "      <td>16</td>\n",
       "      <td>6.25</td>\n",
       "      <td>6.4000</td>\n",
       "      <td>6.1800</td>\n",
       "      <td>6.18</td>\n",
       "      <td>30968</td>\n",
       "      <td>2015-04-15</td>\n",
       "    </tr>\n",
       "    <tr>\n",
       "      <th>4</th>\n",
       "      <td>16</td>\n",
       "      <td>6.23</td>\n",
       "      <td>6.3000</td>\n",
       "      <td>6.1106</td>\n",
       "      <td>6.29</td>\n",
       "      <td>69650</td>\n",
       "      <td>2015-04-16</td>\n",
       "    </tr>\n",
       "  </tbody>\n",
       "</table>\n",
       "</div>"
      ],
      "text/plain": [
       "   TIMEINDEX  CLOSE    HIGH     LOW  OPEN  VOLUME        DATE\n",
       "0         16   6.19  6.2300  6.0900  6.11   46441  2015-04-10\n",
       "1         16   6.15  6.4700  6.1410  6.22   80132  2015-04-13\n",
       "2         16   6.21  6.2876  6.1700  6.18   28147  2015-04-14\n",
       "3         16   6.25  6.4000  6.1800  6.18   30968  2015-04-15\n",
       "4         16   6.23  6.3000  6.1106  6.29   69650  2015-04-16"
      ]
     },
     "execution_count": 729,
     "metadata": {},
     "output_type": "execute_result"
    }
   ],
   "source": [
    "seconds_interval = \"86400\" # daily: 86400\n",
    "stock_y_df = get_stock_data(ticker, seconds_interval, num_of_days)\n",
    "stock_y_df.head()"
   ]
  },
  {
   "cell_type": "code",
   "execution_count": 730,
   "metadata": {
    "collapsed": false
   },
   "outputs": [
    {
     "name": "stdout",
     "output_type": "stream",
     "text": [
      "(49,)\n"
     ]
    },
    {
     "data": {
      "text/plain": [
       "array([ 6.47  ,  6.2876,  6.4   ,  6.3   ,  6.27  ])"
      ]
     },
     "execution_count": 730,
     "metadata": {},
     "output_type": "execute_result"
    }
   ],
   "source": [
    "y = (stock_y_df['HIGH'].values)\n",
    "#y = (stock_y_df['HIGH'].values - stock_y_df['OPEN'].values)\n",
    "y = y[1:]\n",
    "print y.shape\n",
    "y[:5]"
   ]
  },
  {
   "cell_type": "code",
   "execution_count": 731,
   "metadata": {
    "collapsed": false
   },
   "outputs": [],
   "source": [
    "features_train, features_test, labels_train, labels_test = train_test_split(X, y, test_size=0.1, random_state=42)"
   ]
  },
  {
   "cell_type": "code",
   "execution_count": 732,
   "metadata": {
    "collapsed": false
   },
   "outputs": [
    {
     "data": {
      "text/plain": [
       "0.88482434911981933"
      ]
     },
     "execution_count": 732,
     "metadata": {},
     "output_type": "execute_result"
    }
   ],
   "source": [
    "clf = BayesianRidge()\n",
    "clf.fit(features_train, labels_train)\n",
    "pred = clf.predict(features_test)\n",
    "clf.score(features_test, labels_test)"
   ]
  },
  {
   "cell_type": "code",
   "execution_count": 733,
   "metadata": {
    "collapsed": false
   },
   "outputs": [],
   "source": [
    "#clf = GaussianNB()\n",
    "#clf.fit(features_train, labels_train)\n",
    "#pred = clf.predict(features_test)\n",
    "#acc = accuracy_score(pred, labels_test)\n",
    "#print acc, pred"
   ]
  },
  {
   "cell_type": "code",
   "execution_count": 734,
   "metadata": {
    "collapsed": false
   },
   "outputs": [],
   "source": [
    "#clf = SVC(kernel=\"linear\")\n",
    "#clf.fit(features_train, labels_train)\n",
    "#pred = clf.predict(features_test)\n",
    "#acc = accuracy_score(pred, labels_test)\n",
    "#print acc, pred"
   ]
  },
  {
   "cell_type": "code",
   "execution_count": 741,
   "metadata": {
    "collapsed": false
   },
   "outputs": [],
   "source": [
    "#clf = SVR(kernel='rbf', C=10000.0)\n",
    "#clf.fit(features_train, labels_train)\n",
    "#pred = clf.predict(features_test)\n",
    "#clf.score(features_test, labels_test)"
   ]
  },
  {
   "cell_type": "code",
   "execution_count": 736,
   "metadata": {
    "collapsed": false
   },
   "outputs": [],
   "source": [
    "#clf = tree.DecisionTreeClassifier()\n",
    "#clf.fit(features_train, labels_train)\n",
    "#pred = clf.predict(features_test)\n",
    "#clf.score(features_test, labels_test)"
   ]
  },
  {
   "cell_type": "code",
   "execution_count": 737,
   "metadata": {
    "collapsed": false
   },
   "outputs": [
    {
     "data": {
      "text/plain": [
       "0.90088366360621641"
      ]
     },
     "execution_count": 737,
     "metadata": {},
     "output_type": "execute_result"
    }
   ],
   "source": [
    "clf = tree.DecisionTreeRegressor()\n",
    "clf.fit(features_train, labels_train)\n",
    "pred = clf.predict(features_test)\n",
    "clf.score(features_test, labels_test)"
   ]
  },
  {
   "cell_type": "code",
   "execution_count": 738,
   "metadata": {
    "collapsed": false
   },
   "outputs": [
    {
     "data": {
      "text/html": [
       "<div style=\"max-height:1000px;max-width:1500px;overflow:auto;\">\n",
       "<table border=\"1\" class=\"dataframe\">\n",
       "  <thead>\n",
       "    <tr style=\"text-align: right;\">\n",
       "      <th></th>\n",
       "      <th>0</th>\n",
       "      <th>1</th>\n",
       "      <th>2</th>\n",
       "      <th>3</th>\n",
       "      <th>4</th>\n",
       "      <th>5</th>\n",
       "      <th>6</th>\n",
       "      <th>7</th>\n",
       "      <th>8</th>\n",
       "      <th>9</th>\n",
       "      <th>...</th>\n",
       "      <th>68</th>\n",
       "      <th>69</th>\n",
       "      <th>70</th>\n",
       "      <th>71</th>\n",
       "      <th>72</th>\n",
       "      <th>73</th>\n",
       "      <th>74</th>\n",
       "      <th>75</th>\n",
       "      <th>76</th>\n",
       "      <th>77</th>\n",
       "    </tr>\n",
       "  </thead>\n",
       "  <tbody>\n",
       "    <tr>\n",
       "      <th>0</th>\n",
       "      <td>10.0</td>\n",
       "      <td>6.27</td>\n",
       "      <td>6.31</td>\n",
       "      <td>6.25</td>\n",
       "      <td>6.31</td>\n",
       "      <td>1300</td>\n",
       "      <td>10.3</td>\n",
       "      <td>6.3000</td>\n",
       "      <td>6.30</td>\n",
       "      <td>6.200</td>\n",
       "      <td>...</td>\n",
       "      <td>6.2363</td>\n",
       "      <td>6.2200</td>\n",
       "      <td>6.2363</td>\n",
       "      <td>700</td>\n",
       "      <td>16.0</td>\n",
       "      <td>6.2000</td>\n",
       "      <td>6.250</td>\n",
       "      <td>6.17</td>\n",
       "      <td>6.25</td>\n",
       "      <td>2220</td>\n",
       "    </tr>\n",
       "    <tr>\n",
       "      <th>1</th>\n",
       "      <td>9.3</td>\n",
       "      <td>8.90</td>\n",
       "      <td>8.90</td>\n",
       "      <td>8.90</td>\n",
       "      <td>8.90</td>\n",
       "      <td>13570</td>\n",
       "      <td>10.0</td>\n",
       "      <td>9.0000</td>\n",
       "      <td>9.34</td>\n",
       "      <td>8.680</td>\n",
       "      <td>...</td>\n",
       "      <td>9.2370</td>\n",
       "      <td>9.1701</td>\n",
       "      <td>9.2000</td>\n",
       "      <td>15979</td>\n",
       "      <td>15.3</td>\n",
       "      <td>9.2000</td>\n",
       "      <td>9.240</td>\n",
       "      <td>9.15</td>\n",
       "      <td>9.17</td>\n",
       "      <td>35150</td>\n",
       "    </tr>\n",
       "    <tr>\n",
       "      <th>2</th>\n",
       "      <td>9.3</td>\n",
       "      <td>9.97</td>\n",
       "      <td>9.97</td>\n",
       "      <td>9.97</td>\n",
       "      <td>9.97</td>\n",
       "      <td>5792</td>\n",
       "      <td>10.0</td>\n",
       "      <td>10.0500</td>\n",
       "      <td>10.32</td>\n",
       "      <td>9.960</td>\n",
       "      <td>...</td>\n",
       "      <td>10.4200</td>\n",
       "      <td>10.3400</td>\n",
       "      <td>10.3800</td>\n",
       "      <td>25295</td>\n",
       "      <td>15.3</td>\n",
       "      <td>10.4300</td>\n",
       "      <td>10.430</td>\n",
       "      <td>10.28</td>\n",
       "      <td>10.40</td>\n",
       "      <td>30946</td>\n",
       "    </tr>\n",
       "    <tr>\n",
       "      <th>3</th>\n",
       "      <td>9.3</td>\n",
       "      <td>8.60</td>\n",
       "      <td>8.60</td>\n",
       "      <td>8.60</td>\n",
       "      <td>8.60</td>\n",
       "      <td>10252</td>\n",
       "      <td>10.0</td>\n",
       "      <td>9.0115</td>\n",
       "      <td>9.10</td>\n",
       "      <td>8.400</td>\n",
       "      <td>...</td>\n",
       "      <td>9.0300</td>\n",
       "      <td>8.9300</td>\n",
       "      <td>8.9500</td>\n",
       "      <td>47051</td>\n",
       "      <td>15.3</td>\n",
       "      <td>8.8343</td>\n",
       "      <td>9.015</td>\n",
       "      <td>8.80</td>\n",
       "      <td>9.00</td>\n",
       "      <td>22472</td>\n",
       "    </tr>\n",
       "    <tr>\n",
       "      <th>4</th>\n",
       "      <td>9.3</td>\n",
       "      <td>6.03</td>\n",
       "      <td>6.03</td>\n",
       "      <td>6.03</td>\n",
       "      <td>6.03</td>\n",
       "      <td>476</td>\n",
       "      <td>10.0</td>\n",
       "      <td>6.0600</td>\n",
       "      <td>6.28</td>\n",
       "      <td>6.035</td>\n",
       "      <td>...</td>\n",
       "      <td>6.1200</td>\n",
       "      <td>6.0700</td>\n",
       "      <td>6.1200</td>\n",
       "      <td>1100</td>\n",
       "      <td>15.3</td>\n",
       "      <td>6.0300</td>\n",
       "      <td>6.068</td>\n",
       "      <td>6.03</td>\n",
       "      <td>6.05</td>\n",
       "      <td>1200</td>\n",
       "    </tr>\n",
       "  </tbody>\n",
       "</table>\n",
       "<p>5 rows × 78 columns</p>\n",
       "</div>"
      ],
      "text/plain": [
       "     0     1     2     3     4      5     6        7      8      9   ...    \\\n",
       "0  10.0  6.27  6.31  6.25  6.31   1300  10.3   6.3000   6.30  6.200  ...     \n",
       "1   9.3  8.90  8.90  8.90  8.90  13570  10.0   9.0000   9.34  8.680  ...     \n",
       "2   9.3  9.97  9.97  9.97  9.97   5792  10.0  10.0500  10.32  9.960  ...     \n",
       "3   9.3  8.60  8.60  8.60  8.60  10252  10.0   9.0115   9.10  8.400  ...     \n",
       "4   9.3  6.03  6.03  6.03  6.03    476  10.0   6.0600   6.28  6.035  ...     \n",
       "\n",
       "        68       69       70     71    72       73      74     75     76  \\\n",
       "0   6.2363   6.2200   6.2363    700  16.0   6.2000   6.250   6.17   6.25   \n",
       "1   9.2370   9.1701   9.2000  15979  15.3   9.2000   9.240   9.15   9.17   \n",
       "2  10.4200  10.3400  10.3800  25295  15.3  10.4300  10.430  10.28  10.40   \n",
       "3   9.0300   8.9300   8.9500  47051  15.3   8.8343   9.015   8.80   9.00   \n",
       "4   6.1200   6.0700   6.1200   1100  15.3   6.0300   6.068   6.03   6.05   \n",
       "\n",
       "      77  \n",
       "0   2220  \n",
       "1  35150  \n",
       "2  30946  \n",
       "3  22472  \n",
       "4   1200  \n",
       "\n",
       "[5 rows x 78 columns]"
      ]
     },
     "execution_count": 738,
     "metadata": {},
     "output_type": "execute_result"
    }
   ],
   "source": [
    "pd.DataFrame(features_test)"
   ]
  },
  {
   "cell_type": "code",
   "execution_count": 739,
   "metadata": {
    "collapsed": false
   },
   "outputs": [
    {
     "data": {
      "text/html": [
       "<div style=\"max-height:1000px;max-width:1500px;overflow:auto;\">\n",
       "<table border=\"1\" class=\"dataframe\">\n",
       "  <thead>\n",
       "    <tr style=\"text-align: right;\">\n",
       "      <th></th>\n",
       "      <th>0</th>\n",
       "    </tr>\n",
       "  </thead>\n",
       "  <tbody>\n",
       "    <tr>\n",
       "      <th>0</th>\n",
       "      <td>6.4300</td>\n",
       "    </tr>\n",
       "    <tr>\n",
       "      <th>1</th>\n",
       "      <td>9.9499</td>\n",
       "    </tr>\n",
       "    <tr>\n",
       "      <th>2</th>\n",
       "      <td>10.4000</td>\n",
       "    </tr>\n",
       "    <tr>\n",
       "      <th>3</th>\n",
       "      <td>9.3400</td>\n",
       "    </tr>\n",
       "    <tr>\n",
       "      <th>4</th>\n",
       "      <td>6.1300</td>\n",
       "    </tr>\n",
       "  </tbody>\n",
       "</table>\n",
       "</div>"
      ],
      "text/plain": [
       "         0\n",
       "0   6.4300\n",
       "1   9.9499\n",
       "2  10.4000\n",
       "3   9.3400\n",
       "4   6.1300"
      ]
     },
     "execution_count": 739,
     "metadata": {},
     "output_type": "execute_result"
    }
   ],
   "source": [
    "pd.DataFrame(labels_test)"
   ]
  },
  {
   "cell_type": "code",
   "execution_count": 740,
   "metadata": {
    "collapsed": false
   },
   "outputs": [
    {
     "data": {
      "text/html": [
       "<div style=\"max-height:1000px;max-width:1500px;overflow:auto;\">\n",
       "<table border=\"1\" class=\"dataframe\">\n",
       "  <thead>\n",
       "    <tr style=\"text-align: right;\">\n",
       "      <th></th>\n",
       "      <th>0</th>\n",
       "    </tr>\n",
       "  </thead>\n",
       "  <tbody>\n",
       "    <tr>\n",
       "      <th>0</th>\n",
       "      <td>6.75</td>\n",
       "    </tr>\n",
       "    <tr>\n",
       "      <th>1</th>\n",
       "      <td>10.45</td>\n",
       "    </tr>\n",
       "    <tr>\n",
       "      <th>2</th>\n",
       "      <td>10.29</td>\n",
       "    </tr>\n",
       "    <tr>\n",
       "      <th>3</th>\n",
       "      <td>10.45</td>\n",
       "    </tr>\n",
       "    <tr>\n",
       "      <th>4</th>\n",
       "      <td>6.27</td>\n",
       "    </tr>\n",
       "  </tbody>\n",
       "</table>\n",
       "</div>"
      ],
      "text/plain": [
       "       0\n",
       "0   6.75\n",
       "1  10.45\n",
       "2  10.29\n",
       "3  10.45\n",
       "4   6.27"
      ]
     },
     "execution_count": 740,
     "metadata": {},
     "output_type": "execute_result"
    }
   ],
   "source": [
    "pd.DataFrame(pred)"
   ]
  }
 ],
 "metadata": {
  "kernelspec": {
   "display_name": "Python 2",
   "language": "python",
   "name": "python2"
  },
  "language_info": {
   "codemirror_mode": {
    "name": "ipython",
    "version": 2
   },
   "file_extension": ".py",
   "mimetype": "text/x-python",
   "name": "python",
   "nbconvert_exporter": "python",
   "pygments_lexer": "ipython2",
   "version": "2.7.10"
  }
 },
 "nbformat": 4,
 "nbformat_minor": 0
}
