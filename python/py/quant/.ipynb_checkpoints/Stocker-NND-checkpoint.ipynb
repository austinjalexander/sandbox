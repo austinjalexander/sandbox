{
 "cells": [
  {
   "cell_type": "code",
   "execution_count": 1,
   "metadata": {
    "collapsed": false
   },
   "outputs": [],
   "source": [
    "from imports import *\n",
    "import import_data\n",
    "\n",
    "%matplotlib inline"
   ]
  },
  {
   "cell_type": "markdown",
   "metadata": {},
   "source": [
    "---"
   ]
  },
  {
   "cell_type": "code",
   "execution_count": 2,
   "metadata": {
    "collapsed": false
   },
   "outputs": [
    {
     "name": "stdout",
     "output_type": "stream",
     "text": [
      "(134150, 10)\n"
     ]
    },
    {
     "data": {
      "text/html": [
       "<div style=\"max-height:1000px;max-width:1500px;overflow:auto;\">\n",
       "<table border=\"1\" class=\"dataframe\">\n",
       "  <thead>\n",
       "    <tr style=\"text-align: right;\">\n",
       "      <th></th>\n",
       "      <th>Open</th>\n",
       "      <th>High</th>\n",
       "      <th>Low</th>\n",
       "      <th>Close</th>\n",
       "      <th>Volume</th>\n",
       "      <th>50dravg</th>\n",
       "      <th>200dravg</th>\n",
       "      <th>OC%</th>\n",
       "      <th>HL%</th>\n",
       "      <th>label</th>\n",
       "    </tr>\n",
       "  </thead>\n",
       "  <tbody>\n",
       "    <tr>\n",
       "      <th>4096</th>\n",
       "      <td>0.52</td>\n",
       "      <td>0.53</td>\n",
       "      <td>0.50</td>\n",
       "      <td>0.52</td>\n",
       "      <td>1093100</td>\n",
       "      <td>0.7780</td>\n",
       "      <td>0.38757</td>\n",
       "      <td>0.000000</td>\n",
       "      <td>0.060</td>\n",
       "      <td>0.000000</td>\n",
       "    </tr>\n",
       "    <tr>\n",
       "      <th>4097</th>\n",
       "      <td>0.52</td>\n",
       "      <td>0.52</td>\n",
       "      <td>0.50</td>\n",
       "      <td>0.52</td>\n",
       "      <td>226000</td>\n",
       "      <td>0.7808</td>\n",
       "      <td>0.38852</td>\n",
       "      <td>0.000000</td>\n",
       "      <td>0.040</td>\n",
       "      <td>0.000000</td>\n",
       "    </tr>\n",
       "    <tr>\n",
       "      <th>4098</th>\n",
       "      <td>0.51</td>\n",
       "      <td>0.52</td>\n",
       "      <td>0.50</td>\n",
       "      <td>0.51</td>\n",
       "      <td>583300</td>\n",
       "      <td>0.7838</td>\n",
       "      <td>0.38927</td>\n",
       "      <td>0.000000</td>\n",
       "      <td>0.040</td>\n",
       "      <td>0.098039</td>\n",
       "    </tr>\n",
       "    <tr>\n",
       "      <th>4099</th>\n",
       "      <td>0.51</td>\n",
       "      <td>0.56</td>\n",
       "      <td>0.50</td>\n",
       "      <td>0.56</td>\n",
       "      <td>475900</td>\n",
       "      <td>0.7884</td>\n",
       "      <td>0.39017</td>\n",
       "      <td>0.098039</td>\n",
       "      <td>0.120</td>\n",
       "      <td>0.000000</td>\n",
       "    </tr>\n",
       "    <tr>\n",
       "      <th>4100</th>\n",
       "      <td>0.57</td>\n",
       "      <td>0.63</td>\n",
       "      <td>0.56</td>\n",
       "      <td>0.57</td>\n",
       "      <td>1537100</td>\n",
       "      <td>0.7928</td>\n",
       "      <td>0.39107</td>\n",
       "      <td>0.000000</td>\n",
       "      <td>0.125</td>\n",
       "      <td>-0.163934</td>\n",
       "    </tr>\n",
       "  </tbody>\n",
       "</table>\n",
       "</div>"
      ],
      "text/plain": [
       "      Open  High   Low  Close   Volume  50dravg  200dravg       OC%    HL%  \\\n",
       "4096  0.52  0.53  0.50   0.52  1093100   0.7780   0.38757  0.000000  0.060   \n",
       "4097  0.52  0.52  0.50   0.52   226000   0.7808   0.38852  0.000000  0.040   \n",
       "4098  0.51  0.52  0.50   0.51   583300   0.7838   0.38927  0.000000  0.040   \n",
       "4099  0.51  0.56  0.50   0.56   475900   0.7884   0.39017  0.098039  0.120   \n",
       "4100  0.57  0.63  0.56   0.57  1537100   0.7928   0.39107  0.000000  0.125   \n",
       "\n",
       "         label  \n",
       "4096  0.000000  \n",
       "4097  0.000000  \n",
       "4098  0.098039  \n",
       "4099  0.000000  \n",
       "4100 -0.163934  "
      ]
     },
     "execution_count": 2,
     "metadata": {},
     "output_type": "execute_result"
    }
   ],
   "source": [
    "tickers = [filename[:-4] for filename in os.listdir('quandl_data')]\n",
    "\n",
    "stock_df, prediction_df = import_data.import_data(tickers)\n",
    "print stock_df.shape\n",
    "stock_df.tail()"
   ]
  },
  {
   "cell_type": "code",
   "execution_count": 3,
   "metadata": {
    "collapsed": false
   },
   "outputs": [
    {
     "name": "stdout",
     "output_type": "stream",
     "text": [
      "(134150, 9) (134150, 1)\n"
     ]
    }
   ],
   "source": [
    "y = stock_df['label'].values\n",
    "y = y.reshape(y.shape[0], 1)\n",
    "\n",
    "stock_df = stock_df.drop('label', axis=1)\n",
    "X = stock_df.values\n",
    "\n",
    "print X.shape, y.shape"
   ]
  },
  {
   "cell_type": "code",
   "execution_count": 4,
   "metadata": {
    "collapsed": false
   },
   "outputs": [],
   "source": [
    "get_subset = False\n",
    "\n",
    "if get_subset == True:\n",
    "    indices = np.random.choice(X.shape[0], 1000)\n",
    "    X = X[indices,:]\n",
    "    y = y[indices, :]\n",
    "    print X.shape, y.shape"
   ]
  },
  {
   "cell_type": "markdown",
   "metadata": {},
   "source": [
    "---"
   ]
  },
  {
   "cell_type": "code",
   "execution_count": 5,
   "metadata": {
    "collapsed": false
   },
   "outputs": [],
   "source": [
    "class NN(object):\n",
    "    \n",
    "    def __init__(self, Lambda=0):\n",
    "        \n",
    "        # hyperparameters\n",
    "        self.input_layer_size = 10\n",
    "        self.hidden_layer_size = 10\n",
    "        self.output_layer_size = 1\n",
    "        \n",
    "        # weights\n",
    "        self.W1 = np.random.randn(self.input_layer_size, self.hidden_layer_size)\n",
    "        self.W2 = np.random.randn(self.hidden_layer_size, self.output_layer_size)\n",
    "        \n",
    "        # regularization\n",
    "        self.Lambda = Lambda\n",
    "        \n",
    "    def get_weights(self):\n",
    "        return np.concatenate((self.W1.ravel(), self.W2.ravel()))\n",
    "    \n",
    "    def set_weights(self, weights):\n",
    "        W1_start  = 0\n",
    "        \n",
    "        W1_end = (self.hidden_layer_size * self.input_layer_size)\n",
    "        self.W1 = np.reshape(weights[W1_start:W1_end], (self.input_layer_size,self.hidden_layer_size))\n",
    "        \n",
    "        W2_end = W1_end + (self.hidden_layer_size * self.output_layer_size)\n",
    "        self.W2 = np.reshape(weights[W1_end:W2_end], (self.hidden_layer_size,self.output_layer_size))\n",
    "    \n",
    "    def forward_propagate(self, X):\n",
    "        self.z2 = np.dot(X, self.W1)\n",
    "        self.a2 = self.activation(self.z2) \n",
    "        self.z3 = np.dot(self.a2, self.W2)\n",
    "        y_hat = self.activation(self.z3)\n",
    "        return y_hat\n",
    "    \n",
    "    def activation(self, z):\n",
    "        return np.true_divide(1, (1 + np.exp(-z)))\n",
    "\n",
    "    def visualize_activation(self):\n",
    "        inputs = np.arange(-6,6,0.01)\n",
    "        plt.plot(inputs, self.activation(inputs))\n",
    "        plt.show()\n",
    "        \n",
    "    def activation_prime(self, z):\n",
    "        return np.true_divide(np.exp(-z), ((1 + np.exp(-z))**2))\n",
    "    \n",
    "    def visualize_activation_prime(self):\n",
    "        inputs = np.arange(-6,6,0.01)\n",
    "        plt.plot(inputs, self.activation(inputs))\n",
    "        plt.plot(inputs, self.activation_prime(inputs))\n",
    "        plt.show()\n",
    "        \n",
    "    def cost(self, X, y):\n",
    "        self.y_hat = self.forward_propagate(X)\n",
    "        left = 0.5 * np.sum((y - self.y_hat)**2)/X.shape[0]\n",
    "        right = (self.Lambda/2.0)*(np.sum(self.W1**2) + np.sum(self.W2**2))\n",
    "        return left + right\n",
    "        \n",
    "    def cost_prime(self, X, y):\n",
    "        self.y_hat = self.forward_propagate(X)\n",
    "        \n",
    "        delta3 =  np.multiply(-(y - self.y_hat), self.activation_prime(self.z3))\n",
    "        dJdW2 = np.dot(self.a2.T, delta3)/X.shape[0] + (self.Lambda*self.W2)\n",
    "        \n",
    "        delta2 = np.dot(delta3, self.W2.T) * self.activation_prime(self.z2)\n",
    "        dJdW1 = np.dot(X.T, delta2)/X.shape[0] + (self.Lambda*self.W1)\n",
    "        \n",
    "        return dJdW1, dJdW2\n",
    "                           \n",
    "    def compute_gradient(self, X, y):\n",
    "        dJdW1, dJdW2 = self.cost_prime(X, y)\n",
    "        return np.concatenate((dJdW1.ravel(), dJdW2.ravel()))"
   ]
  },
  {
   "cell_type": "code",
   "execution_count": 6,
   "metadata": {
    "collapsed": false
   },
   "outputs": [],
   "source": [
    "def test_activation():\n",
    "    nn = NN()\n",
    "    nn.visualize_activation_prime()\n",
    "#test_activation()"
   ]
  },
  {
   "cell_type": "code",
   "execution_count": 7,
   "metadata": {
    "collapsed": false
   },
   "outputs": [],
   "source": [
    "def testNN():\n",
    "    nn = NN()\n",
    "    y_hat = nn.forward_propagate(X)\n",
    "    print y_hat, \"\\n\"\n",
    "    print y, \"\\n\"\n",
    "    \n",
    "    cost1 = nn.cost(X,y)\n",
    "    print cost1, \"\\n\"\n",
    "\n",
    "    dJdW1, dJdW2 = nn.cost_prime(X,y)\n",
    "    print dJdW1, \"\\n\"\n",
    "    print dJdW2\n",
    "#testNN()"
   ]
  },
  {
   "cell_type": "markdown",
   "metadata": {},
   "source": [
    "---"
   ]
  },
  {
   "cell_type": "code",
   "execution_count": 8,
   "metadata": {
    "collapsed": false
   },
   "outputs": [],
   "source": [
    "def estimate_gradient(N, X, y):\n",
    "    weights = N.get_weights()\n",
    "    estimated_gradient = np.zeros(weights.shape)\n",
    "    perturb = np.zeros(weights.shape)\n",
    "    epsilon = 1e-4\n",
    "    \n",
    "    for i in xrange(len(weights)):\n",
    "        perturb[i] = epsilon\n",
    "        \n",
    "        N.set_weights(weights + perturb)\n",
    "        loss2 = N.cost(X,y)\n",
    "        \n",
    "        N.set_weights(weights - perturb)\n",
    "        loss1 = N.cost(X,y)\n",
    "        \n",
    "        estimated_gradient[i] = (loss2 - loss1) / (2 * epsilon)\n",
    "        \n",
    "        perturb[i] = 0\n",
    "    \n",
    "    N.set_weights(weights)\n",
    "        \n",
    "    return estimated_gradient"
   ]
  },
  {
   "cell_type": "code",
   "execution_count": 9,
   "metadata": {
    "collapsed": false
   },
   "outputs": [],
   "source": [
    "def test_gradient_estimation():\n",
    "    nn = NN()\n",
    "    estimated_gradient = estimate_gradient(nn,X,y)\n",
    "    gradient = nn.compute_gradient(X,y)\n",
    "\n",
    "    print estimated_gradient[:3]\n",
    "    print gradient[:3]\n",
    "    print\n",
    "    print np.linalg.norm(gradient-estimated_gradient)/np.linalg.norm(gradient+estimated_gradient)   \n",
    "#test_gradient_estimation()"
   ]
  },
  {
   "cell_type": "markdown",
   "metadata": {},
   "source": [
    "---"
   ]
  },
  {
   "cell_type": "code",
   "execution_count": 10,
   "metadata": {
    "collapsed": true
   },
   "outputs": [],
   "source": [
    "class trainer(object):\n",
    "    \n",
    "    def __init__(self, N):\n",
    "        self.N = N\n",
    "        \n",
    "    def callback(self, weights):\n",
    "        self.N.set_weights(weights)\n",
    "        self.J.append(self.N.cost(self.train_X, self.train_y))\n",
    "        self.test_J.append(self.N.cost(self.test_X, self.test_y))\n",
    "        \n",
    "    def cost_wrapper(self, weights, X, y):\n",
    "        self.N.set_weights(weights)\n",
    "        c = self.N.cost(X, y)\n",
    "        g = self.N.compute_gradient(X,y)\n",
    "        \n",
    "        return c, g\n",
    "    \n",
    "    def set_scale(self, X):\n",
    "        self.scaler = StandardScaler().fit(X)\n",
    "        \n",
    "    def get_scale(self):\n",
    "        return self.scaler\n",
    "    \n",
    "    def add_bias(self, X):\n",
    "        return np.hstack((np.ones((X.shape[0], 1)), X))\n",
    "    \n",
    "    def train(self, X,y):\n",
    "        \n",
    "        train_X, test_X, train_y, test_y = train_test_split(X, y, test_size=0.2, random_state=42)\n",
    "        \n",
    "        self.set_scale(train_X)\n",
    "        scaler = self.get_scale()\n",
    "        \n",
    "        train_X = scaler.transform(train_X)\n",
    "        self.train_X = self.add_bias(train_X)\n",
    "        self.train_y = train_y # StandardScaler().fit_transform(train_y)\n",
    "        \n",
    "        self.test_X = scaler.transform(test_X)\n",
    "        self.test_X = self.add_bias(test_X)\n",
    "        self.test_y = test_y # StandardScaler().fit_transform(test_y)\n",
    "        \n",
    "        self.J = []\n",
    "        self.test_J = []\n",
    "        \n",
    "        weights0 = self.N.get_weights()\n",
    "        \n",
    "        options = {'maxiter':500, 'disp':True}\n",
    "        _res = optimize.minimize(self.cost_wrapper, weights0, jac=True, method='BFGS', args=(self.train_X,self.train_y), options=options, callback=self.callback)\n",
    "        \n",
    "        self.N.set_weights(_res.x)\n",
    "        self.optimization_results = _res"
   ]
  },
  {
   "cell_type": "code",
   "execution_count": 13,
   "metadata": {
    "collapsed": false
   },
   "outputs": [
    {
     "name": "stdout",
     "output_type": "stream",
     "text": [
      "Optimization terminated successfully.\n",
      "         Current function value: 0.015140\n",
      "         Iterations: 43\n",
      "         Function evaluations: 46\n",
      "         Gradient evaluations: 46\n",
      "\n",
      "time for training: 9.45 seconds\n"
     ]
    },
    {
     "data": {
      "image/png": "[encoded data removed]",
      "text/plain": [
       "<matplotlib.figure.Figure at 0x10fb685d0>"
      ]
     },
     "metadata": {},
     "output_type": "display_data"
    }
   ],
   "source": [
    "time0 = time()\n",
    "\n",
    "nn = NN(Lambda=0.01) # 0.0001\n",
    "Trainer = trainer(nn)\n",
    "Trainer.train(X,y)\n",
    "\n",
    "print \"\\ntime for training:\", np.round((time() - time0),2), \"seconds\"\n",
    "\n",
    "plt.plot(Trainer.J)\n",
    "plt.plot(Trainer.test_J)\n",
    "plt.legend(['J', 'test_J'])\n",
    "plt.show()"
   ]
  },
  {
   "cell_type": "markdown",
   "metadata": {},
   "source": [
    "---"
   ]
  },
  {
   "cell_type": "code",
   "execution_count": 14,
   "metadata": {
    "collapsed": false
   },
   "outputs": [
    {
     "name": "stdout",
     "output_type": "stream",
     "text": [
      " 0 ABIO 0.1\n",
      " 1 ACOR 0.1\n",
      " 2 AERI 0.1\n",
      " 3 AFFX 0.1\n",
      " 4 AGEN 0.1\n",
      " 5 ARIA 0.1\n",
      " 6 ARNA 0.1\n",
      " 7 ARWR 0.1\n",
      " 8 ATNM 0.1\n",
      " 9 AVXL 0.09\n",
      "10 AXDX 0.1\n",
      "11  AXN 0.1\n",
      "12 BABY 0.1\n",
      "13 BCRX 0.1\n",
      "14 BGMD 0.09\n",
      "15 BIIB 0.1\n",
      "16 BLUE 0.1\n",
      "17 BRKR 0.1\n",
      "18 CBMG 0.1\n",
      "19 CBPO 0.1\n",
      "20 CGEN 0.1\n",
      "21 CLDN 0.1\n",
      "22 CLDX 0.1\n",
      "23 COHR 0.1\n",
      "24 CPHD 0.1\n",
      "25 CPRX 0.1\n",
      "26 CRIS 0.1\n",
      "27 CYBX 0.1\n",
      "28 CYNO 0.1\n",
      "29 CYTR 0.1\n",
      "30 DSCO 0.1\n",
      "31 DYAX 0.1\n",
      "32 ECYT 0.1\n",
      "33 ENZN 0.1\n",
      "34 ETRM 0.1\n",
      "35 EXAS 0.1\n",
      "36 EXEL 0.1\n",
      "37 FATE 0.1\n",
      "38 FEIC 0.1\n",
      "39 FLDM 0.1\n",
      "40 GILD 0.1\n",
      "41 GNCA 0.1\n",
      "42 HALO 0.1\n",
      "43 IART 0.1\n",
      "44 IDRA 0.1\n",
      "45 IDXX 0.1\n",
      "46 ILMN 0.1\n",
      "47 IMMU 0.1\n",
      "48 IMRS 0.09\n",
      "49 INCY 0.1\n",
      "50  INO 0.1\n",
      "51 LPCN 0.1\n",
      "52 MEIP 0.09\n",
      "53 MNKD 0.1\n",
      "54 OREX 0.1\n",
      "55 PGNX 0.1\n",
      "56 QLTI 0.1\n",
      "57 RMTI 0.1\n",
      "58 SGYP 0.1\n",
      "59  SYN 0.1\n",
      "60 THLD 0.1\n",
      "61 TNXP 0.1\n",
      "62 TPIV 0.09\n"
     ]
    }
   ],
   "source": [
    "pred_df = prediction_df[prediction_df['label'].apply(np.isnan) == True]\n",
    "pred_tickers = pred_df['ticker'].unique()\n",
    "pred_X = pred_df.drop(['ticker','label'], axis=1).values\n",
    "\n",
    "for i in xrange(pred_X.shape[0]):\n",
    "    scaler = Trainer.get_scale()\n",
    "    x = scaler.transform(pred_X[i:i+1,0:9])\n",
    "    x = Trainer.add_bias(x)\n",
    "    y_hat = nn.forward_propagate(x)\n",
    "    print str(i).rjust(2), str(pred_tickers[i]).rjust(4), np.round(y_hat[0][0],2)"
   ]
  }
 ],
 "metadata": {
  "kernelspec": {
   "display_name": "Python 2",
   "language": "python",
   "name": "python2"
  },
  "language_info": {
   "codemirror_mode": {
    "name": "ipython",
    "version": 2
   },
   "file_extension": ".py",
   "mimetype": "text/x-python",
   "name": "python",
   "nbconvert_exporter": "python",
   "pygments_lexer": "ipython2",
   "version": "2.7.10"
  }
 },
 "nbformat": 4,
 "nbformat_minor": 0
}
