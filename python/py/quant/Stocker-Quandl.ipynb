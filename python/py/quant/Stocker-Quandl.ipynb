{
 "cells": [
  {
   "cell_type": "code",
   "execution_count": 36,
   "metadata": {
    "collapsed": false
   },
   "outputs": [],
   "source": [
    "from imports import *\n",
    "import avg_clf_train\n",
    "import import_data\n",
    "\n",
    "%matplotlib inline"
   ]
  },
  {
   "cell_type": "markdown",
   "metadata": {},
   "source": [
    "---"
   ]
  },
  {
   "cell_type": "code",
   "execution_count": 37,
   "metadata": {
    "collapsed": false
   },
   "outputs": [
    {
     "name": "stdout",
     "output_type": "stream",
     "text": [
      "            Open       High    Low  Close   Volume  Adjusted Close\n",
      "Date                                                              \n",
      "2015-08-20  18.4  18.860001  17.16  17.18  1594500           17.18\n"
     ]
    }
   ],
   "source": [
    "check = True\n",
    "\n",
    "if check == True:\n",
    "    # check if last day's data is available\n",
    "    print Quandl.get(\"YAHOO/HALO\", authtoken='DVhizWXNTePyzzy1eHWR').tail(1)"
   ]
  },
  {
   "cell_type": "markdown",
   "metadata": {},
   "source": [
    "---"
   ]
  },
  {
   "cell_type": "code",
   "execution_count": 38,
   "metadata": {
    "collapsed": false
   },
   "outputs": [
    {
     "name": "stdout",
     "output_type": "stream",
     "text": [
      "97 total tickers to start\n",
      "\n",
      "removed: AAVL\n",
      "removed: APTO\n",
      "removed: ATRA\n",
      "removed: BLFS\n",
      "removed: CAPN\n",
      "removed: CASI\n",
      "removed: CDTX\n",
      "removed: CGNT\n",
      "removed: CHRS\n",
      "removed: CLLS\n",
      "removed: DBVT\n",
      "removed: EDAP\n",
      "removed: GENE\n",
      "removed: INCR\n",
      "removed: JUNO\n",
      "removed: KITE\n",
      "removed: LOXO\n",
      "removed: TENX\n",
      "\n",
      "79 available tickers:\n",
      "['ABIO', 'ACOR', 'ADMA', 'AERI', 'AFFX', 'AGEN', 'APPY', 'ARDM', 'ARIA', 'ARNA', 'ARWR', 'AXDX', 'AXGN', 'BABY', 'BASI', 'BCLI', 'BCRX', 'BGMD', 'BIIB', 'BLUE', 'BOTA', 'BRKR', 'CBLI', 'CBMG', 'CBMX', 'CBPO', 'CGEN', 'CLDN', 'CLDX', 'CNMD', 'COHR', 'CPHD', 'CPRX', 'CRIS', 'CUTR', 'CYBX', 'CYNO', 'CYTR', 'DARA', 'DRAD', 'DSCO', 'DYAX', 'ECTE', 'ECYT', 'ELOS', 'ENZN', 'ESMC', 'ETRM', 'EXAS', 'EXEL', 'FATE', 'FEIC', 'FLDM', 'FONR', 'GEVA', 'GILD', 'GNCA', 'HALO', 'HSKA', 'IART', 'ICCC', 'IDRA', 'IDXX', 'ILMN', 'IMMU', 'IMRS', 'INCY', 'INO', 'IRIX', 'LPCN', 'MEIP', 'MNKD', 'OREX', 'PGNX', 'QLTI', 'RMTI', 'SGYP', 'THLD', 'TNXP']\n"
     ]
    }
   ],
   "source": [
    "download = True\n",
    "\n",
    "start_tickers = ticker_list.tickers\n",
    "tickers = []\n",
    "\n",
    "print len(start_tickers), \"total tickers to start\\n\"\n",
    "\n",
    "if download == True:\n",
    "    # download data\n",
    "    for ticker in start_tickers:\n",
    "        try:\n",
    "            stock_df = Quandl.get(\"YAHOO/{}\".format(ticker), authtoken='DVhizWXNTePyzzy1eHWR')\n",
    "            stock_df.to_csv(\"quandl_data/{}.csv\".format(ticker), index=False)\n",
    "            tickers.append(ticker)\n",
    "        except:\n",
    "            print \"removed:\", ticker\n",
    "            \n",
    "elif download == False:\n",
    "    tickers = [filename[:-4] for filename in os.listdir('quandl_data')]\n",
    "            \n",
    "print \"\\n\", len(tickers), \"available tickers:\"\n",
    "print tickers"
   ]
  },
  {
   "cell_type": "markdown",
   "metadata": {},
   "source": [
    "---"
   ]
  },
  {
   "cell_type": "code",
   "execution_count": 4,
   "metadata": {
    "collapsed": false
   },
   "outputs": [
    {
     "name": "stdout",
     "output_type": "stream",
     "text": [
      "(131977, 10)\n"
     ]
    },
    {
     "data": {
      "text/html": [
       "<div style=\"max-height:1000px;max-width:1500px;overflow:auto;\">\n",
       "<table border=\"1\" class=\"dataframe\">\n",
       "  <thead>\n",
       "    <tr style=\"text-align: right;\">\n",
       "      <th></th>\n",
       "      <th>Open</th>\n",
       "      <th>High</th>\n",
       "      <th>Low</th>\n",
       "      <th>Close</th>\n",
       "      <th>Volume</th>\n",
       "      <th>50dravg</th>\n",
       "      <th>200dravg</th>\n",
       "      <th>OC%</th>\n",
       "      <th>HL%</th>\n",
       "      <th>label</th>\n",
       "    </tr>\n",
       "  </thead>\n",
       "  <tbody>\n",
       "    <tr>\n",
       "      <th>818</th>\n",
       "      <td>7.60</td>\n",
       "      <td>7.65</td>\n",
       "      <td>7.14</td>\n",
       "      <td>7.36</td>\n",
       "      <td>168900</td>\n",
       "      <td>8.6044</td>\n",
       "      <td>7.05175</td>\n",
       "      <td>-0.031579</td>\n",
       "      <td>0.071429</td>\n",
       "      <td>0</td>\n",
       "    </tr>\n",
       "    <tr>\n",
       "      <th>819</th>\n",
       "      <td>7.40</td>\n",
       "      <td>7.63</td>\n",
       "      <td>7.12</td>\n",
       "      <td>7.18</td>\n",
       "      <td>158300</td>\n",
       "      <td>8.6014</td>\n",
       "      <td>7.05270</td>\n",
       "      <td>-0.029730</td>\n",
       "      <td>0.071629</td>\n",
       "      <td>0</td>\n",
       "    </tr>\n",
       "    <tr>\n",
       "      <th>820</th>\n",
       "      <td>7.17</td>\n",
       "      <td>7.24</td>\n",
       "      <td>6.60</td>\n",
       "      <td>6.95</td>\n",
       "      <td>301600</td>\n",
       "      <td>8.5844</td>\n",
       "      <td>7.05000</td>\n",
       "      <td>-0.030683</td>\n",
       "      <td>0.096970</td>\n",
       "      <td>0</td>\n",
       "    </tr>\n",
       "    <tr>\n",
       "      <th>821</th>\n",
       "      <td>6.90</td>\n",
       "      <td>7.06</td>\n",
       "      <td>6.77</td>\n",
       "      <td>6.97</td>\n",
       "      <td>160500</td>\n",
       "      <td>8.5686</td>\n",
       "      <td>7.04795</td>\n",
       "      <td>0.010145</td>\n",
       "      <td>0.042836</td>\n",
       "      <td>0</td>\n",
       "    </tr>\n",
       "    <tr>\n",
       "      <th>822</th>\n",
       "      <td>7.06</td>\n",
       "      <td>7.60</td>\n",
       "      <td>7.03</td>\n",
       "      <td>7.33</td>\n",
       "      <td>175100</td>\n",
       "      <td>8.5522</td>\n",
       "      <td>7.04460</td>\n",
       "      <td>0.038244</td>\n",
       "      <td>0.081081</td>\n",
       "      <td>0</td>\n",
       "    </tr>\n",
       "  </tbody>\n",
       "</table>\n",
       "</div>"
      ],
      "text/plain": [
       "     Open  High   Low  Close  Volume  50dravg  200dravg       OC%       HL%  \\\n",
       "818  7.60  7.65  7.14   7.36  168900   8.6044   7.05175 -0.031579  0.071429   \n",
       "819  7.40  7.63  7.12   7.18  158300   8.6014   7.05270 -0.029730  0.071629   \n",
       "820  7.17  7.24  6.60   6.95  301600   8.5844   7.05000 -0.030683  0.096970   \n",
       "821  6.90  7.06  6.77   6.97  160500   8.5686   7.04795  0.010145  0.042836   \n",
       "822  7.06  7.60  7.03   7.33  175100   8.5522   7.04460  0.038244  0.081081   \n",
       "\n",
       "     label  \n",
       "818      0  \n",
       "819      0  \n",
       "820      0  \n",
       "821      0  \n",
       "822      0  "
      ]
     },
     "execution_count": 4,
     "metadata": {},
     "output_type": "execute_result"
    }
   ],
   "source": [
    "stock_df, prediction_df = import_data.import_data(tickers)\n",
    "print stock_df.shape\n",
    "stock_df.tail()"
   ]
  },
  {
   "cell_type": "markdown",
   "metadata": {},
   "source": [
    "---"
   ]
  },
  {
   "cell_type": "code",
   "execution_count": 5,
   "metadata": {
    "collapsed": false
   },
   "outputs": [],
   "source": [
    "#stock_df[stock_df['Open'] > 5.0]"
   ]
  },
  {
   "cell_type": "code",
   "execution_count": 6,
   "metadata": {
    "collapsed": false
   },
   "outputs": [],
   "source": [
    "#prediction_df[prediction_df['Open'] > 5.0]"
   ]
  },
  {
   "cell_type": "code",
   "execution_count": 7,
   "metadata": {
    "collapsed": false
   },
   "outputs": [
    {
     "data": {
      "text/html": [
       "<div style=\"max-height:1000px;max-width:1500px;overflow:auto;\">\n",
       "<table border=\"1\" class=\"dataframe\">\n",
       "  <thead>\n",
       "    <tr style=\"text-align: right;\">\n",
       "      <th></th>\n",
       "      <th>Open</th>\n",
       "      <th>High</th>\n",
       "      <th>Low</th>\n",
       "      <th>Close</th>\n",
       "      <th>Volume</th>\n",
       "      <th>50dravg</th>\n",
       "      <th>200dravg</th>\n",
       "      <th>OC%</th>\n",
       "      <th>HL%</th>\n",
       "      <th>label</th>\n",
       "    </tr>\n",
       "  </thead>\n",
       "  <tbody>\n",
       "    <tr>\n",
       "      <th>count</th>\n",
       "      <td>131977.000000</td>\n",
       "      <td>131977.000000</td>\n",
       "      <td>131977.000000</td>\n",
       "      <td>131977.000000</td>\n",
       "      <td>1.319770e+05</td>\n",
       "      <td>131977.000000</td>\n",
       "      <td>131977.000000</td>\n",
       "      <td>131977.000000</td>\n",
       "      <td>131977.000000</td>\n",
       "      <td>131977.000000</td>\n",
       "    </tr>\n",
       "    <tr>\n",
       "      <th>mean</th>\n",
       "      <td>22.609190</td>\n",
       "      <td>23.085921</td>\n",
       "      <td>22.120440</td>\n",
       "      <td>22.610729</td>\n",
       "      <td>1.649125e+06</td>\n",
       "      <td>22.315739</td>\n",
       "      <td>21.449060</td>\n",
       "      <td>0.000374</td>\n",
       "      <td>0.059189</td>\n",
       "      <td>0.064898</td>\n",
       "    </tr>\n",
       "    <tr>\n",
       "      <th>std</th>\n",
       "      <td>32.644307</td>\n",
       "      <td>33.196261</td>\n",
       "      <td>32.066519</td>\n",
       "      <td>32.635716</td>\n",
       "      <td>5.181548e+06</td>\n",
       "      <td>31.724029</td>\n",
       "      <td>28.987406</td>\n",
       "      <td>0.046625</td>\n",
       "      <td>0.063672</td>\n",
       "      <td>0.246346</td>\n",
       "    </tr>\n",
       "    <tr>\n",
       "      <th>min</th>\n",
       "      <td>0.030000</td>\n",
       "      <td>0.030000</td>\n",
       "      <td>0.020000</td>\n",
       "      <td>0.030000</td>\n",
       "      <td>1.001000e+05</td>\n",
       "      <td>0.069003</td>\n",
       "      <td>0.084154</td>\n",
       "      <td>-0.800000</td>\n",
       "      <td>0.000000</td>\n",
       "      <td>0.000000</td>\n",
       "    </tr>\n",
       "    <tr>\n",
       "      <th>25%</th>\n",
       "      <td>4.850000</td>\n",
       "      <td>5.000000</td>\n",
       "      <td>4.680000</td>\n",
       "      <td>4.840000</td>\n",
       "      <td>2.090000e+05</td>\n",
       "      <td>4.818600</td>\n",
       "      <td>4.906550</td>\n",
       "      <td>-0.018902</td>\n",
       "      <td>0.029046</td>\n",
       "      <td>0.000000</td>\n",
       "    </tr>\n",
       "    <tr>\n",
       "      <th>50%</th>\n",
       "      <td>11.630000</td>\n",
       "      <td>11.970000</td>\n",
       "      <td>11.300000</td>\n",
       "      <td>11.625000</td>\n",
       "      <td>4.398000e+05</td>\n",
       "      <td>11.558200</td>\n",
       "      <td>11.401400</td>\n",
       "      <td>0.000000</td>\n",
       "      <td>0.044776</td>\n",
       "      <td>0.000000</td>\n",
       "    </tr>\n",
       "    <tr>\n",
       "      <th>75%</th>\n",
       "      <td>28.799999</td>\n",
       "      <td>29.440001</td>\n",
       "      <td>28.149999</td>\n",
       "      <td>28.799999</td>\n",
       "      <td>1.077200e+06</td>\n",
       "      <td>28.537400</td>\n",
       "      <td>27.641550</td>\n",
       "      <td>0.017032</td>\n",
       "      <td>0.070191</td>\n",
       "      <td>0.000000</td>\n",
       "    </tr>\n",
       "    <tr>\n",
       "      <th>max</th>\n",
       "      <td>475.920013</td>\n",
       "      <td>480.179993</td>\n",
       "      <td>460.500000</td>\n",
       "      <td>475.980011</td>\n",
       "      <td>4.553760e+08</td>\n",
       "      <td>419.842800</td>\n",
       "      <td>376.095399</td>\n",
       "      <td>3.365482</td>\n",
       "      <td>5.238095</td>\n",
       "      <td>1.000000</td>\n",
       "    </tr>\n",
       "  </tbody>\n",
       "</table>\n",
       "</div>"
      ],
      "text/plain": [
       "                Open           High            Low          Close  \\\n",
       "count  131977.000000  131977.000000  131977.000000  131977.000000   \n",
       "mean       22.609190      23.085921      22.120440      22.610729   \n",
       "std        32.644307      33.196261      32.066519      32.635716   \n",
       "min         0.030000       0.030000       0.020000       0.030000   \n",
       "25%         4.850000       5.000000       4.680000       4.840000   \n",
       "50%        11.630000      11.970000      11.300000      11.625000   \n",
       "75%        28.799999      29.440001      28.149999      28.799999   \n",
       "max       475.920013     480.179993     460.500000     475.980011   \n",
       "\n",
       "             Volume        50dravg       200dravg            OC%  \\\n",
       "count  1.319770e+05  131977.000000  131977.000000  131977.000000   \n",
       "mean   1.649125e+06      22.315739      21.449060       0.000374   \n",
       "std    5.181548e+06      31.724029      28.987406       0.046625   \n",
       "min    1.001000e+05       0.069003       0.084154      -0.800000   \n",
       "25%    2.090000e+05       4.818600       4.906550      -0.018902   \n",
       "50%    4.398000e+05      11.558200      11.401400       0.000000   \n",
       "75%    1.077200e+06      28.537400      27.641550       0.017032   \n",
       "max    4.553760e+08     419.842800     376.095399       3.365482   \n",
       "\n",
       "                 HL%          label  \n",
       "count  131977.000000  131977.000000  \n",
       "mean        0.059189       0.064898  \n",
       "std         0.063672       0.246346  \n",
       "min         0.000000       0.000000  \n",
       "25%         0.029046       0.000000  \n",
       "50%         0.044776       0.000000  \n",
       "75%         0.070191       0.000000  \n",
       "max         5.238095       1.000000  "
      ]
     },
     "execution_count": 7,
     "metadata": {},
     "output_type": "execute_result"
    }
   ],
   "source": [
    "stock_df.describe()"
   ]
  },
  {
   "cell_type": "code",
   "execution_count": 8,
   "metadata": {
    "collapsed": false
   },
   "outputs": [
    {
     "data": {
      "image/png": "[encoded data removed]",
      "text/plain": [
       "<matplotlib.figure.Figure at 0x10e905790>"
      ]
     },
     "metadata": {},
     "output_type": "display_data"
    }
   ],
   "source": [
    "stock_df.Volume.hist(bins=50)\n",
    "plt.show()"
   ]
  },
  {
   "cell_type": "code",
   "execution_count": 9,
   "metadata": {
    "collapsed": false
   },
   "outputs": [
    {
     "name": "stdout",
     "output_type": "stream",
     "text": [
      "0 Open -0.0592818047289\n",
      "1 High -0.0575142475735\n",
      "2 Low -0.0613173520365\n",
      "3 Close -0.0592486644931\n",
      "4 Volume 0.00737461607854\n",
      "5 50dravg -0.0559084871407\n",
      "6 200dravg -0.0530666886678\n",
      "7 OC% 0.00783466864888\n",
      "8 HL% 0.142632220126\n",
      "9 label 1.0\n"
     ]
    }
   ],
   "source": [
    "for i in xrange(len(stock_df.columns)):\n",
    "    print i, stock_df.columns[i], stock_df.corr()['label'].values[i]"
   ]
  },
  {
   "cell_type": "code",
   "execution_count": 10,
   "metadata": {
    "collapsed": false
   },
   "outputs": [
    {
     "data": {
      "image/png": "[encoded data removed]",
      "text/plain": [
       "<matplotlib.figure.Figure at 0x10e910850>"
      ]
     },
     "metadata": {},
     "output_type": "display_data"
    }
   ],
   "source": [
    "negative_df = stock_df[stock_df['label'] == 0]\n",
    "positive_df = stock_df[stock_df['label'] == 1]\n",
    "\n",
    "plt.scatter(negative_df['200dravg'], negative_df['Volume'])\n",
    "plt.scatter(positive_df['200dravg'], positive_df['Volume'], color='r')\n",
    "plt.show()"
   ]
  },
  {
   "cell_type": "code",
   "execution_count": 11,
   "metadata": {
    "collapsed": false
   },
   "outputs": [
    {
     "data": {
      "image/png": "[encoded data removed]",
      "text/plain": [
       "<matplotlib.figure.Figure at 0x10e67c0d0>"
      ]
     },
     "metadata": {},
     "output_type": "display_data"
    }
   ],
   "source": [
    "x, y, z = 'HL%', 'Low', 'Open'\n",
    "\n",
    "fig = plt.figure()\n",
    "ax = fig.gca(projection='3d')\n",
    "ax.scatter(negative_df[x], negative_df[y], negative_df[z], alpha=0.5, color='y')\n",
    "ax.scatter(positive_df[x], positive_df[y], positive_df[z], color='r')\n",
    "ax.set_xlabel(x)\n",
    "ax.set_ylabel(y)\n",
    "ax.set_zlabel(z)\n",
    "ax.view_init(azim=250)\n",
    "plt.show()"
   ]
  },
  {
   "cell_type": "code",
   "execution_count": 12,
   "metadata": {
    "collapsed": false
   },
   "outputs": [
    {
     "name": "stdout",
     "output_type": "stream",
     "text": [
      "(131977, 9) (131977,)\n"
     ]
    }
   ],
   "source": [
    "y = stock_df['label'].values\n",
    "stock_df = stock_df.drop('label', axis=1)\n",
    "X = stock_df.values\n",
    "\n",
    "print X.shape, y.shape"
   ]
  },
  {
   "cell_type": "code",
   "execution_count": 13,
   "metadata": {
    "collapsed": false
   },
   "outputs": [
    {
     "data": {
      "image/png": "[encoded data removed]",
      "text/plain": [
       "<matplotlib.figure.Figure at 0x10e66df90>"
      ]
     },
     "metadata": {},
     "output_type": "display_data"
    }
   ],
   "source": [
    "plt.hist(y, bins=50, alpha=0.7, color='r')\n",
    "plt.show()"
   ]
  },
  {
   "cell_type": "code",
   "execution_count": 14,
   "metadata": {
    "collapsed": false
   },
   "outputs": [
    {
     "name": "stdout",
     "output_type": "stream",
     "text": [
      "(2,) \n",
      "\n",
      "[0 1]\n"
     ]
    }
   ],
   "source": [
    "y_values = np.unique(y, return_counts=True)[0]\n",
    "print y_values.shape, \"\\n\"\n",
    "print y_values"
   ]
  },
  {
   "cell_type": "code",
   "execution_count": 15,
   "metadata": {
    "collapsed": false
   },
   "outputs": [
    {
     "name": "stdout",
     "output_type": "stream",
     "text": [
      "[123412   8565]\n",
      "percent 1:  0.064897671564\n"
     ]
    }
   ],
   "source": [
    "num_of_classes = np.unique(y, return_counts=True)[1]\n",
    "print num_of_classes\n",
    "print \"percent 1: \", np.true_divide(num_of_classes[1],np.sum(num_of_classes))"
   ]
  },
  {
   "cell_type": "code",
   "execution_count": 16,
   "metadata": {
    "collapsed": false
   },
   "outputs": [
    {
     "name": "stdout",
     "output_type": "stream",
     "text": [
      "0\n",
      "[]\n",
      "[]\n"
     ]
    }
   ],
   "source": [
    "classes_to_remove = []\n",
    "for i in np.where(num_of_classes == 1)[0]:\n",
    "    classes_to_remove.append(y_values[i])\n",
    "\n",
    "print len(classes_to_remove)\n",
    "print classes_to_remove[:5]\n",
    "print classes_to_remove[-5:]"
   ]
  },
  {
   "cell_type": "code",
   "execution_count": 17,
   "metadata": {
    "collapsed": false
   },
   "outputs": [
    {
     "name": "stdout",
     "output_type": "stream",
     "text": [
      "number of labels:  2\n"
     ]
    }
   ],
   "source": [
    "print \"number of labels: \", np.unique(y, return_counts=True)[0].shape[0]"
   ]
  },
  {
   "cell_type": "code",
   "execution_count": 18,
   "metadata": {
    "collapsed": false
   },
   "outputs": [],
   "source": [
    "#for i in xrange(X.shape[1]):\n",
    "#    plt.scatter(X[:,i], y)\n",
    "#    plt.show()"
   ]
  },
  {
   "cell_type": "code",
   "execution_count": 19,
   "metadata": {
    "collapsed": false
   },
   "outputs": [],
   "source": [
    "#for i in xrange(X.shape[1]):\n",
    "#    plt.hist(X[:,i])\n",
    "#    plt.show()"
   ]
  },
  {
   "cell_type": "markdown",
   "metadata": {},
   "source": [
    "---"
   ]
  },
  {
   "cell_type": "code",
   "execution_count": 20,
   "metadata": {
    "collapsed": false,
    "scrolled": false
   },
   "outputs": [
    {
     "name": "stdout",
     "output_type": "stream",
     "text": [
      "k = 4\n",
      "Open 352.91\n",
      "High 329.83\n",
      "Low 378.09\n",
      "Close 350.87\n",
      "Volume 4.79\n",
      "50dravg 307.71\n",
      "200dravg 279.47\n",
      "OC% 12.71\n",
      "HL% 2232.49\n",
      "\n",
      "DecisionTreeClassifier(class_weight='auto', criterion='gini', max_depth=None,\n",
      "            max_features='auto', max_leaf_nodes=None, min_samples_leaf=1,\n",
      "            min_samples_split=2, min_weight_fraction_leaf=0.0,\n",
      "            random_state=42, splitter='best')\n",
      "0.886194878012\n",
      "\n",
      "confusion matrix:\n",
      "     FALSE   TRUE\n",
      "FALSE [23227  1443] \n",
      "TRUE  [1561  165]\n",
      "\n",
      "             precision    recall  f1-score   support\n",
      "\n",
      "          0       0.94      0.94      0.94     24670\n",
      "          1       0.10      0.10      0.10      1726\n",
      "\n",
      "avg / total       0.88      0.89      0.88     26396\n",
      "\n",
      "\n",
      "minutes for learner to run: 0.011\n",
      "\n"
     ]
    },
    {
     "data": {
      "text/plain": [
       "'\\ndef avg_clf_train_func(X, y, k, stock_df): \\n\\n    clf_or_regr = \"clf\"\\n\\n    t0 = time()\\n\\n\\n    ############################################################################ \\n\\n    pipeline = make_pipeline(DecisionTreeClassifier())\\n\\n        # cross validation    \\n    cv = StratifiedShuffleSplit(y, test_size=0.2, random_state=42)\\n\\n    # tune parameters\\n    params = dict()\\n\\n    params[\\'decisiontreeclassifier__criterion\\'] = [\\'gini\\', \\'entropy\\']\\n    params[\\'decisiontreeclassifier__max_features\\'] = [\\'auto\\', \\'sqrt\\', \\'log2\\', None]\\n    params[\\'decisiontreeclassifier__class_weight\\'] = [\\'auto\\', None]\\n    params[\\'decisiontreeclassifier__random_state\\'] = [42]\\n\\n    grid_search = GridSearchCV(pipeline, param_grid=params, n_jobs=1, cv=cv)\\n\\n    grid_search.fit(X, y)\\n\\n    print grid_search.best_estimator_\\n\\n\\n    return skb, learners\\n\\nskb, learners = avg_clf_train_func(X, y, 4, stock_df)\\n'"
      ]
     },
     "execution_count": 20,
     "metadata": {},
     "output_type": "execute_result"
    }
   ],
   "source": [
    "skb, learners = avg_clf_train.avg_clf_train(X, y, 4, 100.0, 0.1, stock_df)\n",
    "\n",
    "'''\n",
    "def avg_clf_train_func(X, y, k, stock_df): \n",
    "\n",
    "    clf_or_regr = \"clf\"\n",
    "\n",
    "    t0 = time()\n",
    "\n",
    "\n",
    "    ############################################################################ \n",
    "\n",
    "    pipeline = make_pipeline(DecisionTreeClassifier())\n",
    "\n",
    "        # cross validation    \n",
    "    cv = StratifiedShuffleSplit(y, test_size=0.2, random_state=42)\n",
    "\n",
    "    # tune parameters\n",
    "    params = dict()\n",
    "\n",
    "    params['decisiontreeclassifier__criterion'] = ['gini', 'entropy']\n",
    "    params['decisiontreeclassifier__max_features'] = ['auto', 'sqrt', 'log2', None]\n",
    "    params['decisiontreeclassifier__class_weight'] = ['auto', None]\n",
    "    params['decisiontreeclassifier__random_state'] = [42]\n",
    "\n",
    "    grid_search = GridSearchCV(pipeline, param_grid=params, n_jobs=1, cv=cv)\n",
    "\n",
    "    grid_search.fit(X, y)\n",
    "\n",
    "    print grid_search.best_estimator_\n",
    "\n",
    "\n",
    "    return skb, learners\n",
    "\n",
    "skb, learners = avg_clf_train_func(X, y, 4, stock_df)\n",
    "'''"
   ]
  },
  {
   "cell_type": "markdown",
   "metadata": {},
   "source": [
    "---"
   ]
  },
  {
   "cell_type": "code",
   "execution_count": 21,
   "metadata": {
    "collapsed": false
   },
   "outputs": [],
   "source": [
    "#X_df = pd.DataFrame(X[:,:4])\n",
    "#X_df = pd.DataFrame(X)\n",
    "#X_df['labels'] = y\n",
    "#sns.pairplot(X_df, hue='labels')\n",
    "#plt.show()"
   ]
  },
  {
   "cell_type": "code",
   "execution_count": 22,
   "metadata": {
    "collapsed": false
   },
   "outputs": [],
   "source": [
    "#plt.hist(y, color='b', alpha=0.7)\n",
    "#plt.hist(y_pred, color='y', alpha=0.7)\n",
    "#plt.show()"
   ]
  },
  {
   "cell_type": "code",
   "execution_count": 23,
   "metadata": {
    "collapsed": false
   },
   "outputs": [],
   "source": [
    "#plt.scatter(np.arange(y.shape[0]), y, color='b', alpha=0.7)\n",
    "#plt.scatter(np.arange(y_pred.shape[0]), y_pred, color='y', alpha=0.7)\n",
    "#plt.show()"
   ]
  },
  {
   "cell_type": "code",
   "execution_count": 24,
   "metadata": {
    "collapsed": false
   },
   "outputs": [],
   "source": [
    "#y_pred - y"
   ]
  },
  {
   "cell_type": "code",
   "execution_count": 25,
   "metadata": {
    "collapsed": false
   },
   "outputs": [],
   "source": [
    "#np.sum(y)"
   ]
  },
  {
   "cell_type": "code",
   "execution_count": 26,
   "metadata": {
    "collapsed": false
   },
   "outputs": [],
   "source": [
    "#error_count = 0\n",
    "#for i in xrange(len(y)):\n",
    "#    if y_pred[i] != y[i]:\n",
    "#        error_count += 1\n",
    "#        \n",
    "#print error_count, \" / \", len(y) "
   ]
  },
  {
   "cell_type": "markdown",
   "metadata": {},
   "source": [
    "---"
   ]
  },
  {
   "cell_type": "code",
   "execution_count": 27,
   "metadata": {
    "collapsed": false
   },
   "outputs": [],
   "source": [
    "pred_df = prediction_df[prediction_df['label'].apply(np.isnan) == True]"
   ]
  },
  {
   "cell_type": "code",
   "execution_count": 28,
   "metadata": {
    "collapsed": true
   },
   "outputs": [],
   "source": [
    "pred_tickers = pred_df['ticker'].unique()"
   ]
  },
  {
   "cell_type": "code",
   "execution_count": 29,
   "metadata": {
    "collapsed": false
   },
   "outputs": [
    {
     "name": "stdout",
     "output_type": "stream",
     "text": [
      "(58, 9)\n",
      "[  9.30000000e-01   9.50000000e-01   8.90000000e-01   9.20000000e-01\n",
      "   1.23900000e+05   1.06900000e+00   8.92050000e-01  -1.07526882e-02\n",
      "   6.74157303e-02]\n"
     ]
    }
   ],
   "source": [
    "pred_X = pred_df.drop(['ticker','label'], axis=1).values\n",
    "print pred_X.shape\n",
    "print pred_X[0]"
   ]
  },
  {
   "cell_type": "code",
   "execution_count": 30,
   "metadata": {
    "collapsed": false
   },
   "outputs": [
    {
     "name": "stdout",
     "output_type": "stream",
     "text": [
      "(58, 4)\n"
     ]
    }
   ],
   "source": [
    "pred_X = skb.transform(pred_X)\n",
    "print pred_X.shape"
   ]
  },
  {
   "cell_type": "code",
   "execution_count": 31,
   "metadata": {
    "collapsed": false
   },
   "outputs": [
    {
     "name": "stdout",
     "output_type": "stream",
     "text": [
      "(58,)\n"
     ]
    }
   ],
   "source": [
    "y_predictions = []\n",
    "for learner in learners:\n",
    "    y_pred = learner.predict(pred_X)\n",
    "    print y_pred.shape\n",
    "    y_predictions.append(y_pred)"
   ]
  },
  {
   "cell_type": "code",
   "execution_count": 32,
   "metadata": {
    "collapsed": false
   },
   "outputs": [
    {
     "name": "stdout",
     "output_type": "stream",
     "text": [
      "1\n"
     ]
    }
   ],
   "source": [
    "print len(y_predictions)\n",
    "y_predictions = y_predictions[0]"
   ]
  },
  {
   "cell_type": "code",
   "execution_count": 33,
   "metadata": {
    "collapsed": false
   },
   "outputs": [],
   "source": [
    "#y_pred_avg = np.mean(y_predictions, axis=1)\n",
    "#print y_pred_avg.shape"
   ]
  },
  {
   "cell_type": "code",
   "execution_count": 34,
   "metadata": {
    "collapsed": false
   },
   "outputs": [
    {
     "name": "stdout",
     "output_type": "stream",
     "text": [
      "0 ABIO 0\n",
      "1 ACOR 0\n",
      "2 AERI 0\n",
      "3 AFFX 0\n",
      "4 AGEN 0\n",
      "5 APPY 0\n",
      "6 ARIA 0\n",
      "7 ARNA 0\n",
      "8 ARWR 0\n",
      "9 AXDX 0\n",
      "10 BABY 0\n",
      "11 BCRX 0\n",
      "12 BGMD 1\n",
      "13 BIIB 0\n",
      "14 BLUE 0\n",
      "15 BRKR 0\n",
      "16 CBPO 0\n",
      "17 CGEN 0\n",
      "18 CLDN 0\n",
      "19 CLDX 0\n",
      "20 COHR 0\n",
      "21 CPHD 0\n",
      "22 CPRX 0\n",
      "23 CRIS 0\n",
      "24 CYBX 0\n",
      "25 CYNO 0\n",
      "26 CYTR 0\n",
      "27 DARA 0\n",
      "28 DSCO 0\n",
      "29 DYAX 1\n",
      "30 ECYT 0\n",
      "31 ENZN 0\n",
      "32 ETRM 0\n",
      "33 EXAS 0\n",
      "34 EXEL 1\n",
      "35 FATE 0\n",
      "36 FEIC 0\n",
      "37 FLDM 0\n",
      "38 GILD 0\n",
      "39 GNCA 0\n",
      "40 HALO 0\n",
      "41 IART 0\n",
      "42 IDRA 0\n",
      "43 IDXX 0\n",
      "44 ILMN 0\n",
      "45 IMMU 0\n",
      "46 IMRS 0\n",
      "47 INCY 0\n",
      "48 INO 1\n",
      "49 LPCN 0\n",
      "50 MEIP 0\n",
      "51 MNKD 0\n",
      "52 OREX 0\n",
      "53 PGNX 0\n",
      "54 RMTI 0\n",
      "55 SGYP 0\n",
      "56 THLD 0\n",
      "57 TNXP 0\n"
     ]
    }
   ],
   "source": [
    "positive_tickers = []\n",
    "for i in xrange(len(pred_tickers)):\n",
    "    print i, pred_tickers[i], y_predictions[i]\n",
    "    if y_predictions[i] == 1:\n",
    "        positive_tickers.append(pred_tickers[i])"
   ]
  },
  {
   "cell_type": "code",
   "execution_count": 35,
   "metadata": {
    "collapsed": false
   },
   "outputs": [
    {
     "data": {
      "image/png": "[encoded data removed]",
      "text/plain": [
       "<matplotlib.figure.Figure at 0x10e9303d0>"
      ]
     },
     "metadata": {},
     "output_type": "display_data"
    },
    {
     "name": "stdout",
     "output_type": "stream",
     "text": [
      "\tBGMD 100-day freq probability: 0.17\n",
      "~~~~~~~~~~~~~~~~~~~~~~~~~~~~~~~~~~~~~~~~~~~~~~~~~~ \n",
      "\n"
     ]
    },
    {
     "data": {
      "image/png": "[encoded data removed]",
      "text/plain": [
       "<matplotlib.figure.Figure at 0x10e930f50>"
      ]
     },
     "metadata": {},
     "output_type": "display_data"
    },
    {
     "name": "stdout",
     "output_type": "stream",
     "text": [
      "\tDYAX 100-day freq probability: 0.04\n",
      "~~~~~~~~~~~~~~~~~~~~~~~~~~~~~~~~~~~~~~~~~~~~~~~~~~ \n",
      "\n"
     ]
    },
    {
     "data": {
      "image/png": "[encoded data removed]",
      "text/plain": [
       "<matplotlib.figure.Figure at 0x111ef89d0>"
      ]
     },
     "metadata": {},
     "output_type": "display_data"
    },
    {
     "name": "stdout",
     "output_type": "stream",
     "text": [
      "\tEXEL 100-day freq probability: 0.11\n",
      "~~~~~~~~~~~~~~~~~~~~~~~~~~~~~~~~~~~~~~~~~~~~~~~~~~ \n",
      "\n"
     ]
    },
    {
     "data": {
      "image/png": "[encoded data removed]",
      "text/plain": [
       "<matplotlib.figure.Figure at 0x113eb9490>"
      ]
     },
     "metadata": {},
     "output_type": "display_data"
    },
    {
     "name": "stdout",
     "output_type": "stream",
     "text": [
      "\tINO 100-day freq probability: 0.03\n",
      "~~~~~~~~~~~~~~~~~~~~~~~~~~~~~~~~~~~~~~~~~~~~~~~~~~ \n",
      "\n"
     ]
    }
   ],
   "source": [
    "for ticker in positive_tickers:\n",
    "    \n",
    "    past_days = 100\n",
    "    \n",
    "    oc = prediction_df[prediction_df['ticker'] == ticker][\"OC%\"][-past_days:]\n",
    "    \n",
    "    num_days = oc.shape[0]\n",
    "    \n",
    "    day_range = np.arange(num_days)\n",
    "    \n",
    "    plt.plot(day_range, oc, alpha=0.5)\n",
    "    plt.plot(day_range, [0.05 for x in day_range], color='r')\n",
    "    plt.title(\"{0} (previous {1} days)\".format(ticker, num_days))\n",
    "    plt.show()\n",
    "\n",
    "    print \"\\t\", ticker, \"{}-day freq probability:\".format(past_days), np.true_divide(np.sum(oc.values > 0.05), past_days)\n",
    "    print \"~\"*50, \"\\n\"  "
   ]
  }
 ],
 "metadata": {
  "kernelspec": {
   "display_name": "Python 2",
   "language": "python",
   "name": "python2"
  },
  "language_info": {
   "codemirror_mode": {
    "name": "ipython",
    "version": 2
   },
   "file_extension": ".py",
   "mimetype": "text/x-python",
   "name": "python",
   "nbconvert_exporter": "python",
   "pygments_lexer": "ipython2",
   "version": "2.7.10"
  }
 },
 "nbformat": 4,
 "nbformat_minor": 0
}
