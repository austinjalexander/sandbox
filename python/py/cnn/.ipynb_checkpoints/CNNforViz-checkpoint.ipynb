{
 "cells": [
  {
   "cell_type": "code",
   "execution_count": 1,
   "metadata": {
    "collapsed": false
   },
   "outputs": [],
   "source": [
    "import numpy as np\n",
    "import pandas as pd"
   ]
  },
  {
   "cell_type": "code",
   "execution_count": 2,
   "metadata": {
    "collapsed": false
   },
   "outputs": [],
   "source": [
    "# from http://www.cs.toronto.edu/~kriz/cifar.html\n",
    "def unpickle(filename):\n",
    "    import cPickle\n",
    "    fo = open(filename, 'rb')\n",
    "    dict = cPickle.load(fo)\n",
    "    fo.close()\n",
    "    return dict"
   ]
  },
  {
   "cell_type": "code",
   "execution_count": 3,
   "metadata": {
    "collapsed": false
   },
   "outputs": [
    {
     "name": "stdout",
     "output_type": "stream",
     "text": [
      "(50000, 3072)\n",
      "(50000,)\n"
     ]
    }
   ],
   "source": [
    "X_train = []\n",
    "y_train = []\n",
    "for i in xrange(1,6):\n",
    "    data_batch = unpickle('/Users/excalibur/Dropbox/1_Studies/1_STEM/ArtificialIntelligence/datasets/cifar-10-batches-py/data_batch_{0}'.format(i))\n",
    "    if i == 1:\n",
    "        X_train = data_batch['data']\n",
    "        y_train = np.array(data_batch['labels'])\n",
    "    else:\n",
    "        X_train = np.vstack((X_train,data_batch['data']))\n",
    "        y_train = np.hstack((y_train,np.array(data_batch['labels'])))\n",
    "\n",
    "print X_train.shape\n",
    "print y_train.shape"
   ]
  },
  {
   "cell_type": "code",
   "execution_count": 4,
   "metadata": {
    "collapsed": false
   },
   "outputs": [
    {
     "name": "stdout",
     "output_type": "stream",
     "text": [
      "(10000, 3072)\n",
      "(10000,)\n"
     ]
    }
   ],
   "source": [
    "test_batch = unpickle('/Users/excalibur/Dropbox/1_Studies/1_STEM/ArtificialIntelligence/datasets/cifar-10-batches-py/test_batch')\n",
    "X_test = test_batch['data']\n",
    "y_test = np.array(test_batch['labels'])\n",
    "print X_test.shape\n",
    "print y_test.shape"
   ]
  },
  {
   "cell_type": "markdown",
   "metadata": {},
   "source": [
    "$d_{1}(I_{1},I_{2}) = \\sum\\limits_{p} \\lvert I_{1}^{p}-I_{2}^{p}\\rvert$"
   ]
  },
  {
   "cell_type": "code",
   "execution_count": 5,
   "metadata": {
    "collapsed": false
   },
   "outputs": [],
   "source": [
    "class NearestNeighbor:\n",
    "    def __init__(self):\n",
    "        self.X_train = []\n",
    "        self.y_train = []\n",
    "        self.y_hat = []\n",
    "    \n",
    "    def train(self,X,y):\n",
    "        self.X_train = X\n",
    "        self.y_train = y\n",
    "     \n",
    "    ### CRAZY SLOW\n",
    "    def predict_SLOW(self,X):\n",
    "        self.y_hat = np.zeros(X.shape[0], dtype=self.y_train.dtype)\n",
    "        for i in xrange(X.shape[0]):\n",
    "            L1_row_distances = np.sum(np.abs(self.X_train - X[i,:]), axis=1)\n",
    "            argmin_index = np.argmin(L1_row_distances)\n",
    "            self.y_hat[i] = self.y_train[argmin_index]\n",
    "            if i % 100 == 0:\n",
    "                print i\n",
    "        return self.y_hat\n",
    "    \n",
    "    def score(self,y):\n",
    "        return np.mean(self.y_hat == y)"
   ]
  },
  {
   "cell_type": "code",
   "execution_count": 6,
   "metadata": {
    "collapsed": false
   },
   "outputs": [],
   "source": [
    "#nn = NearestNeighbor()\n",
    "#nn.train(X_train, y_train)\n",
    "#y_hat = nn.predict(X_test)\n",
    "#nn.score(y_test)"
   ]
  },
  {
   "cell_type": "code",
   "execution_count": 7,
   "metadata": {
    "collapsed": false
   },
   "outputs": [],
   "source": [
    "from sklearn import neighbors, datasets"
   ]
  },
  {
   "cell_type": "code",
   "execution_count": 14,
   "metadata": {
    "collapsed": false
   },
   "outputs": [],
   "source": [
    "clf = neighbors.KNeighborsClassifier(10)"
   ]
  },
  {
   "cell_type": "code",
   "execution_count": null,
   "metadata": {
    "collapsed": false
   },
   "outputs": [],
   "source": [
    "clf.fit(X_train, y_train)\n",
    "clf.predict(X_test)"
   ]
  },
  {
   "cell_type": "code",
   "execution_count": 13,
   "metadata": {
    "collapsed": false
   },
   "outputs": [
    {
     "data": {
      "text/plain": [
       "0.16320000000000001"
      ]
     },
     "execution_count": 13,
     "metadata": {},
     "output_type": "execute_result"
    }
   ],
   "source": [
    "clf.score(X_test,y_test)"
   ]
  }
 ],
 "metadata": {
  "kernelspec": {
   "display_name": "Python 2",
   "language": "python",
   "name": "python2"
  },
  "language_info": {
   "codemirror_mode": {
    "name": "ipython",
    "version": 2
   },
   "file_extension": ".py",
   "mimetype": "text/x-python",
   "name": "python",
   "nbconvert_exporter": "python",
   "pygments_lexer": "ipython2",
   "version": "2.7.10"
  }
 },
 "nbformat": 4,
 "nbformat_minor": 0
}
