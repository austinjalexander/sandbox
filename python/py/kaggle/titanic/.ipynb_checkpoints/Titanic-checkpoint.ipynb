{
 "cells": [
  {
   "cell_type": "code",
   "execution_count": 3619,
   "metadata": {
    "collapsed": false
   },
   "outputs": [
    {
     "name": "stdout",
     "output_type": "stream",
     "text": [
      "['load_data(filename)', 'explore(df)', 'locate_null(df, col_name)', 'swap_null(df, col_name, value)', 'numericalize(df, col_names)', 'drop_obj_cols(df)']\n"
     ]
    }
   ],
   "source": [
    "%run /Users/excalibur/py/scripts/data_wrangling.py functions\n",
    "%matplotlib inline"
   ]
  },
  {
   "cell_type": "code",
   "execution_count": 3620,
   "metadata": {
    "collapsed": false
   },
   "outputs": [
    {
     "name": "stdout",
     "output_type": "stream",
     "text": [
      "genderclassmodel.csv  myfirstforest.py      train.csv\r\n",
      "genderclassmodel.py   predictions.csv       train_new.csv\r\n",
      "gendermodel.csv       test.csv\r\n",
      "gendermodel.py        test_new.csv\r\n"
     ]
    }
   ],
   "source": [
    "%ls data"
   ]
  },
  {
   "cell_type": "code",
   "execution_count": 3621,
   "metadata": {
    "collapsed": false
   },
   "outputs": [
    {
     "name": "stdout",
     "output_type": "stream",
     "text": [
      "SHAPE: (891, 6)\n",
      "\n",
      "HEAD:\n",
      "   Survived  Pclass  Sex  Age     Fare  Cabin\n",
      "0         0       3    1   22   7.2500      0\n",
      "1         1       1    2   38  71.2833      1\n",
      "2         1       3    2   26   7.9250      0\n"
     ]
    }
   ],
   "source": [
    "train_df = load_data('data/train_new.csv')"
   ]
  },
  {
   "cell_type": "code",
   "execution_count": 3622,
   "metadata": {
    "collapsed": false
   },
   "outputs": [],
   "source": [
    "#explore(train_df)"
   ]
  },
  {
   "cell_type": "code",
   "execution_count": 3623,
   "metadata": {
    "collapsed": false
   },
   "outputs": [
    {
     "name": "stdout",
     "output_type": "stream",
     "text": [
      "SHAPE: (418, 5)\n",
      "\n",
      "HEAD:\n",
      "   Pclass  Sex   Age    Fare  Cabin\n",
      "0       3    1  34.5  7.8292      0\n",
      "1       3    2  47.0  7.0000      0\n",
      "2       2    1  62.0  9.6875      0\n"
     ]
    }
   ],
   "source": [
    "submission_df = load_data('data/test_new.csv')"
   ]
  },
  {
   "cell_type": "code",
   "execution_count": 3624,
   "metadata": {
    "collapsed": false
   },
   "outputs": [],
   "source": [
    "#explore(submission_df)"
   ]
  },
  {
   "cell_type": "code",
   "execution_count": 3625,
   "metadata": {
    "collapsed": false
   },
   "outputs": [],
   "source": [
    "#train_df.plot()"
   ]
  },
  {
   "cell_type": "code",
   "execution_count": 3626,
   "metadata": {
    "collapsed": false
   },
   "outputs": [],
   "source": [
    "#train_df.plot(kind='box')"
   ]
  },
  {
   "cell_type": "code",
   "execution_count": 3627,
   "metadata": {
    "collapsed": false
   },
   "outputs": [],
   "source": [
    "#train_df['Age'].plot()"
   ]
  },
  {
   "cell_type": "code",
   "execution_count": 3628,
   "metadata": {
    "collapsed": false
   },
   "outputs": [],
   "source": [
    "#train_df['Fare'].plot(kind='hist', alpha=0.7, bins=20)"
   ]
  },
  {
   "cell_type": "code",
   "execution_count": 3629,
   "metadata": {
    "collapsed": false
   },
   "outputs": [],
   "source": [
    "#train_df.hist(figsize=(10, 8))\n",
    "#plt.show()"
   ]
  },
  {
   "cell_type": "code",
   "execution_count": 3630,
   "metadata": {
    "collapsed": false
   },
   "outputs": [],
   "source": [
    "#sns.pairplot(train_df[['Age', 'Embarked', 'Fare', 'Survived']], hue=\"Survived\")\n",
    "#plt.show()"
   ]
  },
  {
   "cell_type": "markdown",
   "metadata": {
    "collapsed": false
   },
   "source": [
    "---"
   ]
  },
  {
   "cell_type": "code",
   "execution_count": 3631,
   "metadata": {
    "collapsed": false
   },
   "outputs": [],
   "source": [
    "#train_df[train_df.loc[:,'Survived'] == 0]['Sex'].value_counts()"
   ]
  },
  {
   "cell_type": "code",
   "execution_count": 3632,
   "metadata": {
    "collapsed": false
   },
   "outputs": [],
   "source": [
    "#sns.factorplot(\"Survived\", hue='Sex', data=train_df)\n",
    "#plt.show()"
   ]
  },
  {
   "cell_type": "code",
   "execution_count": 3633,
   "metadata": {
    "collapsed": false
   },
   "outputs": [],
   "source": [
    "#train_df[train_df.loc[:,'Survived'] == 0]['Pclass'].hist(color='black', bins=7)\n",
    "#train_df[train_df.loc[:,'Survived'] == 1]['Pclass'].hist(color='green', alpha=0.7)\n",
    "#plt.show()"
   ]
  },
  {
   "cell_type": "code",
   "execution_count": 3634,
   "metadata": {
    "collapsed": false
   },
   "outputs": [],
   "source": [
    "#train_df[train_df.loc[:,'Survived'] == 0]['Sex'].hist(color='black', bins=7)\n",
    "#train_df[train_df.loc[:,'Survived'] == 1]['Sex'].hist(color='green', alpha=0.7)\n",
    "#plt.show()"
   ]
  },
  {
   "cell_type": "code",
   "execution_count": 3635,
   "metadata": {
    "collapsed": false
   },
   "outputs": [],
   "source": [
    "#train_df[train_df.loc[:,'Survived'] == 0]['Age'].hist(color='black', bins=7)\n",
    "#train_df[train_df.loc[:,'Survived'] == 1]['Age'].hist(color='green', alpha=0.7)\n",
    "#plt.show()"
   ]
  },
  {
   "cell_type": "code",
   "execution_count": 3636,
   "metadata": {
    "collapsed": false
   },
   "outputs": [],
   "source": [
    "#train_df[train_df.loc[:,'Survived'] == 0]['SibSp'].hist(color='black', bins=7)\n",
    "#train_df[train_df.loc[:,'Survived'] == 1]['SibSp'].hist(color='green', alpha=0.7)\n",
    "#plt.show()"
   ]
  },
  {
   "cell_type": "code",
   "execution_count": 3637,
   "metadata": {
    "collapsed": false
   },
   "outputs": [],
   "source": [
    "#train_df[train_df.loc[:,'Survived'] == 0]['Parch'].hist(color='black', bins=7)\n",
    "#train_df[train_df.loc[:,'Survived'] == 1]['Parch'].hist(color='green', alpha=0.7)\n",
    "#plt.show()"
   ]
  },
  {
   "cell_type": "code",
   "execution_count": 3638,
   "metadata": {
    "collapsed": false
   },
   "outputs": [],
   "source": [
    "#train_df[train_df.loc[:,'Survived'] == 0]['Fare'].hist(color='black', bins=7)\n",
    "#train_df[train_df.loc[:,'Survived'] == 1]['Fare'].hist(color='green', alpha=0.7)\n",
    "#plt.show()"
   ]
  },
  {
   "cell_type": "code",
   "execution_count": 3639,
   "metadata": {
    "collapsed": false
   },
   "outputs": [],
   "source": [
    "#train_df[train_df.loc[:,'Survived'] == 0]['Embarked'].hist(color='black', bins=7)\n",
    "#train_df[train_df.loc[:,'Survived'] == 1]['Embarked'].hist(color='green', alpha=0.7)\n",
    "#plt.show()"
   ]
  },
  {
   "cell_type": "code",
   "execution_count": 3640,
   "metadata": {
    "collapsed": false
   },
   "outputs": [],
   "source": [
    "#plt.scatter(train_df[train_df.loc[:,'Survived'] == 0]['Age'], train_df[train_df.loc[:,'Survived'] == 0]['Fare'], alpha=0.5, color='orange')\n",
    "#plt.scatter(train_df[train_df.loc[:,'Survived'] == 1]['Age'], train_df[train_df.loc[:,'Survived'] == 1]['Fare'], alpha=0.3, color='blue')\n",
    "#plt.show()"
   ]
  },
  {
   "cell_type": "code",
   "execution_count": 3641,
   "metadata": {
    "collapsed": false
   },
   "outputs": [],
   "source": [
    "# based on histograms, drop Age, SibSp, Parch, Embarked\n",
    "#cols_to_drop = ['Age', 'SibSp', 'Parch', 'Embarked']\n",
    "#train_df = train_df.drop(cols_to_drop, axis=1)\n",
    "#submission_df = submission_df.drop(cols_to_drop, axis=1)"
   ]
  },
  {
   "cell_type": "markdown",
   "metadata": {},
   "source": [
    "---"
   ]
  },
  {
   "cell_type": "code",
   "execution_count": 3642,
   "metadata": {
    "collapsed": false
   },
   "outputs": [],
   "source": [
    "train_df['ClassFare'] = train_df['Pclass'] * train_df['Fare']\n",
    "submission_df['ClassFare'] = submission_df['Pclass'] * submission_df['Fare']"
   ]
  },
  {
   "cell_type": "markdown",
   "metadata": {},
   "source": [
    "---"
   ]
  },
  {
   "cell_type": "code",
   "execution_count": 3643,
   "metadata": {
    "collapsed": false
   },
   "outputs": [],
   "source": [
    "train_y = train_df['Survived']\n",
    "train_df = train_df.drop('Survived', axis=1)"
   ]
  },
  {
   "cell_type": "code",
   "execution_count": 3644,
   "metadata": {
    "collapsed": false
   },
   "outputs": [],
   "source": [
    "train_X, test_X, train_y, test_y = train_test_split(train_df, train_y, test_size=0.20, random_state=1)"
   ]
  },
  {
   "cell_type": "code",
   "execution_count": 3645,
   "metadata": {
    "collapsed": false
   },
   "outputs": [],
   "source": [
    "clf = RandomForestClassifier(n_estimators = 300) # 10, 30, 100, 300\n",
    "clf = clf.fit(train_X,train_y)"
   ]
  },
  {
   "cell_type": "code",
   "execution_count": 3646,
   "metadata": {
    "collapsed": false
   },
   "outputs": [
    {
     "data": {
      "text/plain": [
       "0.8044692737430168"
      ]
     },
     "execution_count": 3646,
     "metadata": {},
     "output_type": "execute_result"
    }
   ],
   "source": [
    "clf.score(test_X,test_y)\n",
    "# BEST LOCAL SCORE AFTER STARTED USING train_test_split and numericalizing everything: 0.86033519553072624\n",
    "# WHEN LOCAL: 0.86033519553072624, KAGGLE WAS: 0.77990 \n",
    "# BEST KAGGLE: 0.78469, WHEN LOCAL WAS: 0.85474860335195535"
   ]
  },
  {
   "cell_type": "markdown",
   "metadata": {},
   "source": [
    "---"
   ]
  },
  {
   "cell_type": "code",
   "execution_count": 3658,
   "metadata": {
    "collapsed": false
   },
   "outputs": [],
   "source": [
    "clf = linear_model.LogisticRegression()\n",
    "clf = clf.fit(train_X, train_y)"
   ]
  },
  {
   "cell_type": "code",
   "execution_count": 3659,
   "metadata": {
    "collapsed": false
   },
   "outputs": [
    {
     "data": {
      "text/plain": [
       "0.81005586592178769"
      ]
     },
     "execution_count": 3659,
     "metadata": {},
     "output_type": "execute_result"
    }
   ],
   "source": [
    "clf.score(test_X,test_y)\n",
    "# BEST KAGGLE: 0.76555, WHEN LOCAL WAS: 0.81005586592178769"
   ]
  },
  {
   "cell_type": "markdown",
   "metadata": {},
   "source": [
    "---"
   ]
  },
  {
   "cell_type": "code",
   "execution_count": 3649,
   "metadata": {
    "collapsed": false
   },
   "outputs": [
    {
     "data": {
      "text/plain": [
       "0.71508379888268159"
      ]
     },
     "execution_count": 3649,
     "metadata": {},
     "output_type": "execute_result"
    }
   ],
   "source": [
    "from sklearn.naive_bayes import GaussianNB\n",
    "clf = GaussianNB()\n",
    "clf = clf.fit(train_X, train_y)\n",
    "clf.score(test_X,test_y)"
   ]
  },
  {
   "cell_type": "markdown",
   "metadata": {},
   "source": [
    "---"
   ]
  },
  {
   "cell_type": "code",
   "execution_count": 3660,
   "metadata": {
    "collapsed": false
   },
   "outputs": [
    {
     "name": "stdout",
     "output_type": "stream",
     "text": [
      "SHAPE: (418, 2)\n",
      "\n",
      "HEAD:\n",
      "   PassengerId  Survived\n",
      "0          892         0\n",
      "1          893         1\n",
      "2          894         0\n"
     ]
    }
   ],
   "source": [
    "# simply use this to get submission dataframe\n",
    "submission_y_df = load_data('data/genderclassmodel.csv') "
   ]
  },
  {
   "cell_type": "code",
   "execution_count": 3661,
   "metadata": {
    "collapsed": false
   },
   "outputs": [],
   "source": [
    "submission_y_df['Survived'] = clf.predict(submission_df)"
   ]
  },
  {
   "cell_type": "code",
   "execution_count": 3662,
   "metadata": {
    "collapsed": true
   },
   "outputs": [],
   "source": [
    "submission_y_df.to_csv('data/predictions.csv', index=False)"
   ]
  },
  {
   "cell_type": "markdown",
   "metadata": {},
   "source": [
    "---"
   ]
  },
  {
   "cell_type": "code",
   "execution_count": 3653,
   "metadata": {
    "collapsed": false
   },
   "outputs": [],
   "source": [
    "#test_pred = clf.predict(submission_df) # get predictions\n",
    "#clf.score(submission_df,submission_y['Survived'])\n",
    "### THESE LOCAL SCORES MEAN NOTHING BECAUSE I WAS COMPARING TO THE GENDERCLASSMODEL\n",
    "#BEST LOCAL (when using all test data locally): 0.88995215311004783\n",
    "#BEST LOCAL (when using all test data locally): 1.0, which is weird, so...\n",
    "#BEST KAGGLE (when using all test data locally): 0.76555"
   ]
  },
  {
   "cell_type": "code",
   "execution_count": 3654,
   "metadata": {
    "collapsed": false
   },
   "outputs": [],
   "source": [
    "#submission_y = load_data('data/gendermodel.csv')\n",
    "#submission_y = load_data('data/genderclassmodel.csv') # simply use this to get submission dataframe\n",
    "# GENDERCLASSMODEL scores 0.77990 on KAGGLE"
   ]
  },
  {
   "cell_type": "code",
   "execution_count": 3655,
   "metadata": {
    "collapsed": false
   },
   "outputs": [],
   "source": [
    "#indices = np.random.choice(submission_y.shape[0], size=(submission_y.shape[0]/2), replace=False)\n",
    "#test_pred = clf.predict(submission_df.loc[indices,:])\n",
    "#clf.score(submission_df.loc[indices,:],submission_y.loc[indices,:]['Survived'])\n",
    "### THESE LOCAL SCORES MEAN NOTHING BECAUSE I WAS COMPARING TO THE GENDERCLASSMODEL\n",
    "#BEST LOCAL (when using 50% of test data locally): 0.91866028708133973\n",
    "#BEST LOCAL (when using 50% of test data locally): 1.0, which is weird, so...\n",
    "#BEST KAGGLE (when using 50% of test data locally): 0.77990"
   ]
  },
  {
   "cell_type": "code",
   "execution_count": 3656,
   "metadata": {
    "collapsed": false
   },
   "outputs": [],
   "source": [
    "#pred_df = submission_y\n",
    "#pred_df['Survived'] = clf.predict(submission_df)\n",
    "#pred_df['Survived'] = test_pred\n",
    "#pred_df.head(1)\n",
    "#BEST KAGGLE: 0.77990"
   ]
  },
  {
   "cell_type": "code",
   "execution_count": 3657,
   "metadata": {
    "collapsed": false
   },
   "outputs": [],
   "source": [
    "#pred_df.to_csv('data/predictions.csv', index=False)"
   ]
  }
 ],
 "metadata": {
  "kernelspec": {
   "display_name": "Python 2",
   "language": "python",
   "name": "python2"
  },
  "language_info": {
   "codemirror_mode": {
    "name": "ipython",
    "version": 2
   },
   "file_extension": ".py",
   "mimetype": "text/x-python",
   "name": "python",
   "nbconvert_exporter": "python",
   "pygments_lexer": "ipython2",
   "version": "2.7.9"
  }
 },
 "nbformat": 4,
 "nbformat_minor": 0
}
