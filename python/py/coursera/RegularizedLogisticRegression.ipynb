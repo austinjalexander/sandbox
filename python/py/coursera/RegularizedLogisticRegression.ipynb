{
 "metadata": {
  "name": "",
  "signature": "sha256:25755b0d285f3f6142e2297a74fad33b2e3a9ebbd511f2cae49bac8f4dd363ba"
 },
 "nbformat": 3,
 "nbformat_minor": 0,
 "worksheets": [
  {
   "cells": [
    {
     "cell_type": "markdown",
     "metadata": {},
     "source": [
      "#Regularized Logistic Regression\n",
      "\n",
      "##predict that a microchip passes QA (Ng ML Example 2, part 2)\n",
      "\n",
      "> Suppose you are the product manager at a fabrication plant and you have \n",
      "> the test results for some microchips from two different tests. \n",
      "> From these two tests, you would like to determine whether the \n",
      "> microchips should be accepted or rejected. To help you make the \n",
      "> decision, you have a dataset of test results on past microchips, \n",
      "> from which you can build a logistic regression model."
     ]
    },
    {
     "cell_type": "code",
     "collapsed": false,
     "input": [
      "import numpy as np\n",
      "import scipy as sp\n",
      "from scipy import special\n",
      "import scipy.optimize as op\n",
      "import pandas as pd\n",
      "import matplotlib.pyplot as plt\n",
      "%matplotlib inline\n",
      "\n",
      "# import data\n",
      "data = pd.read_csv('mlclass-ex2/ex2data2.txt', header=None)"
     ],
     "language": "python",
     "metadata": {},
     "outputs": [],
     "prompt_number": 532
    },
    {
     "cell_type": "code",
     "collapsed": false,
     "input": [
      "data.head(1)"
     ],
     "language": "python",
     "metadata": {},
     "outputs": [
      {
       "html": [
        "<div style=\"max-height:1000px;max-width:1500px;overflow:auto;\">\n",
        "<table border=\"1\" class=\"dataframe\">\n",
        "  <thead>\n",
        "    <tr style=\"text-align: right;\">\n",
        "      <th></th>\n",
        "      <th>0</th>\n",
        "      <th>1</th>\n",
        "      <th>2</th>\n",
        "    </tr>\n",
        "  </thead>\n",
        "  <tbody>\n",
        "    <tr>\n",
        "      <th>0</th>\n",
        "      <td> 0.051267</td>\n",
        "      <td> 0.69956</td>\n",
        "      <td> 1</td>\n",
        "    </tr>\n",
        "  </tbody>\n",
        "</table>\n",
        "</div>"
       ],
       "metadata": {},
       "output_type": "pyout",
       "prompt_number": 533,
       "text": [
        "          0        1  2\n",
        "0  0.051267  0.69956  1"
       ]
      }
     ],
     "prompt_number": 533
    },
    {
     "cell_type": "markdown",
     "metadata": {},
     "source": [
      "##Visualize the Data"
     ]
    },
    {
     "cell_type": "code",
     "collapsed": false,
     "input": [
      "# separate classes\n",
      "accepted = data[data[2] == 1]\n",
      "rejected = data[data[2] == 0]\n",
      "\n",
      "# visualize the training data\n",
      "plt.xlabel('Microchip Test 1')\n",
      "plt.ylabel('Microchip Test 2')\n",
      "plt.scatter(accepted[0],accepted[1], \n",
      "            marker='+', color='b', label=\"y = 1\")\n",
      "plt.scatter(rejected[0],rejected[1], \n",
      "            marker='o', color='y', label=\"y = 0\")\n",
      "plt.legend(loc=1)\n",
      "plt.show()"
     ],
     "language": "python",
     "metadata": {},
     "outputs": [
      {
       "metadata": {},
       "output_type": "display_data",
       "png": "[encoded data removed]",
       "text": [
        "<matplotlib.figure.Figure at 0x116eaef10>"
       ]
      }
     ],
     "prompt_number": 534
    },
    {
     "cell_type": "markdown",
     "metadata": {},
     "source": [
      "##Feature Mapping\n",
      "- attempt to fit data by creating more features from each data point\n",
      "- 2-dimensional feature vector becomes 28-dimensional\n",
      "- creates a more complex, non-linear decision boundary\n",
      "- it is more susceptible to overfitting, so implement regularization"
     ]
    },
    {
     "cell_type": "markdown",
     "metadata": {},
     "source": [
      "###data and parameters"
     ]
    },
    {
     "cell_type": "code",
     "collapsed": false,
     "input": [
      "# initial data vectors\n",
      "x_1 = data[0].values\n",
      "x_2 = data[1].values\n",
      "y = data[2].values\n",
      "\n",
      "# training sample size\n",
      "m = data[0].count()\n",
      "\n",
      "# proper vector shapes\n",
      "x_1.shape = (m,1)\n",
      "x_2.shape = (m,1)\n",
      "y.shape = (m,1)\n",
      "\n",
      "# design matrix initialized with 1st column a 1's vector\n",
      "X = np.ones((m,1))\n",
      "\n",
      "# feature mapping\n",
      "degree = 6\n",
      "X = np.ones((m,1))\n",
      "for x in xrange(1,(degree+1)):\n",
      "    X = np.hstack((X, x_1**x))\n",
      "    X = np.hstack((X, x_2**x))\n",
      "    X = np.hstack((X, (x_1**x * x_2**x)))\n",
      "    if (x != 1):\n",
      "        X = np.hstack((X, (x_1**x * x_2)))\n",
      "        X = np.hstack((X, (x_2**x * x_1)))\n",
      "\n",
      "# number of features\n",
      "n = (X.shape[1] - 1)\n",
      "\n",
      "# Feature Scaling: mean normalization\n",
      "for i in np.arange(1,n):\n",
      "    x_i = X[:,i] \n",
      "    xbar = np.mean(x_i)\n",
      "    s = np.std(x_i)\n",
      "    X[:,i] = np.true_divide((np.subtract(x_i,xbar)),s)\n",
      "\n",
      "# theta parameters \n",
      "theta = np.zeros(((n+1),1))"
     ],
     "language": "python",
     "metadata": {},
     "outputs": [],
     "prompt_number": 535
    },
    {
     "cell_type": "markdown",
     "metadata": {},
     "source": [
      "###logistic regression hypothesis\n",
      "$h_{\\theta}(x) = g(\\theta^{T}x)$\n",
      "\n",
      "where $g$ is the sigmoid function, defined as: $g(z) = \\frac{1}{1+e^{-z}}$"
     ]
    },
    {
     "cell_type": "code",
     "collapsed": false,
     "input": [
      "# hypothesis, sigmoid function\n",
      "def g(z):\n",
      "    return special.expit(z)"
     ],
     "language": "python",
     "metadata": {},
     "outputs": [],
     "prompt_number": 536
    },
    {
     "cell_type": "markdown",
     "metadata": {},
     "source": [
      "##Regularized Cost Function"
     ]
    },
    {
     "cell_type": "markdown",
     "metadata": {},
     "source": [
      "$J(\\theta) = \\frac{1}{m}\\sum\\limits_{i=0}^{m-1}[-y^{(i)}\\log{(h_{\\theta}(x^{(i)}))} - (1-y^{(i)})\\log{(1 - h_{\\theta}(x^{(i)}))}] + \\frac{\\lambda}{2m} \\sum\\limits_{j=1}^{n} \\theta_{j}^{2}$\n",
      "\n",
      "###vectorized implementation\n",
      "$J(\\theta) = \\frac{1}{m}[\\log(g(X\\theta))^{T}y - \\log(1 - g(X\\theta))^{T}(1 - y)] + \\frac{\\lambda}{2m} \\sum\\limits_{j=1}^{n} \\theta_{j}^{2}$\n",
      "\n",
      "####Note\n",
      "Do not reqularize the parameter $\\theta_{0}$."
     ]
    },
    {
     "cell_type": "code",
     "collapsed": false,
     "input": [
      "#lambda_reg = 0\n",
      "#lambda_reg = 0.5\n",
      "#lambda_reg = 1\n",
      "lambda_reg = 1.5\n",
      "#lambda_reg = 2\n",
      "#lambda_reg = 5\n",
      "#lambda_reg = 100\n",
      "\n",
      "def J(theta):\n",
      "    #summation = 0\n",
      "    #for i in xrange(0,m):\n",
      "    #    summation += ((-y[i]) * (sp.log(g(X[i].dot(theta))))) - ((1 - y[i]) * (sp.log(1 - g(X[i].dot(theta)))))\n",
      "    #return (1.0/m) * summation + ((lambda_reg/(2.0*m)) * (np.sum(theta[1:(n+1)]**2)))\n",
      "\n",
      "    return ( ((1.0/m) * ((sp.log(g(X.dot(theta))).T.dot(-y)) - (sp.log(1.0 - g(X.dot(theta))).T).dot((1.0 - y)))) + ((lambda_reg/(2.0*m)) * (np.sum(theta[1:(n+1)]**2))) )\n",
      "\n",
      "#J(theta)"
     ],
     "language": "python",
     "metadata": {},
     "outputs": [],
     "prompt_number": 537
    },
    {
     "cell_type": "markdown",
     "metadata": {},
     "source": [
      "###gradient of the cost  \n",
      "(a vector of the same length as $\\theta$ where the $j$-th element (for $j = 0, 1, ..., n$) is defined as:  \n",
      "$\\frac{\\partial J(\\theta)}{\\partial\\theta_{0}} = \\frac{1}{m}\\sum\\limits_{i=0}^{m-1}(h_{\\theta}(x^{(i)}) - y^{(i)}) \\cdot x_{j}^{(i)}$ for $j = 0$  \n",
      "\n",
      "$\\frac{\\partial J(\\theta)}{\\partial\\theta_{j}} = \\big(\\frac{1}{m}\\sum\\limits_{i=0}^{m-1}(h_{\\theta}(x^{(i)}) - y^{(i)}) \\cdot x_{j}^{(i)}\\big) + \\frac{\\lambda}{m} \\theta_{j}$ for $j \\geq 1$"
     ]
    },
    {
     "cell_type": "markdown",
     "metadata": {},
     "source": [
      "$\\frac{\\partial}{\\partial\\theta_{j}} J(\\theta) = \\frac{\\partial}{\\partial\\theta_{j}} \\big(\\frac{1}{m}\\big[\\sum\\limits_{i=0}^{m-1}y^{(i)}\\log{h_{\\theta}(x^{(i)})} - (1 - y^{(i)})\\log{(1 - h_{\\theta}(x^{(i)}))}\\big]\\big)$"
     ]
    },
    {
     "cell_type": "markdown",
     "metadata": {},
     "source": [
      "####vectorized implementation\n",
      "Jacobian matrix:  \n",
      "$\\delta = \n",
      "\\begin{bmatrix}\n",
      "\\delta_{0} \\\\\n",
      "\\delta_{1} \\\\\n",
      "\\delta_{2} \\\\\n",
      "... \\\\\n",
      "\\delta_{n}\n",
      "\\end{bmatrix}$\n",
      "\n",
      "$\\delta_{j} = \\frac{1}{m}\\sum\\limits_{i=0}^{m-1}[g(\\theta^{T}X^{(i)}) - y^{(i)}] \\cdot X_{j}^{(i)}$"
     ]
    },
    {
     "cell_type": "code",
     "collapsed": false,
     "input": [
      "# delta-vector function for derivatives\n",
      "def deltas(theta):\n",
      "    delta = np.zeros(((n+1),1))\n",
      "    for j in xrange(0,(n+1)):\n",
      "        summation = 0\n",
      "        for i in xrange(0,m):\n",
      "            summation += ((g(theta.T.dot(X[i])) - y[i]) * X[i][j])\n",
      "        \n",
      "        if j == 0:\n",
      "            delta[j] = (1.0/m) * summation\n",
      "        else:\n",
      "            delta[j] = ( (1.0/m) * summation ) + ((lambda_reg/(1.0*m)) * theta[j])\n",
      "    \n",
      "    return delta.flatten()\n",
      "\n",
      "#deltas(theta)"
     ],
     "language": "python",
     "metadata": {},
     "outputs": [],
     "prompt_number": 538
    },
    {
     "cell_type": "code",
     "collapsed": false,
     "input": [
      "# gradient provided\n",
      "solution = op.minimize(J, theta, jac=deltas)\n",
      "#print \"\\nSOLUTION (gradient provided)\"\n",
      "#print solution\n",
      "\n",
      "# final values\n",
      "theta = solution.x\n",
      "print \"\\nFinal theta parameters: \" + str(theta)\n",
      "J = solution.fun\n",
      "print \"\\nFinal J cost: \" + str(J)"
     ],
     "language": "python",
     "metadata": {},
     "outputs": [
      {
       "output_type": "stream",
       "stream": "stdout",
       "text": [
        "\n",
        "Final theta parameters: [-0.47992816  0.62526973  1.15896814 -0.7804792  -0.65855957 -0.88189845\n",
        " -0.2867061   0.09996035  0.28923027  0.38894624  0.15624429  0.26411266\n",
        " -0.06359747 -0.34371668 -0.74118131 -0.81605956 -0.45392005 -0.09823048\n",
        " -0.2939589  -0.09049533 -0.10710356  0.159604    0.03873008 -0.30544203\n",
        " -0.75498449 -0.51561515 -0.39715156 -0.0293792  -0.03955423]\n",
        "\n",
        "Final J cost: 0.386973786768\n"
       ]
      }
     ],
     "prompt_number": 539
    },
    {
     "cell_type": "code",
     "collapsed": false,
     "input": [
      "# decision boundary\n",
      "def feature_map(x_1, x_2):\n",
      "\n",
      "    # design matrix initialized with 1st column a 1's vector\n",
      "    X = [1]\n",
      "\n",
      "    # feature mapping\n",
      "    degree = 6\n",
      "\n",
      "    for x in xrange(1,(degree+1)):\n",
      "        X.append(x_1**x)\n",
      "        X.append(x_2**x)\n",
      "        X.append(x_1**x * x_2**x)\n",
      "        if (x != 1):\n",
      "            X.append(x_1**x * x_2)\n",
      "            X.append(x_2**x * x_1)\n",
      "            \n",
      "    return X"
     ],
     "language": "python",
     "metadata": {},
     "outputs": [],
     "prompt_number": 540
    },
    {
     "cell_type": "code",
     "collapsed": false,
     "input": [
      "u = np.linspace(-1, 1.5, 50)\n",
      "v = np.linspace(-1, 1.5, 50)\n",
      "\n",
      "z = np.zeros((len(u),len(v)))\n",
      "\n",
      "for i in range(len(u)):\n",
      "    for j in range(len(v)):\n",
      "        z[i,j] = np.dot(feature_map(u[i], v[j]),theta)\n",
      "\n",
      "z = z.T"
     ],
     "language": "python",
     "metadata": {},
     "outputs": [],
     "prompt_number": 541
    },
    {
     "cell_type": "code",
     "collapsed": false,
     "input": [
      "# separate classes\n",
      "accepted = data[data[2] == 1]\n",
      "rejected = data[data[2] == 0]\n",
      "\n",
      "# visualize the training data\n",
      "plt.xlabel('Microchip Test 1')\n",
      "plt.ylabel('Microchip Test 2')\n",
      "plt.scatter(accepted[0],accepted[1], \n",
      "            marker='+', color='b', label=\"y = 1\")\n",
      "plt.scatter(rejected[0],rejected[1], \n",
      "            marker='o', color='y', label=\"y = 0\")\n",
      "\n",
      "plt.contour(u,v,z,[-0.999])\n",
      "\n",
      "plt.legend(loc=1)\n",
      "plt.show()"
     ],
     "language": "python",
     "metadata": {},
     "outputs": [
      {
       "metadata": {},
       "output_type": "display_data",
       "png": "[encoded data removed]",
       "text": [
        "<matplotlib.figure.Figure at 0x116eae290>"
       ]
      }
     ],
     "prompt_number": 542
    },
    {
     "cell_type": "code",
     "collapsed": false,
     "input": [
      "from mpl_toolkits.mplot3d import axes3d\n",
      "import matplotlib.cm as cm\n",
      "\n",
      "# separate classes\n",
      "accepted = data[data[2] == 1]\n",
      "rejected = data[data[2] == 0]\n",
      "\n",
      "# predictions\n",
      "predictions = list(g(X.dot(theta)))\n",
      "y_hat = np.empty([m, 1])\n",
      "\n",
      "i = 0\n",
      "for p in predictions:\n",
      "    if round(p,1) >= 0.5:\n",
      "        y_hat[i] = 1\n",
      "    else:\n",
      "        y_hat[i] = 0\n",
      "    i += 1\n",
      "\n",
      "# visualize the training data\n",
      "fig = plt.figure()\n",
      "ax = fig.add_subplot(111, projection='3d')\n",
      "\n",
      "\n",
      "ax.scatter(accepted[0],accepted[1], \n",
      "            marker='+', color='b', label=\"y = 1\")\n",
      "ax.scatter(rejected[0],rejected[1], \n",
      "            marker='o', color='y', label=\"y = 0\")\n",
      "\n",
      "#step = 0.025\n",
      "#x = np.arange(np.min(data[0]), np.max(data[0]), step)\n",
      "#y = np.arange(np.min(data[1]), np.max(data[1]), step)\n",
      "#x, y = np.meshgrid(x,y)\n",
      "#print x.shape, y.shape\n",
      "#print X.shape\n",
      "#Z \n",
      "\n",
      "#X, Y = np.meshgrid(x,y)\n",
      "#Z = np.sqrt((X**2 + Y**2))\n",
      "#ax.contour(X, Y, Z, cmap=cm.coolwarm)\n",
      "\n",
      "plt.contour(u,v,z,[-0.999])\n",
      "\n",
      "\n",
      "plt.show()"
     ],
     "language": "python",
     "metadata": {},
     "outputs": [
      {
       "metadata": {},
       "output_type": "display_data",
       "png": "[encoded data removed]",
       "text": [
        "<matplotlib.figure.Figure at 0x117319bd0>"
       ]
      }
     ],
     "prompt_number": 543
    }
   ],
   "metadata": {}
  }
 ]
}