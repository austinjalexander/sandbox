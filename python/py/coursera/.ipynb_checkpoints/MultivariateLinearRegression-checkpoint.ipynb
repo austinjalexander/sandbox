{
 "metadata": {
  "name": "",
  "signature": "sha256:66bbb7ccf0ee04cdfe78d5d4c11095b9949610ee518d78140c140b1a460bd231"
 },
 "nbformat": 3,
 "nbformat_minor": 0,
 "worksheets": [
  {
   "cells": [
    {
     "cell_type": "markdown",
     "metadata": {},
     "source": [
      "#Multivariate Linear Regression \n",
      "\n",
      "##predict prices of houses (Ng ML Example 1, part 2)\n",
      "\n",
      "> Suppose you are selling your house, and you want to know what a good market price would \n",
      "> be. One way to do this is to first collect information on recent houses sold and make a model of\n",
      "> housing prices.\n",
      "\n",
      "> The file ex1data2.txt contains a training set of housing prices in Portland, Oregon. The first \n",
      "> column is the size of the house (in square feet), the second column is the number of bedrooms,\n",
      "> and the third column is the price of the house."
     ]
    },
    {
     "cell_type": "code",
     "collapsed": false,
     "input": [
      "import numpy as np\n",
      "import pandas as pd\n",
      "import matplotlib.pyplot as plt\n",
      "%matplotlib inline\n",
      "\n",
      "# import data\n",
      "data = pd.read_csv('mlclass-ex1/ex1data2.txt', header=None)"
     ],
     "language": "python",
     "metadata": {},
     "outputs": [],
     "prompt_number": 60
    },
    {
     "cell_type": "markdown",
     "metadata": {},
     "source": [
      "###Notation\n",
      "Features: $x_{1}, x_{2}, x_{3}, ..., x_{n}$  \n",
      "Prediction: $y$  \n",
      " \n",
      "$m =$ number of training examples  \n",
      "$n =$ number of features  \n",
      "$x^{(i)} =$ input (features) of the $i$-th training example (the superscript is the index into the training set)  \n",
      "$x_{j}^{(i)} =$ value of feature $j$ in the $i$-th training example\n",
      "\n",
      "For this data set:  \n",
      "$x_{1}$: size (feet$^{2}$)  \n",
      "$x_{2}$: # of bedrooms   \n",
      "$y$: price ($)\n",
      "\n",
      "####Feature Scaling Mean Normalization\n",
      "$x_{j}^{(i)} = \\frac{x_{j}^{(i)} - \\bar{x}_{j}}{s_{j}}$\n",
      "\n",
      "###Hypothesis\n",
      "$h_{\\theta}(x) = \\theta_{0} + \\theta_{1}x_{1} + \\theta_{2}x_{2} + ... + \\theta_{n}x_{n}$ \n",
      "\n",
      "For convienience of notation, define $x_{0} = 1$, so that $x_{0}^{(i)} = 1$  \n",
      "\n",
      "Now, the feature vector can be zero-indexed:\n",
      "\n",
      "$x^{(i)} = \n",
      "\\begin{bmatrix}\n",
      "x_{0} \\\\\n",
      "x_{1} \\\\\n",
      "x_{2} \\\\\n",
      "... \\\\\n",
      "x_{n}\n",
      "\\end{bmatrix} \\in \\mathbb{R}^{n+1}$\n",
      "\n",
      "And, since the parameter vector is zero-indexed:\n",
      "\n",
      "$\\theta = \n",
      "\\begin{bmatrix}\n",
      "\\theta_{0} \\\\\n",
      "\\theta_{1} \\\\\n",
      "\\theta_{2} \\\\\n",
      "... \\\\\n",
      "\\theta_{n}\n",
      "\\end{bmatrix} \\in \\mathbb{R}^{n+1}$\n",
      "\n",
      "The new hypothesis form is: $h_{\\theta}(x) = \\theta_{0}x_{0} + \\theta_{1}x_{1} + \\theta_{2}x_{2} + ... + \\theta_{n}x_{n}$\n",
      "\n",
      "####Hypothesis Calculation\n",
      "\n",
      "Construct the following ($m\\times[n+1]$) design matrix:\n",
      "\n",
      "$X = \n",
      "\\begin{bmatrix}\n",
      "x_{0}^{(0)} && x_{1}^{(0)} && ... && x_{n}^{(0)} \\\\\n",
      "x_{0}^{(1)} && x_{1}^{(1)} && ... && x_{n}^{(1)} \\\\\n",
      "x_{0}^{(2)} && x_{1}^{(2)} && ... && x_{n}^{(2)} \\\\\n",
      "... && ... && ... && ... \\\\\n",
      "x_{0}^{(m-1)} && x_{1}^{(m-1)} && ... && x_{n}^{(m-1)}\n",
      "\\end{bmatrix}$\n",
      "\n",
      "To create a ($m\\times1$) hypothesis matrix, perform matrix-vector multiplication:\n",
      "\n",
      "$X \\times \\theta = \n",
      "\\begin{bmatrix}\n",
      "x_{0}^{(0)} \\times \\theta_{0} + x_{1}^{(0)} \\times \\theta_{1} \\\\\n",
      "x_{0}^{(1)} \\times \\theta_{0} + x_{1}^{(1)} \\times \\theta_{1} \\\\\n",
      "x_{0}^{(2)} \\times \\theta_{0} + x_{1}^{(2)} \\times \\theta_{1} \\\\\n",
      "... \\\\\n",
      "x_{0}^{(m-1)} \\times \\theta_{0} + x_{1}^{(m-1)} \\times \\theta_{1}\n",
      "\\end{bmatrix}$\n",
      "\n",
      "Alternatively, to compute each hypothesis return value per training sample: \n",
      "\n",
      "Perform the inner/dot/scalar product of vectors of $\\theta$-transpose and $X^{(i)}$:\n",
      "\n",
      "$\\theta^{T} = \\begin{bmatrix}\\theta_{0}&&\\theta_{1}&&\\theta_{2}&&...&&\\theta_{n}\\end{bmatrix}$\n",
      "\n",
      "$h_{\\theta}(x) = \\theta^{T}X^{(i)} = \\begin{bmatrix}\\theta_{0}&&\\theta_{1}&&\\theta_{2}&&...&&\\theta_{n}\\end{bmatrix} \\times \\begin{bmatrix}\n",
      "x_{0}^{(i)} \\\\\n",
      "x_{1}^{(i)} \\\\\n",
      "x_{2}^{(i)} \\\\\n",
      "... \\\\\n",
      "x_{n}^{(i)}\n",
      "\\end{bmatrix}$\n"
     ]
    },
    {
     "cell_type": "code",
     "collapsed": false,
     "input": [
      "# initial data vectors\n",
      "x_1 = data[0].values\n",
      "x_2 = data[1].values\n",
      "y = data[2].values\n",
      "\n",
      "# training sample size\n",
      "m = data[0].count()\n",
      "\n",
      "# number of features\n",
      "n = 2\n",
      "\n",
      "# proper vector shapes\n",
      "x_1.shape = (m,1)\n",
      "x_2.shape = (m, 1)\n",
      "y.shape = (m,1)\n",
      "\n",
      "# Feature Scaling (unnecessary if using the normal equation method)\n",
      "# option1: normalization\n",
      "#x_1 = np.true_divide(x_1, np.amax(x_1))\n",
      "#x_2 = np.true_divide(x_2, np.amax(x_2))\n",
      "# option2: mean normalization\n",
      "xbar_1 = np.mean(x_1)\n",
      "xbar_2 = np.mean(x_2)\n",
      "\n",
      "s_1 = np.std(x_1)\n",
      "s_2 = np.std(x_2)\n",
      "\n",
      "x_1 = np.divide((np.subtract(x_1,xbar_1)),s_1)\n",
      "x_2 = np.divide((np.subtract(x_2,xbar_2)),s_2)\n",
      "\n",
      "# design matrix\n",
      "X = np.hstack((np.ones((m,1)),x_1,x_2))\n",
      "\n",
      "# theta parameters \n",
      "theta = np.zeros(((n+1),1))\n",
      "\n",
      "#gradient descent, number of iterations\n",
      "iterations = 50\n",
      "\n",
      "# learning rates \n",
      "alpha = [-0.3, -0.1, -0.03, -0.01, -0.003, -0.001, 0, 0.001, 0.003, 0.01, 0.03, 0.1, 0.3]\n",
      "alpha = [0.3]\n",
      "    "
     ],
     "language": "python",
     "metadata": {},
     "outputs": [],
     "prompt_number": 83
    },
    {
     "cell_type": "markdown",
     "metadata": {},
     "source": [
      "###Cost Function (iterative and vectorized forms)\n",
      "$J(\\theta_{0},\\theta_{1},...,\\theta_{n}) = J(\\theta) = \\frac{1}{2m}\\sum\\limits_{i=0}^{m-1}(h_{\\theta}(x^{(i)}) - y^{(i)})^2 = \\frac{1}{2m}\\sum\\limits_{i=0}^{m-1}(\\theta^{T}X^{(i)} - y^{(i)})^2 = \\frac{1}{2m}(X\\theta - y)^{T}(X\\theta - y)$\n",
      "\n",
      "###Vectorized Implementation of Gradient Descent\n",
      "####Minimize the objective/cost function $J$\n",
      "$\\delta = \n",
      "\\begin{bmatrix}\n",
      "\\delta_{0} \\\\\n",
      "\\delta_{1} \\\\\n",
      "\\delta_{2} \\\\\n",
      "... \\\\\n",
      "\\delta_{n}\n",
      "\\end{bmatrix}$\n",
      "\n",
      "$\\delta_{j} = \\frac{1}{m}\\sum\\limits_{i=0}^{m-1}(\\theta^{T}X^{(i)} - y^{(i)}) \\cdot X_{j}^{(i)}$\n"
     ]
    },
    {
     "cell_type": "code",
     "collapsed": false,
     "input": [
      "# cost function: iterative implementation\n",
      "    #def J():\n",
      "    #    summation = 0\n",
      "    #    for i in xrange(0,m):\n",
      "    #        summation += ((theta.T.dot(X[i])) - y[i])**2\n",
      "    #        \n",
      "    #    return (1.0/(2*m)) * summation\n",
      "    # \n",
      "    \n",
      "# cost function: vectorized implementation\n",
      "def J():\n",
      "    return (1.0/(2*m)) * (((X.dot(theta)) - y).T).dot(X.dot(theta) - y)\n",
      "\n",
      "# delta-vector function for derivatives\n",
      "def deltas():\n",
      "    delta = np.zeros(((n+1),1))\n",
      "    for j in xrange(0,(n+1)):\n",
      "        summation = 0\n",
      "        #for i in xrange(0,m):\n",
      "        #summation += ((theta.T.dot(X[i]) - y[i]) * X[i][j])\n",
      "        \n",
      "        summation = np.sum((X.dot(theta) - y) * X[:,j])\n",
      "        \n",
      "        delta[j] = (1.0/m) * summation\n",
      "    print np.sum(delta)\n",
      "    return delta\n",
      "\n",
      "# vectorized delta function\n",
      "def delta():\n",
      "    return (1.0/m) * (X.T.dot((X.dot(theta)) - y))"
     ],
     "language": "python",
     "metadata": {},
     "outputs": [],
     "prompt_number": 87
    },
    {
     "cell_type": "markdown",
     "metadata": {},
     "source": [
      "$\\theta_{j} := \\theta_{j} - \\alpha \\frac{\\partial}{\\partial\\theta_{j}} J(\\theta) = \\theta_{j} - \\alpha \\frac{1}{m}\\sum\\limits_{i=0}^{m-1}(h_{\\theta}(x^{(i)}) - y^{(i)}) \\cdot x_{j}^{(i)} = \\theta_{j} - \\alpha \\frac{1}{m}\\sum\\limits_{i=0}^{m-1}(\\theta^{T}x^{(i)} - y^{(i)}) \\cdot x_{j}^{(i)} = \\theta_{j} - \\alpha\\delta_{j}$ \n",
      "\n",
      "repeat until convergence {  \n",
      "$\\theta := \\theta - \\alpha \\delta$  \n",
      "}"
     ]
    },
    {
     "cell_type": "code",
     "collapsed": false,
     "input": [
      "# gradient descent, test multiple alphas\n",
      "for a in xrange(0,len(alpha)):\n",
      "    \n",
      "    # reset theta\n",
      "    theta = np.zeros(((n+1),1))\n",
      "    \n",
      "    # reset vector J_values, store cost function values for plotting\n",
      "    J_values = np.zeros((iterations,1))\n",
      "    \n",
      "    for iteration in xrange(0,iterations):\n",
      "        theta = theta - (alpha[a] * delta())\n",
      "        J_values[iteration] = J()\n",
      "    \n",
      "    # visualize the cost function (2-D)\n",
      "    cost_x = np.arange(iterations)\n",
      "    cost_x.shape = (iterations,1)\n",
      "    plt.plot(cost_x,J_values)\n",
      "    plt.title(\"Learning Rate: \" + str(alpha[a]))\n",
      "    plt.xlabel('iterations')\n",
      "    plt.ylabel(r\"$J(\\theta)$\")\n",
      "    plt.show()"
     ],
     "language": "python",
     "metadata": {},
     "outputs": [
      {
       "metadata": {},
       "output_type": "display_data",
       "png": "[encoded data removed]",
       "text": [
        "<matplotlib.figure.Figure at 0x1088f3810>"
       ]
      }
     ],
     "prompt_number": 88
    },
    {
     "cell_type": "code",
     "collapsed": false,
     "input": [
      "# predict price of house with 1650 feet^2 and 3 bedrooms\n",
      "x = np.array([[1.0],\n",
      "              [1650],\n",
      "              [3]])\n",
      "\n",
      "# mean normalize (unnecessary if using the normal equation method)\n",
      "x[1] = np.true_divide((np.subtract(x[1],xbar_1)),s_1)\n",
      "x[2] = np.true_divide((np.subtract(x[2],xbar_2)),s_2)\n",
      "\n",
      "# compute and display prediction\n",
      "y_hat = theta.T.dot(x)\n",
      "print \"\\nPrediction for 1650 feet^2 and 3 bedrooms: \" + str(y_hat) + \"\\n\""
     ],
     "language": "python",
     "metadata": {},
     "outputs": [
      {
       "output_type": "stream",
       "stream": "stdout",
       "text": [
        "\n",
        "Prediction for 1650 feet^2 and 3 bedrooms: [[ 293092.21273076]]\n",
        "\n"
       ]
      }
     ],
     "prompt_number": 89
    },
    {
     "cell_type": "markdown",
     "metadata": {},
     "source": [
      "###Normal Equation (an alternative to gradient descent)\n",
      "\n",
      "Return the value of $\\theta$ that minimizes the cost function:  \n",
      "$\\theta = (X^{T}X)^{-1}X^{T}y$\n"
     ]
    },
    {
     "cell_type": "code",
     "collapsed": false,
     "input": [
      "normal_eq_theta = (np.linalg.pinv(X.T.dot(X)).dot(X.T)).dot(y)\n",
      "\n",
      "normal_eq_y_hat = normal_eq_theta.T.dot(x)\n",
      "print \"\\n\\nPrediction for 1650 feet^2 and 3 bedrooms: \" + str(normal_eq_y_hat) + \"\\n\""
     ],
     "language": "python",
     "metadata": {},
     "outputs": [
      {
       "output_type": "stream",
       "stream": "stdout",
       "text": [
        "\n",
        "\n",
        "Prediction for 1650 feet^2 and 3 bedrooms: [[ 293081.4643349]]\n",
        "\n"
       ]
      }
     ],
     "prompt_number": 65
    },
    {
     "cell_type": "markdown",
     "metadata": {},
     "source": [
      "last equality NOT FROM Ng (from Wikipedia)\n",
      "\n",
      "$\\theta = (X^{T}X)^{-1}X^{T}y = X^{+}y$"
     ]
    },
    {
     "cell_type": "code",
     "collapsed": false,
     "input": [
      "normal_eq_theta = (np.linalg.pinv(X).dot(y))\n",
      "\n",
      "normal_eq_y_hat = normal_eq_theta.T.dot(x)\n",
      "print \"\\n\\nPrediction for 1650 feet^2 and 3 bedrooms: \" + str(normal_eq_y_hat) + \"\\n\""
     ],
     "language": "python",
     "metadata": {},
     "outputs": [
      {
       "output_type": "stream",
       "stream": "stdout",
       "text": [
        "\n",
        "\n",
        "Prediction for 1650 feet^2 and 3 bedrooms: [[ 293081.4643349]]\n",
        "\n"
       ]
      }
     ],
     "prompt_number": 66
    }
   ],
   "metadata": {}
  }
 ]
}