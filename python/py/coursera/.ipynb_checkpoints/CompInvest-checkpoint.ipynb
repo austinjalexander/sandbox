{
 "cells": [
  {
   "cell_type": "code",
   "execution_count": 1,
   "metadata": {
    "collapsed": true
   },
   "outputs": [],
   "source": [
    "import numpy as np"
   ]
  },
  {
   "cell_type": "code",
   "execution_count": 2,
   "metadata": {
    "collapsed": false
   },
   "outputs": [
    {
     "data": {
      "text/plain": [
       "0.1"
      ]
     },
     "execution_count": 2,
     "metadata": {},
     "output_type": "execute_result"
    }
   ],
   "source": [
    "# annual return\n",
    "value = {'start': 100.0, 'end':110.0}\n",
    "metric = round((value['end']/value['start']) - 1, 2)\n",
    "metric"
   ]
  },
  {
   "cell_type": "code",
   "execution_count": 3,
   "metadata": {
    "collapsed": false
   },
   "outputs": [
    {
     "name": "stdout",
     "output_type": "stream",
     "text": [
      "[0, 0.02, -0.03]\n",
      "0.02\n"
     ]
    }
   ],
   "source": [
    "# stand dev of daily return\n",
    "value = [100.0, 102.0, 99.0]\n",
    "daily_returns = [0 for x in xrange(len(value))]\n",
    "\n",
    "for i in xrange(len(value)):\n",
    "    if i != 0:\n",
    "        #                      day / day before\n",
    "        daily_returns[i] = round((value[i]/value[i-1]) - 1, 2)\n",
    "\n",
    "# risk\n",
    "print daily_returns\n",
    "std_metric = np.std(daily_returns)\n",
    "print round(std_metric, 2)"
   ]
  },
  {
   "cell_type": "markdown",
   "metadata": {
    "collapsed": true
   },
   "source": [
    "sharpe ratio (return vs amount of risk [reward/risk]; if same return, higher is better)\n",
    "\n",
    "$S = \\frac{E[R]}{\\sigma} = \\frac{E[R]}{\\sqrt{var[R]}}$"
   ]
  },
  {
   "cell_type": "code",
   "execution_count": 4,
   "metadata": {
    "collapsed": false
   },
   "outputs": [
    {
     "data": {
      "text/plain": [
       "-2.5649458802128842"
      ]
     },
     "execution_count": 4,
     "metadata": {},
     "output_type": "execute_result"
    }
   ],
   "source": [
    "# simplified version\n",
    "k = np.sqrt(250) # factor for daily returns (250 days in a trading year)\n",
    "metric = k * np.mean(daily_returns)/np.std(daily_returns)\n",
    "metric"
   ]
  },
  {
   "cell_type": "code",
   "execution_count": 5,
   "metadata": {
    "collapsed": false
   },
   "outputs": [
    {
     "data": {
      "text/plain": [
       "1.976423537605237"
      ]
     },
     "execution_count": 5,
     "metadata": {},
     "output_type": "execute_result"
    }
   ],
   "source": [
    "# simplified version\n",
    "k = np.sqrt(250) # factor for daily returns (250 days in a trading year)\n",
    "metric = k * 0.005/0.04\n",
    "metric"
   ]
  }
 ],
 "metadata": {
  "kernelspec": {
   "display_name": "Python 2",
   "language": "python",
   "name": "python2"
  },
  "language_info": {
   "codemirror_mode": {
    "name": "ipython",
    "version": 2
   },
   "file_extension": ".py",
   "mimetype": "text/x-python",
   "name": "python",
   "nbconvert_exporter": "python",
   "pygments_lexer": "ipython2",
   "version": "2.7.10"
  }
 },
 "nbformat": 4,
 "nbformat_minor": 0
}
