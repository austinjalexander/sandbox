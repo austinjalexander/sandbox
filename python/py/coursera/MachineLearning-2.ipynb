{
 "metadata": {
  "name": "",
  "signature": "sha256:521b637d679f2011b7b400af7c7ef0982604a33e646dbc81cedbcd8dc5c35209"
 },
 "nbformat": 3,
 "nbformat_minor": 0,
 "worksheets": [
  {
   "cells": [
    {
     "cell_type": "raw",
     "metadata": {},
     "source": []
    },
    {
     "cell_type": "markdown",
     "metadata": {},
     "source": [
      "##Logistic Regression\n",
      "\n",
      "two-class/binary-class classification problems: $y$ is a discrete value (e.g., spam or not spam, fraud or not fraud, etc.)\n",
      "\n",
      "$y \\in {0,1}$, 0: \"Negative Class\" (e.g., benign), 1: \"Positive Class\" (e.g., malignant)\n",
      "\n",
      "could use linear regression ($h_{\\theta}(x) = \\theta^{T}x$) with a particular threshold value; however, for example, extreme $x$ values can skew linear regression, suggesting a different threshold value that would go against the training samples; also, linear regression hypotheses can output values less than 0 and greater than 1 (even when all training samples have $y$ values of 0 or 1\n",
      "\n",
      "logistic regression (classification algorithm) model:  \n",
      "want $0 \\leq h_{\\theta}(x) \\leq 1$  \n",
      "\n",
      "Sigmoid/Logistic function:\n",
      "$h_{\\theta}(x) = g(\\theta^{T}x)$, where $g(z) = \\frac{1}{1+e^{-z}}$, where $z \\in \\mathbb{R}$\n",
      "\n",
      "thus, $h_{\\theta}(x) = \\frac{1}{1+e^{-\\theta^{T}x}}$\n",
      "\n",
      "interpretation of hypothesis output:  \n",
      "$h_{\\theta}(x) =$ estimated probability that $y = 1$ on input $x$\n",
      "\n",
      "for example:  \n",
      "for the following features x, \n",
      "$x = \n",
      "\\begin{bmatrix}\n",
      "x_{0} \\\\\n",
      "x_{1}\n",
      "\\end{bmatrix}\n",
      "= \n",
      "\\begin{bmatrix}\n",
      "1 \\\\\n",
      "v\n",
      "\\end{bmatrix}$  \n",
      "\n",
      "$h_{\\theta}(x) = 0.7$ (means for those features, the estimated probability that $y = 1$ is 0.7; i.e., there is a 70% chance that y = 1$\n",
      "\n",
      "$h_{\\theta}(x) = P(y=1 \\mid x;\\theta)$ (p of y = 1 [probability that y = 1] given x parameterized by theta)\n",
      "\n",
      "$P(y=0 \\mid x;\\theta) + P(y=1 \\mid x;\\theta) = 1$  \n",
      "$P(y=0 \\mid x;\\theta) = 1 - P(y=1 \\mid x;\\theta)$\n",
      "\n",
      "thus, $h_{\\theta}(x) = g(\\theta^{T}x) = P(y=1 \\mid x;\\theta)$\n",
      "\n",
      "the sigmoid "
     ]
    },
    {
     "cell_type": "code",
     "collapsed": false,
     "input": [
      "import numpy as np\n",
      "import pandas as pd\n",
      "import matplotlib.pyplot as plt\n",
      "%matplotlib inline\n",
      "\n",
      "x = np.linspace(-2, 2)\n",
      "plt.plot(x,(1/(1+np.e**-x)))\n",
      "plt.title(\"Sigmoid Function $g(z)$\")\n",
      "plt.xlabel('z')\n",
      "plt.show()"
     ],
     "language": "python",
     "metadata": {},
     "outputs": [
      {
       "metadata": {},
       "output_type": "display_data",
       "png": "[encoded data removed]",
       "text": [
        "<matplotlib.figure.Figure at 0x10a638990>"
       ]
      }
     ],
     "prompt_number": 2
    },
    {
     "cell_type": "markdown",
     "metadata": {},
     "source": [
      "suppose:  \n",
      "predict $y = 1$ if $h_{\\theta}(x) \\geq 0.5$  \n",
      "predict $y = 0$ if $h_{\\theta}(x) \\lt 0.5$\n",
      "\n",
      "$g(z) \\geq 0.5$ when $z \\geq 0$  \n",
      "thus: $h_{\\theta}(x) = g(\\theta^{T}x) \\geq 0.5$,  \n",
      "whenever $\\theta^{T}x \\geq 0$\n",
      "\n",
      "$g(z) \\lt 0.5$ when $z \\lt 0$  \n",
      "and: $h_{\\theta}(x) = g(\\theta^{T}x) \\lt 0.5$,  \n",
      "whenever $\\theta^{T}x \\lt 0$\n",
      "\n"
     ]
    },
    {
     "cell_type": "markdown",
     "metadata": {},
     "source": [
      "decision boundary is a property of the hypothesis (not of training set); the training set is used to fit the parameters of $\\theta$\n",
      "\n",
      "example:\n",
      "\n",
      "$h_{\\theta}(x) = g(\\theta_{0} + \\theta_{1}x_{1} + \\theta_{2}x_{2})$\n",
      "\n",
      "$\\theta = \n",
      "\\begin{bmatrix}\n",
      "-3 \\\\\n",
      "1 \\\\\n",
      "1 \\\\\n",
      "\\end{bmatrix}$\n",
      "\n",
      "predict $y = 1$ if $\\theta^{T}x = -3 + x_{1} + x_{2} \\geq 0$\n",
      "\n",
      "decision boundary: $h_{\\theta}(x) = 0.5$ when $x_{1} + x_{2} = 3$\n",
      "\n",
      "can also write: $x_{1} + x_{2} \\geq 3$\n",
      "\n",
      "which means $x_{1} + x_{2} \\lt 3 \\implies y = 0$\n",
      "\n",
      "y = 0 (half plane, region)\n",
      "y = 1 (half plane, region)"
     ]
    },
    {
     "cell_type": "code",
     "collapsed": false,
     "input": [
      "x = np.linspace(0, 3)\n",
      "\n",
      "plt.scatter([1,0.5,0], [1,2,0.5], marker='o')\n",
      "plt.scatter([3,2,2.5], [1,2.5,2], color='r', marker='x')\n",
      "\n",
      "plt.plot(x,(-x + 3))\n",
      "plt.title(\"Sigmoid Function $g(z)$\")\n",
      "plt.xlabel('z')\n",
      "plt.show()"
     ],
     "language": "python",
     "metadata": {},
     "outputs": [
      {
       "metadata": {},
       "output_type": "display_data",
       "png": "[encoded data removed]",
       "text": [
        "<matplotlib.figure.Figure at 0x10b0d5c90>"
       ]
      }
     ],
     "prompt_number": 3
    },
    {
     "cell_type": "markdown",
     "metadata": {},
     "source": [
      "non-linear decision boundaries\n",
      "\n",
      "$h_{\\theta}(x) = g(\\theta_{0} + \\theta_{1}x_{1} + \\theta_{2}x_{2} + \\theta_{3}x_{1}^{2} + \\theta_{4}x_{2}^{2})$\n",
      "\n",
      "$\\theta =\n",
      "\\begin{bmatrix}\n",
      "-1 \\\\\n",
      "0 \\\\\n",
      "0 \\\\\n",
      "1 \\\\\n",
      "1\n",
      "\\end{bmatrix}$\n",
      "\n",
      "predict $y = 1$ if $-1 + x_{1}^{2} + x_{2}^{2} \\geq 0$  \n",
      "$\\implies x_{1}^{2} + x_{2}^{2} \\geq 1$\n",
      "\n",
      "decision boundary: $x_{1}^{2} + x_{2}^{2} = 1$ (a circle)"
     ]
    },
    {
     "cell_type": "code",
     "collapsed": false,
     "input": [
      "x1 = np.linspace(-1, 1)\n",
      "\n",
      "plt.scatter([0.2,0.5,0,0.3,-0.8], [0,-0.5,0.4,-0.3,0], marker='o')\n",
      "plt.scatter([1.2,0.8,0,0,-0.8], [0,0.8,1.1,-1.3,0.8], color='r', marker='x')\n",
      "\n",
      "plt.plot(x1,(np.sqrt(-x1**2 + 1)))\n",
      "plt.plot(x1,-(np.sqrt(-x1**2 + 1)), color='b')\n",
      "plt.xlabel(\"$x_{1}$\")\n",
      "plt.ylabel(\"$x_{2}$\")\n",
      "plt.show()"
     ],
     "language": "python",
     "metadata": {},
     "outputs": [
      {
       "metadata": {},
       "output_type": "display_data",
       "png": "[encoded data removed]",
       "text": [
        "<matplotlib.figure.Figure at 0x10b323050>"
       ]
      }
     ],
     "prompt_number": 4
    },
    {
     "cell_type": "markdown",
     "metadata": {},
     "source": [
      "it's also possible for more complex shapes, more complex decision boundaries\n",
      "\n",
      "from an elipsis to an irregular shape"
     ]
    },
    {
     "cell_type": "markdown",
     "metadata": {},
     "source": [
      "###cost function\n",
      "\n",
      "supervised learning problem of fitting a logistic regression model\n",
      "\n",
      "training set: $\\{(x^{(1)},y^{(1)}),(x^{(2)},y^{(2)}),...,(x^{(m)},y^{(m)})\\}$\n",
      "\n",
      "$m$ training examples: $x \\in \\begin{bmatrix}x_{0}\\\\x_{1}\\\\...\\\\x_{n}\\end{bmatrix}$, where $x_{0} = 1$ and $y \\in \\{0,1\\}$\n",
      "\n",
      "$h_{\\theta}(x) = \\frac{1}{1+e^{-\\theta^{T}x}}$\n",
      "\n",
      "given this training set, how to choose/fit parameters $\\theta$?\n",
      "\n",
      "for linear regression:  \n",
      "$J(\\theta) = \\frac{1}{m}\\sum\\limits_{i=0}^{m-1}Cost(h_{\\theta}(x^{(i)}),y^{(i)})$, where $Cost(h_{\\theta}(x^{(i)}),y^{(i)}) = \\frac{1}{2}(h_{\\theta}(x^{(i)}) - y^{(i)})^{2}$, where $(h_{\\theta}(x^{(i)}) - y^{(i)})^{2}$ is the squared-error term\n",
      "\n",
      "however, this cost function doesn't work well for logistic regression because it is a non-convex function of the parameters theta (i.e., with many local optima) because of the sigmoid component (in the hypothesis) being a relatively complicated non-linearity\n",
      "\n",
      "gradient descent, on that sort of function, would not be guaranteed to converge on the global minimum\n",
      "\n",
      "thus, a logistic regression cost function (for a single training example):  \n",
      "$Cost(h_{\\theta}(x),y) = \n",
      "  \\begin{cases}\n",
      "   -\\log{h_{\\theta}(x)} & \\text{if } y = 1 \\\\\n",
      "   -\\log{1 - h_{\\theta}(x)} & \\text{if } y = 0\n",
      "  \\end{cases}$\n",
      "  \n",
      "note: $y = 0$ or $1$ always"
     ]
    },
    {
     "cell_type": "code",
     "collapsed": false,
     "input": [
      "x = np.linspace(0, 1)\n",
      "\n",
      "plt.plot(x,-(np.log(x)))\n",
      "#plt.plot(x,-(np.log(1/(1+np.e**-x))))\n",
      "\n",
      "plt.title(\"if $y = 1$\")\n",
      "plt.xlabel(r\"$h_{\\theta}(x)$\")\n",
      "plt.show()"
     ],
     "language": "python",
     "metadata": {},
     "outputs": [
      {
       "metadata": {},
       "output_type": "display_data",
       "png": "[encoded data removed]",
       "text": [
        "<matplotlib.figure.Figure at 0x107fa7dd0>"
       ]
      }
     ],
     "prompt_number": 5
    },
    {
     "cell_type": "markdown",
     "metadata": {},
     "source": [
      "this cost function has desirable properties\n",
      "\n",
      "$Cost = 0$ if $y = 1, h_{\\theta}(x) = 1$ (i.e., if hypothesis predict h = 1 and y is exactly equal to the prediction)\n",
      "\n",
      "but, as $h_{\\theta}(x) \\rightarrow 0$, $Cost \\rightarrow \\infty$, which captures intuition that if $h_{\\theta}(x) = 0$ (predict $P(y=1 \\mid x;\\theta) = 0$, but $y = 1$ (i.e., the chance that y = 1 is 0; e.g., the probability that the email is spam is 0 [i.e., impossible]; if the email is spam, then the learning algorithm is penalized with a very large cost)\n"
     ]
    },
    {
     "cell_type": "code",
     "collapsed": false,
     "input": [
      "x = np.linspace(0, 1)\n",
      "\n",
      "plt.plot(x,-(np.log(1 - x)))\n",
      "#plt.plot(x,-(np.log(1/(1+np.e**-x))))\n",
      "\n",
      "plt.title(\"if $y = 0$\")\n",
      "plt.xlabel(r\"$h_{\\theta}(x)$\")\n",
      "plt.show()"
     ],
     "language": "python",
     "metadata": {},
     "outputs": [
      {
       "metadata": {},
       "output_type": "display_data",
       "png": "[encoded data removed]",
       "text": [
        "<matplotlib.figure.Figure at 0x10b1b9e90>"
       ]
      }
     ],
     "prompt_number": 6
    },
    {
     "cell_type": "markdown",
     "metadata": {},
     "source": [
      "for the case of y = 0, it's saying that if y ends up equaling 0 when it was predicted that it equals 1, a very large cost is paid (while the cost is 0 when the hypothesis accurately predicts that y = 0)\n",
      "\n",
      "with this choice of cost function (which is convex and local-optima free), we have a convex optimization problem"
     ]
    },
    {
     "cell_type": "markdown",
     "metadata": {},
     "source": [
      "$Cost(h_{\\theta}(x),y) = \n",
      "  \\begin{cases}\n",
      "   -\\log{h_{\\theta}(x)} & \\text{if } y = 1 \\\\\n",
      "   -\\log{1 - h_{\\theta}(x)} & \\text{if } y = 0\n",
      "  \\end{cases}$\n",
      "  \n",
      "simplified cost function (compressed into one equation since y is always 0 or 1):\n",
      "\n",
      "$Cost(h_{\\theta}(x),y) = -y\\log{(h_{\\theta}(x))} - (1 - y)\\log{(1 - h_{\\theta}(x))}$\n",
      "\n",
      "equivalent since:  \n",
      "if $y = 1: -(1)\\log{(h_{\\theta}(x))} - (1 - (1))\\log{(1 - h_{\\theta}(x))}  \\\\ = -\\log{(h_{\\theta}(x))} - (0)\\log{(1 - h_{\\theta}(x))} = -\\log{(h_{\\theta}(x))}$\n",
      "\n",
      "if $y = 0: -(0)\\log{(h_{\\theta}(x))} - (1 - (0))\\log{(1 - h_{\\theta}(x))}  \\\\ = -(1)\\log{(1 - h_{\\theta}(x))} = -\\log{(1 - h_{\\theta}(x))}$"
     ]
    },
    {
     "cell_type": "markdown",
     "metadata": {},
     "source": [
      "so, final logistic regression cost function:\n",
      "\n",
      "$J(\\theta) = \\frac{1}{m}\\sum\\limits_{i=0}^{m-1}Cost(h_{\\theta}(x^{(i)}),y^{(i)}) \\\\ = -\\frac{1}{m}\\big[\\sum\\limits_{i=0}^{m-1}y^{(i)}\\log{h_{\\theta}(x^{(i)})} + (1 - y^{(i)})\\log{(1 - h_{\\theta}(x^{(i)}))}\\big]$\n",
      "\n",
      "brought out minus sign; also, this particular function was chosen because it can be derived from statistics using the principle of maximum likelihood estimation (how to find paramaters theta for particular models) \n",
      "\n",
      "to fit parameters $\\theta$:  \n",
      "$\\underset{\\theta}{\\text{min}}$ $J(\\theta)$, which will give some set of parameters $\\theta$\n",
      "\n",
      "to make a prediction given a new set of features $x$:  \n",
      "output a prediction $h_{\\theta(x)} = \\frac{1}{1+e^{-\\theta^{T}x}}$, interpreted as $P(y=1 \\mid x;\\theta)$\n",
      "\n",
      "so, how to minimize $J(\\theta)$ as a function of $\\theta$ (i.e., fit the parameters to the training set)\n"
     ]
    },
    {
     "cell_type": "markdown",
     "metadata": {},
     "source": [
      "###gradient descent for logistic regression\n",
      "\n",
      "$J(\\theta) = -\\frac{1}{m}\\big[\\sum\\limits_{i=0}^{m-1}y^{(i)}\\log{h_{\\theta}(x^{(i)})} + (1 - y^{(i)})\\log{(1 - h_{\\theta}(x^{(i)}))}\\big]$\n",
      "\n",
      "$\\frac{\\partial}{\\partial\\theta_{j}} J(\\theta) = \\frac{\\partial}{\\partial\\theta_{j}} \\big(-\\frac{1}{m}\\big[\\sum\\limits_{i=0}^{m-1}y^{(i)}\\log{h_{\\theta}(x^{(i)})} + (1 - y^{(i)})\\log{(1 - h_{\\theta}(x^{(i)}))}\\big]\\big)$\n",
      "\n",
      "for example:  \n",
      "$\\frac{\\partial}{\\partial\\theta_{0}} J(\\theta_{0},\\theta_{1}) = \\frac{\\partial}{\\partial\\theta_{0}} \\big(-\\frac{1}{m}\\big[\\sum\\limits_{i=0}^{m-1}y^{(i)}\\log{\\big(\\frac{1}{1+e^{-(\\theta_{0} \\cdot x_{0}^{(i)} + \\theta_{1} \\cdot x_{1}^{(i)})}}\\big)} + (1 - y^{(i)})\\log{(1 - \\big(\\frac{1}{1+e^{-(\\theta_{0} \\cdot x_{0}^{(i)} + \\theta_{1} \\cdot x_{1}^{(i)})}}\\big))}\\big]\\big)$\n",
      "\n",
      "STILL NEED TO CALCULATE DERIVATIVE\n",
      "\n",
      "for example, where $i = 0$:  \n",
      "$\\frac{\\partial}{\\partial\\theta_{0}} \\big(-\\frac{1}{m}\\big[y^{(0)}\\log{\\big(\\frac{1}{1+e^{-(\\theta_{0} \\cdot x_{0}^{(0)} + \\theta_{1} \\cdot x_{1}^{(0)})}}\\big)} + (1 - y^{(0)})\\log{(1 - \\big(\\frac{1}{1+e^{-(\\theta_{0} \\cdot x_{0}^{(0)} + \\theta_{1} \\cdot x_{1}^{(0)})}}\\big))}\\big]\\big)$  \n",
      "\n",
      "$= -\\frac{1}{m}y^{(0)} \\frac{\\partial}{\\partial\\theta_{0}} \\big(\\log{\\big(\\frac{1}{1+e^{-(\\theta_{0} \\cdot x_{0}^{(0)} + \\theta_{1} \\cdot x_{1}^{(0)})}}\\big)} + (1 - y^{(0)})\\log{(1 - \\big(\\frac{1}{1+e^{-(\\theta_{0} \\cdot x_{0}^{(0)} + \\theta_{1} \\cdot x_{1}^{(0)})}}\\big))}\\big)$\n",
      "\n",
      "$= -\\frac{1}{m}y^{(0)} \\frac{\\partial}{\\partial\\theta_{0}} \\big(\\log{\\big(\\frac{1}{1+e^{-(\\theta_{0} \\cdot x_{0}^{(0)} + \\theta_{1} \\cdot x_{1}^{(0)})}}\\big)}\\big) + \\frac{\\partial}{\\partial\\theta_{0}} \\big((1 - y^{(0)})\\log{(1 - \\big(\\frac{1}{1+e^{-(\\theta_{0} \\cdot x_{0}^{(0)} + \\theta_{1} \\cdot x_{1}^{(0)})}}\\big))}\\big)$\n",
      "\n",
      "$= -\\frac{1}{m}y^{(0)} \\frac{\\partial}{\\partial\\theta_{0}} \\big(\\log{\\big(\\frac{1}{1+e^{-(\\theta_{0} \\cdot x_{0}^{(0)} + \\theta_{1} \\cdot x_{1}^{(0)})}}\\big)}\\big) + (1 - y^{(0)}) \\frac{\\partial}{\\partial\\theta_{0}} \\big(\\log{(1 - \\big(\\frac{1}{1+e^{-(\\theta_{0} \\cdot x_{0}^{(0)} + \\theta_{1} \\cdot x_{1}^{(0)})}}\\big))}\\big)$\n",
      "\n",
      "$= -\\frac{1}{m}y^{(0)} \\Bigg(\\frac{1}{\\big(\\frac{1}{1+e^{-(\\theta_{0} \\cdot x_{0}^{(0)} + \\theta_{1} \\cdot x_{1}^{(0)})}}\\big)}\\Bigg) \\cdot \\frac{\\partial}{\\partial\\theta_{0}} \\Bigg(\\frac{1}{1+e^{-(\\theta_{0} \\cdot x_{0}^{(0)} + \\theta_{1} \\cdot x_{1}^{(0)})}}\\Bigg) + (1 - y^{(0)}) \\Bigg(\\frac{1}{\\big(1 - \\frac{1}{1+e^{-(\\theta_{0} \\cdot x_{0}^{(0)} + \\theta_{1} \\cdot x_{1}^{(0)})}}\\big)}\\Bigg) \\cdot \\frac{\\partial}{\\partial\\theta_{0}} \\Bigg(1 - \\frac{1}{1+e^{-(\\theta_{0} \\cdot x_{0}^{(0)} + \\theta_{1} \\cdot x_{1}^{(0)})}}\\Bigg)$\n",
      "\n",
      "$= -\\frac{1}{m}y^{(0)} \\Bigg(1+e^{-(\\theta_{0} \\cdot x_{0}^{(0)} + \\theta_{1} \\cdot x_{1}^{(0)})}\\Bigg) \\cdot \\frac{\\partial}{\\partial\\theta_{0}} \\Bigg(\\frac{1}{1+e^{-(\\theta_{0} \\cdot x_{0}^{(0)} + \\theta_{1} \\cdot x_{1}^{(0)})}}\\Bigg) + (1 - y^{(0)}) \\Bigg(\\frac{1+e^{-(\\theta_{0} \\cdot x_{0}^{(0)} + \\theta_{1} \\cdot x_{1}^{(0)})}}{(1+e^{-(\\theta_{0} \\cdot x_{0}^{(0)} + \\theta_{1} \\cdot x_{1}^{(0)})}) - 1}\\Bigg) \\cdot \\frac{\\partial}{\\partial\\theta_{0}} \\Bigg(1 - \\frac{1}{1+e^{-(\\theta_{0} \\cdot x_{0}^{(0)} + \\theta_{1} \\cdot x_{1}^{(0)})}}\\Bigg)$\n",
      "\n",
      "$= -\\frac{1}{m}y^{(0)} \\Bigg(1+e^{-(\\theta_{0} \\cdot x_{0}^{(0)} + \\theta_{1} \\cdot x_{1}^{(0)})}\\Bigg) \\cdot \\Bigg(\\frac{0 \\cdot (1+e^{-(\\theta_{0} \\cdot x_{0}^{(0)} + \\theta_{1} \\cdot x_{1}^{(0)})}) - 1 \\cdot (0 + e^{-(\\theta_{0} \\cdot x_{0}^{(0)} + \\theta_{1} \\cdot x_{1}^{(0)})} \\cdot -[x_{0}^{(0)}])}{[1+e^{-(\\theta_{0} \\cdot x_{0}^{(0)} + \\theta_{1} \\cdot x_{1}^{(0)})}]^{2}}\\Bigg) + (1 - y^{(0)}) \\Bigg(\\frac{1+e^{-(\\theta_{0} \\cdot x_{0}^{(0)} + \\theta_{1} \\cdot x_{1}^{(0)})}}{(1+e^{-(\\theta_{0} \\cdot x_{0}^{(0)} + \\theta_{1} \\cdot x_{1}^{(0)})}) - 1}\\Bigg) \\cdot \\Bigg(0 - \\frac{0 \\cdot (1+e^{-(\\theta_{0} \\cdot x_{0}^{(0)} + \\theta_{1} \\cdot x_{1}^{(0)})}) - 1 \\cdot (0 + e^{-(\\theta_{0} \\cdot x_{0}^{(0)} + \\theta_{1} \\cdot x_{1}^{(0)})} \\cdot -[x_{0}^{(0)}])}{[1+e^{-(\\theta_{0} \\cdot x_{0}^{(0)} + \\theta_{1} \\cdot x_{1}^{(0)})}]^{2}}\\Bigg)$\n",
      "\n",
      "$= -\\frac{1}{m}y^{(0)} \\Bigg(1+e^{-(\\theta_{0} \\cdot x_{0}^{(0)} + \\theta_{1} \\cdot x_{1}^{(0)})}\\Bigg) \\cdot \\Bigg(\\frac{-(e^{-(\\theta_{0} \\cdot x_{0}^{(0)} + \\theta_{1} \\cdot x_{1}^{(0)})} \\cdot -[x_{0}^{(0)}])}{[1+e^{-(\\theta_{0} \\cdot x_{0}^{(0)} + \\theta_{1} \\cdot x_{1}^{(0)})}]^{2}}\\Bigg) + (1 - y^{(0)}) \\Bigg(\\frac{1+e^{-(\\theta_{0} \\cdot x_{0}^{(0)} + \\theta_{1} \\cdot x_{1}^{(0)})}}{(1+e^{-(\\theta_{0} \\cdot x_{0}^{(0)} + \\theta_{1} \\cdot x_{1}^{(0)})}) - 1}\\Bigg) \\cdot \\Bigg(- \\frac{-(e^{-(\\theta_{0} \\cdot x_{0}^{(0)} + \\theta_{1} \\cdot x_{1}^{(0)})} \\cdot -[x_{0}^{(0)}])}{[1+e^{-(\\theta_{0} \\cdot x_{0}^{(0)} + \\theta_{1} \\cdot x_{1}^{(0)})}]^{2}}\\Bigg)$\n"
     ]
    },
    {
     "cell_type": "markdown",
     "metadata": {},
     "source": [
      "$= -\\frac{1}{m}y^{(0)} \\Bigg(\\frac{-(e^{-(\\theta_{0} \\cdot x_{0}^{(0)} + \\theta_{1} \\cdot x_{1}^{(0)})} \\cdot -[x_{0}^{(0)}])}{1+e^{-(\\theta_{0} \\cdot x_{0}^{(0)} + \\theta_{1} \\cdot x_{1}^{(0)})}}\\Bigg) + (1 - y^{(0)}) \\Bigg(\\frac{1}{(1+e^{-(\\theta_{0} \\cdot x_{0}^{(0)} + \\theta_{1} \\cdot x_{1}^{(0)})}) - 1}\\Bigg) \\cdot \\Bigg(- \\frac{-(e^{-(\\theta_{0} \\cdot x_{0}^{(0)} + \\theta_{1} \\cdot x_{1}^{(0)})} \\cdot -[x_{0}^{(0)}])}{1+e^{-(\\theta_{0} \\cdot x_{0}^{(0)} + \\theta_{1} \\cdot x_{1}^{(0)})}}\\Bigg)$"
     ]
    },
    {
     "cell_type": "markdown",
     "metadata": {},
     "source": [
      "$= -\\frac{1}{m}y^{(0)} \\Bigg(\\frac{e^{-(\\theta_{0} \\cdot x_{0}^{(0)} + \\theta_{1} \\cdot x_{1}^{(0)})} \\cdot x_{0}^{(0)}}{1+e^{-(\\theta_{0} \\cdot x_{0}^{(0)} + \\theta_{1} \\cdot x_{1}^{(0)})}}\\Bigg) + (1 - y^{(0)}) \\Bigg(\\frac{1}{e^{-(\\theta_{0} \\cdot x_{0}^{(0)} + \\theta_{1} \\cdot x_{1}^{(0)})}}\\Bigg) \\cdot \\Bigg(- \\frac{e^{-(\\theta_{0} \\cdot x_{0}^{(0)} + \\theta_{1} \\cdot x_{1}^{(0)})} \\cdot x_{0}^{(0)}}{1+e^{-(\\theta_{0} \\cdot x_{0}^{(0)} + \\theta_{1} \\cdot x_{1}^{(0)})}}\\Bigg)$"
     ]
    },
    {
     "cell_type": "markdown",
     "metadata": {},
     "source": [
      "$= -\\frac{1}{m}y^{(0)} \\Bigg(\\frac{e^{-(\\theta_{0} \\cdot x_{0}^{(0)} + \\theta_{1} \\cdot x_{1}^{(0)})} \\cdot x_{0}^{(0)}}{1+e^{-(\\theta_{0} \\cdot x_{0}^{(0)} + \\theta_{1} \\cdot x_{1}^{(0)})}}\\Bigg) + (1 - y^{(0)}) \\Bigg(- \\frac{x_{0}^{(0)}}{1+e^{-(\\theta_{0} \\cdot x_{0}^{(0)} + \\theta_{1} \\cdot x_{1}^{(0)})}}\\Bigg)$"
     ]
    },
    {
     "cell_type": "markdown",
     "metadata": {},
     "source": [
      "$= -\\frac{1}{m}y^{(0)} \\Bigg(\\frac{x_{0}^{(0)}}{e^{(\\theta_{0} \\cdot x_{0}^{(0)} + \\theta_{1} \\cdot x_{1}^{(0)})} \\cdot (1+e^{-(\\theta_{0} \\cdot x_{0}^{(0)} + \\theta_{1} \\cdot x_{1}^{(0)})})}\\Bigg) + (1 - y^{(0)}) \\Bigg(- \\frac{x_{0}^{(0)}}{1+e^{-(\\theta_{0} \\cdot x_{0}^{(0)} + \\theta_{1} \\cdot x_{1}^{(0)})}}\\Bigg)$"
     ]
    },
    {
     "cell_type": "markdown",
     "metadata": {},
     "source": [
      "$= -\\frac{1}{m}y^{(0)} \\Bigg(\\frac{x_{0}^{(0)}}{1+e^{(\\theta_{0} \\cdot x_{0}^{(0)} + \\theta_{1} \\cdot x_{1}^{(0)})}}\\Bigg) + (1 - y^{(0)}) \\Bigg(- \\frac{x_{0}^{(0)}}{1+e^{-(\\theta_{0} \\cdot x_{0}^{(0)} + \\theta_{1} \\cdot x_{1}^{(0)})}}\\Bigg)$"
     ]
    },
    {
     "cell_type": "markdown",
     "metadata": {},
     "source": [
      "$= -\\frac{1}{m}y^{(0)} \\Bigg(\\frac{x_{0}^{(0)}}{1+e^{(\\theta_{0} \\cdot x_{0}^{(0)} + \\theta_{1} \\cdot x_{1}^{(0)})}}\\Bigg) - \\Bigg(\\frac{(1 - y^{(0)})x_{0}^{(0)}}{1+e^{-(\\theta_{0} \\cdot x_{0}^{(0)} + \\theta_{1} \\cdot x_{1}^{(0)})}}\\Bigg)$"
     ]
    },
    {
     "cell_type": "markdown",
     "metadata": {},
     "source": [
      "$= -\\frac{1}{m} \\Bigg(\\frac{x_{0}^{(0)}y^{(0)}}{1+e^{(\\theta_{0} \\cdot x_{0}^{(0)} + \\theta_{1} \\cdot x_{1}^{(0)})}}\\Bigg) - \\Bigg(\\frac{x_{0}^{(0)} + x_{0}^{(0)}y^{(0)}}{1+e^{-(\\theta_{0} \\cdot x_{0}^{(0)} + \\theta_{1} \\cdot x_{1}^{(0)})}}\\Bigg)$"
     ]
    },
    {
     "cell_type": "markdown",
     "metadata": {},
     "source": [
      "$= -\\frac{1}{m} \\frac{x_{0}^{(0)}y^{(0)}}{1+e^{(\\theta_{0} \\cdot x_{0}^{(0)} + \\theta_{1} \\cdot x_{1}^{(0)})}} + \\frac{-x_{0}^{(0)} - x_{0}^{(0)}y^{(0)}}{1+e^{-(\\theta_{0} \\cdot x_{0}^{(0)} + \\theta_{1} \\cdot x_{1}^{(0)})}}$"
     ]
    },
    {
     "cell_type": "markdown",
     "metadata": {},
     "source": [
      "-----------------------------------\n",
      "\n",
      "$= -\\frac{1}{m}y^{(0)} \\Bigg(1+e^{-(\\theta_{0} \\cdot x_{0}^{(0)} + \\theta_{1} \\cdot x_{1}^{(0)})}\\Bigg) \\cdot \\Bigg(\\frac{-(e^{-(\\theta_{0} \\cdot x_{0}^{(0)} + \\theta_{1} \\cdot x_{1}^{(0)})} \\cdot -[x_{0}^{(0)}])}{[1+e^{-(\\theta_{0} \\cdot x_{0}^{(0)} + \\theta_{1} \\cdot x_{1}^{(0)})}]^{2}}\\Bigg) + (1 - y^{(0)}) \\Bigg(\\frac{1+e^{-(\\theta_{0} \\cdot x_{0}^{(0)} + \\theta_{1} \\cdot x_{1}^{(0)})}}{(1+e^{-(\\theta_{0} \\cdot x_{0}^{(0)} + \\theta_{1} \\cdot x_{1}^{(0)})}) - 1}\\Bigg) \\cdot \\Bigg(- \\frac{-(e^{-(\\theta_{0} \\cdot x_{0}^{(0)} + \\theta_{1} \\cdot x_{1}^{(0)})} \\cdot -[x_{0}^{(0)}])}{[1+e^{-(\\theta_{0} \\cdot x_{0}^{(0)} + \\theta_{1} \\cdot x_{1}^{(0)})}]^{2}}\\Bigg)$\n",
      "\n",
      "$= \\Bigg(\\frac{-(e^{-(\\theta_{0} \\cdot x_{0}^{(0)} + \\theta_{1} \\cdot x_{1}^{(0)})} \\cdot -[x_{0}^{(0)}])}{[1+e^{-(\\theta_{0} \\cdot x_{0}^{(0)} + \\theta_{1} \\cdot x_{1}^{(0)})}]^{2}}\\Bigg) \\Bigg[-\\frac{1}{m}y^{(0)} \\Bigg(1+e^{-(\\theta_{0} \\cdot x_{0}^{(0)} + \\theta_{1} \\cdot x_{1}^{(0)})}\\Bigg) + (1 - y^{(0)}) \\Bigg(\\frac{1+e^{-(\\theta_{0} \\cdot x_{0}^{(0)} + \\theta_{1} \\cdot x_{1}^{(0)})}}{(1+e^{-(\\theta_{0} \\cdot x_{0}^{(0)} + \\theta_{1} \\cdot x_{1}^{(0)})}) - 1}\\Bigg) \\cdot (-1)\\Bigg]$\n",
      "\n",
      "$= \\Bigg(\\frac{-(e^{-(\\theta_{0} \\cdot x_{0}^{(0)} + \\theta_{1} \\cdot x_{1}^{(0)})} \\cdot -[x_{0}^{(0)}])}{[1+e^{-(\\theta_{0} \\cdot x_{0}^{(0)} + \\theta_{1} \\cdot x_{1}^{(0)})}]^{2}}\\Bigg) \\Bigg(1+e^{-(\\theta_{0} \\cdot x_{0}^{(0)} + \\theta_{1} \\cdot x_{1}^{(0)})}\\Bigg) \\Bigg[-\\frac{1}{m}y^{(0)} + (1 - y^{(0)}) \\Bigg(\\frac{1}{(1+e^{-(\\theta_{0} \\cdot x_{0}^{(0)} + \\theta_{1} \\cdot x_{1}^{(0)})}) - 1}\\Bigg) \\cdot (-1)\\Bigg]$\n",
      "\n",
      "$= \\Bigg(\\frac{-(e^{-(\\theta_{0} \\cdot x_{0}^{(0)} + \\theta_{1} \\cdot x_{1}^{(0)})} \\cdot -[x_{0}^{(0)}])}{1+e^{-(\\theta_{0} \\cdot x_{0}^{(0)} + \\theta_{1} \\cdot x_{1}^{(0)})}}\\Bigg) \\Bigg[-\\frac{1}{m}y^{(0)} + (1 - y^{(0)}) \\Bigg(\\frac{1}{(e^{-(\\theta_{0} \\cdot x_{0}^{(0)} + \\theta_{1} \\cdot x_{1}^{(0)})}}\\Bigg) \\cdot (-1)\\Bigg]$\n",
      "\n",
      "$= \\Bigg(\\frac{e^{-(\\theta_{0} \\cdot x_{0}^{(0)} + \\theta_{1} \\cdot x_{1}^{(0)})} \\cdot x_{0}^{(0)}}{1+e^{-(\\theta_{0} \\cdot x_{0}^{(0)} + \\theta_{1} \\cdot x_{1}^{(0)})}}\\Bigg) \\Bigg[-\\frac{1}{m}y^{(0)} + (1 - y^{(0)}) \\Bigg(-\\frac{1}{(e^{-(\\theta_{0} \\cdot x_{0}^{(0)} + \\theta_{1} \\cdot x_{1}^{(0)})}}\\Bigg)\\Bigg]$\n",
      "\n",
      "$= \\Bigg(\\frac{e^{-(\\theta_{0} \\cdot x_{0}^{(0)} + \\theta_{1} \\cdot x_{1}^{(0)})} \\cdot x_{0}^{(0)}}{1+e^{-(\\theta_{0} \\cdot x_{0}^{(0)} + \\theta_{1} \\cdot x_{1}^{(0)})}}\\Bigg) \\Bigg[-\\frac{1}{m}y^{(0)} + \\Bigg(-\\frac{1 - y^{(0)}}{(e^{-(\\theta_{0} \\cdot x_{0}^{(0)} + \\theta_{1} \\cdot x_{1}^{(0)})}}\\Bigg)\\Bigg]$\n",
      "\n",
      "$= \\Bigg(\\frac{e^{-(\\theta_{0} \\cdot x_{0}^{(0)} + \\theta_{1} \\cdot x_{1}^{(0)})} \\cdot x_{0}^{(0)}}{1+e^{-(\\theta_{0} \\cdot x_{0}^{(0)} + \\theta_{1} \\cdot x_{1}^{(0)})}}\\Bigg) \\Bigg[-\\frac{1}{m}y^{(0)} - \\frac{1 - y^{(0)}}{(e^{-(\\theta_{0} \\cdot x_{0}^{(0)} + \\theta_{1} \\cdot x_{1}^{(0)})}}\\Bigg]$\n"
     ]
    },
    {
     "cell_type": "markdown",
     "metadata": {},
     "source": [
      "want $\\underset{\\theta}{\\text{min}}$ $J(\\theta)$\n",
      "\n",
      "repeat until convergence {  \n",
      "$\\theta_{j} := \\theta_{j} - \\alpha \\frac{\\partial}{\\partial\\theta_{j}} J(\\theta) = \\theta_{j} - \\alpha \\frac{1}{m}\\sum\\limits_{i=0}^{m-1}(h_{\\theta}(x^{(i)}) - y^{(i)}) \\cdot x_{j}^{(i)}$  \n",
      "}\n",
      "\n",
      "the algorithm looks identical to the one used for linear regression; the hypothesis is the only difference"
     ]
    },
    {
     "cell_type": "markdown",
     "metadata": {},
     "source": [
      "a vectorized implemention:\n",
      "\n",
      "of the form: $\\theta := \\theta - \\alpha \\delta$, for some vector $d \\in \\mathbb{R}^{n+1}$\n",
      "\n",
      "$\\theta := \\theta - \\alpha \\frac{1}{m}\\sum\\limits_{i=0}^{m-1}(h_{\\theta}(x^{(i)}) - y^{(i)}) \\cdot x^{(i)} = \\theta - \\alpha\\delta$"
     ]
    },
    {
     "cell_type": "markdown",
     "metadata": {},
     "source": [
      "so, for optimization, given $\\theta$, need to compute:\n",
      "- $J(\\theta)$\n",
      "- $\\frac{\\partial}{\\partial\\theta_{j}} J(\\theta)$, for ($j = 0, 1, ..., n$)\n",
      "\n",
      "and then give those to an optimization alogorithm\n",
      "\n",
      "more advanced algorithms:\n",
      "\n",
      "- conjugate gradient\n",
      "- BFGS\n",
      "- L-BFGS \n",
      "\n",
      "advantages:\n",
      "- usually do not need to pick manually the learning rate alpha (they have a clever inner-loop called a line-search algorithm that automatically tries out different values for the learning rate alpha and automatically picks a good one, even a different one for each iteration)\n",
      "- they do other things too, often making them faster than gradient descent\n",
      "\n",
      "disadvantage:\n",
      "- more complex than gradient descent\n",
      "\n",
      "don't try to implement yourself (just like you don't implement your own square-root function)\n",
      "\n"
     ]
    },
    {
     "cell_type": "markdown",
     "metadata": {},
     "source": [
      "example:\n",
      "\n",
      "given a $\\theta$, where $\\theta = \\begin{bmatrix}\\theta_{0} \\\\ \\theta_{1}\\end{bmatrix}$\n",
      "\n",
      "given a cost function: $J(\\theta) = (\\theta_{0} - 5)^{2} + (\\theta_{1} - 5)^{2}$\n",
      "\n",
      "then:  \n",
      "$\\frac{\\partial}{\\partial \\theta_{0}} J(\\theta) = 2(\\theta_{0} - 5)$  \n",
      "$\\frac{\\partial}{\\partial \\theta_{1}} J(\\theta) = 2(\\theta_{1} - 5)$\n",
      "\n",
      "\n",
      "(for logistic regression, use optimization solvers that find the minimum of unconstrained functions since logistic regression does not have any constraints [as $\\theta$ can take any real value])\n",
      "\n",
      "using SciPy's optimization package:"
     ]
    },
    {
     "cell_type": "markdown",
     "metadata": {},
     "source": [
      "#### Nelder-Mead Simplex algorithm"
     ]
    },
    {
     "cell_type": "code",
     "collapsed": false,
     "input": [
      "# Nelder-Mead Simplex algorithm\n",
      "from scipy.optimize import fmin\n",
      "\n",
      "theta = np.array([[0],\n",
      "                  [0]])\n",
      "\n",
      "def J(theta):\n",
      "    return (theta[0] - 5)**2.0 + (theta[1] - 5)**2.0\n",
      "\n",
      "theta_optimized = fmin(J, theta, xtol=1e-8)\n",
      "print theta_optimized\n",
      "\n",
      "print \"\\n\"\n",
      "\n",
      "theta_optimized = fmin(J, theta)\n",
      "print theta_optimized"
     ],
     "language": "python",
     "metadata": {},
     "outputs": [
      {
       "output_type": "stream",
       "stream": "stdout",
       "text": [
        "Optimization terminated successfully.\n",
        "         Current function value: 0.000000\n",
        "         Iterations: 96\n",
        "         Function evaluations: 170\n",
        "[ 5.  5.]\n",
        "\n",
        "\n",
        "Optimization terminated successfully.\n",
        "         Current function value: 0.000000\n",
        "         Iterations: 56\n",
        "         Function evaluations: 95\n",
        "[ 4.99975895  5.00013968]\n"
       ]
      }
     ],
     "prompt_number": 7
    },
    {
     "cell_type": "markdown",
     "metadata": {},
     "source": [
      "####Broyden-Fletcher-Goldfarb-Shanno algorithm"
     ]
    },
    {
     "cell_type": "code",
     "collapsed": false,
     "input": [
      "# Broyden-Fletcher-Goldfarb-Shanno algorithm\n",
      "from scipy.optimize import fmin_bfgs\n",
      "\n",
      "theta = np.array([[0],\n",
      "                  [0]])\n",
      "\n",
      "def J(theta):\n",
      "    return (theta[0] - 5)**2.0 + (theta[1] - 5)**2.0\n",
      "\n",
      "delta = np.array([[0], \n",
      "                  [1]])\n",
      "\n",
      "def deltas(theta):\n",
      "    delta[0] = 2.0*(theta[0] - 5)\n",
      "    delta[1] = 2.0*(theta[1] - 5)\n",
      "    return delta.flatten()\n",
      "\n",
      "# gradient estimated\n",
      "theta_optimized = fmin_bfgs(J, theta)\n",
      "print theta_optimized\n",
      "\n",
      "print \"\\n\"\n",
      "\n",
      "# gradient provided\n",
      "theta_optimized = fmin_bfgs(J, theta, fprime=deltas)\n",
      "print theta_optimized"
     ],
     "language": "python",
     "metadata": {},
     "outputs": [
      {
       "output_type": "stream",
       "stream": "stdout",
       "text": [
        "Optimization terminated successfully.\n",
        "         Current function value: 0.000000\n",
        "         Iterations: 2\n",
        "         Function evaluations: 16\n",
        "         Gradient evaluations: 4\n",
        "[ 4.99999999  4.99999999]\n",
        "\n",
        "\n",
        "Optimization terminated successfully.\n",
        "         Current function value: 0.000000\n",
        "         Iterations: 1\n",
        "         Function evaluations: 3\n",
        "         Gradient evaluations: 3\n",
        "[ 4.9995  4.9995]\n"
       ]
      }
     ],
     "prompt_number": 8
    },
    {
     "cell_type": "markdown",
     "metadata": {},
     "source": [
      "###multiclass classification\n",
      "\n",
      "for example:  \n",
      "email foldering/tagging: work ($y=1$), friends ($y=2$), family ($y=3$), hobby ($y=4$)\n",
      "\n",
      "medical diagrams: not ill ($y=0$), cold ($y=1$), flu ($y=2$)\n",
      "\n",
      "weather: sunny, cloudy, rain, snow\n",
      "\n",
      "####one-vs-all (one-vs-rest)\n",
      "\n",
      "train a logistic regression classifier $h_{\\theta}^{(i)}(x)$ for each class $i$ to predict the probability that $y=1$\n",
      "\n",
      "on a new input $x$, to male a prediction, pick the class $i$ that maximizes (i.e., gives highest probability):  \n",
      "$\\underset{i}{\\text{max}}$ $h_{\\theta}^{(i)}(x))$"
     ]
    },
    {
     "cell_type": "code",
     "collapsed": false,
     "input": [
      "x = np.linspace(0, 3)\n",
      "\n",
      "plt.scatter([1,0.5,0,0.5], [1,2,0.5,1.0], marker='o')\n",
      "plt.scatter([3,2,2.5,2.3], [1,2.5,2,1.5], color='r', marker='x')\n",
      "\n",
      "plt.plot(x,(-x + 3))\n",
      "plt.title(\"Binary Classification\")\n",
      "plt.xlabel(\"$x_{1}$\")\n",
      "plt.ylabel(\"$x_{2}$\")\n",
      "plt.show()"
     ],
     "language": "python",
     "metadata": {},
     "outputs": [
      {
       "metadata": {},
       "output_type": "display_data",
       "png": "[encoded data removed]",
       "text": [
        "<matplotlib.figure.Figure at 0x10cde80d0>"
       ]
      }
     ],
     "prompt_number": 10
    },
    {
     "cell_type": "code",
     "collapsed": false,
     "input": [
      "plt.scatter([1,0.7,0,0.5], [2,2.5,2,2.3], color='g', marker='^')\n",
      "plt.scatter([1,0.5,0,0.5], [1,0.5,0.5,1.0], color='b', marker='s')\n",
      "plt.scatter([3,2.6,2.5,2.3], [1,1.6,1.3,1.5], color='r', marker='x')\n",
      "\n",
      "plt.legend([\"Class 1\",\"Class 2\",\"Class 3\"])\n",
      "plt.title(\"Multi-class Classification\")\n",
      "plt.xlabel(\"$x_{1}$\")\n",
      "plt.ylabel(\"$x_{2}$\")\n",
      "plt.show()"
     ],
     "language": "python",
     "metadata": {},
     "outputs": [
      {
       "metadata": {},
       "output_type": "display_data",
       "png": "[encoded data removed]",
       "text": [
        "<matplotlib.figure.Figure at 0x10ce3c0d0>"
       ]
      }
     ],
     "prompt_number": 11
    },
    {
     "cell_type": "markdown",
     "metadata": {},
     "source": [
      "turn into three binary class classification problems\n",
      "\n",
      "create a \"fake\" training set where classes 2 and 3 get assigned to the negative class (value 0), and class 1 gets assigned to the positive class (value 1)\n",
      "\n",
      "fit a classifier $h_{\\theta}^{(i)}(x)$\n",
      "\n",
      "train a regular logistic regression classifier to compute a decision boundary"
     ]
    },
    {
     "cell_type": "code",
     "collapsed": false,
     "input": [
      "plt.scatter([1,0.7,0,0.5], [2,2.5,2,2.3], color='g', marker='^')\n",
      "plt.scatter([1,0.5,0,0.5,3,2.6,2.5,2.3], [1,0.5,0.5,1.0,1,1.6,1.3,1.5], color='k', marker='o')\n",
      "\n",
      "x = np.linspace(0,3)\n",
      "\n",
      "plt.plot(x,((x/2) + 1))\n",
      "\n",
      "plt.title(r\"$h_{\\theta}^{(1)}(x)$\")\n",
      "plt.xlabel(\"$x_{1}$\")\n",
      "plt.ylabel(\"$x_{2}$\")\n",
      "plt.show()"
     ],
     "language": "python",
     "metadata": {},
     "outputs": [
      {
       "metadata": {},
       "output_type": "display_data",
       "png": "[encoded data removed]",
       "text": [
        "<matplotlib.figure.Figure at 0x10cf10810>"
       ]
      }
     ],
     "prompt_number": 12
    },
    {
     "cell_type": "code",
     "collapsed": false,
     "input": [
      "plt.scatter([1,0.5,0,0.5], [1,0.5,0.5,1.0], color='b', marker='s')\n",
      "plt.scatter([3,2.6,2.5,2.3,1,0.7,0,0.5], [1,1.6,1.3,1.5,2,2.5,2,2.3], color='k', marker='o')\n",
      "\n",
      "x = np.linspace(0,3)\n",
      "\n",
      "plt.plot(x,((-x/2) + 1.7))\n",
      "\n",
      "plt.title(r\"$h_{\\theta}^{(2)}(x)$\")\n",
      "plt.xlabel(\"$x_{1}$\")\n",
      "plt.ylabel(\"$x_{2}$\")\n",
      "plt.show()"
     ],
     "language": "python",
     "metadata": {},
     "outputs": [
      {
       "metadata": {},
       "output_type": "display_data",
       "png": "[encoded data removed]",
       "text": [
        "<matplotlib.figure.Figure at 0x10ce24110>"
       ]
      }
     ],
     "prompt_number": 13
    },
    {
     "cell_type": "code",
     "collapsed": false,
     "input": [
      "plt.scatter([3,2.6,2.5,2.3], [1,1.6,1.3,1.5], color='r', marker='x')\n",
      "plt.scatter([1,0.7,0,0.5,1,0.5,0,0.5], [2,2.5,2,2.3,1,0.5,0.5,1.0], color='k', marker='o')\n",
      "\n",
      "x.shape = (50, )\n",
      "x *= 0 \n",
      "x += 1.5\n",
      "y = np.linspace(0,3)\n",
      "\n",
      "plt.plot(x,y)\n",
      "\n",
      "plt.title(r\"$h_{\\theta}^{(3)}(x)$\")\n",
      "plt.xlabel(\"$x_{1}$\")\n",
      "plt.ylabel(\"$x_{2}$\")\n",
      "plt.show()"
     ],
     "language": "python",
     "metadata": {},
     "outputs": [
      {
       "metadata": {},
       "output_type": "display_data",
       "png": "[encoded data removed]",
       "text": [
        "<matplotlib.figure.Figure at 0x10cedead0>"
       ]
      }
     ],
     "prompt_number": 14
    },
    {
     "cell_type": "markdown",
     "metadata": {},
     "source": [
      "###Regularization\n",
      "\n",
      "underfitting / \"high bias\"  \n",
      "(e.g., a linear model that does not fit a training set well; i.e., there is a strong bias/preconception even in the face of contrary data that the model should be linear)  \n",
      "(e.g., for logistic regression, a simple sigmoid function model)\n",
      "\n",
      "overfitting / \"high variance\"  \n",
      "(e.g., a 4th-order polynomial model, which might fit a curve that pases through all training samples; i.e., there is too much variance, almost as if it could fit any data (it tries too hard); thus, it would fail to generalize to new examples)  \n",
      "(e.g., for logistic regression, a complicated high-order polynomial that fits all training samples)\n",
      "\n",
      "deciding if overfitting: if a lot of features, it's very difficult to plot/visualize to see if overfitting\n",
      "\n",
      "addressing overfitting:  \n",
      "1. reduce number of features, especially if not much training data (disadvantage: throwing away information about a problem)\n",
      "    - manually select which features to keep\n",
      "    - model selection algorithm (later in course)  \n",
      "2. regularization\n",
      "    - keep all the features, but reduce the magnitude/values of parameters $\\theta_{j}$\n",
      "    - works well when we have a lot of features, each of which contributes a bit to predicting $y$\n"
     ]
    },
    {
     "cell_type": "markdown",
     "metadata": {},
     "source": [
      "###regularization: cost function\n",
      "\n",
      "penalize and make $\\theta$ parameter values really small  \n",
      "- this will correspond to a \"simpler\" hypothesis\n",
      "- less prone to overfitting\n",
      "\n",
      "modify cost function to shrink all parameters; add a \"regularization term\"\n",
      "\n",
      "new optimization objective $\\underset{\\theta}{\\text{min}}$ $J(\\theta)$ (minimize this regularized cost function):  \n",
      "$J(\\theta) = \\frac{1}{2m}\\Big[(\\sum\\limits_{i=0}^{m-1}h_{\\theta}(x^{(i)}) - y^{(i)})^{2}) + \\lambda \\sum\\limits_{j=1}^{n} \\theta_{j}^{2}\\Big]$\n",
      "\n",
      "by convention, don't penalize/regularize $\\theta_{0}$ (in practice, the result is not very different)\n",
      "\n",
      "$\\lambda$ is the regularization parameter; it controls a trade-off between two different goals (a) fit training set well, b)keep parameters small)\n",
      "\n",
      "if $\\lambda$ is set extremely large (e.g., $\\lambda = 10^{10}$), then all of the parameters would be close to zero (essentially getting rid of all terms except for $\\theta_{0}$, which would result in underfitting)"
     ]
    },
    {
     "cell_type": "markdown",
     "metadata": {},
     "source": [
      "###gradient descent for linear regression\n",
      "\n",
      "$\\frac{\\partial}{\\partial\\theta_{0}} J(\\theta) = \\frac{1}{m}\\sum\\limits_{i=0}^{m-1}(h_{\\theta}(x^{(i)}) - y^{(i)}) \\cdot x_{0}^{(i)}$\n",
      "\n",
      "$\\frac{\\partial}{\\partial\\theta_{j}} J(\\theta) = \\frac{1}{m}\\sum\\limits_{i=0}^{m-1}(h_{\\theta}(x^{(i)}) - y^{(i)}) \\cdot x_{j}^{(i)}$, where $\\theta$ is regularized\n",
      "\n",
      "repeat {  \n",
      "$\\theta_{0} := \\theta_{0} - \\alpha (\\frac{1}{m}\\sum\\limits_{i=0}^{m-1}(h_{\\theta}(x^{(i)}) - y^{(i)}) \\cdot x_{0}^{(i)})$  \n",
      "$\\theta_{j} := \\theta_{j} - \\alpha \\Big[(\\frac{1}{m}\\sum\\limits_{i=0}^{m-1}(h_{\\theta}(x^{(i)}) - y^{(i)}) \\cdot x_{j}^{(i)}) + \\frac{\\lambda}{m}\\theta_{j}\\Big] \\\\ = \\theta_{j}(1 - \\alpha\\frac{\\lambda}{m}) - \\alpha (\\frac{1}{m}\\sum\\limits_{i=0}^{m-1}(h_{\\theta}(x^{(i)}) - y^{(i)}) \\cdot x_{j}^{(i)})$  \n",
      "$(j=1,2,3,..,n)$   \n",
      "}\n",
      "\n"
     ]
    },
    {
     "cell_type": "markdown",
     "metadata": {},
     "source": [
      "usually, $(1 - \\alpha \\frac{\\lambda}{m}) < 1$, so $\\theta_{j}$ will be made smaller\n",
      "\n",
      "###Normal Equation\n",
      "\n",
      "design matrix ($m \\times (n + 1)$):  \n",
      "$X = \\begin{bmatrix}(x^{(1)})^{T} \\\\ ... \\\\(x^{(m)})^{T} \\end{bmatrix}$\n",
      "\n",
      "each row corresponds to a different training example\n",
      "\n",
      "m-dimensional vector ($\\mathbb{R}^{m}$):  \n",
      "$y = \\begin{bmatrix}y^{(1)} \\\\ ... \\\\y^{(m)}\\end{bmatrix}$\n",
      "\n",
      "contains labels from training set\n",
      "\n",
      "regularized:  \n",
      "$\\theta = (X^{T}X + \\lambda \n",
      "\\begin{bmatrix}\n",
      "0 && 0 && 0 && ... \\\\ \n",
      "0 && 1 && 0 && ... \\\\\n",
      "0 && 0 && 1 && ... \\\\\n",
      "0 && 0 && 0 && ...\n",
      "\\end{bmatrix})^{-1} X^{T}y$\n",
      "\n",
      "the matrix is a $(n+1)\\times(n+1)$\n",
      "\n",
      "if $n = 2$, the matrix will be a $3 \\times 3$\n",
      "\n",
      "\\begin{bmatrix}\n",
      "0 && 0 && 0 \\\\ \n",
      "0 && 1 && 0 \\\\\n",
      "0 && 0 && 1 \\\\\n",
      "\\end{bmatrix}\n",
      "\n",
      "even if $m \\leq n$ (which would normally make $X^{T}X$ non-invertible/singular/degenerate), if $\\lambda > 0$, then \n",
      "$X^{T}X + \\lambda \n",
      "\\begin{bmatrix}\n",
      "0 && 0 && 0 && ... \\\\ \n",
      "0 && 1 && 0 && ... \\\\\n",
      "0 && 0 && 1 && ... \\\\\n",
      "0 && 0 && 0 && ...\n",
      "\\end{bmatrix}$ will be invertible\n"
     ]
    },
    {
     "cell_type": "markdown",
     "metadata": {},
     "source": [
      "###gradient descent for logistic regression\n",
      "\n",
      "$\\frac{\\partial}{\\partial\\theta_{0}} J(\\theta) = \\frac{1}{m}\\sum\\limits_{i=0}^{m-1}(h_{\\theta}(x^{(i)}) - y^{(i)}) \\cdot x_{0}^{(i)}$\n",
      "\n",
      "$\\frac{\\partial}{\\partial\\theta_{j}} J(\\theta) = \\frac{1}{m}\\sum\\limits_{i=0}^{m-1}(h_{\\theta}(x^{(i)}) - y^{(i)}) \\cdot x_{j}^{(i)}$, where $\\theta$ is regularized\n",
      "\n",
      "repeat {  \n",
      "$\\theta_{0} := \\theta_{0} - \\alpha [\\frac{1}{m}\\sum\\limits_{i=0}^{m-1}(h_{\\theta}(x^{(i)}) - y^{(i)}) \\cdot x_{0}^{(i)}]$  \n",
      "$\\theta_{j} := \\theta_{j} - \\alpha [\\frac{1}{m}\\sum\\limits_{i=0}^{m-1}(h_{\\theta}(x^{(i)}) - y^{(i)}) \\cdot x_{j}^{(i)} + \\frac{\\lambda}{m}\\theta_{j}] \\\\ = \\theta_{j}(1 - \\alpha\\frac{\\lambda}{m}) - \\alpha [\\frac{1}{m}\\sum\\limits_{i=0}^{m-1}(h_{\\theta}(x^{(i)}) - y^{(i)}) \\cdot x_{j}^{(i)}]$  \n",
      "$(j=1,2,3,..,n)$   \n",
      "}\n"
     ]
    },
    {
     "cell_type": "markdown",
     "metadata": {},
     "source": [
      "[the summation does not include the regularization term]\n",
      "\n",
      "for advanced optimization, add regularization if it doesn't exist"
     ]
    },
    {
     "cell_type": "markdown",
     "metadata": {},
     "source": [
      "#Neural Networks\n",
      "(an old algorithm; computationally more expensive)  \n",
      "\n",
      "##non-linear hypotheses\n",
      "\n",
      "classification rather than regression  \n",
      "(e.g., predict whether or not a house will be sold in the next 6 months)\n",
      "\n",
      "also, if n is large, it can be computationally too expensive\n",
      "\n",
      "###computer vision\n",
      "\n",
      "##neurons and the brain\n",
      "\n",
      "##model representation\n",
      "\n",
      "neuron (cells in brain)\n",
      "- computation (in nucleus)\n",
      "- input wires (dendrites; accepts messages)\n",
      "- output wire (axon; send messages [spikes/electric pulses] to other neurons)\n",
      "\n",
      "artificial neural network\n",
      "\n",
      "artificial neuron model: logistic unit\n",
      "\n",
      "a sigmoid (logistic) activation function\n",
      "\n"
     ]
    },
    {
     "cell_type": "code",
     "collapsed": false,
     "input": [],
     "language": "python",
     "metadata": {},
     "outputs": [],
     "prompt_number": 14
    }
   ],
   "metadata": {}
  }
 ]
}